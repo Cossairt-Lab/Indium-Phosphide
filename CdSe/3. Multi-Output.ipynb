{
 "cells": [
  {
   "cell_type": "markdown",
   "metadata": {},
   "source": [
    "#### In this notebook different models will be use to predict multioutput :diameter, absrobance, and PL at once.\n",
    "* Optimization will be run to find the optimized estimator, max_features, and random_state number \n",
    "* The skill of the model will be reported as an error in those predictions: \n",
    "    * MAE\n",
    "    * R2"
   ]
  },
  {
   "cell_type": "code",
   "execution_count": 1,
   "metadata": {},
   "outputs": [],
   "source": [
    "import numpy as np \n",
    "import pandas as pd\n",
    "import os\n",
    "import joblib\n",
    "import sklearn \n",
    "import matplotlib\n",
    "from matplotlib import pyplot as plt\n",
    "\n",
    "from sklearn.model_selection import train_test_split\n",
    "\n",
    "#Regressions:\n",
    "\n",
    "from sklearn.multioutput import MultiOutputRegressor\n",
    "\n",
    "from sklearn.neighbors import KNeighborsRegressor\n",
    "from sklearn.linear_model import Ridge\n",
    "from sklearn.linear_model import Lasso\n",
    "from sklearn.linear_model import ElasticNet\n",
    "from sklearn.linear_model import LinearRegression\n",
    "from sklearn.linear_model import RidgeCV\n",
    "from sklearn.ensemble import ExtraTreesRegressor\n",
    "from sklearn.ensemble import GradientBoostingRegressor\n",
    "from sklearn.ensemble import RandomForestRegressor\n",
    "from sklearn.ensemble import AdaBoostRegressor\n",
    "from sklearn.tree import DecisionTreeRegressor\n",
    "\n",
    "#Metric\n",
    "from sklearn.metrics import mean_squared_error\n",
    "from sklearn.metrics import mean_absolute_error\n",
    "from sklearn.metrics import r2_score\n",
    "\n",
    "\n",
    "from pandas import DataFrame\n",
    "\n",
    "\n",
    "# Show progress bar\n",
    "from tqdm import tqdm"
   ]
  },
  {
   "cell_type": "code",
   "execution_count": 3,
   "metadata": {},
   "outputs": [],
   "source": [
    "df = pd.read_csv('dataset_CdSe_augmented.csv')"
   ]
  },
  {
   "cell_type": "code",
   "execution_count": 4,
   "metadata": {},
   "outputs": [],
   "source": [
    "input_col = ['Growth Temp (Celsius)', 'Metal_mmol (mmol)', 'Chalcogen_mmol (mmol)',\n",
    "             'Amines_mmol (mmol)', 'CA_mmol (mmol)', 'Phosphines_mmol (mmol)', \n",
    "             'S_I_amount (g)', 'S_II_amount (g)', 'Time_min (min)', \n",
    "             'x0_cadmium acetate', 'x0_cadmium acetate dihydrate', \n",
    "             'x0_cadmium oxide', 'x0_cadmium stearate', 'x0_dimethylcadmium', \n",
    "             'x1_None', 'x1_benzoic acid', 'x1_dodecylphosphonic acid', \n",
    "             'x1_ethylphosphonic acid', 'x1_lauric acid', \n",
    "             'x1_myrstic acid', 'x1_oleic acid', 'x1_stearic acid',\n",
    "             'x2_2-6-dimethylpyridine', 'x2_None', 'x2_aniline', \n",
    "             'x2_benzylamine', 'x2_dioctylamine/hexadecylamine',\n",
    "             'x2_dodecylamine', 'x2_heptylamine', 'x2_hexadecylamine', \n",
    "             'x2_octadecylamine', 'x2_octylamine', 'x2_oleylamine', \n",
    "             'x2_pyridine', 'x2_trioctylamine', 'x3_None', 'x3_diphenylphosphine', \n",
    "             'x3_tributylphosphine', 'x3_trioctylphosphine', \n",
    "             'x3_triphenylphosphine', 'x4_None', 'x4_liquid parafin', \n",
    "             'x4_octadecene', 'x4_phenyl ether', 'x4_trioctylphosphine oxide', \n",
    "             'x5_None', 'x5_phosphinic acid', 'x5_trioctylphosphine oxide'\n",
    "            ]\n",
    "\n",
    "output_col = ['diameter_nm','abs_nm', 'emission_nm']\n",
    "\n",
    "X = df[input_col]\n",
    "\n",
    "y = df[output_col]\n",
    "\n",
    "\n",
    "X_train, X_test, y_train, y_test = train_test_split(X, y, test_size=0.2, random_state=45, shuffle=True)"
   ]
  },
  {
   "cell_type": "code",
   "execution_count": 5,
   "metadata": {},
   "outputs": [
    {
     "data": {
      "text/html": [
       "<div>\n",
       "<style scoped>\n",
       "    .dataframe tbody tr th:only-of-type {\n",
       "        vertical-align: middle;\n",
       "    }\n",
       "\n",
       "    .dataframe tbody tr th {\n",
       "        vertical-align: top;\n",
       "    }\n",
       "\n",
       "    .dataframe thead th {\n",
       "        text-align: right;\n",
       "    }\n",
       "</style>\n",
       "<table border=\"1\" class=\"dataframe\">\n",
       "  <thead>\n",
       "    <tr style=\"text-align: right;\">\n",
       "      <th></th>\n",
       "      <th>diameter_nm</th>\n",
       "      <th>abs_nm</th>\n",
       "      <th>emission_nm</th>\n",
       "    </tr>\n",
       "  </thead>\n",
       "  <tbody>\n",
       "    <tr>\n",
       "      <th>0</th>\n",
       "      <td>3.41</td>\n",
       "      <td>566</td>\n",
       "      <td>575.000000</td>\n",
       "    </tr>\n",
       "    <tr>\n",
       "      <th>1</th>\n",
       "      <td>2.50</td>\n",
       "      <td>474</td>\n",
       "      <td>617.000000</td>\n",
       "    </tr>\n",
       "    <tr>\n",
       "      <th>2</th>\n",
       "      <td>2.60</td>\n",
       "      <td>526</td>\n",
       "      <td>556.000000</td>\n",
       "    </tr>\n",
       "    <tr>\n",
       "      <th>3</th>\n",
       "      <td>3.20</td>\n",
       "      <td>559</td>\n",
       "      <td>580.000000</td>\n",
       "    </tr>\n",
       "    <tr>\n",
       "      <th>4</th>\n",
       "      <td>3.60</td>\n",
       "      <td>574</td>\n",
       "      <td>598.000000</td>\n",
       "    </tr>\n",
       "    <tr>\n",
       "      <th>...</th>\n",
       "      <td>...</td>\n",
       "      <td>...</td>\n",
       "      <td>...</td>\n",
       "    </tr>\n",
       "    <tr>\n",
       "      <th>191</th>\n",
       "      <td>1.70</td>\n",
       "      <td>450</td>\n",
       "      <td>537.166667</td>\n",
       "    </tr>\n",
       "    <tr>\n",
       "      <th>192</th>\n",
       "      <td>2.50</td>\n",
       "      <td>530</td>\n",
       "      <td>566.555556</td>\n",
       "    </tr>\n",
       "    <tr>\n",
       "      <th>193</th>\n",
       "      <td>3.50</td>\n",
       "      <td>585</td>\n",
       "      <td>582.777778</td>\n",
       "    </tr>\n",
       "    <tr>\n",
       "      <th>194</th>\n",
       "      <td>3.70</td>\n",
       "      <td>590</td>\n",
       "      <td>586.777778</td>\n",
       "    </tr>\n",
       "    <tr>\n",
       "      <th>195</th>\n",
       "      <td>3.90</td>\n",
       "      <td>595</td>\n",
       "      <td>586.666667</td>\n",
       "    </tr>\n",
       "  </tbody>\n",
       "</table>\n",
       "<p>196 rows × 3 columns</p>\n",
       "</div>"
      ],
      "text/plain": [
       "     diameter_nm  abs_nm  emission_nm\n",
       "0           3.41     566   575.000000\n",
       "1           2.50     474   617.000000\n",
       "2           2.60     526   556.000000\n",
       "3           3.20     559   580.000000\n",
       "4           3.60     574   598.000000\n",
       "..           ...     ...          ...\n",
       "191         1.70     450   537.166667\n",
       "192         2.50     530   566.555556\n",
       "193         3.50     585   582.777778\n",
       "194         3.70     590   586.777778\n",
       "195         3.90     595   586.666667\n",
       "\n",
       "[196 rows x 3 columns]"
      ]
     },
     "execution_count": 5,
     "metadata": {},
     "output_type": "execute_result"
    }
   ],
   "source": [
    "y"
   ]
  },
  {
   "cell_type": "markdown",
   "metadata": {},
   "source": [
    "# Preliminary evaluatiopn of some regressions"
   ]
  },
  {
   "cell_type": "markdown",
   "metadata": {},
   "source": [
    "Note: The MSE or r2 of the multiouput regression outcomes are the average of all MSE or r2 outputs. "
   ]
  },
  {
   "cell_type": "code",
   "execution_count": 6,
   "metadata": {},
   "outputs": [
    {
     "name": "stdout",
     "output_type": "stream",
     "text": [
      "Extra trees \n",
      "\n",
      " R^2 for diameter is  0.9168744937974438 \n",
      " R^2 for Absorbance is  0.9293147518392567 \n",
      " R^2 for PL is  0.6768998327171732 \n",
      " \n",
      "\n",
      "K-nn \n",
      "\n",
      " R^2 for diameter is  0.5299871114681851 \n",
      " R^2 for Absorbance is  0.5635215932075304 \n",
      " R^2 for PL is  0.24204158072066917 \n",
      " \n",
      "\n",
      "Linear regression \n",
      "\n",
      " R^2 for diameter is  0.2967892074509375 \n",
      " R^2 for Absorbance is  0.43087308864726737 \n",
      " R^2 for PL is  0.26041367605528687 \n",
      " \n",
      "\n",
      "Ridge \n",
      "\n",
      " R^2 for diameter is  0.3470856223592701 \n",
      " R^2 for Absorbance is  0.4614218649693882 \n",
      " R^2 for PL is  0.20534611051519314 \n",
      " \n",
      "\n",
      "Lasso \n",
      "\n",
      " R^2 for diameter is  -0.06539792996873395 \n",
      " R^2 for Absorbance is  0.4781862565639421 \n",
      " R^2 for PL is  0.2915620876642667 \n",
      " \n",
      "\n",
      "ElasticNet \n",
      "\n",
      " R^2 for diameter is  -0.006629524807860276 \n",
      " R^2 for Absorbance is  0.39045072048176377 \n",
      " R^2 for PL is  0.1689674258804309 \n",
      " \n",
      "\n",
      "RandomForestRegressor \n",
      "\n",
      " R^2 for diameter is  0.5305174868109532 \n",
      " R^2 for Absorbance is  0.7074737867196792 \n",
      " R^2 for PL is  0.4790905723839334 \n",
      " \n",
      "\n",
      "Decision Tree Regressor \n",
      "\n",
      " R^2 for diameter is  0.5395546205027881 \n",
      " R^2 for Absorbance is  0.7472958596772483 \n",
      " R^2 for PL is  0.3663391374967463 \n",
      " \n",
      "\n",
      "MultiO/P GBR \n",
      "\n",
      " R^2 for diameter is  0.45180255691304727 \n",
      " R^2 for Absorbance is  0.4216019847762895 \n",
      " R^2 for PL is  0.2606029318080588 \n",
      " \n",
      "\n",
      "MultiO/P AdaB \n",
      "\n",
      " R^2 for diameter is  0.6521911164704972 \n",
      " R^2 for Absorbance is  0.7213847318271318 \n",
      " R^2 for PL is  0.1632299400403161 \n",
      " \n",
      "\n"
     ]
    }
   ],
   "source": [
    "#This is used to roughly show which regression performs better.\n",
    "# Testing Regressions:\n",
    "\n",
    "REGRESSIONS = {\n",
    "    \"Extra trees\": ExtraTreesRegressor(n_estimators=10,\n",
    "                                       max_features=32,     \n",
    "                                       random_state=44),\n",
    "    \"K-nn\": KNeighborsRegressor(),                          \n",
    "    \"Linear regression\": LinearRegression(),\n",
    "    \"Ridge\": RidgeCV(),\n",
    "    \"Lasso\": Lasso(),\n",
    "    \"ElasticNet\": ElasticNet(random_state=0),\n",
    "    \"RandomForestRegressor\": RandomForestRegressor(max_depth=4, random_state=2),\n",
    "    \"Decision Tree Regressor\":DecisionTreeRegressor(max_depth=5),\n",
    "    \"MultiO/P GBR\" :MultiOutputRegressor(GradientBoostingRegressor(n_estimators=5)),\n",
    "    \"MultiO/P AdaB\" :MultiOutputRegressor(AdaBoostRegressor(n_estimators=5))\n",
    "            }\n",
    "# r2 is used to evaluate the performance of all regressions.\n",
    "\n",
    "r2_list = list()\n",
    "\n",
    "for name, reg in REGRESSIONS.items():     \n",
    "    reg.fit(X_train, y_train)                 \n",
    "    y_pred = pd.DataFrame(reg.predict(X_test))\n",
    "    \n",
    "    print(name, '\\n')\n",
    "    \n",
    "# This loop will show r2 for each outcome\n",
    "    for column in range(0, 3):\n",
    "        r2 = r2_score(y_test.iloc[:, column], y_pred.iloc[:, column])\n",
    "        r2_list.append(r2)\n",
    "    \n",
    "    print(' R^2 for diameter is ', r2_list[0], '\\n',\n",
    "          'R^2 for Absorbance is ', r2_list[1], '\\n',\n",
    "          'R^2 for PL is ', r2_list[2], '\\n', '\\n', \n",
    "         )\n",
    "    del r2_list[:] #reset the list for the next regression"
   ]
  },
  {
   "cell_type": "markdown",
   "metadata": {},
   "source": [
    "From the R2 values above, Extra Trees, Random Forest, Ridge, Decision Tree, and MultiO/P AdaB give the best predictions.\n",
    "\n",
    "Now, we are going to optimize each of the the above regressions by grid searching the parameters"
   ]
  },
  {
   "cell_type": "markdown",
   "metadata": {},
   "source": [
    "# Extra Trees"
   ]
  },
  {
   "cell_type": "code",
   "execution_count": 8,
   "metadata": {},
   "outputs": [
    {
     "name": "stderr",
     "output_type": "stream",
     "text": [
      "100%|██████████| 30/30 [08:47<00:00, 17.59s/it]"
     ]
    },
    {
     "name": "stdout",
     "output_type": "stream",
     "text": [
      "7.814118353909461 6 28 46\n"
     ]
    },
    {
     "name": "stderr",
     "output_type": "stream",
     "text": [
      "\n"
     ]
    }
   ],
   "source": [
    "\n",
    "min_mae = 99999\n",
    "\n",
    "min_i, min_j, min_k  = 0, 0, 0\n",
    "\n",
    "for i in tqdm(range(1, 31)):\n",
    "    for j in range(1, 31):\n",
    "        for k in range(2, 60, 2):\n",
    "            \n",
    "            ET_reg = ExtraTreesRegressor(n_estimators=i,\n",
    "                                         max_features=j,     \n",
    "                                         random_state=k).fit(X_train, y_train)\n",
    "            \n",
    "            \n",
    "            ET_y_pred = ET_reg.predict(X_test)\n",
    "            \n",
    "            ET_mae = mean_absolute_error(y_test, pd.DataFrame(ET_y_pred))\n",
    "            \n",
    "            if (min_mae > ET_mae):\n",
    "                min_mae = ET_mae\n",
    "                min_i = i\n",
    "                min_j = j\n",
    "                min_k = k\n",
    "            \n",
    "print(min_mae, min_i, min_j, min_k)"
   ]
  },
  {
   "cell_type": "markdown",
   "metadata": {},
   "source": [
    "From the results above the parameters are applied to the model"
   ]
  },
  {
   "cell_type": "code",
   "execution_count": 39,
   "metadata": {},
   "outputs": [
    {
     "name": "stdout",
     "output_type": "stream",
     "text": [
      "diameter:  r2: 0.819568908656058 ; MSE: 0.3403719210833332 ; RMSE: 0.5834140220146694 ; MAE: 0.33896000000000004\n",
      "abs:  r2: 0.9371216835959785 ; MSE: 311.1854166666665 ; RMSE: 17.640448312519343 ; MAE: 13.412499999999994\n",
      "emission:  r2: 0.8188539549567152 ; MSE: 252.48458028501742 ; RMSE: 15.889763380397374 ; MAE: 9.69089506172839\n"
     ]
    }
   ],
   "source": [
    "ET_reg = ExtraTreesRegressor(n_estimators=6,\n",
    "                            max_features=28,     \n",
    "                            random_state=46).fit(X_train, y_train)\n",
    "            \n",
    "            \n",
    "ET_y_pred = ET_reg.predict(X_test)\n",
    "\n",
    "outputs = ('diameter: ', 'abs: ', 'emission: ')\n",
    "\n",
    "for i in range(0, 3):\n",
    "    ET_r2 = r2_score(y_test.iloc[:, i], pd.DataFrame(ET_y_pred).loc[:, i])\n",
    "    ET_MSE = mean_squared_error(y_test.iloc[:, i], pd.DataFrame(ET_y_pred).loc[:, i])\n",
    "    ET_RMSE = mean_squared_error(y_test.iloc[:, i], pd.DataFrame(ET_y_pred).loc[:, i], squared=False)\n",
    "    ET_MAE = mean_absolute_error(y_test.iloc[:, i], pd.DataFrame(ET_y_pred).loc[:, i])\n",
    "    print(outputs[i], 'r2:', ET_r2, '; MSE:', ET_MSE, '; RMSE:', ET_RMSE, '; MAE:', ET_MAE )"
   ]
  },
  {
   "cell_type": "code",
   "execution_count": 49,
   "metadata": {},
   "outputs": [
    {
     "data": {
      "image/png": "[encoded data removed]",
      "text/plain": [
       "<Figure size 1224x504 with 3 Axes>"
      ]
     },
     "metadata": {
      "needs_background": "light"
     },
     "output_type": "display_data"
    }
   ],
   "source": [
    "fig, (ax1, ax2, ax3) = plt.subplots(1, 3, figsize=(17,7))\n",
    "fig.suptitle('Extra Trees', fontsize=25)\n",
    "\n",
    "ax1.plot(y_test.iloc[:, 0], pd.DataFrame(ET_y_pred).loc[:, 0],'o')\n",
    "ax1.plot([1,9],[1,9], color = 'r')\n",
    "ax1.set_title('Diameter',fontsize=13)\n",
    "ax1.set(xlabel='Observed Values (nm)', ylabel='Predicted Values (nm)')\n",
    "\n",
    "\n",
    "ax2.plot(y_test.iloc[:, 1], pd.DataFrame(ET_y_pred).loc[:, 1],'o')\n",
    "ax2.plot([350,720],[350,720], color = 'r')\n",
    "ax2.set_title('Absorbance', fontsize=15)\n",
    "ax2.set(xlabel='Observed Values (nm)', ylabel='Predicted Values (nm)')\n",
    "\n",
    "ax3.plot(y_test.iloc[:, 2], pd.DataFrame(ET_y_pred).loc[:, 2],'o')\n",
    "ax3.plot([450,660],[450,660], color = 'r')\n",
    "ax3.set_title('Emission', fontsize=15)\n",
    "ax3.set(xlabel='Observed Values (nm)', ylabel='Predicted Values (nm)')\n",
    "fig.tight_layout()"
   ]
  },
  {
   "cell_type": "markdown",
   "metadata": {},
   "source": [
    "# Random Forest"
   ]
  },
  {
   "cell_type": "code",
   "execution_count": 16,
   "metadata": {},
   "outputs": [
    {
     "name": "stderr",
     "output_type": "stream",
     "text": [
      "100%|██████████| 26/26 [06:24<00:00, 14.79s/it]"
     ]
    },
    {
     "name": "stdout",
     "output_type": "stream",
     "text": [
      "9.96718625385802 13 16 34\n"
     ]
    },
    {
     "name": "stderr",
     "output_type": "stream",
     "text": [
      "\n"
     ]
    }
   ],
   "source": [
    "min_mae = 99999\n",
    "\n",
    "min_i, min_j, min_k  = 0, 0, 0\n",
    "\n",
    "for i in tqdm(range(5, 31)):\n",
    "    for j in range(5, 31):\n",
    "        for k in range(2, 44, 2):\n",
    "                RF_reg = RandomForestRegressor(max_depth=i, \n",
    "                                                n_estimators=j, \n",
    "                                                max_features=k,\n",
    "                                                random_state=45).fit(X_train, y_train)\n",
    "\n",
    "                RF_y_pred = RF_reg.predict(X_test)\n",
    "\n",
    "                RF_mae = mean_absolute_error(y_test, pd.DataFrame(RF_y_pred))\n",
    "\n",
    "                if (min_mae > RF_mae):\n",
    "                    min_mae = RF_mae\n",
    "                    min_i = i\n",
    "                    min_j = j\n",
    "                    min_k = k\n",
    "            \n",
    "print(min_mae, min_i, min_j, min_k)"
   ]
  },
  {
   "cell_type": "markdown",
   "metadata": {},
   "source": [
    "From the results above (*take a long time to run*) the parameters are applied to the model"
   ]
  },
  {
   "cell_type": "code",
   "execution_count": 23,
   "metadata": {},
   "outputs": [
    {
     "name": "stdout",
     "output_type": "stream",
     "text": [
      "diameter:  r2: 0.8423084985072529 ; MSE: 0.2974751130850695 ; RMSE: 0.5454127914571398 ; MAE: 0.3443336458333334\n",
      "abs :  r2: 0.8928561350803388 ; MSE: 530.2560589260524 ; RMSE: 23.02728943940325 ; MAE: 16.300325520833333\n",
      "emission:  r2: 0.7376359694612387 ; MSE: 365.6876533883803 ; RMSE: 19.122961417844785 ; MAE: 13.256899594907395\n"
     ]
    }
   ],
   "source": [
    "RF_reg = RandomForestRegressor(max_depth=13, \n",
    "                               n_estimators=16, \n",
    "                               max_features=34,\n",
    "                               random_state=45).fit(X_train, y_train)\n",
    "            \n",
    "RF_y_pred = RF_reg.predict(X_test)\n",
    "\n",
    "outputs = ('diameter: ', 'abs : ', 'emission: ')\n",
    "for i in range(0, 3):\n",
    "    RF_r2 = r2_score(y_test.iloc[:, i], pd.DataFrame(RF_y_pred).loc[:, i])\n",
    "    RF_MSE = mean_squared_error(y_test.iloc[:, i], pd.DataFrame(RF_y_pred).loc[:, i])\n",
    "    RF_RMSE = mean_squared_error(y_test.iloc[:, i], pd.DataFrame(RF_y_pred).loc[:, i], squared=False)\n",
    "    RF_MAE = mean_absolute_error(y_test.iloc[:, i], pd.DataFrame(RF_y_pred).loc[:, i])\n",
    "    print(outputs[i], 'r2:', RF_r2, '; MSE:', RF_MSE, '; RMSE:', RF_RMSE, '; MAE:', RF_MAE)"
   ]
  },
  {
   "cell_type": "markdown",
   "metadata": {},
   "source": [
    "# Decision Trees"
   ]
  },
  {
   "cell_type": "code",
   "execution_count": 22,
   "metadata": {},
   "outputs": [
    {
     "name": "stderr",
     "output_type": "stream",
     "text": [
      "100%|██████████| 10/10 [04:41<00:00, 28.12s/it]"
     ]
    },
    {
     "name": "stdout",
     "output_type": "stream",
     "text": [
      "11.593633053016944 7 10 59\n"
     ]
    },
    {
     "name": "stderr",
     "output_type": "stream",
     "text": [
      "\n"
     ]
    }
   ],
   "source": [
    "min_mae = 99999\n",
    "\n",
    "min_i, min_j, min_k  = 0, 0, 0\n",
    "\n",
    "for i in tqdm(range(5, 15)):\n",
    "    for j in range(5, 15):\n",
    "        for k in range(40, 60):\n",
    "            for m in range (10, 50, 2):\n",
    "                DT_reg = DecisionTreeRegressor(max_depth=i, \n",
    "                                               max_features=j,\n",
    "                                               random_state=k, \n",
    "                                               max_leaf_nodes=m).fit(X_train, y_train)\n",
    "\n",
    "                DT_y_pred = DT_reg.predict(X_test)\n",
    "\n",
    "                DT_mae = mean_absolute_error(y_test, pd.DataFrame(DT_y_pred))\n",
    "\n",
    "                if (min_mae > DT_mae):\n",
    "                    min_mae = DT_mae\n",
    "                    min_i = i\n",
    "                    min_j = j\n",
    "                    min_k = k\n",
    "            \n",
    "print(min_mae, min_i, min_j, min_k)"
   ]
  },
  {
   "cell_type": "markdown",
   "metadata": {},
   "source": [
    "From the results above the parameters are applied to the model"
   ]
  },
  {
   "cell_type": "markdown",
   "metadata": {},
   "source": [
    "# AdaBoost Regressor"
   ]
  },
  {
   "cell_type": "code",
   "execution_count": 27,
   "metadata": {},
   "outputs": [
    {
     "name": "stderr",
     "output_type": "stream",
     "text": [
      "100%|██████████| 10/10 [45:58<00:00, 275.89s/it]"
     ]
    },
    {
     "name": "stdout",
     "output_type": "stream",
     "text": [
      "99999 14 1.9800000000000004 exponential 59\n"
     ]
    },
    {
     "name": "stderr",
     "output_type": "stream",
     "text": [
      "\n"
     ]
    }
   ],
   "source": [
    "min_mae = 99999\n",
    "\n",
    "min_i, min_j, min_k, min_m  = 0, 0, 0, 0\n",
    "\n",
    "for i in tqdm(range(5, 15)):\n",
    "    for j in np.arange(0.1, 2.0, 0.02):\n",
    "        for k in ('linear', 'square', 'exponential'):\n",
    "            for m in range(40, 60):\n",
    "                AB_reg = MultiOutputRegressor(AdaBoostRegressor(n_estimators=i, \n",
    "                                                                learning_rate=j, \n",
    "                                                                loss=k, \n",
    "                                                                random_state=m)).fit(X_train, y_train)\n",
    "\n",
    "                AB_y_pred = AB_reg.predict(X_test)\n",
    "\n",
    "                AB_mae = mean_absolute_error(y_test, pd.DataFrame(AB_y_pred))\n",
    "\n",
    "                if (min_mae > AB_mae):\n",
    "                    min_r2 = AB_mae\n",
    "                    min_i = i\n",
    "                    min_j = j\n",
    "                    min_k = k\n",
    "                    min_m = m\n",
    "            \n",
    "print(min_mae, min_i, min_j, min_k, min_m )"
   ]
  },
  {
   "cell_type": "markdown",
   "metadata": {},
   "source": [
    "# Ridge"
   ]
  },
  {
   "cell_type": "code",
   "execution_count": 32,
   "metadata": {
    "scrolled": true
   },
   "outputs": [
    {
     "name": "stderr",
     "output_type": "stream",
     "text": [
      "100%|██████████| 98/98 [00:35<00:00,  2.76it/s]"
     ]
    },
    {
     "name": "stdout",
     "output_type": "stream",
     "text": [
      "21.131585574771567 0.6799999999999999 20\n"
     ]
    },
    {
     "name": "stderr",
     "output_type": "stream",
     "text": [
      "\n"
     ]
    }
   ],
   "source": [
    "min_mae = 99999\n",
    "\n",
    "min_i, min_j = 0, 0\n",
    "\n",
    "for i in tqdm(np.arange(0.04, 2.00, 0.02)):\n",
    "    for j in range(20, 60):\n",
    "        R_reg =  Ridge(alpha=i,\n",
    "                       random_state=j).fit(X_train, y_train)\n",
    "            \n",
    "            \n",
    "        R_y_pred = R_reg.predict(X_test)\n",
    "            \n",
    "        R_mae = mean_absolute_error(y_test, pd.DataFrame(R_y_pred))\n",
    "            \n",
    "        if (min_mae > R_mae):\n",
    "            min_mae = R_mae\n",
    "            min_i = i\n",
    "            min_j = j\n",
    "            \n",
    "print(min_mae, min_i, min_j)"
   ]
  },
  {
   "cell_type": "markdown",
   "metadata": {},
   "source": [
    "From the results above the parameters are applied to the model"
   ]
  },
  {
   "cell_type": "markdown",
   "metadata": {},
   "source": [
    "# K Neighbors"
   ]
  },
  {
   "cell_type": "code",
   "execution_count": 33,
   "metadata": {},
   "outputs": [
    {
     "name": "stderr",
     "output_type": "stream",
     "text": [
      "100%|██████████| 39/39 [00:23<00:00,  1.64it/s]"
     ]
    },
    {
     "name": "stdout",
     "output_type": "stream",
     "text": [
      "13.463965802469135 1 13\n"
     ]
    },
    {
     "name": "stderr",
     "output_type": "stream",
     "text": [
      "\n"
     ]
    }
   ],
   "source": [
    "min_mae = 9999\n",
    "\n",
    "min_i = 0\n",
    "\n",
    "min_j = 0\n",
    "\n",
    "for i in tqdm(range(1, 40)):\n",
    "    for j in range(1, 40):\n",
    "\n",
    "        KNN_reg = KNeighborsRegressor(n_neighbors=i, \n",
    "                                      p=j).fit(X_train, y_train)\n",
    "\n",
    "        KNN_y_pred = KNN_reg.predict(X_test)\n",
    "\n",
    "        KNN_mae = mean_absolute_error(y_test, pd.DataFrame(KNN_y_pred))\n",
    "\n",
    "        if (min_mae > KNN_mae):\n",
    "                min_mae = KNN_mae\n",
    "                min_i = i\n",
    "                min_j = j\n",
    "\n",
    "print(min_mae, min_i, min_j)"
   ]
  },
  {
   "cell_type": "markdown",
   "metadata": {},
   "source": [
    "### Extra Trees is the best model\n"
   ]
  },
  {
   "cell_type": "code",
   "execution_count": 50,
   "metadata": {},
   "outputs": [],
   "source": [
    "ET_reg = ExtraTreesRegressor(n_estimators=6,\n",
    "                            max_features=28,     \n",
    "                            random_state=46).fit(X_train, y_train)\n",
    "            \n",
    "            \n",
    "ET_y_pred = ET_reg.predict(X_test)"
   ]
  },
  {
   "cell_type": "code",
   "execution_count": 59,
   "metadata": {},
   "outputs": [
    {
     "data": {
      "text/plain": [
       "['./model_CdSe_MO_ExtraTrees.joblib']"
      ]
     },
     "execution_count": 59,
     "metadata": {},
     "output_type": "execute_result"
    }
   ],
   "source": [
    "joblib.dump(ET_reg, \"./model_CdSe_MO_ExtraTrees.joblib\")"
   ]
  },
  {
   "cell_type": "markdown",
   "metadata": {},
   "source": [
    "### Feature Importance\n"
   ]
  },
  {
   "cell_type": "code",
   "execution_count": 55,
   "metadata": {
    "scrolled": true
   },
   "outputs": [
    {
     "data": {
      "text/plain": [
       "[('Time_min (min)', 0.34433869984018867),\n",
       " ('Growth Temp (Celsius)', 0.21176488739916322),\n",
       " ('x1_benzoic acid', 0.06798686991765256),\n",
       " ('x2_dodecylamine', 0.06798686991765089),\n",
       " ('x1_dodecylphosphonic acid', 0.02942719051362776),\n",
       " ('x1_myrstic acid', 0.02578226392366001),\n",
       " ('Chalcogen_mmol (mmol)', 0.024358162690456858),\n",
       " ('x3_None', 0.021078533964139116),\n",
       " ('x4_phenyl ether', 0.020580994944756566),\n",
       " ('S_I_amount (g)', 0.01945939149939365),\n",
       " ('x2_hexadecylamine', 0.017480683790055674),\n",
       " ('x0_cadmium acetate', 0.017347029218349113),\n",
       " ('Metal_mmol (mmol)', 0.012889293653131252),\n",
       " ('x3_triphenylphosphine', 0.012280333591654426),\n",
       " ('x3_trioctylphosphine', 0.009846817738903776),\n",
       " ('x5_trioctylphosphine oxide', 0.009736523114204757),\n",
       " ('Phosphines_mmol (mmol)', 0.009002235159191492),\n",
       " ('x1_stearic acid', 0.008078092391377488),\n",
       " ('Amines_mmol (mmol)', 0.007935617742527252),\n",
       " ('x0_cadmium oxide', 0.0075441952250496795),\n",
       " ('S_II_amount (g)', 0.007366955670698844),\n",
       " ('x4_trioctylphosphine oxide', 0.006988847382810688),\n",
       " ('x4_octadecene', 0.006050139473614658),\n",
       " ('x2_dioctylamine/hexadecylamine', 0.005004529751570707),\n",
       " ('CA_mmol (mmol)', 0.004996095838980266),\n",
       " ('x4_None', 0.0034275088985744333),\n",
       " ('x0_cadmium stearate', 0.0033667784496329723),\n",
       " ('x0_dimethylcadmium', 0.003362640339973881),\n",
       " ('x3_tributylphosphine', 0.0030885886918957622),\n",
       " ('x2_None', 0.0030780564676212703),\n",
       " ('x5_phosphinic acid', 0.002059903954120004),\n",
       " ('x5_None', 0.0018451216386451454),\n",
       " ('x2_octadecylamine', 0.0016493235964920507),\n",
       " ('x1_oleic acid', 0.001055796416252232),\n",
       " ('x3_diphenylphosphine', 0.001044069766009289),\n",
       " ('x1_lauric acid', 0.00039565334723532224),\n",
       " ('x1_ethylphosphonic acid', 0.000286321209594635),\n",
       " ('x1_None', 2.3830997222550695e-05),\n",
       " ('x4_liquid parafin', 5.151873921122187e-06),\n",
       " ('x0_cadmium acetate dihydrate', 0.0),\n",
       " ('x2_2-6-dimethylpyridine', 0.0),\n",
       " ('x2_aniline', 0.0),\n",
       " ('x2_benzylamine', 0.0),\n",
       " ('x2_heptylamine', 0.0),\n",
       " ('x2_octylamine', 0.0),\n",
       " ('x2_oleylamine', 0.0),\n",
       " ('x2_pyridine', 0.0),\n",
       " ('x2_trioctylamine', 0.0)]"
      ]
     },
     "execution_count": 55,
     "metadata": {},
     "output_type": "execute_result"
    }
   ],
   "source": [
    "importance_dict = dict()\n",
    "for i in range(0,48):\n",
    "    importance_dict[input_col[i]] = ET_reg.feature_importances_[i]\n",
    "\n",
    "sorted_importance = sorted(importance_dict.items(), key=lambda x: x[1], reverse=True)\n",
    "\n",
    "top5 = DataFrame(sorted_importance[0:5], columns=['features', 'importance score'])\n",
    "\n",
    "others = DataFrame(sorted_importance[5:], columns=['features', 'importance score'])\n",
    "\n",
    "combined_others = pd.DataFrame(data = {\n",
    "    'features' : ['others'],\n",
    "    'importance score' : [others['importance score'].sum()]\n",
    "})\n",
    "\n",
    "#combining top 5 with others\n",
    "imp_score = pd.concat([top5, combined_others])\n",
    "\n",
    "sorted_importance"
   ]
  },
  {
   "cell_type": "code",
   "execution_count": 58,
   "metadata": {},
   "outputs": [
    {
     "data": {
      "image/png": "[encoded data removed]",
      "text/plain": [
       "<Figure size 1490.4x595.44 with 1 Axes>"
      ]
     },
     "metadata": {},
     "output_type": "display_data"
    }
   ],
   "source": [
    "top7 = DataFrame(sorted_importance[0:7], columns=['features', 'importance score'])\n",
    "\n",
    "\n",
    "\n",
    "import seaborn as sns\n",
    "\n",
    "a4_dims = (20.7, 8.27)\n",
    "fig, ax = plt.subplots(figsize=a4_dims)\n",
    "sns.set_theme(style=\"whitegrid\")\n",
    "\n",
    "ax = sns.barplot(x=\"features\", y=\"importance score\", data=top7)"
   ]
  }
 ],
 "metadata": {
  "kernelspec": {
   "display_name": "Python 3",
   "language": "python",
   "name": "python3"
  },
  "language_info": {
   "codemirror_mode": {
    "name": "ipython",
    "version": 3
   },
   "file_extension": ".py",
   "mimetype": "text/x-python",
   "name": "python",
   "nbconvert_exporter": "python",
   "pygments_lexer": "ipython3",
   "version": "3.8.5"
  }
 },
 "nbformat": 4,
 "nbformat_minor": 4
}
