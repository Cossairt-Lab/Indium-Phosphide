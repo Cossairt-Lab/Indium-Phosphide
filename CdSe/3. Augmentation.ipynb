{
 "cells": [
  {
   "cell_type": "markdown",
   "metadata": {},
   "source": [
    "in this notebook we will use dataset that includes all data (some with None value) to build an augmented dataset where None value will be replace with predicted values. "
   ]
  },
  {
   "cell_type": "code",
   "execution_count": 12,
   "metadata": {},
   "outputs": [],
   "source": [
    "import numpy as np # linear algebra\n",
    "import pandas as pd # data processing, CSV file I/O (e.g. pd.read_csv)\n",
    "import os\n",
    "import joblib\n",
    "import sklearn         "
   ]
  },
  {
   "cell_type": "code",
   "execution_count": 13,
   "metadata": {},
   "outputs": [],
   "source": [
    "#This dataset includes all data, with and without 'None'\n",
    "\n",
    "df_ab = pd.read_csv(\"dataset_CdSe_scaled.csv\") \n"
   ]
  },
  {
   "cell_type": "code",
   "execution_count": 14,
   "metadata": {},
   "outputs": [],
   "source": [
    "# Input for ML models\n",
    "\n",
    "input_col = ['Growth Temp (Celsius)', 'Metal_mmol (mmol)', 'Chalcogen_mmol (mmol)',\n",
    "             'Amines_mmol (mmol)', 'CA_mmol (mmol)', 'Phosphines_mmol (mmol)', \n",
    "             'S_I_amount (g)', 'S_II_amount (g)', 'Time_min (min)', \n",
    "             'x0_cadmium acetate', \n",
    "             'x0_cadmium acetate dihydrate', 'x0_cadmium oxide', \n",
    "             'x0_cadmium stearate', 'x0_dimethylcadmium', 'x1_None', \n",
    "             'x1_benzoic acid', 'x1_dodecylphosphonic acid', \n",
    "             'x1_ethylphosphonic acid', 'x1_lauric acid', \n",
    "             'x1_myrstic acid', 'x1_oleic acid', 'x1_stearic acid',\n",
    "             'x2_2-6-dimethylpyridine', 'x2_None', 'x2_aniline', \n",
    "             'x2_benzylamine', 'x2_dioctylamine/hexadecylamine',\n",
    "             'x2_dodecylamine', 'x2_heptylamine', 'x2_hexadecylamine', \n",
    "             'x2_octadecylamine', 'x2_octylamine', 'x2_oleylamine', \n",
    "             'x2_pyridine', 'x2_trioctylamine', 'x3_None', 'x3_diphenylphosphine', \n",
    "             'x3_tributylphosphine', 'x3_trioctylphosphine', \n",
    "             'x3_triphenylphosphine', 'x4_None', 'x4_liquid parafin', \n",
    "             'x4_octadecene', 'x4_phenyl ether', 'x4_trioctylphosphine oxide', \n",
    "             'x5_None', 'x5_phosphinic acid', 'x5_trioctylphosphine oxide',\n",
    "             'diameter_nm']"
   ]
  },
  {
   "cell_type": "code",
   "execution_count": 15,
   "metadata": {},
   "outputs": [],
   "source": [
    "# Load ML model for predicting absorbance\n",
    "\n",
    "loaded_rf_ab = joblib.load('model_CdSe_RandomForest_abs_aug.joblib')\n",
    "\n",
    "# Replace 'None' entries in 'Absorbance max (nm)' column by predicted values.\n",
    "\n",
    "a = 0\n",
    "for index, row in df_ab.iterrows():\n",
    "    if row['abs_nm'] == 'None':\n",
    "        X = df_ab.loc[index, input_col].to_numpy()\n",
    "        df_ab.loc[index, 'abs_nm'] = loaded_rf_ab.predict(X.reshape(1, -1))[0]\n",
    "        a += 1\n",
    "\n",
    "        \n",
    "# Save the dataset where all 'None' values in 'Absorbane max (nm)' column are replaced.   \n",
    "df_ab.to_csv('dataset_CdSe_abs_augmented.csv')"
   ]
  },
  {
   "cell_type": "code",
   "execution_count": 16,
   "metadata": {
    "scrolled": true
   },
   "outputs": [],
   "source": [
    "# Now, the dataset only has 'None' values in the 'PL max (nm)' column\n",
    "\n",
    "df_pl = pd.read_csv('dataset_CdSe_abs_augmented.csv') \n",
    "\n",
    "# Load ML model for predicting PL\n",
    "\n",
    "loaded_rf_pl = joblib.load('model_CdSe_RandomForest_emission_aug.joblib')\n",
    "\n",
    "\n",
    "# Replace 'None' entries in 'PL max (nm)' column by predicted values.\n",
    "\n",
    "a = 0\n",
    "for index, row in df_pl.iterrows():\n",
    "    if row['emission_nm'] == 'None':\n",
    "        X = df_pl.loc[index, input_col].to_numpy()\n",
    "        df_pl.loc[index, 'emission_nm'] = loaded_rf_pl.predict(X.reshape(1, -1))[0]\n",
    "        a += 1\n",
    "\n",
    "# Save the dataset where all 'None' values are replaced.\n",
    "# Final augmented dataset.\n",
    "# Ready to use for other analysis.\n",
    "\n",
    "df_pl.to_csv('dataset_CdSe_augmented.csv')"
   ]
  },
  {
   "cell_type": "code",
   "execution_count": null,
   "metadata": {},
   "outputs": [],
   "source": []
  }
 ],
 "metadata": {
  "kernelspec": {
   "display_name": "Python 3 (ipykernel)",
   "language": "python",
   "name": "python3"
  },
  "language_info": {
   "codemirror_mode": {
    "name": "ipython",
    "version": 3
   },
   "file_extension": ".py",
   "mimetype": "text/x-python",
   "name": "python",
   "nbconvert_exporter": "python",
   "pygments_lexer": "ipython3",
   "version": "3.8.10"
  }
 },
 "nbformat": 4,
 "nbformat_minor": 4
}
