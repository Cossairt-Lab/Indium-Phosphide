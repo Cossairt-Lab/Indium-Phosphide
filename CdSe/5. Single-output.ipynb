{
 "cells": [
  {
   "cell_type": "code",
   "execution_count": 1,
   "metadata": {},
   "outputs": [],
   "source": [
    "import numpy as np \n",
    "import pandas as pd\n",
    "import os\n",
    "import joblib\n",
    "import sklearn \n",
    "import matplotlib\n",
    "from matplotlib import pyplot as plt\n",
    "\n",
    "from sklearn.model_selection import train_test_split\n",
    "\n",
    "#Regressions:\n",
    "\n",
    "from sklearn.multioutput import MultiOutputRegressor\n",
    "\n",
    "from sklearn.neighbors import KNeighborsRegressor\n",
    "from sklearn.linear_model import Ridge\n",
    "from sklearn.linear_model import Lasso\n",
    "from sklearn.linear_model import ElasticNet\n",
    "from sklearn.linear_model import LinearRegression\n",
    "from sklearn.linear_model import RidgeCV\n",
    "from sklearn.ensemble import ExtraTreesRegressor\n",
    "from sklearn.ensemble import GradientBoostingRegressor\n",
    "from sklearn.ensemble import RandomForestRegressor\n",
    "from sklearn.ensemble import AdaBoostRegressor\n",
    "from sklearn.tree import DecisionTreeRegressor\n",
    "\n",
    "#Metric\n",
    "from sklearn.metrics import mean_squared_error\n",
    "from sklearn.metrics import mean_absolute_error\n",
    "from sklearn.metrics import r2_score\n",
    "\n",
    "\n",
    "from pandas import DataFrame\n",
    "\n",
    "\n",
    "# Show progress bar\n",
    "from tqdm import tqdm"
   ]
  },
  {
   "cell_type": "code",
   "execution_count": 2,
   "metadata": {},
   "outputs": [
    {
     "data": {
      "text/html": [
       "<div>\n",
       "<style scoped>\n",
       "    .dataframe tbody tr th:only-of-type {\n",
       "        vertical-align: middle;\n",
       "    }\n",
       "\n",
       "    .dataframe tbody tr th {\n",
       "        vertical-align: top;\n",
       "    }\n",
       "\n",
       "    .dataframe thead th {\n",
       "        text-align: right;\n",
       "    }\n",
       "</style>\n",
       "<table border=\"1\" class=\"dataframe\">\n",
       "  <thead>\n",
       "    <tr style=\"text-align: right;\">\n",
       "      <th></th>\n",
       "      <th>Unnamed: 0.1</th>\n",
       "      <th>Unnamed: 0</th>\n",
       "      <th>Growth Temp (Celsius)</th>\n",
       "      <th>Metal_mmol (mmol)</th>\n",
       "      <th>Chalcogen_mmol (mmol)</th>\n",
       "      <th>CA_mmol (mmol)</th>\n",
       "      <th>Amines_mmol (mmol)</th>\n",
       "      <th>Phosphines_mmol (mmol)</th>\n",
       "      <th>S_I_amount (g)</th>\n",
       "      <th>S_II_amount (g)</th>\n",
       "      <th>...</th>\n",
       "      <th>x4_octadecene</th>\n",
       "      <th>x4_phenyl ether</th>\n",
       "      <th>x4_trioctylphosphine oxide</th>\n",
       "      <th>x5_None</th>\n",
       "      <th>x5_phosphinic acid</th>\n",
       "      <th>x5_trioctylphosphine oxide</th>\n",
       "      <th>diameter_nm</th>\n",
       "      <th>abs_nm</th>\n",
       "      <th>emission_nm</th>\n",
       "      <th>Unnamed: 53</th>\n",
       "    </tr>\n",
       "  </thead>\n",
       "  <tbody>\n",
       "    <tr>\n",
       "      <th>0</th>\n",
       "      <td>0</td>\n",
       "      <td>0</td>\n",
       "      <td>1.102480</td>\n",
       "      <td>-0.438782</td>\n",
       "      <td>-0.245227</td>\n",
       "      <td>-0.525726</td>\n",
       "      <td>-0.417578</td>\n",
       "      <td>-0.166760</td>\n",
       "      <td>-0.124145</td>\n",
       "      <td>-0.302794</td>\n",
       "      <td>...</td>\n",
       "      <td>1</td>\n",
       "      <td>0</td>\n",
       "      <td>0</td>\n",
       "      <td>1</td>\n",
       "      <td>0</td>\n",
       "      <td>0</td>\n",
       "      <td>3.41</td>\n",
       "      <td>566.000000</td>\n",
       "      <td>575.00</td>\n",
       "      <td>9.000000</td>\n",
       "    </tr>\n",
       "    <tr>\n",
       "      <th>1</th>\n",
       "      <td>1</td>\n",
       "      <td>1</td>\n",
       "      <td>0.325710</td>\n",
       "      <td>-0.473265</td>\n",
       "      <td>-0.588527</td>\n",
       "      <td>-0.525726</td>\n",
       "      <td>-0.499463</td>\n",
       "      <td>-0.452738</td>\n",
       "      <td>-0.527398</td>\n",
       "      <td>-0.302794</td>\n",
       "      <td>...</td>\n",
       "      <td>1</td>\n",
       "      <td>0</td>\n",
       "      <td>0</td>\n",
       "      <td>1</td>\n",
       "      <td>0</td>\n",
       "      <td>0</td>\n",
       "      <td>1.99</td>\n",
       "      <td>440.784362</td>\n",
       "      <td>497.00</td>\n",
       "      <td>56.215638</td>\n",
       "    </tr>\n",
       "    <tr>\n",
       "      <th>2</th>\n",
       "      <td>2</td>\n",
       "      <td>2</td>\n",
       "      <td>0.325710</td>\n",
       "      <td>-0.473265</td>\n",
       "      <td>-0.588527</td>\n",
       "      <td>-0.525726</td>\n",
       "      <td>-0.499463</td>\n",
       "      <td>-0.446393</td>\n",
       "      <td>-0.527398</td>\n",
       "      <td>-0.302794</td>\n",
       "      <td>...</td>\n",
       "      <td>1</td>\n",
       "      <td>0</td>\n",
       "      <td>0</td>\n",
       "      <td>1</td>\n",
       "      <td>0</td>\n",
       "      <td>0</td>\n",
       "      <td>2.13</td>\n",
       "      <td>461.024362</td>\n",
       "      <td>510.00</td>\n",
       "      <td>48.975638</td>\n",
       "    </tr>\n",
       "    <tr>\n",
       "      <th>3</th>\n",
       "      <td>3</td>\n",
       "      <td>3</td>\n",
       "      <td>0.325710</td>\n",
       "      <td>-0.473265</td>\n",
       "      <td>-0.588527</td>\n",
       "      <td>-0.525726</td>\n",
       "      <td>-0.499463</td>\n",
       "      <td>-0.446393</td>\n",
       "      <td>-0.527398</td>\n",
       "      <td>-0.302794</td>\n",
       "      <td>...</td>\n",
       "      <td>1</td>\n",
       "      <td>0</td>\n",
       "      <td>0</td>\n",
       "      <td>1</td>\n",
       "      <td>0</td>\n",
       "      <td>0</td>\n",
       "      <td>2.27</td>\n",
       "      <td>500.036190</td>\n",
       "      <td>517.00</td>\n",
       "      <td>16.963810</td>\n",
       "    </tr>\n",
       "    <tr>\n",
       "      <th>4</th>\n",
       "      <td>4</td>\n",
       "      <td>4</td>\n",
       "      <td>0.325710</td>\n",
       "      <td>-0.473265</td>\n",
       "      <td>-0.588527</td>\n",
       "      <td>-0.525726</td>\n",
       "      <td>-0.499463</td>\n",
       "      <td>-0.446393</td>\n",
       "      <td>-0.527398</td>\n",
       "      <td>-0.302794</td>\n",
       "      <td>...</td>\n",
       "      <td>1</td>\n",
       "      <td>0</td>\n",
       "      <td>0</td>\n",
       "      <td>1</td>\n",
       "      <td>0</td>\n",
       "      <td>0</td>\n",
       "      <td>2.53</td>\n",
       "      <td>500.036190</td>\n",
       "      <td>522.00</td>\n",
       "      <td>21.963810</td>\n",
       "    </tr>\n",
       "    <tr>\n",
       "      <th>...</th>\n",
       "      <td>...</td>\n",
       "      <td>...</td>\n",
       "      <td>...</td>\n",
       "      <td>...</td>\n",
       "      <td>...</td>\n",
       "      <td>...</td>\n",
       "      <td>...</td>\n",
       "      <td>...</td>\n",
       "      <td>...</td>\n",
       "      <td>...</td>\n",
       "      <td>...</td>\n",
       "      <td>...</td>\n",
       "      <td>...</td>\n",
       "      <td>...</td>\n",
       "      <td>...</td>\n",
       "      <td>...</td>\n",
       "      <td>...</td>\n",
       "      <td>...</td>\n",
       "      <td>...</td>\n",
       "      <td>...</td>\n",
       "      <td>...</td>\n",
       "    </tr>\n",
       "    <tr>\n",
       "      <th>170</th>\n",
       "      <td>222</td>\n",
       "      <td>222</td>\n",
       "      <td>0.481064</td>\n",
       "      <td>-0.466369</td>\n",
       "      <td>-0.501557</td>\n",
       "      <td>-0.387095</td>\n",
       "      <td>-0.499463</td>\n",
       "      <td>-0.371514</td>\n",
       "      <td>-0.439424</td>\n",
       "      <td>0.219928</td>\n",
       "      <td>...</td>\n",
       "      <td>1</td>\n",
       "      <td>0</td>\n",
       "      <td>0</td>\n",
       "      <td>0</td>\n",
       "      <td>0</td>\n",
       "      <td>1</td>\n",
       "      <td>2.20</td>\n",
       "      <td>500.000000</td>\n",
       "      <td>535.50</td>\n",
       "      <td>35.500000</td>\n",
       "    </tr>\n",
       "    <tr>\n",
       "      <th>171</th>\n",
       "      <td>223</td>\n",
       "      <td>223</td>\n",
       "      <td>0.481064</td>\n",
       "      <td>-0.466369</td>\n",
       "      <td>-0.501557</td>\n",
       "      <td>-0.387095</td>\n",
       "      <td>-0.499463</td>\n",
       "      <td>-0.371514</td>\n",
       "      <td>-0.439424</td>\n",
       "      <td>0.219928</td>\n",
       "      <td>...</td>\n",
       "      <td>1</td>\n",
       "      <td>0</td>\n",
       "      <td>0</td>\n",
       "      <td>0</td>\n",
       "      <td>0</td>\n",
       "      <td>1</td>\n",
       "      <td>2.80</td>\n",
       "      <td>545.000000</td>\n",
       "      <td>562.25</td>\n",
       "      <td>17.250000</td>\n",
       "    </tr>\n",
       "    <tr>\n",
       "      <th>172</th>\n",
       "      <td>224</td>\n",
       "      <td>224</td>\n",
       "      <td>0.481064</td>\n",
       "      <td>-0.466369</td>\n",
       "      <td>-0.501557</td>\n",
       "      <td>-0.387095</td>\n",
       "      <td>-0.499463</td>\n",
       "      <td>-0.371514</td>\n",
       "      <td>-0.439424</td>\n",
       "      <td>0.219928</td>\n",
       "      <td>...</td>\n",
       "      <td>1</td>\n",
       "      <td>0</td>\n",
       "      <td>0</td>\n",
       "      <td>0</td>\n",
       "      <td>0</td>\n",
       "      <td>1</td>\n",
       "      <td>3.60</td>\n",
       "      <td>570.000000</td>\n",
       "      <td>590.35</td>\n",
       "      <td>20.350000</td>\n",
       "    </tr>\n",
       "    <tr>\n",
       "      <th>173</th>\n",
       "      <td>228</td>\n",
       "      <td>228</td>\n",
       "      <td>0.481064</td>\n",
       "      <td>-0.466369</td>\n",
       "      <td>-0.501557</td>\n",
       "      <td>-0.387095</td>\n",
       "      <td>-0.499463</td>\n",
       "      <td>-0.371514</td>\n",
       "      <td>-0.439424</td>\n",
       "      <td>5.968747</td>\n",
       "      <td>...</td>\n",
       "      <td>1</td>\n",
       "      <td>0</td>\n",
       "      <td>0</td>\n",
       "      <td>0</td>\n",
       "      <td>0</td>\n",
       "      <td>1</td>\n",
       "      <td>1.70</td>\n",
       "      <td>450.000000</td>\n",
       "      <td>517.50</td>\n",
       "      <td>67.500000</td>\n",
       "    </tr>\n",
       "    <tr>\n",
       "      <th>174</th>\n",
       "      <td>229</td>\n",
       "      <td>229</td>\n",
       "      <td>0.481064</td>\n",
       "      <td>-0.466369</td>\n",
       "      <td>-0.501557</td>\n",
       "      <td>-0.387095</td>\n",
       "      <td>-0.499463</td>\n",
       "      <td>-0.371514</td>\n",
       "      <td>-0.439424</td>\n",
       "      <td>5.968747</td>\n",
       "      <td>...</td>\n",
       "      <td>1</td>\n",
       "      <td>0</td>\n",
       "      <td>0</td>\n",
       "      <td>0</td>\n",
       "      <td>0</td>\n",
       "      <td>1</td>\n",
       "      <td>2.50</td>\n",
       "      <td>530.000000</td>\n",
       "      <td>574.25</td>\n",
       "      <td>44.250000</td>\n",
       "    </tr>\n",
       "  </tbody>\n",
       "</table>\n",
       "<p>175 rows × 54 columns</p>\n",
       "</div>"
      ],
      "text/plain": [
       "     Unnamed: 0.1  Unnamed: 0  Growth Temp (Celsius)  Metal_mmol (mmol)  \\\n",
       "0               0           0               1.102480          -0.438782   \n",
       "1               1           1               0.325710          -0.473265   \n",
       "2               2           2               0.325710          -0.473265   \n",
       "3               3           3               0.325710          -0.473265   \n",
       "4               4           4               0.325710          -0.473265   \n",
       "..            ...         ...                    ...                ...   \n",
       "170           222         222               0.481064          -0.466369   \n",
       "171           223         223               0.481064          -0.466369   \n",
       "172           224         224               0.481064          -0.466369   \n",
       "173           228         228               0.481064          -0.466369   \n",
       "174           229         229               0.481064          -0.466369   \n",
       "\n",
       "     Chalcogen_mmol (mmol)  CA_mmol (mmol)  Amines_mmol (mmol)  \\\n",
       "0                -0.245227       -0.525726           -0.417578   \n",
       "1                -0.588527       -0.525726           -0.499463   \n",
       "2                -0.588527       -0.525726           -0.499463   \n",
       "3                -0.588527       -0.525726           -0.499463   \n",
       "4                -0.588527       -0.525726           -0.499463   \n",
       "..                     ...             ...                 ...   \n",
       "170              -0.501557       -0.387095           -0.499463   \n",
       "171              -0.501557       -0.387095           -0.499463   \n",
       "172              -0.501557       -0.387095           -0.499463   \n",
       "173              -0.501557       -0.387095           -0.499463   \n",
       "174              -0.501557       -0.387095           -0.499463   \n",
       "\n",
       "     Phosphines_mmol (mmol)  S_I_amount (g)  S_II_amount (g)  ...  \\\n",
       "0                 -0.166760       -0.124145        -0.302794  ...   \n",
       "1                 -0.452738       -0.527398        -0.302794  ...   \n",
       "2                 -0.446393       -0.527398        -0.302794  ...   \n",
       "3                 -0.446393       -0.527398        -0.302794  ...   \n",
       "4                 -0.446393       -0.527398        -0.302794  ...   \n",
       "..                      ...             ...              ...  ...   \n",
       "170               -0.371514       -0.439424         0.219928  ...   \n",
       "171               -0.371514       -0.439424         0.219928  ...   \n",
       "172               -0.371514       -0.439424         0.219928  ...   \n",
       "173               -0.371514       -0.439424         5.968747  ...   \n",
       "174               -0.371514       -0.439424         5.968747  ...   \n",
       "\n",
       "     x4_octadecene  x4_phenyl ether  x4_trioctylphosphine oxide  x5_None  \\\n",
       "0                1                0                           0        1   \n",
       "1                1                0                           0        1   \n",
       "2                1                0                           0        1   \n",
       "3                1                0                           0        1   \n",
       "4                1                0                           0        1   \n",
       "..             ...              ...                         ...      ...   \n",
       "170              1                0                           0        0   \n",
       "171              1                0                           0        0   \n",
       "172              1                0                           0        0   \n",
       "173              1                0                           0        0   \n",
       "174              1                0                           0        0   \n",
       "\n",
       "     x5_phosphinic acid  x5_trioctylphosphine oxide  diameter_nm      abs_nm  \\\n",
       "0                     0                           0         3.41  566.000000   \n",
       "1                     0                           0         1.99  440.784362   \n",
       "2                     0                           0         2.13  461.024362   \n",
       "3                     0                           0         2.27  500.036190   \n",
       "4                     0                           0         2.53  500.036190   \n",
       "..                  ...                         ...          ...         ...   \n",
       "170                   0                           1         2.20  500.000000   \n",
       "171                   0                           1         2.80  545.000000   \n",
       "172                   0                           1         3.60  570.000000   \n",
       "173                   0                           1         1.70  450.000000   \n",
       "174                   0                           1         2.50  530.000000   \n",
       "\n",
       "     emission_nm  Unnamed: 53  \n",
       "0         575.00     9.000000  \n",
       "1         497.00    56.215638  \n",
       "2         510.00    48.975638  \n",
       "3         517.00    16.963810  \n",
       "4         522.00    21.963810  \n",
       "..           ...          ...  \n",
       "170       535.50    35.500000  \n",
       "171       562.25    17.250000  \n",
       "172       590.35    20.350000  \n",
       "173       517.50    67.500000  \n",
       "174       574.25    44.250000  \n",
       "\n",
       "[175 rows x 54 columns]"
      ]
     },
     "execution_count": 2,
     "metadata": {},
     "output_type": "execute_result"
    }
   ],
   "source": [
    "df = pd.read_csv('dataset_CdSe_augmented_adjusted.csv')\n",
    "df"
   ]
  },
  {
   "cell_type": "code",
   "execution_count": 3,
   "metadata": {},
   "outputs": [],
   "source": [
    "input_col = ['Growth Temp (Celsius)', 'Metal_mmol (mmol)', 'Chalcogen_mmol (mmol)',\n",
    "             'Amines_mmol (mmol)', 'CA_mmol (mmol)', 'Phosphines_mmol (mmol)', \n",
    "             'S_I_amount (g)', 'S_II_amount (g)', 'Time_min (min)', \n",
    "             'x0_cadmium acetate', 'x0_cadmium acetate dihydrate', \n",
    "             'x0_cadmium oxide', 'x0_cadmium stearate', 'x0_dimethylcadmium', \n",
    "             'x1_None', 'x1_benzoic acid', 'x1_dodecylphosphonic acid', \n",
    "             'x1_ethylphosphonic acid', 'x1_lauric acid', \n",
    "             'x1_myrstic acid', 'x1_oleic acid', 'x1_stearic acid',\n",
    "             'x2_2-6-dimethylpyridine', 'x2_None', 'x2_aniline', \n",
    "             'x2_benzylamine', 'x2_dioctylamine/hexadecylamine',\n",
    "             'x2_dodecylamine', 'x2_heptylamine', 'x2_hexadecylamine', \n",
    "             'x2_octadecylamine', 'x2_octylamine', 'x2_oleylamine', \n",
    "             'x2_pyridine', 'x2_trioctylamine', 'x3_None', 'x3_diphenylphosphine', \n",
    "             'x3_tributylphosphine', 'x3_trioctylphosphine', \n",
    "             'x3_triphenylphosphine', 'x4_None', 'x4_liquid parafin', \n",
    "             'x4_octadecene', 'x4_phenyl ether', 'x4_trioctylphosphine oxide', \n",
    "             'x5_None', 'x5_phosphinic acid', 'x5_trioctylphosphine oxide'\n",
    "            ]\n",
    "\n",
    "\n",
    "#Three individual outputs:\n",
    "diameter = ['diameter_nm']\n",
    "emission = ['emission_nm']\n",
    "absorbance = ['abs_nm']\n",
    "\n",
    "#Splitting dataset\n",
    "\n",
    "X = df[input_col]\n",
    "\n",
    "Y_d = df[diameter]\n",
    "Y_e = df[emission]\n",
    "Y_a = df[absorbance]\n",
    "\n",
    "\n",
    "X_train_d, X_test_d, Y_train_d, Y_test_d = train_test_split(X, Y_d, test_size=0.15, random_state=45, shuffle=True)\n",
    "X_train_e, X_test_e, Y_train_e, Y_test_e = train_test_split(X, Y_e, test_size=0.15, random_state=45, shuffle=True)\n",
    "X_train_a, X_test_a, Y_train_a, Y_test_a = train_test_split(X, Y_a, test_size=0.15, random_state=45, shuffle=True)"
   ]
  },
  {
   "cell_type": "markdown",
   "metadata": {},
   "source": [
    "## D - Optimizing diameter model\n"
   ]
  },
  {
   "cell_type": "markdown",
   "metadata": {},
   "source": [
    "### 1D. Extra Trees"
   ]
  },
  {
   "cell_type": "code",
   "execution_count": 4,
   "metadata": {},
   "outputs": [
    {
     "name": "stderr",
     "output_type": "stream",
     "text": [
      "100%|██████████| 24/24 [09:04<00:00, 22.67s/it]"
     ]
    },
    {
     "name": "stdout",
     "output_type": "stream",
     "text": [
      "0.1751925925925926 2 23 20\n"
     ]
    },
    {
     "name": "stderr",
     "output_type": "stream",
     "text": [
      "\n"
     ]
    }
   ],
   "source": [
    "# This is a grid search for three parameters in the Extra Trees algorithm. \n",
    "# Parameters are: random_state, n_estimators, max_features.\n",
    "\n",
    "# This gives the best combination of the three parameters for the smallest mean squared error.\n",
    "\n",
    "min_mae = 99999\n",
    "min_i, min_j, min_k = 0, 0, 0\n",
    "for i in tqdm(range(1, 25)):\n",
    "    for j in range(1, 25):\n",
    "        for k in range(2, 50, 1):\n",
    "            ET_regr = ExtraTreesRegressor(n_estimators=i, \n",
    "                                            max_features=j,\n",
    "                                            random_state=k)\n",
    "            \n",
    "            ET_regr.fit(X_train_d, np.ravel(Y_train_d))\n",
    "            ET_Y_pred_d = pd.DataFrame(ET_regr.predict(X_test_d))\n",
    "\n",
    "            mae = mean_absolute_error(Y_test_d, ET_Y_pred_d)\n",
    "            if (min_mae > mae):\n",
    "                min_mae = mae\n",
    "                min_i = i\n",
    "                min_j = j\n",
    "                min_k = k\n",
    "            \n",
    "print(min_mae, min_i, min_j, min_k)"
   ]
  },
  {
   "cell_type": "code",
   "execution_count": 7,
   "metadata": {},
   "outputs": [
    {
     "name": "stdout",
     "output_type": "stream",
     "text": [
      "Outputs          R2    Mean absolute error    Mean squared error    Root mean squared error\n",
      "---------  --------  ---------------------  --------------------  -------------------------\n",
      "Diameter   0.928258               0.175193              0.066874                     0.2586\n"
     ]
    }
   ],
   "source": [
    "ET_regr_d = ExtraTreesRegressor(n_estimators=2, \n",
    "                                            max_features=23,\n",
    "                                            random_state=20)\n",
    "            \n",
    "ET_regr_d.fit(X_train_d, np.ravel(Y_train_d))\n",
    "ET_Y_pred_d = pd.DataFrame(ET_regr_d.predict(X_test_d))\n",
    "D_mae = mean_absolute_error(Y_test_d, ET_Y_pred_d)\n",
    "D_r_2 = r2_score(Y_test_d, ET_Y_pred_d)\n",
    "D_mse = mean_squared_error(Y_test_d, ET_Y_pred_d)\n",
    "D_rmse = mean_squared_error(Y_test_d, ET_Y_pred_d, squared=False)\n",
    "\n",
    "\n",
    "from tabulate import tabulate\n",
    "\n",
    "d = [\"Diameter\", D_r_2, D_mae, D_mse, D_rmse],\n",
    "    \n",
    "\n",
    "print(tabulate(d, headers=[\"Outputs\", \"R2\", \"Mean absolute error\", \"Mean squared error\", \"Root mean squared error\"]))\n",
    "\n"
   ]
  },
  {
   "cell_type": "markdown",
   "metadata": {},
   "source": [
    "### 2D. Decision Tree "
   ]
  },
  {
   "cell_type": "code",
   "execution_count": 5,
   "metadata": {},
   "outputs": [
    {
     "name": "stderr",
     "output_type": "stream",
     "text": [
      "100%|██████████| 29/29 [03:24<00:00,  7.04s/it]"
     ]
    },
    {
     "name": "stdout",
     "output_type": "stream",
     "text": [
      "0.21437901234567894 12 25 62\n"
     ]
    },
    {
     "name": "stderr",
     "output_type": "stream",
     "text": [
      "\n"
     ]
    }
   ],
   "source": [
    "# This is a grid search for three parameters in the Decision Trees algorithm. \n",
    "# Parameters are: max_depth, max_features, random_state.\n",
    "# This gives the best combination of the three parameters for the smallest mean squared error.\n",
    "\n",
    "min_mae = 99999\n",
    "\n",
    "min_i, min_j, min_k  = 0, 0, 0\n",
    "\n",
    "for i in tqdm(range(1, 30)):\n",
    "    for j in range(1, 30):\n",
    "        for k in range(4, 80, 2):\n",
    "            \n",
    "            DT_regr = DecisionTreeRegressor(max_depth=i,\n",
    "                                max_features=j,\n",
    "                                random_state=k)\n",
    "            \n",
    "            DT_regr.fit(X_train_d, np.ravel(Y_train_d))\n",
    "            DT_Y_pred_d = pd.DataFrame(DT_regr.predict(X_test_d))\n",
    "\n",
    "            mae = mean_absolute_error(Y_test_d, DT_Y_pred_d)\n",
    "            \n",
    "            if (min_mae > mae):\n",
    "                min_mae = mae\n",
    "                min_i = i\n",
    "                min_j = j\n",
    "                min_k = k\n",
    "            \n",
    "print(min_mae, min_i, min_j, min_k)"
   ]
  },
  {
   "cell_type": "code",
   "execution_count": 8,
   "metadata": {},
   "outputs": [
    {
     "name": "stdout",
     "output_type": "stream",
     "text": [
      "Outputs          R2    Mean absolute error    Mean squared error    Root mean squared error\n",
      "---------  --------  ---------------------  --------------------  -------------------------\n",
      "Diameter   0.920359               0.214379             0.0742371                   0.272465\n"
     ]
    }
   ],
   "source": [
    "DT_regr_d = DecisionTreeRegressor(max_depth=12,\n",
    "                                max_features=25,\n",
    "                                random_state=62)\n",
    "            \n",
    "DT_regr_d.fit(X_train_d, np.ravel(Y_train_d))\n",
    "DT_Y_pred_d = pd.DataFrame(DT_regr_d.predict(X_test_d))\n",
    "            \n",
    "DT_regr_d.fit(X_train_d, np.ravel(Y_train_d))\n",
    "DT_Y_pred_d = pd.DataFrame(DT_regr_d.predict(X_test_d))\n",
    "D_mae = mean_absolute_error(Y_test_d, DT_Y_pred_d)\n",
    "D_r_2 = r2_score(Y_test_d, DT_Y_pred_d)\n",
    "D_mse = mean_squared_error(Y_test_d, DT_Y_pred_d)\n",
    "D_rmse = mean_squared_error(Y_test_d, DT_Y_pred_d, squared=False)\n",
    "\n",
    "\n",
    "from tabulate import tabulate\n",
    "\n",
    "d = [\"Diameter\", D_r_2, D_mae, D_mse, D_rmse],\n",
    "    \n",
    "\n",
    "print(tabulate(d, headers=[\"Outputs\", \"R2\", \"Mean absolute error\", \"Mean squared error\", \"Root mean squared error\"]))\n"
   ]
  },
  {
   "cell_type": "markdown",
   "metadata": {},
   "source": [
    "### 3D. Random Forest"
   ]
  },
  {
   "cell_type": "code",
   "execution_count": 6,
   "metadata": {},
   "outputs": [
    {
     "name": "stderr",
     "output_type": "stream",
     "text": [
      "100%|██████████| 20/20 [05:10<00:00, 15.54s/it]"
     ]
    },
    {
     "name": "stdout",
     "output_type": "stream",
     "text": [
      "0.2426365432098766 11 5 29\n"
     ]
    },
    {
     "name": "stderr",
     "output_type": "stream",
     "text": [
      "\n"
     ]
    }
   ],
   "source": [
    "# This is a grid search for three parameters in the Random Forest algorithm. \n",
    "# Parameters are: max_depth, n_estimators, max_features.\n",
    "# Random_state is set to 45.\n",
    "# This gives the best combination of the three parameters for the smallest mean squared error.\n",
    "\n",
    "min_mae = 99999\n",
    "min_i, min_j, min_k = 0, 0, 0\n",
    "for i in tqdm(range(1, 21)):\n",
    "    for j in range(1, 21):\n",
    "        for k in range(2, 40, 1):\n",
    "            RF_regr = RandomForestRegressor(max_depth=i, \n",
    "                                            n_estimators=j, \n",
    "                                            max_features=k,\n",
    "                                            random_state=45)\n",
    "            RF_regr.fit(X_train_d, np.ravel(Y_train_d))\n",
    "            RF_Y_pred_d = pd.DataFrame(RF_regr.predict(X_test_d))\n",
    "\n",
    "            mae = mean_absolute_error(Y_test_d, RF_Y_pred_d)\n",
    "            if (min_mae > mae):\n",
    "                min_mae = mae\n",
    "                min_i = i\n",
    "                min_j = j\n",
    "                min_k = k\n",
    "            \n",
    "print(min_mae, min_i, min_j, min_k)"
   ]
  },
  {
   "cell_type": "markdown",
   "metadata": {},
   "source": [
    "### 4D. K Neighbors"
   ]
  },
  {
   "cell_type": "code",
   "execution_count": 7,
   "metadata": {},
   "outputs": [
    {
     "name": "stderr",
     "output_type": "stream",
     "text": [
      "100%|██████████| 39/39 [00:16<00:00,  2.31it/s]"
     ]
    },
    {
     "name": "stdout",
     "output_type": "stream",
     "text": [
      "0.2934314814814814 2 1\n"
     ]
    },
    {
     "name": "stderr",
     "output_type": "stream",
     "text": [
      "\n"
     ]
    }
   ],
   "source": [
    "min_mae = 99999\n",
    "min_i, min_j = 0, 0\n",
    "\n",
    "for i in tqdm(range(1, 40)):\n",
    "    for j in range(1, 40):\n",
    "\n",
    "        KNN_reg_d = KNeighborsRegressor(n_neighbors=i, \n",
    "                                      p=j).fit(X_train_d, np.ravel(Y_train_d))\n",
    "\n",
    "        KNN_Y_pred_d = KNN_reg_d.predict(X_test_d)\n",
    "\n",
    "        mae = mean_absolute_error(Y_test_d, KNN_Y_pred_d)\n",
    "\n",
    "        if (min_mae > mae):\n",
    "            min_mae = mae\n",
    "            min_i = i\n",
    "            min_j = j\n",
    "\n",
    "print(min_mae, min_i, min_j)"
   ]
  },
  {
   "cell_type": "markdown",
   "metadata": {},
   "source": [
    "### Saving Decision Tree model"
   ]
  },
  {
   "cell_type": "code",
   "execution_count": 10,
   "metadata": {},
   "outputs": [
    {
     "data": {
      "text/plain": [
       "['./model_CdSe_SO_diameter_ExtraTrees.joblib']"
      ]
     },
     "execution_count": 10,
     "metadata": {},
     "output_type": "execute_result"
    }
   ],
   "source": [
    "ET_regr_d = ExtraTreesRegressor(n_estimators=2, \n",
    "                                            max_features=23,\n",
    "                                            random_state=20)\n",
    "            \n",
    "ET_regr_d.fit(X_train_d, np.ravel(Y_train_d))\n",
    "ET_Y_pred_d = pd.DataFrame(ET_regr.predict(X_test_d))\n",
    "\n",
    "joblib.dump(ET_regr_d, \"./model_CdSe_SO_diameter_ExtraTrees.joblib\")"
   ]
  },
  {
   "cell_type": "markdown",
   "metadata": {},
   "source": [
    "## E - Optimizing emission model\n"
   ]
  },
  {
   "cell_type": "markdown",
   "metadata": {},
   "source": [
    "### 1E. Extra Trees"
   ]
  },
  {
   "cell_type": "code",
   "execution_count": 11,
   "metadata": {
    "scrolled": true
   },
   "outputs": [
    {
     "name": "stderr",
     "output_type": "stream",
     "text": [
      "100%|██████████| 24/24 [09:13<00:00, 23.04s/it]"
     ]
    },
    {
     "name": "stdout",
     "output_type": "stream",
     "text": [
      "11.948842592592591 8 2 13\n"
     ]
    },
    {
     "name": "stderr",
     "output_type": "stream",
     "text": [
      "\n"
     ]
    }
   ],
   "source": [
    "# This is a grid search for three parameters in the Extra Trees algorithm. \n",
    "# Parameters are: random_state, n_estimators, max_features.\n",
    "\n",
    "# This gives the best combination of the three parameters for the smallest mean squared error.\n",
    "\n",
    "min_mae = 99999\n",
    "min_i, min_j, min_k = 0, 0, 0\n",
    "for i in tqdm(range(1, 25)):\n",
    "    for j in range(1, 25):\n",
    "        for k in range(2, 50, 1):\n",
    "            ET_regr_e = ExtraTreesRegressor(n_estimators=i, \n",
    "                                            max_features=j,\n",
    "                                            random_state=k)\n",
    "            \n",
    "            ET_regr_e.fit(X_train_e, np.ravel(Y_train_e))\n",
    "            ET_Y_pred_e = pd.DataFrame(ET_regr_e.predict(X_test_e))\n",
    "\n",
    "            mae = mean_absolute_error(Y_test_e, ET_Y_pred_e)\n",
    "            if (min_mae > mae):\n",
    "                min_mae = mae\n",
    "                min_i = i\n",
    "                min_j = j\n",
    "                min_k = k\n",
    "            \n",
    "print(min_mae, min_i, min_j, min_k)"
   ]
  },
  {
   "cell_type": "code",
   "execution_count": 11,
   "metadata": {},
   "outputs": [
    {
     "name": "stdout",
     "output_type": "stream",
     "text": [
      "Outputs          R2    Mean absolute error    Mean squared error    Root mean squared error\n",
      "---------  --------  ---------------------  --------------------  -------------------------\n",
      "Diameter   0.712964                11.9488               459.214                    21.4293\n"
     ]
    }
   ],
   "source": [
    "ET_regr_e = ExtraTreesRegressor(n_estimators=8, \n",
    "                                            max_features=2,\n",
    "                                            random_state=13)\n",
    "            \n",
    "ET_regr_e.fit(X_train_e, np.ravel(Y_train_e))\n",
    "ET_Y_pred_e = pd.DataFrame(ET_regr_e.predict(X_test_e))\n",
    "D_mae = mean_absolute_error(Y_test_e, ET_Y_pred_e)\n",
    "D_r_2 = r2_score(Y_test_e, ET_Y_pred_e)\n",
    "D_mse = mean_squared_error(Y_test_e, ET_Y_pred_e)\n",
    "D_rmse = mean_squared_error(Y_test_e, ET_Y_pred_e, squared=False)\n",
    "\n",
    "\n",
    "from tabulate import tabulate\n",
    "\n",
    "d = [\"Diameter\", D_r_2, D_mae, D_mse, D_rmse],\n",
    "    \n",
    "\n",
    "print(tabulate(d, headers=[\"Outputs\", \"R2\", \"Mean absolute error\", \"Mean squared error\", \"Root mean squared error\"]))\n"
   ]
  },
  {
   "cell_type": "markdown",
   "metadata": {},
   "source": [
    "### 2E. Decision Trees"
   ]
  },
  {
   "cell_type": "code",
   "execution_count": 12,
   "metadata": {},
   "outputs": [
    {
     "name": "stderr",
     "output_type": "stream",
     "text": [
      "100%|██████████| 29/29 [02:55<00:00,  6.04s/it]"
     ]
    },
    {
     "name": "stdout",
     "output_type": "stream",
     "text": [
      "8.373533950617288 13 5 32\n"
     ]
    },
    {
     "name": "stderr",
     "output_type": "stream",
     "text": [
      "\n"
     ]
    }
   ],
   "source": [
    "# This is a grid search for three parameters in the Decision Trees algorithm. \n",
    "\n",
    "# This gives the best combination of the three parameters for the smallest mean squared error.\n",
    "\n",
    "min_mae = 99999\n",
    "\n",
    "min_i, min_j, min_k  = 0, 0, 0\n",
    "\n",
    "for i in tqdm(range(1, 30)):\n",
    "    for j in range(1, 30):\n",
    "        for k in range(4, 70, 2):\n",
    "            \n",
    "            DT_regr_e = DecisionTreeRegressor(max_depth=i,\n",
    "                                max_features=j,\n",
    "                                random_state=k)\n",
    "            \n",
    "            DT_regr_e.fit(X_train_e, np.ravel(Y_train_e))\n",
    "            DT_Y_pred_e = pd.DataFrame(DT_regr_e.predict(X_test_e))\n",
    "\n",
    "            mae = mean_absolute_error(Y_test_e, DT_Y_pred_e)\n",
    "            \n",
    "            if (min_mae > mae):\n",
    "                min_mae = mae\n",
    "                min_i = i\n",
    "                min_j = j\n",
    "                min_k = k\n",
    "            \n",
    "print(min_mae, min_i, min_j, min_k)"
   ]
  },
  {
   "cell_type": "code",
   "execution_count": 10,
   "metadata": {},
   "outputs": [
    {
     "name": "stdout",
     "output_type": "stream",
     "text": [
      "Outputs          R2    Mean absolute error    Mean squared error    Root mean squared error\n",
      "---------  --------  ---------------------  --------------------  -------------------------\n",
      "Diameter   0.912234                8.37353               140.412                    11.8496\n"
     ]
    }
   ],
   "source": [
    "DT_regr_e = DecisionTreeRegressor(max_depth=13,\n",
    "                                max_features=5,\n",
    "                                random_state=32)\n",
    "            \n",
    "DT_regr_e.fit(X_train_e, np.ravel(Y_train_e))\n",
    "DT_Y_pred_e = pd.DataFrame(DT_regr_e.predict(X_test_e))\n",
    "            \n",
    "DT_regr_e.fit(X_train_e, np.ravel(Y_train_e))\n",
    "DT_Y_pred_e = pd.DataFrame(DT_regr_e.predict(X_test_e))\n",
    "D_mae = mean_absolute_error(Y_test_e, DT_Y_pred_e)\n",
    "D_r_2 = r2_score(Y_test_e, DT_Y_pred_e)\n",
    "D_mse = mean_squared_error(Y_test_e, DT_Y_pred_e)\n",
    "D_rmse = mean_squared_error(Y_test_e, DT_Y_pred_e, squared=False)\n",
    "\n",
    "\n",
    "from tabulate import tabulate\n",
    "\n",
    "d = [\"Diameter\", D_r_2, D_mae, D_mse, D_rmse],\n",
    "    \n",
    "\n",
    "print(tabulate(d, headers=[\"Outputs\", \"R2\", \"Mean absolute error\", \"Mean squared error\", \"Root mean squared error\"]))"
   ]
  },
  {
   "cell_type": "markdown",
   "metadata": {},
   "source": [
    "### 3E. Random Forest"
   ]
  },
  {
   "cell_type": "code",
   "execution_count": 15,
   "metadata": {},
   "outputs": [
    {
     "name": "stderr",
     "output_type": "stream",
     "text": [
      "100%|██████████| 20/20 [03:02<00:00,  9.12s/it]"
     ]
    },
    {
     "name": "stdout",
     "output_type": "stream",
     "text": [
      "12.88962962962964 13 5 11\n"
     ]
    },
    {
     "name": "stderr",
     "output_type": "stream",
     "text": [
      "\n"
     ]
    }
   ],
   "source": [
    "min_mae = 99999\n",
    "min_i, min_j, min_k = 0, 0, 0\n",
    "for i in tqdm(range(1, 21)):\n",
    "    for j in range(1, 21):\n",
    "        for k in range(2, 30, 1):\n",
    "            RF_regr_e = RandomForestRegressor(max_depth=i, \n",
    "                                            n_estimators=j, \n",
    "                                            max_features=k,\n",
    "                                            random_state=45)\n",
    "            RF_regr_e.fit(X_train_e, np.ravel(Y_train_e))\n",
    "            RF_Y_pred_e = pd.DataFrame(RF_regr_e.predict(X_test_e))\n",
    "\n",
    "            mae = mean_absolute_error(Y_test_e, RF_Y_pred_e)\n",
    "            if (min_mae > mae):\n",
    "                min_mae = mae\n",
    "                min_i = i\n",
    "                min_j = j\n",
    "                min_k = k\n",
    "            \n",
    "print(min_mae, min_i, min_j, min_k)"
   ]
  },
  {
   "cell_type": "markdown",
   "metadata": {},
   "source": [
    "### 4E. K Neighbors"
   ]
  },
  {
   "cell_type": "code",
   "execution_count": 16,
   "metadata": {
    "scrolled": false
   },
   "outputs": [
    {
     "name": "stderr",
     "output_type": "stream",
     "text": [
      "100%|██████████| 39/39 [00:15<00:00,  2.47it/s]"
     ]
    },
    {
     "name": "stdout",
     "output_type": "stream",
     "text": [
      "17.27777777777778 2 7\n"
     ]
    },
    {
     "name": "stderr",
     "output_type": "stream",
     "text": [
      "\n"
     ]
    }
   ],
   "source": [
    "min_mae = 99999\n",
    "min_i, min_j = 0, 0\n",
    "\n",
    "for i in tqdm(range(1, 40)):\n",
    "    for j in range(1, 40):\n",
    "\n",
    "        KNN_reg_e = KNeighborsRegressor(n_neighbors=i, \n",
    "                                      p=j).fit(X_train_e, np.ravel(Y_train_e))\n",
    "\n",
    "        KNN_Y_pred_e = KNN_reg_e.predict(X_test_e)\n",
    "\n",
    "        mae = mean_absolute_error(Y_test_e, KNN_Y_pred_e)\n",
    "\n",
    "        if (min_mae > mae):\n",
    "            min_mae = mae\n",
    "            min_i = i\n",
    "            min_j = j\n",
    "\n",
    "print(min_mae, min_i, min_j)"
   ]
  },
  {
   "cell_type": "markdown",
   "metadata": {},
   "source": [
    "### Saving Extra Trees model"
   ]
  },
  {
   "cell_type": "code",
   "execution_count": 17,
   "metadata": {},
   "outputs": [
    {
     "data": {
      "text/plain": [
       "['./model_CdSe_SO_emission_DecisionTrees.joblib']"
      ]
     },
     "execution_count": 17,
     "metadata": {},
     "output_type": "execute_result"
    }
   ],
   "source": [
    "DT_regr_e = DecisionTreeRegressor(max_depth=13,\n",
    "                                max_features=5,\n",
    "                                random_state=32)\n",
    "DT_regr_e.fit(X_train_e, np.ravel(Y_train_e))\n",
    "DT_Y_pred_e = pd.DataFrame(DT_regr_e.predict(X_test_e))\n",
    "\n",
    "joblib.dump(ET_regr_e, \"./model_CdSe_SO_emission_DecisionTree.joblib\")"
   ]
  },
  {
   "cell_type": "markdown",
   "metadata": {},
   "source": [
    "## A - Optimizing absorption model\n"
   ]
  },
  {
   "cell_type": "markdown",
   "metadata": {},
   "source": [
    "### 1A: Extra Trees"
   ]
  },
  {
   "cell_type": "code",
   "execution_count": 18,
   "metadata": {},
   "outputs": [
    {
     "name": "stderr",
     "output_type": "stream",
     "text": [
      "100%|██████████| 29/29 [12:49<00:00, 26.54s/it]"
     ]
    },
    {
     "name": "stdout",
     "output_type": "stream",
     "text": [
      "15.021156843209878 3 28 12\n"
     ]
    },
    {
     "name": "stderr",
     "output_type": "stream",
     "text": [
      "\n"
     ]
    }
   ],
   "source": [
    "# This is a grid search for three parameters in the Extra Trees algorithm. \n",
    "# Parameters are: random_state, n_estimators, max_features.\n",
    "\n",
    "# This gives the best combination of the three parameters for the smallest mean squared error.\n",
    "\n",
    "min_mae = 99999\n",
    "min_i, min_j, min_k = 0, 0, 0\n",
    "for i in tqdm(range(1, 30)):\n",
    "    for j in range(1, 30):\n",
    "        for k in range(2, 50, 1):\n",
    "            ET_regr_a = ExtraTreesRegressor(n_estimators=i, \n",
    "                                            max_features=j,\n",
    "                                            random_state=k)\n",
    "            \n",
    "            ET_regr_a.fit(X_train_a, np.ravel(Y_train_a))\n",
    "            ET_Y_pred_a = pd.DataFrame(ET_regr_a.predict(X_test_a))\n",
    "\n",
    "            mae = mean_absolute_error(Y_test_a, ET_Y_pred_a)\n",
    "            if (min_mae > mae):\n",
    "                min_mae = mae\n",
    "                min_i = i\n",
    "                min_j = j\n",
    "                min_k = k\n",
    "            \n",
    "print(min_mae, min_i, min_j, min_k)"
   ]
  },
  {
   "cell_type": "code",
   "execution_count": 12,
   "metadata": {},
   "outputs": [
    {
     "name": "stdout",
     "output_type": "stream",
     "text": [
      "Outputs          R2    Mean absolute error    Mean squared error    Root mean squared error\n",
      "---------  --------  ---------------------  --------------------  -------------------------\n",
      "Diameter   0.872221                15.0212               448.564                    21.1793\n"
     ]
    }
   ],
   "source": [
    "ET_regr_a = ExtraTreesRegressor(n_estimators=3, \n",
    "                                            max_features=28,\n",
    "                                            random_state=12)\n",
    "            \n",
    "ET_regr_a.fit(X_train_a, np.ravel(Y_train_a))\n",
    "ET_Y_pred_a = pd.DataFrame(ET_regr_a.predict(X_test_a))\n",
    "D_mae = mean_absolute_error(Y_test_a, ET_Y_pred_a)\n",
    "D_r_2 = r2_score(Y_test_a, ET_Y_pred_a)\n",
    "D_mse = mean_squared_error(Y_test_a, ET_Y_pred_a)\n",
    "D_rmse = mean_squared_error(Y_test_a, ET_Y_pred_a, squared=False)\n",
    "\n",
    "\n",
    "from tabulate import tabulate\n",
    "\n",
    "d = [\"Diameter\", D_r_2, D_mae, D_mse, D_rmse],\n",
    "    \n",
    "\n",
    "print(tabulate(d, headers=[\"Outputs\", \"R2\", \"Mean absolute error\", \"Mean squared error\", \"Root mean squared error\"]))\n"
   ]
  },
  {
   "cell_type": "markdown",
   "metadata": {},
   "source": [
    "### 2A. Decision Trees\n"
   ]
  },
  {
   "cell_type": "code",
   "execution_count": 4,
   "metadata": {},
   "outputs": [
    {
     "name": "stderr",
     "output_type": "stream",
     "text": [
      "100%|██████████| 29/29 [03:13<00:00,  6.68s/it]"
     ]
    },
    {
     "name": "stdout",
     "output_type": "stream",
     "text": [
      "14.66973166814815 11 11 38\n"
     ]
    },
    {
     "name": "stderr",
     "output_type": "stream",
     "text": [
      "\n"
     ]
    }
   ],
   "source": [
    "# This is a grid search for three parameters in the Decision Trees algorithm. \n",
    "\n",
    "# This gives the best combination of the three parameters for the smallest mean squared error.\n",
    "\n",
    "min_mae = 99999\n",
    "\n",
    "min_i, min_j, min_k  = 0, 0, 0\n",
    "\n",
    "for i in tqdm(range(1, 30)):\n",
    "    for j in range(1, 30):\n",
    "        for k in range(4, 60, 2):\n",
    "            \n",
    "            DT_regr_a = DecisionTreeRegressor(max_depth=i,\n",
    "                                max_features=j,\n",
    "                                random_state=k)\n",
    "            \n",
    "            DT_regr_a.fit(X_train_a, np.ravel(Y_train_a))\n",
    "            DT_Y_pred_a = pd.DataFrame(DT_regr_a.predict(X_test_a))\n",
    "\n",
    "            mae = mean_absolute_error(Y_test_a, DT_Y_pred_a)\n",
    "            \n",
    "            if (min_mae > mae):\n",
    "                min_mae = mae\n",
    "                min_i = i\n",
    "                min_j = j\n",
    "                min_k = k\n",
    "            \n",
    "print(min_mae, min_i, min_j, min_k)"
   ]
  },
  {
   "cell_type": "code",
   "execution_count": 13,
   "metadata": {},
   "outputs": [
    {
     "name": "stdout",
     "output_type": "stream",
     "text": [
      "Outputs          R2    Mean absolute error    Mean squared error    Root mean squared error\n",
      "---------  --------  ---------------------  --------------------  -------------------------\n",
      "Diameter   0.888377                14.6697                391.85                    19.7952\n"
     ]
    }
   ],
   "source": [
    "DT_regr_a = DecisionTreeRegressor(max_depth=11,\n",
    "                                max_features=11,\n",
    "                                random_state=38)\n",
    "            \n",
    "DT_regr_a.fit(X_train_a, np.ravel(Y_train_a))\n",
    "DT_Y_pred_a = pd.DataFrame(DT_regr_a.predict(X_test_a))\n",
    "            \n",
    "DT_regr_a.fit(X_train_a, np.ravel(Y_train_a))\n",
    "DT_Y_pred_a = pd.DataFrame(DT_regr_a.predict(X_test_a))\n",
    "D_mae = mean_absolute_error(Y_test_a, DT_Y_pred_a)\n",
    "D_r_2 = r2_score(Y_test_a, DT_Y_pred_a)\n",
    "D_mse = mean_squared_error(Y_test_a, DT_Y_pred_a)\n",
    "D_rmse = mean_squared_error(Y_test_a, DT_Y_pred_a, squared=False)\n",
    "\n",
    "\n",
    "from tabulate import tabulate\n",
    "\n",
    "d = [\"Diameter\", D_r_2, D_mae, D_mse, D_rmse],\n",
    "    \n",
    "\n",
    "print(tabulate(d, headers=[\"Outputs\", \"R2\", \"Mean absolute error\", \"Mean squared error\", \"Root mean squared error\"]))"
   ]
  },
  {
   "cell_type": "markdown",
   "metadata": {},
   "source": [
    "### 3A. Random Forest"
   ]
  },
  {
   "cell_type": "code",
   "execution_count": 8,
   "metadata": {},
   "outputs": [
    {
     "name": "stderr",
     "output_type": "stream",
     "text": [
      "100%|██████████| 20/20 [03:44<00:00, 11.25s/it]"
     ]
    },
    {
     "name": "stdout",
     "output_type": "stream",
     "text": [
      "18.04832381866549 11 2 20\n"
     ]
    },
    {
     "name": "stderr",
     "output_type": "stream",
     "text": [
      "\n"
     ]
    }
   ],
   "source": [
    "min_mae = 99999\n",
    "min_i, min_j, min_k = 0, 0, 0\n",
    "for i in tqdm(range(1, 21)):\n",
    "    for j in range(1, 21):\n",
    "        for k in range(2, 31, 1):\n",
    "            RF_regr_a = RandomForestRegressor(max_depth=i, \n",
    "                                            n_estimators=j, \n",
    "                                            max_features=k,\n",
    "                                            random_state=45)\n",
    "            RF_regr_a.fit(X_train_a, np.ravel(Y_train_a))\n",
    "            RF_Y_pred_a = pd.DataFrame(RF_regr_a.predict(X_test_a))\n",
    "\n",
    "            mae = mean_absolute_error(Y_test_a, RF_Y_pred_a)\n",
    "            if (min_mae > mae):\n",
    "                min_mae = mae\n",
    "                min_i = i\n",
    "                min_j = j\n",
    "                min_k = k\n",
    "            \n",
    "print(min_mae, min_i, min_j, min_k)"
   ]
  },
  {
   "cell_type": "code",
   "execution_count": null,
   "metadata": {},
   "outputs": [],
   "source": []
  },
  {
   "cell_type": "markdown",
   "metadata": {},
   "source": [
    "### 4A. K Neighbors"
   ]
  },
  {
   "cell_type": "code",
   "execution_count": 9,
   "metadata": {},
   "outputs": [
    {
     "name": "stderr",
     "output_type": "stream",
     "text": [
      "100%|██████████| 39/39 [00:13<00:00,  2.84it/s]"
     ]
    },
    {
     "name": "stdout",
     "output_type": "stream",
     "text": [
      "24.043626992592593 2 1\n"
     ]
    },
    {
     "name": "stderr",
     "output_type": "stream",
     "text": [
      "\n"
     ]
    }
   ],
   "source": [
    "min_mae = 99999\n",
    "min_i, min_j = 0, 0\n",
    "\n",
    "for i in tqdm(range(1, 40)):\n",
    "    for j in range(1, 40):\n",
    "\n",
    "        KNN_reg_a = KNeighborsRegressor(n_neighbors=i, \n",
    "                                      p=j).fit(X_train_a, np.ravel(Y_train_a))\n",
    "\n",
    "        KNN_Y_pred_a = KNN_reg_a.predict(X_test_a)\n",
    "\n",
    "        mae = mean_absolute_error(Y_test_a, KNN_Y_pred_a)\n",
    "\n",
    "        if (min_mae > mae):\n",
    "            min_mae = mae\n",
    "            min_i = i\n",
    "            min_j = j\n",
    "\n",
    "print(min_mae, min_i, min_j)"
   ]
  },
  {
   "cell_type": "markdown",
   "metadata": {},
   "source": [
    "### Saving model"
   ]
  },
  {
   "cell_type": "code",
   "execution_count": 10,
   "metadata": {},
   "outputs": [
    {
     "data": {
      "text/plain": [
       "['./model_CdSe_SO_DecisionTree_abs.joblib']"
      ]
     },
     "execution_count": 10,
     "metadata": {},
     "output_type": "execute_result"
    }
   ],
   "source": [
    "DT_regr_a = DecisionTreeRegressor(max_depth=11,\n",
    "                                max_features=11,\n",
    "                                random_state=38)\n",
    "DT_regr_a.fit(X_train_a, np.ravel(Y_train_a))\n",
    "DT_Y_pred_a = pd.DataFrame(DT_regr_a.predict(X_test_a))\n",
    "\n",
    "joblib.dump(DT_regr_a, \"./model_CdSe_SO_abs_DecisionTree.joblib\")"
   ]
  },
  {
   "cell_type": "markdown",
   "metadata": {},
   "source": [
    "## Analyzing"
   ]
  },
  {
   "cell_type": "code",
   "execution_count": null,
   "metadata": {},
   "outputs": [],
   "source": []
  },
  {
   "cell_type": "code",
   "execution_count": 13,
   "metadata": {
    "scrolled": true
   },
   "outputs": [
    {
     "name": "stdout",
     "output_type": "stream",
     "text": [
      "Outputs           R2    Mean absolute error    Mean squared error    Root mean squared error\n",
      "----------  --------  ---------------------  --------------------  -------------------------\n",
      "Diameter    0.928258               0.175193              0.066874                     0.2586\n",
      "Absorption  0.888377              14.6697              391.85                        19.7952\n",
      "Emission    0.912234               8.37353             140.412                       11.8496\n"
     ]
    }
   ],
   "source": [
    "## Diameter\n",
    "\n",
    "ET_regr_d = ExtraTreesRegressor(n_estimators=2, \n",
    "                                            max_features=23,\n",
    "                                            random_state=20)\n",
    "            \n",
    "ET_regr_d.fit(X_train_d, np.ravel(Y_train_d))\n",
    "ET_Y_pred_d = pd.DataFrame(ET_regr_d.predict(X_test_d))\n",
    "\n",
    "D_mae = mean_absolute_error(Y_test_d, ET_Y_pred_d)\n",
    "D_r_2 = r2_score(Y_test_d, ET_Y_pred_d)\n",
    "D_mse = mean_squared_error(Y_test_d, ET_Y_pred_d)\n",
    "D_rmse = mean_squared_error(Y_test_d, ET_Y_pred_d, squared=False)\n",
    "\n",
    "## Emission\n",
    "\n",
    "DT_regr_e = DecisionTreeRegressor(max_depth=13,\n",
    "                                max_features=5,\n",
    "                                random_state=32)\n",
    "DT_regr_e.fit(X_train_e, np.ravel(Y_train_e))\n",
    "DT_Y_pred_e = pd.DataFrame(DT_regr_e.predict(X_test_e))\n",
    "\n",
    "E_mae = mean_absolute_error(Y_test_e, DT_Y_pred_e)\n",
    "E_r_2 = r2_score(Y_test_e, DT_Y_pred_e)\n",
    "E_mse = mean_squared_error(Y_test_e, DT_Y_pred_e)\n",
    "E_rmse = mean_squared_error(Y_test_e, DT_Y_pred_e, squared=False)\n",
    "\n",
    "\n",
    "### Absorption\n",
    "\n",
    "DT_regr_a = DecisionTreeRegressor(max_depth=11,\n",
    "                                max_features=11,\n",
    "                                random_state=38).fit(X_train_a, np.ravel(Y_train_a))\n",
    "DT_Y_pred_a = DT_regr_a.predict(X_test_a)\n",
    "\n",
    "A_mae = mean_absolute_error(Y_test_a, DT_Y_pred_a)\n",
    "A_r_2 = r2_score(Y_test_a, DT_Y_pred_a)\n",
    "A_mse = mean_squared_error(Y_test_a, DT_Y_pred_a)\n",
    "A_rmse = mean_squared_error(Y_test_a, DT_Y_pred_a, squared=False)\n",
    "\n",
    "\n",
    "from tabulate import tabulate\n",
    "\n",
    "d = [ [\"Diameter\", D_r_2, D_mae, D_mse, D_rmse],\n",
    "     [\"Absorption\", A_r_2, A_mae, A_mse, A_rmse],\n",
    "     [\"Emission\", E_r_2, E_mae, E_mse, E_rmse]]\n",
    "\n",
    "print(tabulate(d, headers=[\"Outputs\", \"R2\", \"Mean absolute error\", \"Mean squared error\", \"Root mean squared error\"]))"
   ]
  },
  {
   "cell_type": "code",
   "execution_count": 7,
   "metadata": {},
   "outputs": [
    {
     "name": "stdout",
     "output_type": "stream",
     "text": [
      "Outputs           R2    Mean absolute error    Mean squared error    Root mean squared error\n",
      "----------  --------  ---------------------  --------------------  -------------------------\n",
      "Diameter    0.928258               0.175193              0.066874                     0.2586\n",
      "Absorption  0.888377              14.6697              391.85                        19.7952\n",
      "Emission    0.912234               8.37353             140.412                       11.8496\n"
     ]
    }
   ],
   "source": [
    "## Diameter\n",
    "\n",
    "ET_regr_d = ExtraTreesRegressor(n_estimators=2, \n",
    "                                            max_features=23,\n",
    "                                            random_state=20)\n",
    "            \n",
    "ET_regr_d.fit(X_train_d, np.ravel(Y_train_d))\n",
    "ET_Y_pred_d = ET_regr_d.predict(X_test_d)\n",
    "\n",
    "D_mae = mean_absolute_error(Y_test_d, ET_Y_pred_d)\n",
    "D_r_2 = r2_score(Y_test_d, ET_Y_pred_d)\n",
    "D_mse = mean_squared_error(Y_test_d, ET_Y_pred_d)\n",
    "D_rmse = mean_squared_error(Y_test_d, ET_Y_pred_d, squared=False)\n",
    "\n",
    "## Emission\n",
    "\n",
    "DT_regr_e = DecisionTreeRegressor(max_depth=13,\n",
    "                                max_features=5,\n",
    "                                random_state=32)\n",
    "DT_regr_e.fit(X_train_e, np.ravel(Y_train_e))\n",
    "DT_Y_pred_e =DT_regr_e.predict(X_test_e)\n",
    "\n",
    "E_mae = mean_absolute_error(Y_test_e, DT_Y_pred_e)\n",
    "E_r_2 = r2_score(Y_test_e, DT_Y_pred_e)\n",
    "E_mse = mean_squared_error(Y_test_e, DT_Y_pred_e)\n",
    "E_rmse = mean_squared_error(Y_test_e, DT_Y_pred_e, squared=False)\n",
    "\n",
    "\n",
    "### Absorption\n",
    "\n",
    "DT_regr_a = DecisionTreeRegressor(max_depth=11,\n",
    "                                max_features=11,\n",
    "                                random_state=38).fit(X_train_a, np.ravel(Y_train_a))\n",
    "DT_Y_pred_a = DT_regr_a.predict(X_test_a)\n",
    "\n",
    "A_mae = mean_absolute_error(Y_test_a, DT_Y_pred_a)\n",
    "A_r_2 = r2_score(Y_test_a, DT_Y_pred_a)\n",
    "A_mse = mean_squared_error(Y_test_a, DT_Y_pred_a)\n",
    "A_rmse = mean_squared_error(Y_test_a, DT_Y_pred_a, squared=False)\n",
    "\n",
    "\n",
    "from tabulate import tabulate\n",
    "\n",
    "d = [ [\"Diameter\", D_r_2, D_mae, D_mse, D_rmse],\n",
    "     [\"Absorption\", A_r_2, A_mae, A_mse, A_rmse],\n",
    "     [\"Emission\", E_r_2, E_mae, E_mse, E_rmse]]\n",
    "\n",
    "print(tabulate(d, headers=[\"Outputs\", \"R2\", \"Mean absolute error\", \"Mean squared error\", \"Root mean squared error\"]))"
   ]
  },
  {
   "cell_type": "code",
   "execution_count": 8,
   "metadata": {},
   "outputs": [],
   "source": [
    "from numpy import std, absolute, mean\n",
    "\n",
    "def interval(data, confidence):\n",
    "    MAD = mean(absolute(data - mean(data)))*confidence\n",
    "    return MAD\n"
   ]
  },
  {
   "cell_type": "code",
   "execution_count": 11,
   "metadata": {},
   "outputs": [
    {
     "name": "stdout",
     "output_type": "stream",
     "text": [
      "Diameter:  0.7597935802469136 ; Emission:  31.702584876543227 ; absorption:  50.13287207079561\n"
     ]
    }
   ],
   "source": [
    "MAD_d = interval(ET_Y_pred_d, 0.95)\n",
    "MAD_e = interval(DT_Y_pred_e, 0.95)\n",
    "MAD_a = interval(DT_Y_pred_a, 0.95)\n",
    "\n",
    "print(\"Diameter: \", MAD_d, \"; Emission: \", MAD_e, \"; absorption: \", MAD_a)"
   ]
  },
  {
   "cell_type": "code",
   "execution_count": 9,
   "metadata": {},
   "outputs": [
    {
     "ename": "InvalidIndexError",
     "evalue": "(slice(None, None, None), None)",
     "output_type": "error",
     "traceback": [
      "\u001b[0;31m---------------------------------------------------------------------------\u001b[0m",
      "\u001b[0;31mTypeError\u001b[0m                                 Traceback (most recent call last)",
      "File \u001b[0;32m~/.local/lib/python3.8/site-packages/pandas/core/indexes/base.py:3621\u001b[0m, in \u001b[0;36mIndex.get_loc\u001b[0;34m(self, key, method, tolerance)\u001b[0m\n\u001b[1;32m   3620\u001b[0m \u001b[38;5;28;01mtry\u001b[39;00m:\n\u001b[0;32m-> 3621\u001b[0m     \u001b[38;5;28;01mreturn\u001b[39;00m \u001b[38;5;28;43mself\u001b[39;49m\u001b[38;5;241;43m.\u001b[39;49m\u001b[43m_engine\u001b[49m\u001b[38;5;241;43m.\u001b[39;49m\u001b[43mget_loc\u001b[49m\u001b[43m(\u001b[49m\u001b[43mcasted_key\u001b[49m\u001b[43m)\u001b[49m\n\u001b[1;32m   3622\u001b[0m \u001b[38;5;28;01mexcept\u001b[39;00m \u001b[38;5;167;01mKeyError\u001b[39;00m \u001b[38;5;28;01mas\u001b[39;00m err:\n",
      "File \u001b[0;32m~/.local/lib/python3.8/site-packages/pandas/_libs/index.pyx:136\u001b[0m, in \u001b[0;36mpandas._libs.index.IndexEngine.get_loc\u001b[0;34m()\u001b[0m\n",
      "File \u001b[0;32m~/.local/lib/python3.8/site-packages/pandas/_libs/index.pyx:142\u001b[0m, in \u001b[0;36mpandas._libs.index.IndexEngine.get_loc\u001b[0;34m()\u001b[0m\n",
      "\u001b[0;31mTypeError\u001b[0m: '(slice(None, None, None), None)' is an invalid key",
      "\nDuring handling of the above exception, another exception occurred:\n",
      "\u001b[0;31mInvalidIndexError\u001b[0m                         Traceback (most recent call last)",
      "Input \u001b[0;32mIn [9]\u001b[0m, in \u001b[0;36m<cell line: 4>\u001b[0;34m()\u001b[0m\n\u001b[1;32m      1\u001b[0m fig, (ax1, ax2, ax3) \u001b[38;5;241m=\u001b[39m plt\u001b[38;5;241m.\u001b[39msubplots(\u001b[38;5;241m1\u001b[39m, \u001b[38;5;241m3\u001b[39m, figsize\u001b[38;5;241m=\u001b[39m(\u001b[38;5;241m20\u001b[39m,\u001b[38;5;241m5\u001b[39m))\n\u001b[1;32m      2\u001b[0m fig\u001b[38;5;241m.\u001b[39msuptitle(\u001b[38;5;124m'\u001b[39m\u001b[38;5;124mSingle Outputs\u001b[39m\u001b[38;5;124m'\u001b[39m, fontsize\u001b[38;5;241m=\u001b[39m\u001b[38;5;241m25\u001b[39m)\n\u001b[0;32m----> 4\u001b[0m \u001b[43max1\u001b[49m\u001b[38;5;241;43m.\u001b[39;49m\u001b[43mplot\u001b[49m\u001b[43m(\u001b[49m\u001b[43mY_test_d\u001b[49m\u001b[43m,\u001b[49m\u001b[43m \u001b[49m\u001b[43mET_Y_pred_d\u001b[49m\u001b[43m,\u001b[49m\u001b[38;5;124;43m'\u001b[39;49m\u001b[38;5;124;43mo\u001b[39;49m\u001b[38;5;124;43m'\u001b[39;49m\u001b[43m)\u001b[49m\n\u001b[1;32m      5\u001b[0m ax1\u001b[38;5;241m.\u001b[39mplot([\u001b[38;5;241m1\u001b[39m,\u001b[38;5;241m6\u001b[39m],[\u001b[38;5;241m1\u001b[39m,\u001b[38;5;241m6\u001b[39m], color \u001b[38;5;241m=\u001b[39m \u001b[38;5;124m'\u001b[39m\u001b[38;5;124mr\u001b[39m\u001b[38;5;124m'\u001b[39m)\n\u001b[1;32m      6\u001b[0m ax1\u001b[38;5;241m.\u001b[39mset_title(\u001b[38;5;124m'\u001b[39m\u001b[38;5;124mDiameter\u001b[39m\u001b[38;5;124m'\u001b[39m)\n",
      "File \u001b[0;32m~/.local/lib/python3.8/site-packages/matplotlib/axes/_axes.py:1632\u001b[0m, in \u001b[0;36mAxes.plot\u001b[0;34m(self, scalex, scaley, data, *args, **kwargs)\u001b[0m\n\u001b[1;32m   1390\u001b[0m \u001b[38;5;124;03m\"\"\"\u001b[39;00m\n\u001b[1;32m   1391\u001b[0m \u001b[38;5;124;03mPlot y versus x as lines and/or markers.\u001b[39;00m\n\u001b[1;32m   1392\u001b[0m \n\u001b[0;32m   (...)\u001b[0m\n\u001b[1;32m   1629\u001b[0m \u001b[38;5;124;03m(``'green'``) or hex strings (``'#008000'``).\u001b[39;00m\n\u001b[1;32m   1630\u001b[0m \u001b[38;5;124;03m\"\"\"\u001b[39;00m\n\u001b[1;32m   1631\u001b[0m kwargs \u001b[38;5;241m=\u001b[39m cbook\u001b[38;5;241m.\u001b[39mnormalize_kwargs(kwargs, mlines\u001b[38;5;241m.\u001b[39mLine2D)\n\u001b[0;32m-> 1632\u001b[0m lines \u001b[38;5;241m=\u001b[39m [\u001b[38;5;241m*\u001b[39m\u001b[38;5;28mself\u001b[39m\u001b[38;5;241m.\u001b[39m_get_lines(\u001b[38;5;241m*\u001b[39margs, data\u001b[38;5;241m=\u001b[39mdata, \u001b[38;5;241m*\u001b[39m\u001b[38;5;241m*\u001b[39mkwargs)]\n\u001b[1;32m   1633\u001b[0m \u001b[38;5;28;01mfor\u001b[39;00m line \u001b[38;5;129;01min\u001b[39;00m lines:\n\u001b[1;32m   1634\u001b[0m     \u001b[38;5;28mself\u001b[39m\u001b[38;5;241m.\u001b[39madd_line(line)\n",
      "File \u001b[0;32m~/.local/lib/python3.8/site-packages/matplotlib/axes/_base.py:312\u001b[0m, in \u001b[0;36m_process_plot_var_args.__call__\u001b[0;34m(self, data, *args, **kwargs)\u001b[0m\n\u001b[1;32m    310\u001b[0m     this \u001b[38;5;241m+\u001b[39m\u001b[38;5;241m=\u001b[39m args[\u001b[38;5;241m0\u001b[39m],\n\u001b[1;32m    311\u001b[0m     args \u001b[38;5;241m=\u001b[39m args[\u001b[38;5;241m1\u001b[39m:]\n\u001b[0;32m--> 312\u001b[0m \u001b[38;5;28;01myield from\u001b[39;00m \u001b[38;5;28;43mself\u001b[39;49m\u001b[38;5;241;43m.\u001b[39;49m\u001b[43m_plot_args\u001b[49m\u001b[43m(\u001b[49m\u001b[43mthis\u001b[49m\u001b[43m,\u001b[49m\u001b[43m \u001b[49m\u001b[43mkwargs\u001b[49m\u001b[43m)\u001b[49m\n",
      "File \u001b[0;32m~/.local/lib/python3.8/site-packages/matplotlib/axes/_base.py:487\u001b[0m, in \u001b[0;36m_process_plot_var_args._plot_args\u001b[0;34m(self, tup, kwargs, return_kwargs)\u001b[0m\n\u001b[1;32m    484\u001b[0m         kw[prop_name] \u001b[38;5;241m=\u001b[39m val\n\u001b[1;32m    486\u001b[0m \u001b[38;5;28;01mif\u001b[39;00m \u001b[38;5;28mlen\u001b[39m(xy) \u001b[38;5;241m==\u001b[39m \u001b[38;5;241m2\u001b[39m:\n\u001b[0;32m--> 487\u001b[0m     x \u001b[38;5;241m=\u001b[39m \u001b[43m_check_1d\u001b[49m\u001b[43m(\u001b[49m\u001b[43mxy\u001b[49m\u001b[43m[\u001b[49m\u001b[38;5;241;43m0\u001b[39;49m\u001b[43m]\u001b[49m\u001b[43m)\u001b[49m\n\u001b[1;32m    488\u001b[0m     y \u001b[38;5;241m=\u001b[39m _check_1d(xy[\u001b[38;5;241m1\u001b[39m])\n\u001b[1;32m    489\u001b[0m \u001b[38;5;28;01melse\u001b[39;00m:\n",
      "File \u001b[0;32m~/.local/lib/python3.8/site-packages/matplotlib/cbook/__init__.py:1327\u001b[0m, in \u001b[0;36m_check_1d\u001b[0;34m(x)\u001b[0m\n\u001b[1;32m   1321\u001b[0m \u001b[38;5;28;01mwith\u001b[39;00m warnings\u001b[38;5;241m.\u001b[39mcatch_warnings(record\u001b[38;5;241m=\u001b[39m\u001b[38;5;28;01mTrue\u001b[39;00m) \u001b[38;5;28;01mas\u001b[39;00m w:\n\u001b[1;32m   1322\u001b[0m     warnings\u001b[38;5;241m.\u001b[39mfilterwarnings(\n\u001b[1;32m   1323\u001b[0m         \u001b[38;5;124m\"\u001b[39m\u001b[38;5;124malways\u001b[39m\u001b[38;5;124m\"\u001b[39m,\n\u001b[1;32m   1324\u001b[0m         category\u001b[38;5;241m=\u001b[39m\u001b[38;5;167;01mWarning\u001b[39;00m,\n\u001b[1;32m   1325\u001b[0m         message\u001b[38;5;241m=\u001b[39m\u001b[38;5;124m'\u001b[39m\u001b[38;5;124mSupport for multi-dimensional indexing\u001b[39m\u001b[38;5;124m'\u001b[39m)\n\u001b[0;32m-> 1327\u001b[0m     ndim \u001b[38;5;241m=\u001b[39m \u001b[43mx\u001b[49m\u001b[43m[\u001b[49m\u001b[43m:\u001b[49m\u001b[43m,\u001b[49m\u001b[43m \u001b[49m\u001b[38;5;28;43;01mNone\u001b[39;49;00m\u001b[43m]\u001b[49m\u001b[38;5;241m.\u001b[39mndim\n\u001b[1;32m   1328\u001b[0m     \u001b[38;5;66;03m# we have definitely hit a pandas index or series object\u001b[39;00m\n\u001b[1;32m   1329\u001b[0m     \u001b[38;5;66;03m# cast to a numpy array.\u001b[39;00m\n\u001b[1;32m   1330\u001b[0m     \u001b[38;5;28;01mif\u001b[39;00m \u001b[38;5;28mlen\u001b[39m(w) \u001b[38;5;241m>\u001b[39m \u001b[38;5;241m0\u001b[39m:\n",
      "File \u001b[0;32m~/.local/lib/python3.8/site-packages/pandas/core/frame.py:3505\u001b[0m, in \u001b[0;36mDataFrame.__getitem__\u001b[0;34m(self, key)\u001b[0m\n\u001b[1;32m   3503\u001b[0m \u001b[38;5;28;01mif\u001b[39;00m \u001b[38;5;28mself\u001b[39m\u001b[38;5;241m.\u001b[39mcolumns\u001b[38;5;241m.\u001b[39mnlevels \u001b[38;5;241m>\u001b[39m \u001b[38;5;241m1\u001b[39m:\n\u001b[1;32m   3504\u001b[0m     \u001b[38;5;28;01mreturn\u001b[39;00m \u001b[38;5;28mself\u001b[39m\u001b[38;5;241m.\u001b[39m_getitem_multilevel(key)\n\u001b[0;32m-> 3505\u001b[0m indexer \u001b[38;5;241m=\u001b[39m \u001b[38;5;28;43mself\u001b[39;49m\u001b[38;5;241;43m.\u001b[39;49m\u001b[43mcolumns\u001b[49m\u001b[38;5;241;43m.\u001b[39;49m\u001b[43mget_loc\u001b[49m\u001b[43m(\u001b[49m\u001b[43mkey\u001b[49m\u001b[43m)\u001b[49m\n\u001b[1;32m   3506\u001b[0m \u001b[38;5;28;01mif\u001b[39;00m is_integer(indexer):\n\u001b[1;32m   3507\u001b[0m     indexer \u001b[38;5;241m=\u001b[39m [indexer]\n",
      "File \u001b[0;32m~/.local/lib/python3.8/site-packages/pandas/core/indexes/base.py:3628\u001b[0m, in \u001b[0;36mIndex.get_loc\u001b[0;34m(self, key, method, tolerance)\u001b[0m\n\u001b[1;32m   3623\u001b[0m         \u001b[38;5;28;01mraise\u001b[39;00m \u001b[38;5;167;01mKeyError\u001b[39;00m(key) \u001b[38;5;28;01mfrom\u001b[39;00m \u001b[38;5;21;01merr\u001b[39;00m\n\u001b[1;32m   3624\u001b[0m     \u001b[38;5;28;01mexcept\u001b[39;00m \u001b[38;5;167;01mTypeError\u001b[39;00m:\n\u001b[1;32m   3625\u001b[0m         \u001b[38;5;66;03m# If we have a listlike key, _check_indexing_error will raise\u001b[39;00m\n\u001b[1;32m   3626\u001b[0m         \u001b[38;5;66;03m#  InvalidIndexError. Otherwise we fall through and re-raise\u001b[39;00m\n\u001b[1;32m   3627\u001b[0m         \u001b[38;5;66;03m#  the TypeError.\u001b[39;00m\n\u001b[0;32m-> 3628\u001b[0m         \u001b[38;5;28;43mself\u001b[39;49m\u001b[38;5;241;43m.\u001b[39;49m\u001b[43m_check_indexing_error\u001b[49m\u001b[43m(\u001b[49m\u001b[43mkey\u001b[49m\u001b[43m)\u001b[49m\n\u001b[1;32m   3629\u001b[0m         \u001b[38;5;28;01mraise\u001b[39;00m\n\u001b[1;32m   3631\u001b[0m \u001b[38;5;66;03m# GH#42269\u001b[39;00m\n",
      "File \u001b[0;32m~/.local/lib/python3.8/site-packages/pandas/core/indexes/base.py:5637\u001b[0m, in \u001b[0;36mIndex._check_indexing_error\u001b[0;34m(self, key)\u001b[0m\n\u001b[1;32m   5633\u001b[0m \u001b[38;5;28;01mdef\u001b[39;00m \u001b[38;5;21m_check_indexing_error\u001b[39m(\u001b[38;5;28mself\u001b[39m, key):\n\u001b[1;32m   5634\u001b[0m     \u001b[38;5;28;01mif\u001b[39;00m \u001b[38;5;129;01mnot\u001b[39;00m is_scalar(key):\n\u001b[1;32m   5635\u001b[0m         \u001b[38;5;66;03m# if key is not a scalar, directly raise an error (the code below\u001b[39;00m\n\u001b[1;32m   5636\u001b[0m         \u001b[38;5;66;03m# would convert to numpy arrays and raise later any way) - GH29926\u001b[39;00m\n\u001b[0;32m-> 5637\u001b[0m         \u001b[38;5;28;01mraise\u001b[39;00m InvalidIndexError(key)\n",
      "\u001b[0;31mInvalidIndexError\u001b[0m: (slice(None, None, None), None)"
     ]
    },
    {
     "data": {
      "image/png": "[encoded data removed]",
      "text/plain": [
       "<Figure size 1440x360 with 3 Axes>"
      ]
     },
     "metadata": {
      "needs_background": "light"
     },
     "output_type": "display_data"
    }
   ],
   "source": [
    "fig, (ax1, ax2, ax3) = plt.subplots(1, 3, figsize=(20,5))\n",
    "fig.suptitle('Single Outputs', fontsize=25)\n",
    "\n",
    "ax1.plot(Y_test_d, ET_Y_pred_d,'o')\n",
    "ax1.plot([1,6],[1,6], color = 'r')\n",
    "ax1.set_title('Diameter')\n",
    "ax1.set(xlabel='Observed Values (nm)', ylabel='Predicted Values (nm)')\n",
    "\n",
    "ax2.plot(Y_test_a, DT_Y_pred_a,'o')\n",
    "ax2.plot([350,650],[350,650], color = 'r')\n",
    "ax2.set_title('Absorption')\n",
    "ax2.set(xlabel='Observed Values (nm)', ylabel='Predicted Values (nm)')\n",
    "\n",
    "ax3.plot(Y_test_e, DT_Y_pred_e,'o')\n",
    "ax3.plot([450,650],[450,650], color = 'r')\n",
    "ax3.set_title('Emission')\n",
    "ax3.set(xlabel='Observed Values (nm)', ylabel='Predicted Values (nm)')\n",
    "\n",
    "\n",
    "fig.tight_layout()"
   ]
  },
  {
   "cell_type": "markdown",
   "metadata": {},
   "source": [
    "## Feature importance"
   ]
  },
  {
   "cell_type": "markdown",
   "metadata": {},
   "source": [
    "### For diameter prediction"
   ]
  },
  {
   "cell_type": "code",
   "execution_count": 27,
   "metadata": {},
   "outputs": [
    {
     "data": {
      "text/plain": [
       "[('Time_min (min)', 0.23616903935942368),\n",
       " ('Growth Temp (Celsius)', 0.22168617386660372),\n",
       " ('Chalcogen_mmol (mmol)', 0.13210646999539158),\n",
       " ('Phosphines_mmol (mmol)', 0.07740409511643384),\n",
       " ('x1_benzoic acid', 0.06150986698037372),\n",
       " ('Metal_mmol (mmol)', 0.06079572792362309),\n",
       " ('S_I_amount (g)', 0.04592469656610114),\n",
       " ('x4_octadecene', 0.03372207952609167),\n",
       " ('x4_trioctylphosphine oxide', 0.02325165686592775),\n",
       " ('Amines_mmol (mmol)', 0.020289431848583155),\n",
       " ('x0_cadmium acetate dihydrate', 0.014085558389559629),\n",
       " ('x1_oleic acid', 0.01233833103930937),\n",
       " ('x1_stearic acid', 0.009379024447579782),\n",
       " ('x4_liquid parafin', 0.007196724152852458),\n",
       " ('S_II_amount (g)', 0.006672596280441475),\n",
       " ('x2_hexadecylamine', 0.0061357653758558565),\n",
       " ('CA_mmol (mmol)', 0.005408901176890191),\n",
       " ('x2_dodecylamine', 0.005332293565364408),\n",
       " ('x0_dimethylcadmium', 0.004640409454652211),\n",
       " ('x5_trioctylphosphine oxide', 0.002846274830315831),\n",
       " ('x3_trioctylphosphine', 0.002757664647518152),\n",
       " ('x0_cadmium oxide', 0.0025481020357590953),\n",
       " ('x3_tributylphosphine', 0.0018102721665521227),\n",
       " ('x1_None', 0.0016013484609011359),\n",
       " ('x3_None', 0.001457837459451841),\n",
       " ('x2_None', 0.0013146381768733126),\n",
       " ('x5_None', 0.0005405894531348704),\n",
       " ('x3_diphenylphosphine', 0.0002977074828044897),\n",
       " ('x5_phosphinic acid', 0.0002943913511642861),\n",
       " ('x3_triphenylphosphine', 0.0002585648761246834),\n",
       " ('x1_myrstic acid', 8.947465124435988e-05),\n",
       " ('x4_phenyl ether', 7.390119321541686e-05),\n",
       " ('x2_heptylamine', 4.100654032955085e-05),\n",
       " ('x1_lauric acid', 8.278195329343746e-06),\n",
       " ('x1_ethylphosphonic acid', 5.980730681307533e-06),\n",
       " ('x2_octylamine', 5.125817541416481e-06),\n",
       " ('x0_cadmium acetate', 0.0),\n",
       " ('x0_cadmium stearate', 0.0),\n",
       " ('x1_dodecylphosphonic acid', 0.0),\n",
       " ('x2_2-6-dimethylpyridine', 0.0),\n",
       " ('x2_aniline', 0.0),\n",
       " ('x2_benzylamine', 0.0),\n",
       " ('x2_dioctylamine/hexadecylamine', 0.0),\n",
       " ('x2_octadecylamine', 0.0),\n",
       " ('x2_oleylamine', 0.0),\n",
       " ('x2_pyridine', 0.0),\n",
       " ('x2_trioctylamine', 0.0),\n",
       " ('x4_None', 0.0)]"
      ]
     },
     "execution_count": 27,
     "metadata": {},
     "output_type": "execute_result"
    }
   ],
   "source": [
    "importance_dict_d = dict()\n",
    "for i in range(0,48):\n",
    "    importance_dict_d[input_col[i]] = ET_regr_d.feature_importances_[i]\n",
    "\n",
    "sorted_importance_d = sorted(importance_dict_d.items(), key=lambda x: x[1], reverse=True)\n",
    "\n",
    "sorted_importance_d\n"
   ]
  },
  {
   "cell_type": "code",
   "execution_count": 13,
   "metadata": {},
   "outputs": [
    {
     "data": {
      "image/png": "[encoded data removed]",
      "text/plain": [
       "<Figure size 1490.4x595.44 with 1 Axes>"
      ]
     },
     "metadata": {
      "needs_background": "light"
     },
     "output_type": "display_data"
    }
   ],
   "source": [
    "top7_d = DataFrame(sorted_importance_d[0:7], columns=['features', 'importance score'])\n",
    "\n",
    "others_d = DataFrame(sorted_importance_d[7:], columns=['features', 'importance score'])\n",
    "\n",
    "\n",
    "import seaborn as sns\n",
    "\n",
    "a4_dims = (20.7, 8.27)\n",
    "fig, ax = plt.subplots(figsize=a4_dims)\n",
    "sns.set_theme(style=\"whitegrid\")\n",
    "\n",
    "ax = sns.barplot(x=\"features\", y=\"importance score\", data=top7_d)"
   ]
  },
  {
   "cell_type": "markdown",
   "metadata": {},
   "source": [
    "### Emission prediction"
   ]
  },
  {
   "cell_type": "code",
   "execution_count": 28,
   "metadata": {},
   "outputs": [
    {
     "data": {
      "text/plain": [
       "[('Time_min (min)', 0.37810493264420847),\n",
       " ('x4_phenyl ether', 0.1619948162211977),\n",
       " ('Amines_mmol (mmol)', 0.12399469479555633),\n",
       " ('Metal_mmol (mmol)', 0.05318465625942061),\n",
       " ('x1_oleic acid', 0.05179356500451521),\n",
       " ('Growth Temp (Celsius)', 0.04484354331679388),\n",
       " ('x1_ethylphosphonic acid', 0.027960947936522602),\n",
       " ('CA_mmol (mmol)', 0.02418577168419052),\n",
       " ('S_I_amount (g)', 0.018481613323578474),\n",
       " ('x3_diphenylphosphine', 0.014460318075851275),\n",
       " ('Phosphines_mmol (mmol)', 0.012933748499746161),\n",
       " ('x3_None', 0.01184747896331015),\n",
       " ('Chalcogen_mmol (mmol)', 0.011386705625700135),\n",
       " ('x0_cadmium oxide', 0.010783410471534657),\n",
       " ('x1_None', 0.010202888988118901),\n",
       " ('x2_hexadecylamine', 0.00981761599336164),\n",
       " ('x2_None', 0.00841023552798723),\n",
       " ('x4_trioctylphosphine oxide', 0.006160763763738983),\n",
       " ('x3_tributylphosphine', 0.004866486257133958),\n",
       " ('S_II_amount (g)', 0.004519173055277889),\n",
       " ('x5_None', 0.0032946514157128786),\n",
       " ('x5_trioctylphosphine oxide', 0.0027168880418442774),\n",
       " ('x3_trioctylphosphine', 0.002569321266472689),\n",
       " ('x1_stearic acid', 0.0008465682621300382),\n",
       " ('x2_dodecylamine', 0.0006392046060952948),\n",
       " ('x0_cadmium acetate', 0.0),\n",
       " ('x0_cadmium acetate dihydrate', 0.0),\n",
       " ('x0_cadmium stearate', 0.0),\n",
       " ('x0_dimethylcadmium', 0.0),\n",
       " ('x1_benzoic acid', 0.0),\n",
       " ('x1_dodecylphosphonic acid', 0.0),\n",
       " ('x1_lauric acid', 0.0),\n",
       " ('x1_myrstic acid', 0.0),\n",
       " ('x2_2-6-dimethylpyridine', 0.0),\n",
       " ('x2_aniline', 0.0),\n",
       " ('x2_benzylamine', 0.0),\n",
       " ('x2_dioctylamine/hexadecylamine', 0.0),\n",
       " ('x2_heptylamine', 0.0),\n",
       " ('x2_octadecylamine', 0.0),\n",
       " ('x2_octylamine', 0.0),\n",
       " ('x2_oleylamine', 0.0),\n",
       " ('x2_pyridine', 0.0),\n",
       " ('x2_trioctylamine', 0.0),\n",
       " ('x3_triphenylphosphine', 0.0),\n",
       " ('x4_None', 0.0),\n",
       " ('x4_liquid parafin', 0.0),\n",
       " ('x4_octadecene', 0.0),\n",
       " ('x5_phosphinic acid', 0.0)]"
      ]
     },
     "execution_count": 28,
     "metadata": {},
     "output_type": "execute_result"
    }
   ],
   "source": [
    "importance_dict_e = dict()\n",
    "for i in range(0,48):\n",
    "    importance_dict_e[input_col[i]] = DT_regr_e.feature_importances_[i]\n",
    "\n",
    "sorted_importance_e = sorted(importance_dict_e.items(), key=lambda x: x[1], reverse=True)\n",
    "\n",
    "\n",
    "sorted_importance_e\n"
   ]
  },
  {
   "cell_type": "code",
   "execution_count": 29,
   "metadata": {},
   "outputs": [
    {
     "data": {
      "image/png": "[encoded data removed]",
      "text/plain": [
       "<Figure size 1490.4x595.44 with 1 Axes>"
      ]
     },
     "metadata": {
      "needs_background": "light"
     },
     "output_type": "display_data"
    }
   ],
   "source": [
    "top7_e = DataFrame(sorted_importance_e[0:7], columns=['features', 'importance score'])\n",
    "\n",
    "others_e = DataFrame(sorted_importance_e[7:], columns=['features', 'importance score'])\n",
    "\n",
    "# combined_others2 = pd.DataFrame(data = {\n",
    "#     'features' : ['others'],\n",
    "#     'importance score' : [others2['importance score'].sum()]\n",
    "# })\n",
    "\n",
    "# #combining top 10 with others\n",
    "# imp_score2 = pd.concat([top7, combined_others2])\n",
    "\n",
    "import seaborn as sns\n",
    "\n",
    "a4_dims = (20.7, 8.27)\n",
    "fig, ax = plt.subplots(figsize=a4_dims)\n",
    "sns.set_theme(style=\"whitegrid\")\n",
    "\n",
    "ax = sns.barplot(x=\"features\", y=\"importance score\", data=top7_e)"
   ]
  },
  {
   "cell_type": "markdown",
   "metadata": {},
   "source": [
    "### Absorption prediction"
   ]
  },
  {
   "cell_type": "code",
   "execution_count": 30,
   "metadata": {},
   "outputs": [
    {
     "data": {
      "text/plain": [
       "[('Growth Temp (Celsius)', 0.5176058166596668),\n",
       " ('Time_min (min)', 0.2646604828905983),\n",
       " ('CA_mmol (mmol)', 0.07036645190790843),\n",
       " ('Metal_mmol (mmol)', 0.03497618496481159),\n",
       " ('x3_None', 0.020866340368920506),\n",
       " ('Phosphines_mmol (mmol)', 0.016483859826592808),\n",
       " ('Chalcogen_mmol (mmol)', 0.013749916727325381),\n",
       " ('x1_None', 0.01097354279303769),\n",
       " ('x1_myrstic acid', 0.010769009039556127),\n",
       " ('x0_cadmium acetate', 0.009444939210170587),\n",
       " ('S_II_amount (g)', 0.005874374704228669),\n",
       " ('S_I_amount (g)', 0.004877549159990379),\n",
       " ('x0_cadmium oxide', 0.0038733368850217133),\n",
       " ('x3_trioctylphosphine', 0.0032169049562696794),\n",
       " ('x4_octadecene', 0.002769474990140516),\n",
       " ('x1_stearic acid', 0.0024222813324844376),\n",
       " ('x2_dodecylamine', 0.0019573019818202304),\n",
       " ('x5_trioctylphosphine oxide', 0.0014887411281391293),\n",
       " ('x2_None', 0.0010468647567731767),\n",
       " ('x0_cadmium stearate', 0.0006727021300498792),\n",
       " ('x5_phosphinic acid', 0.00043860594127480116),\n",
       " ('x2_hexadecylamine', 0.00043715170572314),\n",
       " ('x3_tributylphosphine', 0.000340714229324606),\n",
       " ('x2_octylamine', 0.00032962958036756164),\n",
       " ('x1_oleic acid', 0.00023689684016619855),\n",
       " ('x4_None', 9.803529098234744e-05),\n",
       " ('x2_octadecylamine', 1.3841607614196498e-05),\n",
       " ('x1_ethylphosphonic acid', 7.785904282985529e-06),\n",
       " ('x0_cadmium acetate dihydrate', 1.2624867580939254e-06),\n",
       " ('Amines_mmol (mmol)', 0.0),\n",
       " ('x0_dimethylcadmium', 0.0),\n",
       " ('x1_benzoic acid', 0.0),\n",
       " ('x1_dodecylphosphonic acid', 0.0),\n",
       " ('x1_lauric acid', 0.0),\n",
       " ('x2_2-6-dimethylpyridine', 0.0),\n",
       " ('x2_aniline', 0.0),\n",
       " ('x2_benzylamine', 0.0),\n",
       " ('x2_dioctylamine/hexadecylamine', 0.0),\n",
       " ('x2_heptylamine', 0.0),\n",
       " ('x2_oleylamine', 0.0),\n",
       " ('x2_pyridine', 0.0),\n",
       " ('x2_trioctylamine', 0.0),\n",
       " ('x3_diphenylphosphine', 0.0),\n",
       " ('x3_triphenylphosphine', 0.0),\n",
       " ('x4_liquid parafin', 0.0),\n",
       " ('x4_phenyl ether', 0.0),\n",
       " ('x4_trioctylphosphine oxide', 0.0),\n",
       " ('x5_None', 0.0)]"
      ]
     },
     "execution_count": 30,
     "metadata": {},
     "output_type": "execute_result"
    }
   ],
   "source": [
    "importance_dict_a = dict()\n",
    "for i in range(0,48):\n",
    "    importance_dict_a[input_col[i]] = DT_regr_a.feature_importances_[i]\n",
    "\n",
    "sorted_importance_a = sorted(importance_dict_a.items(), key=lambda x: x[1], reverse=True)\n",
    "\n",
    "sorted_importance_a"
   ]
  },
  {
   "cell_type": "code",
   "execution_count": 31,
   "metadata": {},
   "outputs": [
    {
     "data": {
      "image/png": "[encoded data removed]",
      "text/plain": [
       "<Figure size 1490.4x595.44 with 1 Axes>"
      ]
     },
     "metadata": {},
     "output_type": "display_data"
    }
   ],
   "source": [
    "top7_a = DataFrame(sorted_importance_a[0:7], columns=['features', 'importance score'])\n",
    "\n",
    "others_a = DataFrame(sorted_importance_a[7:], columns=['features', 'importance score'])\n",
    "\n",
    "import seaborn as sns\n",
    "\n",
    "a4_dims = (20.7, 8.27)\n",
    "fig, ax = plt.subplots(figsize=a4_dims)\n",
    "sns.set_theme(style=\"whitegrid\")\n",
    "\n",
    "ax = sns.barplot(x=\"features\", y=\"importance score\", data=top7_a)"
   ]
  },
  {
   "cell_type": "code",
   "execution_count": 32,
   "metadata": {},
   "outputs": [
    {
     "data": {
      "text/plain": [
       "{'Growth Temp (Celsius)': 0.5176058166596668,\n",
       " 'Metal_mmol (mmol)': 0.03497618496481159,\n",
       " 'Chalcogen_mmol (mmol)': 0.013749916727325381,\n",
       " 'Amines_mmol (mmol)': 0.0,\n",
       " 'CA_mmol (mmol)': 0.07036645190790843,\n",
       " 'Phosphines_mmol (mmol)': 0.016483859826592808,\n",
       " 'S_I_amount (g)': 0.004877549159990379,\n",
       " 'S_II_amount (g)': 0.005874374704228669,\n",
       " 'Time_min (min)': 0.2646604828905983,\n",
       " 'x0_cadmium acetate': 0.009444939210170587,\n",
       " 'x0_cadmium acetate dihydrate': 1.2624867580939254e-06,\n",
       " 'x0_cadmium oxide': 0.0038733368850217133,\n",
       " 'x0_cadmium stearate': 0.0006727021300498792,\n",
       " 'x0_dimethylcadmium': 0.0,\n",
       " 'x1_None': 0.01097354279303769,\n",
       " 'x1_benzoic acid': 0.0,\n",
       " 'x1_dodecylphosphonic acid': 0.0,\n",
       " 'x1_ethylphosphonic acid': 7.785904282985529e-06,\n",
       " 'x1_lauric acid': 0.0,\n",
       " 'x1_myrstic acid': 0.010769009039556127,\n",
       " 'x1_oleic acid': 0.00023689684016619855,\n",
       " 'x1_stearic acid': 0.0024222813324844376,\n",
       " 'x2_2-6-dimethylpyridine': 0.0,\n",
       " 'x2_None': 0.0010468647567731767,\n",
       " 'x2_aniline': 0.0,\n",
       " 'x2_benzylamine': 0.0,\n",
       " 'x2_dioctylamine/hexadecylamine': 0.0,\n",
       " 'x2_dodecylamine': 0.0019573019818202304,\n",
       " 'x2_heptylamine': 0.0,\n",
       " 'x2_hexadecylamine': 0.00043715170572314,\n",
       " 'x2_octadecylamine': 1.3841607614196498e-05,\n",
       " 'x2_octylamine': 0.00032962958036756164,\n",
       " 'x2_oleylamine': 0.0,\n",
       " 'x2_pyridine': 0.0,\n",
       " 'x2_trioctylamine': 0.0,\n",
       " 'x3_None': 0.020866340368920506,\n",
       " 'x3_diphenylphosphine': 0.0,\n",
       " 'x3_tributylphosphine': 0.000340714229324606,\n",
       " 'x3_trioctylphosphine': 0.0032169049562696794,\n",
       " 'x3_triphenylphosphine': 0.0,\n",
       " 'x4_None': 9.803529098234744e-05,\n",
       " 'x4_liquid parafin': 0.0,\n",
       " 'x4_octadecene': 0.002769474990140516,\n",
       " 'x4_phenyl ether': 0.0,\n",
       " 'x4_trioctylphosphine oxide': 0.0,\n",
       " 'x5_None': 0.0,\n",
       " 'x5_phosphinic acid': 0.00043860594127480116,\n",
       " 'x5_trioctylphosphine oxide': 0.0014887411281391293}"
      ]
     },
     "execution_count": 32,
     "metadata": {},
     "output_type": "execute_result"
    }
   ],
   "source": [
    "importance_dict_a"
   ]
  },
  {
   "cell_type": "markdown",
   "metadata": {},
   "source": [
    "### Combine\n"
   ]
  },
  {
   "cell_type": "code",
   "execution_count": 33,
   "metadata": {},
   "outputs": [],
   "source": [
    "sorted_a = sorted(importance_dict_a.items(), key=lambda x: x[0], reverse=False)\n",
    "sorted_d = sorted(importance_dict_d.items(), key=lambda x: x[0], reverse=False)\n",
    "sorted_e = sorted(importance_dict_e.items(), key=lambda x: x[0], reverse=False)\n"
   ]
  },
  {
   "cell_type": "code",
   "execution_count": 34,
   "metadata": {
    "scrolled": true
   },
   "outputs": [
    {
     "data": {
      "text/plain": [
       "[('Amines_mmol (mmol)', 0.020289431848583155),\n",
       " ('CA_mmol (mmol)', 0.005408901176890191),\n",
       " ('Chalcogen_mmol (mmol)', 0.13210646999539158),\n",
       " ('Growth Temp (Celsius)', 0.22168617386660372),\n",
       " ('Metal_mmol (mmol)', 0.06079572792362309),\n",
       " ('Phosphines_mmol (mmol)', 0.07740409511643384),\n",
       " ('S_II_amount (g)', 0.006672596280441475),\n",
       " ('S_I_amount (g)', 0.04592469656610114),\n",
       " ('Time_min (min)', 0.23616903935942368),\n",
       " ('x0_cadmium acetate', 0.0),\n",
       " ('x0_cadmium acetate dihydrate', 0.014085558389559629),\n",
       " ('x0_cadmium oxide', 0.0025481020357590953),\n",
       " ('x0_cadmium stearate', 0.0),\n",
       " ('x0_dimethylcadmium', 0.004640409454652211),\n",
       " ('x1_None', 0.0016013484609011359),\n",
       " ('x1_benzoic acid', 0.06150986698037372),\n",
       " ('x1_dodecylphosphonic acid', 0.0),\n",
       " ('x1_ethylphosphonic acid', 5.980730681307533e-06),\n",
       " ('x1_lauric acid', 8.278195329343746e-06),\n",
       " ('x1_myrstic acid', 8.947465124435988e-05),\n",
       " ('x1_oleic acid', 0.01233833103930937),\n",
       " ('x1_stearic acid', 0.009379024447579782),\n",
       " ('x2_2-6-dimethylpyridine', 0.0),\n",
       " ('x2_None', 0.0013146381768733126),\n",
       " ('x2_aniline', 0.0),\n",
       " ('x2_benzylamine', 0.0),\n",
       " ('x2_dioctylamine/hexadecylamine', 0.0),\n",
       " ('x2_dodecylamine', 0.005332293565364408),\n",
       " ('x2_heptylamine', 4.100654032955085e-05),\n",
       " ('x2_hexadecylamine', 0.0061357653758558565),\n",
       " ('x2_octadecylamine', 0.0),\n",
       " ('x2_octylamine', 5.125817541416481e-06),\n",
       " ('x2_oleylamine', 0.0),\n",
       " ('x2_pyridine', 0.0),\n",
       " ('x2_trioctylamine', 0.0),\n",
       " ('x3_None', 0.001457837459451841),\n",
       " ('x3_diphenylphosphine', 0.0002977074828044897),\n",
       " ('x3_tributylphosphine', 0.0018102721665521227),\n",
       " ('x3_trioctylphosphine', 0.002757664647518152),\n",
       " ('x3_triphenylphosphine', 0.0002585648761246834),\n",
       " ('x4_None', 0.0),\n",
       " ('x4_liquid parafin', 0.007196724152852458),\n",
       " ('x4_octadecene', 0.03372207952609167),\n",
       " ('x4_phenyl ether', 7.390119321541686e-05),\n",
       " ('x4_trioctylphosphine oxide', 0.02325165686592775),\n",
       " ('x5_None', 0.0005405894531348704),\n",
       " ('x5_phosphinic acid', 0.0002943913511642861),\n",
       " ('x5_trioctylphosphine oxide', 0.002846274830315831)]"
      ]
     },
     "execution_count": 34,
     "metadata": {},
     "output_type": "execute_result"
    }
   ],
   "source": [
    "sorted_d "
   ]
  },
  {
   "cell_type": "code",
   "execution_count": 35,
   "metadata": {},
   "outputs": [],
   "source": [
    "combined_importance = dict()"
   ]
  },
  {
   "cell_type": "code",
   "execution_count": 37,
   "metadata": {},
   "outputs": [
    {
     "data": {
      "text/plain": [
       "{'Amines_mmol (mmol)': 0.14428412664413948,\n",
       " 'CA_mmol (mmol)': 0.09996112476898913,\n",
       " 'Chalcogen_mmol (mmol)': 0.1572430923484171,\n",
       " 'Growth Temp (Celsius)': 0.7841355338430643,\n",
       " 'Metal_mmol (mmol)': 0.1489565691478553,\n",
       " 'Phosphines_mmol (mmol)': 0.10682170344277281,\n",
       " 'S_II_amount (g)': 0.017066144039948033,\n",
       " 'S_I_amount (g)': 0.06928385904967,\n",
       " 'Time_min (min)': 0.8789344548942305,\n",
       " 'x0_cadmium acetate': 0.009444939210170587,\n",
       " 'x0_cadmium acetate dihydrate': 0.014086820876317723,\n",
       " 'x0_cadmium oxide': 0.017204849392315466,\n",
       " 'x0_cadmium stearate': 0.0006727021300498792,\n",
       " 'x0_dimethylcadmium': 0.004640409454652211,\n",
       " 'x1_None': 0.02277778024205773,\n",
       " 'x1_benzoic acid': 0.06150986698037372,\n",
       " 'x1_dodecylphosphonic acid': 0.0,\n",
       " 'x1_ethylphosphonic acid': 0.027974714571486894,\n",
       " 'x1_lauric acid': 8.278195329343746e-06,\n",
       " 'x1_myrstic acid': 0.010858483690800487,\n",
       " 'x1_oleic acid': 0.06436879288399078,\n",
       " 'x1_stearic acid': 0.012647874042194258,\n",
       " 'x2_2-6-dimethylpyridine': 0.0,\n",
       " 'x2_None': 0.01077173846163372,\n",
       " 'x2_aniline': 0.0,\n",
       " 'x2_benzylamine': 0.0,\n",
       " 'x2_dioctylamine/hexadecylamine': 0.0,\n",
       " 'x2_dodecylamine': 0.007928800153279934,\n",
       " 'x2_heptylamine': 4.100654032955085e-05,\n",
       " 'x2_hexadecylamine': 0.016390533074940636,\n",
       " 'x2_octadecylamine': 1.3841607614196498e-05,\n",
       " 'x2_octylamine': 0.0003347553979089781,\n",
       " 'x2_oleylamine': 0.0,\n",
       " 'x2_pyridine': 0.0,\n",
       " 'x2_trioctylamine': 0.0,\n",
       " 'x3_None': 0.0341716567916825,\n",
       " 'x3_diphenylphosphine': 0.014758025558655765,\n",
       " 'x3_tributylphosphine': 0.007017472653010687,\n",
       " 'x3_trioctylphosphine': 0.00854389087026052,\n",
       " 'x3_triphenylphosphine': 0.0002585648761246834,\n",
       " 'x4_None': 9.803529098234744e-05,\n",
       " 'x4_liquid parafin': 0.007196724152852458,\n",
       " 'x4_octadecene': 0.03649155451623219,\n",
       " 'x4_phenyl ether': 0.16206871741441312,\n",
       " 'x4_trioctylphosphine oxide': 0.02941242062966673,\n",
       " 'x5_None': 0.003835240868847749,\n",
       " 'x5_phosphinic acid': 0.0007329972924390873,\n",
       " 'x5_trioctylphosphine oxide': 0.0070519040002992375}"
      ]
     },
     "execution_count": 37,
     "metadata": {},
     "output_type": "execute_result"
    }
   ],
   "source": [
    "for i in range(0,48):\n",
    "    combined_importance[sorted_e[i][0]] = sorted_e[i][1] + sorted_a[i][1] + sorted_d[i][1]\n",
    "combined_importance\n"
   ]
  },
  {
   "cell_type": "code",
   "execution_count": 38,
   "metadata": {},
   "outputs": [
    {
     "data": {
      "text/plain": [
       "[('Time_min (min)', 0.8789344548942305),\n",
       " ('Growth Temp (Celsius)', 0.7841355338430643),\n",
       " ('x4_phenyl ether', 0.16206871741441312),\n",
       " ('Chalcogen_mmol (mmol)', 0.1572430923484171),\n",
       " ('Metal_mmol (mmol)', 0.1489565691478553),\n",
       " ('Amines_mmol (mmol)', 0.14428412664413948),\n",
       " ('Phosphines_mmol (mmol)', 0.10682170344277281),\n",
       " ('CA_mmol (mmol)', 0.09996112476898913),\n",
       " ('S_I_amount (g)', 0.06928385904967),\n",
       " ('x1_oleic acid', 0.06436879288399078),\n",
       " ('x1_benzoic acid', 0.06150986698037372),\n",
       " ('x4_octadecene', 0.03649155451623219),\n",
       " ('x3_None', 0.0341716567916825),\n",
       " ('x4_trioctylphosphine oxide', 0.02941242062966673),\n",
       " ('x1_ethylphosphonic acid', 0.027974714571486894),\n",
       " ('x1_None', 0.02277778024205773),\n",
       " ('x0_cadmium oxide', 0.017204849392315466),\n",
       " ('S_II_amount (g)', 0.017066144039948033),\n",
       " ('x2_hexadecylamine', 0.016390533074940636),\n",
       " ('x3_diphenylphosphine', 0.014758025558655765),\n",
       " ('x0_cadmium acetate dihydrate', 0.014086820876317723),\n",
       " ('x1_stearic acid', 0.012647874042194258),\n",
       " ('x1_myrstic acid', 0.010858483690800487),\n",
       " ('x2_None', 0.01077173846163372),\n",
       " ('x0_cadmium acetate', 0.009444939210170587),\n",
       " ('x3_trioctylphosphine', 0.00854389087026052),\n",
       " ('x2_dodecylamine', 0.007928800153279934),\n",
       " ('x4_liquid parafin', 0.007196724152852458),\n",
       " ('x5_trioctylphosphine oxide', 0.0070519040002992375),\n",
       " ('x3_tributylphosphine', 0.007017472653010687),\n",
       " ('x0_dimethylcadmium', 0.004640409454652211),\n",
       " ('x5_None', 0.003835240868847749),\n",
       " ('x5_phosphinic acid', 0.0007329972924390873),\n",
       " ('x0_cadmium stearate', 0.0006727021300498792),\n",
       " ('x2_octylamine', 0.0003347553979089781),\n",
       " ('x3_triphenylphosphine', 0.0002585648761246834),\n",
       " ('x4_None', 9.803529098234744e-05),\n",
       " ('x2_heptylamine', 4.100654032955085e-05),\n",
       " ('x2_octadecylamine', 1.3841607614196498e-05),\n",
       " ('x1_lauric acid', 8.278195329343746e-06),\n",
       " ('x1_dodecylphosphonic acid', 0.0),\n",
       " ('x2_2-6-dimethylpyridine', 0.0),\n",
       " ('x2_aniline', 0.0),\n",
       " ('x2_benzylamine', 0.0),\n",
       " ('x2_dioctylamine/hexadecylamine', 0.0),\n",
       " ('x2_oleylamine', 0.0),\n",
       " ('x2_pyridine', 0.0),\n",
       " ('x2_trioctylamine', 0.0)]"
      ]
     },
     "execution_count": 38,
     "metadata": {},
     "output_type": "execute_result"
    }
   ],
   "source": [
    "sorted_combined_importance = sorted(combined_importance.items(), key=lambda x: x[1], reverse=True)\n",
    "\n",
    "sorted_combined_importance "
   ]
  },
  {
   "cell_type": "code",
   "execution_count": 39,
   "metadata": {},
   "outputs": [
    {
     "data": {
      "image/png": "[encoded data removed]",
      "text/plain": [
       "<Figure size 1490.4x595.44 with 1 Axes>"
      ]
     },
     "metadata": {},
     "output_type": "display_data"
    }
   ],
   "source": [
    "top7_combined = DataFrame(sorted_combined_importance[0:7], columns=['features', 'importance score'])\n",
    "\n",
    "others_combined = DataFrame(sorted_combined_importance [7:], columns=['features', 'importance score'])\n",
    "\n",
    "import seaborn as sns\n",
    "\n",
    "a4_dims = (20.7, 8.27)\n",
    "fig, ax = plt.subplots(figsize=a4_dims)\n",
    "sns.set_theme(style=\"whitegrid\")\n",
    "\n",
    "ax = sns.barplot(x=\"features\", y=\"importance score\", data=top7_combined)"
   ]
  }
 ],
 "metadata": {
  "kernelspec": {
   "display_name": "Python 3 (ipykernel)",
   "language": "python",
   "name": "python3"
  },
  "language_info": {
   "codemirror_mode": {
    "name": "ipython",
    "version": 3
   },
   "file_extension": ".py",
   "mimetype": "text/x-python",
   "name": "python",
   "nbconvert_exporter": "python",
   "pygments_lexer": "ipython3",
   "version": "3.8.10"
  }
 },
 "nbformat": 4,
 "nbformat_minor": 4
}
