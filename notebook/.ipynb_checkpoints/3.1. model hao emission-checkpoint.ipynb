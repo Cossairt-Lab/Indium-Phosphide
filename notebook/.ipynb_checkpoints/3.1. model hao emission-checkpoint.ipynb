{
 "cells": [
  {
   "cell_type": "code",
   "execution_count": 20,
   "metadata": {},
   "outputs": [],
   "source": [
    "# Pandas library for the pandas dataframes\n",
    "import pandas as pd\n",
    "from pandas import DataFrame\n",
    "import numpy as np\n",
    "import scipy.stats as stats\n",
    "import scipy\n",
    "\n",
    "\n",
    "\n",
    "# Import Scikit-Learn library for decision tree models\n",
    "import sklearn \n",
    "\n",
    "from sklearn import datasets, linear_model, metrics, tree\n",
    "from sklearn.utils import resample\n",
    "\n",
    "from sklearn.tree import DecisionTreeRegressor\n",
    "\n",
    "from sklearn.ensemble import BaggingRegressor, ExtraTreesRegressor, GradientBoostingRegressor, RandomForestRegressor\n",
    "\n",
    "from sklearn.linear_model import ElasticNet, Lasso,  RidgeCV\n",
    "\n",
    "from sklearn.neighbors import KNeighborsRegressor\n",
    "\n",
    "        \n",
    "# Dataset splitting        \n",
    "from sklearn.model_selection import train_test_split, LeaveOneOut, KFold, cross_validate, RandomizedSearchCV\n",
    "\n",
    "# Errors\n",
    "from sklearn.metrics import r2_score, mean_squared_error, mean_absolute_error, accuracy_score\n",
    "\n",
    "from matplotlib import pyplot as plt\n",
    "\n",
    "from tqdm import tqdm\n",
    "\n",
    "import os\n",
    "import joblib\n",
    "\n"
   ]
  },
  {
   "cell_type": "code",
   "execution_count": 15,
   "metadata": {
    "scrolled": true
   },
   "outputs": [
    {
     "name": "stdout",
     "output_type": "stream",
     "text": [
      "<class 'pandas.core.frame.DataFrame'>\n",
      "RangeIndex: 232 entries, 0 to 231\n",
      "Data columns (total 78 columns):\n",
      " #   Column                                        Non-Null Count  Dtype  \n",
      "---  ------                                        --------------  -----  \n",
      " 0   Unnamed: 0                                    232 non-null    int64  \n",
      " 1   in_amount_mmol                                232 non-null    float64\n",
      " 2   p_amount_mmol                                 232 non-null    float64\n",
      " 3   sol_amount_ml                                 232 non-null    float64\n",
      " 4   TOP_amount_mmol                               232 non-null    float64\n",
      " 5   acid_amount_mmol                              232 non-null    float64\n",
      " 6   amine_amount_mmol                             232 non-null    float64\n",
      " 7   thiol_amount_mmol                             232 non-null    float64\n",
      " 8   zinc_amount_mmol                              232 non-null    float64\n",
      " 9   other_amount_mmol                             232 non-null    float64\n",
      " 10  total_volume_ml                               232 non-null    float64\n",
      " 11  temp_c                                        232 non-null    float64\n",
      " 12  time_min                                      232 non-null    float64\n",
      " 13  x0_chloroindium oxalate                       232 non-null    float64\n",
      " 14  x0_indium acetate                             232 non-null    float64\n",
      " 15  x0_indium bromide                             232 non-null    float64\n",
      " 16  x0_indium chloride                            232 non-null    float64\n",
      " 17  x0_indium iodide                              232 non-null    float64\n",
      " 18  x0_indium laurate                             232 non-null    float64\n",
      " 19  x0_indium myristate                           232 non-null    float64\n",
      " 20  x0_indium oxalate                             232 non-null    float64\n",
      " 21  x0_indium paltimate                           232 non-null    float64\n",
      " 22  x0_indium stearate                            232 non-null    float64\n",
      " 23  x0_indium trifluoroacetate                    232 non-null    float64\n",
      " 24  x0_indium tris(N,N-diisopropylacetamidinato)  232 non-null    float64\n",
      " 25  x1_bis(trimethylsilyl)phosphine               232 non-null    float64\n",
      " 26  x1_phosphine gas                              232 non-null    float64\n",
      " 27  x1_phosphorus trichloride                     232 non-null    float64\n",
      " 28  x1_sodium phosphide                           232 non-null    float64\n",
      " 29  x1_tris(diethylamino)phosphine                232 non-null    float64\n",
      " 30  x1_tris(dimethylamino)phosphine               232 non-null    float64\n",
      " 31  x1_tris(trimethylgermyl)phosphine             232 non-null    float64\n",
      " 32  x1_tris(trimethylsilyl)phosphine              232 non-null    float64\n",
      " 33  x1_white phosphorus                           232 non-null    float64\n",
      " 34  x2_4-ethylpyridine                            232 non-null    float64\n",
      " 35  x2_None                                       232 non-null    float64\n",
      " 36  x2_dimethylformamide                          232 non-null    float64\n",
      " 37  x2_mesitylene                                 232 non-null    float64\n",
      " 38  x2_octadecene                                 232 non-null    float64\n",
      " 39  x2_toluene                                    232 non-null    float64\n",
      " 40  x3_None                                       232 non-null    float64\n",
      " 41  x3_trioctylphosphine                          232 non-null    float64\n",
      " 42  x4_None                                       232 non-null    float64\n",
      " 43  x4_lauric acid                                232 non-null    float64\n",
      " 44  x4_myristic acid                              232 non-null    float64\n",
      " 45  x4_oleic acid                                 232 non-null    float64\n",
      " 46  x4_palmitic acid                              232 non-null    float64\n",
      " 47  x4_stearic acid                               232 non-null    float64\n",
      " 48  x5_None                                       232 non-null    float64\n",
      " 49  x5_dioctylamine                               232 non-null    float64\n",
      " 50  x5_dodecylamine                               232 non-null    float64\n",
      " 51  x5_hexadecylamine                             232 non-null    float64\n",
      " 52  x5_octylamine                                 232 non-null    float64\n",
      " 53  x5_oleylamine                                 232 non-null    float64\n",
      " 54  x6_None                                       232 non-null    float64\n",
      " 55  x6_dodecanethiol                              232 non-null    float64\n",
      " 56  x7_None                                       232 non-null    float64\n",
      " 57  x7_zinc acetate                               232 non-null    float64\n",
      " 58  x7_zinc bromide                               232 non-null    float64\n",
      " 59  x7_zinc chloride                              232 non-null    float64\n",
      " 60  x7_zinc iodide                                232 non-null    float64\n",
      " 61  x7_zinc octanoate                             232 non-null    float64\n",
      " 62  x7_zinc oleate                                232 non-null    float64\n",
      " 63  x7_zinc stearate                              232 non-null    float64\n",
      " 64  x7_zinc undecylenate                          232 non-null    float64\n",
      " 65  x8_None                                       232 non-null    float64\n",
      " 66  x8_acetic acid                                232 non-null    float64\n",
      " 67  x8_copper bromide                             232 non-null    float64\n",
      " 68  x8_dioctyl ether                              232 non-null    float64\n",
      " 69  x8_oleic acid                                 232 non-null    float64\n",
      " 70  x8_tetrabutylammonium myristate               232 non-null    float64\n",
      " 71  x8_trioctylamine                              232 non-null    float64\n",
      " 72  x8_trioctylphosphine oxide                    232 non-null    float64\n",
      " 73  x8_water                                      232 non-null    float64\n",
      " 74  x8_zinc iodide                                232 non-null    float64\n",
      " 75  diameter_nm                                   232 non-null    object \n",
      " 76  abs_nm                                        232 non-null    int64  \n",
      " 77  emission_nm                                   232 non-null    object \n",
      "dtypes: float64(74), int64(2), object(2)\n",
      "memory usage: 141.5+ KB\n"
     ]
    }
   ],
   "source": [
    "df_abs = pd.read_csv(\"hao_all_abs_scaled.csv\")\n",
    "df_abs.info()"
   ]
  },
  {
   "cell_type": "code",
   "execution_count": 16,
   "metadata": {},
   "outputs": [],
   "source": [
    "# Input for ML models\n",
    "\n",
    "input_col = ['in_amount_mmol',\n",
    "             'p_amount_mmol',\n",
    "             'sol_amount_ml',\n",
    "             'TOP_amount_mmol',\n",
    "             'acid_amount_mmol',\n",
    "             'amine_amount_mmol',\n",
    "             'thiol_amount_mmol',\n",
    "             'zinc_amount_mmol',\n",
    "             'other_amount_mmol',\n",
    "             'total_volume_ml',\n",
    "             'temp_c',\n",
    "             'time_min',\n",
    "             'x0_chloroindium oxalate',\n",
    "             'x0_indium acetate',\n",
    "             'x0_indium bromide',\n",
    "             'x0_indium chloride',\n",
    "             'x0_indium iodide',\n",
    "             'x0_indium laurate',\n",
    "             'x0_indium myristate',\n",
    "             'x0_indium oxalate',\n",
    "             'x0_indium paltimate',\n",
    "             'x0_indium stearate',\n",
    "             'x0_indium trifluoroacetate',\n",
    "             'x0_indium tris(N,N-diisopropylacetamidinato)',\n",
    "             'x1_bis(trimethylsilyl)phosphine',\n",
    "             'x1_phosphine gas',\n",
    "             'x1_phosphorus trichloride',\n",
    "             'x1_sodium phosphide',\n",
    "             'x1_tris(diethylamino)phosphine',\n",
    "             'x1_tris(dimethylamino)phosphine',\n",
    "             'x1_tris(trimethylgermyl)phosphine',\n",
    "             'x1_tris(trimethylsilyl)phosphine',\n",
    "             'x1_white phosphorus',\n",
    "             'x2_4-ethylpyridine',\n",
    "             'x2_None',\n",
    "             'x2_dimethylformamide',\n",
    "             'x2_mesitylene',\n",
    "             'x2_octadecene',\n",
    "             'x2_toluene',\n",
    "             'x3_None',\n",
    "             'x3_trioctylphosphine',\n",
    "             'x4_None',\n",
    "             'x4_lauric acid',\n",
    "             'x4_myristic acid',\n",
    "             'x4_oleic acid',\n",
    "             'x4_palmitic acid',\n",
    "             'x4_stearic acid',\n",
    "             'x5_None',\n",
    "             'x5_dioctylamine',\n",
    "             'x5_dodecylamine',\n",
    "             'x5_hexadecylamine',\n",
    "             'x5_octylamine',\n",
    "             'x5_oleylamine',\n",
    "             'x6_None',\n",
    "             'x6_dodecanethiol',\n",
    "             'x7_None',\n",
    "             'x7_zinc acetate',\n",
    "             'x7_zinc bromide',\n",
    "             'x7_zinc chloride',\n",
    "             'x7_zinc iodide',\n",
    "             'x7_zinc octanoate',\n",
    "             'x7_zinc oleate',\n",
    "             'x7_zinc stearate',\n",
    "             'x7_zinc undecylenate',\n",
    "             'x8_None',\n",
    "             'x8_acetic acid',\n",
    "             'x8_copper bromide',\n",
    "             'x8_dioctyl ether',\n",
    "             'x8_oleic acid',\n",
    "             'x8_tetrabutylammonium myristate',\n",
    "             'x8_trioctylamine',\n",
    "             'x8_trioctylphosphine oxide',\n",
    "             'x8_water',\n",
    "             'x8_zinc iodide'\n",
    "            ]\n",
    "\n",
    "output_col = ['abs_nm']\n",
    "\n",
    "X = df_abs[input_col]\n",
    "\n",
    "Y = df_abs[output_col]"
   ]
  },
  {
   "cell_type": "code",
   "execution_count": 17,
   "metadata": {},
   "outputs": [],
   "source": [
    "# Splitting dataset for training\n",
    "X_train, X_test, Y_train, Y_test = train_test_split(X, Y, test_size=0.15, random_state=45, shuffle=True)"
   ]
  },
  {
   "cell_type": "markdown",
   "metadata": {},
   "source": [
    "### 1. Bagging"
   ]
  },
  {
   "cell_type": "code",
   "execution_count": 21,
   "metadata": {},
   "outputs": [
    {
     "name": "stderr",
     "output_type": "stream",
     "text": [
      "100%|██████████| 20/20 [02:33<00:00,  7.69s/it]"
     ]
    },
    {
     "name": "stdout",
     "output_type": "stream",
     "text": [
      "19.378240013954287 17 6 55\n"
     ]
    },
    {
     "name": "stderr",
     "output_type": "stream",
     "text": [
      "\n"
     ]
    }
   ],
   "source": [
    "# This is a grid search for three parameters in the Bagging algorithm. \n",
    "# Parameters are: max_depth, n_estimators, random_state.\n",
    "# This gives the best combination of the three parameters for the smallest mean squared error.\n",
    "\n",
    "min_mae = 99999\n",
    "\n",
    "min_i, min_j, min_k  = 0, 0, 0\n",
    "\n",
    "for i in tqdm(range(1, 21)):\n",
    "    for j in range(1, 21):\n",
    "        for k in range(5, 80, 5):\n",
    "            \n",
    "            B_regr = BaggingRegressor(base_estimator=DecisionTreeRegressor(max_depth=i),\n",
    "                                      n_estimators=j,\n",
    "                                      random_state=k)\n",
    "            \n",
    "            B_regr.fit(X_train, np.ravel(Y_train))\n",
    "            \n",
    "            B_Y_pred = B_regr.predict(X_test)\n",
    "            \n",
    "            mae = mean_absolute_error(Y_test, B_Y_pred)\n",
    "            \n",
    "            if (min_mae > mae):\n",
    "                min_mae = mae\n",
    "                min_i = i\n",
    "                min_j = j\n",
    "                min_k = k\n",
    "            \n",
    "print(min_mae, min_i, min_j, min_k)"
   ]
  },
  {
   "cell_type": "markdown",
   "metadata": {},
   "source": [
    "### 2. Decision Trees"
   ]
  },
  {
   "cell_type": "code",
   "execution_count": 22,
   "metadata": {},
   "outputs": [
    {
     "name": "stderr",
     "output_type": "stream",
     "text": [
      "100%|██████████| 20/20 [00:37<00:00,  1.87s/it]"
     ]
    },
    {
     "name": "stdout",
     "output_type": "stream",
     "text": [
      "22.964285714285715 20 7 15\n"
     ]
    },
    {
     "name": "stderr",
     "output_type": "stream",
     "text": [
      "\n"
     ]
    }
   ],
   "source": [
    "# This is a grid search for three parameters in the Decision Trees algorithm. \n",
    "# Parameters are: max_depth, max_features, random_state.\n",
    "# This gives the best combination of the three parameters for the smallest mean squared error.\n",
    "\n",
    "min_mae = 99999\n",
    "\n",
    "min_i, min_j, min_k  = 0, 0, 0\n",
    "\n",
    "for i in tqdm(range(1, 21)):\n",
    "    for j in range(1, 21):\n",
    "        for k in range(5, 80, 5):\n",
    "            \n",
    "            DT_regr = DecisionTreeRegressor(max_depth=i,\n",
    "                                max_features=j,\n",
    "                                random_state=k)\n",
    "            \n",
    "            DT_regr.fit(X_train, Y_train)\n",
    "\n",
    "            DT_Y_pred = DT_regr.predict(X_test)\n",
    "\n",
    "            mae = mean_absolute_error(Y_test, DT_Y_pred)\n",
    "            \n",
    "            if (min_mae > mae):\n",
    "                min_mae = mae\n",
    "                min_i = i\n",
    "                min_j = j\n",
    "                min_k = k\n",
    "            \n",
    "print(min_mae, min_i, min_j, min_k)"
   ]
  },
  {
   "cell_type": "markdown",
   "metadata": {},
   "source": [
    "### 3. Random Forrest"
   ]
  },
  {
   "cell_type": "code",
   "execution_count": 24,
   "metadata": {},
   "outputs": [
    {
     "name": "stderr",
     "output_type": "stream",
     "text": [
      "100%|██████████| 20/20 [03:14<00:00,  9.71s/it]"
     ]
    },
    {
     "name": "stdout",
     "output_type": "stream",
     "text": [
      "20.173242630385488 16 7 4\n"
     ]
    },
    {
     "name": "stderr",
     "output_type": "stream",
     "text": [
      "\n"
     ]
    }
   ],
   "source": [
    "# This is a grid search for three parameters in the Random Forest algorithm. \n",
    "# Parameters are: max_depth, n_estimators, max_features.\n",
    "# Random_state is set to 45.\n",
    "# This gives the best combination of the three parameters for the smallest mean squared error.\n",
    "\n",
    "min_mae = 99999\n",
    "min_i, min_j, min_k = 0, 0, 0\n",
    "for i in tqdm(range(1, 21)):\n",
    "    for j in range(1, 21):\n",
    "        for k in range(2, 50, 2):\n",
    "            RF_regr = RandomForestRegressor(max_depth=i, \n",
    "                                            n_estimators=j, \n",
    "                                            max_features=k,\n",
    "                                            random_state=45\n",
    "                                                )\n",
    "            RF_regr.fit(X_train, np.ravel(Y_train))\n",
    "            RF_Y_pred = RF_regr.predict(X_test)\n",
    "\n",
    "            mae = mean_absolute_error(Y_test, RF_Y_pred)\n",
    "            if (min_mae > mae):\n",
    "                min_mae = mae\n",
    "                min_i = i\n",
    "                min_j = j\n",
    "                min_k = k\n",
    "            \n",
    "print(min_mae, min_i, min_j, min_k)"
   ]
  },
  {
   "cell_type": "markdown",
   "metadata": {},
   "source": [
    "### 4. Extra Trees"
   ]
  },
  {
   "cell_type": "code",
   "execution_count": 25,
   "metadata": {},
   "outputs": [
    {
     "name": "stderr",
     "output_type": "stream",
     "text": [
      "100%|██████████| 20/20 [02:32<00:00,  7.61s/it]"
     ]
    },
    {
     "name": "stdout",
     "output_type": "stream",
     "text": [
      "18.15238095238095 15 20 40\n"
     ]
    },
    {
     "name": "stderr",
     "output_type": "stream",
     "text": [
      "\n"
     ]
    }
   ],
   "source": [
    "# This is a grid search for three parameters in the Extra Trees algorithm. \n",
    "# Parameters are: random_state, n_estimators, max_features.\n",
    "\n",
    "# This gives the best combination of the three parameters for the smallest mean squared error.\n",
    "\n",
    "min_mae = 99999\n",
    "min_i, min_j, min_k = 0, 0, 0\n",
    "for i in tqdm(range(1, 21)):\n",
    "    for j in range(1, 21):\n",
    "        for k in range(2, 50, 2):\n",
    "            ET_regr = ExtraTreesRegressor(n_estimators=i, \n",
    "                                            max_features=j,\n",
    "                                            random_state=k\n",
    "                                                )\n",
    "            ET_regr.fit(X_train, np.ravel(Y_train))\n",
    "            ET_Y_pred = ET_regr.predict(X_test)\n",
    "\n",
    "            mae = mean_absolute_error(Y_test, ET_Y_pred)\n",
    "            if (min_mae > mae):\n",
    "                min_mae = mae\n",
    "                min_i = i\n",
    "                min_j = j\n",
    "                min_k = k\n",
    "            \n",
    "print(min_mae, min_i, min_j, min_k)"
   ]
  },
  {
   "cell_type": "code",
   "execution_count": 54,
   "metadata": {},
   "outputs": [
    {
     "name": "stdout",
     "output_type": "stream",
     "text": [
      "Mean absolute error = 18.152\n"
     ]
    },
    {
     "data": {
      "image/png": "[encoded data removed]",
      "text/plain": [
       "<Figure size 432x288 with 1 Axes>"
      ]
     },
     "metadata": {
      "needs_background": "light"
     },
     "output_type": "display_data"
    }
   ],
   "source": [
    "ET_regr = ExtraTreesRegressor(n_estimators=15, max_features=20, random_state=40)\n",
    "            \n",
    "ET_regr.fit(X_train, np.ravel(Y_train))\n",
    "            \n",
    "ET_Y_pred = ET_regr.predict(X_test)\n",
    "            \n",
    "ET_mae = mean_absolute_error(Y_test, ET_Y_pred)\n",
    "print(\"Mean absolute error =\", round(ET_mae,3))\n",
    "\n",
    "plt.figure()\n",
    "plt.title(\"Extra TRees\")\n",
    "plt.plot(Y_test, ET_Y_pred, 'o')\n",
    "plt.xlabel('Observed Values (nm)')\n",
    "plt.ylabel('Predicted Values (nm)')\n",
    "plt.plot([400,800],[400,800], color = 'r')\n",
    "plt.text(400, 750, 'MAE=' , fontdict=None)\n",
    "plt.text(440, 750, round(ET_mae,3) , fontdict=None)\n",
    "plt.show()"
   ]
  },
  {
   "cell_type": "markdown",
   "metadata": {},
   "source": [
    "### 5. Gradient Boosting"
   ]
  },
  {
   "cell_type": "code",
   "execution_count": 26,
   "metadata": {},
   "outputs": [
    {
     "name": "stderr",
     "output_type": "stream",
     "text": [
      "100%|██████████| 27/27 [15:34<00:00, 34.63s/it]"
     ]
    },
    {
     "name": "stdout",
     "output_type": "stream",
     "text": [
      "17.644544712434808 330 5\n"
     ]
    },
    {
     "name": "stderr",
     "output_type": "stream",
     "text": [
      "\n"
     ]
    }
   ],
   "source": [
    "min_mae = 99999\n",
    "min_i, min_j = 0, 0\n",
    "for i in tqdm(range(80, 350, 10)):\n",
    "    for j in range(1, 100):\n",
    "        GB_regr = GradientBoostingRegressor(n_estimators=i, max_depth=j)\n",
    "        GB_regr.fit(X_train, np.ravel(Y_train))\n",
    "        GB_Y_pred = GB_regr.predict(X_test)\n",
    "\n",
    "        mae = mean_absolute_error(Y_test, GB_Y_pred)\n",
    "        if (min_mae > mae):\n",
    "            min_mae = mae\n",
    "            min_i = i\n",
    "            min_j = j\n",
    "                        \n",
    "print(min_mae, min_i, min_j)"
   ]
  },
  {
   "cell_type": "code",
   "execution_count": 71,
   "metadata": {},
   "outputs": [
    {
     "name": "stdout",
     "output_type": "stream",
     "text": [
      "Mean absolute error = 18.868\n"
     ]
    },
    {
     "data": {
      "image/png": "[encoded data removed]",
      "text/plain": [
       "<Figure size 432x288 with 1 Axes>"
      ]
     },
     "metadata": {
      "needs_background": "light"
     },
     "output_type": "display_data"
    }
   ],
   "source": [
    "GB_regr = GradientBoostingRegressor(n_estimators=344, max_depth=5)\n",
    "\n",
    "            \n",
    "GB_regr.fit(X_train, np.ravel(Y_train))\n",
    "            \n",
    "GB_Y_pred = GB_regr.predict(X_test)\n",
    "            \n",
    "GB_mae = mean_absolute_error(Y_test, GB_Y_pred)\n",
    "print(\"Mean absolute error =\", round(GB_mae,3))\n",
    "\n",
    "plt.figure()\n",
    "plt.title(\"Extra TRees\")\n",
    "plt.plot(Y_test, GB_Y_pred, 'o')\n",
    "plt.xlabel('Observed Values (nm)')\n",
    "plt.ylabel('Predicted Values (nm)')\n",
    "plt.plot([400,800],[400,800], color = 'r')\n",
    "plt.text(400, 750, 'MAE=' , fontdict=None)\n",
    "plt.text(440, 750, round(GB_mae,3) , fontdict=None)\n",
    "plt.show()"
   ]
  },
  {
   "cell_type": "markdown",
   "metadata": {},
   "source": [
    "### 6. Others"
   ]
  },
  {
   "cell_type": "code",
   "execution_count": 60,
   "metadata": {},
   "outputs": [
    {
     "name": "stdout",
     "output_type": "stream",
     "text": [
      "K-nn\n",
      " MAE for diameter is  37.925714285714285 \n",
      "\n",
      "Ridge\n",
      " MAE for diameter is  38.266842943033076 \n",
      "\n",
      "Lasso\n",
      " MAE for diameter is  37.0223078748746 \n",
      "\n",
      "ElasticNet\n",
      " MAE for diameter is  46.16918476536527 \n",
      "\n"
     ]
    }
   ],
   "source": [
    "REGRESSIONS = {\n",
    "    \"K-nn\": KNeighborsRegressor(),                          \n",
    "    \"Ridge\": RidgeCV(),\n",
    "    \"Lasso\": Lasso(),\n",
    "    \"ElasticNet\": ElasticNet(random_state=0),\n",
    "                }\n",
    "# mean absolute error is used to evaluate the performance of all regressions.\n",
    "\n",
    "\n",
    "for name, reg in REGRESSIONS.items():     \n",
    "    reg.fit(X_train, Y_train)                 \n",
    "    Y_pred = pd.DataFrame(reg.predict(X_test))\n",
    "    \n",
    "    print(name)\n",
    "    \n",
    "    mae = mean_absolute_error(Y_test, Y_pred)\n",
    "    \n",
    "    print(' MAE for diameter is ', mae, '\\n')"
   ]
  },
  {
   "cell_type": "markdown",
   "metadata": {},
   "source": [
    "## Conclusion"
   ]
  },
  {
   "cell_type": "markdown",
   "metadata": {},
   "source": [
    "gave the best performance."
   ]
  },
  {
   "cell_type": "markdown",
   "metadata": {},
   "source": [
    "### Saving model"
   ]
  },
  {
   "cell_type": "code",
   "execution_count": null,
   "metadata": {},
   "outputs": [],
   "source": []
  },
  {
   "cell_type": "code",
   "execution_count": null,
   "metadata": {},
   "outputs": [],
   "source": []
  },
  {
   "cell_type": "code",
   "execution_count": null,
   "metadata": {},
   "outputs": [],
   "source": []
  }
 ],
 "metadata": {
  "kernelspec": {
   "display_name": "Python 3",
   "language": "python",
   "name": "python3"
  },
  "language_info": {
   "codemirror_mode": {
    "name": "ipython",
    "version": 3
   },
   "file_extension": ".py",
   "mimetype": "text/x-python",
   "name": "python",
   "nbconvert_exporter": "python",
   "pygments_lexer": "ipython3",
   "version": "3.8.5"
  }
 },
 "nbformat": 4,
 "nbformat_minor": 4
}
