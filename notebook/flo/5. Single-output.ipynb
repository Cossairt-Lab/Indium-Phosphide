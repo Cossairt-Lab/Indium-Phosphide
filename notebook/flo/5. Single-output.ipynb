{
 "cells": [
  {
   "cell_type": "code",
   "execution_count": 1,
   "metadata": {},
   "outputs": [],
   "source": [
    "import numpy as np \n",
    "import pandas as pd\n",
    "import os\n",
    "import joblib\n",
    "import sklearn \n",
    "import matplotlib\n",
    "from matplotlib import pyplot as plt\n",
    "\n",
    "from sklearn.model_selection import train_test_split\n",
    "\n",
    "#Regressions:\n",
    "\n",
    "from sklearn.multioutput import MultiOutputRegressor\n",
    "\n",
    "from sklearn.neighbors import KNeighborsRegressor\n",
    "from sklearn.linear_model import Ridge\n",
    "from sklearn.linear_model import Lasso\n",
    "from sklearn.linear_model import ElasticNet\n",
    "from sklearn.linear_model import LinearRegression\n",
    "from sklearn.linear_model import RidgeCV\n",
    "from sklearn.ensemble import ExtraTreesRegressor\n",
    "from sklearn.ensemble import GradientBoostingRegressor\n",
    "from sklearn.ensemble import RandomForestRegressor\n",
    "from sklearn.ensemble import AdaBoostRegressor\n",
    "from sklearn.tree import DecisionTreeRegressor\n",
    "\n",
    "#Metric\n",
    "from sklearn.metrics import mean_squared_error\n",
    "from sklearn.metrics import mean_absolute_error\n",
    "from sklearn.metrics import r2_score\n",
    "\n",
    "\n",
    "from pandas import DataFrame\n",
    "\n",
    "\n",
    "# Show progress bar\n",
    "from tqdm import tqdm"
   ]
  },
  {
   "cell_type": "code",
   "execution_count": 2,
   "metadata": {},
   "outputs": [
    {
     "data": {
      "text/html": [
       "<div>\n",
       "<style scoped>\n",
       "    .dataframe tbody tr th:only-of-type {\n",
       "        vertical-align: middle;\n",
       "    }\n",
       "\n",
       "    .dataframe tbody tr th {\n",
       "        vertical-align: top;\n",
       "    }\n",
       "\n",
       "    .dataframe thead th {\n",
       "        text-align: right;\n",
       "    }\n",
       "</style>\n",
       "<table border=\"1\" class=\"dataframe\">\n",
       "  <thead>\n",
       "    <tr style=\"text-align: right;\">\n",
       "      <th></th>\n",
       "      <th>Unnamed: 0</th>\n",
       "      <th>Unnamed: 0.1</th>\n",
       "      <th>Unnamed: 0.1.1</th>\n",
       "      <th>Unnamed: 0.1.1.1</th>\n",
       "      <th>in_amount_mmol</th>\n",
       "      <th>p_amount_mmol</th>\n",
       "      <th>ligand_amount_mmol</th>\n",
       "      <th>first_sol_amount_ml</th>\n",
       "      <th>second_sol_amount_ml</th>\n",
       "      <th>third_sol_amount_ml</th>\n",
       "      <th>...</th>\n",
       "      <th>x6_zinc stearate</th>\n",
       "      <th>x6_zinc undecylenate</th>\n",
       "      <th>x7_None</th>\n",
       "      <th>x7_copper bromide</th>\n",
       "      <th>x7_oleic acid</th>\n",
       "      <th>x7_water</th>\n",
       "      <th>x7_zinc iodide</th>\n",
       "      <th>diameter_nm</th>\n",
       "      <th>abs_nm</th>\n",
       "      <th>emission_nm</th>\n",
       "    </tr>\n",
       "  </thead>\n",
       "  <tbody>\n",
       "    <tr>\n",
       "      <th>0</th>\n",
       "      <td>0</td>\n",
       "      <td>0</td>\n",
       "      <td>0</td>\n",
       "      <td>0</td>\n",
       "      <td>0.154575</td>\n",
       "      <td>-0.011188</td>\n",
       "      <td>-0.247025</td>\n",
       "      <td>-0.673379</td>\n",
       "      <td>-0.370637</td>\n",
       "      <td>-0.096002</td>\n",
       "      <td>...</td>\n",
       "      <td>1</td>\n",
       "      <td>0</td>\n",
       "      <td>1</td>\n",
       "      <td>0</td>\n",
       "      <td>0</td>\n",
       "      <td>0</td>\n",
       "      <td>0</td>\n",
       "      <td>1.750000</td>\n",
       "      <td>480.0</td>\n",
       "      <td>539.0</td>\n",
       "    </tr>\n",
       "    <tr>\n",
       "      <th>1</th>\n",
       "      <td>1</td>\n",
       "      <td>1</td>\n",
       "      <td>1</td>\n",
       "      <td>1</td>\n",
       "      <td>0.195883</td>\n",
       "      <td>0.280681</td>\n",
       "      <td>-0.439228</td>\n",
       "      <td>-0.658075</td>\n",
       "      <td>-0.370637</td>\n",
       "      <td>-0.096002</td>\n",
       "      <td>...</td>\n",
       "      <td>0</td>\n",
       "      <td>0</td>\n",
       "      <td>1</td>\n",
       "      <td>0</td>\n",
       "      <td>0</td>\n",
       "      <td>0</td>\n",
       "      <td>0</td>\n",
       "      <td>2.610000</td>\n",
       "      <td>610.0</td>\n",
       "      <td>688.5</td>\n",
       "    </tr>\n",
       "    <tr>\n",
       "      <th>2</th>\n",
       "      <td>2</td>\n",
       "      <td>2</td>\n",
       "      <td>2</td>\n",
       "      <td>2</td>\n",
       "      <td>-0.423738</td>\n",
       "      <td>-0.412509</td>\n",
       "      <td>-0.439228</td>\n",
       "      <td>-0.655198</td>\n",
       "      <td>-0.370637</td>\n",
       "      <td>-0.096002</td>\n",
       "      <td>...</td>\n",
       "      <td>0</td>\n",
       "      <td>0</td>\n",
       "      <td>1</td>\n",
       "      <td>0</td>\n",
       "      <td>0</td>\n",
       "      <td>0</td>\n",
       "      <td>0</td>\n",
       "      <td>3.088889</td>\n",
       "      <td>560.0</td>\n",
       "      <td>595.0</td>\n",
       "    </tr>\n",
       "    <tr>\n",
       "      <th>3</th>\n",
       "      <td>3</td>\n",
       "      <td>3</td>\n",
       "      <td>3</td>\n",
       "      <td>3</td>\n",
       "      <td>-0.423738</td>\n",
       "      <td>-0.412509</td>\n",
       "      <td>-0.439228</td>\n",
       "      <td>-0.655198</td>\n",
       "      <td>-0.370637</td>\n",
       "      <td>-0.096002</td>\n",
       "      <td>...</td>\n",
       "      <td>0</td>\n",
       "      <td>0</td>\n",
       "      <td>1</td>\n",
       "      <td>0</td>\n",
       "      <td>0</td>\n",
       "      <td>0</td>\n",
       "      <td>0</td>\n",
       "      <td>3.233333</td>\n",
       "      <td>590.0</td>\n",
       "      <td>635.0</td>\n",
       "    </tr>\n",
       "    <tr>\n",
       "      <th>4</th>\n",
       "      <td>4</td>\n",
       "      <td>4</td>\n",
       "      <td>4</td>\n",
       "      <td>4</td>\n",
       "      <td>0.154575</td>\n",
       "      <td>-0.011188</td>\n",
       "      <td>-0.247025</td>\n",
       "      <td>-0.604513</td>\n",
       "      <td>-0.370637</td>\n",
       "      <td>-0.096002</td>\n",
       "      <td>...</td>\n",
       "      <td>0</td>\n",
       "      <td>0</td>\n",
       "      <td>1</td>\n",
       "      <td>0</td>\n",
       "      <td>0</td>\n",
       "      <td>0</td>\n",
       "      <td>0</td>\n",
       "      <td>2.383333</td>\n",
       "      <td>482.2</td>\n",
       "      <td>500.0</td>\n",
       "    </tr>\n",
       "    <tr>\n",
       "      <th>...</th>\n",
       "      <td>...</td>\n",
       "      <td>...</td>\n",
       "      <td>...</td>\n",
       "      <td>...</td>\n",
       "      <td>...</td>\n",
       "      <td>...</td>\n",
       "      <td>...</td>\n",
       "      <td>...</td>\n",
       "      <td>...</td>\n",
       "      <td>...</td>\n",
       "      <td>...</td>\n",
       "      <td>...</td>\n",
       "      <td>...</td>\n",
       "      <td>...</td>\n",
       "      <td>...</td>\n",
       "      <td>...</td>\n",
       "      <td>...</td>\n",
       "      <td>...</td>\n",
       "      <td>...</td>\n",
       "      <td>...</td>\n",
       "      <td>...</td>\n",
       "    </tr>\n",
       "    <tr>\n",
       "      <th>210</th>\n",
       "      <td>210</td>\n",
       "      <td>214</td>\n",
       "      <td>214</td>\n",
       "      <td>214</td>\n",
       "      <td>0.154575</td>\n",
       "      <td>-0.376755</td>\n",
       "      <td>0.713993</td>\n",
       "      <td>4.491519</td>\n",
       "      <td>-0.370637</td>\n",
       "      <td>-0.096002</td>\n",
       "      <td>...</td>\n",
       "      <td>0</td>\n",
       "      <td>0</td>\n",
       "      <td>1</td>\n",
       "      <td>0</td>\n",
       "      <td>0</td>\n",
       "      <td>0</td>\n",
       "      <td>0</td>\n",
       "      <td>4.000000</td>\n",
       "      <td>585.0</td>\n",
       "      <td>630.0</td>\n",
       "    </tr>\n",
       "    <tr>\n",
       "      <th>211</th>\n",
       "      <td>211</td>\n",
       "      <td>215</td>\n",
       "      <td>215</td>\n",
       "      <td>215</td>\n",
       "      <td>7.590031</td>\n",
       "      <td>7.504453</td>\n",
       "      <td>-0.439228</td>\n",
       "      <td>5.524499</td>\n",
       "      <td>-0.370637</td>\n",
       "      <td>-0.096002</td>\n",
       "      <td>...</td>\n",
       "      <td>0</td>\n",
       "      <td>0</td>\n",
       "      <td>1</td>\n",
       "      <td>0</td>\n",
       "      <td>0</td>\n",
       "      <td>0</td>\n",
       "      <td>0</td>\n",
       "      <td>2.833333</td>\n",
       "      <td>465.0</td>\n",
       "      <td>550.0</td>\n",
       "    </tr>\n",
       "    <tr>\n",
       "      <th>212</th>\n",
       "      <td>212</td>\n",
       "      <td>216</td>\n",
       "      <td>216</td>\n",
       "      <td>216</td>\n",
       "      <td>2.633061</td>\n",
       "      <td>0.718486</td>\n",
       "      <td>4.173657</td>\n",
       "      <td>6.213152</td>\n",
       "      <td>4.521657</td>\n",
       "      <td>-0.096002</td>\n",
       "      <td>...</td>\n",
       "      <td>0</td>\n",
       "      <td>0</td>\n",
       "      <td>1</td>\n",
       "      <td>0</td>\n",
       "      <td>0</td>\n",
       "      <td>0</td>\n",
       "      <td>0</td>\n",
       "      <td>1.933333</td>\n",
       "      <td>465.0</td>\n",
       "      <td>595.0</td>\n",
       "    </tr>\n",
       "    <tr>\n",
       "      <th>213</th>\n",
       "      <td>213</td>\n",
       "      <td>217</td>\n",
       "      <td>217</td>\n",
       "      <td>217</td>\n",
       "      <td>2.633061</td>\n",
       "      <td>0.718486</td>\n",
       "      <td>4.173657</td>\n",
       "      <td>6.213152</td>\n",
       "      <td>4.521657</td>\n",
       "      <td>-0.096002</td>\n",
       "      <td>...</td>\n",
       "      <td>0</td>\n",
       "      <td>0</td>\n",
       "      <td>1</td>\n",
       "      <td>0</td>\n",
       "      <td>0</td>\n",
       "      <td>0</td>\n",
       "      <td>0</td>\n",
       "      <td>3.033333</td>\n",
       "      <td>495.0</td>\n",
       "      <td>595.0</td>\n",
       "    </tr>\n",
       "    <tr>\n",
       "      <th>214</th>\n",
       "      <td>214</td>\n",
       "      <td>218</td>\n",
       "      <td>218</td>\n",
       "      <td>218</td>\n",
       "      <td>2.633061</td>\n",
       "      <td>0.718486</td>\n",
       "      <td>4.173657</td>\n",
       "      <td>6.213152</td>\n",
       "      <td>4.521657</td>\n",
       "      <td>-0.096002</td>\n",
       "      <td>...</td>\n",
       "      <td>0</td>\n",
       "      <td>0</td>\n",
       "      <td>1</td>\n",
       "      <td>0</td>\n",
       "      <td>0</td>\n",
       "      <td>0</td>\n",
       "      <td>0</td>\n",
       "      <td>2.700000</td>\n",
       "      <td>500.0</td>\n",
       "      <td>595.0</td>\n",
       "    </tr>\n",
       "  </tbody>\n",
       "</table>\n",
       "<p>215 rows × 82 columns</p>\n",
       "</div>"
      ],
      "text/plain": [
       "     Unnamed: 0  Unnamed: 0.1  Unnamed: 0.1.1  Unnamed: 0.1.1.1  \\\n",
       "0             0             0               0                 0   \n",
       "1             1             1               1                 1   \n",
       "2             2             2               2                 2   \n",
       "3             3             3               3                 3   \n",
       "4             4             4               4                 4   \n",
       "..          ...           ...             ...               ...   \n",
       "210         210           214             214               214   \n",
       "211         211           215             215               215   \n",
       "212         212           216             216               216   \n",
       "213         213           217             217               217   \n",
       "214         214           218             218               218   \n",
       "\n",
       "     in_amount_mmol  p_amount_mmol  ligand_amount_mmol  first_sol_amount_ml  \\\n",
       "0          0.154575      -0.011188           -0.247025            -0.673379   \n",
       "1          0.195883       0.280681           -0.439228            -0.658075   \n",
       "2         -0.423738      -0.412509           -0.439228            -0.655198   \n",
       "3         -0.423738      -0.412509           -0.439228            -0.655198   \n",
       "4          0.154575      -0.011188           -0.247025            -0.604513   \n",
       "..              ...            ...                 ...                  ...   \n",
       "210        0.154575      -0.376755            0.713993             4.491519   \n",
       "211        7.590031       7.504453           -0.439228             5.524499   \n",
       "212        2.633061       0.718486            4.173657             6.213152   \n",
       "213        2.633061       0.718486            4.173657             6.213152   \n",
       "214        2.633061       0.718486            4.173657             6.213152   \n",
       "\n",
       "     second_sol_amount_ml  third_sol_amount_ml  ...  x6_zinc stearate  \\\n",
       "0               -0.370637            -0.096002  ...                 1   \n",
       "1               -0.370637            -0.096002  ...                 0   \n",
       "2               -0.370637            -0.096002  ...                 0   \n",
       "3               -0.370637            -0.096002  ...                 0   \n",
       "4               -0.370637            -0.096002  ...                 0   \n",
       "..                    ...                  ...  ...               ...   \n",
       "210             -0.370637            -0.096002  ...                 0   \n",
       "211             -0.370637            -0.096002  ...                 0   \n",
       "212              4.521657            -0.096002  ...                 0   \n",
       "213              4.521657            -0.096002  ...                 0   \n",
       "214              4.521657            -0.096002  ...                 0   \n",
       "\n",
       "     x6_zinc undecylenate  x7_None  x7_copper bromide  x7_oleic acid  \\\n",
       "0                       0        1                  0              0   \n",
       "1                       0        1                  0              0   \n",
       "2                       0        1                  0              0   \n",
       "3                       0        1                  0              0   \n",
       "4                       0        1                  0              0   \n",
       "..                    ...      ...                ...            ...   \n",
       "210                     0        1                  0              0   \n",
       "211                     0        1                  0              0   \n",
       "212                     0        1                  0              0   \n",
       "213                     0        1                  0              0   \n",
       "214                     0        1                  0              0   \n",
       "\n",
       "     x7_water  x7_zinc iodide  diameter_nm  abs_nm  emission_nm  \n",
       "0           0               0     1.750000   480.0        539.0  \n",
       "1           0               0     2.610000   610.0        688.5  \n",
       "2           0               0     3.088889   560.0        595.0  \n",
       "3           0               0     3.233333   590.0        635.0  \n",
       "4           0               0     2.383333   482.2        500.0  \n",
       "..        ...             ...          ...     ...          ...  \n",
       "210         0               0     4.000000   585.0        630.0  \n",
       "211         0               0     2.833333   465.0        550.0  \n",
       "212         0               0     1.933333   465.0        595.0  \n",
       "213         0               0     3.033333   495.0        595.0  \n",
       "214         0               0     2.700000   500.0        595.0  \n",
       "\n",
       "[215 rows x 82 columns]"
      ]
     },
     "execution_count": 2,
     "metadata": {},
     "output_type": "execute_result"
    }
   ],
   "source": [
    "df = pd.read_csv('flo_dataset_augmented.csv')\n",
    "df"
   ]
  },
  {
   "cell_type": "code",
   "execution_count": 3,
   "metadata": {},
   "outputs": [],
   "source": [
    "# Input for ML models\n",
    "\n",
    "input_col = ['in_amount_mmol', 'p_amount_mmol', 'ligand_amount_mmol',\n",
    "       'first_sol_amount_ml', 'second_sol_amount_ml', 'third_sol_amount_ml',\n",
    "       'other_1_amount_mmol', 'other_2_amount_mmol', 'total_volume_ml',\n",
    "       'temp_c', 'time_min', 'x0_chloroindium oxalate', 'x0_indium acetate',\n",
    "       'x0_indium bromide', 'x0_indium chloride', 'x0_indium iodide',\n",
    "       'x0_indium myristate', 'x0_indium oxalate', 'x0_indium palmitate',\n",
    "       'x0_indium trifluoroacetate',\n",
    "       'x0_indium tris(N,N-diisopropylacetamidinato)',\n",
    "       'x1_bis(trimethylsilyl)phosphine', 'x1_phosphine gas',\n",
    "       'x1_phosphorus trichloride', 'x1_sodium phosphide',\n",
    "       'x1_tris(diethylamino)phosphine', 'x1_tris(dimethylamino)phosphine',\n",
    "       'x1_tris(trimethylgermyl)phosphine', 'x1_tris(trimethylsilyl)phosphine',\n",
    "       'x1_white phosphorus', 'x2_None', 'x2_dodecanethiol', 'x2_lauric acid',\n",
    "       'x2_myristic acid', 'x2_oleic acid', 'x2_palmitic acid',\n",
    "       'x2_stearic acid', 'x3_4-ethylpyridine', 'x3_None',\n",
    "       'x3_dimethylformamide', 'x3_dodecylamine', 'x3_mesitylene',\n",
    "       'x3_octadecene', 'x3_oleylamine', 'x3_trioctylamine',\n",
    "       'x3_trioctylphosphine', 'x3_trioctylphosphine oxide', 'x4_None',\n",
    "       'x4_dioctyl ether', 'x4_dioctylamine', 'x4_hexadecylamine',\n",
    "       'x4_octylamine', 'x4_oleylamine', 'x4_toluene', 'x4_trioctylphosphine',\n",
    "       'x4_trioctylphosphine oxide', 'x5_None', 'x5_trioctylphosphine',\n",
    "       'x6_None', 'x6_acetic acid', 'x6_superhydride',\n",
    "       'x6_tetrabutylammonium myristate', 'x6_zinc acetate', 'x6_zinc bromide',\n",
    "       'x6_zinc chloride', 'x6_zinc iodide', 'x6_zinc octanoate',\n",
    "       'x6_zinc oleate', 'x6_zinc stearate', 'x6_zinc undecylenate', 'x7_None',\n",
    "       'x7_copper bromide', 'x7_oleic acid', 'x7_water', 'x7_zinc iodide']\n",
    "\n",
    "#Three individual outputs:\n",
    "diameter = ['diameter_nm']\n",
    "emission = ['emission_nm']\n",
    "absorbance = ['abs_nm']\n",
    "\n",
    "#Splitting dataset\n",
    "\n",
    "X = df[input_col]\n",
    "\n",
    "Y_d = df[diameter]\n",
    "Y_e = df[emission]\n",
    "Y_a = df[absorbance]\n",
    "\n",
    "\n",
    "X_train_d, X_test_d, Y_train_d, Y_test_d = train_test_split(X, Y_d, test_size=0.15, random_state=45, shuffle=True)\n",
    "X_train_e, X_test_e, Y_train_e, Y_test_e = train_test_split(X, Y_e, test_size=0.15, random_state=45, shuffle=True)\n",
    "X_train_a, X_test_a, Y_train_a, Y_test_a = train_test_split(X, Y_a, test_size=0.15, random_state=45, shuffle=True)"
   ]
  },
  {
   "cell_type": "markdown",
   "metadata": {},
   "source": [
    "## D - Optimizing diameter model\n"
   ]
  },
  {
   "cell_type": "markdown",
   "metadata": {},
   "source": [
    "### 1D. Extra Trees"
   ]
  },
  {
   "cell_type": "code",
   "execution_count": 5,
   "metadata": {},
   "outputs": [
    {
     "name": "stderr",
     "output_type": "stream",
     "text": [
      "100%|██████████| 24/24 [11:07<00:00, 27.83s/it]"
     ]
    },
    {
     "name": "stdout",
     "output_type": "stream",
     "text": [
      "0.22964646465151514 2 23 36\n"
     ]
    },
    {
     "name": "stderr",
     "output_type": "stream",
     "text": [
      "\n"
     ]
    }
   ],
   "source": [
    "# This is a grid search for three parameters in the Extra Trees algorithm. \n",
    "# Parameters are: random_state, n_estimators, max_features.\n",
    "\n",
    "# This gives the best combination of the three parameters for the smallest mean squared error.\n",
    "\n",
    "min_mae = 99999\n",
    "min_i, min_j, min_k = 0, 0, 0\n",
    "for i in tqdm(range(1, 25)):\n",
    "    for j in range(1, 25):\n",
    "        for k in range(2, 50, 1):\n",
    "            ET_regr = ExtraTreesRegressor(n_estimators=i, \n",
    "                                            max_features=j,\n",
    "                                            random_state=k)\n",
    "            \n",
    "            ET_regr.fit(X_train_d, np.ravel(Y_train_d))\n",
    "            ET_Y_pred_d = pd.DataFrame(ET_regr.predict(X_test_d))\n",
    "\n",
    "            mae = mean_absolute_error(Y_test_d, ET_Y_pred_d)\n",
    "            if (min_mae > mae):\n",
    "                min_mae = mae\n",
    "                min_i = i\n",
    "                min_j = j\n",
    "                min_k = k\n",
    "            \n",
    "print(min_mae, min_i, min_j, min_k)"
   ]
  },
  {
   "cell_type": "markdown",
   "metadata": {},
   "source": [
    "### 2D. Decision Tree "
   ]
  },
  {
   "cell_type": "code",
   "execution_count": 6,
   "metadata": {},
   "outputs": [
    {
     "name": "stderr",
     "output_type": "stream",
     "text": [
      "100%|██████████| 29/29 [04:28<00:00,  9.25s/it]"
     ]
    },
    {
     "name": "stdout",
     "output_type": "stream",
     "text": [
      "0.20102540010300343 12 29 56\n"
     ]
    },
    {
     "name": "stderr",
     "output_type": "stream",
     "text": [
      "\n"
     ]
    }
   ],
   "source": [
    "# This is a grid search for three parameters in the Decision Trees algorithm. \n",
    "# Parameters are: max_depth, max_features, random_state.\n",
    "# This gives the best combination of the three parameters for the smallest mean squared error.\n",
    "\n",
    "min_mae = 99999\n",
    "\n",
    "min_i, min_j, min_k  = 0, 0, 0\n",
    "\n",
    "for i in tqdm(range(1, 30)):\n",
    "    for j in range(1, 30):\n",
    "        for k in range(4, 80, 2):\n",
    "            \n",
    "            DT_regr = DecisionTreeRegressor(max_depth=i,\n",
    "                                max_features=j,\n",
    "                                random_state=k)\n",
    "            \n",
    "            DT_regr.fit(X_train_d, np.ravel(Y_train_d))\n",
    "            DT_Y_pred_d = pd.DataFrame(DT_regr.predict(X_test_d))\n",
    "\n",
    "            mae = mean_absolute_error(Y_test_d, DT_Y_pred_d)\n",
    "            \n",
    "            if (min_mae > mae):\n",
    "                min_mae = mae\n",
    "                min_i = i\n",
    "                min_j = j\n",
    "                min_k = k\n",
    "            \n",
    "print(min_mae, min_i, min_j, min_k)"
   ]
  },
  {
   "cell_type": "markdown",
   "metadata": {},
   "source": [
    "### 3D. Random Forest"
   ]
  },
  {
   "cell_type": "code",
   "execution_count": 7,
   "metadata": {},
   "outputs": [
    {
     "name": "stderr",
     "output_type": "stream",
     "text": [
      "100%|██████████| 30/30 [20:38<00:00, 41.27s/it]"
     ]
    },
    {
     "name": "stdout",
     "output_type": "stream",
     "text": [
      "0.21559858009815128 11 5 41\n"
     ]
    },
    {
     "name": "stderr",
     "output_type": "stream",
     "text": [
      "\n"
     ]
    }
   ],
   "source": [
    "# This is a grid search for three parameters in the Random Forest algorithm. \n",
    "# Parameters are: max_depth, n_estimators, max_features.\n",
    "# Random_state is set to 45.\n",
    "# This gives the best combination of the three parameters for the smallest mean squared error.\n",
    "\n",
    "min_mae = 99999\n",
    "min_i, min_j, min_k = 0, 0, 0\n",
    "for i in tqdm(range(1, 31)):\n",
    "    for j in range(1, 31):\n",
    "        for k in range(2, 50, 1):\n",
    "            RF_regr = RandomForestRegressor(max_depth=i, \n",
    "                                            n_estimators=j, \n",
    "                                            max_features=k,\n",
    "                                            random_state=45)\n",
    "            RF_regr.fit(X_train_d, np.ravel(Y_train_d))\n",
    "            RF_Y_pred_d = pd.DataFrame(RF_regr.predict(X_test_d))\n",
    "\n",
    "            mae = mean_absolute_error(Y_test_d, RF_Y_pred_d)\n",
    "            if (min_mae > mae):\n",
    "                min_mae = mae\n",
    "                min_i = i\n",
    "                min_j = j\n",
    "                min_k = k\n",
    "            \n",
    "print(min_mae, min_i, min_j, min_k)"
   ]
  },
  {
   "cell_type": "markdown",
   "metadata": {},
   "source": [
    "### 4D. K Neighbors"
   ]
  },
  {
   "cell_type": "code",
   "execution_count": 8,
   "metadata": {},
   "outputs": [
    {
     "name": "stderr",
     "output_type": "stream",
     "text": [
      "100%|██████████| 39/39 [00:23<00:00,  1.65it/s]"
     ]
    },
    {
     "name": "stdout",
     "output_type": "stream",
     "text": [
      "0.2835802468686869 3 3\n"
     ]
    },
    {
     "name": "stderr",
     "output_type": "stream",
     "text": [
      "\n"
     ]
    }
   ],
   "source": [
    "min_mae = 99999\n",
    "min_i, min_j = 0, 0\n",
    "\n",
    "for i in tqdm(range(1, 40)):\n",
    "    for j in range(1, 40):\n",
    "\n",
    "        KNN_reg_d = KNeighborsRegressor(n_neighbors=i, \n",
    "                                      p=j).fit(X_train_d, np.ravel(Y_train_d))\n",
    "\n",
    "        KNN_Y_pred_d = KNN_reg_d.predict(X_test_d)\n",
    "\n",
    "        mae = mean_absolute_error(Y_test_d, KNN_Y_pred_d)\n",
    "\n",
    "        if (min_mae > mae):\n",
    "            min_mae = mae\n",
    "            min_i = i\n",
    "            min_j = j\n",
    "\n",
    "print(min_mae, min_i, min_j)"
   ]
  },
  {
   "cell_type": "markdown",
   "metadata": {},
   "source": [
    "### Saving Decision Tree model"
   ]
  },
  {
   "cell_type": "code",
   "execution_count": 11,
   "metadata": {},
   "outputs": [
    {
     "data": {
      "text/plain": [
       "['./model_SO_diameter_DecisionTree.joblib']"
      ]
     },
     "execution_count": 11,
     "metadata": {},
     "output_type": "execute_result"
    }
   ],
   "source": [
    "DT_regr_d = DecisionTreeRegressor(max_depth=12,\n",
    "                                max_features=29,\n",
    "                                random_state=56)\n",
    "DT_regr_d.fit(X_train_d, np.ravel(Y_train_d))\n",
    "DT_Y_pred_d = pd.DataFrame(DT_regr_d.predict(X_test_d))\n",
    "joblib.dump(DT_regr_d, \"./model_SO_diameter_DecisionTree.joblib\")"
   ]
  },
  {
   "cell_type": "markdown",
   "metadata": {},
   "source": [
    "## E - Optimizing emission model\n"
   ]
  },
  {
   "cell_type": "markdown",
   "metadata": {},
   "source": [
    "### 1E. Extra Trees"
   ]
  },
  {
   "cell_type": "code",
   "execution_count": 12,
   "metadata": {},
   "outputs": [
    {
     "name": "stderr",
     "output_type": "stream",
     "text": [
      "100%|██████████| 24/24 [08:44<00:00, 21.84s/it]"
     ]
    },
    {
     "name": "stdout",
     "output_type": "stream",
     "text": [
      "12.378787878787879 2 6 26\n"
     ]
    },
    {
     "name": "stderr",
     "output_type": "stream",
     "text": [
      "\n"
     ]
    }
   ],
   "source": [
    "# This is a grid search for three parameters in the Extra Trees algorithm. \n",
    "# Parameters are: random_state, n_estimators, max_features.\n",
    "\n",
    "# This gives the best combination of the three parameters for the smallest mean squared error.\n",
    "\n",
    "min_mae = 99999\n",
    "min_i, min_j, min_k = 0, 0, 0\n",
    "for i in tqdm(range(1, 25)):\n",
    "    for j in range(1, 25):\n",
    "        for k in range(2, 50, 1):\n",
    "            ET_regr_e = ExtraTreesRegressor(n_estimators=i, \n",
    "                                            max_features=j,\n",
    "                                            random_state=k)\n",
    "            \n",
    "            ET_regr_e.fit(X_train_e, np.ravel(Y_train_e))\n",
    "            ET_Y_pred_e = pd.DataFrame(ET_regr_e.predict(X_test_e))\n",
    "\n",
    "            mae = mean_absolute_error(Y_test_e, ET_Y_pred_e)\n",
    "            if (min_mae > mae):\n",
    "                min_mae = mae\n",
    "                min_i = i\n",
    "                min_j = j\n",
    "                min_k = k\n",
    "            \n",
    "print(min_mae, min_i, min_j, min_k)"
   ]
  },
  {
   "cell_type": "markdown",
   "metadata": {},
   "source": [
    "### 2E. Decision Trees"
   ]
  },
  {
   "cell_type": "code",
   "execution_count": 13,
   "metadata": {},
   "outputs": [
    {
     "name": "stderr",
     "output_type": "stream",
     "text": [
      "100%|██████████| 29/29 [03:14<00:00,  6.72s/it]"
     ]
    },
    {
     "name": "stdout",
     "output_type": "stream",
     "text": [
      "16.98515592912046 8 3 12\n"
     ]
    },
    {
     "name": "stderr",
     "output_type": "stream",
     "text": [
      "\n"
     ]
    }
   ],
   "source": [
    "# This is a grid search for three parameters in the Decision Trees algorithm. \n",
    "\n",
    "# This gives the best combination of the three parameters for the smallest mean squared error.\n",
    "\n",
    "min_mae = 99999\n",
    "\n",
    "min_i, min_j, min_k  = 0, 0, 0\n",
    "\n",
    "for i in tqdm(range(1, 30)):\n",
    "    for j in range(1, 30):\n",
    "        for k in range(4, 80, 2):\n",
    "            \n",
    "            DT_regr_e = DecisionTreeRegressor(max_depth=i,\n",
    "                                max_features=j,\n",
    "                                random_state=k)\n",
    "            \n",
    "            DT_regr_e.fit(X_train_e, np.ravel(Y_train_e))\n",
    "            DT_Y_pred_e = pd.DataFrame(DT_regr_e.predict(X_test_e))\n",
    "\n",
    "            mae = mean_absolute_error(Y_test_e, DT_Y_pred_e)\n",
    "            \n",
    "            if (min_mae > mae):\n",
    "                min_mae = mae\n",
    "                min_i = i\n",
    "                min_j = j\n",
    "                min_k = k\n",
    "            \n",
    "print(min_mae, min_i, min_j, min_k)"
   ]
  },
  {
   "cell_type": "markdown",
   "metadata": {},
   "source": [
    "### 3E. Random Forest"
   ]
  },
  {
   "cell_type": "code",
   "execution_count": 14,
   "metadata": {},
   "outputs": [
    {
     "name": "stderr",
     "output_type": "stream",
     "text": [
      "100%|██████████| 30/30 [19:35<00:00, 39.17s/it]"
     ]
    },
    {
     "name": "stdout",
     "output_type": "stream",
     "text": [
      "16.248989898989905 22 5 28\n"
     ]
    },
    {
     "name": "stderr",
     "output_type": "stream",
     "text": [
      "\n"
     ]
    }
   ],
   "source": [
    "min_mae = 99999\n",
    "min_i, min_j, min_k = 0, 0, 0\n",
    "for i in tqdm(range(1, 31)):\n",
    "    for j in range(1, 31):\n",
    "        for k in range(2, 50, 1):\n",
    "            RF_regr_e = RandomForestRegressor(max_depth=i, \n",
    "                                            n_estimators=j, \n",
    "                                            max_features=k,\n",
    "                                            random_state=45)\n",
    "            RF_regr_e.fit(X_train_e, np.ravel(Y_train_e))\n",
    "            RF_Y_pred_e = pd.DataFrame(RF_regr_e.predict(X_test_e))\n",
    "\n",
    "            mae = mean_absolute_error(Y_test_e, RF_Y_pred_e)\n",
    "            if (min_mae > mae):\n",
    "                min_mae = mae\n",
    "                min_i = i\n",
    "                min_j = j\n",
    "                min_k = k\n",
    "            \n",
    "print(min_mae, min_i, min_j, min_k)"
   ]
  },
  {
   "cell_type": "markdown",
   "metadata": {},
   "source": [
    "### 4E. K Neighbors"
   ]
  },
  {
   "cell_type": "code",
   "execution_count": 30,
   "metadata": {
    "scrolled": false
   },
   "outputs": [
    {
     "name": "stderr",
     "output_type": "stream",
     "text": [
      "100%|██████████| 39/39 [00:18<00:00,  2.07it/s]"
     ]
    },
    {
     "name": "stdout",
     "output_type": "stream",
     "text": [
      "15.676767672727278 1 4\n"
     ]
    },
    {
     "name": "stderr",
     "output_type": "stream",
     "text": [
      "\n"
     ]
    }
   ],
   "source": [
    "min_mae = 99999\n",
    "min_i, min_j = 0, 0\n",
    "\n",
    "for i in tqdm(range(1, 40)):\n",
    "    for j in range(1, 40):\n",
    "\n",
    "        KNN_reg_e = KNeighborsRegressor(n_neighbors=i, \n",
    "                                      p=j).fit(X_train_e, np.ravel(Y_train_e))\n",
    "\n",
    "        KNN_Y_pred_e = KNN_reg_e.predict(X_test_e)\n",
    "\n",
    "        mae = mean_absolute_error(Y_test_e, KNN_Y_pred_e)\n",
    "\n",
    "        if (min_mae > mae):\n",
    "            min_mae = mae\n",
    "            min_i = i\n",
    "            min_j = j\n",
    "\n",
    "print(min_mae, min_i, min_j)"
   ]
  },
  {
   "cell_type": "markdown",
   "metadata": {},
   "source": [
    "### Saving Extra Trees model"
   ]
  },
  {
   "cell_type": "code",
   "execution_count": 15,
   "metadata": {},
   "outputs": [
    {
     "data": {
      "text/plain": [
       "['./model_SO_emission_ExtraTrees.joblib']"
      ]
     },
     "execution_count": 15,
     "metadata": {},
     "output_type": "execute_result"
    }
   ],
   "source": [
    "ET_regr_e = ExtraTreesRegressor(n_estimators=2,\n",
    "                            max_features=6,     \n",
    "                            random_state=26).fit(X_train_e, np.ravel(Y_train_e))\n",
    "                  \n",
    "ET_Y_pred_e = ET_regr_e.predict(X_test_e)\n",
    "\n",
    "joblib.dump(ET_regr_e, \"./model_SO_emission_ExtraTrees.joblib\")"
   ]
  },
  {
   "cell_type": "markdown",
   "metadata": {},
   "source": [
    "## A - Optimizing absorption model\n"
   ]
  },
  {
   "cell_type": "markdown",
   "metadata": {},
   "source": [
    "### 1A: Extra Trees"
   ]
  },
  {
   "cell_type": "code",
   "execution_count": 16,
   "metadata": {},
   "outputs": [
    {
     "name": "stderr",
     "output_type": "stream",
     "text": [
      "100%|██████████| 29/29 [14:41<00:00, 30.41s/it]"
     ]
    },
    {
     "name": "stdout",
     "output_type": "stream",
     "text": [
      "12.601893939393939 8 25 3\n"
     ]
    },
    {
     "name": "stderr",
     "output_type": "stream",
     "text": [
      "\n"
     ]
    }
   ],
   "source": [
    "# This is a grid search for three parameters in the Extra Trees algorithm. \n",
    "# Parameters are: random_state, n_estimators, max_features.\n",
    "\n",
    "# This gives the best combination of the three parameters for the smallest mean squared error.\n",
    "\n",
    "min_mae = 99999\n",
    "min_i, min_j, min_k = 0, 0, 0\n",
    "for i in tqdm(range(1, 30)):\n",
    "    for j in range(1, 30):\n",
    "        for k in range(2, 50, 1):\n",
    "            ET_regr_a = ExtraTreesRegressor(n_estimators=i, \n",
    "                                            max_features=j,\n",
    "                                            random_state=k)\n",
    "            \n",
    "            ET_regr_a.fit(X_train_a, np.ravel(Y_train_a))\n",
    "            ET_Y_pred_a = pd.DataFrame(ET_regr_a.predict(X_test_a))\n",
    "\n",
    "            mae = mean_absolute_error(Y_test_a, ET_Y_pred_a)\n",
    "            if (min_mae > mae):\n",
    "                min_mae = mae\n",
    "                min_i = i\n",
    "                min_j = j\n",
    "                min_k = k\n",
    "            \n",
    "print(min_mae, min_i, min_j, min_k)"
   ]
  },
  {
   "cell_type": "markdown",
   "metadata": {},
   "source": [
    "### 2A. Decision Trees\n"
   ]
  },
  {
   "cell_type": "code",
   "execution_count": 17,
   "metadata": {},
   "outputs": [
    {
     "name": "stderr",
     "output_type": "stream",
     "text": [
      "100%|██████████| 29/29 [03:23<00:00,  7.02s/it]"
     ]
    },
    {
     "name": "stdout",
     "output_type": "stream",
     "text": [
      "17.96125541125541 12 6 26\n"
     ]
    },
    {
     "name": "stderr",
     "output_type": "stream",
     "text": [
      "\n"
     ]
    }
   ],
   "source": [
    "# This is a grid search for three parameters in the Decision Trees algorithm. \n",
    "\n",
    "# This gives the best combination of the three parameters for the smallest mean squared error.\n",
    "\n",
    "min_mae = 99999\n",
    "\n",
    "min_i, min_j, min_k  = 0, 0, 0\n",
    "\n",
    "for i in tqdm(range(1, 30)):\n",
    "    for j in range(1, 30):\n",
    "        for k in range(4, 80, 2):\n",
    "            \n",
    "            DT_regr_a = DecisionTreeRegressor(max_depth=i,\n",
    "                                max_features=j,\n",
    "                                random_state=k)\n",
    "            \n",
    "            DT_regr_a.fit(X_train_a, np.ravel(Y_train_a))\n",
    "            DT_Y_pred_a = pd.DataFrame(DT_regr_a.predict(X_test_a))\n",
    "\n",
    "            mae = mean_absolute_error(Y_test_a, DT_Y_pred_a)\n",
    "            \n",
    "            if (min_mae > mae):\n",
    "                min_mae = mae\n",
    "                min_i = i\n",
    "                min_j = j\n",
    "                min_k = k\n",
    "            \n",
    "print(min_mae, min_i, min_j, min_k)"
   ]
  },
  {
   "cell_type": "code",
   "execution_count": 22,
   "metadata": {},
   "outputs": [
    {
     "name": "stdout",
     "output_type": "stream",
     "text": [
      "diameter: r2: 0.7157594152974505 ; MSE: 1033.208754199327 ; RMSE: 32.14356474007398 ; MAE: 20.595959593939398\n"
     ]
    }
   ],
   "source": [
    "DT_regr_a = DecisionTreeRegressor(max_depth=20,\n",
    "                                max_features=20,\n",
    "                                random_state=12).fit(X_train_a, np.ravel(Y_train_a))\n",
    "                  \n",
    "DT_Y_pred_a = DT_regr_a.predict(X_test_a)\n",
    "\n",
    "\n",
    "DT_r2_a = r2_score(Y_test_a, DT_Y_pred_a)\n",
    "DT_MSE_a = mean_squared_error(Y_test_a, DT_Y_pred_a)\n",
    "DT_RMSE_a = mean_squared_error(Y_test_a, DT_Y_pred_a, squared=False)\n",
    "DT_MAE_a = mean_absolute_error(Y_test_a, DT_Y_pred_a)\n",
    "print('diameter:', 'r2:', DT_r2_a, '; MSE:', DT_MSE_a, '; RMSE:', DT_RMSE_a, '; MAE:', DT_MAE_a)"
   ]
  },
  {
   "cell_type": "markdown",
   "metadata": {},
   "source": [
    "### 3A. Random Forest"
   ]
  },
  {
   "cell_type": "code",
   "execution_count": 18,
   "metadata": {},
   "outputs": [
    {
     "name": "stderr",
     "output_type": "stream",
     "text": [
      "100%|██████████| 30/30 [19:43<00:00, 39.44s/it]"
     ]
    },
    {
     "name": "stdout",
     "output_type": "stream",
     "text": [
      "15.484848484848484 20 2 38\n"
     ]
    },
    {
     "name": "stderr",
     "output_type": "stream",
     "text": [
      "\n"
     ]
    }
   ],
   "source": [
    "min_mae = 99999\n",
    "min_i, min_j, min_k = 0, 0, 0\n",
    "for i in tqdm(range(1, 31)):\n",
    "    for j in range(1, 31):\n",
    "        for k in range(2, 50, 1):\n",
    "            RF_regr_a = RandomForestRegressor(max_depth=i, \n",
    "                                            n_estimators=j, \n",
    "                                            max_features=k,\n",
    "                                            random_state=45)\n",
    "            RF_regr_a.fit(X_train_a, np.ravel(Y_train_a))\n",
    "            RF_Y_pred_a = pd.DataFrame(RF_regr_a.predict(X_test_a))\n",
    "\n",
    "            mae = mean_absolute_error(Y_test_a, RF_Y_pred_a)\n",
    "            if (min_mae > mae):\n",
    "                min_mae = mae\n",
    "                min_i = i\n",
    "                min_j = j\n",
    "                min_k = k\n",
    "            \n",
    "print(min_mae, min_i, min_j, min_k)"
   ]
  },
  {
   "cell_type": "code",
   "execution_count": null,
   "metadata": {},
   "outputs": [],
   "source": []
  },
  {
   "cell_type": "markdown",
   "metadata": {},
   "source": [
    "### 4A. K Neighbors"
   ]
  },
  {
   "cell_type": "code",
   "execution_count": 19,
   "metadata": {},
   "outputs": [
    {
     "name": "stderr",
     "output_type": "stream",
     "text": [
      "100%|██████████| 39/39 [00:21<00:00,  1.83it/s]"
     ]
    },
    {
     "name": "stdout",
     "output_type": "stream",
     "text": [
      "18.484848484848484 2 7\n"
     ]
    },
    {
     "name": "stderr",
     "output_type": "stream",
     "text": [
      "\n"
     ]
    }
   ],
   "source": [
    "min_mae = 99999\n",
    "min_i, min_j = 0, 0\n",
    "\n",
    "for i in tqdm(range(1, 40)):\n",
    "    for j in range(1, 40):\n",
    "\n",
    "        KNN_reg_a = KNeighborsRegressor(n_neighbors=i, \n",
    "                                      p=j).fit(X_train_a, np.ravel(Y_train_a))\n",
    "\n",
    "        KNN_Y_pred_a = KNN_reg_a.predict(X_test_a)\n",
    "\n",
    "        mae = mean_absolute_error(Y_test_a, KNN_Y_pred_a)\n",
    "\n",
    "        if (min_mae > mae):\n",
    "            min_mae = mae\n",
    "            min_i = i\n",
    "            min_j = j\n",
    "\n",
    "print(min_mae, min_i, min_j)"
   ]
  },
  {
   "cell_type": "markdown",
   "metadata": {},
   "source": [
    "### Saving model"
   ]
  },
  {
   "cell_type": "code",
   "execution_count": 21,
   "metadata": {},
   "outputs": [
    {
     "data": {
      "text/plain": [
       "['./model_SO_abs_ExtraTrees.joblib']"
      ]
     },
     "execution_count": 21,
     "metadata": {},
     "output_type": "execute_result"
    }
   ],
   "source": [
    "ET_regr_a = ExtraTreesRegressor(n_estimators=8, \n",
    "                                max_features=25,\n",
    "                                random_state=3)\n",
    "            \n",
    "ET_regr_a.fit(X_train_a, np.ravel(Y_train_a))\n",
    "ET_Y_pred_a = pd.DataFrame(ET_regr_a.predict(X_test_a))\n",
    "\n",
    "joblib.dump(ET_regr_a, \"./model_SO_abs_ExtraTrees.joblib\")"
   ]
  },
  {
   "cell_type": "markdown",
   "metadata": {},
   "source": [
    "## Analyzing"
   ]
  },
  {
   "cell_type": "code",
   "execution_count": 5,
   "metadata": {
    "scrolled": true
   },
   "outputs": [
    {
     "name": "stdout",
     "output_type": "stream",
     "text": [
      "Outputs           R2    Mean absolute error    Mean squared error    Root mean squared error\n",
      "----------  --------  ---------------------  --------------------  -------------------------\n",
      "Diameter    0.623929               0.201025             0.0884887                    0.29747\n",
      "Absorption  0.822726              12.6019             380.792                       19.5139\n",
      "Emission    0.676717              12.3788             480.277                       21.9152\n"
     ]
    }
   ],
   "source": [
    "## Diameter\n",
    "\n",
    "DT_regr_d = DecisionTreeRegressor(max_depth=12,\n",
    "                                max_features=29,\n",
    "                                random_state=56)\n",
    "DT_regr_d.fit(X_train_d, np.ravel(Y_train_d))\n",
    "DT_Y_pred_d = DT_regr_d.predict(X_test_d)\n",
    "\n",
    "D_mae = mean_absolute_error(Y_test_d, DT_Y_pred_d)\n",
    "D_r_2 = r2_score(Y_test_d, DT_Y_pred_d)\n",
    "D_mse = mean_squared_error(Y_test_d, DT_Y_pred_d)\n",
    "D_rmse = mean_squared_error(Y_test_d, DT_Y_pred_d, squared=False)\n",
    "\n",
    "## Emission\n",
    "\n",
    "ET_regr_e = ExtraTreesRegressor(n_estimators=2,\n",
    "                            max_features=6,     \n",
    "                            random_state=26).fit(X_train_e, np.ravel(Y_train_e))\n",
    "\n",
    "                  \n",
    "ET_Y_pred_e = ET_regr_e.predict(X_test_e)\n",
    "\n",
    "E_mae = mean_absolute_error(Y_test_e, ET_Y_pred_e)\n",
    "E_r_2 = r2_score(Y_test_e, ET_Y_pred_e)\n",
    "E_mse = mean_squared_error(Y_test_e, ET_Y_pred_e)\n",
    "E_rmse = mean_squared_error(Y_test_e, ET_Y_pred_e, squared=False)\n",
    "\n",
    "\n",
    "### Absorption\n",
    "\n",
    "ET_regr_a = ExtraTreesRegressor(n_estimators=8, \n",
    "                                max_features=25,\n",
    "                                random_state=3)\n",
    "ET_regr_a.fit(X_train_a, np.ravel(Y_train_a))\n",
    "ET_Y_pred_a = ET_regr_a.predict(X_test_a)\n",
    "\n",
    "A_mae = mean_absolute_error(Y_test_a, ET_Y_pred_a)\n",
    "A_r_2 = r2_score(Y_test_a, ET_Y_pred_a)\n",
    "A_mse = mean_squared_error(Y_test_a, ET_Y_pred_a)\n",
    "A_rmse = mean_squared_error(Y_test_a, ET_Y_pred_a, squared=False)\n",
    "\n",
    "\n",
    "from tabulate import tabulate\n",
    "\n",
    "d = [ [\"Diameter\", D_r_2, D_mae, D_mse, D_rmse],\n",
    "     [\"Absorption\", A_r_2, A_mae, A_mse, A_rmse],\n",
    "     [\"Emission\", E_r_2, E_mae, E_mse, E_rmse]]\n",
    "\n",
    "print(tabulate(d, headers=[\"Outputs\", \"R2\", \"Mean absolute error\", \"Mean squared error\", \"Root mean squared error\"]))"
   ]
  },
  {
   "cell_type": "code",
   "execution_count": 31,
   "metadata": {},
   "outputs": [
    {
     "data": {
      "image/png": "[encoded data removed]",
      "text/plain": [
       "<Figure size 1440x360 with 3 Axes>"
      ]
     },
     "metadata": {
      "needs_background": "light"
     },
     "output_type": "display_data"
    }
   ],
   "source": [
    "fig, (ax1, ax2, ax3) = plt.subplots(1, 3, figsize=(20,5))\n",
    "fig.suptitle('Single Outputs', fontsize=25)\n",
    "\n",
    "ax1.plot(Y_test_d, DT_Y_pred_d,'o')\n",
    "ax1.plot([1.5,4],[1.5,4], color = 'r')\n",
    "ax1.set_title('Diameter')\n",
    "ax1.set(xlabel='Observed Values (nm)', ylabel='Predicted Values (nm)')\n",
    "\n",
    "ax2.plot(Y_test_a, ET_Y_pred_a,'o')\n",
    "ax2.plot([400,650],[400,650], color = 'r')\n",
    "ax2.set_title('Absorption')\n",
    "ax2.set(xlabel='Observed Values (nm)', ylabel='Predicted Values (nm)')\n",
    "\n",
    "ax3.plot(Y_test_e, ET_Y_pred_e,'o')\n",
    "ax3.plot([450,700],[450,700], color = 'r')\n",
    "ax3.set_title('Emission')\n",
    "ax3.set(xlabel='Observed Values (nm)', ylabel='Predicted Values (nm)')\n",
    "\n",
    "\n",
    "fig.tight_layout()"
   ]
  },
  {
   "cell_type": "code",
   "execution_count": 7,
   "metadata": {},
   "outputs": [
    {
     "data": {
      "image/png": "[encoded data removed]",
      "text/plain": [
       "<Figure size 1440x360 with 3 Axes>"
      ]
     },
     "metadata": {
      "needs_background": "light"
     },
     "output_type": "display_data"
    }
   ],
   "source": [
    "fig, (ax1, ax2, ax3) = plt.subplots(1, 3, figsize=(20,5))\n",
    "fig.suptitle('Single Outputs', fontsize=25)\n",
    "\n",
    "ax1.plot(DT_Y_pred_d, Y_test_d, 'o')\n",
    "ax1.plot([1.5,4],[1.5,4], color = 'r')\n",
    "ax1.set_title('Diameter')\n",
    "ax1.set(ylabel='Observed Values (nm)', xlabel='Predicted Values (nm)')\n",
    "\n",
    "ax2.plot(ET_Y_pred_a, Y_test_a, 'o')\n",
    "ax2.plot([400,650],[400,650], color = 'r')\n",
    "ax2.set_title('Absorption')\n",
    "ax2.set(ylabel='Observed Values (nm)', xlabel='Predicted Values (nm)')\n",
    "\n",
    "ax3.plot(ET_Y_pred_e, Y_test_e, 'o')\n",
    "ax3.plot([450,700],[450,700], color = 'r')\n",
    "ax3.set_title('Emission')\n",
    "ax3.set(ylabel='Observed Values (nm)', xlabel='Predicted Values (nm)')\n",
    "\n",
    "\n",
    "fig.tight_layout()"
   ]
  },
  {
   "cell_type": "markdown",
   "metadata": {},
   "source": [
    "## Feature importance"
   ]
  },
  {
   "cell_type": "markdown",
   "metadata": {},
   "source": [
    "### For diameter prediction"
   ]
  },
  {
   "cell_type": "code",
   "execution_count": 32,
   "metadata": {},
   "outputs": [
    {
     "data": {
      "text/plain": [
       "[('x6_zinc iodide', 0.2637955854061895),\n",
       " ('x0_indium trifluoroacetate', 0.24879095762042372),\n",
       " ('temp_c', 0.0925731795075623),\n",
       " ('time_min', 0.07402261562678016),\n",
       " ('x4_dioctylamine', 0.061033276985888105),\n",
       " ('p_amount_mmol', 0.04297990243726769),\n",
       " ('total_volume_ml', 0.03540823738599123),\n",
       " ('other_2_amount_mmol', 0.0322195984362151),\n",
       " ('x1_phosphine gas', 0.02778265410336227),\n",
       " ('first_sol_amount_ml', 0.01916807617818745),\n",
       " ('second_sol_amount_ml', 0.019062196623655787),\n",
       " ('ligand_amount_mmol', 0.016551794593083206),\n",
       " ('x6_zinc undecylenate', 0.011502525482079083),\n",
       " ('x3_trioctylamine', 0.009719327633635137),\n",
       " ('x6_zinc oleate', 0.00927406535392528),\n",
       " ('other_1_amount_mmol', 0.007934070779385438),\n",
       " ('x0_indium acetate', 0.007450813349345709),\n",
       " ('x2_myristic acid', 0.007182268762551215),\n",
       " ('in_amount_mmol', 0.003928927613153915),\n",
       " ('x6_zinc chloride', 0.003292278617164486),\n",
       " ('third_sol_amount_ml', 0.0014960452937727985),\n",
       " ('x2_lauric acid', 0.001445761792642438),\n",
       " ('x4_oleylamine', 0.001423957448698666),\n",
       " ('x1_tris(trimethylsilyl)phosphine', 0.001104466967247511),\n",
       " ('x3_dodecylamine', 0.0003750009736866538),\n",
       " ('x4_None', 0.0002634815706405547),\n",
       " ('x3_octadecene', 0.00021626353730444045),\n",
       " ('x0_indium chloride', 2.669920160250676e-06),\n",
       " ('x0_chloroindium oxalate', 0.0),\n",
       " ('x0_indium bromide', 0.0),\n",
       " ('x0_indium iodide', 0.0),\n",
       " ('x0_indium myristate', 0.0),\n",
       " ('x0_indium oxalate', 0.0),\n",
       " ('x0_indium palmitate', 0.0),\n",
       " ('x0_indium tris(N,N-diisopropylacetamidinato)', 0.0),\n",
       " ('x1_bis(trimethylsilyl)phosphine', 0.0),\n",
       " ('x1_phosphorus trichloride', 0.0),\n",
       " ('x1_sodium phosphide', 0.0),\n",
       " ('x1_tris(diethylamino)phosphine', 0.0),\n",
       " ('x1_tris(dimethylamino)phosphine', 0.0),\n",
       " ('x1_tris(trimethylgermyl)phosphine', 0.0),\n",
       " ('x1_white phosphorus', 0.0),\n",
       " ('x2_None', 0.0),\n",
       " ('x2_dodecanethiol', 0.0),\n",
       " ('x2_oleic acid', 0.0),\n",
       " ('x2_palmitic acid', 0.0),\n",
       " ('x2_stearic acid', 0.0),\n",
       " ('x3_4-ethylpyridine', 0.0),\n",
       " ('x3_None', 0.0),\n",
       " ('x3_dimethylformamide', 0.0),\n",
       " ('x3_mesitylene', 0.0),\n",
       " ('x3_oleylamine', 0.0),\n",
       " ('x3_trioctylphosphine', 0.0),\n",
       " ('x3_trioctylphosphine oxide', 0.0),\n",
       " ('x4_dioctyl ether', 0.0),\n",
       " ('x4_hexadecylamine', 0.0),\n",
       " ('x4_octylamine', 0.0),\n",
       " ('x4_toluene', 0.0),\n",
       " ('x4_trioctylphosphine', 0.0),\n",
       " ('x4_trioctylphosphine oxide', 0.0),\n",
       " ('x5_None', 0.0),\n",
       " ('x5_trioctylphosphine', 0.0),\n",
       " ('x6_None', 0.0),\n",
       " ('x6_acetic acid', 0.0),\n",
       " ('x6_superhydride', 0.0),\n",
       " ('x6_tetrabutylammonium myristate', 0.0),\n",
       " ('x6_zinc acetate', 0.0),\n",
       " ('x6_zinc bromide', 0.0),\n",
       " ('x6_zinc octanoate', 0.0),\n",
       " ('x6_zinc stearate', 0.0),\n",
       " ('x7_None', 0.0)]"
      ]
     },
     "execution_count": 32,
     "metadata": {},
     "output_type": "execute_result"
    }
   ],
   "source": [
    "importance_dict_d = dict()\n",
    "for i in range(0,71):\n",
    "    importance_dict_d[input_col[i]] = DT_regr_d.feature_importances_[i]\n",
    "\n",
    "sorted_importance_d = sorted(importance_dict_d.items(), key=lambda x: x[1], reverse=True)\n",
    "\n",
    "sorted_importance_d\n"
   ]
  },
  {
   "cell_type": "code",
   "execution_count": 33,
   "metadata": {},
   "outputs": [
    {
     "data": {
      "image/png": "[encoded data removed]",
      "text/plain": [
       "<Figure size 1490.4x595.44 with 1 Axes>"
      ]
     },
     "metadata": {
      "needs_background": "light"
     },
     "output_type": "display_data"
    }
   ],
   "source": [
    "top7_d = DataFrame(sorted_importance_d[0:7], columns=['features', 'importance score'])\n",
    "\n",
    "others_d = DataFrame(sorted_importance_d[7:], columns=['features', 'importance score'])\n",
    "\n",
    "\n",
    "import seaborn as sns\n",
    "\n",
    "a4_dims = (20.7, 8.27)\n",
    "fig, ax = plt.subplots(figsize=a4_dims)\n",
    "sns.set_theme(style=\"whitegrid\")\n",
    "\n",
    "ax = sns.barplot(x=\"features\", y=\"importance score\", data=top7_d)"
   ]
  },
  {
   "cell_type": "markdown",
   "metadata": {},
   "source": [
    "### Emission prediction"
   ]
  },
  {
   "cell_type": "code",
   "execution_count": 34,
   "metadata": {},
   "outputs": [
    {
     "data": {
      "text/plain": [
       "[('temp_c', 0.15224150036523332),\n",
       " ('p_amount_mmol', 0.1010508972017222),\n",
       " ('time_min', 0.09600925907505653),\n",
       " ('x6_zinc iodide', 0.09330680840252677),\n",
       " ('x1_phosphine gas', 0.07396199260532291),\n",
       " ('x3_octadecene', 0.05884699140412092),\n",
       " ('x6_None', 0.05276032860643107),\n",
       " ('in_amount_mmol', 0.029130815219509394),\n",
       " ('ligand_amount_mmol', 0.028709147051635645),\n",
       " ('total_volume_ml', 0.025584420529655746),\n",
       " ('first_sol_amount_ml', 0.024754850522262718),\n",
       " ('x6_zinc undecylenate', 0.021307343313891624),\n",
       " ('x6_zinc bromide', 0.021261587553433058),\n",
       " ('x4_trioctylphosphine', 0.018159033426499778),\n",
       " ('x0_indium iodide', 0.017031916246615),\n",
       " ('second_sol_amount_ml', 0.016669326197567436),\n",
       " ('x2_dodecanethiol', 0.01567836070092423),\n",
       " ('other_1_amount_mmol', 0.014372313137504084),\n",
       " ('x0_chloroindium oxalate', 0.014186122576935611),\n",
       " ('x7_None', 0.012793433621611916),\n",
       " ('x2_lauric acid', 0.01043456425150365),\n",
       " ('x2_stearic acid', 0.009093575636584111),\n",
       " ('x4_None', 0.008894661476439615),\n",
       " ('x4_octylamine', 0.0072062843024323225),\n",
       " ('x6_zinc octanoate', 0.0071250403311981896),\n",
       " ('x0_indium myristate', 0.00604238440854104),\n",
       " ('x3_trioctylphosphine', 0.00546756519381342),\n",
       " ('x3_4-ethylpyridine', 0.00503494354633315),\n",
       " ('x1_tris(dimethylamino)phosphine', 0.004067489365857332),\n",
       " ('x3_oleylamine', 0.003947356473081412),\n",
       " ('x0_indium oxalate', 0.003815215294842145),\n",
       " ('x4_hexadecylamine', 0.003737591346437367),\n",
       " ('x2_None', 0.003137541010107384),\n",
       " ('x1_tris(trimethylsilyl)phosphine', 0.0028107218200525462),\n",
       " ('x0_indium chloride', 0.0025624597317263358),\n",
       " ('x1_sodium phosphide', 0.002111975308817757),\n",
       " ('x6_zinc chloride', 0.002036190619038887),\n",
       " ('x1_tris(diethylamino)phosphine', 0.0019040758424982034),\n",
       " ('x2_myristic acid', 0.0016755439176114324),\n",
       " ('x2_oleic acid', 0.000741690552892905),\n",
       " ('x3_mesitylene', 0.0006078664573483037),\n",
       " ('x4_trioctylphosphine oxide', 0.0005328266974561615),\n",
       " ('x1_phosphorus trichloride', 0.0005281536305204315),\n",
       " ('x2_palmitic acid', 0.00044569069035560026),\n",
       " ('x0_indium bromide', 0.00044158620933645637),\n",
       " ('x5_trioctylphosphine', 0.0003891266197813272),\n",
       " ('x1_tris(trimethylgermyl)phosphine', 0.00037033657236412287),\n",
       " ('x3_trioctylphosphine oxide', 0.00028668791831145405),\n",
       " ('other_2_amount_mmol', 0.000268633459967336),\n",
       " ('x4_oleylamine', 0.00014105962982241982),\n",
       " ('x0_indium acetate', 0.00014105962982221477),\n",
       " ('x1_white phosphorus', 0.00011284770385802303),\n",
       " ('x0_indium trifluoroacetate', 9.682736018502956e-05),\n",
       " ('x1_bis(trimethylsilyl)phosphine', 3.086138103041192e-05),\n",
       " ('third_sol_amount_ml', 1.7635074874923888e-05),\n",
       " ('x0_indium palmitate', 5.993688742469976e-07),\n",
       " ('x6_zinc stearate', 2.9356842833338604e-07),\n",
       " ('x0_indium tris(N,N-diisopropylacetamidinato)', 0.0),\n",
       " ('x3_None', 0.0),\n",
       " ('x3_dimethylformamide', 0.0),\n",
       " ('x3_dodecylamine', 0.0),\n",
       " ('x3_trioctylamine', 0.0),\n",
       " ('x4_dioctyl ether', 0.0),\n",
       " ('x4_dioctylamine', 0.0),\n",
       " ('x4_toluene', 0.0),\n",
       " ('x5_None', 0.0),\n",
       " ('x6_acetic acid', 0.0),\n",
       " ('x6_superhydride', 0.0),\n",
       " ('x6_tetrabutylammonium myristate', 0.0),\n",
       " ('x6_zinc acetate', 0.0),\n",
       " ('x6_zinc oleate', 0.0)]"
      ]
     },
     "execution_count": 34,
     "metadata": {},
     "output_type": "execute_result"
    }
   ],
   "source": [
    "importance_dict_e = dict()\n",
    "for i in range(0,71):\n",
    "    importance_dict_e[input_col[i]] = ET_regr_e.feature_importances_[i]\n",
    "\n",
    "sorted_importance_e = sorted(importance_dict_e.items(), key=lambda x: x[1], reverse=True)\n",
    "\n",
    "\n",
    "sorted_importance_e\n"
   ]
  },
  {
   "cell_type": "code",
   "execution_count": 35,
   "metadata": {},
   "outputs": [
    {
     "data": {
      "image/png": "[encoded data removed]",
      "text/plain": [
       "<Figure size 1490.4x595.44 with 1 Axes>"
      ]
     },
     "metadata": {},
     "output_type": "display_data"
    }
   ],
   "source": [
    "top7_e = DataFrame(sorted_importance_e[0:7], columns=['features', 'importance score'])\n",
    "\n",
    "others_e = DataFrame(sorted_importance_e[7:], columns=['features', 'importance score'])\n",
    "\n",
    "# combined_others2 = pd.DataFrame(data = {\n",
    "#     'features' : ['others'],\n",
    "#     'importance score' : [others2['importance score'].sum()]\n",
    "# })\n",
    "\n",
    "# #combining top 10 with others\n",
    "# imp_score2 = pd.concat([top7, combined_others2])\n",
    "\n",
    "import seaborn as sns\n",
    "\n",
    "a4_dims = (20.7, 8.27)\n",
    "fig, ax = plt.subplots(figsize=a4_dims)\n",
    "sns.set_theme(style=\"whitegrid\")\n",
    "\n",
    "ax = sns.barplot(x=\"features\", y=\"importance score\", data=top7_e)"
   ]
  },
  {
   "cell_type": "markdown",
   "metadata": {},
   "source": [
    "### Absorption prediction"
   ]
  },
  {
   "cell_type": "code",
   "execution_count": 36,
   "metadata": {},
   "outputs": [
    {
     "data": {
      "text/plain": [
       "[('temp_c', 0.17334458480235657),\n",
       " ('time_min', 0.12250850558150722),\n",
       " ('x6_None', 0.08346494094704109),\n",
       " ('x4_octylamine', 0.0523072593902916),\n",
       " ('x1_phosphine gas', 0.03476024307454617),\n",
       " ('ligand_amount_mmol', 0.03445213294975361),\n",
       " ('p_amount_mmol', 0.03371096798897218),\n",
       " ('x4_trioctylphosphine oxide', 0.031635434738853524),\n",
       " ('x6_zinc iodide', 0.03061130191933884),\n",
       " ('x6_zinc chloride', 0.03060489925489744),\n",
       " ('x7_None', 0.02764207288318158),\n",
       " ('first_sol_amount_ml', 0.02519503024624197),\n",
       " ('total_volume_ml', 0.022855599180598367),\n",
       " ('in_amount_mmol', 0.020866598541366604),\n",
       " ('x2_stearic acid', 0.02069517698101926),\n",
       " ('x6_zinc oleate', 0.018216663421703496),\n",
       " ('other_1_amount_mmol', 0.01655013187329893),\n",
       " ('x1_tris(trimethylsilyl)phosphine', 0.016022454995468564),\n",
       " ('x2_myristic acid', 0.015614368174385575),\n",
       " ('x4_None', 0.013847792042404276),\n",
       " ('x4_trioctylphosphine', 0.013843340664650561),\n",
       " ('second_sol_amount_ml', 0.013750716433295777),\n",
       " ('x4_dioctylamine', 0.01076833678304787),\n",
       " ('x0_indium iodide', 0.00943654019198649),\n",
       " ('x6_superhydride', 0.008686091309117638),\n",
       " ('x0_indium chloride', 0.008571934984671308),\n",
       " ('x0_chloroindium oxalate', 0.008012028246867513),\n",
       " ('x3_octadecene', 0.007674499019523382),\n",
       " ('x6_zinc bromide', 0.00687562543048616),\n",
       " ('x2_lauric acid', 0.006598582569157417),\n",
       " ('x1_tris(diethylamino)phosphine', 0.006535140172647675),\n",
       " ('x3_oleylamine', 0.004484996573925335),\n",
       " ('x3_trioctylphosphine oxide', 0.00442960506675229),\n",
       " ('other_2_amount_mmol', 0.004308401090980014),\n",
       " ('x6_zinc undecylenate', 0.004171722847018147),\n",
       " ('x4_oleylamine', 0.003940709024467336),\n",
       " ('x2_oleic acid', 0.003930550728977301),\n",
       " ('x6_zinc octanoate', 0.003694616429791575),\n",
       " ('x2_palmitic acid', 0.00337878742540004),\n",
       " ('x6_acetic acid', 0.003045923806736968),\n",
       " ('x1_tris(dimethylamino)phosphine', 0.0030306518128855346),\n",
       " ('x3_trioctylphosphine', 0.002394396855629516),\n",
       " ('x0_indium oxalate', 0.0023398750111214644),\n",
       " ('x1_tris(trimethylgermyl)phosphine', 0.0022367508239885237),\n",
       " ('x2_None', 0.002210414489013772),\n",
       " ('x4_hexadecylamine', 0.0021496712199827344),\n",
       " ('x0_indium bromide', 0.002053949246466944),\n",
       " ('x0_indium tris(N,N-diisopropylacetamidinato)', 0.001602098176569583),\n",
       " ('x6_zinc stearate', 0.0015460138986082231),\n",
       " ('x0_indium myristate', 0.0014996156535105397),\n",
       " ('x0_indium acetate', 0.0014118770007585312),\n",
       " ('x1_phosphorus trichloride', 0.001390061600740701),\n",
       " ('x2_dodecanethiol', 0.001284177255113751),\n",
       " ('x4_toluene', 0.0012515405204544235),\n",
       " ('x1_sodium phosphide', 0.0011212232009859193),\n",
       " ('x1_white phosphorus', 0.0010466403138758467),\n",
       " ('x3_mesitylene', 0.0009804310237720407),\n",
       " ('x3_dimethylformamide', 0.0009347110601801763),\n",
       " ('x3_4-ethylpyridine', 0.0007445344043824106),\n",
       " ('x0_indium palmitate', 0.0007221122107383193),\n",
       " ('x3_trioctylamine', 0.0005611403042861559),\n",
       " ('x1_bis(trimethylsilyl)phosphine', 0.0005012635956074673),\n",
       " ('x5_trioctylphosphine', 0.00046724251771709856),\n",
       " ('x0_indium trifluoroacetate', 0.00033483290227335946),\n",
       " ('third_sol_amount_ml', 0.00015574750590569925),\n",
       " ('x3_dodecylamine', 3.676637760998032e-05),\n",
       " ('x3_None', 1.6454893707264967e-05),\n",
       " ('x6_zinc acetate', 9.268845818628363e-06),\n",
       " ('x4_dioctyl ether', 0.0),\n",
       " ('x5_None', 0.0),\n",
       " ('x6_tetrabutylammonium myristate', 0.0)]"
      ]
     },
     "execution_count": 36,
     "metadata": {},
     "output_type": "execute_result"
    }
   ],
   "source": [
    "importance_dict_a = dict()\n",
    "for i in range(0,71):\n",
    "    importance_dict_a[input_col[i]] = ET_regr_a.feature_importances_[i]\n",
    "\n",
    "sorted_importance_a = sorted(importance_dict_a.items(), key=lambda x: x[1], reverse=True)\n",
    "\n",
    "sorted_importance_a"
   ]
  },
  {
   "cell_type": "code",
   "execution_count": 37,
   "metadata": {},
   "outputs": [
    {
     "data": {
      "image/png": "[encoded data removed]",
      "text/plain": [
       "<Figure size 1490.4x595.44 with 1 Axes>"
      ]
     },
     "metadata": {},
     "output_type": "display_data"
    }
   ],
   "source": [
    "top7_a = DataFrame(sorted_importance_a[0:7], columns=['features', 'importance score'])\n",
    "\n",
    "others_a = DataFrame(sorted_importance_a[7:], columns=['features', 'importance score'])\n",
    "\n",
    "import seaborn as sns\n",
    "\n",
    "a4_dims = (20.7, 8.27)\n",
    "fig, ax = plt.subplots(figsize=a4_dims)\n",
    "sns.set_theme(style=\"whitegrid\")\n",
    "\n",
    "ax = sns.barplot(x=\"features\", y=\"importance score\", data=top7_a)"
   ]
  },
  {
   "cell_type": "code",
   "execution_count": 49,
   "metadata": {},
   "outputs": [
    {
     "data": {
      "text/plain": [
       "{'in_amount_mmol': 0.008174599777625944,\n",
       " 'p_amount_mmol': 0.02098466258492522,\n",
       " 'sol_amount_ml': 0.0041175291495416004,\n",
       " 'TOP_amount_mmol': 0.07109420883009378,\n",
       " 'acid_amount_mmol': 0.02603300508947207,\n",
       " 'amine_amount_mmol': 0.0858852953673919,\n",
       " 'thiol_amount_mmol': 0.0,\n",
       " 'zinc_amount_mmol': 0.001882284230793519,\n",
       " 'other_amount_mmol': 0.013926791047683594,\n",
       " 'total_volume_ml': 0.07233345402138885,\n",
       " 'temp_c': 0.2197705845090209,\n",
       " 'time_min': 0.14861232814590902,\n",
       " 'x0_chloroindium oxalate': 0.0010142211310188397,\n",
       " 'x0_indium acetate': 3.975746833593852e-05,\n",
       " 'x0_indium bromide': 6.744946138633628e-05,\n",
       " 'x0_indium chloride': 0.011207738505694315,\n",
       " 'x0_indium iodide': 0.0044419972903610395,\n",
       " 'x0_indium myristate': 3.2455076192602868e-06,\n",
       " 'x0_indium oxalate': 0.0,\n",
       " 'x0_indium palmitate': 0.0,\n",
       " 'x0_indium trifluoroacetate': 0.0,\n",
       " 'x0_indium tris(N,N-diisopropylacetamidinato)': 0.0,\n",
       " 'x1_bis(trimethylsilyl)phosphine': 0.0,\n",
       " 'x1_phosphine gas': 0.05891206796682794,\n",
       " 'x1_phosphorus trichloride': 0.0,\n",
       " 'x1_sodium phosphide': 0.0011107749826918332,\n",
       " 'x1_tris(diethylamino)phosphine': 0.0006969727612362411,\n",
       " 'x1_tris(dimethylamino)phosphine': 1.0818358733071612e-06,\n",
       " 'x1_tris(trimethylgermyl)phosphine': 0.0002575310295881337,\n",
       " 'x1_tris(trimethylsilyl)phosphine': 0.0,\n",
       " 'x1_white phosphorus': 0.0007901088126605949,\n",
       " 'x2_4-ethylpyridine': 0.0,\n",
       " 'x2_None': 0.0,\n",
       " 'x2_dimethylformamide': 0.0,\n",
       " 'x2_mesitylene': 0.0,\n",
       " 'x2_octadecene': 0.0,\n",
       " 'x2_toluene': 0.0,\n",
       " 'x3_None': 0.0,\n",
       " 'x3_trioctylphosphine': 0.007182732083198252,\n",
       " 'x4_None': 0.0,\n",
       " 'x4_lauric acid': 0.012647803374373634,\n",
       " 'x4_myristic acid': 0.0,\n",
       " 'x4_oleic acid': 0.0005885290156961018,\n",
       " 'x4_palmitic acid': 1.5482735707130097e-05,\n",
       " 'x4_stearic acid': 0.00846879917214322,\n",
       " 'x5_None': 0.015394351654261793,\n",
       " 'x5_dioctylamine': 9.817660548262368e-05,\n",
       " 'x5_dodecylamine': 0.0,\n",
       " 'x5_hexadecylamine': 0.0,\n",
       " 'x5_octylamine': 0.0,\n",
       " 'x5_oleylamine': 0.0,\n",
       " 'x6_None': 0.0,\n",
       " 'x6_dodecanethiol': 0.0,\n",
       " 'x7_None': 0.09849710216892996,\n",
       " 'x7_zinc acetate': 0.0,\n",
       " 'x7_zinc bromide': 0.013366648584885725,\n",
       " 'x7_zinc chloride': 0.020344198969800435,\n",
       " 'x7_zinc iodide': 0.03746051309755293,\n",
       " 'x7_zinc octanoate': 0.0002597951587898269,\n",
       " 'x7_zinc oleate': 0.0,\n",
       " 'x7_zinc stearate': 0.0,\n",
       " 'x7_zinc undecylenate': 0.0,\n",
       " 'x8_None': 0.0,\n",
       " 'x8_acetic acid': 0.0,\n",
       " 'x8_copper bromide': 0.0,\n",
       " 'x8_superhydride': 0.0,\n",
       " 'x8_oleic acid': 0.0,\n",
       " 'x8_tetrabutylammonium myristate': 0.0,\n",
       " 'x8_trioctylamine': 0.0,\n",
       " 'x8_trioctylphosphine oxide': 0.0,\n",
       " 'x8_water': 0.034318177872038086}"
      ]
     },
     "execution_count": 49,
     "metadata": {},
     "output_type": "execute_result"
    }
   ],
   "source": [
    "importance_dict_a"
   ]
  },
  {
   "cell_type": "markdown",
   "metadata": {},
   "source": [
    "### Combine\n"
   ]
  },
  {
   "cell_type": "code",
   "execution_count": 38,
   "metadata": {},
   "outputs": [],
   "source": [
    "sorted_a = sorted(importance_dict_a.items(), key=lambda x: x[0], reverse=False)\n",
    "sorted_d = sorted(importance_dict_d.items(), key=lambda x: x[0], reverse=False)\n",
    "sorted_e = sorted(importance_dict_e.items(), key=lambda x: x[0], reverse=False)\n"
   ]
  },
  {
   "cell_type": "code",
   "execution_count": 39,
   "metadata": {
    "scrolled": true
   },
   "outputs": [
    {
     "data": {
      "text/plain": [
       "[('first_sol_amount_ml', 0.01916807617818745),\n",
       " ('in_amount_mmol', 0.003928927613153915),\n",
       " ('ligand_amount_mmol', 0.016551794593083206),\n",
       " ('other_1_amount_mmol', 0.007934070779385438),\n",
       " ('other_2_amount_mmol', 0.0322195984362151),\n",
       " ('p_amount_mmol', 0.04297990243726769),\n",
       " ('second_sol_amount_ml', 0.019062196623655787),\n",
       " ('temp_c', 0.0925731795075623),\n",
       " ('third_sol_amount_ml', 0.0014960452937727985),\n",
       " ('time_min', 0.07402261562678016),\n",
       " ('total_volume_ml', 0.03540823738599123),\n",
       " ('x0_chloroindium oxalate', 0.0),\n",
       " ('x0_indium acetate', 0.007450813349345709),\n",
       " ('x0_indium bromide', 0.0),\n",
       " ('x0_indium chloride', 2.669920160250676e-06),\n",
       " ('x0_indium iodide', 0.0),\n",
       " ('x0_indium myristate', 0.0),\n",
       " ('x0_indium oxalate', 0.0),\n",
       " ('x0_indium palmitate', 0.0),\n",
       " ('x0_indium trifluoroacetate', 0.24879095762042372),\n",
       " ('x0_indium tris(N,N-diisopropylacetamidinato)', 0.0),\n",
       " ('x1_bis(trimethylsilyl)phosphine', 0.0),\n",
       " ('x1_phosphine gas', 0.02778265410336227),\n",
       " ('x1_phosphorus trichloride', 0.0),\n",
       " ('x1_sodium phosphide', 0.0),\n",
       " ('x1_tris(diethylamino)phosphine', 0.0),\n",
       " ('x1_tris(dimethylamino)phosphine', 0.0),\n",
       " ('x1_tris(trimethylgermyl)phosphine', 0.0),\n",
       " ('x1_tris(trimethylsilyl)phosphine', 0.001104466967247511),\n",
       " ('x1_white phosphorus', 0.0),\n",
       " ('x2_None', 0.0),\n",
       " ('x2_dodecanethiol', 0.0),\n",
       " ('x2_lauric acid', 0.001445761792642438),\n",
       " ('x2_myristic acid', 0.007182268762551215),\n",
       " ('x2_oleic acid', 0.0),\n",
       " ('x2_palmitic acid', 0.0),\n",
       " ('x2_stearic acid', 0.0),\n",
       " ('x3_4-ethylpyridine', 0.0),\n",
       " ('x3_None', 0.0),\n",
       " ('x3_dimethylformamide', 0.0),\n",
       " ('x3_dodecylamine', 0.0003750009736866538),\n",
       " ('x3_mesitylene', 0.0),\n",
       " ('x3_octadecene', 0.00021626353730444045),\n",
       " ('x3_oleylamine', 0.0),\n",
       " ('x3_trioctylamine', 0.009719327633635137),\n",
       " ('x3_trioctylphosphine', 0.0),\n",
       " ('x3_trioctylphosphine oxide', 0.0),\n",
       " ('x4_None', 0.0002634815706405547),\n",
       " ('x4_dioctyl ether', 0.0),\n",
       " ('x4_dioctylamine', 0.061033276985888105),\n",
       " ('x4_hexadecylamine', 0.0),\n",
       " ('x4_octylamine', 0.0),\n",
       " ('x4_oleylamine', 0.001423957448698666),\n",
       " ('x4_toluene', 0.0),\n",
       " ('x4_trioctylphosphine', 0.0),\n",
       " ('x4_trioctylphosphine oxide', 0.0),\n",
       " ('x5_None', 0.0),\n",
       " ('x5_trioctylphosphine', 0.0),\n",
       " ('x6_None', 0.0),\n",
       " ('x6_acetic acid', 0.0),\n",
       " ('x6_superhydride', 0.0),\n",
       " ('x6_tetrabutylammonium myristate', 0.0),\n",
       " ('x6_zinc acetate', 0.0),\n",
       " ('x6_zinc bromide', 0.0),\n",
       " ('x6_zinc chloride', 0.003292278617164486),\n",
       " ('x6_zinc iodide', 0.2637955854061895),\n",
       " ('x6_zinc octanoate', 0.0),\n",
       " ('x6_zinc oleate', 0.00927406535392528),\n",
       " ('x6_zinc stearate', 0.0),\n",
       " ('x6_zinc undecylenate', 0.011502525482079083),\n",
       " ('x7_None', 0.0)]"
      ]
     },
     "execution_count": 39,
     "metadata": {},
     "output_type": "execute_result"
    }
   ],
   "source": [
    "sorted_d "
   ]
  },
  {
   "cell_type": "code",
   "execution_count": 40,
   "metadata": {},
   "outputs": [],
   "source": [
    "combined_importance = dict()"
   ]
  },
  {
   "cell_type": "code",
   "execution_count": 41,
   "metadata": {},
   "outputs": [
    {
     "data": {
      "text/plain": [
       "{'first_sol_amount_ml': 0.06911795694669215,\n",
       " 'in_amount_mmol': 0.053926341374029914,\n",
       " 'ligand_amount_mmol': 0.07971307459447247,\n",
       " 'other_1_amount_mmol': 0.03885651579018845,\n",
       " 'other_2_amount_mmol': 0.03679663298716245,\n",
       " 'p_amount_mmol': 0.17774176762796207,\n",
       " 'second_sol_amount_ml': 0.049482239254519,\n",
       " 'temp_c': 0.4181592646751522,\n",
       " 'third_sol_amount_ml': 0.0016694278745534217,\n",
       " 'time_min': 0.2925403802833439,\n",
       " 'total_volume_ml': 0.08384825709624534,\n",
       " 'x0_chloroindium oxalate': 0.022198150823803123,\n",
       " 'x0_indium acetate': 0.009003749979926454,\n",
       " 'x0_indium bromide': 0.0024955354558034003,\n",
       " 'x0_indium chloride': 0.011137064636557894,\n",
       " 'x0_indium iodide': 0.02646845643860149,\n",
       " 'x0_indium myristate': 0.007542000062051579,\n",
       " 'x0_indium oxalate': 0.006155090305963609,\n",
       " 'x0_indium palmitate': 0.0007227115796125663,\n",
       " 'x0_indium trifluoroacetate': 0.2492226178828821,\n",
       " 'x0_indium tris(N,N-diisopropylacetamidinato)': 0.001602098176569583,\n",
       " 'x1_bis(trimethylsilyl)phosphine': 0.0005321249766378792,\n",
       " 'x1_phosphine gas': 0.13650488978323136,\n",
       " 'x1_phosphorus trichloride': 0.0019182152312611327,\n",
       " 'x1_sodium phosphide': 0.0032331985098036763,\n",
       " 'x1_tris(diethylamino)phosphine': 0.008439216015145879,\n",
       " 'x1_tris(dimethylamino)phosphine': 0.0070981411787428665,\n",
       " 'x1_tris(trimethylgermyl)phosphine': 0.0026070873963526466,\n",
       " 'x1_tris(trimethylsilyl)phosphine': 0.01993764378276862,\n",
       " 'x1_white phosphorus': 0.0011594880177338697,\n",
       " 'x2_None': 0.005347955499121156,\n",
       " 'x2_dodecanethiol': 0.01696253795603798,\n",
       " 'x2_lauric acid': 0.018478908613303504,\n",
       " 'x2_myristic acid': 0.024472180854548223,\n",
       " 'x2_oleic acid': 0.004672241281870206,\n",
       " 'x2_palmitic acid': 0.0038244781157556404,\n",
       " 'x2_stearic acid': 0.029788752617603373,\n",
       " 'x3_4-ethylpyridine': 0.00577947795071556,\n",
       " 'x3_None': 1.6454893707264967e-05,\n",
       " 'x3_dimethylformamide': 0.0009347110601801763,\n",
       " 'x3_dodecylamine': 0.0004117673512966341,\n",
       " 'x3_mesitylene': 0.0015882974811203443,\n",
       " 'x3_octadecene': 0.06673775396094875,\n",
       " 'x3_oleylamine': 0.008432353047006746,\n",
       " 'x3_trioctylamine': 0.010280467937921292,\n",
       " 'x3_trioctylphosphine': 0.007861962049442936,\n",
       " 'x3_trioctylphosphine oxide': 0.004716292985063744,\n",
       " 'x4_None': 0.023005935089484446,\n",
       " 'x4_dioctyl ether': 0.0,\n",
       " 'x4_dioctylamine': 0.07180161376893597,\n",
       " 'x4_hexadecylamine': 0.005887262566420101,\n",
       " 'x4_octylamine': 0.05951354369272392,\n",
       " 'x4_oleylamine': 0.0055057261029884215,\n",
       " 'x4_toluene': 0.0012515405204544235,\n",
       " 'x4_trioctylphosphine': 0.03200237409115034,\n",
       " 'x4_trioctylphosphine oxide': 0.032168261436309686,\n",
       " 'x5_None': 0.0,\n",
       " 'x5_trioctylphosphine': 0.0008563691374984258,\n",
       " 'x6_None': 0.13622526955347214,\n",
       " 'x6_acetic acid': 0.003045923806736968,\n",
       " 'x6_superhydride': 0.008686091309117638,\n",
       " 'x6_tetrabutylammonium myristate': 0.0,\n",
       " 'x6_zinc acetate': 9.268845818628363e-06,\n",
       " 'x6_zinc bromide': 0.02813721298391922,\n",
       " 'x6_zinc chloride': 0.03593336849110082,\n",
       " 'x6_zinc iodide': 0.38771369572805514,\n",
       " 'x6_zinc octanoate': 0.010819656760989765,\n",
       " 'x6_zinc oleate': 0.027490728775628775,\n",
       " 'x6_zinc stearate': 0.0015463074670365566,\n",
       " 'x6_zinc undecylenate': 0.03698159164298885,\n",
       " 'x7_None': 0.040435506504793495}"
      ]
     },
     "execution_count": 41,
     "metadata": {},
     "output_type": "execute_result"
    }
   ],
   "source": [
    "for i in range(0,71):\n",
    "    combined_importance[sorted_e[i][0]] = sorted_e[i][1] + sorted_a[i][1] + sorted_d[i][1]\n",
    "combined_importance\n"
   ]
  },
  {
   "cell_type": "code",
   "execution_count": 42,
   "metadata": {},
   "outputs": [
    {
     "data": {
      "text/plain": [
       "[('temp_c', 0.4181592646751522),\n",
       " ('x6_zinc iodide', 0.38771369572805514),\n",
       " ('time_min', 0.2925403802833439),\n",
       " ('x0_indium trifluoroacetate', 0.2492226178828821),\n",
       " ('p_amount_mmol', 0.17774176762796207),\n",
       " ('x1_phosphine gas', 0.13650488978323136),\n",
       " ('x6_None', 0.13622526955347214),\n",
       " ('total_volume_ml', 0.08384825709624534),\n",
       " ('ligand_amount_mmol', 0.07971307459447247),\n",
       " ('x4_dioctylamine', 0.07180161376893597),\n",
       " ('first_sol_amount_ml', 0.06911795694669215),\n",
       " ('x3_octadecene', 0.06673775396094875),\n",
       " ('x4_octylamine', 0.05951354369272392),\n",
       " ('in_amount_mmol', 0.053926341374029914),\n",
       " ('second_sol_amount_ml', 0.049482239254519),\n",
       " ('x7_None', 0.040435506504793495),\n",
       " ('other_1_amount_mmol', 0.03885651579018845),\n",
       " ('x6_zinc undecylenate', 0.03698159164298885),\n",
       " ('other_2_amount_mmol', 0.03679663298716245),\n",
       " ('x6_zinc chloride', 0.03593336849110082),\n",
       " ('x4_trioctylphosphine oxide', 0.032168261436309686),\n",
       " ('x4_trioctylphosphine', 0.03200237409115034),\n",
       " ('x2_stearic acid', 0.029788752617603373),\n",
       " ('x6_zinc bromide', 0.02813721298391922),\n",
       " ('x6_zinc oleate', 0.027490728775628775),\n",
       " ('x0_indium iodide', 0.02646845643860149),\n",
       " ('x2_myristic acid', 0.024472180854548223),\n",
       " ('x4_None', 0.023005935089484446),\n",
       " ('x0_chloroindium oxalate', 0.022198150823803123),\n",
       " ('x1_tris(trimethylsilyl)phosphine', 0.01993764378276862),\n",
       " ('x2_lauric acid', 0.018478908613303504),\n",
       " ('x2_dodecanethiol', 0.01696253795603798),\n",
       " ('x0_indium chloride', 0.011137064636557894),\n",
       " ('x6_zinc octanoate', 0.010819656760989765),\n",
       " ('x3_trioctylamine', 0.010280467937921292),\n",
       " ('x0_indium acetate', 0.009003749979926454),\n",
       " ('x6_superhydride', 0.008686091309117638),\n",
       " ('x1_tris(diethylamino)phosphine', 0.008439216015145879),\n",
       " ('x3_oleylamine', 0.008432353047006746),\n",
       " ('x3_trioctylphosphine', 0.007861962049442936),\n",
       " ('x0_indium myristate', 0.007542000062051579),\n",
       " ('x1_tris(dimethylamino)phosphine', 0.0070981411787428665),\n",
       " ('x0_indium oxalate', 0.006155090305963609),\n",
       " ('x4_hexadecylamine', 0.005887262566420101),\n",
       " ('x3_4-ethylpyridine', 0.00577947795071556),\n",
       " ('x4_oleylamine', 0.0055057261029884215),\n",
       " ('x2_None', 0.005347955499121156),\n",
       " ('x3_trioctylphosphine oxide', 0.004716292985063744),\n",
       " ('x2_oleic acid', 0.004672241281870206),\n",
       " ('x2_palmitic acid', 0.0038244781157556404),\n",
       " ('x1_sodium phosphide', 0.0032331985098036763),\n",
       " ('x6_acetic acid', 0.003045923806736968),\n",
       " ('x1_tris(trimethylgermyl)phosphine', 0.0026070873963526466),\n",
       " ('x0_indium bromide', 0.0024955354558034003),\n",
       " ('x1_phosphorus trichloride', 0.0019182152312611327),\n",
       " ('third_sol_amount_ml', 0.0016694278745534217),\n",
       " ('x0_indium tris(N,N-diisopropylacetamidinato)', 0.001602098176569583),\n",
       " ('x3_mesitylene', 0.0015882974811203443),\n",
       " ('x6_zinc stearate', 0.0015463074670365566),\n",
       " ('x4_toluene', 0.0012515405204544235),\n",
       " ('x1_white phosphorus', 0.0011594880177338697),\n",
       " ('x3_dimethylformamide', 0.0009347110601801763),\n",
       " ('x5_trioctylphosphine', 0.0008563691374984258),\n",
       " ('x0_indium palmitate', 0.0007227115796125663),\n",
       " ('x1_bis(trimethylsilyl)phosphine', 0.0005321249766378792),\n",
       " ('x3_dodecylamine', 0.0004117673512966341),\n",
       " ('x3_None', 1.6454893707264967e-05),\n",
       " ('x6_zinc acetate', 9.268845818628363e-06),\n",
       " ('x4_dioctyl ether', 0.0),\n",
       " ('x5_None', 0.0),\n",
       " ('x6_tetrabutylammonium myristate', 0.0)]"
      ]
     },
     "execution_count": 42,
     "metadata": {},
     "output_type": "execute_result"
    }
   ],
   "source": [
    "sorted_combined_importance = sorted(combined_importance.items(), key=lambda x: x[1], reverse=True)\n",
    "\n",
    "sorted_combined_importance "
   ]
  },
  {
   "cell_type": "code",
   "execution_count": 43,
   "metadata": {},
   "outputs": [
    {
     "data": {
      "image/png": "[encoded data removed]",
      "text/plain": [
       "<Figure size 1490.4x595.44 with 1 Axes>"
      ]
     },
     "metadata": {},
     "output_type": "display_data"
    }
   ],
   "source": [
    "top7_combined = DataFrame(sorted_combined_importance[0:7], columns=['features', 'importance score'])\n",
    "\n",
    "others_combined = DataFrame(sorted_combined_importance [7:], columns=['features', 'importance score'])\n",
    "\n",
    "import seaborn as sns\n",
    "\n",
    "a4_dims = (20.7, 8.27)\n",
    "fig, ax = plt.subplots(figsize=a4_dims)\n",
    "sns.set_theme(style=\"whitegrid\")\n",
    "\n",
    "ax = sns.barplot(x=\"features\", y=\"importance score\", data=top7_combined)"
   ]
  },
  {
   "cell_type": "code",
   "execution_count": null,
   "metadata": {},
   "outputs": [],
   "source": []
  }
 ],
 "metadata": {
  "kernelspec": {
   "display_name": "Python 3",
   "language": "python",
   "name": "python3"
  },
  "language_info": {
   "codemirror_mode": {
    "name": "ipython",
    "version": 3
   },
   "file_extension": ".py",
   "mimetype": "text/x-python",
   "name": "python",
   "nbconvert_exporter": "python",
   "pygments_lexer": "ipython3",
   "version": "3.8.5"
  }
 },
 "nbformat": 4,
 "nbformat_minor": 4
}
