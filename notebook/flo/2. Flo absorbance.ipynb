{
 "cells": [
  {
   "cell_type": "code",
   "execution_count": 1,
   "metadata": {},
   "outputs": [],
   "source": [
    "# Pandas dataframe\n",
    "import pandas as pd\n",
    "from pandas import DataFrame\n",
    "\n",
    "# Scikit-Learn\n",
    "import sklearn \n",
    "from sklearn import datasets, linear_model, metrics, tree\n",
    "from sklearn.model_selection import train_test_split, LeaveOneOut, KFold, cross_validate, RandomizedSearchCV, GridSearchCV\n",
    "from sklearn.metrics import r2_score, mean_squared_error, mean_absolute_error, accuracy_score\n",
    "\n",
    "# Models\n",
    "from sklearn.linear_model import LinearRegression, ElasticNet, Lasso, Ridge\n",
    "from sklearn.ensemble import (BaggingRegressor, ExtraTreesRegressor, GradientBoostingRegressor, \n",
    "RandomForestRegressor, AdaBoostRegressor)\n",
    "from sklearn.svm import SVR\n",
    "from sklearn.tree import DecisionTreeRegressor\n",
    "        \n",
    "import joblib\n",
    "from matplotlib import pyplot as plt\n",
    "import numpy as np\n",
    "import os\n",
    "from tqdm import tqdm"
   ]
  },
  {
   "cell_type": "code",
   "execution_count": 2,
   "metadata": {
    "scrolled": true
   },
   "outputs": [
    {
     "name": "stdout",
     "output_type": "stream",
     "text": [
      "<class 'pandas.core.frame.DataFrame'>\n",
      "RangeIndex: 205 entries, 0 to 204\n",
      "Data columns (total 79 columns):\n",
      " #   Column                                        Non-Null Count  Dtype  \n",
      "---  ------                                        --------------  -----  \n",
      " 0   Unnamed: 0                                    205 non-null    int64  \n",
      " 1   in_amount_mmol                                205 non-null    float64\n",
      " 2   p_amount_mmol                                 205 non-null    float64\n",
      " 3   ligand_amount_mmol                            205 non-null    float64\n",
      " 4   first_sol_amount_ml                           205 non-null    float64\n",
      " 5   second_sol_amount_ml                          205 non-null    float64\n",
      " 6   third_sol_amount_ml                           205 non-null    float64\n",
      " 7   other_1_amount_mmol                           205 non-null    float64\n",
      " 8   other_2_amount_mmol                           205 non-null    float64\n",
      " 9   total_volume_ml                               205 non-null    float64\n",
      " 10  temp_c                                        205 non-null    float64\n",
      " 11  time_min                                      205 non-null    float64\n",
      " 12  x0_chloroindium oxalate                       205 non-null    float64\n",
      " 13  x0_indium acetate                             205 non-null    float64\n",
      " 14  x0_indium bromide                             205 non-null    float64\n",
      " 15  x0_indium chloride                            205 non-null    float64\n",
      " 16  x0_indium iodide                              205 non-null    float64\n",
      " 17  x0_indium myristate                           205 non-null    float64\n",
      " 18  x0_indium oxalate                             205 non-null    float64\n",
      " 19  x0_indium palmitate                           205 non-null    float64\n",
      " 20  x0_indium trifluoroacetate                    205 non-null    float64\n",
      " 21  x0_indium tris(N,N-diisopropylacetamidinato)  205 non-null    float64\n",
      " 22  x1_bis(trimethylsilyl)phosphine               205 non-null    float64\n",
      " 23  x1_phosphine gas                              205 non-null    float64\n",
      " 24  x1_phosphorus trichloride                     205 non-null    float64\n",
      " 25  x1_sodium phosphide                           205 non-null    float64\n",
      " 26  x1_tris(diethylamino)phosphine                205 non-null    float64\n",
      " 27  x1_tris(dimethylamino)phosphine               205 non-null    float64\n",
      " 28  x1_tris(trimethylgermyl)phosphine             205 non-null    float64\n",
      " 29  x1_tris(trimethylsilyl)phosphine              205 non-null    float64\n",
      " 30  x1_white phosphorus                           205 non-null    float64\n",
      " 31  x2_None                                       205 non-null    float64\n",
      " 32  x2_dodecanethiol                              205 non-null    float64\n",
      " 33  x2_lauric acid                                205 non-null    float64\n",
      " 34  x2_myristic acid                              205 non-null    float64\n",
      " 35  x2_oleic acid                                 205 non-null    float64\n",
      " 36  x2_palmitic acid                              205 non-null    float64\n",
      " 37  x2_stearic acid                               205 non-null    float64\n",
      " 38  x3_4-ethylpyridine                            205 non-null    float64\n",
      " 39  x3_None                                       205 non-null    float64\n",
      " 40  x3_dimethylformamide                          205 non-null    float64\n",
      " 41  x3_dodecylamine                               205 non-null    float64\n",
      " 42  x3_mesitylene                                 205 non-null    float64\n",
      " 43  x3_octadecene                                 205 non-null    float64\n",
      " 44  x3_oleylamine                                 205 non-null    float64\n",
      " 45  x3_trioctylamine                              205 non-null    float64\n",
      " 46  x3_trioctylphosphine                          205 non-null    float64\n",
      " 47  x3_trioctylphosphine oxide                    205 non-null    float64\n",
      " 48  x4_None                                       205 non-null    float64\n",
      " 49  x4_dioctyl ether                              205 non-null    float64\n",
      " 50  x4_dioctylamine                               205 non-null    float64\n",
      " 51  x4_hexadecylamine                             205 non-null    float64\n",
      " 52  x4_octylamine                                 205 non-null    float64\n",
      " 53  x4_oleylamine                                 205 non-null    float64\n",
      " 54  x4_toluene                                    205 non-null    float64\n",
      " 55  x4_trioctylphosphine                          205 non-null    float64\n",
      " 56  x4_trioctylphosphine oxide                    205 non-null    float64\n",
      " 57  x5_None                                       205 non-null    float64\n",
      " 58  x5_trioctylphosphine                          205 non-null    float64\n",
      " 59  x6_None                                       205 non-null    float64\n",
      " 60  x6_acetic acid                                205 non-null    float64\n",
      " 61  x6_superhydride                               205 non-null    float64\n",
      " 62  x6_tetrabutylammonium myristate               205 non-null    float64\n",
      " 63  x6_zinc acetate                               205 non-null    float64\n",
      " 64  x6_zinc bromide                               205 non-null    float64\n",
      " 65  x6_zinc chloride                              205 non-null    float64\n",
      " 66  x6_zinc iodide                                205 non-null    float64\n",
      " 67  x6_zinc octanoate                             205 non-null    float64\n",
      " 68  x6_zinc oleate                                205 non-null    float64\n",
      " 69  x6_zinc stearate                              205 non-null    float64\n",
      " 70  x6_zinc undecylenate                          205 non-null    float64\n",
      " 71  x7_None                                       205 non-null    float64\n",
      " 72  x7_copper bromide                             205 non-null    float64\n",
      " 73  x7_oleic acid                                 205 non-null    float64\n",
      " 74  x7_water                                      205 non-null    float64\n",
      " 75  x7_zinc iodide                                205 non-null    float64\n",
      " 76  diameter_nm                                   205 non-null    object \n",
      " 77  abs_nm                                        205 non-null    int64  \n",
      " 78  emission_nm                                   205 non-null    object \n",
      "dtypes: float64(75), int64(2), object(2)\n",
      "memory usage: 126.6+ KB\n"
     ]
    }
   ],
   "source": [
    "df_abs = pd.read_csv(\"dataset_scaled_abs.csv\")\n",
    "df_abs.info()"
   ]
  },
  {
   "cell_type": "code",
   "execution_count": 4,
   "metadata": {},
   "outputs": [],
   "source": [
    "#Checks the column names, and ensures that they do not have any leading or trailing spaces\n",
    "df_abs.columns = df_abs.columns.str.strip()"
   ]
  },
  {
   "cell_type": "code",
   "execution_count": 5,
   "metadata": {},
   "outputs": [],
   "source": [
    "# Input for ML models\n",
    "\n",
    "input_col = ['in_amount_mmol', 'p_amount_mmol', 'ligand_amount_mmol',\n",
    "       'first_sol_amount_ml', 'second_sol_amount_ml', 'third_sol_amount_ml',\n",
    "       'other_1_amount_mmol', 'other_2_amount_mmol', 'total_volume_ml',\n",
    "       'temp_c', 'time_min', 'x0_chloroindium oxalate', 'x0_indium acetate',\n",
    "       'x0_indium bromide', 'x0_indium chloride', 'x0_indium iodide',\n",
    "       'x0_indium myristate', 'x0_indium oxalate', 'x0_indium palmitate',\n",
    "       'x0_indium trifluoroacetate',\n",
    "       'x0_indium tris(N,N-diisopropylacetamidinato)',\n",
    "       'x1_bis(trimethylsilyl)phosphine', 'x1_phosphine gas',\n",
    "       'x1_phosphorus trichloride', 'x1_sodium phosphide',\n",
    "       'x1_tris(diethylamino)phosphine', 'x1_tris(dimethylamino)phosphine',\n",
    "       'x1_tris(trimethylgermyl)phosphine', 'x1_tris(trimethylsilyl)phosphine',\n",
    "       'x1_white phosphorus', 'x2_None', 'x2_dodecanethiol', 'x2_lauric acid',\n",
    "       'x2_myristic acid', 'x2_oleic acid', 'x2_palmitic acid',\n",
    "       'x2_stearic acid', 'x3_4-ethylpyridine', 'x3_None',\n",
    "       'x3_dimethylformamide', 'x3_dodecylamine', 'x3_mesitylene',\n",
    "       'x3_octadecene', 'x3_oleylamine', 'x3_trioctylamine',\n",
    "       'x3_trioctylphosphine', 'x3_trioctylphosphine oxide', 'x4_None',\n",
    "       'x4_dioctyl ether', 'x4_dioctylamine', 'x4_hexadecylamine',\n",
    "       'x4_octylamine', 'x4_oleylamine', 'x4_toluene', 'x4_trioctylphosphine',\n",
    "       'x4_trioctylphosphine oxide', 'x5_None', 'x5_trioctylphosphine',\n",
    "       'x6_None', 'x6_acetic acid', 'x6_superhydride',\n",
    "       'x6_tetrabutylammonium myristate', 'x6_zinc acetate', 'x6_zinc bromide',\n",
    "       'x6_zinc chloride', 'x6_zinc iodide', 'x6_zinc octanoate',\n",
    "       'x6_zinc oleate', 'x6_zinc stearate', 'x6_zinc undecylenate', 'x7_None',\n",
    "       'x7_copper bromide', 'x7_oleic acid', 'x7_water', 'x7_zinc iodide']\n",
    "\n",
    "output_col = ['abs_nm']\n",
    "\n",
    "X = df_abs[input_col]\n",
    "\n",
    "Y = df_abs[output_col]"
   ]
  },
  {
   "cell_type": "code",
   "execution_count": 6,
   "metadata": {},
   "outputs": [],
   "source": [
    "# Splitting dataset for training\n",
    "X_train, X_test, Y_train, Y_test = train_test_split(X, Y, test_size=0.2, random_state=45, shuffle=True)"
   ]
  },
  {
   "cell_type": "markdown",
   "metadata": {},
   "source": [
    "# Hyper parameter tuning\n",
    "## Ensemble regressors"
   ]
  },
  {
   "cell_type": "markdown",
   "metadata": {},
   "source": [
    "### Bagging"
   ]
  },
  {
   "cell_type": "code",
   "execution_count": 24,
   "metadata": {},
   "outputs": [
    {
     "name": "stdout",
     "output_type": "stream",
     "text": [
      "Fitting 5 folds for each of 820 candidates, totalling 4100 fits\n",
      "Best MAE Score Through Random Search : -30.799\n",
      "Best Parameters :  {'n_estimators': 28, 'random_state': 4}\n",
      "CPU times: user 6.57 s, sys: 440 ms, total: 7.01 s\n",
      "Wall time: 1min 23s\n"
     ]
    }
   ],
   "source": [
    "%%time\n",
    "\n",
    "#sklearn random search over n iterations\n",
    "#define ranges of paramaters to tune\n",
    "#the internet tunes these parameters for bagging\n",
    "\n",
    "params = {'n_estimators': range(10,1001)}\n",
    "\n",
    "#n_jobs runs jobs in parallel, verbose prints updates in command line\n",
    "rs_bag = RandomizedSearchCV(BaggingRegressor(), param_distributions=params, n_iter=1000, n_jobs=-1, verbose=10,\n",
    "                           scoring='neg_mean_absolute_error')\n",
    "rs_bag.fit(X, np.ravel(Y))\n",
    "\n",
    "print('Best MAE Score Through Random Search : %.3f'%rs_bag.best_score_)\n",
    "print('Best Parameters : ',rs_bag.best_params_)"
   ]
  },
  {
   "cell_type": "code",
   "execution_count": 10,
   "metadata": {},
   "outputs": [
    {
     "name": "stdout",
     "output_type": "stream",
     "text": [
      "Mean absolute error = 26.96 nm\n"
     ]
    },
    {
     "data": {
      "image/png": "[encoded data removed]",
      "text/plain": [
       "<Figure size 432x288 with 1 Axes>"
      ]
     },
     "metadata": {
      "needs_background": "light"
     },
     "output_type": "display_data"
    }
   ],
   "source": [
    "#using random search parameters\n",
    "B_regr = BaggingRegressor(n_estimators=12)\n",
    "B_regr.fit(X_train, np.ravel(Y_train))\n",
    "            \n",
    "B_Y_pred = B_regr.predict(X_test)\n",
    "            \n",
    "B_mae = mean_absolute_error(Y_test, B_Y_pred)\n",
    "print(\"Mean absolute error =\", round(B_mae,3), 'nm')\n",
    "\n",
    "plt.figure()\n",
    "plt.title(\"Bagging\")\n",
    "plt.plot(Y_test, B_Y_pred, 'o')\n",
    "plt.xlabel('Observed Values (nm)')\n",
    "plt.ylabel('Predicted Values (nm)')\n",
    "plt.plot([400,800],[400,800], color = 'r')\n",
    "plt.text(400, 750, 'MAE=' , fontdict=None)\n",
    "plt.text(440, 750, round(B_mae,3), fontdict=None)\n",
    "plt.text(490, 750, 'nm', fontdict=None)\n",
    "plt.show()"
   ]
  },
  {
   "cell_type": "markdown",
   "metadata": {},
   "source": [
    "### Random Forest"
   ]
  },
  {
   "cell_type": "code",
   "execution_count": 33,
   "metadata": {},
   "outputs": [
    {
     "name": "stdout",
     "output_type": "stream",
     "text": [
      "Fitting 5 folds for each of 1020 candidates, totalling 5100 fits\n",
      "Best MAE Score : -31.223\n",
      "Best Parameters :  {'n_estimators': 123, 'random_state': 14}\n",
      "CPU times: user 15.5 s, sys: 1.08 s, total: 16.6 s\n",
      "Wall time: 5min 50s\n"
     ]
    }
   ],
   "source": [
    "%%time\n",
    "\n",
    "#sklearn random search\n",
    "\n",
    "params = {'n_estimators': range(100,1001)}\n",
    "\n",
    "#n_jobs runs jobs in parallel, verbose prints updates\n",
    "rs_rf = RandomizedSearchCV(RandomForestRegressor(), param_distributions=params, n_iter=500, n_jobs=-1, verbose=10,\n",
    "                           scoring='neg_mean_absolute_error')\n",
    "rs_rf.fit(X, np.ravel(Y))\n",
    "\n",
    "print('Best MAE Score Through Random Search : %.3f'%rs_rf.best_score_)\n",
    "print('Best Parameters : ',rs_rf.best_params_)"
   ]
  },
  {
   "cell_type": "code",
   "execution_count": 13,
   "metadata": {},
   "outputs": [
    {
     "name": "stdout",
     "output_type": "stream",
     "text": [
      "Mean absolute error = 25.775 nm\n"
     ]
    },
    {
     "data": {
      "image/png": "[encoded data removed]",
      "text/plain": [
       "<Figure size 432x288 with 1 Axes>"
      ]
     },
     "metadata": {
      "needs_background": "light"
     },
     "output_type": "display_data"
    }
   ],
   "source": [
    "#using random search parameters\n",
    "RF_regr = RandomForestRegressor(n_estimators=157)\n",
    "RF_regr.fit(X_train, np.ravel(Y_train))\n",
    "            \n",
    "RF_Y_pred = RF_regr.predict(X_test)\n",
    "            \n",
    "RF_mae = mean_absolute_error(Y_test, RF_Y_pred)\n",
    "print(\"Mean absolute error =\", round(RF_mae,3), 'nm')\n",
    "\n",
    "plt.figure()\n",
    "plt.title(\"Random Forest\")\n",
    "plt.plot(Y_test, RF_Y_pred, 'o')\n",
    "plt.xlabel('Observed Values (nm)')\n",
    "plt.ylabel('Predicted Values (nm)')\n",
    "plt.plot([400,800],[400,800], color = 'r')\n",
    "plt.text(400, 750, 'MAE=' , fontdict=None)\n",
    "plt.text(440, 750, round(RF_mae,3), fontdict=None)\n",
    "plt.text(490, 750, 'nm', fontdict=None)\n",
    "plt.show()"
   ]
  },
  {
   "cell_type": "markdown",
   "metadata": {},
   "source": [
    "### Decision Tree"
   ]
  },
  {
   "cell_type": "code",
   "execution_count": 27,
   "metadata": {},
   "outputs": [
    {
     "name": "stdout",
     "output_type": "stream",
     "text": [
      "Fitting 5 folds for each of 1000 candidates, totalling 5000 fits\n",
      "Best MAE Score Through Random Search : -40.880\n",
      "Best Parameters :  {'min_samples_split': 49, 'min_samples_leaf': 1}\n",
      "CPU times: user 2.87 s, sys: 131 ms, total: 3 s\n",
      "Wall time: 8.48 s\n"
     ]
    }
   ],
   "source": [
    "%%time\n",
    "\n",
    "#sklearn random search\n",
    "\n",
    "params = {'min_samples_split': range(2,100),\n",
    "          'min_samples_leaf':range(1,100)}\n",
    "\n",
    "#n_jobs runs jobs in parallel, verbose prints updates\n",
    "rs_dt = RandomizedSearchCV(DecisionTreeRegressor(), param_distributions=params, n_iter=1000, n_jobs=-1, verbose=10,\n",
    "                          scoring='neg_mean_absolute_error')\n",
    "rs_dt.fit(X, np.ravel(Y))\n",
    "\n",
    "print('Best MAE Score Through Random Search : %.3f'%rs_dt.best_score_)\n",
    "print('Best Parameters : ',rs_dt.best_params_)"
   ]
  },
  {
   "cell_type": "code",
   "execution_count": 16,
   "metadata": {},
   "outputs": [
    {
     "name": "stdout",
     "output_type": "stream",
     "text": [
      "Mean absolute error = 25.427 nm\n"
     ]
    },
    {
     "data": {
      "image/png": "[encoded data removed]",
      "text/plain": [
       "<Figure size 432x288 with 1 Axes>"
      ]
     },
     "metadata": {
      "needs_background": "light"
     },
     "output_type": "display_data"
    }
   ],
   "source": [
    "#using random search parameters\n",
    "DT_regr = DecisionTreeRegressor(min_samples_leaf=1, min_samples_split=49)\n",
    "DT_regr.fit(X_train, np.ravel(Y_train))\n",
    "            \n",
    "DT_Y_pred = DT_regr.predict(X_test)\n",
    "            \n",
    "DT_mae = mean_absolute_error(Y_test, DT_Y_pred)\n",
    "print(\"Mean absolute error =\", round(DT_mae,3), 'nm')\n",
    "\n",
    "plt.figure()\n",
    "plt.title(\"Decision Tree\")\n",
    "plt.plot(Y_test, DT_Y_pred, 'o')\n",
    "plt.xlabel('Observed Values (nm)')\n",
    "plt.ylabel('Predicted Values (nm)')\n",
    "plt.plot([400,800],[400,800], color = 'r')\n",
    "plt.text(400, 750, 'MAE=' , fontdict=None)\n",
    "plt.text(440, 750, round(DT_mae,3), fontdict=None)\n",
    "plt.text(490, 750, 'nm', fontdict=None)\n",
    "plt.show()"
   ]
  },
  {
   "cell_type": "markdown",
   "metadata": {},
   "source": [
    "### Extra Trees"
   ]
  },
  {
   "cell_type": "code",
   "execution_count": 30,
   "metadata": {},
   "outputs": [
    {
     "name": "stdout",
     "output_type": "stream",
     "text": [
      "Fitting 5 folds for each of 500 candidates, totalling 2500 fits\n",
      "Best MAE Score Through Random Search : -38.628\n",
      "Best Parameters :  {'n_estimators': 466, 'min_samples_split': 3, 'min_samples_leaf': 1}\n",
      "CPU times: user 8.39 s, sys: 435 ms, total: 8.82 s\n",
      "Wall time: 8min 24s\n"
     ]
    }
   ],
   "source": [
    "%%time\n",
    "\n",
    "#sklearn random search\n",
    "\n",
    "params = {'n_estimators': range(100,1001),\n",
    "          'min_samples_split':range(2,10),\n",
    "         'min_samples_leaf': range(1,10)}\n",
    "\n",
    "#n_jobs runs jobs in parallel, verbose prints updates\n",
    "rs_et = RandomizedSearchCV(ExtraTreesRegressor(), param_distributions=params, n_iter=500, n_jobs=-1, verbose=10,\n",
    "                          scoring='neg_mean_absolute_error')\n",
    "rs_et.fit(X, np.ravel(Y))\n",
    "\n",
    "print('Best MAE Score Through Random Search : %.3f'%rs_et.best_score_)\n",
    "print('Best Parameters : ',rs_et.best_params_)"
   ]
  },
  {
   "cell_type": "code",
   "execution_count": 7,
   "metadata": {},
   "outputs": [
    {
     "name": "stdout",
     "output_type": "stream",
     "text": [
      "Fitting 5 folds for each of 200 candidates, totalling 1000 fits\n",
      "Best MAE Score Through Random Search : -38.366\n",
      "Best Parameters :  {'random_state': 90}\n",
      "CPU times: user 3.78 s, sys: 212 ms, total: 3.99 s\n",
      "Wall time: 3min 21s\n"
     ]
    }
   ],
   "source": [
    "%%time\n",
    "\n",
    "#after first optimisation, now looking for best random state\n",
    "\n",
    "params = {'random_state':range(1,1001)}\n",
    "\n",
    "#n_jobs runs jobs in parallel, verbose prints updates\n",
    "rs_et = RandomizedSearchCV(ExtraTreesRegressor(n_estimators=466, min_samples_split=3, min_samples_leaf=1), \n",
    "                           param_distributions=params, n_iter=200, n_jobs=-1, verbose=10,\n",
    "                          scoring='neg_mean_absolute_error')\n",
    "rs_et.fit(X, np.ravel(Y))\n",
    "\n",
    "print('Best MAE Score Through Random Search : %.3f'%rs_et.best_score_)\n",
    "print('Best Parameters : ',rs_et.best_params_)"
   ]
  },
  {
   "cell_type": "code",
   "execution_count": 9,
   "metadata": {},
   "outputs": [
    {
     "name": "stdout",
     "output_type": "stream",
     "text": [
      "Mean absolute error = 22.269 nm\n"
     ]
    },
    {
     "data": {
      "image/png": "[encoded data removed]",
      "text/plain": [
       "<Figure size 432x288 with 1 Axes>"
      ]
     },
     "metadata": {
      "needs_background": "light"
     },
     "output_type": "display_data"
    }
   ],
   "source": [
    "ET_regr = ExtraTreesRegressor(n_estimators=466, min_samples_split=3, min_samples_leaf=1, random_state=90)\n",
    "            \n",
    "ET_regr.fit(X_train, np.ravel(Y_train))\n",
    "            \n",
    "ET_Y_pred = ET_regr.predict(X_test)\n",
    "            \n",
    "ET_mae = mean_absolute_error(Y_test, ET_Y_pred)\n",
    "print(\"Mean absolute error =\", round(ET_mae,3), 'nm')\n",
    "\n",
    "plt.figure()\n",
    "plt.title(\"Extra Trees\")\n",
    "plt.plot(Y_test, ET_Y_pred, 'o')\n",
    "plt.xlabel('Observed Values (nm)')\n",
    "plt.ylabel('Predicted Values (nm)')\n",
    "plt.plot([400,800],[400,800], color = 'r')\n",
    "plt.text(400, 750, 'MAE=' , fontdict=None)\n",
    "plt.text(440, 750, round(ET_mae,3), fontdict=None)\n",
    "plt.text(490, 750, 'nm', fontdict=None)\n",
    "plt.show()"
   ]
  },
  {
   "cell_type": "markdown",
   "metadata": {},
   "source": [
    "### Ada Boost"
   ]
  },
  {
   "cell_type": "code",
   "execution_count": 36,
   "metadata": {
    "scrolled": true
   },
   "outputs": [
    {
     "name": "stdout",
     "output_type": "stream",
     "text": [
      "Fitting 5 folds for each of 100 candidates, totalling 500 fits\n",
      "Best MAE Score Through Random Search : -39.135\n",
      "Best Parameters :  {'n_estimators': 374, 'loss': 'exponential', 'learning_rate': 4}\n",
      "CPU times: user 4.6 s, sys: 267 ms, total: 4.87 s\n",
      "Wall time: 1min 13s\n"
     ]
    }
   ],
   "source": [
    "%%time\n",
    "\n",
    "#sklearn random search\n",
    "\n",
    "params = {'n_estimators': range(50,501),\n",
    "          'learning_rate':range(1,11),\n",
    "         'loss':['linear', 'square', 'exponential']}\n",
    "\n",
    "#n_jobs runs jobs in parallel, verbose prints updates\n",
    "rs_ab = RandomizedSearchCV(AdaBoostRegressor(), param_distributions=params, n_iter=100, n_jobs=-1, verbose=10,\n",
    "                          scoring='neg_mean_absolute_error')\n",
    "rs_ab.fit(X, np.ravel(Y))\n",
    "\n",
    "print('Best MAE Score Through Random Search : %.3f'%rs_ab.best_score_)\n",
    "print('Best Parameters : ',rs_ab.best_params_)"
   ]
  },
  {
   "cell_type": "code",
   "execution_count": 23,
   "metadata": {
    "scrolled": true
   },
   "outputs": [
    {
     "name": "stdout",
     "output_type": "stream",
     "text": [
      "Mean absolute error = 33.927 nm\n"
     ]
    },
    {
     "data": {
      "image/png": "[encoded data removed]",
      "text/plain": [
       "<Figure size 432x288 with 1 Axes>"
      ]
     },
     "metadata": {
      "needs_background": "light"
     },
     "output_type": "display_data"
    }
   ],
   "source": [
    "AB_regr = AdaBoostRegressor(n_estimators=374, loss='exponential', learning_rate=4)\n",
    "            \n",
    "AB_regr.fit(X_train, np.ravel(Y_train))\n",
    "AB_Y_pred = AB_regr.predict(X_test)\n",
    "            \n",
    "AB_mae = mean_absolute_error(Y_test, AB_Y_pred)\n",
    "print(\"Mean absolute error =\", round(AB_mae,3), 'nm')\n",
    "\n",
    "plt.figure()\n",
    "plt.title(\"Ada Boost\")\n",
    "plt.plot(Y_test, AB_Y_pred, 'o')\n",
    "plt.xlabel('Observed Values (nm)')\n",
    "plt.ylabel('Predicted Values (nm)')\n",
    "plt.plot([400,800],[400,800], color = 'r')\n",
    "plt.text(400, 750, 'MAE=' , fontdict=None)\n",
    "plt.text(440, 750, round(AB_mae,3), fontdict=None)\n",
    "plt.text(490, 750, 'nm', fontdict=None)\n",
    "plt.show()"
   ]
  },
  {
   "cell_type": "markdown",
   "metadata": {},
   "source": [
    "### Gradient Boosting"
   ]
  },
  {
   "cell_type": "code",
   "execution_count": 32,
   "metadata": {
    "scrolled": true
   },
   "outputs": [
    {
     "name": "stdout",
     "output_type": "stream",
     "text": [
      "Fitting 5 folds for each of 100 candidates, totalling 500 fits\n",
      "Best MAE Score Through Random Search : -37.084\n",
      "Best Parameters :  {'n_estimators': 210, 'min_samples_split': 10, 'min_samples_leaf': 1, 'max_depth': 7}\n",
      "CPU times: user 2.33 s, sys: 361 ms, total: 2.69 s\n",
      "Wall time: 1min 26s\n"
     ]
    }
   ],
   "source": [
    "%%time\n",
    "\n",
    "#sklearn random search\n",
    "\n",
    "params = {'n_estimators': range(100,1001),\n",
    "          'min_samples_split':range(2,21),\n",
    "         'min_samples_leaf': range(1,11),\n",
    "         'max_depth':range(3,31)}\n",
    "\n",
    "#n_jobs runs jobs in parallel, verbose prints updates\n",
    "rs_gb = RandomizedSearchCV(GradientBoostingRegressor(), param_distributions=params, n_iter=100, n_jobs=-1, verbose=10,\n",
    "                          scoring='neg_mean_absolute_error')\n",
    "rs_gb.fit(X, np.ravel(Y))\n",
    "\n",
    "print('Best MAE Score Through Random Search : %.3f'%rs_gb.best_score_)\n",
    "print('Best Parameters : ',rs_gb.best_params_)"
   ]
  },
  {
   "cell_type": "code",
   "execution_count": 62,
   "metadata": {
    "scrolled": true
   },
   "outputs": [
    {
     "name": "stdout",
     "output_type": "stream",
     "text": [
      "Fitting 5 folds for each of 500 candidates, totalling 2500 fits\n",
      "Best MAE Score Through Random Search : -36.905\n",
      "Best Parameters :  {'random_state': 179}\n",
      "CPU times: user 6.58 s, sys: 313 ms, total: 6.9 s\n",
      "Wall time: 1min 56s\n"
     ]
    }
   ],
   "source": [
    "%%time\n",
    "\n",
    "#sklearn random search\n",
    "\n",
    "params = {'random_state':range(1,1001)}\n",
    "\n",
    "#n_jobs runs jobs in parallel, verbose prints updates\n",
    "rs_gb = RandomizedSearchCV(GradientBoostingRegressor(n_estimators=210, min_samples_split=10, min_samples_leaf=1, max_depth=7), param_distributions=params, n_iter=500, n_jobs=-1, verbose=10,\n",
    "                          scoring='neg_mean_absolute_error')\n",
    "rs_gb.fit(X, np.ravel(Y))\n",
    "\n",
    "print('Best MAE Score Through Random Search : %.3f'%rs_gb.best_score_)\n",
    "print('Best Parameters : ',rs_gb.best_params_)"
   ]
  },
  {
   "cell_type": "code",
   "execution_count": 26,
   "metadata": {},
   "outputs": [
    {
     "name": "stdout",
     "output_type": "stream",
     "text": [
      "Mean absolute error = 24.469 nm\n"
     ]
    },
    {
     "data": {
      "image/png": "[encoded data removed]",
      "text/plain": [
       "<Figure size 432x288 with 1 Axes>"
      ]
     },
     "metadata": {
      "needs_background": "light"
     },
     "output_type": "display_data"
    }
   ],
   "source": [
    "GB_regr = GradientBoostingRegressor(n_estimators=210, min_samples_split=10, min_samples_leaf=1, max_depth=7)\n",
    "            \n",
    "GB_regr.fit(X_train, np.ravel(Y_train))\n",
    "GB_Y_pred = GB_regr.predict(X_test)\n",
    "            \n",
    "GB_mae = mean_absolute_error(Y_test, GB_Y_pred)\n",
    "print(\"Mean absolute error =\", round(GB_mae,3), 'nm')\n",
    "\n",
    "plt.figure()\n",
    "plt.title(\"Gradient Boosting\")\n",
    "plt.plot(Y_test, GB_Y_pred, 'o')\n",
    "plt.xlabel('Observed Values (nm)')\n",
    "plt.ylabel('Predicted Values (nm)')\n",
    "plt.plot([400,800],[400,800], color = 'r')\n",
    "plt.text(400, 750, 'MAE=' , fontdict=None)\n",
    "plt.text(440, 750, round(GB_mae,3), fontdict=None)\n",
    "plt.text(490, 750, 'nm', fontdict=None)\n",
    "plt.show()"
   ]
  },
  {
   "cell_type": "markdown",
   "metadata": {},
   "source": [
    "## Others"
   ]
  },
  {
   "cell_type": "markdown",
   "metadata": {},
   "source": [
    "### Linear Regression"
   ]
  },
  {
   "cell_type": "code",
   "execution_count": 59,
   "metadata": {
    "scrolled": false
   },
   "outputs": [
    {
     "name": "stdout",
     "output_type": "stream",
     "text": [
      "Mean absolute error = 28596716743423.453 nm\n"
     ]
    },
    {
     "data": {
      "image/png": "[encoded data removed]",
      "text/plain": [
       "<Figure size 432x288 with 1 Axes>"
      ]
     },
     "metadata": {
      "needs_background": "light"
     },
     "output_type": "display_data"
    }
   ],
   "source": [
    "#using random search parameters\n",
    "Linear_regr = LinearRegression()\n",
    "Linear_regr.fit(X_train, np.ravel(Y_train))\n",
    "            \n",
    "Linear_Y_pred = Linear_regr.predict(X_test)\n",
    "            \n",
    "Linear_mae = mean_absolute_error(Y_test, Linear_Y_pred)\n",
    "print(\"Mean absolute error =\", round(Linear_mae,3), 'nm')\n",
    "\n",
    "plt.figure()\n",
    "plt.title(\"Linear\")\n",
    "plt.plot(Y_test, Linear_Y_pred, 'o')\n",
    "plt.xlabel('Observed Values (nm)')\n",
    "plt.ylabel('Predicted Values (nm)')\n",
    "plt.plot([400,800],[400,800], color = 'r')\n",
    "plt.text(400, 750, 'MAE=' , fontdict=None)\n",
    "plt.text(440, 750, round(Linear_mae,3), fontdict=None)\n",
    "plt.text(490, 750, 'nm', fontdict=None)\n",
    "plt.show()"
   ]
  },
  {
   "cell_type": "markdown",
   "metadata": {},
   "source": [
    "### Lasso"
   ]
  },
  {
   "cell_type": "code",
   "execution_count": 39,
   "metadata": {},
   "outputs": [
    {
     "name": "stdout",
     "output_type": "stream",
     "text": [
      "Fitting 5 folds for each of 1000 candidates, totalling 5000 fits\n",
      "Best MAE Score Through Random Search : -42.732\n",
      "Best Parameters :  {'selection': 'random', 'max_iter': 2099}\n",
      "CPU times: user 2.87 s, sys: 142 ms, total: 3.01 s\n",
      "Wall time: 9.89 s\n"
     ]
    }
   ],
   "source": [
    "%%time\n",
    "\n",
    "#sklearn random search over n iterations\n",
    "\n",
    "params = {'max_iter': range(1000,10001),\n",
    "         'selection': ['cyclic', 'random']}\n",
    "\n",
    "#n_jobs runs jobs in parallel, verbose prints updates\n",
    "rs_lasso = RandomizedSearchCV(Lasso(), param_distributions=params, n_iter=1000, n_jobs=-1, verbose=10,\n",
    "                           scoring='neg_mean_absolute_error')\n",
    "rs_lasso.fit(X, np.ravel(Y))\n",
    "\n",
    "print('Best MAE Score Through Random Search : %.3f'%rs_lasso.best_score_)\n",
    "print('Best Parameters : ',rs_lasso.best_params_)"
   ]
  },
  {
   "cell_type": "code",
   "execution_count": 29,
   "metadata": {
    "scrolled": false
   },
   "outputs": [
    {
     "name": "stdout",
     "output_type": "stream",
     "text": [
      "Mean absolute error = 37.398 nm\n"
     ]
    },
    {
     "data": {
      "image/png": "[encoded data removed]",
      "text/plain": [
       "<Figure size 432x288 with 1 Axes>"
      ]
     },
     "metadata": {
      "needs_background": "light"
     },
     "output_type": "display_data"
    }
   ],
   "source": [
    "#using random search parameters\n",
    "Lasso_regr = Lasso(selection='random', max_iter=2099)\n",
    "Lasso_regr.fit(X_train, np.ravel(Y_train))\n",
    "            \n",
    "Lasso_Y_pred = Lasso_regr.predict(X_test)\n",
    "            \n",
    "Lasso_mae = mean_absolute_error(Y_test, Lasso_Y_pred)\n",
    "print(\"Mean absolute error =\", round(Lasso_mae,3), 'nm')\n",
    "\n",
    "plt.figure()\n",
    "plt.title(\"Lasso\")\n",
    "plt.plot(Y_test, Lasso_Y_pred, 'o')\n",
    "plt.xlabel('Observed Values (nm)')\n",
    "plt.ylabel('Predicted Values (nm)')\n",
    "plt.plot([400,800],[400,800], color = 'r')\n",
    "plt.text(400, 750, 'MAE=' , fontdict=None)\n",
    "plt.text(440, 750, round(Lasso_mae,3), fontdict=None)\n",
    "plt.text(490, 750, 'nm', fontdict=None)\n",
    "plt.show()"
   ]
  },
  {
   "cell_type": "markdown",
   "metadata": {},
   "source": [
    "### ElasticNet"
   ]
  },
  {
   "cell_type": "code",
   "execution_count": 41,
   "metadata": {},
   "outputs": [
    {
     "name": "stdout",
     "output_type": "stream",
     "text": [
      "Fitting 5 folds for each of 1000 candidates, totalling 5000 fits\n",
      "Best MAE Score Through Random Search : -44.918\n",
      "Best Parameters :  {'selection': 'random', 'max_iter': 4612}\n",
      "CPU times: user 3.12 s, sys: 314 ms, total: 3.43 s\n",
      "Wall time: 11 s\n"
     ]
    }
   ],
   "source": [
    "%%time\n",
    "\n",
    "#sklearn random search over n iterations\n",
    "\n",
    "params = {'max_iter': range(1000,10001),\n",
    "         'selection': ['cyclic', 'random']}\n",
    "\n",
    "#n_jobs runs jobs in parallel, verbose prints updates\n",
    "rs_en = RandomizedSearchCV(ElasticNet(), param_distributions=params, n_iter=1000, n_jobs=-1, verbose=10,\n",
    "                           scoring='neg_mean_absolute_error')\n",
    "rs_en.fit(X, np.ravel(Y))\n",
    "\n",
    "print('Best MAE Score Through Random Search : %.3f'%rs_en.best_score_)\n",
    "print('Best Parameters : ',rs_en.best_params_)"
   ]
  },
  {
   "cell_type": "code",
   "execution_count": 32,
   "metadata": {
    "scrolled": true
   },
   "outputs": [
    {
     "name": "stdout",
     "output_type": "stream",
     "text": [
      "Mean absolute error = 44.245 nm\n"
     ]
    },
    {
     "data": {
      "image/png": "[encoded data removed]",
      "text/plain": [
       "<Figure size 432x288 with 1 Axes>"
      ]
     },
     "metadata": {
      "needs_background": "light"
     },
     "output_type": "display_data"
    }
   ],
   "source": [
    "#using random search parameters\n",
    "EN_regr = ElasticNet(selection='random', max_iter=4612)\n",
    "EN_regr.fit(X_train, np.ravel(Y_train))\n",
    "            \n",
    "EN_Y_pred = EN_regr.predict(X_test)\n",
    "            \n",
    "EN_mae = mean_absolute_error(Y_test, EN_Y_pred)\n",
    "print(\"Mean absolute error =\", round(EN_mae,3), 'nm')\n",
    "\n",
    "plt.figure()\n",
    "plt.title(\"ElasticNet\")\n",
    "plt.plot(Y_test, EN_Y_pred, 'o')\n",
    "plt.xlabel('Observed Values (nm)')\n",
    "plt.ylabel('Predicted Values (nm)')\n",
    "plt.plot([400,800],[400,800], color = 'r')\n",
    "plt.text(400, 750, 'MAE=' , fontdict=None)\n",
    "plt.text(440, 750, round(EN_mae,3), fontdict=None)\n",
    "plt.text(490, 750, 'nm', fontdict=None)\n",
    "plt.show()"
   ]
  },
  {
   "cell_type": "markdown",
   "metadata": {},
   "source": [
    "### Ridge"
   ]
  },
  {
   "cell_type": "code",
   "execution_count": 35,
   "metadata": {
    "scrolled": true
   },
   "outputs": [
    {
     "name": "stdout",
     "output_type": "stream",
     "text": [
      "Mean absolute error = 30.96 nm\n"
     ]
    },
    {
     "data": {
      "image/png": "[encoded data removed]",
      "text/plain": [
       "<Figure size 432x288 with 1 Axes>"
      ]
     },
     "metadata": {
      "needs_background": "light"
     },
     "output_type": "display_data"
    }
   ],
   "source": [
    "#using random search parameters\n",
    "Ridge_regr = Ridge(solver='saga')\n",
    "Ridge_regr.fit(X_train, np.ravel(Y_train))\n",
    "            \n",
    "Ridge_Y_pred = Ridge_regr.predict(X_test)\n",
    "            \n",
    "Ridge_mae = mean_absolute_error(Y_test, Ridge_Y_pred)\n",
    "print(\"Mean absolute error =\", round(Ridge_mae,3), 'nm')\n",
    "\n",
    "plt.figure()\n",
    "plt.title(\"Ridge\")\n",
    "plt.plot(Y_test, Ridge_Y_pred, 'o')\n",
    "plt.xlabel('Observed Values (nm)')\n",
    "plt.ylabel('Predicted Values (nm)')\n",
    "plt.plot([400,800],[400,800], color = 'r')\n",
    "plt.text(400, 750, 'MAE=' , fontdict=None)\n",
    "plt.text(440, 750, round(Ridge_mae,3), fontdict=None)\n",
    "plt.text(490, 750, 'nm', fontdict=None)\n",
    "plt.show()"
   ]
  },
  {
   "cell_type": "markdown",
   "metadata": {},
   "source": [
    "### SVR kernel='linear'"
   ]
  },
  {
   "cell_type": "code",
   "execution_count": 53,
   "metadata": {},
   "outputs": [
    {
     "name": "stdout",
     "output_type": "stream",
     "text": [
      "Fitting 5 folds for each of 1000 candidates, totalling 5000 fits\n",
      "Best MAE Score Through Random Search : -44.624\n",
      "Best Parameters :  {'degree': 3, 'cache_size': 927}\n",
      "CPU times: user 3.02 s, sys: 218 ms, total: 3.24 s\n",
      "Wall time: 12.4 s\n"
     ]
    }
   ],
   "source": [
    "%%time\n",
    "\n",
    "#sklearn random search over n iterations\n",
    "\n",
    "params = {'degree':range(1,10),\n",
    "         'cache_size':range(200,2001)}\n",
    "\n",
    "#n_jobs runs jobs in parallel, verbose prints updates\n",
    "rs_svrlin = RandomizedSearchCV(SVR(kernel='linear'), param_distributions=params, n_iter=1000, n_jobs=-1, verbose=10,\n",
    "                           scoring='neg_mean_absolute_error')\n",
    "rs_svrlin.fit(X, np.ravel(Y))\n",
    "\n",
    "print('Best MAE Score Through Random Search : %.3f'%rs_svrlin.best_score_)\n",
    "print('Best Parameters : ',rs_svrlin.best_params_)"
   ]
  },
  {
   "cell_type": "code",
   "execution_count": 37,
   "metadata": {
    "scrolled": false
   },
   "outputs": [
    {
     "name": "stdout",
     "output_type": "stream",
     "text": [
      "Mean absolute error = 43.534 nm\n"
     ]
    },
    {
     "data": {
      "image/png": "[encoded data removed]",
      "text/plain": [
       "<Figure size 432x288 with 1 Axes>"
      ]
     },
     "metadata": {
      "needs_background": "light"
     },
     "output_type": "display_data"
    }
   ],
   "source": [
    "#using random search parameters\n",
    "SVRlin_regr = SVR(kernel='linear', degree=3, cache_size=927)\n",
    "SVRlin_regr.fit(X_train, np.ravel(Y_train))\n",
    "            \n",
    "SVRlin_Y_pred = SVRlin_regr.predict(X_test)\n",
    "            \n",
    "SVRlin_mae = mean_absolute_error(Y_test, SVRlin_Y_pred)\n",
    "print(\"Mean absolute error =\", round(SVRlin_mae,3), 'nm')\n",
    "\n",
    "plt.figure()\n",
    "plt.title(\"SVR (kernel='linear')\")\n",
    "plt.plot(Y_test, SVRlin_Y_pred, 'o')\n",
    "plt.xlabel('Observed Values (nm)')\n",
    "plt.ylabel('Predicted Values (nm)')\n",
    "plt.plot([400,800],[400,800], color = 'r')\n",
    "plt.text(400, 750, 'MAE=' , fontdict=None)\n",
    "plt.text(440, 750, round(SVRlin_mae,3), fontdict=None)\n",
    "plt.text(490, 750, 'nm', fontdict=None)\n",
    "plt.show()"
   ]
  },
  {
   "cell_type": "markdown",
   "metadata": {},
   "source": [
    "### SVR kernel='rbf'"
   ]
  },
  {
   "cell_type": "code",
   "execution_count": 55,
   "metadata": {},
   "outputs": [
    {
     "name": "stdout",
     "output_type": "stream",
     "text": [
      "Fitting 5 folds for each of 1000 candidates, totalling 5000 fits\n",
      "Best MAE Score Through Random Search : -49.380\n",
      "Best Parameters :  {'degree': 2, 'cache_size': 1675}\n",
      "CPU times: user 2.63 s, sys: 127 ms, total: 2.76 s\n",
      "Wall time: 11.7 s\n"
     ]
    }
   ],
   "source": [
    "%%time\n",
    "\n",
    "#sklearn random search over n iterations\n",
    "\n",
    "params = {'degree':range(1,10),\n",
    "         'cache_size':range(200,2001)}\n",
    "\n",
    "#n_jobs runs jobs in parallel, verbose prints updates\n",
    "rs_svrrbf = RandomizedSearchCV(SVR(kernel='rbf'), param_distributions=params, n_iter=1000, n_jobs=-1, verbose=10,\n",
    "                           scoring='neg_mean_absolute_error')\n",
    "rs_svrrbf.fit(X, np.ravel(Y))\n",
    "\n",
    "print('Best MAE Score Through Random Search : %.3f'%rs_svrrbf.best_score_)\n",
    "print('Best Parameters : ',rs_svrrbf.best_params_)"
   ]
  },
  {
   "cell_type": "code",
   "execution_count": 57,
   "metadata": {
    "scrolled": false
   },
   "outputs": [
    {
     "name": "stdout",
     "output_type": "stream",
     "text": [
      "Mean absolute error = 48.333 nm\n"
     ]
    },
    {
     "data": {
      "image/png": "[encoded data removed]",
      "text/plain": [
       "<Figure size 432x288 with 1 Axes>"
      ]
     },
     "metadata": {
      "needs_background": "light"
     },
     "output_type": "display_data"
    }
   ],
   "source": [
    "#using random search parameters\n",
    "SVRrbf_regr = SVR(kernel='rbf')\n",
    "SVRrbf_regr.fit(X_train, np.ravel(Y_train))\n",
    "            \n",
    "SVRrbf_Y_pred = SVRrbf_regr.predict(X_test)\n",
    "            \n",
    "SVRrbf_mae = mean_absolute_error(Y_test, SVRrbf_Y_pred)\n",
    "print(\"Mean absolute error =\", round(SVRrbf_mae,3), 'nm')\n",
    "\n",
    "plt.figure()\n",
    "plt.title(\"SVR (kernel='rbf')\")\n",
    "plt.plot(Y_test, SVRrbf_Y_pred, 'o')\n",
    "plt.xlabel('Observed Values (nm)')\n",
    "plt.ylabel('Predicted Values (nm)')\n",
    "plt.plot([400,800],[400,800], color = 'r')\n",
    "plt.text(400, 750, 'MAE=' , fontdict=None)\n",
    "plt.text(440, 750, round(SVRrbf_mae,3), fontdict=None)\n",
    "plt.text(490, 750, 'nm', fontdict=None)\n",
    "plt.show()"
   ]
  },
  {
   "cell_type": "markdown",
   "metadata": {},
   "source": [
    "## Conclusion"
   ]
  },
  {
   "cell_type": "markdown",
   "metadata": {},
   "source": [
    "Extra Trees gave the best performance, **n_estimators=466, min_samples_split=3, min_samples_leaf=1, random_state=609**"
   ]
  },
  {
   "cell_type": "markdown",
   "metadata": {},
   "source": [
    "## Saving model"
   ]
  },
  {
   "cell_type": "code",
   "execution_count": 64,
   "metadata": {},
   "outputs": [
    {
     "data": {
      "text/plain": [
       "['./model_aug_abs_ExtraTrees.joblib']"
      ]
     },
     "execution_count": 64,
     "metadata": {},
     "output_type": "execute_result"
    }
   ],
   "source": [
    "ET_regr = ExtraTreesRegressor(n_estimators=466, min_samples_split=3, min_samples_leaf=1, random_state=609)\n",
    "\n",
    "ET_regr.fit(X_train, np.ravel(Y_train))\n",
    "ET_Y_pred = ET_regr.predict(X_test)\n",
    "\n",
    "joblib.dump(ET_regr, \"./model_aug_abs_ExtraTrees.joblib\")"
   ]
  },
  {
   "cell_type": "markdown",
   "metadata": {},
   "source": [
    "## Grid search 10/26/2021"
   ]
  },
  {
   "cell_type": "markdown",
   "metadata": {},
   "source": [
    "### Bagging\n"
   ]
  },
  {
   "cell_type": "code",
   "execution_count": 8,
   "metadata": {},
   "outputs": [
    {
     "name": "stderr",
     "output_type": "stream",
     "text": [
      "100%|██████████| 19/19 [02:41<00:00,  8.48s/it]"
     ]
    },
    {
     "name": "stdout",
     "output_type": "stream",
     "text": [
      "22.910238541945862 13 5 28\n"
     ]
    },
    {
     "name": "stderr",
     "output_type": "stream",
     "text": [
      "\n"
     ]
    }
   ],
   "source": [
    "min_mae = 99999\n",
    "\n",
    "min_i, min_j, min_k  = 0, 0, 0\n",
    "\n",
    "for i in tqdm(range(1, 20)):\n",
    "    for j in range(1, 20):\n",
    "        for k in range(2, 40, 2):\n",
    "            \n",
    "            B_regr = BaggingRegressor(base_estimator=DecisionTreeRegressor(max_depth=i),\n",
    "                                      n_estimators=j,\n",
    "                                      random_state=k)\n",
    "            \n",
    "            B_regr.fit(X_train, np.ravel(Y_train))\n",
    "            \n",
    "            B_Y_pred = B_regr.predict(X_test)\n",
    "            \n",
    "            mae = mean_absolute_error(Y_test, B_Y_pred)\n",
    "            \n",
    "            if (min_mae > mae):\n",
    "                min_mae = mae\n",
    "                min_i = i\n",
    "                min_j = j\n",
    "                min_k = k\n",
    "            \n",
    "print(min_mae, min_i, min_j, min_k)"
   ]
  },
  {
   "cell_type": "code",
   "execution_count": null,
   "metadata": {},
   "outputs": [],
   "source": []
  },
  {
   "cell_type": "markdown",
   "metadata": {},
   "source": [
    "### Random Forest"
   ]
  },
  {
   "cell_type": "code",
   "execution_count": 9,
   "metadata": {},
   "outputs": [
    {
     "name": "stderr",
     "output_type": "stream",
     "text": [
      "100%|██████████| 29/29 [05:57<00:00, 12.34s/it]"
     ]
    },
    {
     "name": "stdout",
     "output_type": "stream",
     "text": [
      "25.286481665837062 21 28 26\n"
     ]
    },
    {
     "name": "stderr",
     "output_type": "stream",
     "text": [
      "\n"
     ]
    }
   ],
   "source": [
    "min_mae = 99999\n",
    "min_i, min_j, min_k = 0, 0, 0\n",
    "for i in tqdm(range(1, 30)):\n",
    "    for j in range(1, 30):\n",
    "        for k in range(2, 40, 2):\n",
    "            RF_regr = RandomForestRegressor(max_depth=i, \n",
    "                                            n_estimators=j, \n",
    "                                            max_features=k,\n",
    "                                            random_state=45\n",
    "                                                )\n",
    "            RF_regr.fit(X_train, np.ravel(Y_train))\n",
    "            RF_Y_pred = RF_regr.predict(X_test)\n",
    "\n",
    "            mae = mean_absolute_error(Y_test, RF_Y_pred)\n",
    "            if (min_mae > mae):\n",
    "                min_mae = mae\n",
    "                min_i = i\n",
    "                min_j = j\n",
    "                min_k = k\n",
    "            \n",
    "print(min_mae, min_i, min_j, min_k)"
   ]
  },
  {
   "cell_type": "code",
   "execution_count": null,
   "metadata": {},
   "outputs": [],
   "source": []
  },
  {
   "cell_type": "markdown",
   "metadata": {},
   "source": [
    "### Decision Tree"
   ]
  },
  {
   "cell_type": "code",
   "execution_count": 10,
   "metadata": {},
   "outputs": [
    {
     "name": "stderr",
     "output_type": "stream",
     "text": [
      "100%|██████████| 29/29 [01:41<00:00,  3.50s/it]"
     ]
    },
    {
     "name": "stdout",
     "output_type": "stream",
     "text": [
      "21.179442508710803 13 20 12\n"
     ]
    },
    {
     "name": "stderr",
     "output_type": "stream",
     "text": [
      "\n"
     ]
    }
   ],
   "source": [
    "min_mae = 99999\n",
    "\n",
    "min_i, min_j, min_k  = 0, 0, 0\n",
    "\n",
    "for i in tqdm(range(1, 30)):\n",
    "    for j in range(1, 30):\n",
    "        for k in range(2, 40, 2):\n",
    "            \n",
    "            DT_regr = DecisionTreeRegressor(max_depth=i,\n",
    "                                max_features=j,\n",
    "                                random_state=k)\n",
    "            \n",
    "            DT_regr.fit(X_train, Y_train)\n",
    "\n",
    "            DT_Y_pred = DT_regr.predict(X_test)\n",
    "\n",
    "            mae = mean_absolute_error(Y_test, DT_Y_pred)\n",
    "            \n",
    "            if (min_mae > mae):\n",
    "                min_mae = mae\n",
    "                min_i = i\n",
    "                min_j = j\n",
    "                min_k = k\n",
    "            \n",
    "print(min_mae, min_i, min_j, min_k)"
   ]
  },
  {
   "cell_type": "code",
   "execution_count": null,
   "metadata": {},
   "outputs": [],
   "source": []
  },
  {
   "cell_type": "markdown",
   "metadata": {},
   "source": [
    "### Extra Trees"
   ]
  },
  {
   "cell_type": "code",
   "execution_count": 11,
   "metadata": {},
   "outputs": [
    {
     "name": "stderr",
     "output_type": "stream",
     "text": [
      "100%|██████████| 29/29 [07:11<00:00, 14.87s/it]"
     ]
    },
    {
     "name": "stdout",
     "output_type": "stream",
     "text": [
      "19.004878048780494 5 29 36\n"
     ]
    },
    {
     "name": "stderr",
     "output_type": "stream",
     "text": [
      "\n"
     ]
    }
   ],
   "source": [
    "min_mae = 99999\n",
    "min_i, min_j, min_k = 0, 0, 0\n",
    "for i in tqdm(range(1, 30)):\n",
    "    for j in range(1, 30):\n",
    "        for k in range(2, 50, 2):\n",
    "            ET_regr = ExtraTreesRegressor(n_estimators=i, \n",
    "                                            max_features=j,\n",
    "                                            random_state=k\n",
    "                                                )\n",
    "            ET_regr.fit(X_train, np.ravel(Y_train))\n",
    "            ET_Y_pred = ET_regr.predict(X_test)\n",
    "\n",
    "            mae = mean_absolute_error(Y_test, ET_Y_pred)\n",
    "            if (min_mae > mae):\n",
    "                min_mae = mae\n",
    "                min_i = i\n",
    "                min_j = j\n",
    "                min_k = k\n",
    "            \n",
    "print(min_mae, min_i, min_j, min_k)"
   ]
  },
  {
   "cell_type": "code",
   "execution_count": null,
   "metadata": {},
   "outputs": [],
   "source": []
  },
  {
   "cell_type": "markdown",
   "metadata": {},
   "source": [
    "### AdaBoost"
   ]
  },
  {
   "cell_type": "code",
   "execution_count": 12,
   "metadata": {},
   "outputs": [
    {
     "name": "stderr",
     "output_type": "stream",
     "text": [
      "100%|██████████| 29/29 [00:16<00:00,  1.78it/s]"
     ]
    },
    {
     "name": "stdout",
     "output_type": "stream",
     "text": [
      "23.473086627418 1 1\n"
     ]
    },
    {
     "name": "stderr",
     "output_type": "stream",
     "text": [
      "\n"
     ]
    }
   ],
   "source": [
    "min_mae = 99999\n",
    "min_i, min_j = 0, 0\n",
    "for i in tqdm(range(1, 30)):\n",
    "    for j in range(1, 30):\n",
    "        AB_regr = AdaBoostRegressor(n_estimators=i, loss='exponential', learning_rate=j)\n",
    "        AB_regr.fit(X_train, np.ravel(Y_train))\n",
    "        AB_Y_pred = AB_regr.predict(X_test)\n",
    "        AB_mae = mean_absolute_error(Y_test, AB_Y_pred)\n",
    "        if (min_mae > mae):\n",
    "                min_mae = mae\n",
    "                min_i = i\n",
    "                min_j = j\n",
    "print(min_mae, min_i, min_j)"
   ]
  },
  {
   "cell_type": "code",
   "execution_count": null,
   "metadata": {},
   "outputs": [],
   "source": []
  },
  {
   "cell_type": "markdown",
   "metadata": {},
   "source": [
    "### Gradient Boosting"
   ]
  },
  {
   "cell_type": "code",
   "execution_count": 13,
   "metadata": {},
   "outputs": [
    {
     "name": "stderr",
     "output_type": "stream",
     "text": [
      "  0%|          | 0/15 [04:25<?, ?it/s]\n"
     ]
    },
    {
     "ename": "KeyboardInterrupt",
     "evalue": "",
     "output_type": "error",
     "traceback": [
      "\u001b[0;31m---------------------------------------------------------------------------\u001b[0m",
      "\u001b[0;31mKeyboardInterrupt\u001b[0m                         Traceback (most recent call last)",
      "\u001b[0;32m<ipython-input-13-2813f1924c07>\u001b[0m in \u001b[0;36m<module>\u001b[0;34m\u001b[0m\n\u001b[1;32m      6\u001b[0m             \u001b[0;32mfor\u001b[0m \u001b[0ml\u001b[0m \u001b[0;32min\u001b[0m \u001b[0mrange\u001b[0m\u001b[0;34m(\u001b[0m\u001b[0;36m2\u001b[0m\u001b[0;34m,\u001b[0m \u001b[0;36m22\u001b[0m\u001b[0;34m,\u001b[0m \u001b[0;36m2\u001b[0m\u001b[0;34m)\u001b[0m\u001b[0;34m:\u001b[0m\u001b[0;34m\u001b[0m\u001b[0;34m\u001b[0m\u001b[0m\n\u001b[1;32m      7\u001b[0m                 \u001b[0mGB_regr\u001b[0m \u001b[0;34m=\u001b[0m \u001b[0mGradientBoostingRegressor\u001b[0m\u001b[0;34m(\u001b[0m\u001b[0mn_estimators\u001b[0m\u001b[0;34m=\u001b[0m\u001b[0mi\u001b[0m\u001b[0;34m,\u001b[0m \u001b[0mmax_depth\u001b[0m\u001b[0;34m=\u001b[0m\u001b[0mj\u001b[0m\u001b[0;34m,\u001b[0m \u001b[0mlearning_rate\u001b[0m\u001b[0;34m=\u001b[0m\u001b[0mk\u001b[0m\u001b[0;34m,\u001b[0m \u001b[0mrandom_state\u001b[0m\u001b[0;34m=\u001b[0m\u001b[0ml\u001b[0m\u001b[0;34m)\u001b[0m\u001b[0;34m\u001b[0m\u001b[0;34m\u001b[0m\u001b[0m\n\u001b[0;32m----> 8\u001b[0;31m                 \u001b[0mGB_regr\u001b[0m\u001b[0;34m.\u001b[0m\u001b[0mfit\u001b[0m\u001b[0;34m(\u001b[0m\u001b[0mX_train\u001b[0m\u001b[0;34m,\u001b[0m \u001b[0mnp\u001b[0m\u001b[0;34m.\u001b[0m\u001b[0mravel\u001b[0m\u001b[0;34m(\u001b[0m\u001b[0mY_train\u001b[0m\u001b[0;34m)\u001b[0m\u001b[0;34m)\u001b[0m\u001b[0;34m\u001b[0m\u001b[0;34m\u001b[0m\u001b[0m\n\u001b[0m\u001b[1;32m      9\u001b[0m                 \u001b[0mGB_Y_pred\u001b[0m \u001b[0;34m=\u001b[0m \u001b[0mGB_regr\u001b[0m\u001b[0;34m.\u001b[0m\u001b[0mpredict\u001b[0m\u001b[0;34m(\u001b[0m\u001b[0mX_test\u001b[0m\u001b[0;34m)\u001b[0m\u001b[0;34m\u001b[0m\u001b[0;34m\u001b[0m\u001b[0m\n\u001b[1;32m     10\u001b[0m \u001b[0;34m\u001b[0m\u001b[0m\n",
      "\u001b[0;32m~/miniconda3/lib/python3.8/site-packages/sklearn/ensemble/_gb.py\u001b[0m in \u001b[0;36mfit\u001b[0;34m(self, X, y, sample_weight, monitor)\u001b[0m\n\u001b[1;32m    502\u001b[0m \u001b[0;34m\u001b[0m\u001b[0m\n\u001b[1;32m    503\u001b[0m         \u001b[0;31m# fit the boosting stages\u001b[0m\u001b[0;34m\u001b[0m\u001b[0;34m\u001b[0m\u001b[0;34m\u001b[0m\u001b[0m\n\u001b[0;32m--> 504\u001b[0;31m         n_stages = self._fit_stages(\n\u001b[0m\u001b[1;32m    505\u001b[0m             \u001b[0mX\u001b[0m\u001b[0;34m,\u001b[0m \u001b[0my\u001b[0m\u001b[0;34m,\u001b[0m \u001b[0mraw_predictions\u001b[0m\u001b[0;34m,\u001b[0m \u001b[0msample_weight\u001b[0m\u001b[0;34m,\u001b[0m \u001b[0mself\u001b[0m\u001b[0;34m.\u001b[0m\u001b[0m_rng\u001b[0m\u001b[0;34m,\u001b[0m \u001b[0mX_val\u001b[0m\u001b[0;34m,\u001b[0m \u001b[0my_val\u001b[0m\u001b[0;34m,\u001b[0m\u001b[0;34m\u001b[0m\u001b[0;34m\u001b[0m\u001b[0m\n\u001b[1;32m    506\u001b[0m             sample_weight_val, begin_at_stage, monitor)\n",
      "\u001b[0;32m~/miniconda3/lib/python3.8/site-packages/sklearn/ensemble/_gb.py\u001b[0m in \u001b[0;36m_fit_stages\u001b[0;34m(self, X, y, raw_predictions, sample_weight, random_state, X_val, y_val, sample_weight_val, begin_at_stage, monitor)\u001b[0m\n\u001b[1;32m    559\u001b[0m \u001b[0;34m\u001b[0m\u001b[0m\n\u001b[1;32m    560\u001b[0m             \u001b[0;31m# fit next stage of trees\u001b[0m\u001b[0;34m\u001b[0m\u001b[0;34m\u001b[0m\u001b[0;34m\u001b[0m\u001b[0m\n\u001b[0;32m--> 561\u001b[0;31m             raw_predictions = self._fit_stage(\n\u001b[0m\u001b[1;32m    562\u001b[0m                 \u001b[0mi\u001b[0m\u001b[0;34m,\u001b[0m \u001b[0mX\u001b[0m\u001b[0;34m,\u001b[0m \u001b[0my\u001b[0m\u001b[0;34m,\u001b[0m \u001b[0mraw_predictions\u001b[0m\u001b[0;34m,\u001b[0m \u001b[0msample_weight\u001b[0m\u001b[0;34m,\u001b[0m \u001b[0msample_mask\u001b[0m\u001b[0;34m,\u001b[0m\u001b[0;34m\u001b[0m\u001b[0;34m\u001b[0m\u001b[0m\n\u001b[1;32m    563\u001b[0m                 random_state, X_csc, X_csr)\n",
      "\u001b[0;32m~/miniconda3/lib/python3.8/site-packages/sklearn/ensemble/_gb.py\u001b[0m in \u001b[0;36m_fit_stage\u001b[0;34m(self, i, X, y, raw_predictions, sample_weight, sample_mask, random_state, X_csc, X_csr)\u001b[0m\n\u001b[1;32m    212\u001b[0m \u001b[0;34m\u001b[0m\u001b[0m\n\u001b[1;32m    213\u001b[0m             \u001b[0mX\u001b[0m \u001b[0;34m=\u001b[0m \u001b[0mX_csr\u001b[0m \u001b[0;32mif\u001b[0m \u001b[0mX_csr\u001b[0m \u001b[0;32mis\u001b[0m \u001b[0;32mnot\u001b[0m \u001b[0;32mNone\u001b[0m \u001b[0;32melse\u001b[0m \u001b[0mX\u001b[0m\u001b[0;34m\u001b[0m\u001b[0;34m\u001b[0m\u001b[0m\n\u001b[0;32m--> 214\u001b[0;31m             tree.fit(X, residual, sample_weight=sample_weight,\n\u001b[0m\u001b[1;32m    215\u001b[0m                      check_input=False)\n\u001b[1;32m    216\u001b[0m \u001b[0;34m\u001b[0m\u001b[0m\n",
      "\u001b[0;32m~/miniconda3/lib/python3.8/site-packages/sklearn/tree/_classes.py\u001b[0m in \u001b[0;36mfit\u001b[0;34m(self, X, y, sample_weight, check_input, X_idx_sorted)\u001b[0m\n\u001b[1;32m   1245\u001b[0m         \"\"\"\n\u001b[1;32m   1246\u001b[0m \u001b[0;34m\u001b[0m\u001b[0m\n\u001b[0;32m-> 1247\u001b[0;31m         super().fit(\n\u001b[0m\u001b[1;32m   1248\u001b[0m             \u001b[0mX\u001b[0m\u001b[0;34m,\u001b[0m \u001b[0my\u001b[0m\u001b[0;34m,\u001b[0m\u001b[0;34m\u001b[0m\u001b[0;34m\u001b[0m\u001b[0m\n\u001b[1;32m   1249\u001b[0m             \u001b[0msample_weight\u001b[0m\u001b[0;34m=\u001b[0m\u001b[0msample_weight\u001b[0m\u001b[0;34m,\u001b[0m\u001b[0;34m\u001b[0m\u001b[0;34m\u001b[0m\u001b[0m\n",
      "\u001b[0;32m~/miniconda3/lib/python3.8/site-packages/sklearn/tree/_classes.py\u001b[0m in \u001b[0;36mfit\u001b[0;34m(self, X, y, sample_weight, check_input, X_idx_sorted)\u001b[0m\n\u001b[1;32m    387\u001b[0m                                            min_impurity_split)\n\u001b[1;32m    388\u001b[0m \u001b[0;34m\u001b[0m\u001b[0m\n\u001b[0;32m--> 389\u001b[0;31m         \u001b[0mbuilder\u001b[0m\u001b[0;34m.\u001b[0m\u001b[0mbuild\u001b[0m\u001b[0;34m(\u001b[0m\u001b[0mself\u001b[0m\u001b[0;34m.\u001b[0m\u001b[0mtree_\u001b[0m\u001b[0;34m,\u001b[0m \u001b[0mX\u001b[0m\u001b[0;34m,\u001b[0m \u001b[0my\u001b[0m\u001b[0;34m,\u001b[0m \u001b[0msample_weight\u001b[0m\u001b[0;34m)\u001b[0m\u001b[0;34m\u001b[0m\u001b[0;34m\u001b[0m\u001b[0m\n\u001b[0m\u001b[1;32m    390\u001b[0m \u001b[0;34m\u001b[0m\u001b[0m\n\u001b[1;32m    391\u001b[0m         \u001b[0;32mif\u001b[0m \u001b[0mself\u001b[0m\u001b[0;34m.\u001b[0m\u001b[0mn_outputs_\u001b[0m \u001b[0;34m==\u001b[0m \u001b[0;36m1\u001b[0m \u001b[0;32mand\u001b[0m \u001b[0mis_classifier\u001b[0m\u001b[0;34m(\u001b[0m\u001b[0mself\u001b[0m\u001b[0;34m)\u001b[0m\u001b[0;34m:\u001b[0m\u001b[0;34m\u001b[0m\u001b[0;34m\u001b[0m\u001b[0m\n",
      "\u001b[0;31mKeyboardInterrupt\u001b[0m: "
     ]
    }
   ],
   "source": [
    "min_mae = 999\n",
    "min_i, min_j, min_k, min_l = 0, 0, 0.0, 0\n",
    "for i in tqdm(range(300, 450, 10)):\n",
    "    for j in range(2, 30, 2):\n",
    "        for k in np.arange(0.06, 0.22, 0.02):\n",
    "            for l in range(2, 22, 2):\n",
    "                GB_regr = GradientBoostingRegressor(n_estimators=i, max_depth=j, learning_rate=k, random_state=l)\n",
    "                GB_regr.fit(X_train, np.ravel(Y_train))\n",
    "                GB_Y_pred = GB_regr.predict(X_test)\n",
    "\n",
    "                mae = mean_absolute_error(Y_test, GB_Y_pred)\n",
    "                if (min_mae > mae):\n",
    "                    min_mae = mae\n",
    "                    min_i = i\n",
    "                    min_j = j\n",
    "                    min_k = k\n",
    "                    min_l = l\n",
    "\n",
    "print(min_mae, min_i, min_j, min_k, min_l)"
   ]
  },
  {
   "cell_type": "markdown",
   "metadata": {},
   "source": [
    "## Saving Extra Trees model"
   ]
  },
  {
   "cell_type": "code",
   "execution_count": 14,
   "metadata": {},
   "outputs": [
    {
     "data": {
      "text/plain": [
       "['./model_aug_abs_ExtraTrees.joblib']"
      ]
     },
     "execution_count": 14,
     "metadata": {},
     "output_type": "execute_result"
    }
   ],
   "source": [
    "ET_regr = ExtraTreesRegressor(n_estimators=5, \n",
    "                            max_features=29,\n",
    "                            random_state=36)\n",
    "\n",
    "ET_regr.fit(X_train, np.ravel(Y_train))\n",
    "ET_Y_pred = ET_regr.predict(X_test)\n",
    "\n",
    "joblib.dump(ET_regr, \"./model_aug_abs_ExtraTrees.joblib\")"
   ]
  },
  {
   "cell_type": "code",
   "execution_count": null,
   "metadata": {},
   "outputs": [],
   "source": []
  }
 ],
 "metadata": {
  "kernelspec": {
   "display_name": "Python 3",
   "language": "python",
   "name": "python3"
  },
  "language_info": {
   "codemirror_mode": {
    "name": "ipython",
    "version": 3
   },
   "file_extension": ".py",
   "mimetype": "text/x-python",
   "name": "python",
   "nbconvert_exporter": "python",
   "pygments_lexer": "ipython3",
   "version": "3.8.5"
  }
 },
 "nbformat": 4,
 "nbformat_minor": 4
}
