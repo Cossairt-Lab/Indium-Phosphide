{
 "cells": [
  {
   "cell_type": "code",
   "execution_count": 1,
   "metadata": {},
   "outputs": [],
   "source": [
    "# Pandas library for the pandas dataframes\n",
    "import pandas as pd\n",
    "from pandas import DataFrame\n",
    "import numpy as np\n",
    "import scipy.stats as stats\n",
    "import scipy\n",
    "\n",
    "\n",
    "\n",
    "# Import Scikit-Learn library for decision tree models\n",
    "import sklearn \n",
    "\n",
    "from sklearn import datasets, linear_model, metrics, tree\n",
    "from sklearn.utils import resample\n",
    "\n",
    "from sklearn.tree import DecisionTreeRegressor\n",
    "\n",
    "from sklearn.ensemble import BaggingRegressor, ExtraTreesRegressor, GradientBoostingRegressor, RandomForestRegressor\n",
    "\n",
    "from sklearn.linear_model import ElasticNet, Lasso,  RidgeCV\n",
    "\n",
    "from sklearn.neighbors import KNeighborsRegressor\n",
    "\n",
    "        \n",
    "# Dataset splitting        \n",
    "from sklearn.model_selection import train_test_split, LeaveOneOut, KFold, cross_validate, RandomizedSearchCV\n",
    "\n",
    "# Errors\n",
    "from sklearn.metrics import r2_score, mean_squared_error, mean_absolute_error, accuracy_score\n",
    "\n",
    "from matplotlib import pyplot as plt\n",
    "\n",
    "from tqdm import tqdm\n",
    "\n",
    "import os\n",
    "import joblib\n",
    "\n"
   ]
  },
  {
   "cell_type": "code",
   "execution_count": 2,
   "metadata": {
    "scrolled": true
   },
   "outputs": [
    {
     "name": "stdout",
     "output_type": "stream",
     "text": [
      "<class 'pandas.core.frame.DataFrame'>\n",
      "RangeIndex: 206 entries, 0 to 205\n",
      "Data columns (total 76 columns):\n",
      " #   Column                                        Non-Null Count  Dtype  \n",
      "---  ------                                        --------------  -----  \n",
      " 0   Unnamed: 0                                    206 non-null    int64  \n",
      " 1   in_amount_mmol                                206 non-null    float64\n",
      " 2   p_amount_mmol                                 206 non-null    float64\n",
      " 3   sol_amount_ml                                 206 non-null    float64\n",
      " 4   TOP_amount_mmol                               206 non-null    float64\n",
      " 5   acid_amount_mmol                              206 non-null    float64\n",
      " 6   amine_amount_mmol                             206 non-null    float64\n",
      " 7   thiol_amount_mmol                             206 non-null    float64\n",
      " 8   zinc_amount_mmol                              206 non-null    float64\n",
      " 9   other_amount_mmol                             206 non-null    float64\n",
      " 10  total_volume_ml                               206 non-null    float64\n",
      " 11  temp_c                                        206 non-null    float64\n",
      " 12  time_min                                      206 non-null    float64\n",
      " 13  x0_chloroindium oxalate                       206 non-null    float64\n",
      " 14  x0_indium acetate                             206 non-null    float64\n",
      " 15  x0_indium bromide                             206 non-null    float64\n",
      " 16  x0_indium chloride                            206 non-null    float64\n",
      " 17  x0_indium iodide                              206 non-null    float64\n",
      " 18  x0_indium myristate                           206 non-null    float64\n",
      " 19  x0_indium oxalate                             206 non-null    float64\n",
      " 20  x0_indium palmitate                           206 non-null    float64\n",
      " 21  x0_indium trifluoroacetate                    206 non-null    float64\n",
      " 22  x0_indium tris(N,N-diisopropylacetamidinato)  206 non-null    float64\n",
      " 23  x1_bis(trimethylsilyl)phosphine               206 non-null    float64\n",
      " 24  x1_phosphine gas                              206 non-null    float64\n",
      " 25  x1_phosphorus trichloride                     206 non-null    float64\n",
      " 26  x1_sodium phosphide                           206 non-null    float64\n",
      " 27  x1_tris(diethylamino)phosphine                206 non-null    float64\n",
      " 28  x1_tris(dimethylamino)phosphine               206 non-null    float64\n",
      " 29  x1_tris(trimethylgermyl)phosphine             206 non-null    float64\n",
      " 30  x1_tris(trimethylsilyl)phosphine              206 non-null    float64\n",
      " 31  x1_white phosphorus                           206 non-null    float64\n",
      " 32  x2_4-ethylpyridine                            206 non-null    float64\n",
      " 33  x2_None                                       206 non-null    float64\n",
      " 34  x2_dimethylformamide                          206 non-null    float64\n",
      " 35  x2_mesitylene                                 206 non-null    float64\n",
      " 36  x2_octadecene                                 206 non-null    float64\n",
      " 37  x2_toluene                                    206 non-null    float64\n",
      " 38  x3_None                                       206 non-null    float64\n",
      " 39  x3_trioctylphosphine                          206 non-null    float64\n",
      " 40  x4_None                                       206 non-null    float64\n",
      " 41  x4_lauric acid                                206 non-null    float64\n",
      " 42  x4_myristic acid                              206 non-null    float64\n",
      " 43  x4_oleic acid                                 206 non-null    float64\n",
      " 44  x4_palmitic acid                              206 non-null    float64\n",
      " 45  x4_stearic acid                               206 non-null    float64\n",
      " 46  x5_None                                       206 non-null    float64\n",
      " 47  x5_dioctylamine                               206 non-null    float64\n",
      " 48  x5_dodecylamine                               206 non-null    float64\n",
      " 49  x5_hexadecylamine                             206 non-null    float64\n",
      " 50  x5_octylamine                                 206 non-null    float64\n",
      " 51  x5_oleylamine                                 206 non-null    float64\n",
      " 52  x6_None                                       206 non-null    float64\n",
      " 53  x6_dodecanethiol                              206 non-null    float64\n",
      " 54  x7_None                                       206 non-null    float64\n",
      " 55  x7_zinc acetate                               206 non-null    float64\n",
      " 56  x7_zinc bromide                               206 non-null    float64\n",
      " 57  x7_zinc chloride                              206 non-null    float64\n",
      " 58  x7_zinc iodide                                206 non-null    float64\n",
      " 59  x7_zinc octanoate                             206 non-null    float64\n",
      " 60  x7_zinc oleate                                206 non-null    float64\n",
      " 61  x7_zinc stearate                              206 non-null    float64\n",
      " 62  x7_zinc undecylenate                          206 non-null    float64\n",
      " 63  x8_None                                       206 non-null    float64\n",
      " 64  x8_acetic acid                                206 non-null    float64\n",
      " 65  x8_copper bromide                             206 non-null    float64\n",
      " 66  x8_oleic acid                                 206 non-null    float64\n",
      " 67  x8_superhydride                               206 non-null    float64\n",
      " 68  x8_tetrabutylammonium myristate               206 non-null    float64\n",
      " 69  x8_trioctylamine                              206 non-null    float64\n",
      " 70  x8_trioctylphosphine oxide                    206 non-null    float64\n",
      " 71  x8_water                                      206 non-null    float64\n",
      " 72  x8_zinc iodide                                206 non-null    float64\n",
      " 73  diameter_nm                                   206 non-null    object \n",
      " 74  abs_nm                                        206 non-null    int64  \n",
      " 75  emission_nm                                   206 non-null    object \n",
      "dtypes: float64(72), int64(2), object(2)\n",
      "memory usage: 122.4+ KB\n"
     ]
    }
   ],
   "source": [
    "df_abs = pd.read_csv(\"hao_all_abs_scaled.csv\")\n",
    "df_abs.info()"
   ]
  },
  {
   "cell_type": "code",
   "execution_count": 3,
   "metadata": {},
   "outputs": [],
   "source": [
    "# Input for ML models\n",
    "\n",
    "input_col = ['in_amount_mmol',\n",
    "             'p_amount_mmol',\n",
    "             'sol_amount_ml',\n",
    "             'TOP_amount_mmol',\n",
    "             'acid_amount_mmol',\n",
    "             'amine_amount_mmol',\n",
    "             'thiol_amount_mmol',\n",
    "             'zinc_amount_mmol',\n",
    "             'other_amount_mmol',\n",
    "             'total_volume_ml',\n",
    "             'temp_c',\n",
    "             'time_min',\n",
    "             'x0_chloroindium oxalate',\n",
    "             'x0_indium acetate',\n",
    "             'x0_indium bromide',\n",
    "             'x0_indium chloride',\n",
    "             'x0_indium iodide',\n",
    "             'x0_indium myristate',\n",
    "             'x0_indium oxalate',\n",
    "             'x0_indium palmitate',\n",
    "             'x0_indium trifluoroacetate',\n",
    "             'x0_indium tris(N,N-diisopropylacetamidinato)',\n",
    "             'x1_bis(trimethylsilyl)phosphine',\n",
    "             'x1_phosphine gas',\n",
    "             'x1_phosphorus trichloride',\n",
    "             'x1_sodium phosphide',\n",
    "             'x1_tris(diethylamino)phosphine',\n",
    "             'x1_tris(dimethylamino)phosphine',\n",
    "             'x1_tris(trimethylgermyl)phosphine',\n",
    "             'x1_tris(trimethylsilyl)phosphine',\n",
    "             'x1_white phosphorus',\n",
    "             'x2_4-ethylpyridine',\n",
    "             'x2_None',\n",
    "             'x2_dimethylformamide',\n",
    "             'x2_mesitylene',\n",
    "             'x2_octadecene',\n",
    "             'x2_toluene',\n",
    "             'x3_None',\n",
    "             'x3_trioctylphosphine',\n",
    "             'x4_None',\n",
    "             'x4_lauric acid',\n",
    "             'x4_myristic acid',\n",
    "             'x4_oleic acid',\n",
    "             'x4_palmitic acid',\n",
    "             'x4_stearic acid',\n",
    "             'x5_None',\n",
    "             'x5_dioctylamine',\n",
    "             'x5_dodecylamine',\n",
    "             'x5_hexadecylamine',\n",
    "             'x5_octylamine',\n",
    "             'x5_oleylamine',\n",
    "             'x6_None',\n",
    "             'x6_dodecanethiol',\n",
    "             'x7_None',\n",
    "             'x7_zinc acetate',\n",
    "             'x7_zinc bromide',\n",
    "             'x7_zinc chloride',\n",
    "             'x7_zinc iodide',\n",
    "             'x7_zinc octanoate',\n",
    "             'x7_zinc oleate',\n",
    "             'x7_zinc stearate',\n",
    "             'x7_zinc undecylenate',\n",
    "             'x8_None',\n",
    "             'x8_acetic acid',\n",
    "             'x8_copper bromide',\n",
    "             'x8_superhydride',\n",
    "             'x8_oleic acid',\n",
    "             'x8_tetrabutylammonium myristate',\n",
    "             'x8_trioctylamine',\n",
    "             'x8_trioctylphosphine oxide',\n",
    "             'x8_water',\n",
    "             'x8_zinc iodide'\n",
    "            ]\n",
    "\n",
    "output_col = ['abs_nm']\n",
    "\n",
    "X = df_abs[input_col]\n",
    "\n",
    "Y = df_abs[output_col]"
   ]
  },
  {
   "cell_type": "code",
   "execution_count": 4,
   "metadata": {},
   "outputs": [],
   "source": [
    "# Splitting dataset for training\n",
    "X_train, X_test, Y_train, Y_test = train_test_split(X, Y, test_size=0.15, random_state=45, shuffle=True)"
   ]
  },
  {
   "cell_type": "markdown",
   "metadata": {},
   "source": [
    "### 1. Bagging"
   ]
  },
  {
   "cell_type": "code",
   "execution_count": 5,
   "metadata": {},
   "outputs": [
    {
     "name": "stderr",
     "output_type": "stream",
     "text": [
      "100%|██████████| 19/19 [01:37<00:00,  5.13s/it]"
     ]
    },
    {
     "name": "stdout",
     "output_type": "stream",
     "text": [
      "27.979838709677413 18 3 55\n"
     ]
    },
    {
     "name": "stderr",
     "output_type": "stream",
     "text": [
      "\n"
     ]
    }
   ],
   "source": [
    "# This is a grid search for three parameters in the Bagging algorithm. \n",
    "# Parameters are: max_depth, n_estimators, random_state.\n",
    "# This gives the best combination of the three parameters for the smallest mean squared error.\n",
    "\n",
    "min_mae = 99999\n",
    "\n",
    "min_i, min_j, min_k  = 0, 0, 0\n",
    "\n",
    "for i in tqdm(range(1, 20)):\n",
    "    for j in range(1, 20):\n",
    "        for k in range(5, 70, 5):\n",
    "            \n",
    "            B_regr = BaggingRegressor(base_estimator=DecisionTreeRegressor(max_depth=i),\n",
    "                                      n_estimators=j,\n",
    "                                      random_state=k)\n",
    "            \n",
    "            B_regr.fit(X_train, np.ravel(Y_train))\n",
    "            \n",
    "            B_Y_pred = B_regr.predict(X_test)\n",
    "            \n",
    "            mae = mean_absolute_error(Y_test, B_Y_pred)\n",
    "            \n",
    "            if (min_mae > mae):\n",
    "                min_mae = mae\n",
    "                min_i = i\n",
    "                min_j = j\n",
    "                min_k = k\n",
    "            \n",
    "print(min_mae, min_i, min_j, min_k)"
   ]
  },
  {
   "cell_type": "code",
   "execution_count": 60,
   "metadata": {},
   "outputs": [
    {
     "name": "stdout",
     "output_type": "stream",
     "text": [
      "Mean absolute error = 21.598\n"
     ]
    },
    {
     "data": {
      "image/png": "[encoded data removed]",
      "text/plain": [
       "<Figure size 432x288 with 1 Axes>"
      ]
     },
     "metadata": {
      "needs_background": "light"
     },
     "output_type": "display_data"
    }
   ],
   "source": [
    "B_regr = BaggingRegressor(base_estimator=DecisionTreeRegressor(max_depth=16),\n",
    "                                      n_estimators=6,\n",
    "                                      random_state=50)\n",
    "B_regr.fit(X_train, np.ravel(Y_train))\n",
    "            \n",
    "B_Y_pred = B_regr.predict(X_test)\n",
    "            \n",
    "B_mae = mean_absolute_error(Y_test, B_Y_pred)\n",
    "print(\"Mean absolute error =\", round(B_mae,3))\n",
    "\n",
    "plt.figure()\n",
    "plt.title(\"Bagging\")\n",
    "plt.plot(Y_test, B_Y_pred, 'o')\n",
    "plt.xlabel('Observed Values (nm)')\n",
    "plt.ylabel('Predicted Values (nm)')\n",
    "plt.plot([400,800],[400,800], color = 'r')\n",
    "plt.text(400, 750, 'MAE=' , fontdict=None)\n",
    "plt.text(440, 750, round(B_mae,3) , fontdict=None)\n",
    "plt.show()"
   ]
  },
  {
   "cell_type": "markdown",
   "metadata": {},
   "source": [
    "### 2. Decision Trees"
   ]
  },
  {
   "cell_type": "code",
   "execution_count": 6,
   "metadata": {},
   "outputs": [
    {
     "name": "stderr",
     "output_type": "stream",
     "text": [
      "100%|██████████| 20/20 [00:31<00:00,  1.57s/it]"
     ]
    },
    {
     "name": "stdout",
     "output_type": "stream",
     "text": [
      "24.548387096774192 17 16 40\n"
     ]
    },
    {
     "name": "stderr",
     "output_type": "stream",
     "text": [
      "\n"
     ]
    }
   ],
   "source": [
    "# This is a grid search for three parameters in the Decision Trees algorithm. \n",
    "# Parameters are: max_depth, max_features, random_state.\n",
    "# This gives the best combination of the three parameters for the smallest mean squared error.\n",
    "\n",
    "min_mae = 99999\n",
    "\n",
    "min_i, min_j, min_k  = 0, 0, 0\n",
    "\n",
    "for i in tqdm(range(1, 21)):\n",
    "    for j in range(1, 21):\n",
    "        for k in range(5, 80, 5):\n",
    "            \n",
    "            DT_regr = DecisionTreeRegressor(max_depth=i,\n",
    "                                max_features=j,\n",
    "                                random_state=k)\n",
    "            \n",
    "            DT_regr.fit(X_train, Y_train)\n",
    "\n",
    "            DT_Y_pred = DT_regr.predict(X_test)\n",
    "\n",
    "            mae = mean_absolute_error(Y_test, DT_Y_pred)\n",
    "            \n",
    "            if (min_mae > mae):\n",
    "                min_mae = mae\n",
    "                min_i = i\n",
    "                min_j = j\n",
    "                min_k = k\n",
    "            \n",
    "print(min_mae, min_i, min_j, min_k)"
   ]
  },
  {
   "cell_type": "markdown",
   "metadata": {},
   "source": [
    "### 3. Random Forrest"
   ]
  },
  {
   "cell_type": "code",
   "execution_count": 7,
   "metadata": {},
   "outputs": [
    {
     "name": "stderr",
     "output_type": "stream",
     "text": [
      "100%|██████████| 20/20 [02:35<00:00,  7.77s/it]"
     ]
    },
    {
     "name": "stdout",
     "output_type": "stream",
     "text": [
      "29.09945276497695 16 12 38\n"
     ]
    },
    {
     "name": "stderr",
     "output_type": "stream",
     "text": [
      "\n"
     ]
    }
   ],
   "source": [
    "# This is a grid search for three parameters in the Random Forest algorithm. \n",
    "# Parameters are: max_depth, n_estimators, max_features.\n",
    "# Random_state is set to 45.\n",
    "# This gives the best combination of the three parameters for the smallest mean squared error.\n",
    "\n",
    "min_mae = 99999\n",
    "min_i, min_j, min_k = 0, 0, 0\n",
    "for i in tqdm(range(1, 21)):\n",
    "    for j in range(1, 21):\n",
    "        for k in range(2, 50, 2):\n",
    "            RF_regr = RandomForestRegressor(max_depth=i, \n",
    "                                            n_estimators=j, \n",
    "                                            max_features=k,\n",
    "                                            random_state=45\n",
    "                                                )\n",
    "            RF_regr.fit(X_train, np.ravel(Y_train))\n",
    "            RF_Y_pred = RF_regr.predict(X_test)\n",
    "\n",
    "            mae = mean_absolute_error(Y_test, RF_Y_pred)\n",
    "            if (min_mae > mae):\n",
    "                min_mae = mae\n",
    "                min_i = i\n",
    "                min_j = j\n",
    "                min_k = k\n",
    "            \n",
    "print(min_mae, min_i, min_j, min_k)"
   ]
  },
  {
   "cell_type": "markdown",
   "metadata": {},
   "source": [
    "### 4. Extra Trees"
   ]
  },
  {
   "cell_type": "code",
   "execution_count": 8,
   "metadata": {},
   "outputs": [
    {
     "name": "stderr",
     "output_type": "stream",
     "text": [
      "100%|██████████| 24/24 [03:34<00:00,  8.94s/it]"
     ]
    },
    {
     "name": "stdout",
     "output_type": "stream",
     "text": [
      "24.201612903225808 4 7 26\n"
     ]
    },
    {
     "name": "stderr",
     "output_type": "stream",
     "text": [
      "\n"
     ]
    }
   ],
   "source": [
    "# This is a grid search for three parameters in the Extra Trees algorithm. \n",
    "# Parameters are: random_state, n_estimators, max_features.\n",
    "\n",
    "# This gives the best combination of the three parameters for the smallest mean squared error.\n",
    "\n",
    "min_mae = 99999\n",
    "min_i, min_j, min_k = 0, 0, 0\n",
    "for i in tqdm(range(1, 25)):\n",
    "    for j in range(1, 25):\n",
    "        for k in range(2, 50, 2):\n",
    "            ET_regr = ExtraTreesRegressor(n_estimators=i, \n",
    "                                            max_features=j,\n",
    "                                            random_state=k\n",
    "                                                )\n",
    "            ET_regr.fit(X_train, np.ravel(Y_train))\n",
    "            ET_Y_pred = ET_regr.predict(X_test)\n",
    "\n",
    "            mae = mean_absolute_error(Y_test, ET_Y_pred)\n",
    "            if (min_mae > mae):\n",
    "                min_mae = mae\n",
    "                min_i = i\n",
    "                min_j = j\n",
    "                min_k = k\n",
    "            \n",
    "print(min_mae, min_i, min_j, min_k)"
   ]
  },
  {
   "cell_type": "code",
   "execution_count": 24,
   "metadata": {},
   "outputs": [
    {
     "name": "stdout",
     "output_type": "stream",
     "text": [
      "Mean absolute error = 20.956 \n",
      " Mean squared error = 1219.951\n"
     ]
    },
    {
     "data": {
      "image/png": "[encoded data removed]",
      "text/plain": [
       "<Figure size 432x288 with 1 Axes>"
      ]
     },
     "metadata": {
      "needs_background": "light"
     },
     "output_type": "display_data"
    }
   ],
   "source": [
    "ET_regr = ExtraTreesRegressor(n_estimators=5, max_features=2, random_state=36)\n",
    "            \n",
    "ET_regr.fit(X_train, np.ravel(Y_train))\n",
    "            \n",
    "ET_Y_pred = ET_regr.predict(X_test)\n",
    "            \n",
    "ET_mae = mean_absolute_error(Y_test, ET_Y_pred)\n",
    "ET_mse = mean_squared_error(Y_test, ET_Y_pred)\n",
    "print(\"Mean absolute error =\", round(ET_mae,3),'\\n',\"Mean squared error =\", round(ET_mse,3))\n",
    "\n",
    "plt.figure()\n",
    "plt.title(\"Extra TRees\")\n",
    "plt.plot(Y_test, ET_Y_pred, 'o')\n",
    "plt.xlabel('Observed Values (nm)')\n",
    "plt.ylabel('Predicted Values (nm)')\n",
    "plt.plot([400,800],[400,800], color = 'r')\n",
    "plt.text(400, 750, 'MAE=' , fontdict=None)\n",
    "plt.text(440, 750, round(ET_mae,3) , fontdict=None)\n",
    "plt.show()"
   ]
  },
  {
   "cell_type": "markdown",
   "metadata": {},
   "source": [
    "### 5. Gradient Boosting"
   ]
  },
  {
   "cell_type": "code",
   "execution_count": 10,
   "metadata": {},
   "outputs": [
    {
     "name": "stderr",
     "output_type": "stream",
     "text": [
      "100%|██████████| 9/9 [20:28<00:00, 136.49s/it]"
     ]
    },
    {
     "name": "stdout",
     "output_type": "stream",
     "text": [
      "24.677272057717442 380 6 0.14 4\n"
     ]
    },
    {
     "name": "stderr",
     "output_type": "stream",
     "text": [
      "\n"
     ]
    }
   ],
   "source": [
    "min_mae = 999\n",
    "min_i, min_j, min_k, min_l = 0, 0, 0.0, 0\n",
    "for i in tqdm(range(300, 390, 10)):\n",
    "    for j in range(2, 20, 2):\n",
    "        for k in np.arange(0.06, 0.22, 0.02):\n",
    "            for l in range(2, 14, 2):\n",
    "                GB_regr = GradientBoostingRegressor(n_estimators=i, max_depth=j, learning_rate=k, random_state=l)\n",
    "                GB_regr.fit(X_train, np.ravel(Y_train))\n",
    "                GB_Y_pred = GB_regr.predict(X_test)\n",
    "\n",
    "                mae = mean_absolute_error(Y_test, GB_Y_pred)\n",
    "                if (min_mae > mae):\n",
    "                    min_mae = mae\n",
    "                    min_i = i\n",
    "                    min_j = j\n",
    "                    min_k = k\n",
    "                    min_l = l\n",
    "\n",
    "print(min_mae, min_i, min_j, min_k, min_l)"
   ]
  },
  {
   "cell_type": "code",
   "execution_count": 46,
   "metadata": {},
   "outputs": [
    {
     "name": "stdout",
     "output_type": "stream",
     "text": [
      "Mean absolute error = 23.779\n"
     ]
    },
    {
     "data": {
      "image/png": "[encoded data removed]",
      "text/plain": [
       "<Figure size 432x288 with 1 Axes>"
      ]
     },
     "metadata": {
      "needs_background": "light"
     },
     "output_type": "display_data"
    }
   ],
   "source": [
    "GB_regr = GradientBoostingRegressor(n_estimators=380, max_depth=4, learning_rate=0.18, random_state=6)\n",
    "\n",
    "            \n",
    "GB_regr.fit(X_train, np.ravel(Y_train))\n",
    "            \n",
    "GB_Y_pred = GB_regr.predict(X_test)\n",
    "            \n",
    "GB_mae = mean_absolute_error(Y_test, GB_Y_pred)\n",
    "print(\"Mean absolute error =\", round(GB_mae,3))\n",
    "\n",
    "plt.figure()\n",
    "plt.title(\"Gradient Boosting\")\n",
    "plt.plot(Y_test, GB_Y_pred, 'o')\n",
    "plt.xlabel('Observed Values (nm)')\n",
    "plt.ylabel('Predicted Values (nm)')\n",
    "plt.plot([400,800],[400,800], color = 'r')\n",
    "plt.text(400, 750, 'MAE=' , fontdict=None)\n",
    "plt.text(440, 750, round(GB_mae,3) , fontdict=None)\n",
    "plt.show()"
   ]
  },
  {
   "cell_type": "markdown",
   "metadata": {},
   "source": [
    "### 6. Others"
   ]
  },
  {
   "cell_type": "code",
   "execution_count": 66,
   "metadata": {},
   "outputs": [
    {
     "name": "stdout",
     "output_type": "stream",
     "text": [
      "K-nn\n",
      " MAE for diameter is  40.56000000000001 \n",
      "\n",
      "Ridge\n",
      " MAE for diameter is  38.65871193510483 \n",
      "\n",
      "Lasso\n",
      " MAE for diameter is  40.26443873289527 \n",
      "\n",
      "ElasticNet\n",
      " MAE for diameter is  48.70040421156503 \n",
      "\n"
     ]
    }
   ],
   "source": [
    "REGRESSIONS = {\n",
    "    \"K-nn\": KNeighborsRegressor(),                          \n",
    "    \"Ridge\": RidgeCV(),\n",
    "    \"Lasso\": Lasso(),\n",
    "    \"ElasticNet\": ElasticNet(random_state=0),\n",
    "                }\n",
    "# mean absolute error is used to evaluate the performance of all regressions.\n",
    "\n",
    "\n",
    "for name, reg in REGRESSIONS.items():     \n",
    "    reg.fit(X_train, Y_train)                 \n",
    "    Y_pred = pd.DataFrame(reg.predict(X_test))\n",
    "    \n",
    "    print(name)\n",
    "    \n",
    "    mae = mean_absolute_error(Y_test, Y_pred)\n",
    "    \n",
    "    print(' MAE for diameter is ', mae, '\\n')"
   ]
  },
  {
   "cell_type": "markdown",
   "metadata": {},
   "source": [
    "## Conclusion"
   ]
  },
  {
   "cell_type": "markdown",
   "metadata": {},
   "source": [
    "Extra Trees gave the best performance, **n_estimators=5, max_features=2, random_state=7**"
   ]
  },
  {
   "cell_type": "markdown",
   "metadata": {},
   "source": [
    "### Saving model"
   ]
  },
  {
   "cell_type": "code",
   "execution_count": 68,
   "metadata": {},
   "outputs": [
    {
     "data": {
      "text/plain": [
       "['./model_Extra_Trees_abs.joblib']"
      ]
     },
     "execution_count": 68,
     "metadata": {},
     "output_type": "execute_result"
    }
   ],
   "source": [
    "ET_regr = ExtraTreesRegressor(n_estimators=5, max_features=2, random_state=36)\n",
    "\n",
    "ET_regr.fit(X_train, np.ravel(Y_train))\n",
    "ET_Y_pred = ET_regr.predict(X_test)\n",
    "\n",
    "joblib.dump(ET_regr, \"./model_Extra_Trees_abs.joblib\")"
   ]
  },
  {
   "cell_type": "code",
   "execution_count": null,
   "metadata": {},
   "outputs": [],
   "source": []
  },
  {
   "cell_type": "code",
   "execution_count": null,
   "metadata": {},
   "outputs": [],
   "source": []
  },
  {
   "cell_type": "code",
   "execution_count": null,
   "metadata": {},
   "outputs": [],
   "source": []
  }
 ],
 "metadata": {
  "kernelspec": {
   "display_name": "Python 3",
   "language": "python",
   "name": "python3"
  },
  "language_info": {
   "codemirror_mode": {
    "name": "ipython",
    "version": 3
   },
   "file_extension": ".py",
   "mimetype": "text/x-python",
   "name": "python",
   "nbconvert_exporter": "python",
   "pygments_lexer": "ipython3",
   "version": "3.8.5"
  }
 },
 "nbformat": 4,
 "nbformat_minor": 4
}
