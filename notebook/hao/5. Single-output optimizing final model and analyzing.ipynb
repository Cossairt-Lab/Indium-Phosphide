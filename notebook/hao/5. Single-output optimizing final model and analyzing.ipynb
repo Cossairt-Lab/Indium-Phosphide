{
 "cells": [
  {
   "cell_type": "code",
   "execution_count": 75,
   "metadata": {},
   "outputs": [],
   "source": [
    "import numpy as np \n",
    "import pandas as pd\n",
    "import os\n",
    "import joblib\n",
    "import sklearn \n",
    "import matplotlib\n",
    "from matplotlib import pyplot as plt\n",
    "\n",
    "from sklearn.model_selection import train_test_split\n",
    "\n",
    "#Regressions:\n",
    "\n",
    "from sklearn.multioutput import MultiOutputRegressor\n",
    "\n",
    "from sklearn.neighbors import KNeighborsRegressor\n",
    "from sklearn.linear_model import Ridge\n",
    "from sklearn.linear_model import Lasso\n",
    "from sklearn.linear_model import ElasticNet\n",
    "from sklearn.linear_model import LinearRegression\n",
    "from sklearn.linear_model import RidgeCV\n",
    "from sklearn.ensemble import ExtraTreesRegressor\n",
    "from sklearn.ensemble import GradientBoostingRegressor\n",
    "from sklearn.ensemble import RandomForestRegressor\n",
    "from sklearn.ensemble import AdaBoostRegressor\n",
    "from sklearn.tree import DecisionTreeRegressor\n",
    "\n",
    "#Metric\n",
    "from sklearn.metrics import mean_squared_error\n",
    "from sklearn.metrics import mean_absolute_error\n",
    "from sklearn.metrics import r2_score\n",
    "\n",
    "\n",
    "from pandas import DataFrame\n",
    "\n",
    "\n",
    "# Show progress bar\n",
    "from tqdm import tqdm"
   ]
  },
  {
   "cell_type": "code",
   "execution_count": 76,
   "metadata": {},
   "outputs": [
    {
     "data": {
      "text/html": [
       "<div>\n",
       "<style scoped>\n",
       "    .dataframe tbody tr th:only-of-type {\n",
       "        vertical-align: middle;\n",
       "    }\n",
       "\n",
       "    .dataframe tbody tr th {\n",
       "        vertical-align: top;\n",
       "    }\n",
       "\n",
       "    .dataframe thead th {\n",
       "        text-align: right;\n",
       "    }\n",
       "</style>\n",
       "<table border=\"1\" class=\"dataframe\">\n",
       "  <thead>\n",
       "    <tr style=\"text-align: right;\">\n",
       "      <th></th>\n",
       "      <th>Unnamed: 0</th>\n",
       "      <th>Unnamed: 0.1</th>\n",
       "      <th>Unnamed: 0.1.1</th>\n",
       "      <th>Unnamed: 0.1.1.1</th>\n",
       "      <th>in_amount_mmol</th>\n",
       "      <th>p_amount_mmol</th>\n",
       "      <th>sol_amount_ml</th>\n",
       "      <th>TOP_amount_mmol</th>\n",
       "      <th>acid_amount_mmol</th>\n",
       "      <th>amine_amount_mmol</th>\n",
       "      <th>...</th>\n",
       "      <th>x8_superhydride</th>\n",
       "      <th>x8_tetrabutylammonium myristate</th>\n",
       "      <th>x8_trioctylamine</th>\n",
       "      <th>x8_trioctylphosphine oxide</th>\n",
       "      <th>x8_water</th>\n",
       "      <th>x8_zinc iodide</th>\n",
       "      <th>diameter_nm</th>\n",
       "      <th>abs_nm</th>\n",
       "      <th>emission_nm</th>\n",
       "      <th>Unnamed: 78</th>\n",
       "    </tr>\n",
       "  </thead>\n",
       "  <tbody>\n",
       "    <tr>\n",
       "      <th>0</th>\n",
       "      <td>0</td>\n",
       "      <td>0</td>\n",
       "      <td>0</td>\n",
       "      <td>0</td>\n",
       "      <td>2.798293</td>\n",
       "      <td>0.769563</td>\n",
       "      <td>-0.528015</td>\n",
       "      <td>1.951881</td>\n",
       "      <td>-0.431077</td>\n",
       "      <td>-0.641827</td>\n",
       "      <td>...</td>\n",
       "      <td>0</td>\n",
       "      <td>0</td>\n",
       "      <td>0</td>\n",
       "      <td>1</td>\n",
       "      <td>0</td>\n",
       "      <td>0</td>\n",
       "      <td>2.753333</td>\n",
       "      <td>599.0</td>\n",
       "      <td>612.000000</td>\n",
       "      <td>13.000000</td>\n",
       "    </tr>\n",
       "    <tr>\n",
       "      <th>1</th>\n",
       "      <td>1</td>\n",
       "      <td>1</td>\n",
       "      <td>1</td>\n",
       "      <td>1</td>\n",
       "      <td>0.055436</td>\n",
       "      <td>-0.361432</td>\n",
       "      <td>-0.528015</td>\n",
       "      <td>1.958217</td>\n",
       "      <td>-0.431077</td>\n",
       "      <td>-0.641827</td>\n",
       "      <td>...</td>\n",
       "      <td>0</td>\n",
       "      <td>0</td>\n",
       "      <td>0</td>\n",
       "      <td>1</td>\n",
       "      <td>0</td>\n",
       "      <td>0</td>\n",
       "      <td>2.600000</td>\n",
       "      <td>530.0</td>\n",
       "      <td>613.000000</td>\n",
       "      <td>83.000000</td>\n",
       "    </tr>\n",
       "    <tr>\n",
       "      <th>2</th>\n",
       "      <td>2</td>\n",
       "      <td>2</td>\n",
       "      <td>2</td>\n",
       "      <td>2</td>\n",
       "      <td>0.782458</td>\n",
       "      <td>0.017999</td>\n",
       "      <td>-0.528015</td>\n",
       "      <td>0.600491</td>\n",
       "      <td>-0.431077</td>\n",
       "      <td>-0.641827</td>\n",
       "      <td>...</td>\n",
       "      <td>0</td>\n",
       "      <td>0</td>\n",
       "      <td>0</td>\n",
       "      <td>1</td>\n",
       "      <td>0</td>\n",
       "      <td>0</td>\n",
       "      <td>3.500000</td>\n",
       "      <td>595.0</td>\n",
       "      <td>610.000000</td>\n",
       "      <td>15.000000</td>\n",
       "    </tr>\n",
       "    <tr>\n",
       "      <th>3</th>\n",
       "      <td>3</td>\n",
       "      <td>4</td>\n",
       "      <td>4</td>\n",
       "      <td>4</td>\n",
       "      <td>0.055436</td>\n",
       "      <td>0.280681</td>\n",
       "      <td>-0.528015</td>\n",
       "      <td>1.958217</td>\n",
       "      <td>-0.431077</td>\n",
       "      <td>-0.641827</td>\n",
       "      <td>...</td>\n",
       "      <td>0</td>\n",
       "      <td>0</td>\n",
       "      <td>0</td>\n",
       "      <td>1</td>\n",
       "      <td>0</td>\n",
       "      <td>0</td>\n",
       "      <td>2.520000</td>\n",
       "      <td>520.0</td>\n",
       "      <td>612.000000</td>\n",
       "      <td>92.000000</td>\n",
       "    </tr>\n",
       "    <tr>\n",
       "      <th>4</th>\n",
       "      <td>4</td>\n",
       "      <td>5</td>\n",
       "      <td>5</td>\n",
       "      <td>5</td>\n",
       "      <td>0.055436</td>\n",
       "      <td>0.280681</td>\n",
       "      <td>-0.528015</td>\n",
       "      <td>1.958217</td>\n",
       "      <td>-0.431077</td>\n",
       "      <td>-0.641827</td>\n",
       "      <td>...</td>\n",
       "      <td>0</td>\n",
       "      <td>0</td>\n",
       "      <td>0</td>\n",
       "      <td>1</td>\n",
       "      <td>0</td>\n",
       "      <td>0</td>\n",
       "      <td>2.660000</td>\n",
       "      <td>590.0</td>\n",
       "      <td>612.000000</td>\n",
       "      <td>22.000000</td>\n",
       "    </tr>\n",
       "    <tr>\n",
       "      <th>...</th>\n",
       "      <td>...</td>\n",
       "      <td>...</td>\n",
       "      <td>...</td>\n",
       "      <td>...</td>\n",
       "      <td>...</td>\n",
       "      <td>...</td>\n",
       "      <td>...</td>\n",
       "      <td>...</td>\n",
       "      <td>...</td>\n",
       "      <td>...</td>\n",
       "      <td>...</td>\n",
       "      <td>...</td>\n",
       "      <td>...</td>\n",
       "      <td>...</td>\n",
       "      <td>...</td>\n",
       "      <td>...</td>\n",
       "      <td>...</td>\n",
       "      <td>...</td>\n",
       "      <td>...</td>\n",
       "      <td>...</td>\n",
       "      <td>...</td>\n",
       "    </tr>\n",
       "    <tr>\n",
       "      <th>212</th>\n",
       "      <td>212</td>\n",
       "      <td>214</td>\n",
       "      <td>214</td>\n",
       "      <td>214</td>\n",
       "      <td>-0.580709</td>\n",
       "      <td>-0.667895</td>\n",
       "      <td>-0.070987</td>\n",
       "      <td>-0.304661</td>\n",
       "      <td>-0.316033</td>\n",
       "      <td>-0.641827</td>\n",
       "      <td>...</td>\n",
       "      <td>0</td>\n",
       "      <td>0</td>\n",
       "      <td>0</td>\n",
       "      <td>0</td>\n",
       "      <td>0</td>\n",
       "      <td>0</td>\n",
       "      <td>5.433333</td>\n",
       "      <td>570.0</td>\n",
       "      <td>605.000000</td>\n",
       "      <td>35.000000</td>\n",
       "    </tr>\n",
       "    <tr>\n",
       "      <th>213</th>\n",
       "      <td>213</td>\n",
       "      <td>215</td>\n",
       "      <td>215</td>\n",
       "      <td>215</td>\n",
       "      <td>-0.580709</td>\n",
       "      <td>-0.667895</td>\n",
       "      <td>-0.070987</td>\n",
       "      <td>-0.304661</td>\n",
       "      <td>-0.316033</td>\n",
       "      <td>-0.641827</td>\n",
       "      <td>...</td>\n",
       "      <td>0</td>\n",
       "      <td>0</td>\n",
       "      <td>0</td>\n",
       "      <td>0</td>\n",
       "      <td>0</td>\n",
       "      <td>0</td>\n",
       "      <td>5.433333</td>\n",
       "      <td>562.0</td>\n",
       "      <td>605.000000</td>\n",
       "      <td>43.000000</td>\n",
       "    </tr>\n",
       "    <tr>\n",
       "      <th>214</th>\n",
       "      <td>214</td>\n",
       "      <td>216</td>\n",
       "      <td>216</td>\n",
       "      <td>216</td>\n",
       "      <td>-0.580709</td>\n",
       "      <td>-0.667895</td>\n",
       "      <td>-0.070987</td>\n",
       "      <td>-0.304661</td>\n",
       "      <td>-0.316033</td>\n",
       "      <td>-0.641827</td>\n",
       "      <td>...</td>\n",
       "      <td>0</td>\n",
       "      <td>0</td>\n",
       "      <td>0</td>\n",
       "      <td>0</td>\n",
       "      <td>0</td>\n",
       "      <td>0</td>\n",
       "      <td>5.433333</td>\n",
       "      <td>549.0</td>\n",
       "      <td>589.666667</td>\n",
       "      <td>40.666667</td>\n",
       "    </tr>\n",
       "    <tr>\n",
       "      <th>215</th>\n",
       "      <td>215</td>\n",
       "      <td>217</td>\n",
       "      <td>217</td>\n",
       "      <td>217</td>\n",
       "      <td>-0.423738</td>\n",
       "      <td>-0.631411</td>\n",
       "      <td>-0.201566</td>\n",
       "      <td>-0.304661</td>\n",
       "      <td>-0.085945</td>\n",
       "      <td>-0.600008</td>\n",
       "      <td>...</td>\n",
       "      <td>0</td>\n",
       "      <td>0</td>\n",
       "      <td>0</td>\n",
       "      <td>0</td>\n",
       "      <td>0</td>\n",
       "      <td>0</td>\n",
       "      <td>2.000000</td>\n",
       "      <td>523.0</td>\n",
       "      <td>597.000000</td>\n",
       "      <td>74.000000</td>\n",
       "    </tr>\n",
       "    <tr>\n",
       "      <th>216</th>\n",
       "      <td>216</td>\n",
       "      <td>218</td>\n",
       "      <td>218</td>\n",
       "      <td>218</td>\n",
       "      <td>-0.423738</td>\n",
       "      <td>-0.631411</td>\n",
       "      <td>-0.201566</td>\n",
       "      <td>-0.304661</td>\n",
       "      <td>-0.085945</td>\n",
       "      <td>-0.600008</td>\n",
       "      <td>...</td>\n",
       "      <td>0</td>\n",
       "      <td>0</td>\n",
       "      <td>0</td>\n",
       "      <td>0</td>\n",
       "      <td>0</td>\n",
       "      <td>0</td>\n",
       "      <td>4.100000</td>\n",
       "      <td>584.0</td>\n",
       "      <td>612.000000</td>\n",
       "      <td>28.000000</td>\n",
       "    </tr>\n",
       "  </tbody>\n",
       "</table>\n",
       "<p>217 rows × 80 columns</p>\n",
       "</div>"
      ],
      "text/plain": [
       "     Unnamed: 0  Unnamed: 0.1  Unnamed: 0.1.1  Unnamed: 0.1.1.1  \\\n",
       "0             0             0               0                 0   \n",
       "1             1             1               1                 1   \n",
       "2             2             2               2                 2   \n",
       "3             3             4               4                 4   \n",
       "4             4             5               5                 5   \n",
       "..          ...           ...             ...               ...   \n",
       "212         212           214             214               214   \n",
       "213         213           215             215               215   \n",
       "214         214           216             216               216   \n",
       "215         215           217             217               217   \n",
       "216         216           218             218               218   \n",
       "\n",
       "     in_amount_mmol  p_amount_mmol  sol_amount_ml  TOP_amount_mmol  \\\n",
       "0          2.798293       0.769563      -0.528015         1.951881   \n",
       "1          0.055436      -0.361432      -0.528015         1.958217   \n",
       "2          0.782458       0.017999      -0.528015         0.600491   \n",
       "3          0.055436       0.280681      -0.528015         1.958217   \n",
       "4          0.055436       0.280681      -0.528015         1.958217   \n",
       "..              ...            ...            ...              ...   \n",
       "212       -0.580709      -0.667895      -0.070987        -0.304661   \n",
       "213       -0.580709      -0.667895      -0.070987        -0.304661   \n",
       "214       -0.580709      -0.667895      -0.070987        -0.304661   \n",
       "215       -0.423738      -0.631411      -0.201566        -0.304661   \n",
       "216       -0.423738      -0.631411      -0.201566        -0.304661   \n",
       "\n",
       "     acid_amount_mmol  amine_amount_mmol  ...  x8_superhydride  \\\n",
       "0           -0.431077          -0.641827  ...                0   \n",
       "1           -0.431077          -0.641827  ...                0   \n",
       "2           -0.431077          -0.641827  ...                0   \n",
       "3           -0.431077          -0.641827  ...                0   \n",
       "4           -0.431077          -0.641827  ...                0   \n",
       "..                ...                ...  ...              ...   \n",
       "212         -0.316033          -0.641827  ...                0   \n",
       "213         -0.316033          -0.641827  ...                0   \n",
       "214         -0.316033          -0.641827  ...                0   \n",
       "215         -0.085945          -0.600008  ...                0   \n",
       "216         -0.085945          -0.600008  ...                0   \n",
       "\n",
       "     x8_tetrabutylammonium myristate  x8_trioctylamine  \\\n",
       "0                                  0                 0   \n",
       "1                                  0                 0   \n",
       "2                                  0                 0   \n",
       "3                                  0                 0   \n",
       "4                                  0                 0   \n",
       "..                               ...               ...   \n",
       "212                                0                 0   \n",
       "213                                0                 0   \n",
       "214                                0                 0   \n",
       "215                                0                 0   \n",
       "216                                0                 0   \n",
       "\n",
       "     x8_trioctylphosphine oxide  x8_water  x8_zinc iodide  diameter_nm  \\\n",
       "0                             1         0               0     2.753333   \n",
       "1                             1         0               0     2.600000   \n",
       "2                             1         0               0     3.500000   \n",
       "3                             1         0               0     2.520000   \n",
       "4                             1         0               0     2.660000   \n",
       "..                          ...       ...             ...          ...   \n",
       "212                           0         0               0     5.433333   \n",
       "213                           0         0               0     5.433333   \n",
       "214                           0         0               0     5.433333   \n",
       "215                           0         0               0     2.000000   \n",
       "216                           0         0               0     4.100000   \n",
       "\n",
       "     abs_nm  emission_nm  Unnamed: 78  \n",
       "0     599.0   612.000000    13.000000  \n",
       "1     530.0   613.000000    83.000000  \n",
       "2     595.0   610.000000    15.000000  \n",
       "3     520.0   612.000000    92.000000  \n",
       "4     590.0   612.000000    22.000000  \n",
       "..      ...          ...          ...  \n",
       "212   570.0   605.000000    35.000000  \n",
       "213   562.0   605.000000    43.000000  \n",
       "214   549.0   589.666667    40.666667  \n",
       "215   523.0   597.000000    74.000000  \n",
       "216   584.0   612.000000    28.000000  \n",
       "\n",
       "[217 rows x 80 columns]"
      ]
     },
     "execution_count": 76,
     "metadata": {},
     "output_type": "execute_result"
    }
   ],
   "source": [
    "df = pd.read_csv('dataset_augmented.csv')\n",
    "df"
   ]
  },
  {
   "cell_type": "code",
   "execution_count": 77,
   "metadata": {},
   "outputs": [],
   "source": [
    "# Input for ML models\n",
    "\n",
    "input_col = ['in_amount_mmol',\n",
    "             'p_amount_mmol',\n",
    "             'sol_amount_ml',\n",
    "             'TOP_amount_mmol',\n",
    "             'acid_amount_mmol',\n",
    "             'amine_amount_mmol',\n",
    "             'thiol_amount_mmol',\n",
    "             'zinc_amount_mmol',\n",
    "             'other_amount_mmol',\n",
    "             'total_volume_ml',\n",
    "             'temp_c',\n",
    "             'time_min',\n",
    "             'x0_chloroindium oxalate',\n",
    "             'x0_indium acetate',\n",
    "             'x0_indium bromide',\n",
    "             'x0_indium chloride',\n",
    "             'x0_indium iodide',\n",
    "             'x0_indium myristate',\n",
    "             'x0_indium oxalate',\n",
    "             'x0_indium palmitate',\n",
    "             'x0_indium trifluoroacetate',\n",
    "             'x0_indium tris(N,N-diisopropylacetamidinato)',\n",
    "             'x1_bis(trimethylsilyl)phosphine',\n",
    "             'x1_phosphine gas',\n",
    "             'x1_phosphorus trichloride',\n",
    "             'x1_sodium phosphide',\n",
    "             'x1_tris(diethylamino)phosphine',\n",
    "             'x1_tris(dimethylamino)phosphine',\n",
    "             'x1_tris(trimethylgermyl)phosphine',\n",
    "             'x1_tris(trimethylsilyl)phosphine',\n",
    "             'x1_white phosphorus',\n",
    "             'x2_4-ethylpyridine',\n",
    "             'x2_None',\n",
    "             'x2_dimethylformamide',\n",
    "             'x2_mesitylene',\n",
    "             'x2_octadecene',\n",
    "             'x2_toluene',\n",
    "             'x3_None',\n",
    "             'x3_trioctylphosphine',\n",
    "             'x4_None',\n",
    "             'x4_lauric acid',\n",
    "             'x4_myristic acid',\n",
    "             'x4_oleic acid',\n",
    "             'x4_palmitic acid',\n",
    "             'x4_stearic acid',\n",
    "             'x5_None',\n",
    "             'x5_dioctylamine',\n",
    "             'x5_dodecylamine',\n",
    "             'x5_hexadecylamine',\n",
    "             'x5_octylamine',\n",
    "             'x5_oleylamine',\n",
    "             'x6_None',\n",
    "             'x6_dodecanethiol',\n",
    "             'x7_None',\n",
    "             'x7_zinc acetate',\n",
    "             'x7_zinc bromide',\n",
    "             'x7_zinc chloride',\n",
    "             'x7_zinc iodide',\n",
    "             'x7_zinc octanoate',\n",
    "             'x7_zinc oleate',\n",
    "             'x7_zinc stearate',\n",
    "             'x7_zinc undecylenate',\n",
    "             'x8_None',\n",
    "             'x8_acetic acid',\n",
    "             'x8_copper bromide',\n",
    "             'x8_superhydride',\n",
    "             'x8_oleic acid',\n",
    "             'x8_tetrabutylammonium myristate',\n",
    "             'x8_trioctylamine',\n",
    "             'x8_trioctylphosphine oxide',\n",
    "             'x8_water',\n",
    "             'x8_zinc iodide'\n",
    "            ]\n",
    "\n",
    "#Three individual outputs:\n",
    "diameter = ['diameter_nm']\n",
    "emission = ['emission_nm']\n",
    "absorbance = ['abs_nm']\n",
    "\n",
    "#Splitting dataset\n",
    "\n",
    "X = df[input_col]\n",
    "\n",
    "Y_d = df[diameter]\n",
    "Y_e = df[emission]\n",
    "Y_a = df[absorbance]\n",
    "\n",
    "\n",
    "X_train_d, X_test_d, Y_train_d, Y_test_d = train_test_split(X, Y_d, test_size=0.15, random_state=45, shuffle=True)\n",
    "X_train_e, X_test_e, Y_train_e, Y_test_e = train_test_split(X, Y_e, test_size=0.15, random_state=45, shuffle=True)\n",
    "X_train_a, X_test_a, Y_train_a, Y_test_a = train_test_split(X, Y_a, test_size=0.15, random_state=45, shuffle=True)"
   ]
  },
  {
   "cell_type": "markdown",
   "metadata": {},
   "source": [
    "## D - Optimizing diameter model\n"
   ]
  },
  {
   "cell_type": "markdown",
   "metadata": {},
   "source": [
    "### 1D. Extra Trees"
   ]
  },
  {
   "cell_type": "code",
   "execution_count": 60,
   "metadata": {},
   "outputs": [
    {
     "name": "stderr",
     "output_type": "stream",
     "text": [
      "100%|██████████| 24/24 [07:34<00:00, 18.94s/it]"
     ]
    },
    {
     "name": "stdout",
     "output_type": "stream",
     "text": [
      "0.33404040404040397 1 10 4\n"
     ]
    },
    {
     "name": "stderr",
     "output_type": "stream",
     "text": [
      "\n"
     ]
    }
   ],
   "source": [
    "# This is a grid search for three parameters in the Extra Trees algorithm. \n",
    "# Parameters are: random_state, n_estimators, max_features.\n",
    "\n",
    "# This gives the best combination of the three parameters for the smallest mean squared error.\n",
    "\n",
    "min_mae = 99999\n",
    "min_i, min_j, min_k = 0, 0, 0\n",
    "for i in tqdm(range(1, 25)):\n",
    "    for j in range(1, 25):\n",
    "        for k in range(2, 50, 1):\n",
    "            ET_regr = ExtraTreesRegressor(n_estimators=i, \n",
    "                                            max_features=j,\n",
    "                                            random_state=k)\n",
    "            \n",
    "            ET_regr.fit(X_train_d, np.ravel(Y_train_d))\n",
    "            ET_Y_pred_d = pd.DataFrame(ET_regr.predict(X_test_d))\n",
    "\n",
    "            mae = mean_absolute_error(Y_test_d, ET_Y_pred_d)\n",
    "            if (min_mae > mae):\n",
    "                min_mae = mae\n",
    "                min_i = i\n",
    "                min_j = j\n",
    "                min_k = k\n",
    "            \n",
    "print(min_mae, min_i, min_j, min_k)"
   ]
  },
  {
   "cell_type": "markdown",
   "metadata": {},
   "source": [
    "### 2D. Decision Tree "
   ]
  },
  {
   "cell_type": "code",
   "execution_count": 62,
   "metadata": {},
   "outputs": [
    {
     "name": "stderr",
     "output_type": "stream",
     "text": [
      "100%|██████████| 29/29 [03:17<00:00,  6.83s/it]"
     ]
    },
    {
     "name": "stdout",
     "output_type": "stream",
     "text": [
      "0.33232323232323224 20 16 28\n"
     ]
    },
    {
     "name": "stderr",
     "output_type": "stream",
     "text": [
      "\n"
     ]
    }
   ],
   "source": [
    "# This is a grid search for three parameters in the Decision Trees algorithm. \n",
    "# Parameters are: max_depth, max_features, random_state.\n",
    "# This gives the best combination of the three parameters for the smallest mean squared error.\n",
    "\n",
    "min_mae = 99999\n",
    "\n",
    "min_i, min_j, min_k  = 0, 0, 0\n",
    "\n",
    "for i in tqdm(range(1, 30)):\n",
    "    for j in range(1, 30):\n",
    "        for k in range(4, 80, 2):\n",
    "            \n",
    "            DT_regr = DecisionTreeRegressor(max_depth=i,\n",
    "                                max_features=j,\n",
    "                                random_state=k)\n",
    "            \n",
    "            DT_regr.fit(X_train_d, np.ravel(Y_train_d))\n",
    "            DT_Y_pred_d = pd.DataFrame(DT_regr.predict(X_test_d))\n",
    "\n",
    "            mae = mean_absolute_error(Y_test_d, DT_Y_pred_d)\n",
    "            \n",
    "            if (min_mae > mae):\n",
    "                min_mae = mae\n",
    "                min_i = i\n",
    "                min_j = j\n",
    "                min_k = k\n",
    "            \n",
    "print(min_mae, min_i, min_j, min_k)"
   ]
  },
  {
   "cell_type": "markdown",
   "metadata": {},
   "source": [
    "### 3D. Random Forest"
   ]
  },
  {
   "cell_type": "code",
   "execution_count": 63,
   "metadata": {},
   "outputs": [
    {
     "name": "stderr",
     "output_type": "stream",
     "text": [
      "100%|██████████| 30/30 [17:08<00:00, 34.27s/it]"
     ]
    },
    {
     "name": "stdout",
     "output_type": "stream",
     "text": [
      "0.38906493506493495 16 3 11\n"
     ]
    },
    {
     "name": "stderr",
     "output_type": "stream",
     "text": [
      "\n"
     ]
    }
   ],
   "source": [
    "# This is a grid search for three parameters in the Random Forest algorithm. \n",
    "# Parameters are: max_depth, n_estimators, max_features.\n",
    "# Random_state is set to 45.\n",
    "# This gives the best combination of the three parameters for the smallest mean squared error.\n",
    "\n",
    "min_mae = 99999\n",
    "min_i, min_j, min_k = 0, 0, 0\n",
    "for i in tqdm(range(1, 31)):\n",
    "    for j in range(1, 31):\n",
    "        for k in range(2, 50, 1):\n",
    "            RF_regr = RandomForestRegressor(max_depth=i, \n",
    "                                            n_estimators=j, \n",
    "                                            max_features=k,\n",
    "                                            random_state=45)\n",
    "            RF_regr.fit(X_train_d, np.ravel(Y_train_d))\n",
    "            RF_Y_pred_d = pd.DataFrame(RF_regr.predict(X_test_d))\n",
    "\n",
    "            mae = mean_absolute_error(Y_test_d, RF_Y_pred_d)\n",
    "            if (min_mae > mae):\n",
    "                min_mae = mae\n",
    "                min_i = i\n",
    "                min_j = j\n",
    "                min_k = k\n",
    "            \n",
    "print(min_mae, min_i, min_j, min_k)"
   ]
  },
  {
   "cell_type": "markdown",
   "metadata": {},
   "source": [
    "### 4D. K Neighbors"
   ]
  },
  {
   "cell_type": "code",
   "execution_count": 64,
   "metadata": {},
   "outputs": [
    {
     "name": "stderr",
     "output_type": "stream",
     "text": [
      "100%|██████████| 39/39 [00:19<00:00,  2.02it/s]"
     ]
    },
    {
     "name": "stdout",
     "output_type": "stream",
     "text": [
      "0.44207070707070706 2 2\n"
     ]
    },
    {
     "name": "stderr",
     "output_type": "stream",
     "text": [
      "\n"
     ]
    }
   ],
   "source": [
    "min_mae = 99999\n",
    "min_i, min_j = 0, 0\n",
    "\n",
    "for i in tqdm(range(1, 40)):\n",
    "    for j in range(1, 40):\n",
    "\n",
    "        KNN_reg_d = KNeighborsRegressor(n_neighbors=i, \n",
    "                                      p=j).fit(X_train_d, np.ravel(Y_train_d))\n",
    "\n",
    "        KNN_Y_pred_d = KNN_reg_d.predict(X_test_d)\n",
    "\n",
    "        mae = mean_absolute_error(Y_test_d, KNN_Y_pred_d)\n",
    "\n",
    "        if (min_mae > mae):\n",
    "            min_mae = mae\n",
    "            min_i = i\n",
    "            min_j = j\n",
    "\n",
    "print(min_mae, min_i, min_j)"
   ]
  },
  {
   "cell_type": "markdown",
   "metadata": {},
   "source": [
    "### Saving Decision Tree model"
   ]
  },
  {
   "cell_type": "code",
   "execution_count": 66,
   "metadata": {},
   "outputs": [
    {
     "data": {
      "text/plain": [
       "['./model_SO_diameter_DecisionTree.joblib']"
      ]
     },
     "execution_count": 66,
     "metadata": {},
     "output_type": "execute_result"
    }
   ],
   "source": [
    "DT_regr = DecisionTreeRegressor(max_depth=20,\n",
    "                                max_features=16,\n",
    "                                random_state=28)\n",
    "DT_regr.fit(X_train_d, np.ravel(Y_train_d))\n",
    "DT_Y_pred_d = pd.DataFrame(DT_regr.predict(X_test_d))\n",
    "joblib.dump(ET_regr_d, \"./model_SO_diameter_DecisionTree.joblib\")"
   ]
  },
  {
   "cell_type": "markdown",
   "metadata": {},
   "source": [
    "## E - Optimizing emission model\n"
   ]
  },
  {
   "cell_type": "markdown",
   "metadata": {},
   "source": [
    "### 1E. Extra Trees"
   ]
  },
  {
   "cell_type": "code",
   "execution_count": 27,
   "metadata": {},
   "outputs": [
    {
     "name": "stderr",
     "output_type": "stream",
     "text": [
      "100%|██████████| 24/24 [07:38<00:00, 19.09s/it]"
     ]
    },
    {
     "name": "stdout",
     "output_type": "stream",
     "text": [
      "11.464646460606067 1 19 10\n"
     ]
    },
    {
     "name": "stderr",
     "output_type": "stream",
     "text": [
      "\n"
     ]
    }
   ],
   "source": [
    "# This is a grid search for three parameters in the Extra Trees algorithm. \n",
    "# Parameters are: random_state, n_estimators, max_features.\n",
    "\n",
    "# This gives the best combination of the three parameters for the smallest mean squared error.\n",
    "\n",
    "min_mae = 99999\n",
    "min_i, min_j, min_k = 0, 0, 0\n",
    "for i in tqdm(range(1, 25)):\n",
    "    for j in range(1, 25):\n",
    "        for k in range(2, 50, 1):\n",
    "            ET_regr_e = ExtraTreesRegressor(n_estimators=i, \n",
    "                                            max_features=j,\n",
    "                                            random_state=k)\n",
    "            \n",
    "            ET_regr_e.fit(X_train_e, np.ravel(Y_train_e))\n",
    "            ET_Y_pred_e = pd.DataFrame(ET_regr_e.predict(X_test_e))\n",
    "\n",
    "            mae = mean_absolute_error(Y_test_e, ET_Y_pred_e)\n",
    "            if (min_mae > mae):\n",
    "                min_mae = mae\n",
    "                min_i = i\n",
    "                min_j = j\n",
    "                min_k = k\n",
    "            \n",
    "print(min_mae, min_i, min_j, min_k)"
   ]
  },
  {
   "cell_type": "markdown",
   "metadata": {},
   "source": [
    "### 2E. Decision Trees"
   ]
  },
  {
   "cell_type": "code",
   "execution_count": 28,
   "metadata": {},
   "outputs": [
    {
     "name": "stderr",
     "output_type": "stream",
     "text": [
      "100%|██████████| 29/29 [02:48<00:00,  5.81s/it]"
     ]
    },
    {
     "name": "stdout",
     "output_type": "stream",
     "text": [
      "11.7979797926407 12 16 66\n"
     ]
    },
    {
     "name": "stderr",
     "output_type": "stream",
     "text": [
      "\n"
     ]
    }
   ],
   "source": [
    "# This is a grid search for three parameters in the Decision Trees algorithm. \n",
    "\n",
    "# This gives the best combination of the three parameters for the smallest mean squared error.\n",
    "\n",
    "min_mae = 99999\n",
    "\n",
    "min_i, min_j, min_k  = 0, 0, 0\n",
    "\n",
    "for i in tqdm(range(1, 30)):\n",
    "    for j in range(1, 30):\n",
    "        for k in range(4, 80, 2):\n",
    "            \n",
    "            DT_regr_e = DecisionTreeRegressor(max_depth=i,\n",
    "                                max_features=j,\n",
    "                                random_state=k)\n",
    "            \n",
    "            DT_regr_e.fit(X_train_e, np.ravel(Y_train_e))\n",
    "            DT_Y_pred_e = pd.DataFrame(DT_regr_e.predict(X_test_e))\n",
    "\n",
    "            mae = mean_absolute_error(Y_test_e, DT_Y_pred_e)\n",
    "            \n",
    "            if (min_mae > mae):\n",
    "                min_mae = mae\n",
    "                min_i = i\n",
    "                min_j = j\n",
    "                min_k = k\n",
    "            \n",
    "print(min_mae, min_i, min_j, min_k)"
   ]
  },
  {
   "cell_type": "markdown",
   "metadata": {},
   "source": [
    "### 3E. Random Forest"
   ]
  },
  {
   "cell_type": "code",
   "execution_count": 29,
   "metadata": {},
   "outputs": [
    {
     "name": "stderr",
     "output_type": "stream",
     "text": [
      "100%|██████████| 30/30 [16:31<00:00, 33.03s/it]"
     ]
    },
    {
     "name": "stdout",
     "output_type": "stream",
     "text": [
      "15.066370349380778 14 14 9\n"
     ]
    },
    {
     "name": "stderr",
     "output_type": "stream",
     "text": [
      "\n"
     ]
    }
   ],
   "source": [
    "min_mae = 99999\n",
    "min_i, min_j, min_k = 0, 0, 0\n",
    "for i in tqdm(range(1, 31)):\n",
    "    for j in range(1, 31):\n",
    "        for k in range(2, 50, 1):\n",
    "            RF_regr_e = RandomForestRegressor(max_depth=i, \n",
    "                                            n_estimators=j, \n",
    "                                            max_features=k,\n",
    "                                            random_state=45)\n",
    "            RF_regr_e.fit(X_train_e, np.ravel(Y_train_e))\n",
    "            RF_Y_pred_e = pd.DataFrame(RF_regr_e.predict(X_test_e))\n",
    "\n",
    "            mae = mean_absolute_error(Y_test_e, RF_Y_pred_e)\n",
    "            if (min_mae > mae):\n",
    "                min_mae = mae\n",
    "                min_i = i\n",
    "                min_j = j\n",
    "                min_k = k\n",
    "            \n",
    "print(min_mae, min_i, min_j, min_k)"
   ]
  },
  {
   "cell_type": "markdown",
   "metadata": {},
   "source": [
    "### 4E. K Neighbors"
   ]
  },
  {
   "cell_type": "code",
   "execution_count": 30,
   "metadata": {
    "scrolled": false
   },
   "outputs": [
    {
     "name": "stderr",
     "output_type": "stream",
     "text": [
      "100%|██████████| 39/39 [00:18<00:00,  2.07it/s]"
     ]
    },
    {
     "name": "stdout",
     "output_type": "stream",
     "text": [
      "15.676767672727278 1 4\n"
     ]
    },
    {
     "name": "stderr",
     "output_type": "stream",
     "text": [
      "\n"
     ]
    }
   ],
   "source": [
    "min_mae = 99999\n",
    "min_i, min_j = 0, 0\n",
    "\n",
    "for i in tqdm(range(1, 40)):\n",
    "    for j in range(1, 40):\n",
    "\n",
    "        KNN_reg_e = KNeighborsRegressor(n_neighbors=i, \n",
    "                                      p=j).fit(X_train_e, np.ravel(Y_train_e))\n",
    "\n",
    "        KNN_Y_pred_e = KNN_reg_e.predict(X_test_e)\n",
    "\n",
    "        mae = mean_absolute_error(Y_test_e, KNN_Y_pred_e)\n",
    "\n",
    "        if (min_mae > mae):\n",
    "            min_mae = mae\n",
    "            min_i = i\n",
    "            min_j = j\n",
    "\n",
    "print(min_mae, min_i, min_j)"
   ]
  },
  {
   "cell_type": "markdown",
   "metadata": {},
   "source": [
    "### Saving Extra Trees model"
   ]
  },
  {
   "cell_type": "code",
   "execution_count": 55,
   "metadata": {},
   "outputs": [
    {
     "data": {
      "text/plain": [
       "['./model_SO_emission_ExtraTrees.joblib']"
      ]
     },
     "execution_count": 55,
     "metadata": {},
     "output_type": "execute_result"
    }
   ],
   "source": [
    "ET_regr_e = ExtraTreesRegressor(n_estimators=1,\n",
    "                            max_features=19,     \n",
    "                            random_state=10).fit(X_train_e, np.ravel(Y_train_e))\n",
    "                  \n",
    "ET_Y_pred_e = ET_regr_e.predict(X_test_e)\n",
    "\n",
    "joblib.dump(ET_regr_e, \"./model_SO_emission_ExtraTrees.joblib\")"
   ]
  },
  {
   "cell_type": "markdown",
   "metadata": {},
   "source": [
    "## A - Optimizing absorption model\n"
   ]
  },
  {
   "cell_type": "markdown",
   "metadata": {},
   "source": [
    "### 1A: Extra Trees"
   ]
  },
  {
   "cell_type": "code",
   "execution_count": 4,
   "metadata": {},
   "outputs": [
    {
     "name": "stderr",
     "output_type": "stream",
     "text": [
      "100%|██████████| 29/29 [14:53<00:00, 30.82s/it]"
     ]
    },
    {
     "name": "stdout",
     "output_type": "stream",
     "text": [
      "21.772727272727273 2 25 11\n"
     ]
    },
    {
     "name": "stderr",
     "output_type": "stream",
     "text": [
      "\n"
     ]
    }
   ],
   "source": [
    "# This is a grid search for three parameters in the Extra Trees algorithm. \n",
    "# Parameters are: random_state, n_estimators, max_features.\n",
    "\n",
    "# This gives the best combination of the three parameters for the smallest mean squared error.\n",
    "\n",
    "min_mae = 99999\n",
    "min_i, min_j, min_k = 0, 0, 0\n",
    "for i in tqdm(range(1, 30)):\n",
    "    for j in range(1, 30):\n",
    "        for k in range(2, 50, 1):\n",
    "            ET_regr_a = ExtraTreesRegressor(n_estimators=i, \n",
    "                                            max_features=j,\n",
    "                                            random_state=k)\n",
    "            \n",
    "            ET_regr_a.fit(X_train_a, np.ravel(Y_train_a))\n",
    "            ET_Y_pred_a = pd.DataFrame(ET_regr_a.predict(X_test_a))\n",
    "\n",
    "            mae = mean_absolute_error(Y_test_a, ET_Y_pred_a)\n",
    "            if (min_mae > mae):\n",
    "                min_mae = mae\n",
    "                min_i = i\n",
    "                min_j = j\n",
    "                min_k = k\n",
    "            \n",
    "print(min_mae, min_i, min_j, min_k)"
   ]
  },
  {
   "cell_type": "markdown",
   "metadata": {},
   "source": [
    "### 2A. Decision Trees\n"
   ]
  },
  {
   "cell_type": "code",
   "execution_count": 5,
   "metadata": {},
   "outputs": [
    {
     "name": "stderr",
     "output_type": "stream",
     "text": [
      "100%|██████████| 29/29 [03:22<00:00,  6.99s/it]"
     ]
    },
    {
     "name": "stdout",
     "output_type": "stream",
     "text": [
      "20.595959593939398 20 20 12\n"
     ]
    },
    {
     "name": "stderr",
     "output_type": "stream",
     "text": [
      "\n"
     ]
    }
   ],
   "source": [
    "# This is a grid search for three parameters in the Decision Trees algorithm. \n",
    "\n",
    "# This gives the best combination of the three parameters for the smallest mean squared error.\n",
    "\n",
    "min_mae = 99999\n",
    "\n",
    "min_i, min_j, min_k  = 0, 0, 0\n",
    "\n",
    "for i in tqdm(range(1, 30)):\n",
    "    for j in range(1, 30):\n",
    "        for k in range(4, 80, 2):\n",
    "            \n",
    "            DT_regr_a = DecisionTreeRegressor(max_depth=i,\n",
    "                                max_features=j,\n",
    "                                random_state=k)\n",
    "            \n",
    "            DT_regr_a.fit(X_train_a, np.ravel(Y_train_a))\n",
    "            DT_Y_pred_a = pd.DataFrame(DT_regr_a.predict(X_test_a))\n",
    "\n",
    "            mae = mean_absolute_error(Y_test_a, DT_Y_pred_a)\n",
    "            \n",
    "            if (min_mae > mae):\n",
    "                min_mae = mae\n",
    "                min_i = i\n",
    "                min_j = j\n",
    "                min_k = k\n",
    "            \n",
    "print(min_mae, min_i, min_j, min_k)"
   ]
  },
  {
   "cell_type": "code",
   "execution_count": 22,
   "metadata": {},
   "outputs": [
    {
     "name": "stdout",
     "output_type": "stream",
     "text": [
      "diameter: r2: 0.7157594152974505 ; MSE: 1033.208754199327 ; RMSE: 32.14356474007398 ; MAE: 20.595959593939398\n"
     ]
    }
   ],
   "source": [
    "DT_regr_a = DecisionTreeRegressor(max_depth=20,\n",
    "                                max_features=20,\n",
    "                                random_state=12).fit(X_train_a, np.ravel(Y_train_a))\n",
    "                  \n",
    "DT_Y_pred_a = DT_regr_a.predict(X_test_a)\n",
    "\n",
    "\n",
    "DT_r2_a = r2_score(Y_test_a, DT_Y_pred_a)\n",
    "DT_MSE_a = mean_squared_error(Y_test_a, DT_Y_pred_a)\n",
    "DT_RMSE_a = mean_squared_error(Y_test_a, DT_Y_pred_a, squared=False)\n",
    "DT_MAE_a = mean_absolute_error(Y_test_a, DT_Y_pred_a)\n",
    "print('diameter:', 'r2:', DT_r2_a, '; MSE:', DT_MSE_a, '; RMSE:', DT_RMSE_a, '; MAE:', DT_MAE_a)"
   ]
  },
  {
   "cell_type": "markdown",
   "metadata": {},
   "source": [
    "### 3A. Random Forest"
   ]
  },
  {
   "cell_type": "code",
   "execution_count": 6,
   "metadata": {},
   "outputs": [
    {
     "name": "stderr",
     "output_type": "stream",
     "text": [
      "100%|██████████| 30/30 [18:57<00:00, 37.92s/it]"
     ]
    },
    {
     "name": "stdout",
     "output_type": "stream",
     "text": [
      "23.743265995033656 19 12 11\n"
     ]
    },
    {
     "name": "stderr",
     "output_type": "stream",
     "text": [
      "\n"
     ]
    }
   ],
   "source": [
    "min_mae = 99999\n",
    "min_i, min_j, min_k = 0, 0, 0\n",
    "for i in tqdm(range(1, 31)):\n",
    "    for j in range(1, 31):\n",
    "        for k in range(2, 50, 1):\n",
    "            RF_regr_a = RandomForestRegressor(max_depth=i, \n",
    "                                            n_estimators=j, \n",
    "                                            max_features=k,\n",
    "                                            random_state=45)\n",
    "            RF_regr_a.fit(X_train_a, np.ravel(Y_train_a))\n",
    "            RF_Y_pred_a = pd.DataFrame(RF_regr_a.predict(X_test_a))\n",
    "\n",
    "            mae = mean_absolute_error(Y_test_a, RF_Y_pred_a)\n",
    "            if (min_mae > mae):\n",
    "                min_mae = mae\n",
    "                min_i = i\n",
    "                min_j = j\n",
    "                min_k = k\n",
    "            \n",
    "print(min_mae, min_i, min_j, min_k)"
   ]
  },
  {
   "cell_type": "code",
   "execution_count": null,
   "metadata": {},
   "outputs": [],
   "source": []
  },
  {
   "cell_type": "markdown",
   "metadata": {},
   "source": [
    "### 4E. K Neighbors"
   ]
  },
  {
   "cell_type": "code",
   "execution_count": 7,
   "metadata": {},
   "outputs": [
    {
     "name": "stderr",
     "output_type": "stream",
     "text": [
      "100%|██████████| 39/39 [00:19<00:00,  1.98it/s]"
     ]
    },
    {
     "name": "stdout",
     "output_type": "stream",
     "text": [
      "25.05050505151515 1 1\n"
     ]
    },
    {
     "name": "stderr",
     "output_type": "stream",
     "text": [
      "\n"
     ]
    }
   ],
   "source": [
    "min_mae = 99999\n",
    "min_i, min_j = 0, 0\n",
    "\n",
    "for i in tqdm(range(1, 40)):\n",
    "    for j in range(1, 40):\n",
    "\n",
    "        KNN_reg_a = KNeighborsRegressor(n_neighbors=i, \n",
    "                                      p=j).fit(X_train_a, np.ravel(Y_train_a))\n",
    "\n",
    "        KNN_Y_pred_a = KNN_reg_a.predict(X_test_a)\n",
    "\n",
    "        mae = mean_absolute_error(Y_test_a, KNN_Y_pred_a)\n",
    "\n",
    "        if (min_mae > mae):\n",
    "            min_mae = mae\n",
    "            min_i = i\n",
    "            min_j = j\n",
    "\n",
    "print(min_mae, min_i, min_j)"
   ]
  },
  {
   "cell_type": "markdown",
   "metadata": {},
   "source": [
    "### Saving model"
   ]
  },
  {
   "cell_type": "code",
   "execution_count": 56,
   "metadata": {},
   "outputs": [
    {
     "data": {
      "text/plain": [
       "['./model_SO_abs_DecisionTree.joblib']"
      ]
     },
     "execution_count": 56,
     "metadata": {},
     "output_type": "execute_result"
    }
   ],
   "source": [
    "DT_regr_a = DecisionTreeRegressor(max_depth=20,\n",
    "                                max_features=20,\n",
    "                                random_state=12)\n",
    "DT_regr_a.fit(X_train_a, np.ravel(Y_train_a))\n",
    "DT_Y_pred_a = pd.DataFrame(DT_regr_a.predict(X_test_a))\n",
    "\n",
    "joblib.dump(DT_regr_a, \"./model_SO_abs_DecisionTree.joblib\")"
   ]
  },
  {
   "cell_type": "markdown",
   "metadata": {},
   "source": [
    "## Analyzing"
   ]
  },
  {
   "cell_type": "code",
   "execution_count": 83,
   "metadata": {
    "scrolled": true
   },
   "outputs": [
    {
     "name": "stdout",
     "output_type": "stream",
     "text": [
      "Outputs           R2    Mean absolute error    Mean squared error    Root mean squared error\n",
      "----------  --------  ---------------------  --------------------  -------------------------\n",
      "Diameter    0.722382               0.332323               0.29973                   0.547476\n",
      "Absorption  0.715759              20.596               1033.21                     32.1436\n",
      "Emission    0.838137              11.4646               405.795                    20.1443\n"
     ]
    }
   ],
   "source": [
    "## Diameter\n",
    "\n",
    "DT_regr = DecisionTreeRegressor(max_depth=20,\n",
    "                                max_features=16,\n",
    "                                random_state=28)\n",
    "DT_regr.fit(X_train_d, np.ravel(Y_train_d))\n",
    "DT_Y_pred_d = DT_regr.predict(X_test_d)\n",
    "\n",
    "D_mae = mean_absolute_error(Y_test_d, DT_Y_pred_d)\n",
    "D_r_2 = r2_score(Y_test_d, DT_Y_pred_d)\n",
    "D_mse = mean_squared_error(Y_test_d, DT_Y_pred_d)\n",
    "D_rmse = mean_squared_error(Y_test_d, DT_Y_pred_d, squared=False)\n",
    "\n",
    "## Emission\n",
    "\n",
    "ET_regr_e = ExtraTreesRegressor(n_estimators=1,\n",
    "                            max_features=19,     \n",
    "                            random_state=10).fit(X_train_e, np.ravel(Y_train_e))\n",
    "                  \n",
    "ET_Y_pred_e = ET_regr_e.predict(X_test_e)\n",
    "\n",
    "E_mae = mean_absolute_error(Y_test_e, ET_Y_pred_e)\n",
    "E_r_2 = r2_score(Y_test_e, ET_Y_pred_e)\n",
    "E_mse = mean_squared_error(Y_test_e, ET_Y_pred_e)\n",
    "E_rmse = mean_squared_error(Y_test_e, ET_Y_pred_e, squared=False)\n",
    "\n",
    "\n",
    "### Absorption\n",
    "\n",
    "DT_regr_a = DecisionTreeRegressor(max_depth=20,\n",
    "                                max_features=20,\n",
    "                                random_state=12).fit(X_train_a, np.ravel(Y_train_a))\n",
    "DT_Y_pred_a = DT_regr_a.predict(X_test_a)\n",
    "\n",
    "A_mae = mean_absolute_error(Y_test_a, DT_Y_pred_a)\n",
    "A_r_2 = r2_score(Y_test_a, DT_Y_pred_a)\n",
    "A_mse = mean_squared_error(Y_test_a, DT_Y_pred_a)\n",
    "A_rmse = mean_squared_error(Y_test_a, DT_Y_pred_a, squared=False)\n",
    "\n",
    "\n",
    "from tabulate import tabulate\n",
    "\n",
    "d = [ [\"Diameter\", D_r_2, D_mae, D_mse, D_rmse],\n",
    "     [\"Absorption\", A_r_2, A_mae, A_mse, A_rmse],\n",
    "     [\"Emission\", E_r_2, E_mae, E_mse, E_rmse]]\n",
    "\n",
    "print(tabulate(d, headers=[\"Outputs\", \"R2\", \"Mean absolute error\", \"Mean squared error\", \"Root mean squared error\"]))"
   ]
  },
  {
   "cell_type": "code",
   "execution_count": 79,
   "metadata": {},
   "outputs": [
    {
     "data": {
      "image/png": "[encoded data removed]",
      "text/plain": [
       "<Figure size 1440x360 with 3 Axes>"
      ]
     },
     "metadata": {
      "needs_background": "light"
     },
     "output_type": "display_data"
    }
   ],
   "source": [
    "fig, (ax1, ax2, ax3) = plt.subplots(1, 3, figsize=(20,5))\n",
    "fig.suptitle('Single Outputs', fontsize=25)\n",
    "\n",
    "ax1.plot(Y_test_d, DT_Y_pred_d,'o')\n",
    "ax1.plot([1,6.5],[1,6.5], color = 'r')\n",
    "ax1.set_title('Diameter')\n",
    "ax1.set(xlabel='Observed Values (nm)', ylabel='Predicted Values (nm)')\n",
    "\n",
    "ax2.plot(Y_test_a, DT_Y_pred_a,'o')\n",
    "ax2.plot([400,750],[400,750], color = 'r')\n",
    "ax2.set_title('Absorption')\n",
    "ax2.set(xlabel='Observed Values (nm)', ylabel='Predicted Values (nm)')\n",
    "\n",
    "ax3.plot(Y_test_e, ET_Y_pred_e,'o')\n",
    "ax3.plot([450,800],[450,800], color = 'r')\n",
    "ax3.set_title('Emission')\n",
    "ax3.set(xlabel='Observed Values (nm)', ylabel='Predicted Values (nm)')\n",
    "\n",
    "\n",
    "fig.tight_layout()"
   ]
  },
  {
   "cell_type": "markdown",
   "metadata": {},
   "source": [
    "## Feature importance"
   ]
  },
  {
   "cell_type": "markdown",
   "metadata": {},
   "source": [
    "### For diameter prediction"
   ]
  },
  {
   "cell_type": "code",
   "execution_count": 94,
   "metadata": {},
   "outputs": [
    {
     "data": {
      "text/plain": [
       "[('temp_c', 0.2197705845090209),\n",
       " ('time_min', 0.14861232814590902),\n",
       " ('x7_None', 0.09849710216892996),\n",
       " ('amine_amount_mmol', 0.0858852953673919),\n",
       " ('total_volume_ml', 0.07233345402138885),\n",
       " ('TOP_amount_mmol', 0.07109420883009378),\n",
       " ('x1_phosphine gas', 0.05891206796682794),\n",
       " ('x7_zinc iodide', 0.03746051309755293),\n",
       " ('x8_water', 0.034318177872038086),\n",
       " ('acid_amount_mmol', 0.02603300508947207),\n",
       " ('p_amount_mmol', 0.02098466258492522),\n",
       " ('x7_zinc chloride', 0.020344198969800435),\n",
       " ('x5_None', 0.015394351654261793),\n",
       " ('other_amount_mmol', 0.013926791047683594),\n",
       " ('x7_zinc bromide', 0.013366648584885725),\n",
       " ('x4_lauric acid', 0.012647803374373634),\n",
       " ('x0_indium chloride', 0.011207738505694315),\n",
       " ('x4_stearic acid', 0.00846879917214322),\n",
       " ('in_amount_mmol', 0.008174599777625944),\n",
       " ('x3_trioctylphosphine', 0.007182732083198252),\n",
       " ('x0_indium iodide', 0.0044419972903610395),\n",
       " ('sol_amount_ml', 0.0041175291495416004),\n",
       " ('zinc_amount_mmol', 0.001882284230793519),\n",
       " ('x1_sodium phosphide', 0.0011107749826918332),\n",
       " ('x0_chloroindium oxalate', 0.0010142211310188397),\n",
       " ('x1_white phosphorus', 0.0007901088126605949),\n",
       " ('x1_tris(diethylamino)phosphine', 0.0006969727612362411),\n",
       " ('x4_oleic acid', 0.0005885290156961018),\n",
       " ('x7_zinc octanoate', 0.0002597951587898269),\n",
       " ('x1_tris(trimethylgermyl)phosphine', 0.0002575310295881337),\n",
       " ('x5_dioctylamine', 9.817660548262368e-05),\n",
       " ('x0_indium bromide', 6.744946138633628e-05),\n",
       " ('x0_indium acetate', 3.975746833593852e-05),\n",
       " ('x4_palmitic acid', 1.5482735707130097e-05),\n",
       " ('x0_indium myristate', 3.2455076192602868e-06),\n",
       " ('x1_tris(dimethylamino)phosphine', 1.0818358733071612e-06),\n",
       " ('thiol_amount_mmol', 0.0),\n",
       " ('x0_indium oxalate', 0.0),\n",
       " ('x0_indium palmitate', 0.0),\n",
       " ('x0_indium trifluoroacetate', 0.0),\n",
       " ('x0_indium tris(N,N-diisopropylacetamidinato)', 0.0),\n",
       " ('x1_bis(trimethylsilyl)phosphine', 0.0),\n",
       " ('x1_phosphorus trichloride', 0.0),\n",
       " ('x1_tris(trimethylsilyl)phosphine', 0.0),\n",
       " ('x2_4-ethylpyridine', 0.0),\n",
       " ('x2_None', 0.0),\n",
       " ('x2_dimethylformamide', 0.0),\n",
       " ('x2_mesitylene', 0.0),\n",
       " ('x2_octadecene', 0.0),\n",
       " ('x2_toluene', 0.0),\n",
       " ('x3_None', 0.0),\n",
       " ('x4_None', 0.0),\n",
       " ('x4_myristic acid', 0.0),\n",
       " ('x5_dodecylamine', 0.0),\n",
       " ('x5_hexadecylamine', 0.0),\n",
       " ('x5_octylamine', 0.0),\n",
       " ('x5_oleylamine', 0.0),\n",
       " ('x6_None', 0.0),\n",
       " ('x6_dodecanethiol', 0.0),\n",
       " ('x7_zinc acetate', 0.0),\n",
       " ('x7_zinc oleate', 0.0),\n",
       " ('x7_zinc stearate', 0.0),\n",
       " ('x7_zinc undecylenate', 0.0),\n",
       " ('x8_None', 0.0),\n",
       " ('x8_acetic acid', 0.0),\n",
       " ('x8_copper bromide', 0.0),\n",
       " ('x8_superhydride', 0.0),\n",
       " ('x8_oleic acid', 0.0),\n",
       " ('x8_tetrabutylammonium myristate', 0.0),\n",
       " ('x8_trioctylamine', 0.0),\n",
       " ('x8_trioctylphosphine oxide', 0.0)]"
      ]
     },
     "execution_count": 94,
     "metadata": {},
     "output_type": "execute_result"
    }
   ],
   "source": [
    "importance_dict_d = dict()\n",
    "for i in range(0,71):\n",
    "    importance_dict_d[input_col[i]] = DT_regr_d.feature_importances_[i]\n",
    "\n",
    "sorted_importance_d = sorted(importance_dict_d.items(), key=lambda x: x[1], reverse=True)\n",
    "\n",
    "sorted_importance\n"
   ]
  },
  {
   "cell_type": "code",
   "execution_count": 95,
   "metadata": {},
   "outputs": [
    {
     "data": {
      "image/png": "[encoded data removed]",
      "text/plain": [
       "<Figure size 1490.4x595.44 with 1 Axes>"
      ]
     },
     "metadata": {},
     "output_type": "display_data"
    }
   ],
   "source": [
    "top7_d = DataFrame(sorted_importance_d[0:7], columns=['features', 'importance score'])\n",
    "\n",
    "others_d = DataFrame(sorted_importance_d[7:], columns=['features', 'importance score'])\n",
    "\n",
    "\n",
    "import seaborn as sns\n",
    "\n",
    "a4_dims = (20.7, 8.27)\n",
    "fig, ax = plt.subplots(figsize=a4_dims)\n",
    "sns.set_theme(style=\"whitegrid\")\n",
    "\n",
    "ax = sns.barplot(x=\"features\", y=\"importance score\", data=top7_d)"
   ]
  },
  {
   "cell_type": "markdown",
   "metadata": {},
   "source": [
    "### Emission prediction"
   ]
  },
  {
   "cell_type": "code",
   "execution_count": 96,
   "metadata": {},
   "outputs": [
    {
     "data": {
      "text/plain": [
       "[('x7_None', 0.14971628146089888),\n",
       " ('x0_indium oxalate', 0.11635116977876782),\n",
       " ('time_min', 0.10622227690585892),\n",
       " ('temp_c', 0.10591548312275978),\n",
       " ('x7_zinc iodide', 0.08309065786184468),\n",
       " ('x0_indium chloride', 0.07286107842374984),\n",
       " ('total_volume_ml', 0.037688035517084724),\n",
       " ('x1_phosphine gas', 0.03762058546484096),\n",
       " ('x7_zinc oleate', 0.03567404522182629),\n",
       " ('other_amount_mmol', 0.03563128809048837),\n",
       " ('in_amount_mmol', 0.029260170543899518),\n",
       " ('x7_zinc bromide', 0.025157258792322324),\n",
       " ('x3_None', 0.02480400023861778),\n",
       " ('x4_None', 0.02208329873378935),\n",
       " ('x5_dioctylamine', 0.016932496785663276),\n",
       " ('acid_amount_mmol', 0.01690420028341343),\n",
       " ('x1_white phosphorus', 0.014194439316321302),\n",
       " ('x0_indium bromide', 0.011765868416090246),\n",
       " ('p_amount_mmol', 0.009317873357110006),\n",
       " ('TOP_amount_mmol', 0.007694884946928168),\n",
       " ('x4_lauric acid', 0.005549274401949622),\n",
       " ('x8_None', 0.005126392434083934),\n",
       " ('sol_amount_ml', 0.004495168820410586),\n",
       " ('x2_octadecene', 0.0040412340577390665),\n",
       " ('x0_indium acetate', 0.0038873002169885987),\n",
       " ('amine_amount_mmol', 0.002949798896391485),\n",
       " ('x6_None', 0.0027332497592404423),\n",
       " ('x2_None', 0.0027175572972768895),\n",
       " ('x4_stearic acid', 0.0014597403678268163),\n",
       " ('x5_None', 0.0014476081550504653),\n",
       " ('x1_tris(trimethylsilyl)phosphine', 0.001250409631064245),\n",
       " ('x1_tris(diethylamino)phosphine', 0.0011306604559565374),\n",
       " ('x5_dodecylamine', 0.0010130618729403006),\n",
       " ('x1_tris(dimethylamino)phosphine', 0.0007872841809204974),\n",
       " ('x4_palmitic acid', 0.0006748870040217654),\n",
       " ('x7_zinc chloride', 0.0006392625218902292),\n",
       " ('zinc_amount_mmol', 0.0005367478526171136),\n",
       " ('x4_oleic acid', 0.00027872601795148055),\n",
       " ('x4_myristic acid', 0.00022448348056613467),\n",
       " ('x7_zinc stearate', 0.00017175931283809845),\n",
       " ('thiol_amount_mmol', 0.0),\n",
       " ('x0_chloroindium oxalate', 0.0),\n",
       " ('x0_indium iodide', 0.0),\n",
       " ('x0_indium myristate', 0.0),\n",
       " ('x0_indium palmitate', 0.0),\n",
       " ('x0_indium trifluoroacetate', 0.0),\n",
       " ('x0_indium tris(N,N-diisopropylacetamidinato)', 0.0),\n",
       " ('x1_bis(trimethylsilyl)phosphine', 0.0),\n",
       " ('x1_phosphorus trichloride', 0.0),\n",
       " ('x1_sodium phosphide', 0.0),\n",
       " ('x1_tris(trimethylgermyl)phosphine', 0.0),\n",
       " ('x2_4-ethylpyridine', 0.0),\n",
       " ('x2_dimethylformamide', 0.0),\n",
       " ('x2_mesitylene', 0.0),\n",
       " ('x2_toluene', 0.0),\n",
       " ('x3_trioctylphosphine', 0.0),\n",
       " ('x5_hexadecylamine', 0.0),\n",
       " ('x5_octylamine', 0.0),\n",
       " ('x5_oleylamine', 0.0),\n",
       " ('x6_dodecanethiol', 0.0),\n",
       " ('x7_zinc acetate', 0.0),\n",
       " ('x7_zinc octanoate', 0.0),\n",
       " ('x7_zinc undecylenate', 0.0),\n",
       " ('x8_acetic acid', 0.0),\n",
       " ('x8_copper bromide', 0.0),\n",
       " ('x8_superhydride', 0.0),\n",
       " ('x8_oleic acid', 0.0),\n",
       " ('x8_tetrabutylammonium myristate', 0.0),\n",
       " ('x8_trioctylamine', 0.0),\n",
       " ('x8_trioctylphosphine oxide', 0.0),\n",
       " ('x8_water', 0.0)]"
      ]
     },
     "execution_count": 96,
     "metadata": {},
     "output_type": "execute_result"
    }
   ],
   "source": [
    "importance_dict_e = dict()\n",
    "for i in range(0,71):\n",
    "    importance_dict_e[input_col[i]] = ET_regr_e.feature_importances_[i]\n",
    "\n",
    "sorted_importance_e = sorted(importance_dict_e.items(), key=lambda x: x[1], reverse=True)\n",
    "\n",
    "\n",
    "sorted_importance_e\n"
   ]
  },
  {
   "cell_type": "code",
   "execution_count": 97,
   "metadata": {},
   "outputs": [
    {
     "data": {
      "image/png": "[encoded data removed]",
      "text/plain": [
       "<Figure size 1490.4x595.44 with 1 Axes>"
      ]
     },
     "metadata": {},
     "output_type": "display_data"
    }
   ],
   "source": [
    "top7_e = DataFrame(sorted_importance_e[0:7], columns=['features', 'importance score'])\n",
    "\n",
    "others_e = DataFrame(sorted_importance_e[7:], columns=['features', 'importance score'])\n",
    "\n",
    "# combined_others2 = pd.DataFrame(data = {\n",
    "#     'features' : ['others'],\n",
    "#     'importance score' : [others2['importance score'].sum()]\n",
    "# })\n",
    "\n",
    "# #combining top 10 with others\n",
    "# imp_score2 = pd.concat([top7, combined_others2])\n",
    "\n",
    "import seaborn as sns\n",
    "\n",
    "a4_dims = (20.7, 8.27)\n",
    "fig, ax = plt.subplots(figsize=a4_dims)\n",
    "sns.set_theme(style=\"whitegrid\")\n",
    "\n",
    "ax = sns.barplot(x=\"features\", y=\"importance score\", data=top7_e)"
   ]
  },
  {
   "cell_type": "markdown",
   "metadata": {},
   "source": [
    "### Absorption prediction"
   ]
  },
  {
   "cell_type": "code",
   "execution_count": 98,
   "metadata": {},
   "outputs": [
    {
     "data": {
      "text/plain": [
       "[('temp_c', 0.2197705845090209),\n",
       " ('time_min', 0.14861232814590902),\n",
       " ('x7_None', 0.09849710216892996),\n",
       " ('amine_amount_mmol', 0.0858852953673919),\n",
       " ('total_volume_ml', 0.07233345402138885),\n",
       " ('TOP_amount_mmol', 0.07109420883009378),\n",
       " ('x1_phosphine gas', 0.05891206796682794),\n",
       " ('x7_zinc iodide', 0.03746051309755293),\n",
       " ('x8_water', 0.034318177872038086),\n",
       " ('acid_amount_mmol', 0.02603300508947207),\n",
       " ('p_amount_mmol', 0.02098466258492522),\n",
       " ('x7_zinc chloride', 0.020344198969800435),\n",
       " ('x5_None', 0.015394351654261793),\n",
       " ('other_amount_mmol', 0.013926791047683594),\n",
       " ('x7_zinc bromide', 0.013366648584885725),\n",
       " ('x4_lauric acid', 0.012647803374373634),\n",
       " ('x0_indium chloride', 0.011207738505694315),\n",
       " ('x4_stearic acid', 0.00846879917214322),\n",
       " ('in_amount_mmol', 0.008174599777625944),\n",
       " ('x3_trioctylphosphine', 0.007182732083198252),\n",
       " ('x0_indium iodide', 0.0044419972903610395),\n",
       " ('sol_amount_ml', 0.0041175291495416004),\n",
       " ('zinc_amount_mmol', 0.001882284230793519),\n",
       " ('x1_sodium phosphide', 0.0011107749826918332),\n",
       " ('x0_chloroindium oxalate', 0.0010142211310188397),\n",
       " ('x1_white phosphorus', 0.0007901088126605949),\n",
       " ('x1_tris(diethylamino)phosphine', 0.0006969727612362411),\n",
       " ('x4_oleic acid', 0.0005885290156961018),\n",
       " ('x7_zinc octanoate', 0.0002597951587898269),\n",
       " ('x1_tris(trimethylgermyl)phosphine', 0.0002575310295881337),\n",
       " ('x5_dioctylamine', 9.817660548262368e-05),\n",
       " ('x0_indium bromide', 6.744946138633628e-05),\n",
       " ('x0_indium acetate', 3.975746833593852e-05),\n",
       " ('x4_palmitic acid', 1.5482735707130097e-05),\n",
       " ('x0_indium myristate', 3.2455076192602868e-06),\n",
       " ('x1_tris(dimethylamino)phosphine', 1.0818358733071612e-06),\n",
       " ('thiol_amount_mmol', 0.0),\n",
       " ('x0_indium oxalate', 0.0),\n",
       " ('x0_indium palmitate', 0.0),\n",
       " ('x0_indium trifluoroacetate', 0.0),\n",
       " ('x0_indium tris(N,N-diisopropylacetamidinato)', 0.0),\n",
       " ('x1_bis(trimethylsilyl)phosphine', 0.0),\n",
       " ('x1_phosphorus trichloride', 0.0),\n",
       " ('x1_tris(trimethylsilyl)phosphine', 0.0),\n",
       " ('x2_4-ethylpyridine', 0.0),\n",
       " ('x2_None', 0.0),\n",
       " ('x2_dimethylformamide', 0.0),\n",
       " ('x2_mesitylene', 0.0),\n",
       " ('x2_octadecene', 0.0),\n",
       " ('x2_toluene', 0.0),\n",
       " ('x3_None', 0.0),\n",
       " ('x4_None', 0.0),\n",
       " ('x4_myristic acid', 0.0),\n",
       " ('x5_dodecylamine', 0.0),\n",
       " ('x5_hexadecylamine', 0.0),\n",
       " ('x5_octylamine', 0.0),\n",
       " ('x5_oleylamine', 0.0),\n",
       " ('x6_None', 0.0),\n",
       " ('x6_dodecanethiol', 0.0),\n",
       " ('x7_zinc acetate', 0.0),\n",
       " ('x7_zinc oleate', 0.0),\n",
       " ('x7_zinc stearate', 0.0),\n",
       " ('x7_zinc undecylenate', 0.0),\n",
       " ('x8_None', 0.0),\n",
       " ('x8_acetic acid', 0.0),\n",
       " ('x8_copper bromide', 0.0),\n",
       " ('x8_superhydride', 0.0),\n",
       " ('x8_oleic acid', 0.0),\n",
       " ('x8_tetrabutylammonium myristate', 0.0),\n",
       " ('x8_trioctylamine', 0.0),\n",
       " ('x8_trioctylphosphine oxide', 0.0)]"
      ]
     },
     "execution_count": 98,
     "metadata": {},
     "output_type": "execute_result"
    }
   ],
   "source": [
    "importance_dict_a = dict()\n",
    "for i in range(0,71):\n",
    "    importance_dict_a[input_col[i]] = DT_regr_a.feature_importances_[i]\n",
    "\n",
    "sorted_importance_a = sorted(importance_dict_a.items(), key=lambda x: x[1], reverse=True)\n",
    "\n",
    "sorted_importance"
   ]
  },
  {
   "cell_type": "code",
   "execution_count": 101,
   "metadata": {},
   "outputs": [
    {
     "data": {
      "image/png": "[encoded data removed]",
      "text/plain": [
       "<Figure size 1490.4x595.44 with 1 Axes>"
      ]
     },
     "metadata": {},
     "output_type": "display_data"
    }
   ],
   "source": [
    "top7_a = DataFrame(sorted_importance_a[0:7], columns=['features', 'importance score'])\n",
    "\n",
    "others_a = DataFrame(sorted_importance_a[7:], columns=['features', 'importance score'])\n",
    "import seaborn as sns\n",
    "\n",
    "a4_dims = (20.7, 8.27)\n",
    "fig, ax = plt.subplots(figsize=a4_dims)\n",
    "sns.set_theme(style=\"whitegrid\")\n",
    "\n",
    "ax = sns.barplot(x=\"features\", y=\"importance score\", data=top7_a)"
   ]
  },
  {
   "cell_type": "markdown",
   "metadata": {},
   "source": [
    "### Combine\n"
   ]
  },
  {
   "cell_type": "code",
   "execution_count": 113,
   "metadata": {},
   "outputs": [
    {
     "data": {
      "text/plain": [
       "0.0005367478526171136"
      ]
     },
     "execution_count": 113,
     "metadata": {},
     "output_type": "execute_result"
    }
   ],
   "source": [
    "sorted_e[0][1]"
   ]
  },
  {
   "cell_type": "code",
   "execution_count": 112,
   "metadata": {
    "scrolled": true
   },
   "outputs": [
    {
     "data": {
      "text/plain": [
       "0.0024190320834106323"
      ]
     },
     "execution_count": 112,
     "metadata": {},
     "output_type": "execute_result"
    }
   ],
   "source": [
    "sorted_e[0][1] + sorted_a[0][1]"
   ]
  },
  {
   "cell_type": "code",
   "execution_count": null,
   "metadata": {},
   "outputs": [],
   "source": [
    "for i in range(0,71):\n",
    "    "
   ]
  }
 ],
 "metadata": {
  "kernelspec": {
   "display_name": "Python 3",
   "language": "python",
   "name": "python3"
  },
  "language_info": {
   "codemirror_mode": {
    "name": "ipython",
    "version": 3
   },
   "file_extension": ".py",
   "mimetype": "text/x-python",
   "name": "python",
   "nbconvert_exporter": "python",
   "pygments_lexer": "ipython3",
   "version": "3.8.5"
  }
 },
 "nbformat": 4,
 "nbformat_minor": 4
}
