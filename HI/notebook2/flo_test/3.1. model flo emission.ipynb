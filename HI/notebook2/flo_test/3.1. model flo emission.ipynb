{
 "cells": [
  {
   "cell_type": "code",
   "execution_count": 1,
   "metadata": {},
   "outputs": [],
   "source": [
    "# Pandas library for the pandas dataframes\n",
    "import pandas as pd\n",
    "from pandas import DataFrame\n",
    "import numpy as np\n",
    "import scipy.stats as stats\n",
    "import scipy\n",
    "\n",
    "\n",
    "\n",
    "# Import Scikit-Learn library for decision tree models\n",
    "import sklearn \n",
    "\n",
    "from sklearn import datasets, linear_model, metrics, tree\n",
    "from sklearn.utils import resample\n",
    "\n",
    "from sklearn.tree import DecisionTreeRegressor\n",
    "\n",
    "from sklearn.ensemble import BaggingRegressor, ExtraTreesRegressor, GradientBoostingRegressor, RandomForestRegressor\n",
    "\n",
    "from sklearn.linear_model import ElasticNet, Lasso,  RidgeCV\n",
    "\n",
    "from sklearn.neighbors import KNeighborsRegressor\n",
    "\n",
    "        \n",
    "# Dataset splitting        \n",
    "from sklearn.model_selection import train_test_split, LeaveOneOut, KFold, cross_validate, RandomizedSearchCV\n",
    "\n",
    "# Errors\n",
    "from sklearn.metrics import r2_score, mean_squared_error, mean_absolute_error, accuracy_score\n",
    "\n",
    "from matplotlib import pyplot as plt\n",
    "\n",
    "from tqdm import tqdm\n",
    "\n",
    "import os\n",
    "import joblib\n",
    "\n"
   ]
  },
  {
   "cell_type": "code",
   "execution_count": 2,
   "metadata": {
    "scrolled": true
   },
   "outputs": [
    {
     "data": {
      "text/html": [
       "<div>\n",
       "<style scoped>\n",
       "    .dataframe tbody tr th:only-of-type {\n",
       "        vertical-align: middle;\n",
       "    }\n",
       "\n",
       "    .dataframe tbody tr th {\n",
       "        vertical-align: top;\n",
       "    }\n",
       "\n",
       "    .dataframe thead th {\n",
       "        text-align: right;\n",
       "    }\n",
       "</style>\n",
       "<table border=\"1\" class=\"dataframe\">\n",
       "  <thead>\n",
       "    <tr style=\"text-align: right;\">\n",
       "      <th></th>\n",
       "      <th>Unnamed: 0</th>\n",
       "      <th>Unnamed: 0.1</th>\n",
       "      <th>Unnamed: 0.1.1</th>\n",
       "      <th>in_amount_mmol</th>\n",
       "      <th>p_amount_mmol</th>\n",
       "      <th>ligand_amount_mmol</th>\n",
       "      <th>first_sol_amount_ml</th>\n",
       "      <th>second_sol_amount_ml</th>\n",
       "      <th>other_1_amount_mmol</th>\n",
       "      <th>other_2_amount_mmol</th>\n",
       "      <th>...</th>\n",
       "      <th>x5_zinc undecylenate</th>\n",
       "      <th>x6_None</th>\n",
       "      <th>x6_copper bromide</th>\n",
       "      <th>x6_oleic acid</th>\n",
       "      <th>x6_trioctylphosphine</th>\n",
       "      <th>x6_water</th>\n",
       "      <th>x6_zinc iodide</th>\n",
       "      <th>diameter_nm</th>\n",
       "      <th>abs_nm</th>\n",
       "      <th>emission_nm</th>\n",
       "    </tr>\n",
       "  </thead>\n",
       "  <tbody>\n",
       "    <tr>\n",
       "      <th>0</th>\n",
       "      <td>0</td>\n",
       "      <td>0</td>\n",
       "      <td>0</td>\n",
       "      <td>0.154575</td>\n",
       "      <td>-0.011188</td>\n",
       "      <td>-0.247025</td>\n",
       "      <td>-0.673379</td>\n",
       "      <td>-0.370637</td>\n",
       "      <td>0.865472</td>\n",
       "      <td>-0.156742</td>\n",
       "      <td>...</td>\n",
       "      <td>0.0</td>\n",
       "      <td>1.0</td>\n",
       "      <td>0.0</td>\n",
       "      <td>0.0</td>\n",
       "      <td>0.0</td>\n",
       "      <td>0.0</td>\n",
       "      <td>0.0</td>\n",
       "      <td>None</td>\n",
       "      <td>480.0</td>\n",
       "      <td>539</td>\n",
       "    </tr>\n",
       "    <tr>\n",
       "      <th>1</th>\n",
       "      <td>2</td>\n",
       "      <td>2</td>\n",
       "      <td>2</td>\n",
       "      <td>-0.423738</td>\n",
       "      <td>-0.412509</td>\n",
       "      <td>-0.439228</td>\n",
       "      <td>-0.655198</td>\n",
       "      <td>-0.370637</td>\n",
       "      <td>0.457150</td>\n",
       "      <td>-0.156742</td>\n",
       "      <td>...</td>\n",
       "      <td>0.0</td>\n",
       "      <td>1.0</td>\n",
       "      <td>0.0</td>\n",
       "      <td>0.0</td>\n",
       "      <td>0.0</td>\n",
       "      <td>0.0</td>\n",
       "      <td>0.0</td>\n",
       "      <td>None</td>\n",
       "      <td>560.0</td>\n",
       "      <td>595</td>\n",
       "    </tr>\n",
       "    <tr>\n",
       "      <th>2</th>\n",
       "      <td>3</td>\n",
       "      <td>3</td>\n",
       "      <td>3</td>\n",
       "      <td>-0.423738</td>\n",
       "      <td>-0.412509</td>\n",
       "      <td>-0.439228</td>\n",
       "      <td>-0.655198</td>\n",
       "      <td>-0.370637</td>\n",
       "      <td>0.457150</td>\n",
       "      <td>-0.156742</td>\n",
       "      <td>...</td>\n",
       "      <td>0.0</td>\n",
       "      <td>1.0</td>\n",
       "      <td>0.0</td>\n",
       "      <td>0.0</td>\n",
       "      <td>0.0</td>\n",
       "      <td>0.0</td>\n",
       "      <td>0.0</td>\n",
       "      <td>None</td>\n",
       "      <td>590.0</td>\n",
       "      <td>635</td>\n",
       "    </tr>\n",
       "    <tr>\n",
       "      <th>3</th>\n",
       "      <td>4</td>\n",
       "      <td>4</td>\n",
       "      <td>4</td>\n",
       "      <td>0.154575</td>\n",
       "      <td>-0.011188</td>\n",
       "      <td>-0.247025</td>\n",
       "      <td>-0.604513</td>\n",
       "      <td>-0.370637</td>\n",
       "      <td>0.865472</td>\n",
       "      <td>-0.156742</td>\n",
       "      <td>...</td>\n",
       "      <td>0.0</td>\n",
       "      <td>1.0</td>\n",
       "      <td>0.0</td>\n",
       "      <td>0.0</td>\n",
       "      <td>0.0</td>\n",
       "      <td>0.0</td>\n",
       "      <td>0.0</td>\n",
       "      <td>None</td>\n",
       "      <td>429.5</td>\n",
       "      <td>500</td>\n",
       "    </tr>\n",
       "    <tr>\n",
       "      <th>4</th>\n",
       "      <td>5</td>\n",
       "      <td>5</td>\n",
       "      <td>5</td>\n",
       "      <td>0.154575</td>\n",
       "      <td>-0.011188</td>\n",
       "      <td>-0.247025</td>\n",
       "      <td>-0.604513</td>\n",
       "      <td>-0.370637</td>\n",
       "      <td>0.865472</td>\n",
       "      <td>-0.156742</td>\n",
       "      <td>...</td>\n",
       "      <td>0.0</td>\n",
       "      <td>1.0</td>\n",
       "      <td>0.0</td>\n",
       "      <td>0.0</td>\n",
       "      <td>0.0</td>\n",
       "      <td>0.0</td>\n",
       "      <td>0.0</td>\n",
       "      <td>None</td>\n",
       "      <td>429.5</td>\n",
       "      <td>520</td>\n",
       "    </tr>\n",
       "    <tr>\n",
       "      <th>...</th>\n",
       "      <td>...</td>\n",
       "      <td>...</td>\n",
       "      <td>...</td>\n",
       "      <td>...</td>\n",
       "      <td>...</td>\n",
       "      <td>...</td>\n",
       "      <td>...</td>\n",
       "      <td>...</td>\n",
       "      <td>...</td>\n",
       "      <td>...</td>\n",
       "      <td>...</td>\n",
       "      <td>...</td>\n",
       "      <td>...</td>\n",
       "      <td>...</td>\n",
       "      <td>...</td>\n",
       "      <td>...</td>\n",
       "      <td>...</td>\n",
       "      <td>...</td>\n",
       "      <td>...</td>\n",
       "      <td>...</td>\n",
       "      <td>...</td>\n",
       "    </tr>\n",
       "    <tr>\n",
       "      <th>80</th>\n",
       "      <td>204</td>\n",
       "      <td>204</td>\n",
       "      <td>204</td>\n",
       "      <td>2.633061</td>\n",
       "      <td>0.718486</td>\n",
       "      <td>5.134675</td>\n",
       "      <td>0.497332</td>\n",
       "      <td>-0.370637</td>\n",
       "      <td>-0.675365</td>\n",
       "      <td>-0.156742</td>\n",
       "      <td>...</td>\n",
       "      <td>0.0</td>\n",
       "      <td>1.0</td>\n",
       "      <td>0.0</td>\n",
       "      <td>0.0</td>\n",
       "      <td>0.0</td>\n",
       "      <td>0.0</td>\n",
       "      <td>0.0</td>\n",
       "      <td>2.4</td>\n",
       "      <td>530.0</td>\n",
       "      <td>579</td>\n",
       "    </tr>\n",
       "    <tr>\n",
       "      <th>81</th>\n",
       "      <td>208</td>\n",
       "      <td>208</td>\n",
       "      <td>208</td>\n",
       "      <td>-0.258506</td>\n",
       "      <td>-0.376025</td>\n",
       "      <td>0.137383</td>\n",
       "      <td>1.461446</td>\n",
       "      <td>1.097051</td>\n",
       "      <td>1.635891</td>\n",
       "      <td>-0.156742</td>\n",
       "      <td>...</td>\n",
       "      <td>0.0</td>\n",
       "      <td>1.0</td>\n",
       "      <td>0.0</td>\n",
       "      <td>0.0</td>\n",
       "      <td>0.0</td>\n",
       "      <td>0.0</td>\n",
       "      <td>0.0</td>\n",
       "      <td>3.5</td>\n",
       "      <td>562.0</td>\n",
       "      <td>618</td>\n",
       "    </tr>\n",
       "    <tr>\n",
       "      <th>82</th>\n",
       "      <td>211</td>\n",
       "      <td>211</td>\n",
       "      <td>211</td>\n",
       "      <td>-0.093273</td>\n",
       "      <td>-0.485476</td>\n",
       "      <td>0.368027</td>\n",
       "      <td>2.081234</td>\n",
       "      <td>-0.370637</td>\n",
       "      <td>-0.675365</td>\n",
       "      <td>-0.156742</td>\n",
       "      <td>...</td>\n",
       "      <td>0.0</td>\n",
       "      <td>1.0</td>\n",
       "      <td>0.0</td>\n",
       "      <td>0.0</td>\n",
       "      <td>0.0</td>\n",
       "      <td>0.0</td>\n",
       "      <td>0.0</td>\n",
       "      <td>2.7</td>\n",
       "      <td>532.0</td>\n",
       "      <td>591</td>\n",
       "    </tr>\n",
       "    <tr>\n",
       "      <th>83</th>\n",
       "      <td>214</td>\n",
       "      <td>214</td>\n",
       "      <td>214</td>\n",
       "      <td>0.154575</td>\n",
       "      <td>-0.376755</td>\n",
       "      <td>0.713993</td>\n",
       "      <td>4.491519</td>\n",
       "      <td>-0.370637</td>\n",
       "      <td>-0.675365</td>\n",
       "      <td>-0.156742</td>\n",
       "      <td>...</td>\n",
       "      <td>0.0</td>\n",
       "      <td>1.0</td>\n",
       "      <td>0.0</td>\n",
       "      <td>0.0</td>\n",
       "      <td>0.0</td>\n",
       "      <td>0.0</td>\n",
       "      <td>0.0</td>\n",
       "      <td>4</td>\n",
       "      <td>585.0</td>\n",
       "      <td>630</td>\n",
       "    </tr>\n",
       "    <tr>\n",
       "      <th>84</th>\n",
       "      <td>215</td>\n",
       "      <td>215</td>\n",
       "      <td>215</td>\n",
       "      <td>7.590031</td>\n",
       "      <td>7.504453</td>\n",
       "      <td>-0.439228</td>\n",
       "      <td>5.524499</td>\n",
       "      <td>-0.370637</td>\n",
       "      <td>-0.675365</td>\n",
       "      <td>-0.156742</td>\n",
       "      <td>...</td>\n",
       "      <td>0.0</td>\n",
       "      <td>1.0</td>\n",
       "      <td>0.0</td>\n",
       "      <td>0.0</td>\n",
       "      <td>0.0</td>\n",
       "      <td>0.0</td>\n",
       "      <td>0.0</td>\n",
       "      <td>None</td>\n",
       "      <td>465.0</td>\n",
       "      <td>550</td>\n",
       "    </tr>\n",
       "  </tbody>\n",
       "</table>\n",
       "<p>85 rows × 79 columns</p>\n",
       "</div>"
      ],
      "text/plain": [
       "    Unnamed: 0  Unnamed: 0.1  Unnamed: 0.1.1  in_amount_mmol  p_amount_mmol  \\\n",
       "0            0             0               0        0.154575      -0.011188   \n",
       "1            2             2               2       -0.423738      -0.412509   \n",
       "2            3             3               3       -0.423738      -0.412509   \n",
       "3            4             4               4        0.154575      -0.011188   \n",
       "4            5             5               5        0.154575      -0.011188   \n",
       "..         ...           ...             ...             ...            ...   \n",
       "80         204           204             204        2.633061       0.718486   \n",
       "81         208           208             208       -0.258506      -0.376025   \n",
       "82         211           211             211       -0.093273      -0.485476   \n",
       "83         214           214             214        0.154575      -0.376755   \n",
       "84         215           215             215        7.590031       7.504453   \n",
       "\n",
       "    ligand_amount_mmol  first_sol_amount_ml  second_sol_amount_ml  \\\n",
       "0            -0.247025            -0.673379             -0.370637   \n",
       "1            -0.439228            -0.655198             -0.370637   \n",
       "2            -0.439228            -0.655198             -0.370637   \n",
       "3            -0.247025            -0.604513             -0.370637   \n",
       "4            -0.247025            -0.604513             -0.370637   \n",
       "..                 ...                  ...                   ...   \n",
       "80            5.134675             0.497332             -0.370637   \n",
       "81            0.137383             1.461446              1.097051   \n",
       "82            0.368027             2.081234             -0.370637   \n",
       "83            0.713993             4.491519             -0.370637   \n",
       "84           -0.439228             5.524499             -0.370637   \n",
       "\n",
       "    other_1_amount_mmol  other_2_amount_mmol  ...  x5_zinc undecylenate  \\\n",
       "0              0.865472            -0.156742  ...                   0.0   \n",
       "1              0.457150            -0.156742  ...                   0.0   \n",
       "2              0.457150            -0.156742  ...                   0.0   \n",
       "3              0.865472            -0.156742  ...                   0.0   \n",
       "4              0.865472            -0.156742  ...                   0.0   \n",
       "..                  ...                  ...  ...                   ...   \n",
       "80            -0.675365            -0.156742  ...                   0.0   \n",
       "81             1.635891            -0.156742  ...                   0.0   \n",
       "82            -0.675365            -0.156742  ...                   0.0   \n",
       "83            -0.675365            -0.156742  ...                   0.0   \n",
       "84            -0.675365            -0.156742  ...                   0.0   \n",
       "\n",
       "    x6_None  x6_copper bromide  x6_oleic acid  x6_trioctylphosphine  x6_water  \\\n",
       "0       1.0                0.0            0.0                   0.0       0.0   \n",
       "1       1.0                0.0            0.0                   0.0       0.0   \n",
       "2       1.0                0.0            0.0                   0.0       0.0   \n",
       "3       1.0                0.0            0.0                   0.0       0.0   \n",
       "4       1.0                0.0            0.0                   0.0       0.0   \n",
       "..      ...                ...            ...                   ...       ...   \n",
       "80      1.0                0.0            0.0                   0.0       0.0   \n",
       "81      1.0                0.0            0.0                   0.0       0.0   \n",
       "82      1.0                0.0            0.0                   0.0       0.0   \n",
       "83      1.0                0.0            0.0                   0.0       0.0   \n",
       "84      1.0                0.0            0.0                   0.0       0.0   \n",
       "\n",
       "    x6_zinc iodide  diameter_nm  abs_nm  emission_nm  \n",
       "0              0.0         None   480.0          539  \n",
       "1              0.0         None   560.0          595  \n",
       "2              0.0         None   590.0          635  \n",
       "3              0.0         None   429.5          500  \n",
       "4              0.0         None   429.5          520  \n",
       "..             ...          ...     ...          ...  \n",
       "80             0.0          2.4   530.0          579  \n",
       "81             0.0          3.5   562.0          618  \n",
       "82             0.0          2.7   532.0          591  \n",
       "83             0.0            4   585.0          630  \n",
       "84             0.0         None   465.0          550  \n",
       "\n",
       "[85 rows x 79 columns]"
      ]
     },
     "execution_count": 2,
     "metadata": {},
     "output_type": "execute_result"
    }
   ],
   "source": [
    "df_emi = pd.read_csv(\"dataset_scaled_emission.csv\")\n",
    "df_emi"
   ]
  },
  {
   "cell_type": "code",
   "execution_count": 4,
   "metadata": {},
   "outputs": [],
   "source": [
    "# Input for ML models\n",
    "\n",
    "\n",
    "input_col =  ['in_amount_mmol', 'p_amount_mmol', 'ligand_amount_mmol',\n",
    "       'first_sol_amount_ml', 'second_sol_amount_ml', \n",
    "       'other_1_amount_mmol', 'other_2_amount_mmol', 'total_volume_ml',\n",
    "       'temp_c', 'time_min', 'x0_chloroindium oxalate', 'x0_indium acetate',\n",
    "       'x0_indium bromide', 'x0_indium chloride', 'x0_indium iodide',\n",
    "       'x0_indium myristate', 'x0_indium oxalate', 'x0_indium palmitate',\n",
    "       'x0_indium trifluoroacetate',\n",
    "       'x0_indium tris(N,N-diisopropylacetamidinato)',\n",
    "       'x1_bis(trimethylsilyl)phosphine', 'x1_phosphine gas',\n",
    "       'x1_phosphorus trichloride', 'x1_sodium phosphide',\n",
    "       'x1_tris(diethylamino)phosphine', 'x1_tris(dimethylamino)phosphine',\n",
    "       'x1_tris(trimethylgermyl)phosphine', 'x1_tris(trimethylsilyl)phosphine',\n",
    "       'x1_white phosphorus', 'x2_None', 'x2_dodecanethiol', 'x2_lauric acid',\n",
    "       'x2_myristic acid', 'x2_oleic acid', 'x2_palmitic acid',\n",
    "       'x2_stearic acid', 'x3_4-ethylpyridine', 'x3_None',\n",
    "       'x3_dimethylformamide', 'x3_dodecylamine', 'x3_mesitylene',\n",
    "       'x3_octadecene', 'x3_oleylamine', 'x3_trioctylamine',\n",
    "       'x3_trioctylphosphine', 'x3_trioctylphosphine oxide', 'x4_None',\n",
    "       'x4_dioctyl ether', 'x4_dioctylamine', 'x4_hexadecylamine',\n",
    "       'x4_octylamine', 'x4_oleylamine', 'x4_toluene', 'x4_trioctylphosphine',\n",
    "       'x4_trioctylphosphine oxide', \n",
    "       'x5_None', 'x5_acetic acid', 'x5_superhydride',\n",
    "       'x5_tetrabutylammonium myristate', 'x5_zinc acetate', 'x5_zinc bromide',\n",
    "       'x5_zinc chloride', 'x5_zinc iodide', 'x5_zinc octanoate',\n",
    "       'x5_zinc oleate', 'x5_zinc stearate', 'x5_zinc undecylenate', 'x6_None',\n",
    "       'x6_copper bromide', 'x6_oleic acid','x6_trioctylphosphine',  'x6_water', 'x6_zinc iodide',\n",
    "        'abs_nm']\n",
    "\n",
    "output_col = ['emission_nm']\n",
    "\n",
    "X = df_emi[input_col]\n",
    "\n",
    "Y = df_emi[output_col]"
   ]
  },
  {
   "cell_type": "code",
   "execution_count": 5,
   "metadata": {},
   "outputs": [],
   "source": [
    "# Splitting dataset for training\n",
    "X_train, X_test, Y_train, Y_test = train_test_split(X, Y, test_size=0.15, random_state=45, shuffle=True)"
   ]
  },
  {
   "cell_type": "markdown",
   "metadata": {},
   "source": [
    "### 1. Bagging"
   ]
  },
  {
   "cell_type": "code",
   "execution_count": 6,
   "metadata": {
    "scrolled": true
   },
   "outputs": [
    {
     "name": "stderr",
     "output_type": "stream",
     "text": [
      "100%|██████████| 29/29 [12:09<00:00, 25.14s/it]"
     ]
    },
    {
     "name": "stdout",
     "output_type": "stream",
     "text": [
      "17.021234107772575 5 6 48\n"
     ]
    },
    {
     "name": "stderr",
     "output_type": "stream",
     "text": [
      "\n"
     ]
    }
   ],
   "source": [
    "# This is a grid search for three parameters in the Bagging algorithm. \n",
    "# Parameters are: max_depth, n_estimators, random_state.\n",
    "# This gives the best combination of the three parameters for the smallest mean squared error.\n",
    "\n",
    "min_mae = 99999\n",
    "\n",
    "min_i, min_j, min_k  = 0, 0, 0\n",
    "\n",
    "for i in tqdm(range(1, 30)):\n",
    "    for j in range(1, 30):\n",
    "        for k in range(2, 60, 2):\n",
    "            \n",
    "            B_regr = BaggingRegressor(base_estimator=DecisionTreeRegressor(max_depth=i),\n",
    "                                      n_estimators=j,\n",
    "                                      random_state=k)\n",
    "            \n",
    "            B_regr.fit(X_train, np.ravel(Y_train))\n",
    "            \n",
    "            B_Y_pred = B_regr.predict(X_test)\n",
    "            \n",
    "            mae = mean_absolute_error(Y_test, B_Y_pred)\n",
    "            \n",
    "            if (min_mae > mae):\n",
    "                min_mae = mae\n",
    "                min_i = i\n",
    "                min_j = j\n",
    "                min_k = k\n",
    "            \n",
    "print(min_mae, min_i, min_j, min_k)"
   ]
  },
  {
   "cell_type": "markdown",
   "metadata": {},
   "source": [
    "### 2. Decision Trees"
   ]
  },
  {
   "cell_type": "code",
   "execution_count": 6,
   "metadata": {
    "scrolled": false
   },
   "outputs": [
    {
     "name": "stderr",
     "output_type": "stream",
     "text": [
      "100%|██████████| 29/29 [02:13<00:00,  4.59s/it]"
     ]
    },
    {
     "name": "stdout",
     "output_type": "stream",
     "text": [
      "15.512820512820518 12 14 8\n"
     ]
    },
    {
     "name": "stderr",
     "output_type": "stream",
     "text": [
      "\n"
     ]
    }
   ],
   "source": [
    "# This is a grid search for three parameters in the Decision Trees algorithm. \n",
    "# Parameters are: max_depth, max_features, random_state.\n",
    "# This gives the best combination of the three parameters for the smallest mean squared error.\n",
    "\n",
    "min_mae = 99999\n",
    "\n",
    "min_i, min_j, min_k  = 0, 0, 0\n",
    "\n",
    "for i in tqdm(range(1, 30)):\n",
    "    for j in range(1, 30):\n",
    "        for k in range(4, 60, 2):\n",
    "            \n",
    "            DT_regr = DecisionTreeRegressor(max_depth=i,\n",
    "                                max_features=j,\n",
    "                                random_state=k)\n",
    "            \n",
    "            DT_regr.fit(X_train, Y_train)\n",
    "\n",
    "            DT_Y_pred = DT_regr.predict(X_test)\n",
    "\n",
    "            mae = mean_absolute_error(Y_test, DT_Y_pred)\n",
    "            \n",
    "            if (min_mae > mae):\n",
    "                min_mae = mae\n",
    "                min_i = i\n",
    "                min_j = j\n",
    "                min_k = k\n",
    "            \n",
    "print(min_mae, min_i, min_j, min_k)"
   ]
  },
  {
   "cell_type": "code",
   "execution_count": null,
   "metadata": {},
   "outputs": [],
   "source": [
    "DT_regr = DecisionTreeRegressor(max_depth=5,\n",
    "                                max_features=9,\n",
    "                                random_state=60)\n",
    "            \n",
    "DT_regr.fit(X_train, np.ravel(Y_train))\n",
    "            \n",
    "DT_Y_pred = B_regr.predict(X_test)\n",
    "            \n",
    "DT_mae = mean_absolute_error(Y_test, DT_Y_pred)\n",
    "DT_mse = mean_squared_error(Y_test, DT_Y_pred)\n",
    "print(\"Mean absolute error =\", round(DT_mae,3), '\\n' \"Mean squared error =\", round(DT_mse,3))\n",
    "\n",
    "plt.figure()\n",
    "plt.title(\"Decision Tree\")\n",
    "plt.plot(Y_test, DT_Y_pred, 'o')\n",
    "plt.xlabel('Observed Values (nm)')\n",
    "plt.ylabel('Predicted Values (nm)')\n",
    "plt.plot([400,800],[400,800], color = 'r')\n",
    "plt.text(400, 750, 'MAE=' , fontdict=None)\n",
    "plt.text(440, 750, round(DT_mae,3) , fontdict=None)\n",
    "plt.show()"
   ]
  },
  {
   "cell_type": "markdown",
   "metadata": {},
   "source": [
    "### 3. Random Forrest"
   ]
  },
  {
   "cell_type": "code",
   "execution_count": 7,
   "metadata": {
    "scrolled": true
   },
   "outputs": [
    {
     "name": "stderr",
     "output_type": "stream",
     "text": [
      "100%|██████████| 29/29 [08:52<00:00, 18.36s/it]"
     ]
    },
    {
     "name": "stdout",
     "output_type": "stream",
     "text": [
      "14.346153846153847 9 2 52\n"
     ]
    },
    {
     "name": "stderr",
     "output_type": "stream",
     "text": [
      "\n"
     ]
    }
   ],
   "source": [
    "# This is a grid search for three parameters in the Random Forest algorithm. \n",
    "# Parameters are: max_depth, n_estimators, max_features.\n",
    "# Random_state is set to 45.\n",
    "# This gives the best combination of the three parameters for the smallest mean squared error.\n",
    "\n",
    "min_mae = 99999\n",
    "min_i, min_j, min_k = 0, 0, 0\n",
    "for i in tqdm(range(1, 30)):\n",
    "    for j in range(1, 30):\n",
    "        for k in range(2, 60, 2):\n",
    "            RF_regr = RandomForestRegressor(max_depth=i, \n",
    "                                            n_estimators=j, \n",
    "                                            max_features=k,\n",
    "                                            random_state=45\n",
    "                                                )\n",
    "            RF_regr.fit(X_train, np.ravel(Y_train))\n",
    "            RF_Y_pred = RF_regr.predict(X_test)\n",
    "\n",
    "            mae = mean_absolute_error(Y_test, RF_Y_pred)\n",
    "            if (min_mae > mae):\n",
    "                min_mae = mae\n",
    "                min_i = i\n",
    "                min_j = j\n",
    "                min_k = k\n",
    "            \n",
    "print(min_mae, min_i, min_j, min_k)"
   ]
  },
  {
   "cell_type": "code",
   "execution_count": 15,
   "metadata": {},
   "outputs": [
    {
     "name": "stdout",
     "output_type": "stream",
     "text": [
      "14.02307692307692\n"
     ]
    }
   ],
   "source": [
    "RF_regr = RandomForestRegressor(max_depth=6, n_estimators=1, max_features=20, random_state=45)\n",
    "RF_regr.fit(X_train, np.ravel(Y_train))\n",
    "RF_Y_pred = RF_regr.predict(X_test)\n",
    "mae = mean_absolute_error(Y_test, RF_Y_pred)\n",
    "print(mae)"
   ]
  },
  {
   "cell_type": "code",
   "execution_count": 9,
   "metadata": {},
   "outputs": [
    {
     "name": "stderr",
     "output_type": "stream",
     "text": [
      "100%|██████████| 99/99 [00:00<00:00, 110.61it/s]"
     ]
    },
    {
     "name": "stdout",
     "output_type": "stream",
     "text": [
      "14.794871794871794 45\n"
     ]
    },
    {
     "name": "stderr",
     "output_type": "stream",
     "text": [
      "\n"
     ]
    }
   ],
   "source": [
    "min_mae = 9999\n",
    "min_a = 0\n",
    "for a in tqdm(range(1,100)):\n",
    "    RF_regr = RandomForestRegressor(max_depth=11, n_estimators=3, max_features=30, random_state=a)\n",
    "    RF_regr.fit(X_train, np.ravel(Y_train))\n",
    "    RF_Y_pred = RF_regr.predict(X_test)\n",
    "    mae = mean_absolute_error(Y_test, RF_Y_pred)\n",
    "    if (min_mae > mae):\n",
    "        min_mae = mae\n",
    "        min_a = a\n",
    "print(min_mae, min_a)    "
   ]
  },
  {
   "cell_type": "code",
   "execution_count": null,
   "metadata": {},
   "outputs": [],
   "source": []
  },
  {
   "cell_type": "markdown",
   "metadata": {},
   "source": [
    "### 4. Extra Trees"
   ]
  },
  {
   "cell_type": "code",
   "execution_count": null,
   "metadata": {
    "scrolled": true
   },
   "outputs": [
    {
     "name": "stderr",
     "output_type": "stream",
     "text": [
      " 79%|███████▉  | 26/33 [13:26<05:42, 48.95s/it]"
     ]
    }
   ],
   "source": [
    "# This is a grid search for three parameters in the Extra Trees algorithm. \n",
    "# Parameters are: random_state, n_estimators, max_features.\n",
    "\n",
    "# This gives the best combination of the three parameters for the smallest mean squared error.\n",
    "\n",
    "min_mae = 99999\n",
    "min_i, min_j, min_k = 0, 0, 0\n",
    "for i in tqdm(range(1, 34)):\n",
    "    for j in range(1, 34):\n",
    "        for k in range(2, 60, 1):\n",
    "            ET_regr = ExtraTreesRegressor(n_estimators=i, \n",
    "                                            max_features=j,\n",
    "                                            random_state=k\n",
    "                                                )\n",
    "            ET_regr.fit(X_train, np.ravel(Y_train))\n",
    "            ET_Y_pred = ET_regr.predict(X_test)\n",
    "\n",
    "            mae = mean_absolute_error(Y_test, ET_Y_pred)\n",
    "            if (min_mae > mae):\n",
    "                min_mae = mae\n",
    "                min_i = i\n",
    "                min_j = j\n",
    "                min_k = k\n",
    "            \n",
    "print(min_mae, min_i, min_j, min_k)"
   ]
  },
  {
   "cell_type": "code",
   "execution_count": 11,
   "metadata": {},
   "outputs": [
    {
     "name": "stdout",
     "output_type": "stream",
     "text": [
      "Mean absolute error = 11.0 \n",
      "Mean squared error = 167.654\n"
     ]
    },
    {
     "data": {
      "image/png": "[encoded data removed]",
      "text/plain": [
       "<Figure size 432x288 with 1 Axes>"
      ]
     },
     "metadata": {
      "needs_background": "light"
     },
     "output_type": "display_data"
    }
   ],
   "source": [
    "ET_regr = ExtraTreesRegressor(n_estimators=2, \n",
    "                                            max_features=26,\n",
    "                                            random_state=46)\n",
    "            \n",
    "ET_regr.fit(X_train, np.ravel(Y_train))\n",
    "            \n",
    "ET_Y_pred = ET_regr.predict(X_test)\n",
    "            \n",
    "ET_mae = mean_absolute_error(Y_test, ET_Y_pred)\n",
    "ET_mse = mean_squared_error(Y_test, ET_Y_pred)\n",
    "print(\"Mean absolute error =\", round(ET_mae,3), '\\n' \"Mean squared error =\", round(ET_mse,3))\n",
    "\n",
    "plt.figure()\n",
    "plt.title(\"Decision Tree\")\n",
    "plt.plot(Y_test, ET_Y_pred, 'o')\n",
    "plt.xlabel('Observed Values (nm)')\n",
    "plt.ylabel('Predicted Values (nm)')\n",
    "plt.plot([400,800],[400,800], color = 'r')\n",
    "plt.text(400, 750, 'MAE=' , fontdict=None)\n",
    "plt.text(440, 750, round(ET_mae,3) , fontdict=None)\n",
    "plt.show()"
   ]
  },
  {
   "cell_type": "markdown",
   "metadata": {},
   "source": [
    "### 5. Gradient Boosting"
   ]
  },
  {
   "cell_type": "code",
   "execution_count": 12,
   "metadata": {
    "scrolled": true
   },
   "outputs": [
    {
     "name": "stderr",
     "output_type": "stream",
     "text": [
      "100%|██████████| 8/8 [09:31<00:00, 71.41s/it]"
     ]
    },
    {
     "name": "stdout",
     "output_type": "stream",
     "text": [
      "17.341425001175896 370 2 0.1 14\n"
     ]
    },
    {
     "name": "stderr",
     "output_type": "stream",
     "text": [
      "\n"
     ]
    }
   ],
   "source": [
    "min_mae = 999\n",
    "min_i, min_j, min_k, min_l = 0, 0, 0.0, 0\n",
    "for i in tqdm(range(320, 400, 10)):\n",
    "    for j in range(2, 24, 2):\n",
    "        for k in np.arange(0.08, 0.22, 0.02):\n",
    "            for l in range(2, 18, 4):\n",
    "                GB_regr = GradientBoostingRegressor(n_estimators=i, max_depth=j, learning_rate=k, random_state=l)\n",
    "                GB_regr.fit(X_train, np.ravel(Y_train))\n",
    "                GB_Y_pred = GB_regr.predict(X_test)\n",
    "\n",
    "                mae = mean_absolute_error(Y_test, GB_Y_pred)\n",
    "                if (min_mae > mae):\n",
    "                    min_mae = mae\n",
    "                    min_i = i\n",
    "                    min_j = j\n",
    "                    min_k = k\n",
    "                    min_l = l\n",
    "\n",
    "print(min_mae, min_i, min_j, min_k, min_l)"
   ]
  },
  {
   "cell_type": "code",
   "execution_count": null,
   "metadata": {},
   "outputs": [],
   "source": [
    "GB_regr = GradientBoostingRegressor(n_estimators=540, max_depth=4, learning_rate=0.18, random_state=67)\n",
    "\n",
    "            \n",
    "GB_regr.fit(X_train, np.ravel(Y_train))\n",
    "            \n",
    "GB_Y_pred = GB_regr.predict(X_test)\n",
    "            \n",
    "GB_mae = mean_absolute_error(Y_test, GB_Y_pred)\n",
    "print(\"Mean absolute error =\", round(GB_mae,3))\n",
    "\n",
    "plt.figure()\n",
    "plt.title(\"Gradient Boosting\")\n",
    "plt.plot(Y_test, GB_Y_pred, 'o')\n",
    "plt.xlabel('Observed Values (nm)')\n",
    "plt.ylabel('Predicted Values (nm)')\n",
    "plt.plot([400,800],[400,800], color = 'r')\n",
    "plt.text(400, 750, 'MAE=' , fontdict=None)\n",
    "plt.text(440, 750, round(GB_mae,3) , fontdict=None)\n",
    "plt.show()"
   ]
  },
  {
   "cell_type": "markdown",
   "metadata": {},
   "source": [
    "### 6. Others"
   ]
  },
  {
   "cell_type": "code",
   "execution_count": 10,
   "metadata": {},
   "outputs": [
    {
     "name": "stdout",
     "output_type": "stream",
     "text": [
      "K-nn\n",
      " MAE for diameter is  16.184615384615373 \n",
      "\n",
      "Ridge\n",
      " MAE for diameter is  18.110791212932252 \n",
      "\n",
      "Lasso\n",
      " MAE for diameter is  19.560952909058933 \n",
      "\n",
      "ElasticNet\n",
      " MAE for diameter is  18.19936624046899 \n",
      "\n"
     ]
    }
   ],
   "source": [
    "REGRESSIONS = {\n",
    "    \"K-nn\": KNeighborsRegressor(),                          \n",
    "    \"Ridge\": RidgeCV(),\n",
    "    \"Lasso\": Lasso(),\n",
    "    \"ElasticNet\": ElasticNet(random_state=0),\n",
    "                }\n",
    "# mean absolute error is used to evaluate the performance of all regressions.\n",
    "\n",
    "\n",
    "for name, reg in REGRESSIONS.items():     \n",
    "    reg.fit(X_train, Y_train)                 \n",
    "    Y_pred = pd.DataFrame(reg.predict(X_test))\n",
    "    \n",
    "    print(name)\n",
    "    \n",
    "    mae = mean_absolute_error(Y_test, Y_pred)\n",
    "    \n",
    "    print(' MAE for diameter is ', mae, '\\n')"
   ]
  },
  {
   "cell_type": "markdown",
   "metadata": {},
   "source": [
    "## Conclusion"
   ]
  },
  {
   "cell_type": "markdown",
   "metadata": {},
   "source": [
    "Decision Tree gave the best performance."
   ]
  },
  {
   "cell_type": "markdown",
   "metadata": {},
   "source": [
    "### Saving model"
   ]
  },
  {
   "cell_type": "code",
   "execution_count": 14,
   "metadata": {},
   "outputs": [
    {
     "data": {
      "text/plain": [
       "['./model_aug_emission_ExtraTrees.joblib']"
      ]
     },
     "execution_count": 14,
     "metadata": {},
     "output_type": "execute_result"
    }
   ],
   "source": [
    "ET_regr = ExtraTreesRegressor(n_estimators=2, \n",
    "                                            max_features=26,\n",
    "                                            random_state=46)\n",
    "            \n",
    "ET_regr.fit(X_train, np.ravel(Y_train))\n",
    "            \n",
    "ET_Y_pred = ET_regr.predict(X_test)\n",
    "            \n",
    "joblib.dump(ET_regr, \"./model_aug_emission_ExtraTrees.joblib\")\n"
   ]
  },
  {
   "cell_type": "code",
   "execution_count": null,
   "metadata": {},
   "outputs": [],
   "source": []
  },
  {
   "cell_type": "code",
   "execution_count": null,
   "metadata": {},
   "outputs": [],
   "source": []
  }
 ],
 "metadata": {
  "kernelspec": {
   "display_name": "Python 3",
   "language": "python",
   "name": "python3"
  },
  "language_info": {
   "codemirror_mode": {
    "name": "ipython",
    "version": 3
   },
   "file_extension": ".py",
   "mimetype": "text/x-python",
   "name": "python",
   "nbconvert_exporter": "python",
   "pygments_lexer": "ipython3",
   "version": "3.8.5"
  }
 },
 "nbformat": 4,
 "nbformat_minor": 4
}
