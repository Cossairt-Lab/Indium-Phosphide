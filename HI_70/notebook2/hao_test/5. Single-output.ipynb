{
 "cells": [
  {
   "cell_type": "code",
   "execution_count": 1,
   "metadata": {},
   "outputs": [],
   "source": [
    "import numpy as np \n",
    "import pandas as pd\n",
    "import os\n",
    "import joblib\n",
    "import sklearn \n",
    "import matplotlib\n",
    "from matplotlib import pyplot as plt\n",
    "\n",
    "from sklearn.model_selection import train_test_split\n",
    "\n",
    "#Regressions:\n",
    "\n",
    "from sklearn.multioutput import MultiOutputRegressor\n",
    "\n",
    "from sklearn.neighbors import KNeighborsRegressor\n",
    "from sklearn.linear_model import Ridge\n",
    "from sklearn.linear_model import Lasso\n",
    "from sklearn.linear_model import ElasticNet\n",
    "from sklearn.linear_model import LinearRegression\n",
    "from sklearn.linear_model import RidgeCV\n",
    "from sklearn.ensemble import ExtraTreesRegressor\n",
    "from sklearn.ensemble import GradientBoostingRegressor\n",
    "from sklearn.ensemble import RandomForestRegressor\n",
    "from sklearn.ensemble import AdaBoostRegressor\n",
    "from sklearn.tree import DecisionTreeRegressor\n",
    "\n",
    "#Metric\n",
    "from sklearn.metrics import mean_squared_error\n",
    "from sklearn.metrics import mean_absolute_error\n",
    "from sklearn.metrics import r2_score\n",
    "\n",
    "\n",
    "from pandas import DataFrame\n",
    "\n",
    "\n",
    "# Show progress bar\n",
    "from tqdm import tqdm"
   ]
  },
  {
   "cell_type": "code",
   "execution_count": 2,
   "metadata": {},
   "outputs": [
    {
     "data": {
      "text/html": [
       "<div>\n",
       "<style scoped>\n",
       "    .dataframe tbody tr th:only-of-type {\n",
       "        vertical-align: middle;\n",
       "    }\n",
       "\n",
       "    .dataframe tbody tr th {\n",
       "        vertical-align: top;\n",
       "    }\n",
       "\n",
       "    .dataframe thead th {\n",
       "        text-align: right;\n",
       "    }\n",
       "</style>\n",
       "<table border=\"1\" class=\"dataframe\">\n",
       "  <thead>\n",
       "    <tr style=\"text-align: right;\">\n",
       "      <th></th>\n",
       "      <th>Unnamed: 0</th>\n",
       "      <th>Unnamed: 0.1</th>\n",
       "      <th>Unnamed: 0.1.1</th>\n",
       "      <th>Unnamed: 0.1.1.1</th>\n",
       "      <th>in_amount_mmol</th>\n",
       "      <th>p_amount_mmol</th>\n",
       "      <th>sol_amount_ml</th>\n",
       "      <th>TOP_amount_mmol</th>\n",
       "      <th>acid_amount_mmol</th>\n",
       "      <th>amine_amount_mmol</th>\n",
       "      <th>...</th>\n",
       "      <th>x8_superhydride</th>\n",
       "      <th>x8_tetrabutylammonium myristate</th>\n",
       "      <th>x8_trioctylamine</th>\n",
       "      <th>x8_trioctylphosphine oxide</th>\n",
       "      <th>x8_water</th>\n",
       "      <th>x8_zinc iodide</th>\n",
       "      <th>diameter_nm</th>\n",
       "      <th>abs_nm</th>\n",
       "      <th>emission_nm</th>\n",
       "      <th>Unnamed: 64</th>\n",
       "    </tr>\n",
       "  </thead>\n",
       "  <tbody>\n",
       "    <tr>\n",
       "      <th>0</th>\n",
       "      <td>0</td>\n",
       "      <td>0</td>\n",
       "      <td>0</td>\n",
       "      <td>0</td>\n",
       "      <td>-0.205407</td>\n",
       "      <td>-0.376673</td>\n",
       "      <td>1.638502</td>\n",
       "      <td>-0.220165</td>\n",
       "      <td>0.095362</td>\n",
       "      <td>-0.800754</td>\n",
       "      <td>...</td>\n",
       "      <td>1</td>\n",
       "      <td>0</td>\n",
       "      <td>0</td>\n",
       "      <td>0</td>\n",
       "      <td>0</td>\n",
       "      <td>0</td>\n",
       "      <td>3.5000</td>\n",
       "      <td>562</td>\n",
       "      <td>618.0</td>\n",
       "      <td>56.0</td>\n",
       "    </tr>\n",
       "    <tr>\n",
       "      <th>1</th>\n",
       "      <td>1</td>\n",
       "      <td>1</td>\n",
       "      <td>1</td>\n",
       "      <td>1</td>\n",
       "      <td>-0.205407</td>\n",
       "      <td>-0.376673</td>\n",
       "      <td>1.638502</td>\n",
       "      <td>-0.220165</td>\n",
       "      <td>0.095362</td>\n",
       "      <td>-0.800754</td>\n",
       "      <td>...</td>\n",
       "      <td>1</td>\n",
       "      <td>0</td>\n",
       "      <td>0</td>\n",
       "      <td>0</td>\n",
       "      <td>0</td>\n",
       "      <td>0</td>\n",
       "      <td>2.8000</td>\n",
       "      <td>473</td>\n",
       "      <td>613.4</td>\n",
       "      <td>140.4</td>\n",
       "    </tr>\n",
       "    <tr>\n",
       "      <th>2</th>\n",
       "      <td>2</td>\n",
       "      <td>2</td>\n",
       "      <td>2</td>\n",
       "      <td>2</td>\n",
       "      <td>-0.205407</td>\n",
       "      <td>-0.376673</td>\n",
       "      <td>1.638502</td>\n",
       "      <td>-0.220165</td>\n",
       "      <td>0.095362</td>\n",
       "      <td>-0.800754</td>\n",
       "      <td>...</td>\n",
       "      <td>1</td>\n",
       "      <td>0</td>\n",
       "      <td>0</td>\n",
       "      <td>0</td>\n",
       "      <td>0</td>\n",
       "      <td>0</td>\n",
       "      <td>2.8000</td>\n",
       "      <td>524</td>\n",
       "      <td>613.4</td>\n",
       "      <td>89.4</td>\n",
       "    </tr>\n",
       "    <tr>\n",
       "      <th>3</th>\n",
       "      <td>3</td>\n",
       "      <td>3</td>\n",
       "      <td>3</td>\n",
       "      <td>3</td>\n",
       "      <td>-0.205407</td>\n",
       "      <td>-0.376673</td>\n",
       "      <td>1.638502</td>\n",
       "      <td>-0.220165</td>\n",
       "      <td>0.095362</td>\n",
       "      <td>-0.800754</td>\n",
       "      <td>...</td>\n",
       "      <td>1</td>\n",
       "      <td>0</td>\n",
       "      <td>0</td>\n",
       "      <td>0</td>\n",
       "      <td>0</td>\n",
       "      <td>0</td>\n",
       "      <td>2.9250</td>\n",
       "      <td>538</td>\n",
       "      <td>617.0</td>\n",
       "      <td>79.0</td>\n",
       "    </tr>\n",
       "    <tr>\n",
       "      <th>4</th>\n",
       "      <td>4</td>\n",
       "      <td>4</td>\n",
       "      <td>4</td>\n",
       "      <td>4</td>\n",
       "      <td>-0.205407</td>\n",
       "      <td>-0.376673</td>\n",
       "      <td>1.638502</td>\n",
       "      <td>-0.220165</td>\n",
       "      <td>0.095362</td>\n",
       "      <td>-0.800754</td>\n",
       "      <td>...</td>\n",
       "      <td>1</td>\n",
       "      <td>0</td>\n",
       "      <td>0</td>\n",
       "      <td>0</td>\n",
       "      <td>0</td>\n",
       "      <td>0</td>\n",
       "      <td>3.1000</td>\n",
       "      <td>576</td>\n",
       "      <td>624.6</td>\n",
       "      <td>48.6</td>\n",
       "    </tr>\n",
       "    <tr>\n",
       "      <th>...</th>\n",
       "      <td>...</td>\n",
       "      <td>...</td>\n",
       "      <td>...</td>\n",
       "      <td>...</td>\n",
       "      <td>...</td>\n",
       "      <td>...</td>\n",
       "      <td>...</td>\n",
       "      <td>...</td>\n",
       "      <td>...</td>\n",
       "      <td>...</td>\n",
       "      <td>...</td>\n",
       "      <td>...</td>\n",
       "      <td>...</td>\n",
       "      <td>...</td>\n",
       "      <td>...</td>\n",
       "      <td>...</td>\n",
       "      <td>...</td>\n",
       "      <td>...</td>\n",
       "      <td>...</td>\n",
       "      <td>...</td>\n",
       "      <td>...</td>\n",
       "    </tr>\n",
       "    <tr>\n",
       "      <th>151</th>\n",
       "      <td>151</td>\n",
       "      <td>152</td>\n",
       "      <td>152</td>\n",
       "      <td>152</td>\n",
       "      <td>-0.467859</td>\n",
       "      <td>-0.729457</td>\n",
       "      <td>-0.258929</td>\n",
       "      <td>0.421871</td>\n",
       "      <td>-0.453863</td>\n",
       "      <td>-0.800754</td>\n",
       "      <td>...</td>\n",
       "      <td>0</td>\n",
       "      <td>0</td>\n",
       "      <td>0</td>\n",
       "      <td>0</td>\n",
       "      <td>0</td>\n",
       "      <td>0</td>\n",
       "      <td>3.3750</td>\n",
       "      <td>552</td>\n",
       "      <td>601.0</td>\n",
       "      <td>49.0</td>\n",
       "    </tr>\n",
       "    <tr>\n",
       "      <th>152</th>\n",
       "      <td>152</td>\n",
       "      <td>153</td>\n",
       "      <td>153</td>\n",
       "      <td>153</td>\n",
       "      <td>-0.717189</td>\n",
       "      <td>-0.779855</td>\n",
       "      <td>-0.069186</td>\n",
       "      <td>-0.220165</td>\n",
       "      <td>-0.344018</td>\n",
       "      <td>-0.800754</td>\n",
       "      <td>...</td>\n",
       "      <td>0</td>\n",
       "      <td>0</td>\n",
       "      <td>0</td>\n",
       "      <td>0</td>\n",
       "      <td>0</td>\n",
       "      <td>0</td>\n",
       "      <td>8.3000</td>\n",
       "      <td>532</td>\n",
       "      <td>590.0</td>\n",
       "      <td>58.0</td>\n",
       "    </tr>\n",
       "    <tr>\n",
       "      <th>153</th>\n",
       "      <td>153</td>\n",
       "      <td>154</td>\n",
       "      <td>154</td>\n",
       "      <td>154</td>\n",
       "      <td>-0.717189</td>\n",
       "      <td>-0.779855</td>\n",
       "      <td>-0.069186</td>\n",
       "      <td>-0.220165</td>\n",
       "      <td>-0.344018</td>\n",
       "      <td>-0.800754</td>\n",
       "      <td>...</td>\n",
       "      <td>0</td>\n",
       "      <td>0</td>\n",
       "      <td>0</td>\n",
       "      <td>0</td>\n",
       "      <td>0</td>\n",
       "      <td>0</td>\n",
       "      <td>3.1250</td>\n",
       "      <td>570</td>\n",
       "      <td>610.4</td>\n",
       "      <td>40.4</td>\n",
       "    </tr>\n",
       "    <tr>\n",
       "      <th>154</th>\n",
       "      <td>154</td>\n",
       "      <td>155</td>\n",
       "      <td>155</td>\n",
       "      <td>155</td>\n",
       "      <td>-0.717189</td>\n",
       "      <td>-0.779855</td>\n",
       "      <td>-0.069186</td>\n",
       "      <td>-0.220165</td>\n",
       "      <td>-0.344018</td>\n",
       "      <td>-0.800754</td>\n",
       "      <td>...</td>\n",
       "      <td>0</td>\n",
       "      <td>0</td>\n",
       "      <td>0</td>\n",
       "      <td>0</td>\n",
       "      <td>0</td>\n",
       "      <td>0</td>\n",
       "      <td>2.8500</td>\n",
       "      <td>562</td>\n",
       "      <td>594.2</td>\n",
       "      <td>32.2</td>\n",
       "    </tr>\n",
       "    <tr>\n",
       "      <th>155</th>\n",
       "      <td>155</td>\n",
       "      <td>156</td>\n",
       "      <td>156</td>\n",
       "      <td>156</td>\n",
       "      <td>-0.717189</td>\n",
       "      <td>-0.779855</td>\n",
       "      <td>-0.069186</td>\n",
       "      <td>-0.220165</td>\n",
       "      <td>-0.344018</td>\n",
       "      <td>-0.800754</td>\n",
       "      <td>...</td>\n",
       "      <td>0</td>\n",
       "      <td>0</td>\n",
       "      <td>0</td>\n",
       "      <td>0</td>\n",
       "      <td>0</td>\n",
       "      <td>0</td>\n",
       "      <td>3.0375</td>\n",
       "      <td>549</td>\n",
       "      <td>594.2</td>\n",
       "      <td>45.2</td>\n",
       "    </tr>\n",
       "  </tbody>\n",
       "</table>\n",
       "<p>156 rows × 66 columns</p>\n",
       "</div>"
      ],
      "text/plain": [
       "     Unnamed: 0  Unnamed: 0.1  Unnamed: 0.1.1  Unnamed: 0.1.1.1  \\\n",
       "0             0             0               0                 0   \n",
       "1             1             1               1                 1   \n",
       "2             2             2               2                 2   \n",
       "3             3             3               3                 3   \n",
       "4             4             4               4                 4   \n",
       "..          ...           ...             ...               ...   \n",
       "151         151           152             152               152   \n",
       "152         152           153             153               153   \n",
       "153         153           154             154               154   \n",
       "154         154           155             155               155   \n",
       "155         155           156             156               156   \n",
       "\n",
       "     in_amount_mmol  p_amount_mmol  sol_amount_ml  TOP_amount_mmol  \\\n",
       "0         -0.205407      -0.376673       1.638502        -0.220165   \n",
       "1         -0.205407      -0.376673       1.638502        -0.220165   \n",
       "2         -0.205407      -0.376673       1.638502        -0.220165   \n",
       "3         -0.205407      -0.376673       1.638502        -0.220165   \n",
       "4         -0.205407      -0.376673       1.638502        -0.220165   \n",
       "..              ...            ...            ...              ...   \n",
       "151       -0.467859      -0.729457      -0.258929         0.421871   \n",
       "152       -0.717189      -0.779855      -0.069186        -0.220165   \n",
       "153       -0.717189      -0.779855      -0.069186        -0.220165   \n",
       "154       -0.717189      -0.779855      -0.069186        -0.220165   \n",
       "155       -0.717189      -0.779855      -0.069186        -0.220165   \n",
       "\n",
       "     acid_amount_mmol  amine_amount_mmol  ...  x8_superhydride  \\\n",
       "0            0.095362          -0.800754  ...                1   \n",
       "1            0.095362          -0.800754  ...                1   \n",
       "2            0.095362          -0.800754  ...                1   \n",
       "3            0.095362          -0.800754  ...                1   \n",
       "4            0.095362          -0.800754  ...                1   \n",
       "..                ...                ...  ...              ...   \n",
       "151         -0.453863          -0.800754  ...                0   \n",
       "152         -0.344018          -0.800754  ...                0   \n",
       "153         -0.344018          -0.800754  ...                0   \n",
       "154         -0.344018          -0.800754  ...                0   \n",
       "155         -0.344018          -0.800754  ...                0   \n",
       "\n",
       "     x8_tetrabutylammonium myristate  x8_trioctylamine  \\\n",
       "0                                  0                 0   \n",
       "1                                  0                 0   \n",
       "2                                  0                 0   \n",
       "3                                  0                 0   \n",
       "4                                  0                 0   \n",
       "..                               ...               ...   \n",
       "151                                0                 0   \n",
       "152                                0                 0   \n",
       "153                                0                 0   \n",
       "154                                0                 0   \n",
       "155                                0                 0   \n",
       "\n",
       "     x8_trioctylphosphine oxide  x8_water  x8_zinc iodide  diameter_nm  \\\n",
       "0                             0         0               0       3.5000   \n",
       "1                             0         0               0       2.8000   \n",
       "2                             0         0               0       2.8000   \n",
       "3                             0         0               0       2.9250   \n",
       "4                             0         0               0       3.1000   \n",
       "..                          ...       ...             ...          ...   \n",
       "151                           0         0               0       3.3750   \n",
       "152                           0         0               0       8.3000   \n",
       "153                           0         0               0       3.1250   \n",
       "154                           0         0               0       2.8500   \n",
       "155                           0         0               0       3.0375   \n",
       "\n",
       "     abs_nm  emission_nm  Unnamed: 64  \n",
       "0       562        618.0         56.0  \n",
       "1       473        613.4        140.4  \n",
       "2       524        613.4         89.4  \n",
       "3       538        617.0         79.0  \n",
       "4       576        624.6         48.6  \n",
       "..      ...          ...          ...  \n",
       "151     552        601.0         49.0  \n",
       "152     532        590.0         58.0  \n",
       "153     570        610.4         40.4  \n",
       "154     562        594.2         32.2  \n",
       "155     549        594.2         45.2  \n",
       "\n",
       "[156 rows x 66 columns]"
      ]
     },
     "execution_count": 2,
     "metadata": {},
     "output_type": "execute_result"
    }
   ],
   "source": [
    "df = pd.read_csv('dataset_augmented.csv')\n",
    "df"
   ]
  },
  {
   "cell_type": "code",
   "execution_count": 3,
   "metadata": {},
   "outputs": [],
   "source": [
    "# Input for ML models\n",
    "\n",
    "input_col = ['in_amount_mmol',\n",
    "             'p_amount_mmol',\n",
    "             'sol_amount_ml',\n",
    "             'TOP_amount_mmol',\n",
    "             'acid_amount_mmol',\n",
    "             'amine_amount_mmol',\n",
    "             'thiol_amount_mmol',\n",
    "             'zinc_amount_mmol',\n",
    "             'other_amount_mmol',\n",
    "             'total_volume_ml',\n",
    "             'temp_c',\n",
    "             'time_min',\n",
    "             'x0_indium acetate',\n",
    "             'x0_indium bromide',\n",
    "             'x0_indium chloride',\n",
    "             'x0_indium iodide',\n",
    "             'x0_indium myristate',\n",
    "             'x0_indium trifluoroacetate',\n",
    "             'x1_bis(trimethylsilyl)phosphine',\n",
    "             'x1_phosphorus trichloride',\n",
    "             'x1_tris(diethylamino)phosphine',\n",
    "             'x1_tris(dimethylamino)phosphine',\n",
    "             'x1_tris(trimethylgermyl)phosphine',\n",
    "             'x1_tris(trimethylsilyl)phosphine',\n",
    "             'x2_None',\n",
    "             'x2_octadecene',\n",
    "             'x2_toluene',\n",
    "             'x3_None',\n",
    "             'x3_trioctylphosphine',\n",
    "             'x4_None',\n",
    "             'x4_lauric acid',\n",
    "             'x4_myristic acid',\n",
    "             'x4_oleic acid',\n",
    "             'x4_palmitic acid',\n",
    "             'x4_stearic acid',\n",
    "             'x5_None',\n",
    "             'x5_dioctylamine',\n",
    "             'x5_dodecylamine',\n",
    "             'x5_hexadecylamine',\n",
    "             'x5_octylamine',\n",
    "             'x5_oleylamine',\n",
    "             'x6_None',\n",
    "             'x7_None',\n",
    "             'x7_zinc bromide',\n",
    "             'x7_zinc chloride',\n",
    "             'x7_zinc iodide',\n",
    "             'x7_zinc oleate',\n",
    "             'x7_zinc stearate',\n",
    "             'x7_zinc undecylenate',\n",
    "             'x8_None',\n",
    "             'x8_acetic acid',\n",
    "             'x8_copper bromide',\n",
    "             'x8_superhydride',\n",
    "             'x8_tetrabutylammonium myristate',\n",
    "             'x8_trioctylamine',\n",
    "             'x8_trioctylphosphine oxide',\n",
    "             'x8_water',\n",
    "             'x8_zinc iodide'\n",
    "            ]\n",
    "#Three individual outputs:\n",
    "diameter = ['diameter_nm']\n",
    "emission = ['emission_nm']\n",
    "absorbance = ['abs_nm']\n",
    "\n",
    "#Splitting dataset\n",
    "\n",
    "X = df[input_col]\n",
    "\n",
    "Y_d = df[diameter]\n",
    "Y_e = df[emission]\n",
    "Y_a = df[absorbance]\n",
    "\n",
    "\n",
    "X_train_d, X_test_d, Y_train_d, Y_test_d = train_test_split(X, Y_d, test_size=0.3, random_state=45, shuffle=True)\n",
    "X_train_e, X_test_e, Y_train_e, Y_test_e = train_test_split(X, Y_e, test_size=0.3, random_state=45, shuffle=True)\n",
    "X_train_a, X_test_a, Y_train_a, Y_test_a = train_test_split(X, Y_a, test_size=0.3, random_state=45, shuffle=True)"
   ]
  },
  {
   "cell_type": "markdown",
   "metadata": {},
   "source": [
    "## D - Optimizing diameter model\n"
   ]
  },
  {
   "cell_type": "markdown",
   "metadata": {},
   "source": [
    "### 1D. Extra Trees"
   ]
  },
  {
   "cell_type": "code",
   "execution_count": 4,
   "metadata": {},
   "outputs": [
    {
     "name": "stderr",
     "output_type": "stream",
     "text": [
      "100%|██████████| 24/24 [10:23<00:00, 25.96s/it]"
     ]
    },
    {
     "name": "stdout",
     "output_type": "stream",
     "text": [
      "0.2389893617021277 5 16 7\n"
     ]
    },
    {
     "name": "stderr",
     "output_type": "stream",
     "text": [
      "\n"
     ]
    }
   ],
   "source": [
    "# This is a grid search for three parameters in the Extra Trees algorithm. \n",
    "# Parameters are: random_state, n_estimators, max_features.\n",
    "\n",
    "# This gives the best combination of the three parameters for the smallest mean squared error.\n",
    "\n",
    "min_mae = 99999\n",
    "min_i, min_j, min_k = 0, 0, 0\n",
    "for i in tqdm(range(1, 25)):\n",
    "    for j in range(1, 25):\n",
    "        for k in range(2, 50, 1):\n",
    "            ET_regr = ExtraTreesRegressor(n_estimators=i, \n",
    "                                            max_features=j,\n",
    "                                            random_state=k)\n",
    "            \n",
    "            ET_regr.fit(X_train_d, np.ravel(Y_train_d))\n",
    "            ET_Y_pred_d = pd.DataFrame(ET_regr.predict(X_test_d))\n",
    "\n",
    "            mae = mean_absolute_error(Y_test_d, ET_Y_pred_d)\n",
    "            if (min_mae > mae):\n",
    "                min_mae = mae\n",
    "                min_i = i\n",
    "                min_j = j\n",
    "                min_k = k\n",
    "            \n",
    "print(min_mae, min_i, min_j, min_k)"
   ]
  },
  {
   "cell_type": "markdown",
   "metadata": {},
   "source": [
    "### 2D. Decision Tree "
   ]
  },
  {
   "cell_type": "code",
   "execution_count": 5,
   "metadata": {},
   "outputs": [
    {
     "name": "stderr",
     "output_type": "stream",
     "text": [
      "100%|██████████| 29/29 [04:58<00:00, 10.30s/it]"
     ]
    },
    {
     "name": "stdout",
     "output_type": "stream",
     "text": [
      "0.2502925531914894 20 6 24\n"
     ]
    },
    {
     "name": "stderr",
     "output_type": "stream",
     "text": [
      "\n"
     ]
    }
   ],
   "source": [
    "# This is a grid search for three parameters in the Decision Trees algorithm. \n",
    "# Parameters are: max_depth, max_features, random_state.\n",
    "# This gives the best combination of the three parameters for the smallest mean squared error.\n",
    "\n",
    "min_mae = 99999\n",
    "\n",
    "min_i, min_j, min_k  = 0, 0, 0\n",
    "\n",
    "for i in tqdm(range(1, 30)):\n",
    "    for j in range(1, 30):\n",
    "        for k in range(4, 48, 1):\n",
    "            \n",
    "            DT_regr = DecisionTreeRegressor(max_depth=i,\n",
    "                                max_features=j,\n",
    "                                random_state=k)\n",
    "            \n",
    "            DT_regr.fit(X_train_d, np.ravel(Y_train_d))\n",
    "            DT_Y_pred_d = pd.DataFrame(DT_regr.predict(X_test_d))\n",
    "\n",
    "            mae = mean_absolute_error(Y_test_d, DT_Y_pred_d)\n",
    "            \n",
    "            if (min_mae > mae):\n",
    "                min_mae = mae\n",
    "                min_i = i\n",
    "                min_j = j\n",
    "                min_k = k\n",
    "            \n",
    "print(min_mae, min_i, min_j, min_k)"
   ]
  },
  {
   "cell_type": "markdown",
   "metadata": {},
   "source": [
    "### 3D. Random Forest"
   ]
  },
  {
   "cell_type": "code",
   "execution_count": 6,
   "metadata": {},
   "outputs": [
    {
     "name": "stderr",
     "output_type": "stream",
     "text": [
      "100%|██████████| 30/30 [14:20<00:00, 28.67s/it]"
     ]
    },
    {
     "name": "stdout",
     "output_type": "stream",
     "text": [
      "0.2678409574468085 10 2 28\n"
     ]
    },
    {
     "name": "stderr",
     "output_type": "stream",
     "text": [
      "\n"
     ]
    }
   ],
   "source": [
    "# This is a grid search for three parameters in the Random Forest algorithm. \n",
    "# Parameters are: max_depth, n_estimators, max_features.\n",
    "# Random_state is set to 45.\n",
    "# This gives the best combination of the three parameters for the smallest mean squared error.\n",
    "\n",
    "min_mae = 99999\n",
    "min_i, min_j, min_k = 0, 0, 0\n",
    "for i in tqdm(range(1, 31)):\n",
    "    for j in range(1, 31):\n",
    "        for k in range(2, 40, 1):\n",
    "            RF_regr = RandomForestRegressor(max_depth=i, \n",
    "                                            n_estimators=j, \n",
    "                                            max_features=k,\n",
    "                                            random_state=45)\n",
    "            RF_regr.fit(X_train_d, np.ravel(Y_train_d))\n",
    "            RF_Y_pred_d = pd.DataFrame(RF_regr.predict(X_test_d))\n",
    "\n",
    "            mae = mean_absolute_error(Y_test_d, RF_Y_pred_d)\n",
    "            if (min_mae > mae):\n",
    "                min_mae = mae\n",
    "                min_i = i\n",
    "                min_j = j\n",
    "                min_k = k\n",
    "            \n",
    "print(min_mae, min_i, min_j, min_k)"
   ]
  },
  {
   "cell_type": "markdown",
   "metadata": {},
   "source": [
    "### 4D. K Neighbors"
   ]
  },
  {
   "cell_type": "code",
   "execution_count": 7,
   "metadata": {},
   "outputs": [
    {
     "name": "stderr",
     "output_type": "stream",
     "text": [
      "100%|██████████| 39/39 [00:17<00:00,  2.18it/s]"
     ]
    },
    {
     "name": "stdout",
     "output_type": "stream",
     "text": [
      "0.2953324468085106 2 38\n"
     ]
    },
    {
     "name": "stderr",
     "output_type": "stream",
     "text": [
      "\n"
     ]
    }
   ],
   "source": [
    "min_mae = 99999\n",
    "min_i, min_j = 0, 0\n",
    "\n",
    "for i in tqdm(range(1, 40)):\n",
    "    for j in range(1, 40):\n",
    "\n",
    "        KNN_reg_d = KNeighborsRegressor(n_neighbors=i, \n",
    "                                      p=j).fit(X_train_d, np.ravel(Y_train_d))\n",
    "\n",
    "        KNN_Y_pred_d = KNN_reg_d.predict(X_test_d)\n",
    "\n",
    "        mae = mean_absolute_error(Y_test_d, KNN_Y_pred_d)\n",
    "\n",
    "        if (min_mae > mae):\n",
    "            min_mae = mae\n",
    "            min_i = i\n",
    "            min_j = j\n",
    "\n",
    "print(min_mae, min_i, min_j)"
   ]
  },
  {
   "cell_type": "markdown",
   "metadata": {},
   "source": [
    "### Saving Decision Tree model"
   ]
  },
  {
   "cell_type": "code",
   "execution_count": 16,
   "metadata": {},
   "outputs": [
    {
     "data": {
      "text/plain": [
       "['./model_SO_diameter_ExtraTrees.joblib']"
      ]
     },
     "execution_count": 16,
     "metadata": {},
     "output_type": "execute_result"
    }
   ],
   "source": [
    "ET_regr_d = ExtraTreesRegressor(n_estimators=5, \n",
    "                                            max_features=16,\n",
    "                                            random_state=7)\n",
    "            \n",
    "ET_regr_d.fit(X_train_d, np.ravel(Y_train_d))\n",
    "ET_Y_pred_d = pd.DataFrame(ET_regr_d.predict(X_test_d))\n",
    "joblib.dump(ET_regr_d, \"./model_SO_diameter_ExtraTrees.joblib\")"
   ]
  },
  {
   "cell_type": "markdown",
   "metadata": {},
   "source": [
    "## E - Optimizing emission model\n"
   ]
  },
  {
   "cell_type": "markdown",
   "metadata": {},
   "source": [
    "### 1E. Extra Trees"
   ]
  },
  {
   "cell_type": "code",
   "execution_count": 8,
   "metadata": {},
   "outputs": [
    {
     "name": "stderr",
     "output_type": "stream",
     "text": [
      "100%|██████████| 24/24 [08:13<00:00, 20.57s/it]"
     ]
    },
    {
     "name": "stdout",
     "output_type": "stream",
     "text": [
      "14.194326241134744 3 21 32\n"
     ]
    },
    {
     "name": "stderr",
     "output_type": "stream",
     "text": [
      "\n"
     ]
    }
   ],
   "source": [
    "# This is a grid search for three parameters in the Extra Trees algorithm. \n",
    "# Parameters are: random_state, n_estimators, max_features.\n",
    "\n",
    "# This gives the best combination of the three parameters for the smallest mean squared error.\n",
    "\n",
    "min_mae = 99999\n",
    "min_i, min_j, min_k = 0, 0, 0\n",
    "for i in tqdm(range(1, 25)):\n",
    "    for j in range(1, 25):\n",
    "        for k in range(2, 50, 1):\n",
    "            ET_regr_e = ExtraTreesRegressor(n_estimators=i, \n",
    "                                            max_features=j,\n",
    "                                            random_state=k)\n",
    "            \n",
    "            ET_regr_e.fit(X_train_e, np.ravel(Y_train_e))\n",
    "            ET_Y_pred_e = pd.DataFrame(ET_regr_e.predict(X_test_e))\n",
    "\n",
    "            mae = mean_absolute_error(Y_test_e, ET_Y_pred_e)\n",
    "            if (min_mae > mae):\n",
    "                min_mae = mae\n",
    "                min_i = i\n",
    "                min_j = j\n",
    "                min_k = k\n",
    "            \n",
    "print(min_mae, min_i, min_j, min_k)"
   ]
  },
  {
   "cell_type": "markdown",
   "metadata": {},
   "source": [
    "### 2E. Decision Trees"
   ]
  },
  {
   "cell_type": "code",
   "execution_count": 9,
   "metadata": {},
   "outputs": [
    {
     "name": "stderr",
     "output_type": "stream",
     "text": [
      "100%|██████████| 29/29 [05:41<00:00, 11.78s/it]"
     ]
    },
    {
     "name": "stdout",
     "output_type": "stream",
     "text": [
      "14.599999999999996 18 2 38\n"
     ]
    },
    {
     "name": "stderr",
     "output_type": "stream",
     "text": [
      "\n"
     ]
    }
   ],
   "source": [
    "# This is a grid search for three parameters in the Decision Trees algorithm. \n",
    "\n",
    "# This gives the best combination of the three parameters for the smallest mean squared error.\n",
    "\n",
    "min_mae = 99999\n",
    "\n",
    "min_i, min_j, min_k  = 0, 0, 0\n",
    "\n",
    "for i in tqdm(range(1, 30)):\n",
    "    for j in range(1, 30):\n",
    "        for k in range(4, 60, 1):\n",
    "            \n",
    "            DT_regr_e = DecisionTreeRegressor(max_depth=i,\n",
    "                                max_features=j,\n",
    "                                random_state=k)\n",
    "            \n",
    "            DT_regr_e.fit(X_train_e, np.ravel(Y_train_e))\n",
    "            DT_Y_pred_e = pd.DataFrame(DT_regr_e.predict(X_test_e))\n",
    "\n",
    "            mae = mean_absolute_error(Y_test_e, DT_Y_pred_e)\n",
    "            \n",
    "            if (min_mae > mae):\n",
    "                min_mae = mae\n",
    "                min_i = i\n",
    "                min_j = j\n",
    "                min_k = k\n",
    "            \n",
    "print(min_mae, min_i, min_j, min_k)"
   ]
  },
  {
   "cell_type": "markdown",
   "metadata": {},
   "source": [
    "### 3E. Random Forest"
   ]
  },
  {
   "cell_type": "code",
   "execution_count": 10,
   "metadata": {},
   "outputs": [
    {
     "name": "stderr",
     "output_type": "stream",
     "text": [
      "100%|██████████| 26/26 [14:34<00:00, 33.65s/it]"
     ]
    },
    {
     "name": "stdout",
     "output_type": "stream",
     "text": [
      "16.095309017223904 10 4 10\n"
     ]
    },
    {
     "name": "stderr",
     "output_type": "stream",
     "text": [
      "\n"
     ]
    }
   ],
   "source": [
    "min_mae = 99999\n",
    "min_i, min_j, min_k = 0, 0, 0\n",
    "for i in tqdm(range(1, 27)):\n",
    "    for j in range(1, 27):\n",
    "        for k in range(2, 46, 1):\n",
    "            RF_regr_e = RandomForestRegressor(max_depth=i, \n",
    "                                            n_estimators=j, \n",
    "                                            max_features=k,\n",
    "                                            random_state=45)\n",
    "            RF_regr_e.fit(X_train_e, np.ravel(Y_train_e))\n",
    "            RF_Y_pred_e = pd.DataFrame(RF_regr_e.predict(X_test_e))\n",
    "\n",
    "            mae = mean_absolute_error(Y_test_e, RF_Y_pred_e)\n",
    "            if (min_mae > mae):\n",
    "                min_mae = mae\n",
    "                min_i = i\n",
    "                min_j = j\n",
    "                min_k = k\n",
    "            \n",
    "print(min_mae, min_i, min_j, min_k)"
   ]
  },
  {
   "cell_type": "markdown",
   "metadata": {},
   "source": [
    "### 4E. K Neighbors"
   ]
  },
  {
   "cell_type": "code",
   "execution_count": 11,
   "metadata": {
    "scrolled": false
   },
   "outputs": [
    {
     "name": "stderr",
     "output_type": "stream",
     "text": [
      "100%|██████████| 39/39 [00:20<00:00,  1.90it/s]"
     ]
    },
    {
     "name": "stdout",
     "output_type": "stream",
     "text": [
      "20.553191489361698 1 1\n"
     ]
    },
    {
     "name": "stderr",
     "output_type": "stream",
     "text": [
      "\n"
     ]
    }
   ],
   "source": [
    "min_mae = 99999\n",
    "min_i, min_j = 0, 0\n",
    "\n",
    "for i in tqdm(range(1, 40)):\n",
    "    for j in range(1, 40):\n",
    "\n",
    "        KNN_reg_e = KNeighborsRegressor(n_neighbors=i, \n",
    "                                      p=j).fit(X_train_e, np.ravel(Y_train_e))\n",
    "\n",
    "        KNN_Y_pred_e = KNN_reg_e.predict(X_test_e)\n",
    "\n",
    "        mae = mean_absolute_error(Y_test_e, KNN_Y_pred_e)\n",
    "\n",
    "        if (min_mae > mae):\n",
    "            min_mae = mae\n",
    "            min_i = i\n",
    "            min_j = j\n",
    "\n",
    "print(min_mae, min_i, min_j)"
   ]
  },
  {
   "cell_type": "markdown",
   "metadata": {},
   "source": [
    "### Saving Extra Trees model"
   ]
  },
  {
   "cell_type": "code",
   "execution_count": 33,
   "metadata": {},
   "outputs": [
    {
     "data": {
      "text/plain": [
       "['./model_SO_emission_ExtraTrees.joblib']"
      ]
     },
     "execution_count": 33,
     "metadata": {},
     "output_type": "execute_result"
    }
   ],
   "source": [
    "ET_regr_e = ExtraTreesRegressor(n_estimators=18, \n",
    "                                            max_features=21,\n",
    "                                            random_state=32)\n",
    "            \n",
    "ET_regr_e.fit(X_train_e, np.ravel(Y_train_e))\n",
    "ET_Y_pred_e = pd.DataFrame(ET_regr_e.predict(X_test_e))\n",
    "\n",
    "joblib.dump(ET_regr_e, \"./model_SO_emission_ExtraTrees.joblib\")"
   ]
  },
  {
   "cell_type": "markdown",
   "metadata": {},
   "source": [
    "## A - Optimizing absorption model\n"
   ]
  },
  {
   "cell_type": "markdown",
   "metadata": {},
   "source": [
    "### 1A: Extra Trees"
   ]
  },
  {
   "cell_type": "code",
   "execution_count": 12,
   "metadata": {},
   "outputs": [
    {
     "name": "stderr",
     "output_type": "stream",
     "text": [
      "100%|██████████| 29/29 [16:22<00:00, 33.86s/it]"
     ]
    },
    {
     "name": "stdout",
     "output_type": "stream",
     "text": [
      "20.44148936170213 4 16 14\n"
     ]
    },
    {
     "name": "stderr",
     "output_type": "stream",
     "text": [
      "\n"
     ]
    }
   ],
   "source": [
    "# This is a grid search for three parameters in the Extra Trees algorithm. \n",
    "# Parameters are: random_state, n_estimators, max_features.\n",
    "\n",
    "# This gives the best combination of the three parameters for the smallest mean squared error.\n",
    "\n",
    "min_mae = 99999\n",
    "min_i, min_j, min_k = 0, 0, 0\n",
    "for i in tqdm(range(1, 30)):\n",
    "    for j in range(1, 30):\n",
    "        for k in range(2, 48, 1):\n",
    "            ET_regr_a = ExtraTreesRegressor(n_estimators=i, \n",
    "                                            max_features=j,\n",
    "                                            random_state=k)\n",
    "            \n",
    "            ET_regr_a.fit(X_train_a, np.ravel(Y_train_a))\n",
    "            ET_Y_pred_a = pd.DataFrame(ET_regr_a.predict(X_test_a))\n",
    "\n",
    "            mae = mean_absolute_error(Y_test_a, ET_Y_pred_a)\n",
    "            if (min_mae > mae):\n",
    "                min_mae = mae\n",
    "                min_i = i\n",
    "                min_j = j\n",
    "                min_k = k\n",
    "            \n",
    "print(min_mae, min_i, min_j, min_k)"
   ]
  },
  {
   "cell_type": "markdown",
   "metadata": {},
   "source": [
    "### 2A. Decision Trees\n"
   ]
  },
  {
   "cell_type": "code",
   "execution_count": 13,
   "metadata": {},
   "outputs": [
    {
     "name": "stderr",
     "output_type": "stream",
     "text": [
      "100%|██████████| 27/27 [03:56<00:00,  8.74s/it]"
     ]
    },
    {
     "name": "stdout",
     "output_type": "stream",
     "text": [
      "24.087234042553188 12 19 44\n"
     ]
    },
    {
     "name": "stderr",
     "output_type": "stream",
     "text": [
      "\n"
     ]
    }
   ],
   "source": [
    "# This is a grid search for three parameters in the Decision Trees algorithm. \n",
    "\n",
    "# This gives the best combination of the three parameters for the smallest mean squared error.\n",
    "\n",
    "min_mae = 99999\n",
    "\n",
    "min_i, min_j, min_k  = 0, 0, 0\n",
    "\n",
    "for i in tqdm(range(1, 28)):\n",
    "    for j in range(1, 28):\n",
    "        for k in range(4, 46, 1):\n",
    "            \n",
    "            DT_regr_a = DecisionTreeRegressor(max_depth=i,\n",
    "                                max_features=j,\n",
    "                                random_state=k)\n",
    "            \n",
    "            DT_regr_a.fit(X_train_a, np.ravel(Y_train_a))\n",
    "            DT_Y_pred_a = pd.DataFrame(DT_regr_a.predict(X_test_a))\n",
    "\n",
    "            mae = mean_absolute_error(Y_test_a, DT_Y_pred_a)\n",
    "            \n",
    "            if (min_mae > mae):\n",
    "                min_mae = mae\n",
    "                min_i = i\n",
    "                min_j = j\n",
    "                min_k = k\n",
    "            \n",
    "print(min_mae, min_i, min_j, min_k)"
   ]
  },
  {
   "cell_type": "code",
   "execution_count": null,
   "metadata": {},
   "outputs": [],
   "source": [
    "DT_regr_a = DecisionTreeRegressor(max_depth=20,\n",
    "                                max_features=20,\n",
    "                                random_state=12).fit(X_train_a, np.ravel(Y_train_a))\n",
    "                  \n",
    "DT_Y_pred_a = DT_regr_a.predict(X_test_a)\n",
    "\n",
    "\n",
    "DT_r2_a = r2_score(Y_test_a, DT_Y_pred_a)\n",
    "DT_MSE_a = mean_squared_error(Y_test_a, DT_Y_pred_a)\n",
    "DT_RMSE_a = mean_squared_error(Y_test_a, DT_Y_pred_a, squared=False)\n",
    "DT_MAE_a = mean_absolute_error(Y_test_a, DT_Y_pred_a)\n",
    "print('diameter:', 'r2:', DT_r2_a, '; MSE:', DT_MSE_a, '; RMSE:', DT_RMSE_a, '; MAE:', DT_MAE_a)"
   ]
  },
  {
   "cell_type": "markdown",
   "metadata": {},
   "source": [
    "### 3A. Random Forest"
   ]
  },
  {
   "cell_type": "code",
   "execution_count": 14,
   "metadata": {},
   "outputs": [
    {
     "name": "stderr",
     "output_type": "stream",
     "text": [
      "100%|██████████| 24/24 [10:32<00:00, 26.37s/it]"
     ]
    },
    {
     "name": "stdout",
     "output_type": "stream",
     "text": [
      "24.75670051579626 7 4 29\n"
     ]
    },
    {
     "name": "stderr",
     "output_type": "stream",
     "text": [
      "\n"
     ]
    }
   ],
   "source": [
    "min_mae = 99999\n",
    "min_i, min_j, min_k = 0, 0, 0\n",
    "for i in tqdm(range(1, 25)):\n",
    "    for j in range(1, 25):\n",
    "        for k in range(2, 42, 1):\n",
    "            RF_regr_a = RandomForestRegressor(max_depth=i, \n",
    "                                            n_estimators=j, \n",
    "                                            max_features=k,\n",
    "                                            random_state=45)\n",
    "            RF_regr_a.fit(X_train_a, np.ravel(Y_train_a))\n",
    "            RF_Y_pred_a = pd.DataFrame(RF_regr_a.predict(X_test_a))\n",
    "\n",
    "            mae = mean_absolute_error(Y_test_a, RF_Y_pred_a)\n",
    "            if (min_mae > mae):\n",
    "                min_mae = mae\n",
    "                min_i = i\n",
    "                min_j = j\n",
    "                min_k = k\n",
    "            \n",
    "print(min_mae, min_i, min_j, min_k)"
   ]
  },
  {
   "cell_type": "code",
   "execution_count": null,
   "metadata": {},
   "outputs": [],
   "source": []
  },
  {
   "cell_type": "markdown",
   "metadata": {},
   "source": [
    "### 4A. K Neighbors"
   ]
  },
  {
   "cell_type": "code",
   "execution_count": 15,
   "metadata": {},
   "outputs": [
    {
     "name": "stderr",
     "output_type": "stream",
     "text": [
      "100%|██████████| 39/39 [00:20<00:00,  1.93it/s]"
     ]
    },
    {
     "name": "stdout",
     "output_type": "stream",
     "text": [
      "29.872340425531913 2 2\n"
     ]
    },
    {
     "name": "stderr",
     "output_type": "stream",
     "text": [
      "\n"
     ]
    }
   ],
   "source": [
    "min_mae = 99999\n",
    "min_i, min_j = 0, 0\n",
    "\n",
    "for i in tqdm(range(1, 40)):\n",
    "    for j in range(1, 40):\n",
    "\n",
    "        KNN_reg_a = KNeighborsRegressor(n_neighbors=i, \n",
    "                                      p=j).fit(X_train_a, np.ravel(Y_train_a))\n",
    "\n",
    "        KNN_Y_pred_a = KNN_reg_a.predict(X_test_a)\n",
    "\n",
    "        mae = mean_absolute_error(Y_test_a, KNN_Y_pred_a)\n",
    "\n",
    "        if (min_mae > mae):\n",
    "            min_mae = mae\n",
    "            min_i = i\n",
    "            min_j = j\n",
    "\n",
    "print(min_mae, min_i, min_j)"
   ]
  },
  {
   "cell_type": "markdown",
   "metadata": {},
   "source": [
    "### Saving model"
   ]
  },
  {
   "cell_type": "code",
   "execution_count": 18,
   "metadata": {},
   "outputs": [
    {
     "data": {
      "text/plain": [
       "['./model_SO_abs_ExtraTrees.joblib']"
      ]
     },
     "execution_count": 18,
     "metadata": {},
     "output_type": "execute_result"
    }
   ],
   "source": [
    "ET_regr_a = ExtraTreesRegressor(n_estimators=4, \n",
    "                                            max_features=16,\n",
    "                                            random_state=14)\n",
    "            \n",
    "ET_regr_a.fit(X_train_a, np.ravel(Y_train_a))\n",
    "ET_Y_pred_a = pd.DataFrame(ET_regr_a.predict(X_test_a))\n",
    "\n",
    "joblib.dump(ET_regr_a, \"./model_SO_abs_ExtraTrees.joblib\")"
   ]
  },
  {
   "cell_type": "markdown",
   "metadata": {},
   "source": [
    "## Analyzing"
   ]
  },
  {
   "cell_type": "code",
   "execution_count": 20,
   "metadata": {
    "scrolled": true
   },
   "outputs": [
    {
     "name": "stdout",
     "output_type": "stream",
     "text": [
      "Outputs           R2    Mean absolute error    Mean squared error    Root mean squared error\n",
      "----------  --------  ---------------------  --------------------  -------------------------\n",
      "Diameter    0.73668                0.238989              0.144575                   0.380231\n",
      "Absorption  0.422766              30.9894             1548.31                      39.3485\n",
      "Emission    0.515682              17.2704              717.587                     26.7878\n"
     ]
    }
   ],
   "source": [
    "## Diameter\n",
    "\n",
    "ET_regr_d = ExtraTreesRegressor(n_estimators=5, \n",
    "                                            max_features=16,\n",
    "                                            random_state=7)\n",
    "            \n",
    "ET_regr_d.fit(X_train_d, np.ravel(Y_train_d))\n",
    "ET_Y_pred_d = ET_regr_d.predict(X_test_d)\n",
    "\n",
    "D_mae = mean_absolute_error(Y_test_d, ET_Y_pred_d)\n",
    "D_r_2 = r2_score(Y_test_d, ET_Y_pred_d)\n",
    "D_mse = mean_squared_error(Y_test_d, ET_Y_pred_d)\n",
    "D_rmse = mean_squared_error(Y_test_d, ET_Y_pred_d, squared=False)\n",
    "\n",
    "## Emission\n",
    "\n",
    "ET_regr_e = ExtraTreesRegressor(n_estimators=18, \n",
    "                                            max_features=21,\n",
    "                                            random_state=32)\n",
    "            \n",
    "ET_regr_e.fit(X_train_e, np.ravel(Y_train_e))\n",
    "ET_Y_pred_e = ET_regr_e.predict(X_test_e)\n",
    "\n",
    "E_mae = mean_absolute_error(Y_test_e, ET_Y_pred_e)\n",
    "E_r_2 = r2_score(Y_test_e, ET_Y_pred_e)\n",
    "E_mse = mean_squared_error(Y_test_e, ET_Y_pred_e)\n",
    "E_rmse = mean_squared_error(Y_test_e, ET_Y_pred_e, squared=False)\n",
    "\n",
    "\n",
    "### Absorption\n",
    "\n",
    "ET_regr_a = ExtraTreesRegressor(n_estimators=4, \n",
    "                                            max_features=16,\n",
    "                                            random_state=4)\n",
    "            \n",
    "ET_regr_a.fit(X_train_a, np.ravel(Y_train_a))\n",
    "ET_Y_pred_a = ET_regr_a.predict(X_test_a)\n",
    "\n",
    "A_mae = mean_absolute_error(Y_test_a, ET_Y_pred_a)\n",
    "A_r_2 = r2_score(Y_test_a, ET_Y_pred_a)\n",
    "A_mse = mean_squared_error(Y_test_a, ET_Y_pred_a)\n",
    "A_rmse = mean_squared_error(Y_test_a, ET_Y_pred_a, squared=False)\n",
    "\n",
    "\n",
    "from tabulate import tabulate\n",
    "\n",
    "d = [ [\"Diameter\", D_r_2, D_mae, D_mse, D_rmse],\n",
    "     [\"Absorption\", A_r_2, A_mae, A_mse, A_rmse],\n",
    "     [\"Emission\", E_r_2, E_mae, E_mse, E_rmse]]\n",
    "\n",
    "print(tabulate(d, headers=[\"Outputs\", \"R2\", \"Mean absolute error\", \"Mean squared error\", \"Root mean squared error\"]))"
   ]
  },
  {
   "cell_type": "code",
   "execution_count": 21,
   "metadata": {},
   "outputs": [
    {
     "data": {
      "image/png": "[encoded data removed]",
      "text/plain": [
       "<Figure size 1440x360 with 3 Axes>"
      ]
     },
     "metadata": {
      "needs_background": "light"
     },
     "output_type": "display_data"
    }
   ],
   "source": [
    "fig, (ax1, ax2, ax3) = plt.subplots(1, 3, figsize=(20,5))\n",
    "fig.suptitle('Single Outputs', fontsize=25)\n",
    "\n",
    "ax1.plot(Y_test_d, ET_Y_pred_d,'o')\n",
    "ax1.plot([1,6.5],[1,6.5], color = 'r')\n",
    "ax1.set_title('Diameter')\n",
    "ax1.set(xlabel='Observed Values (nm)', ylabel='Predicted Values (nm)')\n",
    "\n",
    "ax2.plot(Y_test_a, ET_Y_pred_a,'o')\n",
    "ax2.plot([400,750],[400,750], color = 'r')\n",
    "ax2.set_title('Absorption')\n",
    "ax2.set(xlabel='Observed Values (nm)', ylabel='Predicted Values (nm)')\n",
    "\n",
    "ax3.plot(Y_test_e, ET_Y_pred_e,'o')\n",
    "ax3.plot([450,800],[450,800], color = 'r')\n",
    "ax3.set_title('Emission')\n",
    "ax3.set(xlabel='Observed Values (nm)', ylabel='Predicted Values (nm)')\n",
    "\n",
    "\n",
    "fig.tight_layout()"
   ]
  },
  {
   "cell_type": "markdown",
   "metadata": {},
   "source": [
    "## Feature importance"
   ]
  },
  {
   "cell_type": "markdown",
   "metadata": {},
   "source": [
    "### For diameter prediction"
   ]
  },
  {
   "cell_type": "code",
   "execution_count": 22,
   "metadata": {},
   "outputs": [
    {
     "data": {
      "text/plain": [
       "[('time_min', 0.32808699158783244),\n",
       " ('x0_indium trifluoroacetate', 0.1355904454601718),\n",
       " ('x7_zinc iodide', 0.0709001003627628),\n",
       " ('x1_tris(dimethylamino)phosphine', 0.06434904378446536),\n",
       " ('amine_amount_mmol', 0.05326493999978636),\n",
       " ('total_volume_ml', 0.04144816509713936),\n",
       " ('x8_trioctylphosphine oxide', 0.03332333622900576),\n",
       " ('temp_c', 0.03112906468522663),\n",
       " ('x8_trioctylamine', 0.02927805384678046),\n",
       " ('p_amount_mmol', 0.025162804218861357),\n",
       " ('x0_indium iodide', 0.01963017774739606),\n",
       " ('x8_water', 0.017837065779532875),\n",
       " ('in_amount_mmol', 0.015784500837688335),\n",
       " ('acid_amount_mmol', 0.014633097675553746),\n",
       " ('x5_None', 0.0116820864177045),\n",
       " ('x5_octylamine', 0.010098933724863502),\n",
       " ('zinc_amount_mmol', 0.008520377131989146),\n",
       " ('other_amount_mmol', 0.008203979101382089),\n",
       " ('x5_oleylamine', 0.00745861985272842),\n",
       " ('x8_copper bromide', 0.007306595842669089),\n",
       " ('x1_tris(trimethylsilyl)phosphine', 0.006380014039259087),\n",
       " ('x4_myristic acid', 0.0053483271444681344),\n",
       " ('x2_None', 0.005213332950122114),\n",
       " ('x3_None', 0.004096335419640768),\n",
       " ('x1_tris(diethylamino)phosphine', 0.00395031685008979),\n",
       " ('x7_zinc chloride', 0.003884143314183031),\n",
       " ('x7_None', 0.0037522487776120083),\n",
       " ('x2_octadecene', 0.0035207855252720674),\n",
       " ('x8_None', 0.0034434777928279204),\n",
       " ('x4_stearic acid', 0.0029800818731316003),\n",
       " ('x5_dodecylamine', 0.002739805136058608),\n",
       " ('x3_trioctylphosphine', 0.0022236441681324206),\n",
       " ('x0_indium acetate', 0.001957173765601087),\n",
       " ('x4_None', 0.0018274897770537211),\n",
       " ('x4_oleic acid', 0.001629823758706074),\n",
       " ('x5_hexadecylamine', 0.0015190219907207612),\n",
       " ('sol_amount_ml', 0.0014565764031341563),\n",
       " ('x7_zinc undecylenate', 0.0014293595653558301),\n",
       " ('x0_indium chloride', 0.0014154229115394775),\n",
       " ('TOP_amount_mmol', 0.0013468794500316459),\n",
       " ('x7_zinc oleate', 0.0013168556369956524),\n",
       " ('x1_tris(trimethylgermyl)phosphine', 0.0011389669723207432),\n",
       " ('x7_zinc bromide', 0.0011211468419615861),\n",
       " ('x0_indium myristate', 0.0009508791814421165),\n",
       " ('x4_palmitic acid', 0.0004952997112593986),\n",
       " ('x1_phosphorus trichloride', 0.0002700576869073098),\n",
       " ('x2_toluene', 0.0002681645559726288),\n",
       " ('x8_superhydride', 0.0002649753847516259),\n",
       " ('x4_lauric acid', 0.00022280371962501286),\n",
       " ('x0_indium bromide', 0.00010506649242879272),\n",
       " ('x1_bis(trimethylsilyl)phosphine', 4.314381985475133e-05),\n",
       " ('thiol_amount_mmol', 0.0),\n",
       " ('x5_dioctylamine', 0.0),\n",
       " ('x6_None', 0.0),\n",
       " ('x7_zinc stearate', 0.0),\n",
       " ('x8_acetic acid', 0.0),\n",
       " ('x8_tetrabutylammonium myristate', 0.0),\n",
       " ('x8_zinc iodide', 0.0)]"
      ]
     },
     "execution_count": 22,
     "metadata": {},
     "output_type": "execute_result"
    }
   ],
   "source": [
    "importance_dict_d = dict()\n",
    "for i in range(0,58):\n",
    "    importance_dict_d[input_col[i]] = ET_regr_d.feature_importances_[i]\n",
    "\n",
    "sorted_importance_d = sorted(importance_dict_d.items(), key=lambda x: x[1], reverse=True)\n",
    "\n",
    "sorted_importance_d\n"
   ]
  },
  {
   "cell_type": "code",
   "execution_count": 23,
   "metadata": {},
   "outputs": [
    {
     "data": {
      "image/png": "[encoded data removed]",
      "text/plain": [
       "<Figure size 1490.4x595.44 with 1 Axes>"
      ]
     },
     "metadata": {
      "needs_background": "light"
     },
     "output_type": "display_data"
    }
   ],
   "source": [
    "top7_d = DataFrame(sorted_importance_d[0:7], columns=['features', 'importance score'])\n",
    "\n",
    "others_d = DataFrame(sorted_importance_d[7:], columns=['features', 'importance score'])\n",
    "\n",
    "\n",
    "import seaborn as sns\n",
    "\n",
    "a4_dims = (20.7, 8.27)\n",
    "fig, ax = plt.subplots(figsize=a4_dims)\n",
    "sns.set_theme(style=\"whitegrid\")\n",
    "\n",
    "ax = sns.barplot(x=\"features\", y=\"importance score\", data=top7_d)"
   ]
  },
  {
   "cell_type": "markdown",
   "metadata": {},
   "source": [
    "### Emission prediction"
   ]
  },
  {
   "cell_type": "code",
   "execution_count": 24,
   "metadata": {},
   "outputs": [
    {
     "data": {
      "text/plain": [
       "[('x7_None', 0.14459239883709155),\n",
       " ('time_min', 0.10017624429208866),\n",
       " ('temp_c', 0.09901281367994494),\n",
       " ('zinc_amount_mmol', 0.08112507194499892),\n",
       " ('x7_zinc oleate', 0.08030082840150171),\n",
       " ('x7_zinc iodide', 0.046579798510442444),\n",
       " ('x7_zinc chloride', 0.03654248808694348),\n",
       " ('acid_amount_mmol', 0.036502884396596866),\n",
       " ('p_amount_mmol', 0.02946381477029448),\n",
       " ('x0_indium iodide', 0.02657094553505085),\n",
       " ('in_amount_mmol', 0.025768199877811447),\n",
       " ('x8_None', 0.023480422674695973),\n",
       " ('x5_None', 0.01791136144898555),\n",
       " ('x4_stearic acid', 0.01735607278485225),\n",
       " ('other_amount_mmol', 0.017331953386782204),\n",
       " ('x1_tris(dimethylamino)phosphine', 0.01709389895845844),\n",
       " ('amine_amount_mmol', 0.012921889368278289),\n",
       " ('x8_copper bromide', 0.012778355973142586),\n",
       " ('x0_indium chloride', 0.012502757974945189),\n",
       " ('x2_octadecene', 0.011646853705073392),\n",
       " ('x7_zinc bromide', 0.011588267132761463),\n",
       " ('x3_trioctylphosphine', 0.01101373763585922),\n",
       " ('total_volume_ml', 0.00980785129124604),\n",
       " ('x8_trioctylamine', 0.009367310595314276),\n",
       " ('x8_water', 0.008757452126416258),\n",
       " ('x3_None', 0.008633716972972551),\n",
       " ('x4_None', 0.007435703571060272),\n",
       " ('sol_amount_ml', 0.0073714355886974016),\n",
       " ('x4_oleic acid', 0.0073636793617784385),\n",
       " ('x8_trioctylphosphine oxide', 0.0069444096110917435),\n",
       " ('x5_oleylamine', 0.006750179619571781),\n",
       " ('TOP_amount_mmol', 0.0065082095349110435),\n",
       " ('x4_myristic acid', 0.00615781706751631),\n",
       " ('x2_None', 0.0045424655502919395),\n",
       " ('x4_lauric acid', 0.0045422099970775865),\n",
       " ('x1_tris(diethylamino)phosphine', 0.004292229602404358),\n",
       " ('x7_zinc undecylenate', 0.003769671479822087),\n",
       " ('x5_hexadecylamine', 0.0036826663836716203),\n",
       " ('x7_zinc stearate', 0.0036485775738787935),\n",
       " ('x5_octylamine', 0.0032401149171774565),\n",
       " ('x0_indium bromide', 0.0025177558404066804),\n",
       " ('x0_indium myristate', 0.0024375843701390583),\n",
       " ('x8_zinc iodide', 0.0017117732788583468),\n",
       " ('x5_dodecylamine', 0.0016625825797926467),\n",
       " ('x0_indium acetate', 0.0016185263010690383),\n",
       " ('x2_toluene', 0.0014378045893388225),\n",
       " ('x1_tris(trimethylgermyl)phosphine', 0.0010869527036051828),\n",
       " ('x1_tris(trimethylsilyl)phosphine', 0.0007860013819982381),\n",
       " ('x4_palmitic acid', 0.0006907203977182626),\n",
       " ('x1_phosphorus trichloride', 0.0004915358843782736),\n",
       " ('x8_superhydride', 0.00044406543847262263),\n",
       " ('x0_indium trifluoroacetate', 2.213741906520984e-05),\n",
       " ('x1_bis(trimethylsilyl)phosphine', 1.5791160268285387e-05),\n",
       " ('x8_tetrabutylammonium myristate', 8.433389500627172e-09),\n",
       " ('thiol_amount_mmol', 0.0),\n",
       " ('x5_dioctylamine', 0.0),\n",
       " ('x6_None', 0.0),\n",
       " ('x8_acetic acid', 0.0)]"
      ]
     },
     "execution_count": 24,
     "metadata": {},
     "output_type": "execute_result"
    }
   ],
   "source": [
    "importance_dict_e = dict()\n",
    "for i in range(0,58):\n",
    "    importance_dict_e[input_col[i]] = ET_regr_e.feature_importances_[i]\n",
    "\n",
    "sorted_importance_e = sorted(importance_dict_e.items(), key=lambda x: x[1], reverse=True)\n",
    "\n",
    "\n",
    "sorted_importance_e\n"
   ]
  },
  {
   "cell_type": "code",
   "execution_count": 25,
   "metadata": {},
   "outputs": [
    {
     "data": {
      "image/png": "[encoded data removed]",
      "text/plain": [
       "<Figure size 1490.4x595.44 with 1 Axes>"
      ]
     },
     "metadata": {},
     "output_type": "display_data"
    }
   ],
   "source": [
    "top7_e = DataFrame(sorted_importance_e[0:7], columns=['features', 'importance score'])\n",
    "\n",
    "others_e = DataFrame(sorted_importance_e[7:], columns=['features', 'importance score'])\n",
    "\n",
    "# combined_others2 = pd.DataFrame(data = {\n",
    "#     'features' : ['others'],\n",
    "#     'importance score' : [others2['importance score'].sum()]\n",
    "# })\n",
    "\n",
    "# #combining top 10 with others\n",
    "# imp_score2 = pd.concat([top7, combined_others2])\n",
    "\n",
    "import seaborn as sns\n",
    "\n",
    "a4_dims = (20.7, 8.27)\n",
    "fig, ax = plt.subplots(figsize=a4_dims)\n",
    "sns.set_theme(style=\"whitegrid\")\n",
    "\n",
    "ax = sns.barplot(x=\"features\", y=\"importance score\", data=top7_e)"
   ]
  },
  {
   "cell_type": "markdown",
   "metadata": {},
   "source": [
    "### Absorption prediction"
   ]
  },
  {
   "cell_type": "code",
   "execution_count": 26,
   "metadata": {},
   "outputs": [
    {
     "data": {
      "text/plain": [
       "[('time_min', 0.18432611435009832),\n",
       " ('temp_c', 0.1818911261492949),\n",
       " ('zinc_amount_mmol', 0.05606782554222582),\n",
       " ('acid_amount_mmol', 0.04706397585039995),\n",
       " ('x7_zinc oleate', 0.045015043034389815),\n",
       " ('in_amount_mmol', 0.03938661554394668),\n",
       " ('total_volume_ml', 0.037261643417691406),\n",
       " ('x8_water', 0.030764594281939745),\n",
       " ('x8_copper bromide', 0.02922686491326776),\n",
       " ('x3_None', 0.028690186373703436),\n",
       " ('x7_zinc chloride', 0.028550073802275422),\n",
       " ('x7_None', 0.027500851509772054),\n",
       " ('x4_myristic acid', 0.02686742630914086),\n",
       " ('x7_zinc iodide', 0.019743120009400556),\n",
       " ('x4_None', 0.01875763768198923),\n",
       " ('x1_tris(diethylamino)phosphine', 0.018359372822522084),\n",
       " ('amine_amount_mmol', 0.018027958458058026),\n",
       " ('x5_None', 0.017736835682687958),\n",
       " ('other_amount_mmol', 0.012541153088892035),\n",
       " ('p_amount_mmol', 0.01244157557883328),\n",
       " ('x8_trioctylamine', 0.012159554373235983),\n",
       " ('x4_stearic acid', 0.011999720019905458),\n",
       " ('x7_zinc bromide', 0.009003482757688731),\n",
       " ('x8_trioctylphosphine oxide', 0.007908080955315375),\n",
       " ('x0_indium iodide', 0.006530250523913645),\n",
       " ('x2_octadecene', 0.00632567758201128),\n",
       " ('x5_octylamine', 0.005765944183238952),\n",
       " ('TOP_amount_mmol', 0.005683493663570902),\n",
       " ('x4_oleic acid', 0.005087885942866596),\n",
       " ('sol_amount_ml', 0.00497250181632698),\n",
       " ('x2_None', 0.0045953070047435466),\n",
       " ('x8_None', 0.004462767542936835),\n",
       " ('x5_oleylamine', 0.004420657488299048),\n",
       " ('x1_tris(trimethylsilyl)phosphine', 0.003916898717740072),\n",
       " ('x0_indium chloride', 0.003615187998909173),\n",
       " ('x4_lauric acid', 0.0032736454088924693),\n",
       " ('x0_indium acetate', 0.00314867293714595),\n",
       " ('x4_palmitic acid', 0.002984936622485755),\n",
       " ('x3_trioctylphosphine', 0.002974030514027967),\n",
       " ('x7_zinc undecylenate', 0.002705500350170862),\n",
       " ('x7_zinc stearate', 0.0021343629064770318),\n",
       " ('x0_indium bromide', 0.002009787051154732),\n",
       " ('x1_phosphorus trichloride', 0.0012663503854400834),\n",
       " ('x2_toluene', 0.001075514238326163),\n",
       " ('x0_indium trifluoroacetate', 0.0006183229733398943),\n",
       " ('x1_tris(trimethylgermyl)phosphine', 0.0005945016235621317),\n",
       " ('x8_superhydride', 0.0004972795903757408),\n",
       " ('x8_tetrabutylammonium myristate', 4.969042736933807e-05),\n",
       " ('thiol_amount_mmol', 0.0),\n",
       " ('x0_indium myristate', 0.0),\n",
       " ('x1_bis(trimethylsilyl)phosphine', 0.0),\n",
       " ('x1_tris(dimethylamino)phosphine', 0.0),\n",
       " ('x5_dioctylamine', 0.0),\n",
       " ('x5_dodecylamine', 0.0),\n",
       " ('x5_hexadecylamine', 0.0),\n",
       " ('x6_None', 0.0),\n",
       " ('x8_acetic acid', 0.0),\n",
       " ('x8_zinc iodide', 0.0)]"
      ]
     },
     "execution_count": 26,
     "metadata": {},
     "output_type": "execute_result"
    }
   ],
   "source": [
    "importance_dict_a = dict()\n",
    "for i in range(0,58):\n",
    "    importance_dict_a[input_col[i]] = ET_regr_a.feature_importances_[i]\n",
    "\n",
    "sorted_importance_a = sorted(importance_dict_a.items(), key=lambda x: x[1], reverse=True)\n",
    "\n",
    "sorted_importance_a"
   ]
  },
  {
   "cell_type": "code",
   "execution_count": 27,
   "metadata": {},
   "outputs": [
    {
     "data": {
      "image/png": "[encoded data removed]",
      "text/plain": [
       "<Figure size 1490.4x595.44 with 1 Axes>"
      ]
     },
     "metadata": {},
     "output_type": "display_data"
    }
   ],
   "source": [
    "top7_a = DataFrame(sorted_importance_a[0:7], columns=['features', 'importance score'])\n",
    "\n",
    "others_a = DataFrame(sorted_importance_a[7:], columns=['features', 'importance score'])\n",
    "\n",
    "import seaborn as sns\n",
    "\n",
    "a4_dims = (20.7, 8.27)\n",
    "fig, ax = plt.subplots(figsize=a4_dims)\n",
    "sns.set_theme(style=\"whitegrid\")\n",
    "\n",
    "ax = sns.barplot(x=\"features\", y=\"importance score\", data=top7_a)"
   ]
  },
  {
   "cell_type": "code",
   "execution_count": 28,
   "metadata": {},
   "outputs": [
    {
     "data": {
      "text/plain": [
       "{'in_amount_mmol': 0.03938661554394668,\n",
       " 'p_amount_mmol': 0.01244157557883328,\n",
       " 'sol_amount_ml': 0.00497250181632698,\n",
       " 'TOP_amount_mmol': 0.005683493663570902,\n",
       " 'acid_amount_mmol': 0.04706397585039995,\n",
       " 'amine_amount_mmol': 0.018027958458058026,\n",
       " 'thiol_amount_mmol': 0.0,\n",
       " 'zinc_amount_mmol': 0.05606782554222582,\n",
       " 'other_amount_mmol': 0.012541153088892035,\n",
       " 'total_volume_ml': 0.037261643417691406,\n",
       " 'temp_c': 0.1818911261492949,\n",
       " 'time_min': 0.18432611435009832,\n",
       " 'x0_indium acetate': 0.00314867293714595,\n",
       " 'x0_indium bromide': 0.002009787051154732,\n",
       " 'x0_indium chloride': 0.003615187998909173,\n",
       " 'x0_indium iodide': 0.006530250523913645,\n",
       " 'x0_indium myristate': 0.0,\n",
       " 'x0_indium trifluoroacetate': 0.0006183229733398943,\n",
       " 'x1_bis(trimethylsilyl)phosphine': 0.0,\n",
       " 'x1_phosphorus trichloride': 0.0012663503854400834,\n",
       " 'x1_tris(diethylamino)phosphine': 0.018359372822522084,\n",
       " 'x1_tris(dimethylamino)phosphine': 0.0,\n",
       " 'x1_tris(trimethylgermyl)phosphine': 0.0005945016235621317,\n",
       " 'x1_tris(trimethylsilyl)phosphine': 0.003916898717740072,\n",
       " 'x2_None': 0.0045953070047435466,\n",
       " 'x2_octadecene': 0.00632567758201128,\n",
       " 'x2_toluene': 0.001075514238326163,\n",
       " 'x3_None': 0.028690186373703436,\n",
       " 'x3_trioctylphosphine': 0.002974030514027967,\n",
       " 'x4_None': 0.01875763768198923,\n",
       " 'x4_lauric acid': 0.0032736454088924693,\n",
       " 'x4_myristic acid': 0.02686742630914086,\n",
       " 'x4_oleic acid': 0.005087885942866596,\n",
       " 'x4_palmitic acid': 0.002984936622485755,\n",
       " 'x4_stearic acid': 0.011999720019905458,\n",
       " 'x5_None': 0.017736835682687958,\n",
       " 'x5_dioctylamine': 0.0,\n",
       " 'x5_dodecylamine': 0.0,\n",
       " 'x5_hexadecylamine': 0.0,\n",
       " 'x5_octylamine': 0.005765944183238952,\n",
       " 'x5_oleylamine': 0.004420657488299048,\n",
       " 'x6_None': 0.0,\n",
       " 'x7_None': 0.027500851509772054,\n",
       " 'x7_zinc bromide': 0.009003482757688731,\n",
       " 'x7_zinc chloride': 0.028550073802275422,\n",
       " 'x7_zinc iodide': 0.019743120009400556,\n",
       " 'x7_zinc oleate': 0.045015043034389815,\n",
       " 'x7_zinc stearate': 0.0021343629064770318,\n",
       " 'x7_zinc undecylenate': 0.002705500350170862,\n",
       " 'x8_None': 0.004462767542936835,\n",
       " 'x8_acetic acid': 0.0,\n",
       " 'x8_copper bromide': 0.02922686491326776,\n",
       " 'x8_superhydride': 0.0004972795903757408,\n",
       " 'x8_tetrabutylammonium myristate': 4.969042736933807e-05,\n",
       " 'x8_trioctylamine': 0.012159554373235983,\n",
       " 'x8_trioctylphosphine oxide': 0.007908080955315375,\n",
       " 'x8_water': 0.030764594281939745,\n",
       " 'x8_zinc iodide': 0.0}"
      ]
     },
     "execution_count": 28,
     "metadata": {},
     "output_type": "execute_result"
    }
   ],
   "source": [
    "importance_dict_a"
   ]
  },
  {
   "cell_type": "markdown",
   "metadata": {},
   "source": [
    "### Combine\n"
   ]
  },
  {
   "cell_type": "code",
   "execution_count": 29,
   "metadata": {},
   "outputs": [],
   "source": [
    "sorted_a = sorted(importance_dict_a.items(), key=lambda x: x[0], reverse=False)\n",
    "sorted_d = sorted(importance_dict_d.items(), key=lambda x: x[0], reverse=False)\n",
    "sorted_e = sorted(importance_dict_e.items(), key=lambda x: x[0], reverse=False)\n"
   ]
  },
  {
   "cell_type": "code",
   "execution_count": 30,
   "metadata": {
    "scrolled": true
   },
   "outputs": [
    {
     "data": {
      "text/plain": [
       "[('TOP_amount_mmol', 0.0013468794500316459),\n",
       " ('acid_amount_mmol', 0.014633097675553746),\n",
       " ('amine_amount_mmol', 0.05326493999978636),\n",
       " ('in_amount_mmol', 0.015784500837688335),\n",
       " ('other_amount_mmol', 0.008203979101382089),\n",
       " ('p_amount_mmol', 0.025162804218861357),\n",
       " ('sol_amount_ml', 0.0014565764031341563),\n",
       " ('temp_c', 0.03112906468522663),\n",
       " ('thiol_amount_mmol', 0.0),\n",
       " ('time_min', 0.32808699158783244),\n",
       " ('total_volume_ml', 0.04144816509713936),\n",
       " ('x0_indium acetate', 0.001957173765601087),\n",
       " ('x0_indium bromide', 0.00010506649242879272),\n",
       " ('x0_indium chloride', 0.0014154229115394775),\n",
       " ('x0_indium iodide', 0.01963017774739606),\n",
       " ('x0_indium myristate', 0.0009508791814421165),\n",
       " ('x0_indium trifluoroacetate', 0.1355904454601718),\n",
       " ('x1_bis(trimethylsilyl)phosphine', 4.314381985475133e-05),\n",
       " ('x1_phosphorus trichloride', 0.0002700576869073098),\n",
       " ('x1_tris(diethylamino)phosphine', 0.00395031685008979),\n",
       " ('x1_tris(dimethylamino)phosphine', 0.06434904378446536),\n",
       " ('x1_tris(trimethylgermyl)phosphine', 0.0011389669723207432),\n",
       " ('x1_tris(trimethylsilyl)phosphine', 0.006380014039259087),\n",
       " ('x2_None', 0.005213332950122114),\n",
       " ('x2_octadecene', 0.0035207855252720674),\n",
       " ('x2_toluene', 0.0002681645559726288),\n",
       " ('x3_None', 0.004096335419640768),\n",
       " ('x3_trioctylphosphine', 0.0022236441681324206),\n",
       " ('x4_None', 0.0018274897770537211),\n",
       " ('x4_lauric acid', 0.00022280371962501286),\n",
       " ('x4_myristic acid', 0.0053483271444681344),\n",
       " ('x4_oleic acid', 0.001629823758706074),\n",
       " ('x4_palmitic acid', 0.0004952997112593986),\n",
       " ('x4_stearic acid', 0.0029800818731316003),\n",
       " ('x5_None', 0.0116820864177045),\n",
       " ('x5_dioctylamine', 0.0),\n",
       " ('x5_dodecylamine', 0.002739805136058608),\n",
       " ('x5_hexadecylamine', 0.0015190219907207612),\n",
       " ('x5_octylamine', 0.010098933724863502),\n",
       " ('x5_oleylamine', 0.00745861985272842),\n",
       " ('x6_None', 0.0),\n",
       " ('x7_None', 0.0037522487776120083),\n",
       " ('x7_zinc bromide', 0.0011211468419615861),\n",
       " ('x7_zinc chloride', 0.003884143314183031),\n",
       " ('x7_zinc iodide', 0.0709001003627628),\n",
       " ('x7_zinc oleate', 0.0013168556369956524),\n",
       " ('x7_zinc stearate', 0.0),\n",
       " ('x7_zinc undecylenate', 0.0014293595653558301),\n",
       " ('x8_None', 0.0034434777928279204),\n",
       " ('x8_acetic acid', 0.0),\n",
       " ('x8_copper bromide', 0.007306595842669089),\n",
       " ('x8_superhydride', 0.0002649753847516259),\n",
       " ('x8_tetrabutylammonium myristate', 0.0),\n",
       " ('x8_trioctylamine', 0.02927805384678046),\n",
       " ('x8_trioctylphosphine oxide', 0.03332333622900576),\n",
       " ('x8_water', 0.017837065779532875),\n",
       " ('x8_zinc iodide', 0.0),\n",
       " ('zinc_amount_mmol', 0.008520377131989146)]"
      ]
     },
     "execution_count": 30,
     "metadata": {},
     "output_type": "execute_result"
    }
   ],
   "source": [
    "sorted_d "
   ]
  },
  {
   "cell_type": "code",
   "execution_count": 31,
   "metadata": {},
   "outputs": [],
   "source": [
    "combined_importance = dict()"
   ]
  },
  {
   "cell_type": "code",
   "execution_count": 32,
   "metadata": {},
   "outputs": [
    {
     "ename": "IndexError",
     "evalue": "list index out of range",
     "output_type": "error",
     "traceback": [
      "\u001b[0;31m---------------------------------------------------------------------------\u001b[0m",
      "\u001b[0;31mIndexError\u001b[0m                                Traceback (most recent call last)",
      "\u001b[0;32m<ipython-input-32-2b5117db772b>\u001b[0m in \u001b[0;36m<module>\u001b[0;34m\u001b[0m\n\u001b[1;32m      1\u001b[0m \u001b[0;32mfor\u001b[0m \u001b[0mi\u001b[0m \u001b[0;32min\u001b[0m \u001b[0mrange\u001b[0m\u001b[0;34m(\u001b[0m\u001b[0;36m0\u001b[0m\u001b[0;34m,\u001b[0m\u001b[0;36m71\u001b[0m\u001b[0;34m)\u001b[0m\u001b[0;34m:\u001b[0m\u001b[0;34m\u001b[0m\u001b[0;34m\u001b[0m\u001b[0m\n\u001b[0;32m----> 2\u001b[0;31m     \u001b[0mcombined_importance\u001b[0m\u001b[0;34m[\u001b[0m\u001b[0msorted_e\u001b[0m\u001b[0;34m[\u001b[0m\u001b[0mi\u001b[0m\u001b[0;34m]\u001b[0m\u001b[0;34m[\u001b[0m\u001b[0;36m0\u001b[0m\u001b[0;34m]\u001b[0m\u001b[0;34m]\u001b[0m \u001b[0;34m=\u001b[0m \u001b[0msorted_e\u001b[0m\u001b[0;34m[\u001b[0m\u001b[0mi\u001b[0m\u001b[0;34m]\u001b[0m\u001b[0;34m[\u001b[0m\u001b[0;36m1\u001b[0m\u001b[0;34m]\u001b[0m \u001b[0;34m+\u001b[0m \u001b[0msorted_a\u001b[0m\u001b[0;34m[\u001b[0m\u001b[0mi\u001b[0m\u001b[0;34m]\u001b[0m\u001b[0;34m[\u001b[0m\u001b[0;36m1\u001b[0m\u001b[0;34m]\u001b[0m \u001b[0;34m+\u001b[0m \u001b[0msorted_d\u001b[0m\u001b[0;34m[\u001b[0m\u001b[0mi\u001b[0m\u001b[0;34m]\u001b[0m\u001b[0;34m[\u001b[0m\u001b[0;36m1\u001b[0m\u001b[0;34m]\u001b[0m\u001b[0;34m\u001b[0m\u001b[0;34m\u001b[0m\u001b[0m\n\u001b[0m\u001b[1;32m      3\u001b[0m \u001b[0mcombined_importance\u001b[0m\u001b[0;34m\u001b[0m\u001b[0;34m\u001b[0m\u001b[0m\n",
      "\u001b[0;31mIndexError\u001b[0m: list index out of range"
     ]
    }
   ],
   "source": [
    "for i in range(0,71):\n",
    "    combined_importance[sorted_e[i][0]] = sorted_e[i][1] + sorted_a[i][1] + sorted_d[i][1]\n",
    "combined_importance\n"
   ]
  },
  {
   "cell_type": "code",
   "execution_count": 30,
   "metadata": {},
   "outputs": [
    {
     "data": {
      "text/plain": [
       "[('time_min', 0.3872562339475478),\n",
       " ('temp_c', 0.3216737419642217),\n",
       " ('x0_indium trifluoroacetate', 0.2834885125490062),\n",
       " ('x7_zinc iodide', 0.2723986410800271),\n",
       " ('total_volume_ml', 0.2674964373401648),\n",
       " ('x7_zinc bromide', 0.12329813949250065),\n",
       " ('acid_amount_mmol', 0.11506402357882795),\n",
       " ('x7_zinc oleate', 0.11183675782485239),\n",
       " ('x0_indium acetate', 0.10910125442900923),\n",
       " ('x4_myristic acid', 0.10229340390208516),\n",
       " ('x7_None', 0.08627551234812816),\n",
       " ('p_amount_mmol', 0.08135532959305466),\n",
       " ('x0_indium iodide', 0.0750972416516475),\n",
       " ('zinc_amount_mmol', 0.07073262501564995),\n",
       " ('amine_amount_mmol', 0.06080881474654413),\n",
       " ('in_amount_mmol', 0.05178417815078243),\n",
       " ('x5_dioctylamine', 0.047583032410539336),\n",
       " ('x7_zinc chloride', 0.04546968404496203),\n",
       " ('other_amount_mmol', 0.03368623485490694),\n",
       " ('x4_oleic acid', 0.03309251810969427),\n",
       " ('x1_tris(dimethylamino)phosphine', 0.02835231528073659),\n",
       " ('x8_water', 0.026176693500295934),\n",
       " ('x2_octadecene', 0.024935156804378376),\n",
       " ('x5_octylamine', 0.021516010963765726),\n",
       " ('x5_hexadecylamine', 0.02012151149936218),\n",
       " ('TOP_amount_mmol', 0.019645218890885392),\n",
       " ('x0_indium chloride', 0.018899922213588168),\n",
       " ('x8_None', 0.017873721885752994),\n",
       " ('x3_None', 0.017052180504391824),\n",
       " ('x4_stearic acid', 0.01703710775345028),\n",
       " ('x5_oleylamine', 0.015504248301611973),\n",
       " ('x4_lauric acid', 0.01545318423074455),\n",
       " ('x2_None', 0.013827655384207552),\n",
       " ('x1_tris(diethylamino)phosphine', 0.013584996223160296),\n",
       " ('sol_amount_ml', 0.013400772056286448),\n",
       " ('x3_trioctylphosphine', 0.010022960839487872),\n",
       " ('x5_None', 0.007103711095509264),\n",
       " ('x1_tris(trimethylsilyl)phosphine', 0.006457480817980037),\n",
       " ('x8_superhydride', 0.004154556370115996),\n",
       " ('x4_None', 0.0031595102757151737),\n",
       " ('x7_zinc stearate', 0.0025606581314800386),\n",
       " ('x4_palmitic acid', 0.0020422548828688057),\n",
       " ('x8_zinc iodide', 0.00071198531873941),\n",
       " ('x1_bis(trimethylsilyl)phosphine', 0.00038738439413222843),\n",
       " ('x0_indium bromide', 0.0002021432884196032),\n",
       " ('x2_toluene', 2.434205878074911e-05),\n",
       " ('thiol_amount_mmol', 0.0),\n",
       " ('x0_indium myristate', 0.0),\n",
       " ('x1_phosphorus trichloride', 0.0),\n",
       " ('x1_tris(trimethylgermyl)phosphine', 0.0),\n",
       " ('x5_dodecylamine', 0.0),\n",
       " ('x6_None', 0.0),\n",
       " ('x7_zinc undecylenate', 0.0),\n",
       " ('x8_acetic acid', 0.0),\n",
       " ('x8_copper bromide', 0.0),\n",
       " ('x8_tetrabutylammonium myristate', 0.0),\n",
       " ('x8_trioctylamine', 0.0),\n",
       " ('x8_trioctylphosphine oxide', 0.0)]"
      ]
     },
     "execution_count": 30,
     "metadata": {},
     "output_type": "execute_result"
    }
   ],
   "source": [
    "sorted_combined_importance = sorted(combined_importance.items(), key=lambda x: x[1], reverse=True)\n",
    "\n",
    "sorted_combined_importance "
   ]
  },
  {
   "cell_type": "code",
   "execution_count": 31,
   "metadata": {
    "scrolled": true
   },
   "outputs": [
    {
     "data": {
      "image/png": "[encoded data removed]",
      "text/plain": [
       "<Figure size 1490.4x595.44 with 1 Axes>"
      ]
     },
     "metadata": {},
     "output_type": "display_data"
    }
   ],
   "source": [
    "top7_combined = DataFrame(sorted_combined_importance[0:7], columns=['features', 'importance score'])\n",
    "\n",
    "others_combined = DataFrame(sorted_combined_importance [7:], columns=['features', 'importance score'])\n",
    "\n",
    "import seaborn as sns\n",
    "\n",
    "a4_dims = (20.7, 8.27)\n",
    "fig, ax = plt.subplots(figsize=a4_dims)\n",
    "sns.set_theme(style=\"whitegrid\")\n",
    "\n",
    "ax = sns.barplot(x=\"features\", y=\"importance score\", data=top7_combined)"
   ]
  },
  {
   "cell_type": "markdown",
   "metadata": {},
   "source": [
    "## Correlation"
   ]
  },
  {
   "cell_type": "code",
   "execution_count": 1,
   "metadata": {},
   "outputs": [],
   "source": [
    "from sklearn.datasets import load_boston\n",
    "import pandas as pd\n",
    "import numpy as np\n",
    "import matplotlib\n",
    "import matplotlib.pyplot as plt\n",
    "import seaborn as sns\n",
    "import statsmodels.api as sm\n",
    "%matplotlib inline\n",
    "from sklearn.model_selection import train_test_split\n",
    "from sklearn.linear_model import LinearRegression\n",
    "from sklearn.feature_selection import RFE\n",
    "from sklearn.linear_model import RidgeCV, LassoCV, Ridge, Lasso"
   ]
  },
  {
   "cell_type": "code",
   "execution_count": null,
   "metadata": {},
   "outputs": [],
   "source": []
  },
  {
   "cell_type": "code",
   "execution_count": null,
   "metadata": {},
   "outputs": [],
   "source": []
  },
  {
   "cell_type": "code",
   "execution_count": null,
   "metadata": {},
   "outputs": [],
   "source": [
    "df[\"MEDV\"] = x.target\n",
    "X_cor = df.drop(\"MEDV\",1)   #Feature Matrix\n",
    "y_cor = df[\"MEDV\"]          #Target Variable\n",
    "df.head()"
   ]
  }
 ],
 "metadata": {
  "kernelspec": {
   "display_name": "Python 3",
   "language": "python",
   "name": "python3"
  },
  "language_info": {
   "codemirror_mode": {
    "name": "ipython",
    "version": 3
   },
   "file_extension": ".py",
   "mimetype": "text/x-python",
   "name": "python",
   "nbconvert_exporter": "python",
   "pygments_lexer": "ipython3",
   "version": "3.8.5"
  }
 },
 "nbformat": 4,
 "nbformat_minor": 4
}
