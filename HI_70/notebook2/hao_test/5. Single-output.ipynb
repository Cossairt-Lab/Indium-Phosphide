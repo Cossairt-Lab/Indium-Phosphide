{
 "cells": [
  {
   "cell_type": "code",
   "execution_count": 1,
   "metadata": {},
   "outputs": [],
   "source": [
    "import numpy as np \n",
    "import pandas as pd\n",
    "import os\n",
    "import joblib\n",
    "import sklearn \n",
    "import matplotlib\n",
    "from matplotlib import pyplot as plt\n",
    "\n",
    "from sklearn.model_selection import train_test_split\n",
    "\n",
    "#Regressions:\n",
    "\n",
    "from sklearn.multioutput import MultiOutputRegressor\n",
    "\n",
    "from sklearn.neighbors import KNeighborsRegressor\n",
    "from sklearn.linear_model import Ridge\n",
    "from sklearn.linear_model import Lasso\n",
    "from sklearn.linear_model import ElasticNet\n",
    "from sklearn.linear_model import LinearRegression\n",
    "from sklearn.linear_model import RidgeCV\n",
    "from sklearn.ensemble import ExtraTreesRegressor\n",
    "from sklearn.ensemble import GradientBoostingRegressor\n",
    "from sklearn.ensemble import RandomForestRegressor\n",
    "from sklearn.ensemble import AdaBoostRegressor\n",
    "from sklearn.tree import DecisionTreeRegressor\n",
    "\n",
    "#Metric\n",
    "from sklearn.metrics import mean_squared_error\n",
    "from sklearn.metrics import mean_absolute_error\n",
    "from sklearn.metrics import r2_score\n",
    "\n",
    "\n",
    "from pandas import DataFrame\n",
    "\n",
    "\n",
    "# Show progress bar\n",
    "from tqdm import tqdm"
   ]
  },
  {
   "cell_type": "code",
   "execution_count": 2,
   "metadata": {},
   "outputs": [
    {
     "data": {
      "text/html": [
       "<div>\n",
       "<style scoped>\n",
       "    .dataframe tbody tr th:only-of-type {\n",
       "        vertical-align: middle;\n",
       "    }\n",
       "\n",
       "    .dataframe tbody tr th {\n",
       "        vertical-align: top;\n",
       "    }\n",
       "\n",
       "    .dataframe thead th {\n",
       "        text-align: right;\n",
       "    }\n",
       "</style>\n",
       "<table border=\"1\" class=\"dataframe\">\n",
       "  <thead>\n",
       "    <tr style=\"text-align: right;\">\n",
       "      <th></th>\n",
       "      <th>Unnamed: 0</th>\n",
       "      <th>Unnamed: 0.1</th>\n",
       "      <th>Unnamed: 0.1.1</th>\n",
       "      <th>Unnamed: 0.1.1.1</th>\n",
       "      <th>in_amount_mmol</th>\n",
       "      <th>p_amount_mmol</th>\n",
       "      <th>sol_amount_ml</th>\n",
       "      <th>TOP_amount_mmol</th>\n",
       "      <th>acid_amount_mmol</th>\n",
       "      <th>amine_amount_mmol</th>\n",
       "      <th>...</th>\n",
       "      <th>x8_superhydride</th>\n",
       "      <th>x8_tetrabutylammonium myristate</th>\n",
       "      <th>x8_trioctylamine</th>\n",
       "      <th>x8_trioctylphosphine oxide</th>\n",
       "      <th>x8_water</th>\n",
       "      <th>x8_zinc iodide</th>\n",
       "      <th>diameter_nm</th>\n",
       "      <th>abs_nm</th>\n",
       "      <th>emission_nm</th>\n",
       "      <th>Unnamed: 64</th>\n",
       "    </tr>\n",
       "  </thead>\n",
       "  <tbody>\n",
       "    <tr>\n",
       "      <th>0</th>\n",
       "      <td>0</td>\n",
       "      <td>0</td>\n",
       "      <td>0</td>\n",
       "      <td>0</td>\n",
       "      <td>-0.205407</td>\n",
       "      <td>-0.376673</td>\n",
       "      <td>1.638502</td>\n",
       "      <td>-0.220165</td>\n",
       "      <td>0.095362</td>\n",
       "      <td>-0.800754</td>\n",
       "      <td>...</td>\n",
       "      <td>1</td>\n",
       "      <td>0</td>\n",
       "      <td>0</td>\n",
       "      <td>0</td>\n",
       "      <td>0</td>\n",
       "      <td>0</td>\n",
       "      <td>3.500000</td>\n",
       "      <td>562</td>\n",
       "      <td>618</td>\n",
       "      <td>56</td>\n",
       "    </tr>\n",
       "    <tr>\n",
       "      <th>1</th>\n",
       "      <td>1</td>\n",
       "      <td>1</td>\n",
       "      <td>1</td>\n",
       "      <td>1</td>\n",
       "      <td>-0.205407</td>\n",
       "      <td>-0.376673</td>\n",
       "      <td>1.638502</td>\n",
       "      <td>-0.220165</td>\n",
       "      <td>0.095362</td>\n",
       "      <td>-0.800754</td>\n",
       "      <td>...</td>\n",
       "      <td>1</td>\n",
       "      <td>0</td>\n",
       "      <td>0</td>\n",
       "      <td>0</td>\n",
       "      <td>0</td>\n",
       "      <td>0</td>\n",
       "      <td>1.916667</td>\n",
       "      <td>473</td>\n",
       "      <td>574</td>\n",
       "      <td>101</td>\n",
       "    </tr>\n",
       "    <tr>\n",
       "      <th>2</th>\n",
       "      <td>2</td>\n",
       "      <td>2</td>\n",
       "      <td>2</td>\n",
       "      <td>2</td>\n",
       "      <td>-0.205407</td>\n",
       "      <td>-0.376673</td>\n",
       "      <td>1.638502</td>\n",
       "      <td>-0.220165</td>\n",
       "      <td>0.095362</td>\n",
       "      <td>-0.800754</td>\n",
       "      <td>...</td>\n",
       "      <td>1</td>\n",
       "      <td>0</td>\n",
       "      <td>0</td>\n",
       "      <td>0</td>\n",
       "      <td>0</td>\n",
       "      <td>0</td>\n",
       "      <td>2.907619</td>\n",
       "      <td>524</td>\n",
       "      <td>574</td>\n",
       "      <td>50</td>\n",
       "    </tr>\n",
       "    <tr>\n",
       "      <th>3</th>\n",
       "      <td>3</td>\n",
       "      <td>3</td>\n",
       "      <td>3</td>\n",
       "      <td>3</td>\n",
       "      <td>-0.205407</td>\n",
       "      <td>-0.376673</td>\n",
       "      <td>1.638502</td>\n",
       "      <td>-0.220165</td>\n",
       "      <td>0.095362</td>\n",
       "      <td>-0.800754</td>\n",
       "      <td>...</td>\n",
       "      <td>1</td>\n",
       "      <td>0</td>\n",
       "      <td>0</td>\n",
       "      <td>0</td>\n",
       "      <td>0</td>\n",
       "      <td>0</td>\n",
       "      <td>2.907619</td>\n",
       "      <td>538</td>\n",
       "      <td>590</td>\n",
       "      <td>52</td>\n",
       "    </tr>\n",
       "    <tr>\n",
       "      <th>4</th>\n",
       "      <td>4</td>\n",
       "      <td>4</td>\n",
       "      <td>4</td>\n",
       "      <td>4</td>\n",
       "      <td>-0.205407</td>\n",
       "      <td>-0.376673</td>\n",
       "      <td>1.638502</td>\n",
       "      <td>-0.220165</td>\n",
       "      <td>0.095362</td>\n",
       "      <td>-0.800754</td>\n",
       "      <td>...</td>\n",
       "      <td>1</td>\n",
       "      <td>0</td>\n",
       "      <td>0</td>\n",
       "      <td>0</td>\n",
       "      <td>0</td>\n",
       "      <td>0</td>\n",
       "      <td>2.907619</td>\n",
       "      <td>576</td>\n",
       "      <td>618</td>\n",
       "      <td>42</td>\n",
       "    </tr>\n",
       "    <tr>\n",
       "      <th>...</th>\n",
       "      <td>...</td>\n",
       "      <td>...</td>\n",
       "      <td>...</td>\n",
       "      <td>...</td>\n",
       "      <td>...</td>\n",
       "      <td>...</td>\n",
       "      <td>...</td>\n",
       "      <td>...</td>\n",
       "      <td>...</td>\n",
       "      <td>...</td>\n",
       "      <td>...</td>\n",
       "      <td>...</td>\n",
       "      <td>...</td>\n",
       "      <td>...</td>\n",
       "      <td>...</td>\n",
       "      <td>...</td>\n",
       "      <td>...</td>\n",
       "      <td>...</td>\n",
       "      <td>...</td>\n",
       "      <td>...</td>\n",
       "      <td>...</td>\n",
       "    </tr>\n",
       "    <tr>\n",
       "      <th>145</th>\n",
       "      <td>145</td>\n",
       "      <td>152</td>\n",
       "      <td>152</td>\n",
       "      <td>152</td>\n",
       "      <td>-0.467859</td>\n",
       "      <td>-0.729457</td>\n",
       "      <td>-0.258929</td>\n",
       "      <td>0.421871</td>\n",
       "      <td>-0.453863</td>\n",
       "      <td>-0.800754</td>\n",
       "      <td>...</td>\n",
       "      <td>0</td>\n",
       "      <td>0</td>\n",
       "      <td>0</td>\n",
       "      <td>0</td>\n",
       "      <td>0</td>\n",
       "      <td>0</td>\n",
       "      <td>2.907619</td>\n",
       "      <td>552</td>\n",
       "      <td>601</td>\n",
       "      <td>49</td>\n",
       "    </tr>\n",
       "    <tr>\n",
       "      <th>146</th>\n",
       "      <td>146</td>\n",
       "      <td>153</td>\n",
       "      <td>153</td>\n",
       "      <td>153</td>\n",
       "      <td>-0.717189</td>\n",
       "      <td>-0.779855</td>\n",
       "      <td>-0.069186</td>\n",
       "      <td>-0.220165</td>\n",
       "      <td>-0.344018</td>\n",
       "      <td>-0.800754</td>\n",
       "      <td>...</td>\n",
       "      <td>0</td>\n",
       "      <td>0</td>\n",
       "      <td>0</td>\n",
       "      <td>0</td>\n",
       "      <td>0</td>\n",
       "      <td>0</td>\n",
       "      <td>8.300000</td>\n",
       "      <td>532</td>\n",
       "      <td>590</td>\n",
       "      <td>58</td>\n",
       "    </tr>\n",
       "    <tr>\n",
       "      <th>147</th>\n",
       "      <td>147</td>\n",
       "      <td>154</td>\n",
       "      <td>154</td>\n",
       "      <td>154</td>\n",
       "      <td>-0.717189</td>\n",
       "      <td>-0.779855</td>\n",
       "      <td>-0.069186</td>\n",
       "      <td>-0.220165</td>\n",
       "      <td>-0.344018</td>\n",
       "      <td>-0.800754</td>\n",
       "      <td>...</td>\n",
       "      <td>0</td>\n",
       "      <td>0</td>\n",
       "      <td>0</td>\n",
       "      <td>0</td>\n",
       "      <td>0</td>\n",
       "      <td>0</td>\n",
       "      <td>8.300000</td>\n",
       "      <td>570</td>\n",
       "      <td>618</td>\n",
       "      <td>48</td>\n",
       "    </tr>\n",
       "    <tr>\n",
       "      <th>148</th>\n",
       "      <td>148</td>\n",
       "      <td>155</td>\n",
       "      <td>155</td>\n",
       "      <td>155</td>\n",
       "      <td>-0.717189</td>\n",
       "      <td>-0.779855</td>\n",
       "      <td>-0.069186</td>\n",
       "      <td>-0.220165</td>\n",
       "      <td>-0.344018</td>\n",
       "      <td>-0.800754</td>\n",
       "      <td>...</td>\n",
       "      <td>0</td>\n",
       "      <td>0</td>\n",
       "      <td>0</td>\n",
       "      <td>0</td>\n",
       "      <td>0</td>\n",
       "      <td>0</td>\n",
       "      <td>8.300000</td>\n",
       "      <td>562</td>\n",
       "      <td>618</td>\n",
       "      <td>56</td>\n",
       "    </tr>\n",
       "    <tr>\n",
       "      <th>149</th>\n",
       "      <td>149</td>\n",
       "      <td>156</td>\n",
       "      <td>156</td>\n",
       "      <td>156</td>\n",
       "      <td>-0.717189</td>\n",
       "      <td>-0.779855</td>\n",
       "      <td>-0.069186</td>\n",
       "      <td>-0.220165</td>\n",
       "      <td>-0.344018</td>\n",
       "      <td>-0.800754</td>\n",
       "      <td>...</td>\n",
       "      <td>0</td>\n",
       "      <td>0</td>\n",
       "      <td>0</td>\n",
       "      <td>0</td>\n",
       "      <td>0</td>\n",
       "      <td>0</td>\n",
       "      <td>8.300000</td>\n",
       "      <td>549</td>\n",
       "      <td>612</td>\n",
       "      <td>63</td>\n",
       "    </tr>\n",
       "  </tbody>\n",
       "</table>\n",
       "<p>150 rows × 66 columns</p>\n",
       "</div>"
      ],
      "text/plain": [
       "     Unnamed: 0  Unnamed: 0.1  Unnamed: 0.1.1  Unnamed: 0.1.1.1  \\\n",
       "0             0             0               0                 0   \n",
       "1             1             1               1                 1   \n",
       "2             2             2               2                 2   \n",
       "3             3             3               3                 3   \n",
       "4             4             4               4                 4   \n",
       "..          ...           ...             ...               ...   \n",
       "145         145           152             152               152   \n",
       "146         146           153             153               153   \n",
       "147         147           154             154               154   \n",
       "148         148           155             155               155   \n",
       "149         149           156             156               156   \n",
       "\n",
       "     in_amount_mmol  p_amount_mmol  sol_amount_ml  TOP_amount_mmol  \\\n",
       "0         -0.205407      -0.376673       1.638502        -0.220165   \n",
       "1         -0.205407      -0.376673       1.638502        -0.220165   \n",
       "2         -0.205407      -0.376673       1.638502        -0.220165   \n",
       "3         -0.205407      -0.376673       1.638502        -0.220165   \n",
       "4         -0.205407      -0.376673       1.638502        -0.220165   \n",
       "..              ...            ...            ...              ...   \n",
       "145       -0.467859      -0.729457      -0.258929         0.421871   \n",
       "146       -0.717189      -0.779855      -0.069186        -0.220165   \n",
       "147       -0.717189      -0.779855      -0.069186        -0.220165   \n",
       "148       -0.717189      -0.779855      -0.069186        -0.220165   \n",
       "149       -0.717189      -0.779855      -0.069186        -0.220165   \n",
       "\n",
       "     acid_amount_mmol  amine_amount_mmol  ...  x8_superhydride  \\\n",
       "0            0.095362          -0.800754  ...                1   \n",
       "1            0.095362          -0.800754  ...                1   \n",
       "2            0.095362          -0.800754  ...                1   \n",
       "3            0.095362          -0.800754  ...                1   \n",
       "4            0.095362          -0.800754  ...                1   \n",
       "..                ...                ...  ...              ...   \n",
       "145         -0.453863          -0.800754  ...                0   \n",
       "146         -0.344018          -0.800754  ...                0   \n",
       "147         -0.344018          -0.800754  ...                0   \n",
       "148         -0.344018          -0.800754  ...                0   \n",
       "149         -0.344018          -0.800754  ...                0   \n",
       "\n",
       "     x8_tetrabutylammonium myristate  x8_trioctylamine  \\\n",
       "0                                  0                 0   \n",
       "1                                  0                 0   \n",
       "2                                  0                 0   \n",
       "3                                  0                 0   \n",
       "4                                  0                 0   \n",
       "..                               ...               ...   \n",
       "145                                0                 0   \n",
       "146                                0                 0   \n",
       "147                                0                 0   \n",
       "148                                0                 0   \n",
       "149                                0                 0   \n",
       "\n",
       "     x8_trioctylphosphine oxide  x8_water  x8_zinc iodide  diameter_nm  \\\n",
       "0                             0         0               0     3.500000   \n",
       "1                             0         0               0     1.916667   \n",
       "2                             0         0               0     2.907619   \n",
       "3                             0         0               0     2.907619   \n",
       "4                             0         0               0     2.907619   \n",
       "..                          ...       ...             ...          ...   \n",
       "145                           0         0               0     2.907619   \n",
       "146                           0         0               0     8.300000   \n",
       "147                           0         0               0     8.300000   \n",
       "148                           0         0               0     8.300000   \n",
       "149                           0         0               0     8.300000   \n",
       "\n",
       "     abs_nm  emission_nm  Unnamed: 64  \n",
       "0       562          618           56  \n",
       "1       473          574          101  \n",
       "2       524          574           50  \n",
       "3       538          590           52  \n",
       "4       576          618           42  \n",
       "..      ...          ...          ...  \n",
       "145     552          601           49  \n",
       "146     532          590           58  \n",
       "147     570          618           48  \n",
       "148     562          618           56  \n",
       "149     549          612           63  \n",
       "\n",
       "[150 rows x 66 columns]"
      ]
     },
     "execution_count": 2,
     "metadata": {},
     "output_type": "execute_result"
    }
   ],
   "source": [
    "df = pd.read_csv('dataset_augmented.csv')\n",
    "df"
   ]
  },
  {
   "cell_type": "code",
   "execution_count": 3,
   "metadata": {},
   "outputs": [],
   "source": [
    "# Input for ML models\n",
    "\n",
    "input_col = ['in_amount_mmol',\n",
    "             'p_amount_mmol',\n",
    "             'sol_amount_ml',\n",
    "             'TOP_amount_mmol',\n",
    "             'acid_amount_mmol',\n",
    "             'amine_amount_mmol',\n",
    "             'thiol_amount_mmol',\n",
    "             'zinc_amount_mmol',\n",
    "             'other_amount_mmol',\n",
    "             'total_volume_ml',\n",
    "             'temp_c',\n",
    "             'time_min',\n",
    "             'x0_indium acetate',\n",
    "             'x0_indium bromide',\n",
    "             'x0_indium chloride',\n",
    "             'x0_indium iodide',\n",
    "             'x0_indium myristate',\n",
    "             'x0_indium trifluoroacetate',\n",
    "             'x1_bis(trimethylsilyl)phosphine',\n",
    "             'x1_phosphorus trichloride',\n",
    "             'x1_tris(diethylamino)phosphine',\n",
    "             'x1_tris(dimethylamino)phosphine',\n",
    "             'x1_tris(trimethylgermyl)phosphine',\n",
    "             'x1_tris(trimethylsilyl)phosphine',\n",
    "             'x2_None',\n",
    "             'x2_octadecene',\n",
    "             'x2_toluene',\n",
    "             'x3_None',\n",
    "             'x3_trioctylphosphine',\n",
    "             'x4_None',\n",
    "             'x4_lauric acid',\n",
    "             'x4_myristic acid',\n",
    "             'x4_oleic acid',\n",
    "             'x4_palmitic acid',\n",
    "             'x4_stearic acid',\n",
    "             'x5_None',\n",
    "             'x5_dioctylamine',\n",
    "             'x5_dodecylamine',\n",
    "             'x5_hexadecylamine',\n",
    "             'x5_octylamine',\n",
    "             'x5_oleylamine',\n",
    "             'x6_None',\n",
    "             'x7_None',\n",
    "             'x7_zinc bromide',\n",
    "             'x7_zinc chloride',\n",
    "             'x7_zinc iodide',\n",
    "             'x7_zinc oleate',\n",
    "             'x7_zinc stearate',\n",
    "             'x7_zinc undecylenate',\n",
    "             'x8_None',\n",
    "             'x8_acetic acid',\n",
    "             'x8_copper bromide',\n",
    "             'x8_superhydride',\n",
    "             'x8_tetrabutylammonium myristate',\n",
    "             'x8_trioctylamine',\n",
    "             'x8_trioctylphosphine oxide',\n",
    "             'x8_water',\n",
    "             'x8_zinc iodide'\n",
    "            ]\n",
    "#Three individual outputs:\n",
    "diameter = ['diameter_nm']\n",
    "emission = ['emission_nm']\n",
    "absorbance = ['abs_nm']\n",
    "\n",
    "#Splitting dataset\n",
    "\n",
    "X = df[input_col]\n",
    "\n",
    "Y_d = df[diameter]\n",
    "Y_e = df[emission]\n",
    "Y_a = df[absorbance]\n",
    "\n",
    "\n",
    "X_train_d, X_test_d, Y_train_d, Y_test_d = train_test_split(X, Y_d, test_size=0.15, random_state=45, shuffle=True)\n",
    "X_train_e, X_test_e, Y_train_e, Y_test_e = train_test_split(X, Y_e, test_size=0.15, random_state=45, shuffle=True)\n",
    "X_train_a, X_test_a, Y_train_a, Y_test_a = train_test_split(X, Y_a, test_size=0.15, random_state=45, shuffle=True)"
   ]
  },
  {
   "cell_type": "markdown",
   "metadata": {},
   "source": [
    "## D - Optimizing diameter model\n"
   ]
  },
  {
   "cell_type": "markdown",
   "metadata": {},
   "source": [
    "### 1D. Extra Trees"
   ]
  },
  {
   "cell_type": "code",
   "execution_count": 4,
   "metadata": {},
   "outputs": [
    {
     "name": "stderr",
     "output_type": "stream",
     "text": [
      "100%|██████████| 24/24 [08:29<00:00, 21.24s/it]"
     ]
    },
    {
     "name": "stdout",
     "output_type": "stream",
     "text": [
      "0.13260869565217392 2 23 6\n"
     ]
    },
    {
     "name": "stderr",
     "output_type": "stream",
     "text": [
      "\n"
     ]
    }
   ],
   "source": [
    "# This is a grid search for three parameters in the Extra Trees algorithm. \n",
    "# Parameters are: random_state, n_estimators, max_features.\n",
    "\n",
    "# This gives the best combination of the three parameters for the smallest mean squared error.\n",
    "\n",
    "min_mae = 99999\n",
    "min_i, min_j, min_k = 0, 0, 0\n",
    "for i in tqdm(range(1, 25)):\n",
    "    for j in range(1, 25):\n",
    "        for k in range(2, 50, 1):\n",
    "            ET_regr = ExtraTreesRegressor(n_estimators=i, \n",
    "                                            max_features=j,\n",
    "                                            random_state=k)\n",
    "            \n",
    "            ET_regr.fit(X_train_d, np.ravel(Y_train_d))\n",
    "            ET_Y_pred_d = pd.DataFrame(ET_regr.predict(X_test_d))\n",
    "\n",
    "            mae = mean_absolute_error(Y_test_d, ET_Y_pred_d)\n",
    "            if (min_mae > mae):\n",
    "                min_mae = mae\n",
    "                min_i = i\n",
    "                min_j = j\n",
    "                min_k = k\n",
    "            \n",
    "print(min_mae, min_i, min_j, min_k)"
   ]
  },
  {
   "cell_type": "markdown",
   "metadata": {},
   "source": [
    "### 2D. Decision Tree "
   ]
  },
  {
   "cell_type": "code",
   "execution_count": 5,
   "metadata": {},
   "outputs": [
    {
     "name": "stderr",
     "output_type": "stream",
     "text": [
      "100%|██████████| 29/29 [03:29<00:00,  7.24s/it]"
     ]
    },
    {
     "name": "stdout",
     "output_type": "stream",
     "text": [
      "0.15819875776397513 15 10 36\n"
     ]
    },
    {
     "name": "stderr",
     "output_type": "stream",
     "text": [
      "\n"
     ]
    }
   ],
   "source": [
    "# This is a grid search for three parameters in the Decision Trees algorithm. \n",
    "# Parameters are: max_depth, max_features, random_state.\n",
    "# This gives the best combination of the three parameters for the smallest mean squared error.\n",
    "\n",
    "min_mae = 99999\n",
    "\n",
    "min_i, min_j, min_k  = 0, 0, 0\n",
    "\n",
    "for i in tqdm(range(1, 30)):\n",
    "    for j in range(1, 30):\n",
    "        for k in range(4, 80, 2):\n",
    "            \n",
    "            DT_regr = DecisionTreeRegressor(max_depth=i,\n",
    "                                max_features=j,\n",
    "                                random_state=k)\n",
    "            \n",
    "            DT_regr.fit(X_train_d, np.ravel(Y_train_d))\n",
    "            DT_Y_pred_d = pd.DataFrame(DT_regr.predict(X_test_d))\n",
    "\n",
    "            mae = mean_absolute_error(Y_test_d, DT_Y_pred_d)\n",
    "            \n",
    "            if (min_mae > mae):\n",
    "                min_mae = mae\n",
    "                min_i = i\n",
    "                min_j = j\n",
    "                min_k = k\n",
    "            \n",
    "print(min_mae, min_i, min_j, min_k)"
   ]
  },
  {
   "cell_type": "markdown",
   "metadata": {},
   "source": [
    "### 3D. Random Forest"
   ]
  },
  {
   "cell_type": "code",
   "execution_count": 6,
   "metadata": {},
   "outputs": [
    {
     "name": "stderr",
     "output_type": "stream",
     "text": [
      "100%|██████████| 30/30 [19:46<00:00, 39.54s/it]"
     ]
    },
    {
     "name": "stdout",
     "output_type": "stream",
     "text": [
      "0.196535541752933 9 2 13\n"
     ]
    },
    {
     "name": "stderr",
     "output_type": "stream",
     "text": [
      "\n"
     ]
    }
   ],
   "source": [
    "# This is a grid search for three parameters in the Random Forest algorithm. \n",
    "# Parameters are: max_depth, n_estimators, max_features.\n",
    "# Random_state is set to 45.\n",
    "# This gives the best combination of the three parameters for the smallest mean squared error.\n",
    "\n",
    "min_mae = 99999\n",
    "min_i, min_j, min_k = 0, 0, 0\n",
    "for i in tqdm(range(1, 31)):\n",
    "    for j in range(1, 31):\n",
    "        for k in range(2, 50, 1):\n",
    "            RF_regr = RandomForestRegressor(max_depth=i, \n",
    "                                            n_estimators=j, \n",
    "                                            max_features=k,\n",
    "                                            random_state=45)\n",
    "            RF_regr.fit(X_train_d, np.ravel(Y_train_d))\n",
    "            RF_Y_pred_d = pd.DataFrame(RF_regr.predict(X_test_d))\n",
    "\n",
    "            mae = mean_absolute_error(Y_test_d, RF_Y_pred_d)\n",
    "            if (min_mae > mae):\n",
    "                min_mae = mae\n",
    "                min_i = i\n",
    "                min_j = j\n",
    "                min_k = k\n",
    "            \n",
    "print(min_mae, min_i, min_j, min_k)"
   ]
  },
  {
   "cell_type": "markdown",
   "metadata": {},
   "source": [
    "### 4D. K Neighbors"
   ]
  },
  {
   "cell_type": "code",
   "execution_count": 7,
   "metadata": {},
   "outputs": [
    {
     "name": "stderr",
     "output_type": "stream",
     "text": [
      "100%|██████████| 39/39 [00:14<00:00,  2.66it/s]"
     ]
    },
    {
     "name": "stdout",
     "output_type": "stream",
     "text": [
      "0.2583954451345755 2 2\n"
     ]
    },
    {
     "name": "stderr",
     "output_type": "stream",
     "text": [
      "\n"
     ]
    }
   ],
   "source": [
    "min_mae = 99999\n",
    "min_i, min_j = 0, 0\n",
    "\n",
    "for i in tqdm(range(1, 40)):\n",
    "    for j in range(1, 40):\n",
    "\n",
    "        KNN_reg_d = KNeighborsRegressor(n_neighbors=i, \n",
    "                                      p=j).fit(X_train_d, np.ravel(Y_train_d))\n",
    "\n",
    "        KNN_Y_pred_d = KNN_reg_d.predict(X_test_d)\n",
    "\n",
    "        mae = mean_absolute_error(Y_test_d, KNN_Y_pred_d)\n",
    "\n",
    "        if (min_mae > mae):\n",
    "            min_mae = mae\n",
    "            min_i = i\n",
    "            min_j = j\n",
    "\n",
    "print(min_mae, min_i, min_j)"
   ]
  },
  {
   "cell_type": "markdown",
   "metadata": {},
   "source": [
    "### Saving Decision Tree model"
   ]
  },
  {
   "cell_type": "code",
   "execution_count": 5,
   "metadata": {},
   "outputs": [
    {
     "data": {
      "text/plain": [
       "['./model_SO_diameter_ExtraTrees.joblib']"
      ]
     },
     "execution_count": 5,
     "metadata": {},
     "output_type": "execute_result"
    }
   ],
   "source": [
    "ET_regr_d = ExtraTreesRegressor(n_estimators=2, \n",
    "                                            max_features=23,\n",
    "                                            random_state=6)\n",
    "            \n",
    "ET_regr_d.fit(X_train_d, np.ravel(Y_train_d))\n",
    "ET_Y_pred_d = pd.DataFrame(ET_regr_d.predict(X_test_d))\n",
    "joblib.dump(ET_regr_d, \"./model_SO_diameter_ExtraTrees.joblib\")"
   ]
  },
  {
   "cell_type": "markdown",
   "metadata": {},
   "source": [
    "## E - Optimizing emission model\n"
   ]
  },
  {
   "cell_type": "markdown",
   "metadata": {},
   "source": [
    "### 1E. Extra Trees"
   ]
  },
  {
   "cell_type": "code",
   "execution_count": 9,
   "metadata": {},
   "outputs": [
    {
     "name": "stderr",
     "output_type": "stream",
     "text": [
      "100%|██████████| 24/24 [07:54<00:00, 19.79s/it]"
     ]
    },
    {
     "name": "stdout",
     "output_type": "stream",
     "text": [
      "10.130434782608695 1 21 36\n"
     ]
    },
    {
     "name": "stderr",
     "output_type": "stream",
     "text": [
      "\n"
     ]
    }
   ],
   "source": [
    "# This is a grid search for three parameters in the Extra Trees algorithm. \n",
    "# Parameters are: random_state, n_estimators, max_features.\n",
    "\n",
    "# This gives the best combination of the three parameters for the smallest mean squared error.\n",
    "\n",
    "min_mae = 99999\n",
    "min_i, min_j, min_k = 0, 0, 0\n",
    "for i in tqdm(range(1, 25)):\n",
    "    for j in range(1, 25):\n",
    "        for k in range(2, 50, 1):\n",
    "            ET_regr_e = ExtraTreesRegressor(n_estimators=i, \n",
    "                                            max_features=j,\n",
    "                                            random_state=k)\n",
    "            \n",
    "            ET_regr_e.fit(X_train_e, np.ravel(Y_train_e))\n",
    "            ET_Y_pred_e = pd.DataFrame(ET_regr_e.predict(X_test_e))\n",
    "\n",
    "            mae = mean_absolute_error(Y_test_e, ET_Y_pred_e)\n",
    "            if (min_mae > mae):\n",
    "                min_mae = mae\n",
    "                min_i = i\n",
    "                min_j = j\n",
    "                min_k = k\n",
    "            \n",
    "print(min_mae, min_i, min_j, min_k)"
   ]
  },
  {
   "cell_type": "markdown",
   "metadata": {},
   "source": [
    "### 2E. Decision Trees"
   ]
  },
  {
   "cell_type": "code",
   "execution_count": 10,
   "metadata": {},
   "outputs": [
    {
     "name": "stderr",
     "output_type": "stream",
     "text": [
      "100%|██████████| 29/29 [03:14<00:00,  6.70s/it]"
     ]
    },
    {
     "name": "stdout",
     "output_type": "stream",
     "text": [
      "9.880434782608695 12 19 78\n"
     ]
    },
    {
     "name": "stderr",
     "output_type": "stream",
     "text": [
      "\n"
     ]
    }
   ],
   "source": [
    "# This is a grid search for three parameters in the Decision Trees algorithm. \n",
    "\n",
    "# This gives the best combination of the three parameters for the smallest mean squared error.\n",
    "\n",
    "min_mae = 99999\n",
    "\n",
    "min_i, min_j, min_k  = 0, 0, 0\n",
    "\n",
    "for i in tqdm(range(1, 30)):\n",
    "    for j in range(1, 30):\n",
    "        for k in range(4, 80, 2):\n",
    "            \n",
    "            DT_regr_e = DecisionTreeRegressor(max_depth=i,\n",
    "                                max_features=j,\n",
    "                                random_state=k)\n",
    "            \n",
    "            DT_regr_e.fit(X_train_e, np.ravel(Y_train_e))\n",
    "            DT_Y_pred_e = pd.DataFrame(DT_regr_e.predict(X_test_e))\n",
    "\n",
    "            mae = mean_absolute_error(Y_test_e, DT_Y_pred_e)\n",
    "            \n",
    "            if (min_mae > mae):\n",
    "                min_mae = mae\n",
    "                min_i = i\n",
    "                min_j = j\n",
    "                min_k = k\n",
    "            \n",
    "print(min_mae, min_i, min_j, min_k)"
   ]
  },
  {
   "cell_type": "markdown",
   "metadata": {},
   "source": [
    "### 3E. Random Forest"
   ]
  },
  {
   "cell_type": "code",
   "execution_count": 12,
   "metadata": {},
   "outputs": [
    {
     "name": "stderr",
     "output_type": "stream",
     "text": [
      "100%|██████████| 26/26 [12:06<00:00, 27.95s/it]"
     ]
    },
    {
     "name": "stdout",
     "output_type": "stream",
     "text": [
      "15.48913043478261 21 16 36\n"
     ]
    },
    {
     "name": "stderr",
     "output_type": "stream",
     "text": [
      "\n"
     ]
    }
   ],
   "source": [
    "min_mae = 99999\n",
    "min_i, min_j, min_k = 0, 0, 0\n",
    "for i in tqdm(range(1, 27)):\n",
    "    for j in range(1, 27):\n",
    "        for k in range(2, 46, 1):\n",
    "            RF_regr_e = RandomForestRegressor(max_depth=i, \n",
    "                                            n_estimators=j, \n",
    "                                            max_features=k,\n",
    "                                            random_state=45)\n",
    "            RF_regr_e.fit(X_train_e, np.ravel(Y_train_e))\n",
    "            RF_Y_pred_e = pd.DataFrame(RF_regr_e.predict(X_test_e))\n",
    "\n",
    "            mae = mean_absolute_error(Y_test_e, RF_Y_pred_e)\n",
    "            if (min_mae > mae):\n",
    "                min_mae = mae\n",
    "                min_i = i\n",
    "                min_j = j\n",
    "                min_k = k\n",
    "            \n",
    "print(min_mae, min_i, min_j, min_k)"
   ]
  },
  {
   "cell_type": "markdown",
   "metadata": {},
   "source": [
    "### 4E. K Neighbors"
   ]
  },
  {
   "cell_type": "code",
   "execution_count": 13,
   "metadata": {
    "scrolled": false
   },
   "outputs": [
    {
     "name": "stderr",
     "output_type": "stream",
     "text": [
      "100%|██████████| 39/39 [00:17<00:00,  2.19it/s]"
     ]
    },
    {
     "name": "stdout",
     "output_type": "stream",
     "text": [
      "21.23913043478261 2 3\n"
     ]
    },
    {
     "name": "stderr",
     "output_type": "stream",
     "text": [
      "\n"
     ]
    }
   ],
   "source": [
    "min_mae = 99999\n",
    "min_i, min_j = 0, 0\n",
    "\n",
    "for i in tqdm(range(1, 40)):\n",
    "    for j in range(1, 40):\n",
    "\n",
    "        KNN_reg_e = KNeighborsRegressor(n_neighbors=i, \n",
    "                                      p=j).fit(X_train_e, np.ravel(Y_train_e))\n",
    "\n",
    "        KNN_Y_pred_e = KNN_reg_e.predict(X_test_e)\n",
    "\n",
    "        mae = mean_absolute_error(Y_test_e, KNN_Y_pred_e)\n",
    "\n",
    "        if (min_mae > mae):\n",
    "            min_mae = mae\n",
    "            min_i = i\n",
    "            min_j = j\n",
    "\n",
    "print(min_mae, min_i, min_j)"
   ]
  },
  {
   "cell_type": "markdown",
   "metadata": {},
   "source": [
    "### Saving Extra Trees model"
   ]
  },
  {
   "cell_type": "code",
   "execution_count": 6,
   "metadata": {},
   "outputs": [
    {
     "data": {
      "text/plain": [
       "['./model_SO_emission_DecisionTree.joblib']"
      ]
     },
     "execution_count": 6,
     "metadata": {},
     "output_type": "execute_result"
    }
   ],
   "source": [
    "DT_regr_e = DecisionTreeRegressor(max_depth=12,\n",
    "                                max_features=19,\n",
    "                                random_state=78)\n",
    "            \n",
    "DT_regr_e.fit(X_train_e, np.ravel(Y_train_e))\n",
    "DT_Y_pred_e = pd.DataFrame(DT_regr_e.predict(X_test_e))\n",
    "\n",
    "joblib.dump(DT_regr_e, \"./model_SO_emission_DecisionTree.joblib\")"
   ]
  },
  {
   "cell_type": "markdown",
   "metadata": {},
   "source": [
    "## A - Optimizing absorption model\n"
   ]
  },
  {
   "cell_type": "markdown",
   "metadata": {},
   "source": [
    "### 1A: Extra Trees"
   ]
  },
  {
   "cell_type": "code",
   "execution_count": 14,
   "metadata": {},
   "outputs": [
    {
     "name": "stderr",
     "output_type": "stream",
     "text": [
      "100%|██████████| 29/29 [13:26<00:00, 27.83s/it]"
     ]
    },
    {
     "name": "stdout",
     "output_type": "stream",
     "text": [
      "15.891304347826088 2 19 2\n"
     ]
    },
    {
     "name": "stderr",
     "output_type": "stream",
     "text": [
      "\n"
     ]
    }
   ],
   "source": [
    "# This is a grid search for three parameters in the Extra Trees algorithm. \n",
    "# Parameters are: random_state, n_estimators, max_features.\n",
    "\n",
    "# This gives the best combination of the three parameters for the smallest mean squared error.\n",
    "\n",
    "min_mae = 99999\n",
    "min_i, min_j, min_k = 0, 0, 0\n",
    "for i in tqdm(range(1, 30)):\n",
    "    for j in range(1, 30):\n",
    "        for k in range(2, 48, 1):\n",
    "            ET_regr_a = ExtraTreesRegressor(n_estimators=i, \n",
    "                                            max_features=j,\n",
    "                                            random_state=k)\n",
    "            \n",
    "            ET_regr_a.fit(X_train_a, np.ravel(Y_train_a))\n",
    "            ET_Y_pred_a = pd.DataFrame(ET_regr_a.predict(X_test_a))\n",
    "\n",
    "            mae = mean_absolute_error(Y_test_a, ET_Y_pred_a)\n",
    "            if (min_mae > mae):\n",
    "                min_mae = mae\n",
    "                min_i = i\n",
    "                min_j = j\n",
    "                min_k = k\n",
    "            \n",
    "print(min_mae, min_i, min_j, min_k)"
   ]
  },
  {
   "cell_type": "markdown",
   "metadata": {},
   "source": [
    "### 2A. Decision Trees\n"
   ]
  },
  {
   "cell_type": "code",
   "execution_count": 15,
   "metadata": {},
   "outputs": [
    {
     "name": "stderr",
     "output_type": "stream",
     "text": [
      "100%|██████████| 27/27 [03:14<00:00,  7.22s/it]"
     ]
    },
    {
     "name": "stdout",
     "output_type": "stream",
     "text": [
      "17.652173913043477 21 25 21\n"
     ]
    },
    {
     "name": "stderr",
     "output_type": "stream",
     "text": [
      "\n"
     ]
    }
   ],
   "source": [
    "# This is a grid search for three parameters in the Decision Trees algorithm. \n",
    "\n",
    "# This gives the best combination of the three parameters for the smallest mean squared error.\n",
    "\n",
    "min_mae = 99999\n",
    "\n",
    "min_i, min_j, min_k  = 0, 0, 0\n",
    "\n",
    "for i in tqdm(range(1, 28)):\n",
    "    for j in range(1, 28):\n",
    "        for k in range(4, 46, 1):\n",
    "            \n",
    "            DT_regr_a = DecisionTreeRegressor(max_depth=i,\n",
    "                                max_features=j,\n",
    "                                random_state=k)\n",
    "            \n",
    "            DT_regr_a.fit(X_train_a, np.ravel(Y_train_a))\n",
    "            DT_Y_pred_a = pd.DataFrame(DT_regr_a.predict(X_test_a))\n",
    "\n",
    "            mae = mean_absolute_error(Y_test_a, DT_Y_pred_a)\n",
    "            \n",
    "            if (min_mae > mae):\n",
    "                min_mae = mae\n",
    "                min_i = i\n",
    "                min_j = j\n",
    "                min_k = k\n",
    "            \n",
    "print(min_mae, min_i, min_j, min_k)"
   ]
  },
  {
   "cell_type": "code",
   "execution_count": null,
   "metadata": {},
   "outputs": [],
   "source": [
    "DT_regr_a = DecisionTreeRegressor(max_depth=20,\n",
    "                                max_features=20,\n",
    "                                random_state=12).fit(X_train_a, np.ravel(Y_train_a))\n",
    "                  \n",
    "DT_Y_pred_a = DT_regr_a.predict(X_test_a)\n",
    "\n",
    "\n",
    "DT_r2_a = r2_score(Y_test_a, DT_Y_pred_a)\n",
    "DT_MSE_a = mean_squared_error(Y_test_a, DT_Y_pred_a)\n",
    "DT_RMSE_a = mean_squared_error(Y_test_a, DT_Y_pred_a, squared=False)\n",
    "DT_MAE_a = mean_absolute_error(Y_test_a, DT_Y_pred_a)\n",
    "print('diameter:', 'r2:', DT_r2_a, '; MSE:', DT_MSE_a, '; RMSE:', DT_RMSE_a, '; MAE:', DT_MAE_a)"
   ]
  },
  {
   "cell_type": "markdown",
   "metadata": {},
   "source": [
    "### 3A. Random Forest"
   ]
  },
  {
   "cell_type": "code",
   "execution_count": 17,
   "metadata": {},
   "outputs": [
    {
     "name": "stderr",
     "output_type": "stream",
     "text": [
      "100%|██████████| 24/24 [06:53<00:00, 17.22s/it]"
     ]
    },
    {
     "name": "stdout",
     "output_type": "stream",
     "text": [
      "27.354589371980673 14 9 16\n"
     ]
    },
    {
     "name": "stderr",
     "output_type": "stream",
     "text": [
      "\n"
     ]
    }
   ],
   "source": [
    "min_mae = 99999\n",
    "min_i, min_j, min_k = 0, 0, 0\n",
    "for i in tqdm(range(1, 25)):\n",
    "    for j in range(1, 25):\n",
    "        for k in range(2, 42, 1):\n",
    "            RF_regr_a = RandomForestRegressor(max_depth=i, \n",
    "                                            n_estimators=j, \n",
    "                                            max_features=k,\n",
    "                                            random_state=45)\n",
    "            RF_regr_a.fit(X_train_a, np.ravel(Y_train_a))\n",
    "            RF_Y_pred_a = pd.DataFrame(RF_regr_a.predict(X_test_a))\n",
    "\n",
    "            mae = mean_absolute_error(Y_test_a, RF_Y_pred_a)\n",
    "            if (min_mae > mae):\n",
    "                min_mae = mae\n",
    "                min_i = i\n",
    "                min_j = j\n",
    "                min_k = k\n",
    "            \n",
    "print(min_mae, min_i, min_j, min_k)"
   ]
  },
  {
   "cell_type": "code",
   "execution_count": null,
   "metadata": {},
   "outputs": [],
   "source": []
  },
  {
   "cell_type": "markdown",
   "metadata": {},
   "source": [
    "### 4A. K Neighbors"
   ]
  },
  {
   "cell_type": "code",
   "execution_count": 18,
   "metadata": {},
   "outputs": [
    {
     "name": "stderr",
     "output_type": "stream",
     "text": [
      "100%|██████████| 39/39 [00:12<00:00,  3.13it/s]"
     ]
    },
    {
     "name": "stdout",
     "output_type": "stream",
     "text": [
      "32.06521739130435 2 4\n"
     ]
    },
    {
     "name": "stderr",
     "output_type": "stream",
     "text": [
      "\n"
     ]
    }
   ],
   "source": [
    "min_mae = 99999\n",
    "min_i, min_j = 0, 0\n",
    "\n",
    "for i in tqdm(range(1, 40)):\n",
    "    for j in range(1, 40):\n",
    "\n",
    "        KNN_reg_a = KNeighborsRegressor(n_neighbors=i, \n",
    "                                      p=j).fit(X_train_a, np.ravel(Y_train_a))\n",
    "\n",
    "        KNN_Y_pred_a = KNN_reg_a.predict(X_test_a)\n",
    "\n",
    "        mae = mean_absolute_error(Y_test_a, KNN_Y_pred_a)\n",
    "\n",
    "        if (min_mae > mae):\n",
    "            min_mae = mae\n",
    "            min_i = i\n",
    "            min_j = j\n",
    "\n",
    "print(min_mae, min_i, min_j)"
   ]
  },
  {
   "cell_type": "markdown",
   "metadata": {},
   "source": [
    "### Saving model"
   ]
  },
  {
   "cell_type": "code",
   "execution_count": 7,
   "metadata": {},
   "outputs": [
    {
     "data": {
      "text/plain": [
       "['./model_SO_abs_ExtraTrees.joblib']"
      ]
     },
     "execution_count": 7,
     "metadata": {},
     "output_type": "execute_result"
    }
   ],
   "source": [
    "ET_regr_a = ExtraTreesRegressor(n_estimators=2, \n",
    "                                            max_features=19,\n",
    "                                            random_state=2)\n",
    "            \n",
    "ET_regr_a.fit(X_train_a, np.ravel(Y_train_a))\n",
    "ET_Y_pred_a = pd.DataFrame(ET_regr_a.predict(X_test_a))\n",
    "\n",
    "joblib.dump(ET_regr_a, \"./model_SO_abs_ExtraTrees.joblib\")"
   ]
  },
  {
   "cell_type": "markdown",
   "metadata": {},
   "source": [
    "## Analyzing"
   ]
  },
  {
   "cell_type": "code",
   "execution_count": 13,
   "metadata": {
    "scrolled": true
   },
   "outputs": [
    {
     "name": "stdout",
     "output_type": "stream",
     "text": [
      "Outputs           R2    Mean absolute error    Mean squared error    Root mean squared error\n",
      "----------  --------  ---------------------  --------------------  -------------------------\n",
      "Diameter    0.845217               0.132609             0.0735826                   0.271261\n",
      "Absorption  0.857639              15.8913             511.185                      22.6094\n",
      "Emission    0.823755               9.88043            274.383                      16.5645\n"
     ]
    }
   ],
   "source": [
    "## Diameter\n",
    "\n",
    "ET_regr_d = ExtraTreesRegressor(n_estimators=2, \n",
    "                                            max_features=23,\n",
    "                                            random_state=6)\n",
    "            \n",
    "ET_regr_d.fit(X_train_d, np.ravel(Y_train_d))\n",
    "ET_Y_pred_d = ET_regr_d.predict(X_test_d)\n",
    "\n",
    "D_mae = mean_absolute_error(Y_test_d, ET_Y_pred_d)\n",
    "D_r_2 = r2_score(Y_test_d, ET_Y_pred_d)\n",
    "D_mse = mean_squared_error(Y_test_d, ET_Y_pred_d)\n",
    "D_rmse = mean_squared_error(Y_test_d, ET_Y_pred_d, squared=False)\n",
    "\n",
    "## Emission\n",
    "\n",
    "DT_regr_e = DecisionTreeRegressor(max_depth=12,\n",
    "                                max_features=19,\n",
    "                                random_state=78)\n",
    "            \n",
    "DT_regr_e.fit(X_train_e, np.ravel(Y_train_e))\n",
    "DT_Y_pred_e = DT_regr_e.predict(X_test_e)\n",
    "\n",
    "E_mae = mean_absolute_error(Y_test_e, DT_Y_pred_e)\n",
    "E_r_2 = r2_score(Y_test_e, DT_Y_pred_e)\n",
    "E_mse = mean_squared_error(Y_test_e, DT_Y_pred_e)\n",
    "E_rmse = mean_squared_error(Y_test_e, DT_Y_pred_e, squared=False)\n",
    "\n",
    "\n",
    "### Absorption\n",
    "\n",
    "ET_regr_a = ExtraTreesRegressor(n_estimators=2, \n",
    "                                            max_features=19,\n",
    "                                            random_state=2)\n",
    "            \n",
    "ET_regr_a.fit(X_train_a, np.ravel(Y_train_a))\n",
    "ET_Y_pred_a = ET_regr_a.predict(X_test_a)\n",
    "\n",
    "A_mae = mean_absolute_error(Y_test_a, ET_Y_pred_a)\n",
    "A_r_2 = r2_score(Y_test_a, ET_Y_pred_a)\n",
    "A_mse = mean_squared_error(Y_test_a, ET_Y_pred_a)\n",
    "A_rmse = mean_squared_error(Y_test_a, ET_Y_pred_a, squared=False)\n",
    "\n",
    "\n",
    "from tabulate import tabulate\n",
    "\n",
    "d = [ [\"Diameter\", D_r_2, D_mae, D_mse, D_rmse],\n",
    "     [\"Absorption\", A_r_2, A_mae, A_mse, A_rmse],\n",
    "     [\"Emission\", E_r_2, E_mae, E_mse, E_rmse]]\n",
    "\n",
    "print(tabulate(d, headers=[\"Outputs\", \"R2\", \"Mean absolute error\", \"Mean squared error\", \"Root mean squared error\"]))"
   ]
  },
  {
   "cell_type": "code",
   "execution_count": 14,
   "metadata": {},
   "outputs": [
    {
     "data": {
      "image/png": "[encoded data removed]",
      "text/plain": [
       "<Figure size 1440x360 with 3 Axes>"
      ]
     },
     "metadata": {
      "needs_background": "light"
     },
     "output_type": "display_data"
    }
   ],
   "source": [
    "fig, (ax1, ax2, ax3) = plt.subplots(1, 3, figsize=(20,5))\n",
    "fig.suptitle('Single Outputs', fontsize=25)\n",
    "\n",
    "ax1.plot(Y_test_d, ET_Y_pred_d,'o')\n",
    "ax1.plot([1,6.5],[1,6.5], color = 'r')\n",
    "ax1.set_title('Diameter')\n",
    "ax1.set(xlabel='Observed Values (nm)', ylabel='Predicted Values (nm)')\n",
    "\n",
    "ax2.plot(Y_test_a, ET_Y_pred_a,'o')\n",
    "ax2.plot([400,750],[400,750], color = 'r')\n",
    "ax2.set_title('Absorption')\n",
    "ax2.set(xlabel='Observed Values (nm)', ylabel='Predicted Values (nm)')\n",
    "\n",
    "ax3.plot(Y_test_e, DT_Y_pred_e,'o')\n",
    "ax3.plot([450,800],[450,800], color = 'r')\n",
    "ax3.set_title('Emission')\n",
    "ax3.set(xlabel='Observed Values (nm)', ylabel='Predicted Values (nm)')\n",
    "\n",
    "\n",
    "fig.tight_layout()"
   ]
  },
  {
   "cell_type": "markdown",
   "metadata": {},
   "source": [
    "## Feature importance"
   ]
  },
  {
   "cell_type": "markdown",
   "metadata": {},
   "source": [
    "### For diameter prediction"
   ]
  },
  {
   "cell_type": "code",
   "execution_count": 18,
   "metadata": {},
   "outputs": [
    {
     "data": {
      "text/plain": [
       "[('x0_indium trifluoroacetate', 0.28324582222296196),\n",
       " ('total_volume_ml', 0.20297332059063816),\n",
       " ('x4_myristic acid', 0.08161870642350577),\n",
       " ('temp_c', 0.0777631515484468),\n",
       " ('time_min', 0.07708367016514253),\n",
       " ('x7_zinc chloride', 0.041250900046294336),\n",
       " ('x5_dioctylamine', 0.037637602524626834),\n",
       " ('amine_amount_mmol', 0.03637355292221555),\n",
       " ('p_amount_mmol', 0.029930858398343897),\n",
       " ('x7_zinc iodide', 0.029831392829762472),\n",
       " ('in_amount_mmol', 0.01620215432071895),\n",
       " ('x7_zinc oleate', 0.009941355568337728),\n",
       " ('x2_None', 0.009081086592608777),\n",
       " ('x7_None', 0.008524216866782534),\n",
       " ('x8_None', 0.008417300971652214),\n",
       " ('x0_indium chloride', 0.007454484380334543),\n",
       " ('other_amount_mmol', 0.006764429720962395),\n",
       " ('x5_None', 0.006717402622659225),\n",
       " ('x1_tris(trimethylsilyl)phosphine', 0.00617121820671876),\n",
       " ('x5_oleylamine', 0.005962960099981673),\n",
       " ('acid_amount_mmol', 0.005184525737431052),\n",
       " ('zinc_amount_mmol', 0.00230474128835182),\n",
       " ('sol_amount_ml', 0.0020430996975447763),\n",
       " ('x4_palmitic acid', 0.002040550938754297),\n",
       " ('TOP_amount_mmol', 0.0015290178702596494),\n",
       " ('x1_tris(diethylamino)phosphine', 0.0011796205469555337),\n",
       " ('x1_tris(dimethylamino)phosphine', 0.0010044433596308954),\n",
       " ('x7_zinc bromide', 0.000876512823644118),\n",
       " ('x2_octadecene', 0.00019931681756186638),\n",
       " ('x4_None', 0.00015990691880518607),\n",
       " ('x1_bis(trimethylsilyl)phosphine', 0.00015058627819931742),\n",
       " ('x4_stearic acid', 0.00010741477246360362),\n",
       " ('x4_oleic acid', 0.00010500374726049159),\n",
       " ('x0_indium bromide', 9.978493124670069e-05),\n",
       " ('x3_trioctylphosphine', 6.988724919541073e-05),\n",
       " ('thiol_amount_mmol', 0.0),\n",
       " ('x0_indium acetate', 0.0),\n",
       " ('x0_indium iodide', 0.0),\n",
       " ('x0_indium myristate', 0.0),\n",
       " ('x1_phosphorus trichloride', 0.0),\n",
       " ('x1_tris(trimethylgermyl)phosphine', 0.0),\n",
       " ('x2_toluene', 0.0),\n",
       " ('x3_None', 0.0),\n",
       " ('x4_lauric acid', 0.0),\n",
       " ('x5_dodecylamine', 0.0),\n",
       " ('x5_hexadecylamine', 0.0),\n",
       " ('x5_octylamine', 0.0),\n",
       " ('x6_None', 0.0),\n",
       " ('x7_zinc stearate', 0.0),\n",
       " ('x7_zinc undecylenate', 0.0),\n",
       " ('x8_acetic acid', 0.0),\n",
       " ('x8_copper bromide', 0.0),\n",
       " ('x8_superhydride', 0.0),\n",
       " ('x8_tetrabutylammonium myristate', 0.0),\n",
       " ('x8_trioctylamine', 0.0),\n",
       " ('x8_trioctylphosphine oxide', 0.0),\n",
       " ('x8_water', 0.0),\n",
       " ('x8_zinc iodide', 0.0)]"
      ]
     },
     "execution_count": 18,
     "metadata": {},
     "output_type": "execute_result"
    }
   ],
   "source": [
    "importance_dict_d = dict()\n",
    "for i in range(0,58):\n",
    "    importance_dict_d[input_col[i]] = ET_regr_d.feature_importances_[i]\n",
    "\n",
    "sorted_importance_d = sorted(importance_dict_d.items(), key=lambda x: x[1], reverse=True)\n",
    "\n",
    "sorted_importance_d\n"
   ]
  },
  {
   "cell_type": "code",
   "execution_count": 19,
   "metadata": {},
   "outputs": [
    {
     "data": {
      "image/png": "[encoded data removed]",
      "text/plain": [
       "<Figure size 1490.4x595.44 with 1 Axes>"
      ]
     },
     "metadata": {
      "needs_background": "light"
     },
     "output_type": "display_data"
    }
   ],
   "source": [
    "top7_d = DataFrame(sorted_importance_d[0:7], columns=['features', 'importance score'])\n",
    "\n",
    "others_d = DataFrame(sorted_importance_d[7:], columns=['features', 'importance score'])\n",
    "\n",
    "\n",
    "import seaborn as sns\n",
    "\n",
    "a4_dims = (20.7, 8.27)\n",
    "fig, ax = plt.subplots(figsize=a4_dims)\n",
    "sns.set_theme(style=\"whitegrid\")\n",
    "\n",
    "ax = sns.barplot(x=\"features\", y=\"importance score\", data=top7_d)"
   ]
  },
  {
   "cell_type": "markdown",
   "metadata": {},
   "source": [
    "### Emission prediction"
   ]
  },
  {
   "cell_type": "code",
   "execution_count": 20,
   "metadata": {},
   "outputs": [
    {
     "data": {
      "text/plain": [
       "[('x7_zinc iodide', 0.1547305879286684),\n",
       " ('time_min', 0.1090767963344036),\n",
       " ('x0_indium acetate', 0.0989758292673849),\n",
       " ('x7_zinc bromide', 0.09168255910782082),\n",
       " ('x7_None', 0.07775129548134563),\n",
       " ('acid_amount_mmol', 0.06708215423621987),\n",
       " ('temp_c', 0.06394820758807003),\n",
       " ('x0_indium iodide', 0.05253443078374938),\n",
       " ('zinc_amount_mmol', 0.04750961583230465),\n",
       " ('x7_zinc oleate', 0.04552063625606104),\n",
       " ('total_volume_ml', 0.03307309993300321),\n",
       " ('p_amount_mmol', 0.02143094938776424),\n",
       " ('x5_hexadecylamine', 0.02012151149936218),\n",
       " ('x2_octadecene', 0.017909293616739222),\n",
       " ('other_amount_mmol', 0.017330486278017962),\n",
       " ('x4_oleic acid', 0.012147274319260935),\n",
       " ('sol_amount_ml', 0.010266426557194428),\n",
       " ('x3_trioctylphosphine', 0.009953073590292462),\n",
       " ('x4_myristic acid', 0.008772529604889202),\n",
       " ('x0_indium chloride', 0.008704975662004427),\n",
       " ('x1_tris(diethylamino)phosphine', 0.008584336638092998),\n",
       " ('x4_stearic acid', 0.006475877911582191),\n",
       " ('x2_None', 0.004746568791598776),\n",
       " ('x1_tris(dimethylamino)phosphine', 0.003767118088571757),\n",
       " ('in_amount_mmol', 0.0030181915495462557),\n",
       " ('TOP_amount_mmol', 0.002457594844919102),\n",
       " ('x4_None', 0.0010511432618073061),\n",
       " ('x8_zinc iodide', 0.00071198531873941),\n",
       " ('amine_amount_mmol', 0.0005801361856395547),\n",
       " ('x5_octylamine', 7.299605984666735e-05),\n",
       " ('x8_water', 1.2318085099304368e-05),\n",
       " ('thiol_amount_mmol', 0.0),\n",
       " ('x0_indium bromide', 0.0),\n",
       " ('x0_indium myristate', 0.0),\n",
       " ('x0_indium trifluoroacetate', 0.0),\n",
       " ('x1_bis(trimethylsilyl)phosphine', 0.0),\n",
       " ('x1_phosphorus trichloride', 0.0),\n",
       " ('x1_tris(trimethylgermyl)phosphine', 0.0),\n",
       " ('x1_tris(trimethylsilyl)phosphine', 0.0),\n",
       " ('x2_toluene', 0.0),\n",
       " ('x3_None', 0.0),\n",
       " ('x4_lauric acid', 0.0),\n",
       " ('x4_palmitic acid', 0.0),\n",
       " ('x5_None', 0.0),\n",
       " ('x5_dioctylamine', 0.0),\n",
       " ('x5_dodecylamine', 0.0),\n",
       " ('x5_oleylamine', 0.0),\n",
       " ('x6_None', 0.0),\n",
       " ('x7_zinc chloride', 0.0),\n",
       " ('x7_zinc stearate', 0.0),\n",
       " ('x7_zinc undecylenate', 0.0),\n",
       " ('x8_None', 0.0),\n",
       " ('x8_acetic acid', 0.0),\n",
       " ('x8_copper bromide', 0.0),\n",
       " ('x8_superhydride', 0.0),\n",
       " ('x8_tetrabutylammonium myristate', 0.0),\n",
       " ('x8_trioctylamine', 0.0),\n",
       " ('x8_trioctylphosphine oxide', 0.0)]"
      ]
     },
     "execution_count": 20,
     "metadata": {},
     "output_type": "execute_result"
    }
   ],
   "source": [
    "importance_dict_e = dict()\n",
    "for i in range(0,58):\n",
    "    importance_dict_e[input_col[i]] = DT_regr_e.feature_importances_[i]\n",
    "\n",
    "sorted_importance_e = sorted(importance_dict_e.items(), key=lambda x: x[1], reverse=True)\n",
    "\n",
    "\n",
    "sorted_importance_e\n"
   ]
  },
  {
   "cell_type": "code",
   "execution_count": 21,
   "metadata": {},
   "outputs": [
    {
     "data": {
      "image/png": "[encoded data removed]",
      "text/plain": [
       "<Figure size 1490.4x595.44 with 1 Axes>"
      ]
     },
     "metadata": {},
     "output_type": "display_data"
    }
   ],
   "source": [
    "top7_e = DataFrame(sorted_importance_e[0:7], columns=['features', 'importance score'])\n",
    "\n",
    "others_e = DataFrame(sorted_importance_e[7:], columns=['features', 'importance score'])\n",
    "\n",
    "# combined_others2 = pd.DataFrame(data = {\n",
    "#     'features' : ['others'],\n",
    "#     'importance score' : [others2['importance score'].sum()]\n",
    "# })\n",
    "\n",
    "# #combining top 10 with others\n",
    "# imp_score2 = pd.concat([top7, combined_others2])\n",
    "\n",
    "import seaborn as sns\n",
    "\n",
    "a4_dims = (20.7, 8.27)\n",
    "fig, ax = plt.subplots(figsize=a4_dims)\n",
    "sns.set_theme(style=\"whitegrid\")\n",
    "\n",
    "ax = sns.barplot(x=\"features\", y=\"importance score\", data=top7_e)"
   ]
  },
  {
   "cell_type": "markdown",
   "metadata": {},
   "source": [
    "### Absorption prediction"
   ]
  },
  {
   "cell_type": "code",
   "execution_count": 23,
   "metadata": {},
   "outputs": [
    {
     "data": {
      "text/plain": [
       "[('time_min', 0.20109576744800167),\n",
       " ('temp_c', 0.17996238282770485),\n",
       " ('x7_zinc iodide', 0.08783666032159622),\n",
       " ('x7_zinc oleate', 0.05637476600045364),\n",
       " ('acid_amount_mmol', 0.04279734360517702),\n",
       " ('in_amount_mmol', 0.03256383228051722),\n",
       " ('total_volume_ml', 0.03145001681652341),\n",
       " ('x7_zinc bromide', 0.030739067561035706),\n",
       " ('p_amount_mmol', 0.02999352180694652),\n",
       " ('x8_water', 0.02616437541519663),\n",
       " ('amine_amount_mmol', 0.023855125638689023),\n",
       " ('x1_tris(dimethylamino)phosphine', 0.023580753832533937),\n",
       " ('x0_indium iodide', 0.022562810867898124),\n",
       " ('x5_octylamine', 0.021443014903919057),\n",
       " ('zinc_amount_mmol', 0.020918267894993493),\n",
       " ('x4_oleic acid', 0.020840240043172843),\n",
       " ('x3_None', 0.017052180504391824),\n",
       " ('TOP_amount_mmol', 0.01565860617570664),\n",
       " ('x4_lauric acid', 0.01545318423074455),\n",
       " ('x4_myristic acid', 0.011902167873690183),\n",
       " ('x4_stearic acid', 0.010453815069404487),\n",
       " ('x0_indium acetate', 0.010125425161624325),\n",
       " ('x5_dioctylamine', 0.0099454298859125),\n",
       " ('other_amount_mmol', 0.00959131885592658),\n",
       " ('x5_oleylamine', 0.0095412882016303),\n",
       " ('x8_None', 0.009456420914100778),\n",
       " ('x2_octadecene', 0.006826546370077287),\n",
       " ('x7_zinc chloride', 0.004218783998667692),\n",
       " ('x8_superhydride', 0.004154556370115996),\n",
       " ('x1_tris(diethylamino)phosphine', 0.0038210390381117638),\n",
       " ('x0_indium chloride', 0.0027404621712491975),\n",
       " ('x7_zinc stearate', 0.0025606581314800386),\n",
       " ('x4_None', 0.0019484600951026815),\n",
       " ('sol_amount_ml', 0.0010912458015472422),\n",
       " ('x5_None', 0.00038630847285003867),\n",
       " ('x1_tris(trimethylsilyl)phosphine', 0.0002862626112612763),\n",
       " ('x0_indium trifluoroacetate', 0.00024269032604423954),\n",
       " ('x1_bis(trimethylsilyl)phosphine', 0.00023679811593291104),\n",
       " ('x0_indium bromide', 0.00010235835717290251),\n",
       " ('x2_toluene', 2.434205878074911e-05),\n",
       " ('x4_palmitic acid', 1.7039441145087647e-06),\n",
       " ('thiol_amount_mmol', 0.0),\n",
       " ('x0_indium myristate', 0.0),\n",
       " ('x1_phosphorus trichloride', 0.0),\n",
       " ('x1_tris(trimethylgermyl)phosphine', 0.0),\n",
       " ('x2_None', 0.0),\n",
       " ('x3_trioctylphosphine', 0.0),\n",
       " ('x5_dodecylamine', 0.0),\n",
       " ('x5_hexadecylamine', 0.0),\n",
       " ('x6_None', 0.0),\n",
       " ('x7_None', 0.0),\n",
       " ('x7_zinc undecylenate', 0.0),\n",
       " ('x8_acetic acid', 0.0),\n",
       " ('x8_copper bromide', 0.0),\n",
       " ('x8_tetrabutylammonium myristate', 0.0),\n",
       " ('x8_trioctylamine', 0.0),\n",
       " ('x8_trioctylphosphine oxide', 0.0),\n",
       " ('x8_zinc iodide', 0.0)]"
      ]
     },
     "execution_count": 23,
     "metadata": {},
     "output_type": "execute_result"
    }
   ],
   "source": [
    "importance_dict_a = dict()\n",
    "for i in range(0,58):\n",
    "    importance_dict_a[input_col[i]] = ET_regr_a.feature_importances_[i]\n",
    "\n",
    "sorted_importance_a = sorted(importance_dict_a.items(), key=lambda x: x[1], reverse=True)\n",
    "\n",
    "sorted_importance_a"
   ]
  },
  {
   "cell_type": "code",
   "execution_count": 24,
   "metadata": {},
   "outputs": [
    {
     "data": {
      "image/png": "[encoded data removed]",
      "text/plain": [
       "<Figure size 1490.4x595.44 with 1 Axes>"
      ]
     },
     "metadata": {},
     "output_type": "display_data"
    }
   ],
   "source": [
    "top7_a = DataFrame(sorted_importance_a[0:7], columns=['features', 'importance score'])\n",
    "\n",
    "others_a = DataFrame(sorted_importance_a[7:], columns=['features', 'importance score'])\n",
    "\n",
    "import seaborn as sns\n",
    "\n",
    "a4_dims = (20.7, 8.27)\n",
    "fig, ax = plt.subplots(figsize=a4_dims)\n",
    "sns.set_theme(style=\"whitegrid\")\n",
    "\n",
    "ax = sns.barplot(x=\"features\", y=\"importance score\", data=top7_a)"
   ]
  },
  {
   "cell_type": "code",
   "execution_count": 25,
   "metadata": {},
   "outputs": [
    {
     "data": {
      "text/plain": [
       "{'in_amount_mmol': 0.03256383228051722,\n",
       " 'p_amount_mmol': 0.02999352180694652,\n",
       " 'sol_amount_ml': 0.0010912458015472422,\n",
       " 'TOP_amount_mmol': 0.01565860617570664,\n",
       " 'acid_amount_mmol': 0.04279734360517702,\n",
       " 'amine_amount_mmol': 0.023855125638689023,\n",
       " 'thiol_amount_mmol': 0.0,\n",
       " 'zinc_amount_mmol': 0.020918267894993493,\n",
       " 'other_amount_mmol': 0.00959131885592658,\n",
       " 'total_volume_ml': 0.03145001681652341,\n",
       " 'temp_c': 0.17996238282770485,\n",
       " 'time_min': 0.20109576744800167,\n",
       " 'x0_indium acetate': 0.010125425161624325,\n",
       " 'x0_indium bromide': 0.00010235835717290251,\n",
       " 'x0_indium chloride': 0.0027404621712491975,\n",
       " 'x0_indium iodide': 0.022562810867898124,\n",
       " 'x0_indium myristate': 0.0,\n",
       " 'x0_indium trifluoroacetate': 0.00024269032604423954,\n",
       " 'x1_bis(trimethylsilyl)phosphine': 0.00023679811593291104,\n",
       " 'x1_phosphorus trichloride': 0.0,\n",
       " 'x1_tris(diethylamino)phosphine': 0.0038210390381117638,\n",
       " 'x1_tris(dimethylamino)phosphine': 0.023580753832533937,\n",
       " 'x1_tris(trimethylgermyl)phosphine': 0.0,\n",
       " 'x1_tris(trimethylsilyl)phosphine': 0.0002862626112612763,\n",
       " 'x2_None': 0.0,\n",
       " 'x2_octadecene': 0.006826546370077287,\n",
       " 'x2_toluene': 2.434205878074911e-05,\n",
       " 'x3_None': 0.017052180504391824,\n",
       " 'x3_trioctylphosphine': 0.0,\n",
       " 'x4_None': 0.0019484600951026815,\n",
       " 'x4_lauric acid': 0.01545318423074455,\n",
       " 'x4_myristic acid': 0.011902167873690183,\n",
       " 'x4_oleic acid': 0.020840240043172843,\n",
       " 'x4_palmitic acid': 1.7039441145087647e-06,\n",
       " 'x4_stearic acid': 0.010453815069404487,\n",
       " 'x5_None': 0.00038630847285003867,\n",
       " 'x5_dioctylamine': 0.0099454298859125,\n",
       " 'x5_dodecylamine': 0.0,\n",
       " 'x5_hexadecylamine': 0.0,\n",
       " 'x5_octylamine': 0.021443014903919057,\n",
       " 'x5_oleylamine': 0.0095412882016303,\n",
       " 'x6_None': 0.0,\n",
       " 'x7_None': 0.0,\n",
       " 'x7_zinc bromide': 0.030739067561035706,\n",
       " 'x7_zinc chloride': 0.004218783998667692,\n",
       " 'x7_zinc iodide': 0.08783666032159622,\n",
       " 'x7_zinc oleate': 0.05637476600045364,\n",
       " 'x7_zinc stearate': 0.0025606581314800386,\n",
       " 'x7_zinc undecylenate': 0.0,\n",
       " 'x8_None': 0.009456420914100778,\n",
       " 'x8_acetic acid': 0.0,\n",
       " 'x8_copper bromide': 0.0,\n",
       " 'x8_superhydride': 0.004154556370115996,\n",
       " 'x8_tetrabutylammonium myristate': 0.0,\n",
       " 'x8_trioctylamine': 0.0,\n",
       " 'x8_trioctylphosphine oxide': 0.0,\n",
       " 'x8_water': 0.02616437541519663,\n",
       " 'x8_zinc iodide': 0.0}"
      ]
     },
     "execution_count": 25,
     "metadata": {},
     "output_type": "execute_result"
    }
   ],
   "source": [
    "importance_dict_a"
   ]
  },
  {
   "cell_type": "markdown",
   "metadata": {},
   "source": [
    "### Combine\n"
   ]
  },
  {
   "cell_type": "code",
   "execution_count": 26,
   "metadata": {},
   "outputs": [],
   "source": [
    "sorted_a = sorted(importance_dict_a.items(), key=lambda x: x[0], reverse=False)\n",
    "sorted_d = sorted(importance_dict_d.items(), key=lambda x: x[0], reverse=False)\n",
    "sorted_e = sorted(importance_dict_e.items(), key=lambda x: x[0], reverse=False)\n"
   ]
  },
  {
   "cell_type": "code",
   "execution_count": 27,
   "metadata": {
    "scrolled": true
   },
   "outputs": [
    {
     "data": {
      "text/plain": [
       "[('TOP_amount_mmol', 0.0015290178702596494),\n",
       " ('acid_amount_mmol', 0.005184525737431052),\n",
       " ('amine_amount_mmol', 0.03637355292221555),\n",
       " ('in_amount_mmol', 0.01620215432071895),\n",
       " ('other_amount_mmol', 0.006764429720962395),\n",
       " ('p_amount_mmol', 0.029930858398343897),\n",
       " ('sol_amount_ml', 0.0020430996975447763),\n",
       " ('temp_c', 0.0777631515484468),\n",
       " ('thiol_amount_mmol', 0.0),\n",
       " ('time_min', 0.07708367016514253),\n",
       " ('total_volume_ml', 0.20297332059063816),\n",
       " ('x0_indium acetate', 0.0),\n",
       " ('x0_indium bromide', 9.978493124670069e-05),\n",
       " ('x0_indium chloride', 0.007454484380334543),\n",
       " ('x0_indium iodide', 0.0),\n",
       " ('x0_indium myristate', 0.0),\n",
       " ('x0_indium trifluoroacetate', 0.28324582222296196),\n",
       " ('x1_bis(trimethylsilyl)phosphine', 0.00015058627819931742),\n",
       " ('x1_phosphorus trichloride', 0.0),\n",
       " ('x1_tris(diethylamino)phosphine', 0.0011796205469555337),\n",
       " ('x1_tris(dimethylamino)phosphine', 0.0010044433596308954),\n",
       " ('x1_tris(trimethylgermyl)phosphine', 0.0),\n",
       " ('x1_tris(trimethylsilyl)phosphine', 0.00617121820671876),\n",
       " ('x2_None', 0.009081086592608777),\n",
       " ('x2_octadecene', 0.00019931681756186638),\n",
       " ('x2_toluene', 0.0),\n",
       " ('x3_None', 0.0),\n",
       " ('x3_trioctylphosphine', 6.988724919541073e-05),\n",
       " ('x4_None', 0.00015990691880518607),\n",
       " ('x4_lauric acid', 0.0),\n",
       " ('x4_myristic acid', 0.08161870642350577),\n",
       " ('x4_oleic acid', 0.00010500374726049159),\n",
       " ('x4_palmitic acid', 0.002040550938754297),\n",
       " ('x4_stearic acid', 0.00010741477246360362),\n",
       " ('x5_None', 0.006717402622659225),\n",
       " ('x5_dioctylamine', 0.037637602524626834),\n",
       " ('x5_dodecylamine', 0.0),\n",
       " ('x5_hexadecylamine', 0.0),\n",
       " ('x5_octylamine', 0.0),\n",
       " ('x5_oleylamine', 0.005962960099981673),\n",
       " ('x6_None', 0.0),\n",
       " ('x7_None', 0.008524216866782534),\n",
       " ('x7_zinc bromide', 0.000876512823644118),\n",
       " ('x7_zinc chloride', 0.041250900046294336),\n",
       " ('x7_zinc iodide', 0.029831392829762472),\n",
       " ('x7_zinc oleate', 0.009941355568337728),\n",
       " ('x7_zinc stearate', 0.0),\n",
       " ('x7_zinc undecylenate', 0.0),\n",
       " ('x8_None', 0.008417300971652214),\n",
       " ('x8_acetic acid', 0.0),\n",
       " ('x8_copper bromide', 0.0),\n",
       " ('x8_superhydride', 0.0),\n",
       " ('x8_tetrabutylammonium myristate', 0.0),\n",
       " ('x8_trioctylamine', 0.0),\n",
       " ('x8_trioctylphosphine oxide', 0.0),\n",
       " ('x8_water', 0.0),\n",
       " ('x8_zinc iodide', 0.0),\n",
       " ('zinc_amount_mmol', 0.00230474128835182)]"
      ]
     },
     "execution_count": 27,
     "metadata": {},
     "output_type": "execute_result"
    }
   ],
   "source": [
    "sorted_d "
   ]
  },
  {
   "cell_type": "code",
   "execution_count": 28,
   "metadata": {},
   "outputs": [],
   "source": [
    "combined_importance = dict()"
   ]
  },
  {
   "cell_type": "code",
   "execution_count": 29,
   "metadata": {},
   "outputs": [
    {
     "ename": "IndexError",
     "evalue": "list index out of range",
     "output_type": "error",
     "traceback": [
      "\u001b[0;31m---------------------------------------------------------------------------\u001b[0m",
      "\u001b[0;31mIndexError\u001b[0m                                Traceback (most recent call last)",
      "\u001b[0;32m<ipython-input-29-2b5117db772b>\u001b[0m in \u001b[0;36m<module>\u001b[0;34m\u001b[0m\n\u001b[1;32m      1\u001b[0m \u001b[0;32mfor\u001b[0m \u001b[0mi\u001b[0m \u001b[0;32min\u001b[0m \u001b[0mrange\u001b[0m\u001b[0;34m(\u001b[0m\u001b[0;36m0\u001b[0m\u001b[0;34m,\u001b[0m\u001b[0;36m71\u001b[0m\u001b[0;34m)\u001b[0m\u001b[0;34m:\u001b[0m\u001b[0;34m\u001b[0m\u001b[0;34m\u001b[0m\u001b[0m\n\u001b[0;32m----> 2\u001b[0;31m     \u001b[0mcombined_importance\u001b[0m\u001b[0;34m[\u001b[0m\u001b[0msorted_e\u001b[0m\u001b[0;34m[\u001b[0m\u001b[0mi\u001b[0m\u001b[0;34m]\u001b[0m\u001b[0;34m[\u001b[0m\u001b[0;36m0\u001b[0m\u001b[0;34m]\u001b[0m\u001b[0;34m]\u001b[0m \u001b[0;34m=\u001b[0m \u001b[0msorted_e\u001b[0m\u001b[0;34m[\u001b[0m\u001b[0mi\u001b[0m\u001b[0;34m]\u001b[0m\u001b[0;34m[\u001b[0m\u001b[0;36m1\u001b[0m\u001b[0;34m]\u001b[0m \u001b[0;34m+\u001b[0m \u001b[0msorted_a\u001b[0m\u001b[0;34m[\u001b[0m\u001b[0mi\u001b[0m\u001b[0;34m]\u001b[0m\u001b[0;34m[\u001b[0m\u001b[0;36m1\u001b[0m\u001b[0;34m]\u001b[0m \u001b[0;34m+\u001b[0m \u001b[0msorted_d\u001b[0m\u001b[0;34m[\u001b[0m\u001b[0mi\u001b[0m\u001b[0;34m]\u001b[0m\u001b[0;34m[\u001b[0m\u001b[0;36m1\u001b[0m\u001b[0;34m]\u001b[0m\u001b[0;34m\u001b[0m\u001b[0;34m\u001b[0m\u001b[0m\n\u001b[0m\u001b[1;32m      3\u001b[0m \u001b[0mcombined_importance\u001b[0m\u001b[0;34m\u001b[0m\u001b[0;34m\u001b[0m\u001b[0m\n",
      "\u001b[0;31mIndexError\u001b[0m: list index out of range"
     ]
    }
   ],
   "source": [
    "for i in range(0,71):\n",
    "    combined_importance[sorted_e[i][0]] = sorted_e[i][1] + sorted_a[i][1] + sorted_d[i][1]\n",
    "combined_importance\n"
   ]
  },
  {
   "cell_type": "code",
   "execution_count": 30,
   "metadata": {},
   "outputs": [
    {
     "data": {
      "text/plain": [
       "[('time_min', 0.3872562339475478),\n",
       " ('temp_c', 0.3216737419642217),\n",
       " ('x0_indium trifluoroacetate', 0.2834885125490062),\n",
       " ('x7_zinc iodide', 0.2723986410800271),\n",
       " ('total_volume_ml', 0.2674964373401648),\n",
       " ('x7_zinc bromide', 0.12329813949250065),\n",
       " ('acid_amount_mmol', 0.11506402357882795),\n",
       " ('x7_zinc oleate', 0.11183675782485239),\n",
       " ('x0_indium acetate', 0.10910125442900923),\n",
       " ('x4_myristic acid', 0.10229340390208516),\n",
       " ('x7_None', 0.08627551234812816),\n",
       " ('p_amount_mmol', 0.08135532959305466),\n",
       " ('x0_indium iodide', 0.0750972416516475),\n",
       " ('zinc_amount_mmol', 0.07073262501564995),\n",
       " ('amine_amount_mmol', 0.06080881474654413),\n",
       " ('in_amount_mmol', 0.05178417815078243),\n",
       " ('x5_dioctylamine', 0.047583032410539336),\n",
       " ('x7_zinc chloride', 0.04546968404496203),\n",
       " ('other_amount_mmol', 0.03368623485490694),\n",
       " ('x4_oleic acid', 0.03309251810969427),\n",
       " ('x1_tris(dimethylamino)phosphine', 0.02835231528073659),\n",
       " ('x8_water', 0.026176693500295934),\n",
       " ('x2_octadecene', 0.024935156804378376),\n",
       " ('x5_octylamine', 0.021516010963765726),\n",
       " ('x5_hexadecylamine', 0.02012151149936218),\n",
       " ('TOP_amount_mmol', 0.019645218890885392),\n",
       " ('x0_indium chloride', 0.018899922213588168),\n",
       " ('x8_None', 0.017873721885752994),\n",
       " ('x3_None', 0.017052180504391824),\n",
       " ('x4_stearic acid', 0.01703710775345028),\n",
       " ('x5_oleylamine', 0.015504248301611973),\n",
       " ('x4_lauric acid', 0.01545318423074455),\n",
       " ('x2_None', 0.013827655384207552),\n",
       " ('x1_tris(diethylamino)phosphine', 0.013584996223160296),\n",
       " ('sol_amount_ml', 0.013400772056286448),\n",
       " ('x3_trioctylphosphine', 0.010022960839487872),\n",
       " ('x5_None', 0.007103711095509264),\n",
       " ('x1_tris(trimethylsilyl)phosphine', 0.006457480817980037),\n",
       " ('x8_superhydride', 0.004154556370115996),\n",
       " ('x4_None', 0.0031595102757151737),\n",
       " ('x7_zinc stearate', 0.0025606581314800386),\n",
       " ('x4_palmitic acid', 0.0020422548828688057),\n",
       " ('x8_zinc iodide', 0.00071198531873941),\n",
       " ('x1_bis(trimethylsilyl)phosphine', 0.00038738439413222843),\n",
       " ('x0_indium bromide', 0.0002021432884196032),\n",
       " ('x2_toluene', 2.434205878074911e-05),\n",
       " ('thiol_amount_mmol', 0.0),\n",
       " ('x0_indium myristate', 0.0),\n",
       " ('x1_phosphorus trichloride', 0.0),\n",
       " ('x1_tris(trimethylgermyl)phosphine', 0.0),\n",
       " ('x5_dodecylamine', 0.0),\n",
       " ('x6_None', 0.0),\n",
       " ('x7_zinc undecylenate', 0.0),\n",
       " ('x8_acetic acid', 0.0),\n",
       " ('x8_copper bromide', 0.0),\n",
       " ('x8_tetrabutylammonium myristate', 0.0),\n",
       " ('x8_trioctylamine', 0.0),\n",
       " ('x8_trioctylphosphine oxide', 0.0)]"
      ]
     },
     "execution_count": 30,
     "metadata": {},
     "output_type": "execute_result"
    }
   ],
   "source": [
    "sorted_combined_importance = sorted(combined_importance.items(), key=lambda x: x[1], reverse=True)\n",
    "\n",
    "sorted_combined_importance "
   ]
  },
  {
   "cell_type": "code",
   "execution_count": 31,
   "metadata": {
    "scrolled": true
   },
   "outputs": [
    {
     "data": {
      "image/png": "[encoded data removed]",
      "text/plain": [
       "<Figure size 1490.4x595.44 with 1 Axes>"
      ]
     },
     "metadata": {},
     "output_type": "display_data"
    }
   ],
   "source": [
    "top7_combined = DataFrame(sorted_combined_importance[0:7], columns=['features', 'importance score'])\n",
    "\n",
    "others_combined = DataFrame(sorted_combined_importance [7:], columns=['features', 'importance score'])\n",
    "\n",
    "import seaborn as sns\n",
    "\n",
    "a4_dims = (20.7, 8.27)\n",
    "fig, ax = plt.subplots(figsize=a4_dims)\n",
    "sns.set_theme(style=\"whitegrid\")\n",
    "\n",
    "ax = sns.barplot(x=\"features\", y=\"importance score\", data=top7_combined)"
   ]
  },
  {
   "cell_type": "markdown",
   "metadata": {},
   "source": [
    "## Correlation"
   ]
  },
  {
   "cell_type": "code",
   "execution_count": 1,
   "metadata": {},
   "outputs": [],
   "source": [
    "from sklearn.datasets import load_boston\n",
    "import pandas as pd\n",
    "import numpy as np\n",
    "import matplotlib\n",
    "import matplotlib.pyplot as plt\n",
    "import seaborn as sns\n",
    "import statsmodels.api as sm\n",
    "%matplotlib inline\n",
    "from sklearn.model_selection import train_test_split\n",
    "from sklearn.linear_model import LinearRegression\n",
    "from sklearn.feature_selection import RFE\n",
    "from sklearn.linear_model import RidgeCV, LassoCV, Ridge, Lasso"
   ]
  },
  {
   "cell_type": "code",
   "execution_count": null,
   "metadata": {},
   "outputs": [],
   "source": []
  },
  {
   "cell_type": "code",
   "execution_count": null,
   "metadata": {},
   "outputs": [],
   "source": []
  },
  {
   "cell_type": "code",
   "execution_count": null,
   "metadata": {},
   "outputs": [],
   "source": [
    "df[\"MEDV\"] = x.target\n",
    "X_cor = df.drop(\"MEDV\",1)   #Feature Matrix\n",
    "y_cor = df[\"MEDV\"]          #Target Variable\n",
    "df.head()"
   ]
  }
 ],
 "metadata": {
  "kernelspec": {
   "display_name": "Python 3",
   "language": "python",
   "name": "python3"
  },
  "language_info": {
   "codemirror_mode": {
    "name": "ipython",
    "version": 3
   },
   "file_extension": ".py",
   "mimetype": "text/x-python",
   "name": "python",
   "nbconvert_exporter": "python",
   "pygments_lexer": "ipython3",
   "version": "3.8.5"
  }
 },
 "nbformat": 4,
 "nbformat_minor": 4
}
