{
 "cells": [
  {
   "cell_type": "code",
   "execution_count": 1,
   "metadata": {},
   "outputs": [],
   "source": [
    "# Pandas dataframe\n",
    "import pandas as pd\n",
    "from pandas import DataFrame\n",
    "\n",
    "# Scikit-Learn\n",
    "import sklearn \n",
    "from sklearn import datasets, linear_model, metrics, tree\n",
    "from sklearn.model_selection import train_test_split, LeaveOneOut, KFold, cross_validate, RandomizedSearchCV, GridSearchCV\n",
    "from sklearn.metrics import r2_score, mean_squared_error, mean_absolute_error, accuracy_score\n",
    "\n",
    "# Models\n",
    "from sklearn.linear_model import LinearRegression, ElasticNet, Lasso, Ridge\n",
    "from sklearn.ensemble import (BaggingRegressor, ExtraTreesRegressor, GradientBoostingRegressor, \n",
    "RandomForestRegressor, AdaBoostRegressor)\n",
    "from sklearn.svm import SVR\n",
    "from sklearn.tree import DecisionTreeRegressor\n",
    "        \n",
    "import joblib\n",
    "from matplotlib import pyplot as plt\n",
    "import numpy as np\n",
    "import os\n",
    "from tqdm import tqdm"
   ]
  },
  {
   "cell_type": "code",
   "execution_count": 2,
   "metadata": {
    "scrolled": true
   },
   "outputs": [
    {
     "name": "stdout",
     "output_type": "stream",
     "text": [
      "<class 'pandas.core.frame.DataFrame'>\n",
      "RangeIndex: 152 entries, 0 to 151\n",
      "Data columns (total 61 columns):\n",
      " #   Column                             Non-Null Count  Dtype  \n",
      "---  ------                             --------------  -----  \n",
      " 0   Unnamed: 0                         152 non-null    int64  \n",
      " 1   in_amount_mmol                     152 non-null    float64\n",
      " 2   p_amount_mmol                      152 non-null    float64\n",
      " 3   ligand_amount_mmol                 152 non-null    float64\n",
      " 4   first_sol_amount_ml                152 non-null    float64\n",
      " 5   second_sol_amount_ml               152 non-null    float64\n",
      " 6   other_1_amount_mmol                152 non-null    float64\n",
      " 7   other_2_amount_mmol                152 non-null    float64\n",
      " 8   total_volume_ml                    152 non-null    float64\n",
      " 9   temp_c                             152 non-null    float64\n",
      " 10  time_min                           152 non-null    float64\n",
      " 11  x0_indium acetate                  152 non-null    float64\n",
      " 12  x0_indium bromide                  152 non-null    float64\n",
      " 13  x0_indium chloride                 152 non-null    float64\n",
      " 14  x0_indium iodide                   152 non-null    float64\n",
      " 15  x0_indium myristate                152 non-null    float64\n",
      " 16  x0_indium trifluoroacetate         152 non-null    float64\n",
      " 17  x1_bis(trimethylsilyl)phosphine    152 non-null    float64\n",
      " 18  x1_phosphorus trichloride          152 non-null    float64\n",
      " 19  x1_tris(diethylamino)phosphine     152 non-null    float64\n",
      " 20  x1_tris(dimethylamino)phosphine    152 non-null    float64\n",
      " 21  x1_tris(trimethylgermyl)phosphine  152 non-null    float64\n",
      " 22  x1_tris(trimethylsilyl)phosphine   152 non-null    float64\n",
      " 23  x2_None                            152 non-null    float64\n",
      " 24  x2_lauric acid                     152 non-null    float64\n",
      " 25  x2_myristic acid                   152 non-null    float64\n",
      " 26  x2_oleic acid                      152 non-null    float64\n",
      " 27  x2_palmitic acid                   152 non-null    float64\n",
      " 28  x2_stearic acid                    152 non-null    float64\n",
      " 29  x3_dodecylamine                    152 non-null    float64\n",
      " 30  x3_octadecene                      152 non-null    float64\n",
      " 31  x3_oleylamine                      152 non-null    float64\n",
      " 32  x3_trioctylamine                   152 non-null    float64\n",
      " 33  x3_trioctylphosphine               152 non-null    float64\n",
      " 34  x4_None                            152 non-null    float64\n",
      " 35  x4_dioctyl ether                   152 non-null    float64\n",
      " 36  x4_dioctylamine                    152 non-null    float64\n",
      " 37  x4_hexadecylamine                  152 non-null    float64\n",
      " 38  x4_octylamine                      152 non-null    float64\n",
      " 39  x4_oleylamine                      152 non-null    float64\n",
      " 40  x4_toluene                         152 non-null    float64\n",
      " 41  x4_trioctylphosphine               152 non-null    float64\n",
      " 42  x4_trioctylphosphine oxide         152 non-null    float64\n",
      " 43  x5_None                            152 non-null    float64\n",
      " 44  x5_acetic acid                     152 non-null    float64\n",
      " 45  x5_superhydride                    152 non-null    float64\n",
      " 46  x5_tetrabutylammonium myristate    152 non-null    float64\n",
      " 47  x5_zinc bromide                    152 non-null    float64\n",
      " 48  x5_zinc chloride                   152 non-null    float64\n",
      " 49  x5_zinc iodide                     152 non-null    float64\n",
      " 50  x5_zinc oleate                     152 non-null    float64\n",
      " 51  x5_zinc stearate                   152 non-null    float64\n",
      " 52  x5_zinc undecylenate               152 non-null    float64\n",
      " 53  x6_None                            152 non-null    float64\n",
      " 54  x6_copper bromide                  152 non-null    float64\n",
      " 55  x6_trioctylphosphine               152 non-null    float64\n",
      " 56  x6_water                           152 non-null    float64\n",
      " 57  x6_zinc iodide                     152 non-null    float64\n",
      " 58  diameter_nm                        152 non-null    object \n",
      " 59  abs_nm                             152 non-null    int64  \n",
      " 60  emission_nm                        152 non-null    object \n",
      "dtypes: float64(57), int64(2), object(2)\n",
      "memory usage: 72.6+ KB\n"
     ]
    }
   ],
   "source": [
    "df_abs = pd.read_csv(\"dataset_scaled_abs.csv\")\n",
    "df_abs.info()"
   ]
  },
  {
   "cell_type": "code",
   "execution_count": 3,
   "metadata": {},
   "outputs": [],
   "source": [
    "#Checks the column names, and ensures that they do not have any leading or trailing spaces\n",
    "df_abs.columns = df_abs.columns.str.strip()"
   ]
  },
  {
   "cell_type": "code",
   "execution_count": 4,
   "metadata": {},
   "outputs": [],
   "source": [
    "# Input for ML models\n",
    "\n",
    "input_col = ['in_amount_mmol',\n",
    "             'p_amount_mmol',\n",
    "             'ligand_amount_mmol',\n",
    "             'first_sol_amount_ml',\n",
    "             'second_sol_amount_ml',\n",
    "             'other_1_amount_mmol',\n",
    "             'other_2_amount_mmol',\n",
    "             'total_volume_ml',\n",
    "             'temp_c',\n",
    "             'time_min',\n",
    "             'x0_indium acetate',\n",
    "             'x0_indium bromide',\n",
    "             'x0_indium chloride',\n",
    "             'x0_indium iodide',\n",
    "             'x0_indium myristate',\n",
    "             'x0_indium trifluoroacetate',\n",
    "             'x1_bis(trimethylsilyl)phosphine',\n",
    "             'x1_phosphorus trichloride',\n",
    "             'x1_tris(diethylamino)phosphine',\n",
    "             'x1_tris(dimethylamino)phosphine',\n",
    "             'x1_tris(trimethylgermyl)phosphine',\n",
    "             'x1_tris(trimethylsilyl)phosphine',\n",
    "             'x2_None',\n",
    "             'x2_lauric acid',\n",
    "             'x2_myristic acid',\n",
    "             'x2_oleic acid',\n",
    "             'x2_palmitic acid',\n",
    "             'x2_stearic acid',\n",
    "             'x3_dodecylamine',\n",
    "             'x3_octadecene',\n",
    "             'x3_oleylamine',\n",
    "             'x3_trioctylamine',\n",
    "             'x3_trioctylphosphine',\n",
    "             'x4_None',\n",
    "             'x4_dioctyl ether',\n",
    "             'x4_dioctylamine',\n",
    "             'x4_hexadecylamine',\n",
    "             'x4_octylamine',\n",
    "             'x4_oleylamine',\n",
    "             'x4_toluene',\n",
    "             'x4_trioctylphosphine',\n",
    "             'x4_trioctylphosphine oxide',\n",
    "             'x5_None',\n",
    "             'x5_acetic acid',\n",
    "             'x5_superhydride',\n",
    "             'x5_tetrabutylammonium myristate',\n",
    "             'x5_zinc bromide'\n",
    "             ,'x5_zinc chloride'\n",
    "             ,'x5_zinc iodide'\n",
    "             ,'x5_zinc oleate',\n",
    "             'x5_zinc stearate',\n",
    "             'x5_zinc undecylenate',\n",
    "             'x6_None',\n",
    "             'x6_copper bromide',\n",
    "             'x6_trioctylphosphine',\n",
    "             'x6_water',\n",
    "             'x6_zinc iodide',\n",
    "             ]\n",
    "\n",
    "output_col = ['abs_nm']\n",
    "\n",
    "X = df_abs[input_col]\n",
    "\n",
    "Y = df_abs[output_col]"
   ]
  },
  {
   "cell_type": "code",
   "execution_count": 5,
   "metadata": {},
   "outputs": [],
   "source": [
    "# Splitting dataset for training\n",
    "X_train, X_test, Y_train, Y_test = train_test_split(X, Y, test_size=0.3, random_state=45, shuffle=True)"
   ]
  },
  {
   "cell_type": "markdown",
   "metadata": {},
   "source": [
    "## Grid search 10/26/2021"
   ]
  },
  {
   "cell_type": "markdown",
   "metadata": {},
   "source": [
    "### Bagging\n"
   ]
  },
  {
   "cell_type": "code",
   "execution_count": 6,
   "metadata": {},
   "outputs": [
    {
     "name": "stderr",
     "output_type": "stream",
     "text": [
      "100%|██████████| 19/19 [02:11<00:00,  6.92s/it]"
     ]
    },
    {
     "name": "stdout",
     "output_type": "stream",
     "text": [
      "29.61154443382705 9 2 16\n"
     ]
    },
    {
     "name": "stderr",
     "output_type": "stream",
     "text": [
      "\n"
     ]
    }
   ],
   "source": [
    "min_mae = 99999\n",
    "\n",
    "min_i, min_j, min_k  = 0, 0, 0\n",
    "\n",
    "for i in tqdm(range(1, 20)):\n",
    "    for j in range(1, 20):\n",
    "        for k in range(2, 36, 2):\n",
    "            \n",
    "            B_regr = BaggingRegressor(base_estimator=DecisionTreeRegressor(max_depth=i),\n",
    "                                      n_estimators=j,\n",
    "                                      random_state=k)\n",
    "            \n",
    "            B_regr.fit(X_train, np.ravel(Y_train))\n",
    "            \n",
    "            B_Y_pred = B_regr.predict(X_test)\n",
    "            \n",
    "            mae = mean_absolute_error(Y_test, B_Y_pred)\n",
    "            \n",
    "            if (min_mae > mae):\n",
    "                min_mae = mae\n",
    "                min_i = i\n",
    "                min_j = j\n",
    "                min_k = k\n",
    "            \n",
    "print(min_mae, min_i, min_j, min_k)"
   ]
  },
  {
   "cell_type": "code",
   "execution_count": null,
   "metadata": {},
   "outputs": [],
   "source": []
  },
  {
   "cell_type": "markdown",
   "metadata": {},
   "source": [
    "### Random Forest"
   ]
  },
  {
   "cell_type": "code",
   "execution_count": 7,
   "metadata": {},
   "outputs": [
    {
     "name": "stderr",
     "output_type": "stream",
     "text": [
      "100%|██████████| 25/25 [03:36<00:00,  8.67s/it]"
     ]
    },
    {
     "name": "stdout",
     "output_type": "stream",
     "text": [
      "27.156625258799178 12 3 16\n"
     ]
    },
    {
     "name": "stderr",
     "output_type": "stream",
     "text": [
      "\n"
     ]
    }
   ],
   "source": [
    "min_mae = 99999\n",
    "min_i, min_j, min_k = 0, 0, 0\n",
    "for i in tqdm(range(1, 26)):\n",
    "    for j in range(1, 26):\n",
    "        for k in range(2, 36, 2):\n",
    "            RF_regr = RandomForestRegressor(max_depth=i, \n",
    "                                            n_estimators=j, \n",
    "                                            max_features=k,\n",
    "                                            random_state=45\n",
    "                                                )\n",
    "            RF_regr.fit(X_train, np.ravel(Y_train))\n",
    "            RF_Y_pred = RF_regr.predict(X_test)\n",
    "\n",
    "            mae = mean_absolute_error(Y_test, RF_Y_pred)\n",
    "            if (min_mae > mae):\n",
    "                min_mae = mae\n",
    "                min_i = i\n",
    "                min_j = j\n",
    "                min_k = k\n",
    "            \n",
    "print(min_mae, min_i, min_j, min_k)"
   ]
  },
  {
   "cell_type": "code",
   "execution_count": null,
   "metadata": {},
   "outputs": [],
   "source": []
  },
  {
   "cell_type": "markdown",
   "metadata": {},
   "source": [
    "### Decision Tree"
   ]
  },
  {
   "cell_type": "code",
   "execution_count": 10,
   "metadata": {},
   "outputs": [
    {
     "name": "stderr",
     "output_type": "stream",
     "text": [
      "100%|██████████| 25/25 [02:40<00:00,  6.43s/it]"
     ]
    },
    {
     "name": "stdout",
     "output_type": "stream",
     "text": [
      "23.436956521739127 12 12 16\n"
     ]
    },
    {
     "name": "stderr",
     "output_type": "stream",
     "text": [
      "\n"
     ]
    }
   ],
   "source": [
    "min_mae = 99999\n",
    "\n",
    "min_i, min_j, min_k  = 0, 0, 0\n",
    "\n",
    "for i in tqdm(range(1, 26)):\n",
    "    for j in range(1, 26):\n",
    "        for k in range(2, 45, 1):\n",
    "            \n",
    "            DT_regr = DecisionTreeRegressor(max_depth=i,\n",
    "                                max_features=j,\n",
    "                                random_state=k)\n",
    "            \n",
    "            DT_regr.fit(X_train, Y_train)\n",
    "\n",
    "            DT_Y_pred = DT_regr.predict(X_test)\n",
    "\n",
    "            mae = mean_absolute_error(Y_test, DT_Y_pred)\n",
    "            \n",
    "            if (min_mae > mae):\n",
    "                min_mae = mae\n",
    "                min_i = i\n",
    "                min_j = j\n",
    "                min_k = k\n",
    "            \n",
    "print(min_mae, min_i, min_j, min_k)"
   ]
  },
  {
   "cell_type": "code",
   "execution_count": null,
   "metadata": {},
   "outputs": [],
   "source": []
  },
  {
   "cell_type": "markdown",
   "metadata": {},
   "source": [
    "### Extra Trees"
   ]
  },
  {
   "cell_type": "code",
   "execution_count": 9,
   "metadata": {},
   "outputs": [
    {
     "name": "stderr",
     "output_type": "stream",
     "text": [
      "100%|██████████| 29/29 [10:44<00:00, 22.24s/it]"
     ]
    },
    {
     "name": "stdout",
     "output_type": "stream",
     "text": [
      "24.217391304347824 1 24 19\n"
     ]
    },
    {
     "name": "stderr",
     "output_type": "stream",
     "text": [
      "\n"
     ]
    }
   ],
   "source": [
    "min_mae = 99999\n",
    "min_i, min_j, min_k = 0, 0, 0\n",
    "for i in tqdm(range(1, 30)):\n",
    "    for j in range(1, 30):\n",
    "        for k in range(2, 40, 1):\n",
    "            ET_regr = ExtraTreesRegressor(n_estimators=i, \n",
    "                                            max_features=j,\n",
    "                                            random_state=k\n",
    "                                                )\n",
    "            ET_regr.fit(X_train, np.ravel(Y_train))\n",
    "            ET_Y_pred = ET_regr.predict(X_test)\n",
    "\n",
    "            mae = mean_absolute_error(Y_test, ET_Y_pred)\n",
    "            if (min_mae > mae):\n",
    "                min_mae = mae\n",
    "                min_i = i\n",
    "                min_j = j\n",
    "                min_k = k\n",
    "            \n",
    "print(min_mae, min_i, min_j, min_k)"
   ]
  },
  {
   "cell_type": "code",
   "execution_count": null,
   "metadata": {},
   "outputs": [],
   "source": []
  },
  {
   "cell_type": "markdown",
   "metadata": {},
   "source": [
    "### AdaBoost"
   ]
  },
  {
   "cell_type": "code",
   "execution_count": 11,
   "metadata": {},
   "outputs": [
    {
     "name": "stderr",
     "output_type": "stream",
     "text": [
      "100%|██████████| 29/29 [00:16<00:00,  1.73it/s]"
     ]
    },
    {
     "name": "stdout",
     "output_type": "stream",
     "text": [
      "26.343328335832084 1 1\n"
     ]
    },
    {
     "name": "stderr",
     "output_type": "stream",
     "text": [
      "\n"
     ]
    }
   ],
   "source": [
    "min_mae = 99999\n",
    "min_i, min_j = 0, 0\n",
    "for i in tqdm(range(1, 30)):\n",
    "    for j in range(1, 30):\n",
    "        AB_regr = AdaBoostRegressor(n_estimators=i, loss='exponential', learning_rate=j)\n",
    "        AB_regr.fit(X_train, np.ravel(Y_train))\n",
    "        AB_Y_pred = AB_regr.predict(X_test)\n",
    "        AB_mae = mean_absolute_error(Y_test, AB_Y_pred)\n",
    "        if (min_mae > mae):\n",
    "                min_mae = mae\n",
    "                min_i = i\n",
    "                min_j = j\n",
    "print(min_mae, min_i, min_j)"
   ]
  },
  {
   "cell_type": "code",
   "execution_count": null,
   "metadata": {},
   "outputs": [],
   "source": []
  },
  {
   "cell_type": "markdown",
   "metadata": {},
   "source": [
    "### Gradient Boosting"
   ]
  },
  {
   "cell_type": "code",
   "execution_count": 12,
   "metadata": {},
   "outputs": [
    {
     "name": "stderr",
     "output_type": "stream",
     "text": [
      "100%|██████████| 15/15 [1:24:38<00:00, 338.54s/it]"
     ]
    },
    {
     "name": "stdout",
     "output_type": "stream",
     "text": [
      "23.664665516785554 370 4 0.16000000000000003 6\n"
     ]
    },
    {
     "name": "stderr",
     "output_type": "stream",
     "text": [
      "\n"
     ]
    }
   ],
   "source": [
    "min_mae = 999\n",
    "min_i, min_j, min_k, min_l = 0, 0, 0.0, 0\n",
    "for i in tqdm(range(300, 450, 10)):\n",
    "    for j in range(2, 30, 2):\n",
    "        for k in np.arange(0.06, 0.22, 0.02):\n",
    "            for l in range(2, 22, 2):\n",
    "                GB_regr = GradientBoostingRegressor(n_estimators=i, max_depth=j, learning_rate=k, random_state=l)\n",
    "                GB_regr.fit(X_train, np.ravel(Y_train))\n",
    "                GB_Y_pred = GB_regr.predict(X_test)\n",
    "\n",
    "                mae = mean_absolute_error(Y_test, GB_Y_pred)\n",
    "                if (min_mae > mae):\n",
    "                    min_mae = mae\n",
    "                    min_i = i\n",
    "                    min_j = j\n",
    "                    min_k = k\n",
    "                    min_l = l\n",
    "\n",
    "print(min_mae, min_i, min_j, min_k, min_l)"
   ]
  },
  {
   "cell_type": "markdown",
   "metadata": {},
   "source": [
    "## Saving Extra Trees model"
   ]
  },
  {
   "cell_type": "code",
   "execution_count": 12,
   "metadata": {},
   "outputs": [
    {
     "data": {
      "text/plain": [
       "['./model_aug_abs_DecisionTree.joblib']"
      ]
     },
     "execution_count": 12,
     "metadata": {},
     "output_type": "execute_result"
    }
   ],
   "source": [
    "DT_regr = DecisionTreeRegressor(max_depth=12,\n",
    "                                max_features=12,\n",
    "                                random_state=16)\n",
    "            \n",
    "DT_regr.fit(X_train, Y_train)\n",
    "DT_Y_pred = DT_regr.predict(X_test)\n",
    "\n",
    "joblib.dump(DT_regr, \"./model_aug_abs_DecisionTree.joblib\")"
   ]
  },
  {
   "cell_type": "code",
   "execution_count": null,
   "metadata": {},
   "outputs": [],
   "source": []
  }
 ],
 "metadata": {
  "kernelspec": {
   "display_name": "Python 3",
   "language": "python",
   "name": "python3"
  },
  "language_info": {
   "codemirror_mode": {
    "name": "ipython",
    "version": 3
   },
   "file_extension": ".py",
   "mimetype": "text/x-python",
   "name": "python",
   "nbconvert_exporter": "python",
   "pygments_lexer": "ipython3",
   "version": "3.8.5"
  }
 },
 "nbformat": 4,
 "nbformat_minor": 4
}
