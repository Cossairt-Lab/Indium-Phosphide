{
 "cells": [
  {
   "cell_type": "code",
   "execution_count": 1,
   "metadata": {},
   "outputs": [],
   "source": [
    "import numpy as np \n",
    "import pandas as pd\n",
    "import os\n",
    "import joblib\n",
    "import sklearn \n",
    "import matplotlib\n",
    "from matplotlib import pyplot as plt\n",
    "\n",
    "from sklearn.model_selection import train_test_split\n",
    "\n",
    "#Regressions:\n",
    "\n",
    "from sklearn.multioutput import MultiOutputRegressor\n",
    "\n",
    "from sklearn.neighbors import KNeighborsRegressor\n",
    "from sklearn.linear_model import Ridge\n",
    "from sklearn.linear_model import Lasso\n",
    "from sklearn.linear_model import ElasticNet\n",
    "from sklearn.linear_model import LinearRegression\n",
    "from sklearn.linear_model import RidgeCV\n",
    "from sklearn.ensemble import ExtraTreesRegressor\n",
    "from sklearn.ensemble import GradientBoostingRegressor\n",
    "from sklearn.ensemble import RandomForestRegressor\n",
    "from sklearn.ensemble import AdaBoostRegressor\n",
    "from sklearn.tree import DecisionTreeRegressor\n",
    "\n",
    "#Metric\n",
    "from sklearn.metrics import mean_squared_error\n",
    "from sklearn.metrics import mean_absolute_error\n",
    "from sklearn.metrics import r2_score\n",
    "\n",
    "\n",
    "from pandas import DataFrame\n",
    "\n",
    "\n",
    "# Show progress bar\n",
    "from tqdm import tqdm"
   ]
  },
  {
   "cell_type": "code",
   "execution_count": 2,
   "metadata": {},
   "outputs": [
    {
     "data": {
      "text/html": [
       "<div>\n",
       "<style scoped>\n",
       "    .dataframe tbody tr th:only-of-type {\n",
       "        vertical-align: middle;\n",
       "    }\n",
       "\n",
       "    .dataframe tbody tr th {\n",
       "        vertical-align: top;\n",
       "    }\n",
       "\n",
       "    .dataframe thead th {\n",
       "        text-align: right;\n",
       "    }\n",
       "</style>\n",
       "<table border=\"1\" class=\"dataframe\">\n",
       "  <thead>\n",
       "    <tr style=\"text-align: right;\">\n",
       "      <th></th>\n",
       "      <th>Unnamed: 0</th>\n",
       "      <th>Unnamed: 0.1</th>\n",
       "      <th>Unnamed: 0.1.1</th>\n",
       "      <th>Unnamed: 0.1.1.1</th>\n",
       "      <th>in_amount_mmol</th>\n",
       "      <th>p_amount_mmol</th>\n",
       "      <th>ligand_amount_mmol</th>\n",
       "      <th>first_sol_amount_ml</th>\n",
       "      <th>second_sol_amount_ml</th>\n",
       "      <th>other_1_amount_mmol</th>\n",
       "      <th>...</th>\n",
       "      <th>x5_zinc undecylenate</th>\n",
       "      <th>x6_None</th>\n",
       "      <th>x6_copper bromide</th>\n",
       "      <th>x6_trioctylphosphine</th>\n",
       "      <th>x6_water</th>\n",
       "      <th>x6_zinc iodide</th>\n",
       "      <th>diameter_nm</th>\n",
       "      <th>abs_nm</th>\n",
       "      <th>emission_nm</th>\n",
       "      <th>Unnamed: 63</th>\n",
       "    </tr>\n",
       "  </thead>\n",
       "  <tbody>\n",
       "    <tr>\n",
       "      <th>0</th>\n",
       "      <td>0</td>\n",
       "      <td>0</td>\n",
       "      <td>0</td>\n",
       "      <td>0</td>\n",
       "      <td>0.713177</td>\n",
       "      <td>0.328895</td>\n",
       "      <td>-0.453863</td>\n",
       "      <td>-0.453709</td>\n",
       "      <td>-0.297521</td>\n",
       "      <td>-0.749374</td>\n",
       "      <td>...</td>\n",
       "      <td>0</td>\n",
       "      <td>1</td>\n",
       "      <td>0</td>\n",
       "      <td>0</td>\n",
       "      <td>0</td>\n",
       "      <td>0</td>\n",
       "      <td>6.7</td>\n",
       "      <td>622.0</td>\n",
       "      <td>680.0</td>\n",
       "      <td>58.0</td>\n",
       "    </tr>\n",
       "    <tr>\n",
       "      <th>1</th>\n",
       "      <td>1</td>\n",
       "      <td>1</td>\n",
       "      <td>1</td>\n",
       "      <td>1</td>\n",
       "      <td>-0.336633</td>\n",
       "      <td>-0.477469</td>\n",
       "      <td>-0.453863</td>\n",
       "      <td>-0.453709</td>\n",
       "      <td>-0.076698</td>\n",
       "      <td>-0.749374</td>\n",
       "      <td>...</td>\n",
       "      <td>0</td>\n",
       "      <td>1</td>\n",
       "      <td>0</td>\n",
       "      <td>0</td>\n",
       "      <td>0</td>\n",
       "      <td>0</td>\n",
       "      <td>1.5</td>\n",
       "      <td>445.0</td>\n",
       "      <td>568.0</td>\n",
       "      <td>123.0</td>\n",
       "    </tr>\n",
       "    <tr>\n",
       "      <th>2</th>\n",
       "      <td>2</td>\n",
       "      <td>2</td>\n",
       "      <td>2</td>\n",
       "      <td>2</td>\n",
       "      <td>0.713177</td>\n",
       "      <td>0.328895</td>\n",
       "      <td>-0.453863</td>\n",
       "      <td>-0.453709</td>\n",
       "      <td>-0.076698</td>\n",
       "      <td>-0.749374</td>\n",
       "      <td>...</td>\n",
       "      <td>0</td>\n",
       "      <td>1</td>\n",
       "      <td>0</td>\n",
       "      <td>0</td>\n",
       "      <td>0</td>\n",
       "      <td>0</td>\n",
       "      <td>2.5</td>\n",
       "      <td>543.0</td>\n",
       "      <td>589.0</td>\n",
       "      <td>46.0</td>\n",
       "    </tr>\n",
       "    <tr>\n",
       "      <th>3</th>\n",
       "      <td>3</td>\n",
       "      <td>3</td>\n",
       "      <td>3</td>\n",
       "      <td>3</td>\n",
       "      <td>-0.599085</td>\n",
       "      <td>-0.679060</td>\n",
       "      <td>-0.197558</td>\n",
       "      <td>-0.219170</td>\n",
       "      <td>-0.266618</td>\n",
       "      <td>-0.749374</td>\n",
       "      <td>...</td>\n",
       "      <td>0</td>\n",
       "      <td>1</td>\n",
       "      <td>0</td>\n",
       "      <td>0</td>\n",
       "      <td>0</td>\n",
       "      <td>0</td>\n",
       "      <td>2.1</td>\n",
       "      <td>412.0</td>\n",
       "      <td>582.0</td>\n",
       "      <td>170.0</td>\n",
       "    </tr>\n",
       "    <tr>\n",
       "      <th>4</th>\n",
       "      <td>4</td>\n",
       "      <td>4</td>\n",
       "      <td>4</td>\n",
       "      <td>4</td>\n",
       "      <td>-0.599085</td>\n",
       "      <td>-0.679060</td>\n",
       "      <td>-0.197558</td>\n",
       "      <td>-0.219170</td>\n",
       "      <td>-0.266618</td>\n",
       "      <td>-0.749374</td>\n",
       "      <td>...</td>\n",
       "      <td>0</td>\n",
       "      <td>1</td>\n",
       "      <td>0</td>\n",
       "      <td>0</td>\n",
       "      <td>0</td>\n",
       "      <td>0</td>\n",
       "      <td>2.1</td>\n",
       "      <td>419.0</td>\n",
       "      <td>553.0</td>\n",
       "      <td>134.0</td>\n",
       "    </tr>\n",
       "    <tr>\n",
       "      <th>...</th>\n",
       "      <td>...</td>\n",
       "      <td>...</td>\n",
       "      <td>...</td>\n",
       "      <td>...</td>\n",
       "      <td>...</td>\n",
       "      <td>...</td>\n",
       "      <td>...</td>\n",
       "      <td>...</td>\n",
       "      <td>...</td>\n",
       "      <td>...</td>\n",
       "      <td>...</td>\n",
       "      <td>...</td>\n",
       "      <td>...</td>\n",
       "      <td>...</td>\n",
       "      <td>...</td>\n",
       "      <td>...</td>\n",
       "      <td>...</td>\n",
       "      <td>...</td>\n",
       "      <td>...</td>\n",
       "      <td>...</td>\n",
       "      <td>...</td>\n",
       "    </tr>\n",
       "    <tr>\n",
       "      <th>149</th>\n",
       "      <td>149</td>\n",
       "      <td>152</td>\n",
       "      <td>152</td>\n",
       "      <td>152</td>\n",
       "      <td>-0.730311</td>\n",
       "      <td>-0.779855</td>\n",
       "      <td>-0.453863</td>\n",
       "      <td>-0.085147</td>\n",
       "      <td>-0.394734</td>\n",
       "      <td>-0.678852</td>\n",
       "      <td>...</td>\n",
       "      <td>0</td>\n",
       "      <td>1</td>\n",
       "      <td>0</td>\n",
       "      <td>0</td>\n",
       "      <td>0</td>\n",
       "      <td>0</td>\n",
       "      <td>2.3</td>\n",
       "      <td>500.0</td>\n",
       "      <td>550.0</td>\n",
       "      <td>50.0</td>\n",
       "    </tr>\n",
       "    <tr>\n",
       "      <th>150</th>\n",
       "      <td>150</td>\n",
       "      <td>153</td>\n",
       "      <td>153</td>\n",
       "      <td>153</td>\n",
       "      <td>-0.717189</td>\n",
       "      <td>-0.779855</td>\n",
       "      <td>-0.344018</td>\n",
       "      <td>-0.185664</td>\n",
       "      <td>-0.394734</td>\n",
       "      <td>-0.749374</td>\n",
       "      <td>...</td>\n",
       "      <td>0</td>\n",
       "      <td>1</td>\n",
       "      <td>0</td>\n",
       "      <td>0</td>\n",
       "      <td>0</td>\n",
       "      <td>0</td>\n",
       "      <td>8.3</td>\n",
       "      <td>532.0</td>\n",
       "      <td>590.0</td>\n",
       "      <td>58.0</td>\n",
       "    </tr>\n",
       "    <tr>\n",
       "      <th>151</th>\n",
       "      <td>151</td>\n",
       "      <td>154</td>\n",
       "      <td>154</td>\n",
       "      <td>154</td>\n",
       "      <td>-0.717189</td>\n",
       "      <td>-0.779855</td>\n",
       "      <td>-0.344018</td>\n",
       "      <td>-0.185664</td>\n",
       "      <td>-0.394734</td>\n",
       "      <td>-0.749374</td>\n",
       "      <td>...</td>\n",
       "      <td>0</td>\n",
       "      <td>1</td>\n",
       "      <td>0</td>\n",
       "      <td>0</td>\n",
       "      <td>0</td>\n",
       "      <td>0</td>\n",
       "      <td>3.2</td>\n",
       "      <td>549.0</td>\n",
       "      <td>590.5</td>\n",
       "      <td>41.5</td>\n",
       "    </tr>\n",
       "    <tr>\n",
       "      <th>152</th>\n",
       "      <td>152</td>\n",
       "      <td>155</td>\n",
       "      <td>155</td>\n",
       "      <td>155</td>\n",
       "      <td>-0.717189</td>\n",
       "      <td>-0.779855</td>\n",
       "      <td>-0.344018</td>\n",
       "      <td>-0.185664</td>\n",
       "      <td>-0.394734</td>\n",
       "      <td>-0.749374</td>\n",
       "      <td>...</td>\n",
       "      <td>0</td>\n",
       "      <td>1</td>\n",
       "      <td>0</td>\n",
       "      <td>0</td>\n",
       "      <td>0</td>\n",
       "      <td>0</td>\n",
       "      <td>3.7</td>\n",
       "      <td>562.0</td>\n",
       "      <td>615.0</td>\n",
       "      <td>53.0</td>\n",
       "    </tr>\n",
       "    <tr>\n",
       "      <th>153</th>\n",
       "      <td>153</td>\n",
       "      <td>156</td>\n",
       "      <td>156</td>\n",
       "      <td>156</td>\n",
       "      <td>-0.717189</td>\n",
       "      <td>-0.779855</td>\n",
       "      <td>-0.344018</td>\n",
       "      <td>-0.185664</td>\n",
       "      <td>-0.394734</td>\n",
       "      <td>-0.749374</td>\n",
       "      <td>...</td>\n",
       "      <td>0</td>\n",
       "      <td>1</td>\n",
       "      <td>0</td>\n",
       "      <td>0</td>\n",
       "      <td>0</td>\n",
       "      <td>0</td>\n",
       "      <td>3.7</td>\n",
       "      <td>570.0</td>\n",
       "      <td>588.0</td>\n",
       "      <td>18.0</td>\n",
       "    </tr>\n",
       "  </tbody>\n",
       "</table>\n",
       "<p>154 rows × 65 columns</p>\n",
       "</div>"
      ],
      "text/plain": [
       "     Unnamed: 0  Unnamed: 0.1  Unnamed: 0.1.1  Unnamed: 0.1.1.1  \\\n",
       "0             0             0               0                 0   \n",
       "1             1             1               1                 1   \n",
       "2             2             2               2                 2   \n",
       "3             3             3               3                 3   \n",
       "4             4             4               4                 4   \n",
       "..          ...           ...             ...               ...   \n",
       "149         149           152             152               152   \n",
       "150         150           153             153               153   \n",
       "151         151           154             154               154   \n",
       "152         152           155             155               155   \n",
       "153         153           156             156               156   \n",
       "\n",
       "     in_amount_mmol  p_amount_mmol  ligand_amount_mmol  first_sol_amount_ml  \\\n",
       "0          0.713177       0.328895           -0.453863            -0.453709   \n",
       "1         -0.336633      -0.477469           -0.453863            -0.453709   \n",
       "2          0.713177       0.328895           -0.453863            -0.453709   \n",
       "3         -0.599085      -0.679060           -0.197558            -0.219170   \n",
       "4         -0.599085      -0.679060           -0.197558            -0.219170   \n",
       "..              ...            ...                 ...                  ...   \n",
       "149       -0.730311      -0.779855           -0.453863            -0.085147   \n",
       "150       -0.717189      -0.779855           -0.344018            -0.185664   \n",
       "151       -0.717189      -0.779855           -0.344018            -0.185664   \n",
       "152       -0.717189      -0.779855           -0.344018            -0.185664   \n",
       "153       -0.717189      -0.779855           -0.344018            -0.185664   \n",
       "\n",
       "     second_sol_amount_ml  other_1_amount_mmol  ...  x5_zinc undecylenate  \\\n",
       "0               -0.297521            -0.749374  ...                     0   \n",
       "1               -0.076698            -0.749374  ...                     0   \n",
       "2               -0.076698            -0.749374  ...                     0   \n",
       "3               -0.266618            -0.749374  ...                     0   \n",
       "4               -0.266618            -0.749374  ...                     0   \n",
       "..                    ...                  ...  ...                   ...   \n",
       "149             -0.394734            -0.678852  ...                     0   \n",
       "150             -0.394734            -0.749374  ...                     0   \n",
       "151             -0.394734            -0.749374  ...                     0   \n",
       "152             -0.394734            -0.749374  ...                     0   \n",
       "153             -0.394734            -0.749374  ...                     0   \n",
       "\n",
       "     x6_None  x6_copper bromide  x6_trioctylphosphine  x6_water  \\\n",
       "0          1                  0                     0         0   \n",
       "1          1                  0                     0         0   \n",
       "2          1                  0                     0         0   \n",
       "3          1                  0                     0         0   \n",
       "4          1                  0                     0         0   \n",
       "..       ...                ...                   ...       ...   \n",
       "149        1                  0                     0         0   \n",
       "150        1                  0                     0         0   \n",
       "151        1                  0                     0         0   \n",
       "152        1                  0                     0         0   \n",
       "153        1                  0                     0         0   \n",
       "\n",
       "     x6_zinc iodide  diameter_nm  abs_nm  emission_nm  Unnamed: 63  \n",
       "0                 0          6.7   622.0        680.0         58.0  \n",
       "1                 0          1.5   445.0        568.0        123.0  \n",
       "2                 0          2.5   543.0        589.0         46.0  \n",
       "3                 0          2.1   412.0        582.0        170.0  \n",
       "4                 0          2.1   419.0        553.0        134.0  \n",
       "..              ...          ...     ...          ...          ...  \n",
       "149               0          2.3   500.0        550.0         50.0  \n",
       "150               0          8.3   532.0        590.0         58.0  \n",
       "151               0          3.2   549.0        590.5         41.5  \n",
       "152               0          3.7   562.0        615.0         53.0  \n",
       "153               0          3.7   570.0        588.0         18.0  \n",
       "\n",
       "[154 rows x 65 columns]"
      ]
     },
     "execution_count": 2,
     "metadata": {},
     "output_type": "execute_result"
    }
   ],
   "source": [
    "df = pd.read_csv('flo_dataset_augmented.csv')\n",
    "df"
   ]
  },
  {
   "cell_type": "code",
   "execution_count": 4,
   "metadata": {},
   "outputs": [],
   "source": [
    "# Input for ML models\n",
    "\n",
    "\n",
    "input_col = ['in_amount_mmol',\n",
    "             'p_amount_mmol',\n",
    "             'ligand_amount_mmol',\n",
    "             'first_sol_amount_ml',\n",
    "             'second_sol_amount_ml',\n",
    "             'other_1_amount_mmol',\n",
    "             'other_2_amount_mmol',\n",
    "             'total_volume_ml',\n",
    "             'temp_c',\n",
    "             'time_min',\n",
    "             'x0_indium acetate',\n",
    "             'x0_indium bromide',\n",
    "             'x0_indium chloride',\n",
    "             'x0_indium iodide',\n",
    "             'x0_indium myristate',\n",
    "             'x0_indium trifluoroacetate',\n",
    "             'x1_bis(trimethylsilyl)phosphine',\n",
    "             'x1_phosphorus trichloride',\n",
    "             'x1_tris(diethylamino)phosphine',\n",
    "             'x1_tris(dimethylamino)phosphine',\n",
    "             'x1_tris(trimethylgermyl)phosphine',\n",
    "             'x1_tris(trimethylsilyl)phosphine',\n",
    "             'x2_None',\n",
    "             'x2_lauric acid',\n",
    "             'x2_myristic acid',\n",
    "             'x2_oleic acid',\n",
    "             'x2_palmitic acid',\n",
    "             'x2_stearic acid',\n",
    "             'x3_dodecylamine',\n",
    "             'x3_octadecene',\n",
    "             'x3_oleylamine',\n",
    "             'x3_trioctylamine',\n",
    "             'x3_trioctylphosphine',\n",
    "             'x4_None',\n",
    "             'x4_dioctyl ether',\n",
    "             'x4_dioctylamine',\n",
    "             'x4_hexadecylamine',\n",
    "             'x4_octylamine',\n",
    "             'x4_oleylamine',\n",
    "             'x4_toluene',\n",
    "             'x4_trioctylphosphine',\n",
    "             'x4_trioctylphosphine oxide',\n",
    "             'x5_None',\n",
    "             'x5_acetic acid',\n",
    "             'x5_superhydride',\n",
    "             'x5_tetrabutylammonium myristate',\n",
    "             'x5_zinc bromide'\n",
    "             ,'x5_zinc chloride'\n",
    "             ,'x5_zinc iodide'\n",
    "             ,'x5_zinc oleate',\n",
    "             'x5_zinc stearate',\n",
    "             'x5_zinc undecylenate',\n",
    "             'x6_None',\n",
    "             'x6_copper bromide',\n",
    "             'x6_trioctylphosphine',\n",
    "             'x6_water',\n",
    "             'x6_zinc iodide'\n",
    "            ]\n",
    "#Three individual outputs:\n",
    "diameter = ['diameter_nm']\n",
    "emission = ['emission_nm']\n",
    "absorbance = ['abs_nm']\n",
    "\n",
    "#Splitting dataset\n",
    "\n",
    "X = df[input_col]\n",
    "\n",
    "Y_d = df[diameter]\n",
    "Y_e = df[emission]\n",
    "Y_a = df[absorbance]\n",
    "\n",
    "\n",
    "X_train_d, X_test_d, Y_train_d, Y_test_d = train_test_split(X, Y_d, test_size=0.3, random_state=45, shuffle=True)\n",
    "X_train_e, X_test_e, Y_train_e, Y_test_e = train_test_split(X, Y_e, test_size=0.3, random_state=45, shuffle=True)\n",
    "X_train_a, X_test_a, Y_train_a, Y_test_a = train_test_split(X, Y_a, test_size=0.3, random_state=45, shuffle=True)"
   ]
  },
  {
   "cell_type": "markdown",
   "metadata": {},
   "source": [
    "## D - Optimizing diameter model\n"
   ]
  },
  {
   "cell_type": "markdown",
   "metadata": {},
   "source": [
    "### 1D. Extra Trees"
   ]
  },
  {
   "cell_type": "code",
   "execution_count": 5,
   "metadata": {},
   "outputs": [
    {
     "name": "stderr",
     "output_type": "stream",
     "text": [
      "100%|██████████| 24/24 [09:43<00:00, 24.30s/it]"
     ]
    },
    {
     "name": "stdout",
     "output_type": "stream",
     "text": [
      "0.24304964539007104 3 9 28\n"
     ]
    },
    {
     "name": "stderr",
     "output_type": "stream",
     "text": [
      "\n"
     ]
    }
   ],
   "source": [
    "# This is a grid search for three parameters in the Extra Trees algorithm. \n",
    "# Parameters are: random_state, n_estimators, max_features.\n",
    "\n",
    "# This gives the best combination of the three parameters for the smallest mean squared error.\n",
    "\n",
    "min_mae = 99999\n",
    "min_i, min_j, min_k = 0, 0, 0\n",
    "for i in tqdm(range(1, 25)):\n",
    "    for j in range(1, 25):\n",
    "        for k in range(2, 50, 1):\n",
    "            ET_regr = ExtraTreesRegressor(n_estimators=i, \n",
    "                                            max_features=j,\n",
    "                                            random_state=k)\n",
    "            \n",
    "            ET_regr.fit(X_train_d, np.ravel(Y_train_d))\n",
    "            ET_Y_pred_d = pd.DataFrame(ET_regr.predict(X_test_d))\n",
    "\n",
    "            mae = mean_absolute_error(Y_test_d, ET_Y_pred_d)\n",
    "            if (min_mae > mae):\n",
    "                min_mae = mae\n",
    "                min_i = i\n",
    "                min_j = j\n",
    "                min_k = k\n",
    "            \n",
    "print(min_mae, min_i, min_j, min_k)"
   ]
  },
  {
   "cell_type": "markdown",
   "metadata": {},
   "source": [
    "### 2D. Decision Tree "
   ]
  },
  {
   "cell_type": "code",
   "execution_count": 6,
   "metadata": {},
   "outputs": [
    {
     "name": "stderr",
     "output_type": "stream",
     "text": [
      "100%|██████████| 29/29 [06:27<00:00, 13.38s/it]"
     ]
    },
    {
     "name": "stdout",
     "output_type": "stream",
     "text": [
      "0.31132495164410057 11 5 10\n"
     ]
    },
    {
     "name": "stderr",
     "output_type": "stream",
     "text": [
      "\n"
     ]
    }
   ],
   "source": [
    "# This is a grid search for three parameters in the Decision Trees algorithm. \n",
    "# Parameters are: max_depth, max_features, random_state.\n",
    "# This gives the best combination of the three parameters for the smallest mean squared error.\n",
    "\n",
    "min_mae = 99999\n",
    "\n",
    "min_i, min_j, min_k  = 0, 0, 0\n",
    "\n",
    "for i in tqdm(range(1, 30)):\n",
    "    for j in range(1, 30):\n",
    "        for k in range(4, 60, 1):\n",
    "            \n",
    "            DT_regr = DecisionTreeRegressor(max_depth=i,\n",
    "                                max_features=j,\n",
    "                                random_state=k)\n",
    "            \n",
    "            DT_regr.fit(X_train_d, np.ravel(Y_train_d))\n",
    "            DT_Y_pred_d = pd.DataFrame(DT_regr.predict(X_test_d))\n",
    "\n",
    "            mae = mean_absolute_error(Y_test_d, DT_Y_pred_d)\n",
    "            \n",
    "            if (min_mae > mae):\n",
    "                min_mae = mae\n",
    "                min_i = i\n",
    "                min_j = j\n",
    "                min_k = k\n",
    "            \n",
    "print(min_mae, min_i, min_j, min_k)"
   ]
  },
  {
   "cell_type": "markdown",
   "metadata": {},
   "source": [
    "### 3D. Random Forest"
   ]
  },
  {
   "cell_type": "code",
   "execution_count": 7,
   "metadata": {},
   "outputs": [
    {
     "name": "stderr",
     "output_type": "stream",
     "text": [
      "100%|██████████| 30/30 [16:38<00:00, 33.29s/it]"
     ]
    },
    {
     "name": "stdout",
     "output_type": "stream",
     "text": [
      "0.3430110598621239 14 5 3\n"
     ]
    },
    {
     "name": "stderr",
     "output_type": "stream",
     "text": [
      "\n"
     ]
    }
   ],
   "source": [
    "# This is a grid search for three parameters in the Random Forest algorithm. \n",
    "# Parameters are: max_depth, n_estimators, max_features.\n",
    "# Random_state is set to 45.\n",
    "# This gives the best combination of the three parameters for the smallest mean squared error.\n",
    "\n",
    "min_mae = 99999\n",
    "min_i, min_j, min_k = 0, 0, 0\n",
    "for i in tqdm(range(1, 31)):\n",
    "    for j in range(1, 31):\n",
    "        for k in range(2, 46, 1):\n",
    "            RF_regr = RandomForestRegressor(max_depth=i, \n",
    "                                            n_estimators=j, \n",
    "                                            max_features=k,\n",
    "                                            random_state=45)\n",
    "            RF_regr.fit(X_train_d, np.ravel(Y_train_d))\n",
    "            RF_Y_pred_d = pd.DataFrame(RF_regr.predict(X_test_d))\n",
    "\n",
    "            mae = mean_absolute_error(Y_test_d, RF_Y_pred_d)\n",
    "            if (min_mae > mae):\n",
    "                min_mae = mae\n",
    "                min_i = i\n",
    "                min_j = j\n",
    "                min_k = k\n",
    "            \n",
    "print(min_mae, min_i, min_j, min_k)"
   ]
  },
  {
   "cell_type": "markdown",
   "metadata": {},
   "source": [
    "### 4D. K Neighbors"
   ]
  },
  {
   "cell_type": "code",
   "execution_count": 8,
   "metadata": {},
   "outputs": [
    {
     "name": "stderr",
     "output_type": "stream",
     "text": [
      "100%|██████████| 39/39 [00:19<00:00,  1.95it/s]"
     ]
    },
    {
     "name": "stdout",
     "output_type": "stream",
     "text": [
      "0.31744680851063833 2 2\n"
     ]
    },
    {
     "name": "stderr",
     "output_type": "stream",
     "text": [
      "\n"
     ]
    }
   ],
   "source": [
    "min_mae = 99999\n",
    "min_i, min_j = 0, 0\n",
    "\n",
    "for i in tqdm(range(1, 40)):\n",
    "    for j in range(1, 40):\n",
    "\n",
    "        KNN_reg_d = KNeighborsRegressor(n_neighbors=i, \n",
    "                                      p=j).fit(X_train_d, np.ravel(Y_train_d))\n",
    "\n",
    "        KNN_Y_pred_d = KNN_reg_d.predict(X_test_d)\n",
    "\n",
    "        mae = mean_absolute_error(Y_test_d, KNN_Y_pred_d)\n",
    "\n",
    "        if (min_mae > mae):\n",
    "            min_mae = mae\n",
    "            min_i = i\n",
    "            min_j = j\n",
    "\n",
    "print(min_mae, min_i, min_j)"
   ]
  },
  {
   "cell_type": "markdown",
   "metadata": {},
   "source": [
    "### Saving Decision Tree model"
   ]
  },
  {
   "cell_type": "code",
   "execution_count": 19,
   "metadata": {},
   "outputs": [
    {
     "data": {
      "text/plain": [
       "['./model_SO_diameter_ExtraTrees.joblib']"
      ]
     },
     "execution_count": 19,
     "metadata": {},
     "output_type": "execute_result"
    }
   ],
   "source": [
    "ET_regr_d = ExtraTreesRegressor(n_estimators=3, \n",
    "                                            max_features=9,\n",
    "                                            random_state=28)\n",
    "            \n",
    "ET_regr_d.fit(X_train_d, np.ravel(Y_train_d))\n",
    "ET_Y_pred_d = pd.DataFrame(ET_regr_d.predict(X_test_d))\n",
    "joblib.dump(ET_regr_d, \"./model_SO_diameter_ExtraTrees.joblib\")"
   ]
  },
  {
   "cell_type": "markdown",
   "metadata": {},
   "source": [
    "## E - Optimizing emission model\n"
   ]
  },
  {
   "cell_type": "markdown",
   "metadata": {},
   "source": [
    "### 1E. Extra Trees"
   ]
  },
  {
   "cell_type": "code",
   "execution_count": 9,
   "metadata": {},
   "outputs": [
    {
     "name": "stderr",
     "output_type": "stream",
     "text": [
      "100%|██████████| 24/24 [08:11<00:00, 20.47s/it]"
     ]
    },
    {
     "name": "stdout",
     "output_type": "stream",
     "text": [
      "14.533096926950353 1 14 6\n"
     ]
    },
    {
     "name": "stderr",
     "output_type": "stream",
     "text": [
      "\n"
     ]
    }
   ],
   "source": [
    "# This is a grid search for three parameters in the Extra Trees algorithm. \n",
    "# Parameters are: random_state, n_estimators, max_features.\n",
    "\n",
    "# This gives the best combination of the three parameters for the smallest mean squared error.\n",
    "\n",
    "min_mae = 99999\n",
    "min_i, min_j, min_k = 0, 0, 0\n",
    "for i in tqdm(range(1, 25)):\n",
    "    for j in range(1, 25):\n",
    "        for k in range(2, 50, 1):\n",
    "            ET_regr_e = ExtraTreesRegressor(n_estimators=i, \n",
    "                                            max_features=j,\n",
    "                                            random_state=k)\n",
    "            \n",
    "            ET_regr_e.fit(X_train_e, np.ravel(Y_train_e))\n",
    "            ET_Y_pred_e = pd.DataFrame(ET_regr_e.predict(X_test_e))\n",
    "\n",
    "            mae = mean_absolute_error(Y_test_e, ET_Y_pred_e)\n",
    "            if (min_mae > mae):\n",
    "                min_mae = mae\n",
    "                min_i = i\n",
    "                min_j = j\n",
    "                min_k = k\n",
    "            \n",
    "print(min_mae, min_i, min_j, min_k)"
   ]
  },
  {
   "cell_type": "markdown",
   "metadata": {},
   "source": [
    "### 2E. Decision Trees"
   ]
  },
  {
   "cell_type": "code",
   "execution_count": 10,
   "metadata": {},
   "outputs": [
    {
     "name": "stderr",
     "output_type": "stream",
     "text": [
      "100%|██████████| 29/29 [04:41<00:00,  9.72s/it]"
     ]
    },
    {
     "name": "stdout",
     "output_type": "stream",
     "text": [
      "14.763593382978717 15 22 26\n"
     ]
    },
    {
     "name": "stderr",
     "output_type": "stream",
     "text": [
      "\n"
     ]
    }
   ],
   "source": [
    "# This is a grid search for three parameters in the Decision Trees algorithm. \n",
    "\n",
    "# This gives the best combination of the three parameters for the smallest mean squared error.\n",
    "\n",
    "min_mae = 99999\n",
    "\n",
    "min_i, min_j, min_k  = 0, 0, 0\n",
    "\n",
    "for i in tqdm(range(1, 30)):\n",
    "    for j in range(1, 30):\n",
    "        for k in range(4, 46, 1):\n",
    "            \n",
    "            DT_regr_e = DecisionTreeRegressor(max_depth=i,\n",
    "                                max_features=j,\n",
    "                                random_state=k)\n",
    "            \n",
    "            DT_regr_e.fit(X_train_e, np.ravel(Y_train_e))\n",
    "            DT_Y_pred_e = pd.DataFrame(DT_regr_e.predict(X_test_e))\n",
    "\n",
    "            mae = mean_absolute_error(Y_test_e, DT_Y_pred_e)\n",
    "            \n",
    "            if (min_mae > mae):\n",
    "                min_mae = mae\n",
    "                min_i = i\n",
    "                min_j = j\n",
    "                min_k = k\n",
    "            \n",
    "print(min_mae, min_i, min_j, min_k)"
   ]
  },
  {
   "cell_type": "markdown",
   "metadata": {},
   "source": [
    "### 3E. Random Forest"
   ]
  },
  {
   "cell_type": "code",
   "execution_count": 11,
   "metadata": {},
   "outputs": [
    {
     "name": "stderr",
     "output_type": "stream",
     "text": [
      "100%|██████████| 30/30 [21:19<00:00, 42.65s/it]"
     ]
    },
    {
     "name": "stdout",
     "output_type": "stream",
     "text": [
      "15.478900709574463 12 2 5\n"
     ]
    },
    {
     "name": "stderr",
     "output_type": "stream",
     "text": [
      "\n"
     ]
    }
   ],
   "source": [
    "min_mae = 99999\n",
    "min_i, min_j, min_k = 0, 0, 0\n",
    "for i in tqdm(range(1, 31)):\n",
    "    for j in range(1, 31):\n",
    "        for k in range(2, 46, 1):\n",
    "            RF_regr_e = RandomForestRegressor(max_depth=i, \n",
    "                                            n_estimators=j, \n",
    "                                            max_features=k,\n",
    "                                            random_state=45)\n",
    "            RF_regr_e.fit(X_train_e, np.ravel(Y_train_e))\n",
    "            RF_Y_pred_e = pd.DataFrame(RF_regr_e.predict(X_test_e))\n",
    "\n",
    "            mae = mean_absolute_error(Y_test_e, RF_Y_pred_e)\n",
    "            if (min_mae > mae):\n",
    "                min_mae = mae\n",
    "                min_i = i\n",
    "                min_j = j\n",
    "                min_k = k\n",
    "            \n",
    "print(min_mae, min_i, min_j, min_k)"
   ]
  },
  {
   "cell_type": "markdown",
   "metadata": {},
   "source": [
    "### 4E. K Neighbors"
   ]
  },
  {
   "cell_type": "code",
   "execution_count": 12,
   "metadata": {
    "scrolled": false
   },
   "outputs": [
    {
     "name": "stderr",
     "output_type": "stream",
     "text": [
      "100%|██████████| 39/39 [00:20<00:00,  1.89it/s]"
     ]
    },
    {
     "name": "stdout",
     "output_type": "stream",
     "text": [
      "22.441489363829785 1 38\n"
     ]
    },
    {
     "name": "stderr",
     "output_type": "stream",
     "text": [
      "\n"
     ]
    }
   ],
   "source": [
    "min_mae = 99999\n",
    "min_i, min_j = 0, 0\n",
    "\n",
    "for i in tqdm(range(1, 40)):\n",
    "    for j in range(1, 40):\n",
    "\n",
    "        KNN_reg_e = KNeighborsRegressor(n_neighbors=i, \n",
    "                                      p=j).fit(X_train_e, np.ravel(Y_train_e))\n",
    "\n",
    "        KNN_Y_pred_e = KNN_reg_e.predict(X_test_e)\n",
    "\n",
    "        mae = mean_absolute_error(Y_test_e, KNN_Y_pred_e)\n",
    "\n",
    "        if (min_mae > mae):\n",
    "            min_mae = mae\n",
    "            min_i = i\n",
    "            min_j = j\n",
    "\n",
    "print(min_mae, min_i, min_j)"
   ]
  },
  {
   "cell_type": "markdown",
   "metadata": {},
   "source": [
    "### Saving Extra Trees model"
   ]
  },
  {
   "cell_type": "code",
   "execution_count": 20,
   "metadata": {},
   "outputs": [
    {
     "data": {
      "text/plain": [
       "['./model_SO_emission_ExtraTrees.joblib']"
      ]
     },
     "execution_count": 20,
     "metadata": {},
     "output_type": "execute_result"
    }
   ],
   "source": [
    "ET_regr_e = ExtraTreesRegressor(n_estimators=1,\n",
    "                            max_features=14,     \n",
    "                            random_state=6).fit(X_train_e, np.ravel(Y_train_e))\n",
    "                  \n",
    "ET_Y_pred_e = ET_regr_e.predict(X_test_e)\n",
    "\n",
    "joblib.dump(ET_regr_e, \"./model_SO_emission_ExtraTrees.joblib\")"
   ]
  },
  {
   "cell_type": "markdown",
   "metadata": {},
   "source": [
    "## A - Optimizing absorption model\n"
   ]
  },
  {
   "cell_type": "markdown",
   "metadata": {},
   "source": [
    "### 1A: Extra Trees"
   ]
  },
  {
   "cell_type": "code",
   "execution_count": 13,
   "metadata": {},
   "outputs": [
    {
     "name": "stderr",
     "output_type": "stream",
     "text": [
      "100%|██████████| 29/29 [17:06<00:00, 35.40s/it]"
     ]
    },
    {
     "name": "stdout",
     "output_type": "stream",
     "text": [
      "18.680851063829788 3 24 27\n"
     ]
    },
    {
     "name": "stderr",
     "output_type": "stream",
     "text": [
      "\n"
     ]
    }
   ],
   "source": [
    "# This is a grid search for three parameters in the Extra Trees algorithm. \n",
    "# Parameters are: random_state, n_estimators, max_features.\n",
    "\n",
    "# This gives the best combination of the three parameters for the smallest mean squared error.\n",
    "\n",
    "min_mae = 99999\n",
    "min_i, min_j, min_k = 0, 0, 0\n",
    "for i in tqdm(range(1, 30)):\n",
    "    for j in range(1, 30):\n",
    "        for k in range(2, 50, 1):\n",
    "            ET_regr_a = ExtraTreesRegressor(n_estimators=i, \n",
    "                                            max_features=j,\n",
    "                                            random_state=k)\n",
    "            \n",
    "            ET_regr_a.fit(X_train_a, np.ravel(Y_train_a))\n",
    "            ET_Y_pred_a = pd.DataFrame(ET_regr_a.predict(X_test_a))\n",
    "\n",
    "            mae = mean_absolute_error(Y_test_a, ET_Y_pred_a)\n",
    "            if (min_mae > mae):\n",
    "                min_mae = mae\n",
    "                min_i = i\n",
    "                min_j = j\n",
    "                min_k = k\n",
    "            \n",
    "print(min_mae, min_i, min_j, min_k)"
   ]
  },
  {
   "cell_type": "markdown",
   "metadata": {},
   "source": [
    "### 2A. Decision Trees\n"
   ]
  },
  {
   "cell_type": "code",
   "execution_count": 14,
   "metadata": {},
   "outputs": [
    {
     "name": "stderr",
     "output_type": "stream",
     "text": [
      "100%|██████████| 29/29 [04:55<00:00, 10.17s/it]"
     ]
    },
    {
     "name": "stdout",
     "output_type": "stream",
     "text": [
      "22.4145896656535 21 19 20\n"
     ]
    },
    {
     "name": "stderr",
     "output_type": "stream",
     "text": [
      "\n"
     ]
    }
   ],
   "source": [
    "# This is a grid search for three parameters in the Decision Trees algorithm. \n",
    "\n",
    "# This gives the best combination of the three parameters for the smallest mean squared error.\n",
    "\n",
    "min_mae = 99999\n",
    "\n",
    "min_i, min_j, min_k  = 0, 0, 0\n",
    "\n",
    "for i in tqdm(range(1, 30)):\n",
    "    for j in range(1, 30):\n",
    "        for k in range(4, 50, ):\n",
    "            \n",
    "            DT_regr_a = DecisionTreeRegressor(max_depth=i,\n",
    "                                max_features=j,\n",
    "                                random_state=k)\n",
    "            \n",
    "            DT_regr_a.fit(X_train_a, np.ravel(Y_train_a))\n",
    "            DT_Y_pred_a = pd.DataFrame(DT_regr_a.predict(X_test_a))\n",
    "\n",
    "            mae = mean_absolute_error(Y_test_a, DT_Y_pred_a)\n",
    "            \n",
    "            if (min_mae > mae):\n",
    "                min_mae = mae\n",
    "                min_i = i\n",
    "                min_j = j\n",
    "                min_k = k\n",
    "            \n",
    "print(min_mae, min_i, min_j, min_k)"
   ]
  },
  {
   "cell_type": "code",
   "execution_count": 22,
   "metadata": {},
   "outputs": [
    {
     "name": "stdout",
     "output_type": "stream",
     "text": [
      "diameter: r2: 0.7157594152974505 ; MSE: 1033.208754199327 ; RMSE: 32.14356474007398 ; MAE: 20.595959593939398\n"
     ]
    }
   ],
   "source": [
    "DT_regr_a = DecisionTreeRegressor(max_depth=20,\n",
    "                                max_features=20,\n",
    "                                random_state=12).fit(X_train_a, np.ravel(Y_train_a))\n",
    "                  \n",
    "DT_Y_pred_a = DT_regr_a.predict(X_test_a)\n",
    "\n",
    "\n",
    "DT_r2_a = r2_score(Y_test_a, DT_Y_pred_a)\n",
    "DT_MSE_a = mean_squared_error(Y_test_a, DT_Y_pred_a)\n",
    "DT_RMSE_a = mean_squared_error(Y_test_a, DT_Y_pred_a, squared=False)\n",
    "DT_MAE_a = mean_absolute_error(Y_test_a, DT_Y_pred_a)\n",
    "print('diameter:', 'r2:', DT_r2_a, '; MSE:', DT_MSE_a, '; RMSE:', DT_RMSE_a, '; MAE:', DT_MAE_a)"
   ]
  },
  {
   "cell_type": "markdown",
   "metadata": {},
   "source": [
    "### 3A. Random Forest"
   ]
  },
  {
   "cell_type": "code",
   "execution_count": 15,
   "metadata": {},
   "outputs": [
    {
     "name": "stderr",
     "output_type": "stream",
     "text": [
      "100%|██████████| 25/25 [07:50<00:00, 18.81s/it]"
     ]
    },
    {
     "name": "stdout",
     "output_type": "stream",
     "text": [
      "26.155939716312062 13 4 5\n"
     ]
    },
    {
     "name": "stderr",
     "output_type": "stream",
     "text": [
      "\n"
     ]
    }
   ],
   "source": [
    "min_mae = 99999\n",
    "min_i, min_j, min_k = 0, 0, 0\n",
    "for i in tqdm(range(1, 26)):\n",
    "    for j in range(1, 26):\n",
    "        for k in range(2, 40, 1):\n",
    "            RF_regr_a = RandomForestRegressor(max_depth=i, \n",
    "                                            n_estimators=j, \n",
    "                                            max_features=k,\n",
    "                                            random_state=45)\n",
    "            RF_regr_a.fit(X_train_a, np.ravel(Y_train_a))\n",
    "            RF_Y_pred_a = pd.DataFrame(RF_regr_a.predict(X_test_a))\n",
    "\n",
    "            mae = mean_absolute_error(Y_test_a, RF_Y_pred_a)\n",
    "            if (min_mae > mae):\n",
    "                min_mae = mae\n",
    "                min_i = i\n",
    "                min_j = j\n",
    "                min_k = k\n",
    "            \n",
    "print(min_mae, min_i, min_j, min_k)"
   ]
  },
  {
   "cell_type": "code",
   "execution_count": null,
   "metadata": {},
   "outputs": [],
   "source": []
  },
  {
   "cell_type": "markdown",
   "metadata": {},
   "source": [
    "### 4A. K Neighbors"
   ]
  },
  {
   "cell_type": "code",
   "execution_count": 16,
   "metadata": {},
   "outputs": [
    {
     "name": "stderr",
     "output_type": "stream",
     "text": [
      "100%|██████████| 39/39 [00:17<00:00,  2.27it/s]"
     ]
    },
    {
     "name": "stdout",
     "output_type": "stream",
     "text": [
      "31.26595744680851 2 2\n"
     ]
    },
    {
     "name": "stderr",
     "output_type": "stream",
     "text": [
      "\n"
     ]
    }
   ],
   "source": [
    "min_mae = 99999\n",
    "min_i, min_j = 0, 0\n",
    "\n",
    "for i in tqdm(range(1, 40)):\n",
    "    for j in range(1, 40):\n",
    "\n",
    "        KNN_reg_a = KNeighborsRegressor(n_neighbors=i, \n",
    "                                      p=j).fit(X_train_a, np.ravel(Y_train_a))\n",
    "\n",
    "        KNN_Y_pred_a = KNN_reg_a.predict(X_test_a)\n",
    "\n",
    "        mae = mean_absolute_error(Y_test_a, KNN_Y_pred_a)\n",
    "\n",
    "        if (min_mae > mae):\n",
    "            min_mae = mae\n",
    "            min_i = i\n",
    "            min_j = j\n",
    "\n",
    "print(min_mae, min_i, min_j)"
   ]
  },
  {
   "cell_type": "markdown",
   "metadata": {},
   "source": [
    "### Saving model"
   ]
  },
  {
   "cell_type": "code",
   "execution_count": 21,
   "metadata": {},
   "outputs": [
    {
     "data": {
      "text/plain": [
       "['./model_SO_abs_ExtraTrees.joblib']"
      ]
     },
     "execution_count": 21,
     "metadata": {},
     "output_type": "execute_result"
    }
   ],
   "source": [
    "ET_regr_a = ExtraTreesRegressor(n_estimators=3, \n",
    "                                max_features=24,\n",
    "                                random_state=27)\n",
    "            \n",
    "ET_regr_a.fit(X_train_a, np.ravel(Y_train_a))\n",
    "ET_Y_pred_a = pd.DataFrame(ET_regr_a.predict(X_test_a))\n",
    "\n",
    "joblib.dump(ET_regr_a, \"./model_SO_abs_ExtraTrees.joblib\")"
   ]
  },
  {
   "cell_type": "markdown",
   "metadata": {},
   "source": [
    "## Analyzing"
   ]
  },
  {
   "cell_type": "code",
   "execution_count": 22,
   "metadata": {
    "scrolled": true
   },
   "outputs": [
    {
     "name": "stdout",
     "output_type": "stream",
     "text": [
      "Outputs           R2    Mean absolute error    Mean squared error    Root mean squared error\n",
      "----------  --------  ---------------------  --------------------  -------------------------\n",
      "Diameter    0.789275                0.24305              0.163477                   0.404323\n",
      "Absorption  0.81969                18.6809             646.69                      25.4301\n",
      "Emission    0.580878               14.5331             734.193                     27.096\n"
     ]
    }
   ],
   "source": [
    "## Diameter\n",
    "\n",
    "ET_regr_d = ExtraTreesRegressor(n_estimators=3, \n",
    "                                            max_features=9,\n",
    "                                            random_state=28)\n",
    "            \n",
    "ET_regr_d.fit(X_train_d, np.ravel(Y_train_d))\n",
    "ET_Y_pred_d = ET_regr_d.predict(X_test_d)\n",
    "\n",
    "D_mae = mean_absolute_error(Y_test_d, ET_Y_pred_d)\n",
    "D_r_2 = r2_score(Y_test_d, ET_Y_pred_d)\n",
    "D_mse = mean_squared_error(Y_test_d, ET_Y_pred_d)\n",
    "D_rmse = mean_squared_error(Y_test_d, ET_Y_pred_d, squared=False)\n",
    "\n",
    "## Emission\n",
    "\n",
    "ET_regr_e = ExtraTreesRegressor(n_estimators=1,\n",
    "                            max_features=14,     \n",
    "                            random_state=6).fit(X_train_e, np.ravel(Y_train_e))\n",
    "\n",
    "                  \n",
    "ET_Y_pred_e = ET_regr_e.predict(X_test_e)\n",
    "\n",
    "E_mae = mean_absolute_error(Y_test_e, ET_Y_pred_e)\n",
    "E_r_2 = r2_score(Y_test_e, ET_Y_pred_e)\n",
    "E_mse = mean_squared_error(Y_test_e, ET_Y_pred_e)\n",
    "E_rmse = mean_squared_error(Y_test_e, ET_Y_pred_e, squared=False)\n",
    "\n",
    "\n",
    "### Absorption\n",
    "\n",
    "ET_regr_a = ExtraTreesRegressor(n_estimators=3, \n",
    "                                max_features=24,\n",
    "                                random_state=27)\n",
    "ET_regr_a.fit(X_train_a, np.ravel(Y_train_a))\n",
    "ET_Y_pred_a = ET_regr_a.predict(X_test_a)\n",
    "\n",
    "A_mae = mean_absolute_error(Y_test_a, ET_Y_pred_a)\n",
    "A_r_2 = r2_score(Y_test_a, ET_Y_pred_a)\n",
    "A_mse = mean_squared_error(Y_test_a, ET_Y_pred_a)\n",
    "A_rmse = mean_squared_error(Y_test_a, ET_Y_pred_a, squared=False)\n",
    "\n",
    "\n",
    "from tabulate import tabulate\n",
    "\n",
    "d = [ [\"Diameter\", D_r_2, D_mae, D_mse, D_rmse],\n",
    "     [\"Absorption\", A_r_2, A_mae, A_mse, A_rmse],\n",
    "     [\"Emission\", E_r_2, E_mae, E_mse, E_rmse]]\n",
    "\n",
    "print(tabulate(d, headers=[\"Outputs\", \"R2\", \"Mean absolute error\", \"Mean squared error\", \"Root mean squared error\"]))"
   ]
  },
  {
   "cell_type": "code",
   "execution_count": 24,
   "metadata": {},
   "outputs": [
    {
     "data": {
      "image/png": "[encoded data removed]",
      "text/plain": [
       "<Figure size 1440x360 with 3 Axes>"
      ]
     },
     "metadata": {
      "needs_background": "light"
     },
     "output_type": "display_data"
    }
   ],
   "source": [
    "fig, (ax1, ax2, ax3) = plt.subplots(1, 3, figsize=(20,5))\n",
    "fig.suptitle('Single Outputs', fontsize=25)\n",
    "\n",
    "ax1.plot(ET_Y_pred_d, Y_test_d, 'o')\n",
    "ax1.plot([1.5,6],[1.5,6], color = 'r')\n",
    "ax1.set_title('Diameter')\n",
    "ax1.set(xlabel='Predicted Values (nm)', ylabel='Observed Values (nm)')\n",
    "\n",
    "ax2.plot(ET_Y_pred_a, Y_test_a, 'o')\n",
    "ax2.plot([400,650],[400,650], color = 'r')\n",
    "ax2.set_title('Absorption')\n",
    "ax2.set(xlabel='Predicted Values (nm)', ylabel='Predicted Values (nm)')\n",
    "\n",
    "ax3.plot(ET_Y_pred_e, Y_test_e, 'o')\n",
    "ax3.plot([450,700],[450,700], color = 'r')\n",
    "ax3.set_title('Emission')\n",
    "ax3.set(xlabel='Predicted Values (nm)', ylabel='Observed Values (nm)')\n",
    "\n",
    "\n",
    "fig.tight_layout()"
   ]
  },
  {
   "cell_type": "markdown",
   "metadata": {},
   "source": [
    "## Feature importance"
   ]
  },
  {
   "cell_type": "markdown",
   "metadata": {},
   "source": [
    "### For diameter prediction"
   ]
  },
  {
   "cell_type": "code",
   "execution_count": 26,
   "metadata": {},
   "outputs": [
    {
     "data": {
      "text/plain": [
       "[('time_min', 0.3004032115619246),\n",
       " ('x0_indium trifluoroacetate', 0.1088996097894126),\n",
       " ('x5_zinc iodide', 0.09232041278991349),\n",
       " ('temp_c', 0.077402609229714),\n",
       " ('x1_tris(trimethylsilyl)phosphine', 0.05272595298169292),\n",
       " ('first_sol_amount_ml', 0.04533173007280029),\n",
       " ('x1_tris(dimethylamino)phosphine', 0.0335163337508862),\n",
       " ('ligand_amount_mmol', 0.022430151569358237),\n",
       " ('x3_trioctylamine', 0.022277722086771992),\n",
       " ('second_sol_amount_ml', 0.021410004253790565),\n",
       " ('other_1_amount_mmol', 0.019842507213082342),\n",
       " ('x4_oleylamine', 0.016392167414590552),\n",
       " ('x2_palmitic acid', 0.015650576138054557),\n",
       " ('p_amount_mmol', 0.014955597632855944),\n",
       " ('in_amount_mmol', 0.01333939850288899),\n",
       " ('x2_lauric acid', 0.012128689290283592),\n",
       " ('x6_None', 0.01187580597848379),\n",
       " ('x3_octadecene', 0.010604152361463259),\n",
       " ('x0_indium iodide', 0.010344379660591875),\n",
       " ('x4_None', 0.010093174263392627),\n",
       " ('x6_water', 0.010065039331508653),\n",
       " ('x5_None', 0.00885234195680479),\n",
       " ('x5_zinc undecylenate', 0.008544418775378494),\n",
       " ('x2_myristic acid', 0.00741664654920194),\n",
       " ('x4_hexadecylamine', 0.007224858372910981),\n",
       " ('other_2_amount_mmol', 0.007086011257369334),\n",
       " ('x5_zinc oleate', 0.00533671603593492),\n",
       " ('x5_zinc chloride', 0.005052696982459355),\n",
       " ('total_volume_ml', 0.004238489777933234),\n",
       " ('x4_toluene', 0.003018505096847965),\n",
       " ('x6_copper bromide', 0.0030169765126064735),\n",
       " ('x2_stearic acid', 0.0029290323734675714),\n",
       " ('x1_phosphorus trichloride', 0.002828690388984942),\n",
       " ('x0_indium myristate', 0.002488193314206418),\n",
       " ('x0_indium chloride', 0.0024457632274541194),\n",
       " ('x1_tris(diethylamino)phosphine', 0.001852580670190939),\n",
       " ('x1_tris(trimethylgermyl)phosphine', 0.0017429028287669016),\n",
       " ('x5_tetrabutylammonium myristate', 0.0013412232034163887),\n",
       " ('x2_oleic acid', 0.0006631165308653549),\n",
       " ('x0_indium acetate', 0.0006280619355764201),\n",
       " ('x5_superhydride', 0.0005440884420484302),\n",
       " ('x3_oleylamine', 0.00045233409997565756),\n",
       " ('x4_trioctylphosphine', 0.00010328641019750511),\n",
       " ('x0_indium bromide', 0.00010210003624618238),\n",
       " ('x3_trioctylphosphine', 7.657502718466919e-05),\n",
       " ('x2_None', 5.164320509997381e-06),\n",
       " ('x1_bis(trimethylsilyl)phosphine', 0.0),\n",
       " ('x3_dodecylamine', 0.0),\n",
       " ('x4_dioctyl ether', 0.0),\n",
       " ('x4_dioctylamine', 0.0),\n",
       " ('x4_octylamine', 0.0),\n",
       " ('x4_trioctylphosphine oxide', 0.0),\n",
       " ('x5_acetic acid', 0.0),\n",
       " ('x5_zinc bromide', 0.0),\n",
       " ('x5_zinc stearate', 0.0),\n",
       " ('x6_trioctylphosphine', 0.0),\n",
       " ('x6_zinc iodide', 0.0)]"
      ]
     },
     "execution_count": 26,
     "metadata": {},
     "output_type": "execute_result"
    }
   ],
   "source": [
    "importance_dict_d = dict()\n",
    "for i in range(0,57):\n",
    "    importance_dict_d[input_col[i]] = ET_regr_d.feature_importances_[i]\n",
    "\n",
    "sorted_importance_d = sorted(importance_dict_d.items(), key=lambda x: x[1], reverse=True)\n",
    "\n",
    "sorted_importance_d\n"
   ]
  },
  {
   "cell_type": "code",
   "execution_count": 27,
   "metadata": {},
   "outputs": [
    {
     "data": {
      "image/png": "[encoded data removed]",
      "text/plain": [
       "<Figure size 1490.4x595.44 with 1 Axes>"
      ]
     },
     "metadata": {
      "needs_background": "light"
     },
     "output_type": "display_data"
    }
   ],
   "source": [
    "top7_d = DataFrame(sorted_importance_d[0:7], columns=['features', 'importance score'])\n",
    "\n",
    "others_d = DataFrame(sorted_importance_d[7:], columns=['features', 'importance score'])\n",
    "\n",
    "\n",
    "import seaborn as sns\n",
    "\n",
    "a4_dims = (20.7, 8.27)\n",
    "fig, ax = plt.subplots(figsize=a4_dims)\n",
    "sns.set_theme(style=\"whitegrid\")\n",
    "\n",
    "ax = sns.barplot(x=\"features\", y=\"importance score\", data=top7_d)"
   ]
  },
  {
   "cell_type": "markdown",
   "metadata": {},
   "source": [
    "### Emission prediction"
   ]
  },
  {
   "cell_type": "code",
   "execution_count": 28,
   "metadata": {},
   "outputs": [
    {
     "data": {
      "text/plain": [
       "[('x5_zinc oleate', 0.21861012107550482),\n",
       " ('temp_c', 0.12922253641191175),\n",
       " ('second_sol_amount_ml', 0.09521427749351455),\n",
       " ('time_min', 0.09231295564352329),\n",
       " ('x2_myristic acid', 0.0664588967208481),\n",
       " ('x5_zinc iodide', 0.03633999806866403),\n",
       " ('other_1_amount_mmol', 0.03244293896087904),\n",
       " ('total_volume_ml', 0.031980809448997616),\n",
       " ('x4_hexadecylamine', 0.03140657594834379),\n",
       " ('x0_indium acetate', 0.03063064292601793),\n",
       " ('x5_zinc chloride', 0.02992453306566896),\n",
       " ('x5_zinc bromide', 0.029245133260180602),\n",
       " ('x6_None', 0.02862324478271055),\n",
       " ('x0_indium iodide', 0.022643106341913403),\n",
       " ('x3_trioctylamine', 0.020437135326101412),\n",
       " ('ligand_amount_mmol', 0.016270543847336737),\n",
       " ('x4_trioctylphosphine', 0.01599275122974939),\n",
       " ('x2_None', 0.01414680692966249),\n",
       " ('x1_tris(dimethylamino)phosphine', 0.010177610172923887),\n",
       " ('first_sol_amount_ml', 0.008660901185402905),\n",
       " ('p_amount_mmol', 0.008388837109091987),\n",
       " ('x5_zinc undecylenate', 0.006916035945590396),\n",
       " ('x4_None', 0.005650942676233666),\n",
       " ('x3_octadecene', 0.004419934269342059),\n",
       " ('x2_lauric acid', 0.004327767336387881),\n",
       " ('x2_stearic acid', 0.004179262577709651),\n",
       " ('x1_tris(trimethylgermyl)phosphine', 0.0030246418253984247),\n",
       " ('in_amount_mmol', 0.001499535086753216),\n",
       " ('x5_None', 0.000774799372546651),\n",
       " ('x4_oleylamine', 7.672496109000265e-05),\n",
       " ('x0_indium bromide', 8.373713472412965e-16),\n",
       " ('other_2_amount_mmol', 0.0),\n",
       " ('x0_indium chloride', 0.0),\n",
       " ('x0_indium myristate', 0.0),\n",
       " ('x0_indium trifluoroacetate', 0.0),\n",
       " ('x1_bis(trimethylsilyl)phosphine', 0.0),\n",
       " ('x1_phosphorus trichloride', 0.0),\n",
       " ('x1_tris(diethylamino)phosphine', 0.0),\n",
       " ('x1_tris(trimethylsilyl)phosphine', 0.0),\n",
       " ('x2_oleic acid', 0.0),\n",
       " ('x2_palmitic acid', 0.0),\n",
       " ('x3_dodecylamine', 0.0),\n",
       " ('x3_oleylamine', 0.0),\n",
       " ('x3_trioctylphosphine', 0.0),\n",
       " ('x4_dioctyl ether', 0.0),\n",
       " ('x4_dioctylamine', 0.0),\n",
       " ('x4_octylamine', 0.0),\n",
       " ('x4_toluene', 0.0),\n",
       " ('x4_trioctylphosphine oxide', 0.0),\n",
       " ('x5_acetic acid', 0.0),\n",
       " ('x5_superhydride', 0.0),\n",
       " ('x5_tetrabutylammonium myristate', 0.0),\n",
       " ('x5_zinc stearate', 0.0),\n",
       " ('x6_copper bromide', 0.0),\n",
       " ('x6_trioctylphosphine', 0.0),\n",
       " ('x6_water', 0.0),\n",
       " ('x6_zinc iodide', 0.0)]"
      ]
     },
     "execution_count": 28,
     "metadata": {},
     "output_type": "execute_result"
    }
   ],
   "source": [
    "importance_dict_e = dict()\n",
    "for i in range(0,57):\n",
    "    importance_dict_e[input_col[i]] = ET_regr_e.feature_importances_[i]\n",
    "\n",
    "sorted_importance_e = sorted(importance_dict_e.items(), key=lambda x: x[1], reverse=True)\n",
    "\n",
    "\n",
    "sorted_importance_e\n"
   ]
  },
  {
   "cell_type": "code",
   "execution_count": 29,
   "metadata": {},
   "outputs": [
    {
     "data": {
      "image/png": "[encoded data removed]",
      "text/plain": [
       "<Figure size 1490.4x595.44 with 1 Axes>"
      ]
     },
     "metadata": {},
     "output_type": "display_data"
    }
   ],
   "source": [
    "top7_e = DataFrame(sorted_importance_e[0:7], columns=['features', 'importance score'])\n",
    "\n",
    "others_e = DataFrame(sorted_importance_e[7:], columns=['features', 'importance score'])\n",
    "\n",
    "# combined_others2 = pd.DataFrame(data = {\n",
    "#     'features' : ['others'],\n",
    "#     'importance score' : [others2['importance score'].sum()]\n",
    "# })\n",
    "\n",
    "# #combining top 10 with others\n",
    "# imp_score2 = pd.concat([top7, combined_others2])\n",
    "\n",
    "import seaborn as sns\n",
    "\n",
    "a4_dims = (20.7, 8.27)\n",
    "fig, ax = plt.subplots(figsize=a4_dims)\n",
    "sns.set_theme(style=\"whitegrid\")\n",
    "\n",
    "ax = sns.barplot(x=\"features\", y=\"importance score\", data=top7_e)"
   ]
  },
  {
   "cell_type": "markdown",
   "metadata": {},
   "source": [
    "### Absorption prediction"
   ]
  },
  {
   "cell_type": "code",
   "execution_count": 30,
   "metadata": {},
   "outputs": [
    {
     "data": {
      "text/plain": [
       "[('time_min', 0.16634194173479624),\n",
       " ('temp_c', 0.12841123473136168),\n",
       " ('x5_zinc oleate', 0.10421251891244962),\n",
       " ('in_amount_mmol', 0.05666506496348171),\n",
       " ('x4_octylamine', 0.05113928326236564),\n",
       " ('x5_zinc iodide', 0.04683499165427508),\n",
       " ('x5_zinc bromide', 0.045759206543276316),\n",
       " ('x5_acetic acid', 0.03742347293493217),\n",
       " ('first_sol_amount_ml', 0.033416047575671445),\n",
       " ('other_1_amount_mmol', 0.030544610981050647),\n",
       " ('x6_copper bromide', 0.02761080867928227),\n",
       " ('p_amount_mmol', 0.025916218638896683),\n",
       " ('x4_None', 0.02121384961786234),\n",
       " ('other_2_amount_mmol', 0.017585906137087732),\n",
       " ('total_volume_ml', 0.017531906045169562),\n",
       " ('x4_oleylamine', 0.017343150256232554),\n",
       " ('x3_oleylamine', 0.016872924003365628),\n",
       " ('x2_palmitic acid', 0.014214134560520175),\n",
       " ('x2_stearic acid', 0.012028808619321056),\n",
       " ('x6_None', 0.011264515124095641),\n",
       " ('ligand_amount_mmol', 0.011251512507457208),\n",
       " ('x1_tris(diethylamino)phosphine', 0.010704865844823832),\n",
       " ('second_sol_amount_ml', 0.009659022569494597),\n",
       " ('x0_indium iodide', 0.009550190886449495),\n",
       " ('x3_trioctylamine', 0.009289673945420032),\n",
       " ('x3_octadecene', 0.0071268374369840015),\n",
       " ('x5_zinc chloride', 0.005950587719746645),\n",
       " ('x0_indium trifluoroacetate', 0.005935431935793394),\n",
       " ('x5_zinc stearate', 0.0058532354541950046),\n",
       " ('x0_indium chloride', 0.005540390389558012),\n",
       " ('x2_oleic acid', 0.005291868319281131),\n",
       " ('x1_tris(trimethylgermyl)phosphine', 0.004788340009688546),\n",
       " ('x5_zinc undecylenate', 0.004671718507754348),\n",
       " ('x0_indium acetate', 0.003708950840042799),\n",
       " ('x2_None', 0.0036063128028852036),\n",
       " ('x2_lauric acid', 0.003541652777298694),\n",
       " ('x4_hexadecylamine', 0.002973559869441314),\n",
       " ('x6_water', 0.002701056579397496),\n",
       " ('x1_tris(trimethylsilyl)phosphine', 0.0015359432038263368),\n",
       " ('x5_None', 0.0014418931318405524),\n",
       " ('x2_myristic acid', 0.0009311788915982505),\n",
       " ('x1_phosphorus trichloride', 0.0008953915749885116),\n",
       " ('x6_trioctylphosphine', 0.0005533156154763925),\n",
       " ('x0_indium bromide', 0.0001639939019920863),\n",
       " ('x1_tris(dimethylamino)phosphine', 1.8602318039927525e-06),\n",
       " ('x4_trioctylphosphine', 6.200772679975886e-07),\n",
       " ('x0_indium myristate', 0.0),\n",
       " ('x1_bis(trimethylsilyl)phosphine', 0.0),\n",
       " ('x3_dodecylamine', 0.0),\n",
       " ('x3_trioctylphosphine', 0.0),\n",
       " ('x4_dioctyl ether', 0.0),\n",
       " ('x4_dioctylamine', 0.0),\n",
       " ('x4_toluene', 0.0),\n",
       " ('x4_trioctylphosphine oxide', 0.0),\n",
       " ('x5_superhydride', 0.0),\n",
       " ('x5_tetrabutylammonium myristate', 0.0),\n",
       " ('x6_zinc iodide', 0.0)]"
      ]
     },
     "execution_count": 30,
     "metadata": {},
     "output_type": "execute_result"
    }
   ],
   "source": [
    "importance_dict_a = dict()\n",
    "for i in range(0,57):\n",
    "    importance_dict_a[input_col[i]] = ET_regr_a.feature_importances_[i]\n",
    "\n",
    "sorted_importance_a = sorted(importance_dict_a.items(), key=lambda x: x[1], reverse=True)\n",
    "\n",
    "sorted_importance_a"
   ]
  },
  {
   "cell_type": "code",
   "execution_count": 31,
   "metadata": {},
   "outputs": [
    {
     "data": {
      "image/png": "[encoded data removed]",
      "text/plain": [
       "<Figure size 1490.4x595.44 with 1 Axes>"
      ]
     },
     "metadata": {},
     "output_type": "display_data"
    }
   ],
   "source": [
    "top7_a = DataFrame(sorted_importance_a[0:7], columns=['features', 'importance score'])\n",
    "\n",
    "others_a = DataFrame(sorted_importance_a[7:], columns=['features', 'importance score'])\n",
    "\n",
    "import seaborn as sns\n",
    "\n",
    "a4_dims = (20.7, 8.27)\n",
    "fig, ax = plt.subplots(figsize=a4_dims)\n",
    "sns.set_theme(style=\"whitegrid\")\n",
    "\n",
    "ax = sns.barplot(x=\"features\", y=\"importance score\", data=top7_a)"
   ]
  },
  {
   "cell_type": "code",
   "execution_count": 32,
   "metadata": {},
   "outputs": [
    {
     "data": {
      "text/plain": [
       "{'in_amount_mmol': 0.05666506496348171,\n",
       " 'p_amount_mmol': 0.025916218638896683,\n",
       " 'ligand_amount_mmol': 0.011251512507457208,\n",
       " 'first_sol_amount_ml': 0.033416047575671445,\n",
       " 'second_sol_amount_ml': 0.009659022569494597,\n",
       " 'other_1_amount_mmol': 0.030544610981050647,\n",
       " 'other_2_amount_mmol': 0.017585906137087732,\n",
       " 'total_volume_ml': 0.017531906045169562,\n",
       " 'temp_c': 0.12841123473136168,\n",
       " 'time_min': 0.16634194173479624,\n",
       " 'x0_indium acetate': 0.003708950840042799,\n",
       " 'x0_indium bromide': 0.0001639939019920863,\n",
       " 'x0_indium chloride': 0.005540390389558012,\n",
       " 'x0_indium iodide': 0.009550190886449495,\n",
       " 'x0_indium myristate': 0.0,\n",
       " 'x0_indium trifluoroacetate': 0.005935431935793394,\n",
       " 'x1_bis(trimethylsilyl)phosphine': 0.0,\n",
       " 'x1_phosphorus trichloride': 0.0008953915749885116,\n",
       " 'x1_tris(diethylamino)phosphine': 0.010704865844823832,\n",
       " 'x1_tris(dimethylamino)phosphine': 1.8602318039927525e-06,\n",
       " 'x1_tris(trimethylgermyl)phosphine': 0.004788340009688546,\n",
       " 'x1_tris(trimethylsilyl)phosphine': 0.0015359432038263368,\n",
       " 'x2_None': 0.0036063128028852036,\n",
       " 'x2_lauric acid': 0.003541652777298694,\n",
       " 'x2_myristic acid': 0.0009311788915982505,\n",
       " 'x2_oleic acid': 0.005291868319281131,\n",
       " 'x2_palmitic acid': 0.014214134560520175,\n",
       " 'x2_stearic acid': 0.012028808619321056,\n",
       " 'x3_dodecylamine': 0.0,\n",
       " 'x3_octadecene': 0.0071268374369840015,\n",
       " 'x3_oleylamine': 0.016872924003365628,\n",
       " 'x3_trioctylamine': 0.009289673945420032,\n",
       " 'x3_trioctylphosphine': 0.0,\n",
       " 'x4_None': 0.02121384961786234,\n",
       " 'x4_dioctyl ether': 0.0,\n",
       " 'x4_dioctylamine': 0.0,\n",
       " 'x4_hexadecylamine': 0.002973559869441314,\n",
       " 'x4_octylamine': 0.05113928326236564,\n",
       " 'x4_oleylamine': 0.017343150256232554,\n",
       " 'x4_toluene': 0.0,\n",
       " 'x4_trioctylphosphine': 6.200772679975886e-07,\n",
       " 'x4_trioctylphosphine oxide': 0.0,\n",
       " 'x5_None': 0.0014418931318405524,\n",
       " 'x5_acetic acid': 0.03742347293493217,\n",
       " 'x5_superhydride': 0.0,\n",
       " 'x5_tetrabutylammonium myristate': 0.0,\n",
       " 'x5_zinc bromide': 0.045759206543276316,\n",
       " 'x5_zinc chloride': 0.005950587719746645,\n",
       " 'x5_zinc iodide': 0.04683499165427508,\n",
       " 'x5_zinc oleate': 0.10421251891244962,\n",
       " 'x5_zinc stearate': 0.0058532354541950046,\n",
       " 'x5_zinc undecylenate': 0.004671718507754348,\n",
       " 'x6_None': 0.011264515124095641,\n",
       " 'x6_copper bromide': 0.02761080867928227,\n",
       " 'x6_trioctylphosphine': 0.0005533156154763925,\n",
       " 'x6_water': 0.002701056579397496,\n",
       " 'x6_zinc iodide': 0.0}"
      ]
     },
     "execution_count": 32,
     "metadata": {},
     "output_type": "execute_result"
    }
   ],
   "source": [
    "importance_dict_a"
   ]
  },
  {
   "cell_type": "markdown",
   "metadata": {},
   "source": [
    "### Combine\n"
   ]
  },
  {
   "cell_type": "code",
   "execution_count": 33,
   "metadata": {},
   "outputs": [],
   "source": [
    "sorted_a = sorted(importance_dict_a.items(), key=lambda x: x[0], reverse=False)\n",
    "sorted_d = sorted(importance_dict_d.items(), key=lambda x: x[0], reverse=False)\n",
    "sorted_e = sorted(importance_dict_e.items(), key=lambda x: x[0], reverse=False)\n"
   ]
  },
  {
   "cell_type": "code",
   "execution_count": 34,
   "metadata": {
    "scrolled": true
   },
   "outputs": [
    {
     "data": {
      "text/plain": [
       "[('first_sol_amount_ml', 0.04533173007280029),\n",
       " ('in_amount_mmol', 0.01333939850288899),\n",
       " ('ligand_amount_mmol', 0.022430151569358237),\n",
       " ('other_1_amount_mmol', 0.019842507213082342),\n",
       " ('other_2_amount_mmol', 0.007086011257369334),\n",
       " ('p_amount_mmol', 0.014955597632855944),\n",
       " ('second_sol_amount_ml', 0.021410004253790565),\n",
       " ('temp_c', 0.077402609229714),\n",
       " ('time_min', 0.3004032115619246),\n",
       " ('total_volume_ml', 0.004238489777933234),\n",
       " ('x0_indium acetate', 0.0006280619355764201),\n",
       " ('x0_indium bromide', 0.00010210003624618238),\n",
       " ('x0_indium chloride', 0.0024457632274541194),\n",
       " ('x0_indium iodide', 0.010344379660591875),\n",
       " ('x0_indium myristate', 0.002488193314206418),\n",
       " ('x0_indium trifluoroacetate', 0.1088996097894126),\n",
       " ('x1_bis(trimethylsilyl)phosphine', 0.0),\n",
       " ('x1_phosphorus trichloride', 0.002828690388984942),\n",
       " ('x1_tris(diethylamino)phosphine', 0.001852580670190939),\n",
       " ('x1_tris(dimethylamino)phosphine', 0.0335163337508862),\n",
       " ('x1_tris(trimethylgermyl)phosphine', 0.0017429028287669016),\n",
       " ('x1_tris(trimethylsilyl)phosphine', 0.05272595298169292),\n",
       " ('x2_None', 5.164320509997381e-06),\n",
       " ('x2_lauric acid', 0.012128689290283592),\n",
       " ('x2_myristic acid', 0.00741664654920194),\n",
       " ('x2_oleic acid', 0.0006631165308653549),\n",
       " ('x2_palmitic acid', 0.015650576138054557),\n",
       " ('x2_stearic acid', 0.0029290323734675714),\n",
       " ('x3_dodecylamine', 0.0),\n",
       " ('x3_octadecene', 0.010604152361463259),\n",
       " ('x3_oleylamine', 0.00045233409997565756),\n",
       " ('x3_trioctylamine', 0.022277722086771992),\n",
       " ('x3_trioctylphosphine', 7.657502718466919e-05),\n",
       " ('x4_None', 0.010093174263392627),\n",
       " ('x4_dioctyl ether', 0.0),\n",
       " ('x4_dioctylamine', 0.0),\n",
       " ('x4_hexadecylamine', 0.007224858372910981),\n",
       " ('x4_octylamine', 0.0),\n",
       " ('x4_oleylamine', 0.016392167414590552),\n",
       " ('x4_toluene', 0.003018505096847965),\n",
       " ('x4_trioctylphosphine', 0.00010328641019750511),\n",
       " ('x4_trioctylphosphine oxide', 0.0),\n",
       " ('x5_None', 0.00885234195680479),\n",
       " ('x5_acetic acid', 0.0),\n",
       " ('x5_superhydride', 0.0005440884420484302),\n",
       " ('x5_tetrabutylammonium myristate', 0.0013412232034163887),\n",
       " ('x5_zinc bromide', 0.0),\n",
       " ('x5_zinc chloride', 0.005052696982459355),\n",
       " ('x5_zinc iodide', 0.09232041278991349),\n",
       " ('x5_zinc oleate', 0.00533671603593492),\n",
       " ('x5_zinc stearate', 0.0),\n",
       " ('x5_zinc undecylenate', 0.008544418775378494),\n",
       " ('x6_None', 0.01187580597848379),\n",
       " ('x6_copper bromide', 0.0030169765126064735),\n",
       " ('x6_trioctylphosphine', 0.0),\n",
       " ('x6_water', 0.010065039331508653),\n",
       " ('x6_zinc iodide', 0.0)]"
      ]
     },
     "execution_count": 34,
     "metadata": {},
     "output_type": "execute_result"
    }
   ],
   "source": [
    "sorted_d "
   ]
  },
  {
   "cell_type": "code",
   "execution_count": 35,
   "metadata": {},
   "outputs": [],
   "source": [
    "combined_importance = dict()"
   ]
  },
  {
   "cell_type": "code",
   "execution_count": 36,
   "metadata": {},
   "outputs": [
    {
     "data": {
      "text/plain": [
       "{'first_sol_amount_ml': 0.08740867883387464,\n",
       " 'in_amount_mmol': 0.07150399855312392,\n",
       " 'ligand_amount_mmol': 0.049952207924152184,\n",
       " 'other_1_amount_mmol': 0.08283005715501203,\n",
       " 'other_2_amount_mmol': 0.024671917394457066,\n",
       " 'p_amount_mmol': 0.049260653380844614,\n",
       " 'second_sol_amount_ml': 0.1262833043167997,\n",
       " 'temp_c': 0.33503638037298744,\n",
       " 'time_min': 0.5590581089402442,\n",
       " 'total_volume_ml': 0.053751205272100415,\n",
       " 'x0_indium acetate': 0.03496765570163715,\n",
       " 'x0_indium bromide': 0.00026609393823910605,\n",
       " 'x0_indium chloride': 0.007986153617012132,\n",
       " 'x0_indium iodide': 0.042537676888954774,\n",
       " 'x0_indium myristate': 0.002488193314206418,\n",
       " 'x0_indium trifluoroacetate': 0.11483504172520599,\n",
       " 'x1_bis(trimethylsilyl)phosphine': 0.0,\n",
       " 'x1_phosphorus trichloride': 0.0037240819639734538,\n",
       " 'x1_tris(diethylamino)phosphine': 0.01255744651501477,\n",
       " 'x1_tris(dimethylamino)phosphine': 0.04369580415561408,\n",
       " 'x1_tris(trimethylgermyl)phosphine': 0.009555884663853874,\n",
       " 'x1_tris(trimethylsilyl)phosphine': 0.05426189618551926,\n",
       " 'x2_None': 0.017758284053057693,\n",
       " 'x2_lauric acid': 0.019998109403970166,\n",
       " 'x2_myristic acid': 0.0748067221616483,\n",
       " 'x2_oleic acid': 0.005954984850146486,\n",
       " 'x2_palmitic acid': 0.029864710698574732,\n",
       " 'x2_stearic acid': 0.01913710357049828,\n",
       " 'x3_dodecylamine': 0.0,\n",
       " 'x3_octadecene': 0.022150924067789318,\n",
       " 'x3_oleylamine': 0.017325258103341287,\n",
       " 'x3_trioctylamine': 0.052004531358293436,\n",
       " 'x3_trioctylphosphine': 7.657502718466919e-05,\n",
       " 'x4_None': 0.03695796655748863,\n",
       " 'x4_dioctyl ether': 0.0,\n",
       " 'x4_dioctylamine': 0.0,\n",
       " 'x4_hexadecylamine': 0.04160499419069608,\n",
       " 'x4_octylamine': 0.05113928326236564,\n",
       " 'x4_oleylamine': 0.033812042631913106,\n",
       " 'x4_toluene': 0.003018505096847965,\n",
       " 'x4_trioctylphosphine': 0.016096657717214892,\n",
       " 'x4_trioctylphosphine oxide': 0.0,\n",
       " 'x5_None': 0.011069034461191993,\n",
       " 'x5_acetic acid': 0.03742347293493217,\n",
       " 'x5_superhydride': 0.0005440884420484302,\n",
       " 'x5_tetrabutylammonium myristate': 0.0013412232034163887,\n",
       " 'x5_zinc bromide': 0.07500433980345692,\n",
       " 'x5_zinc chloride': 0.040927817767874956,\n",
       " 'x5_zinc iodide': 0.1754954025128526,\n",
       " 'x5_zinc oleate': 0.3281593560238894,\n",
       " 'x5_zinc stearate': 0.0058532354541950046,\n",
       " 'x5_zinc undecylenate': 0.020132173228723238,\n",
       " 'x6_None': 0.051763565885289985,\n",
       " 'x6_copper bromide': 0.030627785191888742,\n",
       " 'x6_trioctylphosphine': 0.0005533156154763925,\n",
       " 'x6_water': 0.012766095910906149,\n",
       " 'x6_zinc iodide': 0.0}"
      ]
     },
     "execution_count": 36,
     "metadata": {},
     "output_type": "execute_result"
    }
   ],
   "source": [
    "for i in range(0,57):\n",
    "    combined_importance[sorted_e[i][0]] = sorted_e[i][1] + sorted_a[i][1] + sorted_d[i][1]\n",
    "combined_importance\n"
   ]
  },
  {
   "cell_type": "code",
   "execution_count": 37,
   "metadata": {},
   "outputs": [
    {
     "data": {
      "text/plain": [
       "[('time_min', 0.5590581089402442),\n",
       " ('temp_c', 0.33503638037298744),\n",
       " ('x5_zinc oleate', 0.3281593560238894),\n",
       " ('x5_zinc iodide', 0.1754954025128526),\n",
       " ('second_sol_amount_ml', 0.1262833043167997),\n",
       " ('x0_indium trifluoroacetate', 0.11483504172520599),\n",
       " ('first_sol_amount_ml', 0.08740867883387464),\n",
       " ('other_1_amount_mmol', 0.08283005715501203),\n",
       " ('x5_zinc bromide', 0.07500433980345692),\n",
       " ('x2_myristic acid', 0.0748067221616483),\n",
       " ('in_amount_mmol', 0.07150399855312392),\n",
       " ('x1_tris(trimethylsilyl)phosphine', 0.05426189618551926),\n",
       " ('total_volume_ml', 0.053751205272100415),\n",
       " ('x3_trioctylamine', 0.052004531358293436),\n",
       " ('x6_None', 0.051763565885289985),\n",
       " ('x4_octylamine', 0.05113928326236564),\n",
       " ('ligand_amount_mmol', 0.049952207924152184),\n",
       " ('p_amount_mmol', 0.049260653380844614),\n",
       " ('x1_tris(dimethylamino)phosphine', 0.04369580415561408),\n",
       " ('x0_indium iodide', 0.042537676888954774),\n",
       " ('x4_hexadecylamine', 0.04160499419069608),\n",
       " ('x5_zinc chloride', 0.040927817767874956),\n",
       " ('x5_acetic acid', 0.03742347293493217),\n",
       " ('x4_None', 0.03695796655748863),\n",
       " ('x0_indium acetate', 0.03496765570163715),\n",
       " ('x4_oleylamine', 0.033812042631913106),\n",
       " ('x6_copper bromide', 0.030627785191888742),\n",
       " ('x2_palmitic acid', 0.029864710698574732),\n",
       " ('other_2_amount_mmol', 0.024671917394457066),\n",
       " ('x3_octadecene', 0.022150924067789318),\n",
       " ('x5_zinc undecylenate', 0.020132173228723238),\n",
       " ('x2_lauric acid', 0.019998109403970166),\n",
       " ('x2_stearic acid', 0.01913710357049828),\n",
       " ('x2_None', 0.017758284053057693),\n",
       " ('x3_oleylamine', 0.017325258103341287),\n",
       " ('x4_trioctylphosphine', 0.016096657717214892),\n",
       " ('x6_water', 0.012766095910906149),\n",
       " ('x1_tris(diethylamino)phosphine', 0.01255744651501477),\n",
       " ('x5_None', 0.011069034461191993),\n",
       " ('x1_tris(trimethylgermyl)phosphine', 0.009555884663853874),\n",
       " ('x0_indium chloride', 0.007986153617012132),\n",
       " ('x2_oleic acid', 0.005954984850146486),\n",
       " ('x5_zinc stearate', 0.0058532354541950046),\n",
       " ('x1_phosphorus trichloride', 0.0037240819639734538),\n",
       " ('x4_toluene', 0.003018505096847965),\n",
       " ('x0_indium myristate', 0.002488193314206418),\n",
       " ('x5_tetrabutylammonium myristate', 0.0013412232034163887),\n",
       " ('x6_trioctylphosphine', 0.0005533156154763925),\n",
       " ('x5_superhydride', 0.0005440884420484302),\n",
       " ('x0_indium bromide', 0.00026609393823910605),\n",
       " ('x3_trioctylphosphine', 7.657502718466919e-05),\n",
       " ('x1_bis(trimethylsilyl)phosphine', 0.0),\n",
       " ('x3_dodecylamine', 0.0),\n",
       " ('x4_dioctyl ether', 0.0),\n",
       " ('x4_dioctylamine', 0.0),\n",
       " ('x4_trioctylphosphine oxide', 0.0),\n",
       " ('x6_zinc iodide', 0.0)]"
      ]
     },
     "execution_count": 37,
     "metadata": {},
     "output_type": "execute_result"
    }
   ],
   "source": [
    "sorted_combined_importance = sorted(combined_importance.items(), key=lambda x: x[1], reverse=True)\n",
    "\n",
    "sorted_combined_importance "
   ]
  },
  {
   "cell_type": "code",
   "execution_count": 38,
   "metadata": {},
   "outputs": [
    {
     "data": {
      "image/png": "[encoded data removed]",
      "text/plain": [
       "<Figure size 1490.4x595.44 with 1 Axes>"
      ]
     },
     "metadata": {},
     "output_type": "display_data"
    }
   ],
   "source": [
    "top7_combined = DataFrame(sorted_combined_importance[0:7], columns=['features', 'importance score'])\n",
    "\n",
    "others_combined = DataFrame(sorted_combined_importance [7:], columns=['features', 'importance score'])\n",
    "\n",
    "import seaborn as sns\n",
    "\n",
    "a4_dims = (20.7, 8.27)\n",
    "fig, ax = plt.subplots(figsize=a4_dims)\n",
    "sns.set_theme(style=\"whitegrid\")\n",
    "\n",
    "ax = sns.barplot(x=\"features\", y=\"importance score\", data=top7_combined)"
   ]
  },
  {
   "cell_type": "code",
   "execution_count": null,
   "metadata": {},
   "outputs": [],
   "source": []
  },
  {
   "cell_type": "code",
   "execution_count": null,
   "metadata": {},
   "outputs": [],
   "source": []
  }
 ],
 "metadata": {
  "kernelspec": {
   "display_name": "Python 3",
   "language": "python",
   "name": "python3"
  },
  "language_info": {
   "codemirror_mode": {
    "name": "ipython",
    "version": 3
   },
   "file_extension": ".py",
   "mimetype": "text/x-python",
   "name": "python",
   "nbconvert_exporter": "python",
   "pygments_lexer": "ipython3",
   "version": "3.8.5"
  }
 },
 "nbformat": 4,
 "nbformat_minor": 4
}
