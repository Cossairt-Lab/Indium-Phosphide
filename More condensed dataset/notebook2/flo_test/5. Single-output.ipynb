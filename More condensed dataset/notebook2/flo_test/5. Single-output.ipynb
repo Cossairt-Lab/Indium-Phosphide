{
 "cells": [
  {
   "cell_type": "code",
   "execution_count": 1,
   "metadata": {},
   "outputs": [],
   "source": [
    "import numpy as np \n",
    "import pandas as pd\n",
    "import os\n",
    "import joblib\n",
    "import sklearn \n",
    "import matplotlib\n",
    "from matplotlib import pyplot as plt\n",
    "\n",
    "from sklearn.model_selection import train_test_split\n",
    "\n",
    "#Regressions:\n",
    "\n",
    "from sklearn.multioutput import MultiOutputRegressor\n",
    "\n",
    "from sklearn.neighbors import KNeighborsRegressor\n",
    "from sklearn.linear_model import Ridge\n",
    "from sklearn.linear_model import Lasso\n",
    "from sklearn.linear_model import ElasticNet\n",
    "from sklearn.linear_model import LinearRegression\n",
    "from sklearn.linear_model import RidgeCV\n",
    "from sklearn.ensemble import ExtraTreesRegressor\n",
    "from sklearn.ensemble import GradientBoostingRegressor\n",
    "from sklearn.ensemble import RandomForestRegressor\n",
    "from sklearn.ensemble import AdaBoostRegressor\n",
    "from sklearn.tree import DecisionTreeRegressor\n",
    "\n",
    "#Metric\n",
    "from sklearn.metrics import mean_squared_error\n",
    "from sklearn.metrics import mean_absolute_error\n",
    "from sklearn.metrics import r2_score\n",
    "\n",
    "\n",
    "from pandas import DataFrame\n",
    "\n",
    "\n",
    "# Show progress bar\n",
    "from tqdm import tqdm"
   ]
  },
  {
   "cell_type": "code",
   "execution_count": 2,
   "metadata": {},
   "outputs": [
    {
     "data": {
      "text/html": [
       "<div>\n",
       "<style scoped>\n",
       "    .dataframe tbody tr th:only-of-type {\n",
       "        vertical-align: middle;\n",
       "    }\n",
       "\n",
       "    .dataframe tbody tr th {\n",
       "        vertical-align: top;\n",
       "    }\n",
       "\n",
       "    .dataframe thead th {\n",
       "        text-align: right;\n",
       "    }\n",
       "</style>\n",
       "<table border=\"1\" class=\"dataframe\">\n",
       "  <thead>\n",
       "    <tr style=\"text-align: right;\">\n",
       "      <th></th>\n",
       "      <th>Unnamed: 0</th>\n",
       "      <th>Unnamed: 0.1</th>\n",
       "      <th>Unnamed: 0.1.1</th>\n",
       "      <th>Unnamed: 0.1.1.1</th>\n",
       "      <th>in_amount_mmol</th>\n",
       "      <th>p_amount_mmol</th>\n",
       "      <th>ligand_amount_mmol</th>\n",
       "      <th>first_sol_amount_ml</th>\n",
       "      <th>second_sol_amount_ml</th>\n",
       "      <th>other_1_amount_mmol</th>\n",
       "      <th>...</th>\n",
       "      <th>x6_None</th>\n",
       "      <th>x6_copper bromide</th>\n",
       "      <th>x6_oleic acid</th>\n",
       "      <th>x6_trioctylphosphine</th>\n",
       "      <th>x6_water</th>\n",
       "      <th>x6_zinc iodide</th>\n",
       "      <th>diameter_nm</th>\n",
       "      <th>abs_nm</th>\n",
       "      <th>emission_nm</th>\n",
       "      <th>Unnamed: 79</th>\n",
       "    </tr>\n",
       "  </thead>\n",
       "  <tbody>\n",
       "    <tr>\n",
       "      <th>0</th>\n",
       "      <td>0</td>\n",
       "      <td>0</td>\n",
       "      <td>0</td>\n",
       "      <td>0</td>\n",
       "      <td>0.154575</td>\n",
       "      <td>-0.011188</td>\n",
       "      <td>-0.247025</td>\n",
       "      <td>-0.673379</td>\n",
       "      <td>-0.370637</td>\n",
       "      <td>0.865472</td>\n",
       "      <td>...</td>\n",
       "      <td>1</td>\n",
       "      <td>0</td>\n",
       "      <td>0</td>\n",
       "      <td>0</td>\n",
       "      <td>0</td>\n",
       "      <td>0</td>\n",
       "      <td>1.500</td>\n",
       "      <td>480.0</td>\n",
       "      <td>539.000000</td>\n",
       "      <td>59.000000</td>\n",
       "    </tr>\n",
       "    <tr>\n",
       "      <th>1</th>\n",
       "      <td>1</td>\n",
       "      <td>1</td>\n",
       "      <td>1</td>\n",
       "      <td>1</td>\n",
       "      <td>0.195883</td>\n",
       "      <td>0.280681</td>\n",
       "      <td>-0.439228</td>\n",
       "      <td>-0.658075</td>\n",
       "      <td>-0.370637</td>\n",
       "      <td>-0.675365</td>\n",
       "      <td>...</td>\n",
       "      <td>1</td>\n",
       "      <td>0</td>\n",
       "      <td>0</td>\n",
       "      <td>0</td>\n",
       "      <td>0</td>\n",
       "      <td>0</td>\n",
       "      <td>2.610</td>\n",
       "      <td>610.0</td>\n",
       "      <td>622.333333</td>\n",
       "      <td>12.333333</td>\n",
       "    </tr>\n",
       "    <tr>\n",
       "      <th>2</th>\n",
       "      <td>2</td>\n",
       "      <td>2</td>\n",
       "      <td>2</td>\n",
       "      <td>2</td>\n",
       "      <td>-0.423738</td>\n",
       "      <td>-0.412509</td>\n",
       "      <td>-0.439228</td>\n",
       "      <td>-0.655198</td>\n",
       "      <td>-0.370637</td>\n",
       "      <td>0.457150</td>\n",
       "      <td>...</td>\n",
       "      <td>1</td>\n",
       "      <td>0</td>\n",
       "      <td>0</td>\n",
       "      <td>0</td>\n",
       "      <td>0</td>\n",
       "      <td>0</td>\n",
       "      <td>2.930</td>\n",
       "      <td>560.0</td>\n",
       "      <td>595.000000</td>\n",
       "      <td>35.000000</td>\n",
       "    </tr>\n",
       "    <tr>\n",
       "      <th>3</th>\n",
       "      <td>3</td>\n",
       "      <td>3</td>\n",
       "      <td>3</td>\n",
       "      <td>3</td>\n",
       "      <td>-0.423738</td>\n",
       "      <td>-0.412509</td>\n",
       "      <td>-0.439228</td>\n",
       "      <td>-0.655198</td>\n",
       "      <td>-0.370637</td>\n",
       "      <td>0.457150</td>\n",
       "      <td>...</td>\n",
       "      <td>1</td>\n",
       "      <td>0</td>\n",
       "      <td>0</td>\n",
       "      <td>0</td>\n",
       "      <td>0</td>\n",
       "      <td>0</td>\n",
       "      <td>3.275</td>\n",
       "      <td>590.0</td>\n",
       "      <td>635.000000</td>\n",
       "      <td>45.000000</td>\n",
       "    </tr>\n",
       "    <tr>\n",
       "      <th>4</th>\n",
       "      <td>4</td>\n",
       "      <td>4</td>\n",
       "      <td>4</td>\n",
       "      <td>4</td>\n",
       "      <td>0.154575</td>\n",
       "      <td>-0.011188</td>\n",
       "      <td>-0.247025</td>\n",
       "      <td>-0.604513</td>\n",
       "      <td>-0.370637</td>\n",
       "      <td>0.865472</td>\n",
       "      <td>...</td>\n",
       "      <td>1</td>\n",
       "      <td>0</td>\n",
       "      <td>0</td>\n",
       "      <td>0</td>\n",
       "      <td>0</td>\n",
       "      <td>0</td>\n",
       "      <td>1.500</td>\n",
       "      <td>429.5</td>\n",
       "      <td>500.000000</td>\n",
       "      <td>70.500000</td>\n",
       "    </tr>\n",
       "    <tr>\n",
       "      <th>...</th>\n",
       "      <td>...</td>\n",
       "      <td>...</td>\n",
       "      <td>...</td>\n",
       "      <td>...</td>\n",
       "      <td>...</td>\n",
       "      <td>...</td>\n",
       "      <td>...</td>\n",
       "      <td>...</td>\n",
       "      <td>...</td>\n",
       "      <td>...</td>\n",
       "      <td>...</td>\n",
       "      <td>...</td>\n",
       "      <td>...</td>\n",
       "      <td>...</td>\n",
       "      <td>...</td>\n",
       "      <td>...</td>\n",
       "      <td>...</td>\n",
       "      <td>...</td>\n",
       "      <td>...</td>\n",
       "      <td>...</td>\n",
       "      <td>...</td>\n",
       "    </tr>\n",
       "    <tr>\n",
       "      <th>199</th>\n",
       "      <td>199</td>\n",
       "      <td>214</td>\n",
       "      <td>214</td>\n",
       "      <td>214</td>\n",
       "      <td>0.154575</td>\n",
       "      <td>-0.376755</td>\n",
       "      <td>0.713993</td>\n",
       "      <td>4.491519</td>\n",
       "      <td>-0.370637</td>\n",
       "      <td>-0.675365</td>\n",
       "      <td>...</td>\n",
       "      <td>1</td>\n",
       "      <td>0</td>\n",
       "      <td>0</td>\n",
       "      <td>0</td>\n",
       "      <td>0</td>\n",
       "      <td>0</td>\n",
       "      <td>4.000</td>\n",
       "      <td>585.0</td>\n",
       "      <td>630.000000</td>\n",
       "      <td>45.000000</td>\n",
       "    </tr>\n",
       "    <tr>\n",
       "      <th>200</th>\n",
       "      <td>200</td>\n",
       "      <td>215</td>\n",
       "      <td>215</td>\n",
       "      <td>215</td>\n",
       "      <td>7.590031</td>\n",
       "      <td>7.504453</td>\n",
       "      <td>-0.439228</td>\n",
       "      <td>5.524499</td>\n",
       "      <td>-0.370637</td>\n",
       "      <td>-0.675365</td>\n",
       "      <td>...</td>\n",
       "      <td>1</td>\n",
       "      <td>0</td>\n",
       "      <td>0</td>\n",
       "      <td>0</td>\n",
       "      <td>0</td>\n",
       "      <td>0</td>\n",
       "      <td>2.200</td>\n",
       "      <td>465.0</td>\n",
       "      <td>550.000000</td>\n",
       "      <td>85.000000</td>\n",
       "    </tr>\n",
       "    <tr>\n",
       "      <th>201</th>\n",
       "      <td>201</td>\n",
       "      <td>216</td>\n",
       "      <td>216</td>\n",
       "      <td>216</td>\n",
       "      <td>2.633061</td>\n",
       "      <td>0.718486</td>\n",
       "      <td>4.173657</td>\n",
       "      <td>6.213152</td>\n",
       "      <td>4.521657</td>\n",
       "      <td>-0.675365</td>\n",
       "      <td>...</td>\n",
       "      <td>1</td>\n",
       "      <td>0</td>\n",
       "      <td>0</td>\n",
       "      <td>0</td>\n",
       "      <td>0</td>\n",
       "      <td>0</td>\n",
       "      <td>2.100</td>\n",
       "      <td>465.0</td>\n",
       "      <td>578.333333</td>\n",
       "      <td>113.333333</td>\n",
       "    </tr>\n",
       "    <tr>\n",
       "      <th>202</th>\n",
       "      <td>202</td>\n",
       "      <td>217</td>\n",
       "      <td>217</td>\n",
       "      <td>217</td>\n",
       "      <td>2.633061</td>\n",
       "      <td>0.718486</td>\n",
       "      <td>4.173657</td>\n",
       "      <td>6.213152</td>\n",
       "      <td>4.521657</td>\n",
       "      <td>-0.675365</td>\n",
       "      <td>...</td>\n",
       "      <td>1</td>\n",
       "      <td>0</td>\n",
       "      <td>0</td>\n",
       "      <td>0</td>\n",
       "      <td>0</td>\n",
       "      <td>0</td>\n",
       "      <td>2.700</td>\n",
       "      <td>495.0</td>\n",
       "      <td>578.333333</td>\n",
       "      <td>83.333333</td>\n",
       "    </tr>\n",
       "    <tr>\n",
       "      <th>203</th>\n",
       "      <td>203</td>\n",
       "      <td>218</td>\n",
       "      <td>218</td>\n",
       "      <td>218</td>\n",
       "      <td>2.633061</td>\n",
       "      <td>0.718486</td>\n",
       "      <td>4.173657</td>\n",
       "      <td>6.213152</td>\n",
       "      <td>4.521657</td>\n",
       "      <td>-0.675365</td>\n",
       "      <td>...</td>\n",
       "      <td>1</td>\n",
       "      <td>0</td>\n",
       "      <td>0</td>\n",
       "      <td>0</td>\n",
       "      <td>0</td>\n",
       "      <td>0</td>\n",
       "      <td>2.700</td>\n",
       "      <td>500.0</td>\n",
       "      <td>578.333333</td>\n",
       "      <td>78.333333</td>\n",
       "    </tr>\n",
       "  </tbody>\n",
       "</table>\n",
       "<p>204 rows × 81 columns</p>\n",
       "</div>"
      ],
      "text/plain": [
       "     Unnamed: 0  Unnamed: 0.1  Unnamed: 0.1.1  Unnamed: 0.1.1.1  \\\n",
       "0             0             0               0                 0   \n",
       "1             1             1               1                 1   \n",
       "2             2             2               2                 2   \n",
       "3             3             3               3                 3   \n",
       "4             4             4               4                 4   \n",
       "..          ...           ...             ...               ...   \n",
       "199         199           214             214               214   \n",
       "200         200           215             215               215   \n",
       "201         201           216             216               216   \n",
       "202         202           217             217               217   \n",
       "203         203           218             218               218   \n",
       "\n",
       "     in_amount_mmol  p_amount_mmol  ligand_amount_mmol  first_sol_amount_ml  \\\n",
       "0          0.154575      -0.011188           -0.247025            -0.673379   \n",
       "1          0.195883       0.280681           -0.439228            -0.658075   \n",
       "2         -0.423738      -0.412509           -0.439228            -0.655198   \n",
       "3         -0.423738      -0.412509           -0.439228            -0.655198   \n",
       "4          0.154575      -0.011188           -0.247025            -0.604513   \n",
       "..              ...            ...                 ...                  ...   \n",
       "199        0.154575      -0.376755            0.713993             4.491519   \n",
       "200        7.590031       7.504453           -0.439228             5.524499   \n",
       "201        2.633061       0.718486            4.173657             6.213152   \n",
       "202        2.633061       0.718486            4.173657             6.213152   \n",
       "203        2.633061       0.718486            4.173657             6.213152   \n",
       "\n",
       "     second_sol_amount_ml  other_1_amount_mmol  ...  x6_None  \\\n",
       "0               -0.370637             0.865472  ...        1   \n",
       "1               -0.370637            -0.675365  ...        1   \n",
       "2               -0.370637             0.457150  ...        1   \n",
       "3               -0.370637             0.457150  ...        1   \n",
       "4               -0.370637             0.865472  ...        1   \n",
       "..                    ...                  ...  ...      ...   \n",
       "199             -0.370637            -0.675365  ...        1   \n",
       "200             -0.370637            -0.675365  ...        1   \n",
       "201              4.521657            -0.675365  ...        1   \n",
       "202              4.521657            -0.675365  ...        1   \n",
       "203              4.521657            -0.675365  ...        1   \n",
       "\n",
       "     x6_copper bromide  x6_oleic acid  x6_trioctylphosphine  x6_water  \\\n",
       "0                    0              0                     0         0   \n",
       "1                    0              0                     0         0   \n",
       "2                    0              0                     0         0   \n",
       "3                    0              0                     0         0   \n",
       "4                    0              0                     0         0   \n",
       "..                 ...            ...                   ...       ...   \n",
       "199                  0              0                     0         0   \n",
       "200                  0              0                     0         0   \n",
       "201                  0              0                     0         0   \n",
       "202                  0              0                     0         0   \n",
       "203                  0              0                     0         0   \n",
       "\n",
       "     x6_zinc iodide  diameter_nm  abs_nm  emission_nm  Unnamed: 79  \n",
       "0                 0        1.500   480.0   539.000000    59.000000  \n",
       "1                 0        2.610   610.0   622.333333    12.333333  \n",
       "2                 0        2.930   560.0   595.000000    35.000000  \n",
       "3                 0        3.275   590.0   635.000000    45.000000  \n",
       "4                 0        1.500   429.5   500.000000    70.500000  \n",
       "..              ...          ...     ...          ...          ...  \n",
       "199               0        4.000   585.0   630.000000    45.000000  \n",
       "200               0        2.200   465.0   550.000000    85.000000  \n",
       "201               0        2.100   465.0   578.333333   113.333333  \n",
       "202               0        2.700   495.0   578.333333    83.333333  \n",
       "203               0        2.700   500.0   578.333333    78.333333  \n",
       "\n",
       "[204 rows x 81 columns]"
      ]
     },
     "execution_count": 2,
     "metadata": {},
     "output_type": "execute_result"
    }
   ],
   "source": [
    "df = pd.read_csv('flo_dataset_augmented.csv')\n",
    "df"
   ]
  },
  {
   "cell_type": "code",
   "execution_count": 3,
   "metadata": {},
   "outputs": [],
   "source": [
    "# Input for ML models\n",
    "\n",
    "input_col =  ['in_amount_mmol', 'p_amount_mmol', 'ligand_amount_mmol',\n",
    "       'first_sol_amount_ml', 'second_sol_amount_ml', \n",
    "       'other_1_amount_mmol', 'other_2_amount_mmol', 'total_volume_ml',\n",
    "       'temp_c', 'time_min', 'x0_chloroindium oxalate', 'x0_indium acetate',\n",
    "       'x0_indium bromide', 'x0_indium chloride', 'x0_indium iodide',\n",
    "       'x0_indium myristate', 'x0_indium oxalate', 'x0_indium palmitate',\n",
    "       'x0_indium trifluoroacetate',\n",
    "       'x0_indium tris(N,N-diisopropylacetamidinato)',\n",
    "       'x1_bis(trimethylsilyl)phosphine', 'x1_phosphine gas',\n",
    "       'x1_phosphorus trichloride', 'x1_sodium phosphide',\n",
    "       'x1_tris(diethylamino)phosphine', 'x1_tris(dimethylamino)phosphine',\n",
    "       'x1_tris(trimethylgermyl)phosphine', 'x1_tris(trimethylsilyl)phosphine',\n",
    "       'x1_white phosphorus', 'x2_None', 'x2_dodecanethiol', 'x2_lauric acid',\n",
    "       'x2_myristic acid', 'x2_oleic acid', 'x2_palmitic acid',\n",
    "       'x2_stearic acid', 'x3_4-ethylpyridine', 'x3_None',\n",
    "       'x3_dimethylformamide', 'x3_dodecylamine', 'x3_mesitylene',\n",
    "       'x3_octadecene', 'x3_oleylamine', 'x3_trioctylamine',\n",
    "       'x3_trioctylphosphine', 'x3_trioctylphosphine oxide', 'x4_None',\n",
    "       'x4_dioctyl ether', 'x4_dioctylamine', 'x4_hexadecylamine',\n",
    "       'x4_octylamine', 'x4_oleylamine', 'x4_toluene', 'x4_trioctylphosphine',\n",
    "       'x4_trioctylphosphine oxide', \n",
    "       'x5_None', 'x5_acetic acid', 'x5_superhydride',\n",
    "       'x5_tetrabutylammonium myristate', 'x5_zinc acetate', 'x5_zinc bromide',\n",
    "       'x5_zinc chloride', 'x5_zinc iodide', 'x5_zinc octanoate',\n",
    "       'x5_zinc oleate', 'x5_zinc stearate', 'x5_zinc undecylenate', 'x6_None',\n",
    "       'x6_copper bromide', 'x6_oleic acid','x6_trioctylphosphine',  'x6_water', 'x6_zinc iodide']\n",
    "\n",
    "#Three individual outputs:\n",
    "diameter = ['diameter_nm']\n",
    "emission = ['emission_nm']\n",
    "absorbance = ['abs_nm']\n",
    "\n",
    "#Splitting dataset\n",
    "\n",
    "X = df[input_col]\n",
    "\n",
    "Y_d = df[diameter]\n",
    "Y_e = df[emission]\n",
    "Y_a = df[absorbance]\n",
    "\n",
    "\n",
    "X_train_d, X_test_d, Y_train_d, Y_test_d = train_test_split(X, Y_d, test_size=0.15, random_state=45, shuffle=True)\n",
    "X_train_e, X_test_e, Y_train_e, Y_test_e = train_test_split(X, Y_e, test_size=0.15, random_state=45, shuffle=True)\n",
    "X_train_a, X_test_a, Y_train_a, Y_test_a = train_test_split(X, Y_a, test_size=0.15, random_state=45, shuffle=True)"
   ]
  },
  {
   "cell_type": "markdown",
   "metadata": {},
   "source": [
    "## D - Optimizing diameter model\n"
   ]
  },
  {
   "cell_type": "markdown",
   "metadata": {},
   "source": [
    "### 1D. Extra Trees"
   ]
  },
  {
   "cell_type": "code",
   "execution_count": 9,
   "metadata": {},
   "outputs": [
    {
     "name": "stderr",
     "output_type": "stream",
     "text": [
      "100%|██████████| 24/24 [05:34<00:00, 13.95s/it]"
     ]
    },
    {
     "name": "stdout",
     "output_type": "stream",
     "text": [
      "0.2740322580645161 1 7 21\n"
     ]
    },
    {
     "name": "stderr",
     "output_type": "stream",
     "text": [
      "\n"
     ]
    }
   ],
   "source": [
    "# This is a grid search for three parameters in the Extra Trees algorithm. \n",
    "# Parameters are: random_state, n_estimators, max_features.\n",
    "\n",
    "# This gives the best combination of the three parameters for the smallest mean squared error.\n",
    "\n",
    "min_mae = 99999\n",
    "min_i, min_j, min_k = 0, 0, 0\n",
    "for i in tqdm(range(1, 25)):\n",
    "    for j in range(1, 25):\n",
    "        for k in range(2, 40, 1):\n",
    "            ET_regr = ExtraTreesRegressor(n_estimators=i, \n",
    "                                            max_features=j,\n",
    "                                            random_state=k)\n",
    "            \n",
    "            ET_regr.fit(X_train_d, np.ravel(Y_train_d))\n",
    "            ET_Y_pred_d = pd.DataFrame(ET_regr.predict(X_test_d))\n",
    "\n",
    "            mae = mean_absolute_error(Y_test_d, ET_Y_pred_d)\n",
    "            if (min_mae > mae):\n",
    "                min_mae = mae\n",
    "                min_i = i\n",
    "                min_j = j\n",
    "                min_k = k\n",
    "            \n",
    "print(min_mae, min_i, min_j, min_k)"
   ]
  },
  {
   "cell_type": "markdown",
   "metadata": {},
   "source": [
    "### 2D. Decision Tree "
   ]
  },
  {
   "cell_type": "code",
   "execution_count": 5,
   "metadata": {},
   "outputs": [
    {
     "name": "stderr",
     "output_type": "stream",
     "text": [
      "100%|██████████| 29/29 [02:47<00:00,  5.78s/it]"
     ]
    },
    {
     "name": "stdout",
     "output_type": "stream",
     "text": [
      "0.25443548387096776 12 23 22\n"
     ]
    },
    {
     "name": "stderr",
     "output_type": "stream",
     "text": [
      "\n"
     ]
    }
   ],
   "source": [
    "# This is a grid search for three parameters in the Decision Trees algorithm. \n",
    "# Parameters are: max_depth, max_features, random_state.\n",
    "# This gives the best combination of the three parameters for the smallest mean squared error.\n",
    "\n",
    "min_mae = 99999\n",
    "\n",
    "min_i, min_j, min_k  = 0, 0, 0\n",
    "\n",
    "for i in tqdm(range(1, 30)):\n",
    "    for j in range(1, 30):\n",
    "        for k in range(4, 80, 2):\n",
    "            \n",
    "            DT_regr = DecisionTreeRegressor(max_depth=i,\n",
    "                                max_features=j,\n",
    "                                random_state=k)\n",
    "            \n",
    "            DT_regr.fit(X_train_d, np.ravel(Y_train_d))\n",
    "            DT_Y_pred_d = pd.DataFrame(DT_regr.predict(X_test_d))\n",
    "\n",
    "            mae = mean_absolute_error(Y_test_d, DT_Y_pred_d)\n",
    "            \n",
    "            if (min_mae > mae):\n",
    "                min_mae = mae\n",
    "                min_i = i\n",
    "                min_j = j\n",
    "                min_k = k\n",
    "            \n",
    "print(min_mae, min_i, min_j, min_k)"
   ]
  },
  {
   "cell_type": "markdown",
   "metadata": {},
   "source": [
    "### 3D. Random Forest"
   ]
  },
  {
   "cell_type": "code",
   "execution_count": 6,
   "metadata": {},
   "outputs": [
    {
     "name": "stderr",
     "output_type": "stream",
     "text": [
      "100%|██████████| 30/30 [16:41<00:00, 33.38s/it]"
     ]
    },
    {
     "name": "stdout",
     "output_type": "stream",
     "text": [
      "0.3275806451612904 17 1 19\n"
     ]
    },
    {
     "name": "stderr",
     "output_type": "stream",
     "text": [
      "\n"
     ]
    }
   ],
   "source": [
    "# This is a grid search for three parameters in the Random Forest algorithm. \n",
    "# Parameters are: max_depth, n_estimators, max_features.\n",
    "# Random_state is set to 45.\n",
    "# This gives the best combination of the three parameters for the smallest mean squared error.\n",
    "\n",
    "min_mae = 99999\n",
    "min_i, min_j, min_k = 0, 0, 0\n",
    "for i in tqdm(range(1, 31)):\n",
    "    for j in range(1, 31):\n",
    "        for k in range(2, 50, 1):\n",
    "            RF_regr = RandomForestRegressor(max_depth=i, \n",
    "                                            n_estimators=j, \n",
    "                                            max_features=k,\n",
    "                                            random_state=45)\n",
    "            RF_regr.fit(X_train_d, np.ravel(Y_train_d))\n",
    "            RF_Y_pred_d = pd.DataFrame(RF_regr.predict(X_test_d))\n",
    "\n",
    "            mae = mean_absolute_error(Y_test_d, RF_Y_pred_d)\n",
    "            if (min_mae > mae):\n",
    "                min_mae = mae\n",
    "                min_i = i\n",
    "                min_j = j\n",
    "                min_k = k\n",
    "            \n",
    "print(min_mae, min_i, min_j, min_k)"
   ]
  },
  {
   "cell_type": "markdown",
   "metadata": {},
   "source": [
    "### 4D. K Neighbors"
   ]
  },
  {
   "cell_type": "code",
   "execution_count": 7,
   "metadata": {},
   "outputs": [
    {
     "name": "stderr",
     "output_type": "stream",
     "text": [
      "100%|██████████| 39/39 [00:19<00:00,  2.03it/s]"
     ]
    },
    {
     "name": "stdout",
     "output_type": "stream",
     "text": [
      "0.6514516129032258 1 23\n"
     ]
    },
    {
     "name": "stderr",
     "output_type": "stream",
     "text": [
      "\n"
     ]
    }
   ],
   "source": [
    "min_mae = 99999\n",
    "min_i, min_j = 0, 0\n",
    "\n",
    "for i in tqdm(range(1, 40)):\n",
    "    for j in range(1, 40):\n",
    "\n",
    "        KNN_reg_d = KNeighborsRegressor(n_neighbors=i, \n",
    "                                      p=j).fit(X_train_d, np.ravel(Y_train_d))\n",
    "\n",
    "        KNN_Y_pred_d = KNN_reg_d.predict(X_test_d)\n",
    "\n",
    "        mae = mean_absolute_error(Y_test_d, KNN_Y_pred_d)\n",
    "\n",
    "        if (min_mae > mae):\n",
    "            min_mae = mae\n",
    "            min_i = i\n",
    "            min_j = j\n",
    "\n",
    "print(min_mae, min_i, min_j)"
   ]
  },
  {
   "cell_type": "markdown",
   "metadata": {},
   "source": [
    "### Saving Decision Tree model"
   ]
  },
  {
   "cell_type": "code",
   "execution_count": 19,
   "metadata": {},
   "outputs": [
    {
     "data": {
      "text/plain": [
       "['./model_SO_diameter_DecisionTree.joblib']"
      ]
     },
     "execution_count": 19,
     "metadata": {},
     "output_type": "execute_result"
    }
   ],
   "source": [
    "DT_regr_d = DecisionTreeRegressor(max_depth=12,\n",
    "                                max_features=23,\n",
    "                                random_state=22)\n",
    "DT_regr_d.fit(X_train_d, np.ravel(Y_train_d))\n",
    "DT_Y_pred_d = pd.DataFrame(DT_regr_d.predict(X_test_d))\n",
    "joblib.dump(DT_regr_d, \"./model_SO_diameter_DecisionTree.joblib\")"
   ]
  },
  {
   "cell_type": "markdown",
   "metadata": {},
   "source": [
    "## E - Optimizing emission model\n"
   ]
  },
  {
   "cell_type": "markdown",
   "metadata": {},
   "source": [
    "### 1E. Extra Trees"
   ]
  },
  {
   "cell_type": "code",
   "execution_count": 11,
   "metadata": {},
   "outputs": [
    {
     "name": "stderr",
     "output_type": "stream",
     "text": [
      "100%|██████████| 24/24 [07:36<00:00, 19.03s/it]"
     ]
    },
    {
     "name": "stdout",
     "output_type": "stream",
     "text": [
      "10.617204298978491 20 21 23\n"
     ]
    },
    {
     "name": "stderr",
     "output_type": "stream",
     "text": [
      "\n"
     ]
    }
   ],
   "source": [
    "# This is a grid search for three parameters in the Extra Trees algorithm. \n",
    "# Parameters are: random_state, n_estimators, max_features.\n",
    "\n",
    "# This gives the best combination of the three parameters for the smallest mean squared error.\n",
    "\n",
    "min_mae = 99999\n",
    "min_i, min_j, min_k = 0, 0, 0\n",
    "for i in tqdm(range(1, 25)):\n",
    "    for j in range(1, 25):\n",
    "        for k in range(2, 50, 1):\n",
    "            ET_regr_e = ExtraTreesRegressor(n_estimators=i, \n",
    "                                            max_features=j,\n",
    "                                            random_state=k)\n",
    "            \n",
    "            ET_regr_e.fit(X_train_e, np.ravel(Y_train_e))\n",
    "            ET_Y_pred_e = pd.DataFrame(ET_regr_e.predict(X_test_e))\n",
    "\n",
    "            mae = mean_absolute_error(Y_test_e, ET_Y_pred_e)\n",
    "            if (min_mae > mae):\n",
    "                min_mae = mae\n",
    "                min_i = i\n",
    "                min_j = j\n",
    "                min_k = k\n",
    "            \n",
    "print(min_mae, min_i, min_j, min_k)"
   ]
  },
  {
   "cell_type": "markdown",
   "metadata": {},
   "source": [
    "### 2E. Decision Trees"
   ]
  },
  {
   "cell_type": "code",
   "execution_count": 12,
   "metadata": {},
   "outputs": [
    {
     "name": "stderr",
     "output_type": "stream",
     "text": [
      "100%|██████████| 29/29 [01:49<00:00,  3.78s/it]"
     ]
    },
    {
     "name": "stdout",
     "output_type": "stream",
     "text": [
      "11.41621864129032 14 23 30\n"
     ]
    },
    {
     "name": "stderr",
     "output_type": "stream",
     "text": [
      "\n"
     ]
    }
   ],
   "source": [
    "# This is a grid search for three parameters in the Decision Trees algorithm. \n",
    "\n",
    "# This gives the best combination of the three parameters for the smallest mean squared error.\n",
    "\n",
    "min_mae = 99999\n",
    "\n",
    "min_i, min_j, min_k  = 0, 0, 0\n",
    "\n",
    "for i in tqdm(range(1, 30)):\n",
    "    for j in range(1, 30):\n",
    "        for k in range(4, 50, 2):\n",
    "            \n",
    "            DT_regr_e = DecisionTreeRegressor(max_depth=i,\n",
    "                                max_features=j,\n",
    "                                random_state=k)\n",
    "            \n",
    "            DT_regr_e.fit(X_train_e, np.ravel(Y_train_e))\n",
    "            DT_Y_pred_e = pd.DataFrame(DT_regr_e.predict(X_test_e))\n",
    "\n",
    "            mae = mean_absolute_error(Y_test_e, DT_Y_pred_e)\n",
    "            \n",
    "            if (min_mae > mae):\n",
    "                min_mae = mae\n",
    "                min_i = i\n",
    "                min_j = j\n",
    "                min_k = k\n",
    "            \n",
    "print(min_mae, min_i, min_j, min_k)"
   ]
  },
  {
   "cell_type": "markdown",
   "metadata": {},
   "source": [
    "### 3E. Random Forest"
   ]
  },
  {
   "cell_type": "code",
   "execution_count": 13,
   "metadata": {},
   "outputs": [
    {
     "name": "stderr",
     "output_type": "stream",
     "text": [
      "100%|██████████| 30/30 [17:34<00:00, 35.15s/it]"
     ]
    },
    {
     "name": "stdout",
     "output_type": "stream",
     "text": [
      "13.00092833242585 11 6 29\n"
     ]
    },
    {
     "name": "stderr",
     "output_type": "stream",
     "text": [
      "\n"
     ]
    }
   ],
   "source": [
    "min_mae = 99999\n",
    "min_i, min_j, min_k = 0, 0, 0\n",
    "for i in tqdm(range(1, 31)):\n",
    "    for j in range(1, 31):\n",
    "        for k in range(2, 50, 1):\n",
    "            RF_regr_e = RandomForestRegressor(max_depth=i, \n",
    "                                            n_estimators=j, \n",
    "                                            max_features=k,\n",
    "                                            random_state=45)\n",
    "            RF_regr_e.fit(X_train_e, np.ravel(Y_train_e))\n",
    "            RF_Y_pred_e = pd.DataFrame(RF_regr_e.predict(X_test_e))\n",
    "\n",
    "            mae = mean_absolute_error(Y_test_e, RF_Y_pred_e)\n",
    "            if (min_mae > mae):\n",
    "                min_mae = mae\n",
    "                min_i = i\n",
    "                min_j = j\n",
    "                min_k = k\n",
    "            \n",
    "print(min_mae, min_i, min_j, min_k)"
   ]
  },
  {
   "cell_type": "markdown",
   "metadata": {},
   "source": [
    "### 4E. K Neighbors"
   ]
  },
  {
   "cell_type": "code",
   "execution_count": 14,
   "metadata": {
    "scrolled": false
   },
   "outputs": [
    {
     "name": "stderr",
     "output_type": "stream",
     "text": [
      "100%|██████████| 39/39 [00:21<00:00,  1.80it/s]"
     ]
    },
    {
     "name": "stdout",
     "output_type": "stream",
     "text": [
      "21.010752690322576 2 3\n"
     ]
    },
    {
     "name": "stderr",
     "output_type": "stream",
     "text": [
      "\n"
     ]
    }
   ],
   "source": [
    "min_mae = 99999\n",
    "min_i, min_j = 0, 0\n",
    "\n",
    "for i in tqdm(range(1, 40)):\n",
    "    for j in range(1, 40):\n",
    "\n",
    "        KNN_reg_e = KNeighborsRegressor(n_neighbors=i, \n",
    "                                      p=j).fit(X_train_e, np.ravel(Y_train_e))\n",
    "\n",
    "        KNN_Y_pred_e = KNN_reg_e.predict(X_test_e)\n",
    "\n",
    "        mae = mean_absolute_error(Y_test_e, KNN_Y_pred_e)\n",
    "\n",
    "        if (min_mae > mae):\n",
    "            min_mae = mae\n",
    "            min_i = i\n",
    "            min_j = j\n",
    "\n",
    "print(min_mae, min_i, min_j)"
   ]
  },
  {
   "cell_type": "markdown",
   "metadata": {},
   "source": [
    "### Saving Extra Trees model"
   ]
  },
  {
   "cell_type": "code",
   "execution_count": 20,
   "metadata": {},
   "outputs": [
    {
     "data": {
      "text/plain": [
       "['./model_SO_emission_ExtraTrees.joblib']"
      ]
     },
     "execution_count": 20,
     "metadata": {},
     "output_type": "execute_result"
    }
   ],
   "source": [
    "ET_regr_e = ExtraTreesRegressor(n_estimators=20,\n",
    "                            max_features=21,     \n",
    "                            random_state=23).fit(X_train_e, np.ravel(Y_train_e))\n",
    "                  \n",
    "ET_Y_pred_e = ET_regr_e.predict(X_test_e)\n",
    "\n",
    "joblib.dump(ET_regr_e, \"./model_SO_emission_ExtraTrees.joblib\")"
   ]
  },
  {
   "cell_type": "markdown",
   "metadata": {},
   "source": [
    "## A - Optimizing absorption model\n"
   ]
  },
  {
   "cell_type": "markdown",
   "metadata": {},
   "source": [
    "### 1A: Extra Trees"
   ]
  },
  {
   "cell_type": "code",
   "execution_count": 15,
   "metadata": {},
   "outputs": [
    {
     "name": "stderr",
     "output_type": "stream",
     "text": [
      "100%|██████████| 29/29 [13:46<00:00, 28.50s/it]"
     ]
    },
    {
     "name": "stdout",
     "output_type": "stream",
     "text": [
      "16.462365591397855 6 29 24\n"
     ]
    },
    {
     "name": "stderr",
     "output_type": "stream",
     "text": [
      "\n"
     ]
    }
   ],
   "source": [
    "# This is a grid search for three parameters in the Extra Trees algorithm. \n",
    "# Parameters are: random_state, n_estimators, max_features.\n",
    "\n",
    "# This gives the best combination of the three parameters for the smallest mean squared error.\n",
    "\n",
    "min_mae = 99999\n",
    "min_i, min_j, min_k = 0, 0, 0\n",
    "for i in tqdm(range(1, 30)):\n",
    "    for j in range(1, 30):\n",
    "        for k in range(2, 50, 1):\n",
    "            ET_regr_a = ExtraTreesRegressor(n_estimators=i, \n",
    "                                            max_features=j,\n",
    "                                            random_state=k)\n",
    "            \n",
    "            ET_regr_a.fit(X_train_a, np.ravel(Y_train_a))\n",
    "            ET_Y_pred_a = pd.DataFrame(ET_regr_a.predict(X_test_a))\n",
    "\n",
    "            mae = mean_absolute_error(Y_test_a, ET_Y_pred_a)\n",
    "            if (min_mae > mae):\n",
    "                min_mae = mae\n",
    "                min_i = i\n",
    "                min_j = j\n",
    "                min_k = k\n",
    "            \n",
    "print(min_mae, min_i, min_j, min_k)"
   ]
  },
  {
   "cell_type": "markdown",
   "metadata": {},
   "source": [
    "### 2A. Decision Trees\n"
   ]
  },
  {
   "cell_type": "code",
   "execution_count": 16,
   "metadata": {},
   "outputs": [
    {
     "name": "stderr",
     "output_type": "stream",
     "text": [
      "100%|██████████| 29/29 [03:13<00:00,  6.68s/it]"
     ]
    },
    {
     "name": "stdout",
     "output_type": "stream",
     "text": [
      "18.780645161290323 13 17 76\n"
     ]
    },
    {
     "name": "stderr",
     "output_type": "stream",
     "text": [
      "\n"
     ]
    }
   ],
   "source": [
    "# This is a grid search for three parameters in the Decision Trees algorithm. \n",
    "\n",
    "# This gives the best combination of the three parameters for the smallest mean squared error.\n",
    "\n",
    "min_mae = 99999\n",
    "\n",
    "min_i, min_j, min_k  = 0, 0, 0\n",
    "\n",
    "for i in tqdm(range(1, 30)):\n",
    "    for j in range(1, 30):\n",
    "        for k in range(4, 80, 2):\n",
    "            \n",
    "            DT_regr_a = DecisionTreeRegressor(max_depth=i,\n",
    "                                max_features=j,\n",
    "                                random_state=k)\n",
    "            \n",
    "            DT_regr_a.fit(X_train_a, np.ravel(Y_train_a))\n",
    "            DT_Y_pred_a = pd.DataFrame(DT_regr_a.predict(X_test_a))\n",
    "\n",
    "            mae = mean_absolute_error(Y_test_a, DT_Y_pred_a)\n",
    "            \n",
    "            if (min_mae > mae):\n",
    "                min_mae = mae\n",
    "                min_i = i\n",
    "                min_j = j\n",
    "                min_k = k\n",
    "            \n",
    "print(min_mae, min_i, min_j, min_k)"
   ]
  },
  {
   "cell_type": "code",
   "execution_count": 22,
   "metadata": {},
   "outputs": [
    {
     "name": "stdout",
     "output_type": "stream",
     "text": [
      "diameter: r2: 0.7157594152974505 ; MSE: 1033.208754199327 ; RMSE: 32.14356474007398 ; MAE: 20.595959593939398\n"
     ]
    }
   ],
   "source": [
    "DT_regr_a = DecisionTreeRegressor(max_depth=20,\n",
    "                                max_features=20,\n",
    "                                random_state=12).fit(X_train_a, np.ravel(Y_train_a))\n",
    "                  \n",
    "DT_Y_pred_a = DT_regr_a.predict(X_test_a)\n",
    "\n",
    "\n",
    "DT_r2_a = r2_score(Y_test_a, DT_Y_pred_a)\n",
    "DT_MSE_a = mean_squared_error(Y_test_a, DT_Y_pred_a)\n",
    "DT_RMSE_a = mean_squared_error(Y_test_a, DT_Y_pred_a, squared=False)\n",
    "DT_MAE_a = mean_absolute_error(Y_test_a, DT_Y_pred_a)\n",
    "print('diameter:', 'r2:', DT_r2_a, '; MSE:', DT_MSE_a, '; RMSE:', DT_RMSE_a, '; MAE:', DT_MAE_a)"
   ]
  },
  {
   "cell_type": "markdown",
   "metadata": {},
   "source": [
    "### 3A. Random Forest"
   ]
  },
  {
   "cell_type": "code",
   "execution_count": 17,
   "metadata": {},
   "outputs": [
    {
     "name": "stderr",
     "output_type": "stream",
     "text": [
      "100%|██████████| 30/30 [18:12<00:00, 36.43s/it]"
     ]
    },
    {
     "name": "stdout",
     "output_type": "stream",
     "text": [
      "17.373281121237113 13 16 43\n"
     ]
    },
    {
     "name": "stderr",
     "output_type": "stream",
     "text": [
      "\n"
     ]
    }
   ],
   "source": [
    "min_mae = 99999\n",
    "min_i, min_j, min_k = 0, 0, 0\n",
    "for i in tqdm(range(1, 31)):\n",
    "    for j in range(1, 31):\n",
    "        for k in range(2, 50, 1):\n",
    "            RF_regr_a = RandomForestRegressor(max_depth=i, \n",
    "                                            n_estimators=j, \n",
    "                                            max_features=k,\n",
    "                                            random_state=45)\n",
    "            RF_regr_a.fit(X_train_a, np.ravel(Y_train_a))\n",
    "            RF_Y_pred_a = pd.DataFrame(RF_regr_a.predict(X_test_a))\n",
    "\n",
    "            mae = mean_absolute_error(Y_test_a, RF_Y_pred_a)\n",
    "            if (min_mae > mae):\n",
    "                min_mae = mae\n",
    "                min_i = i\n",
    "                min_j = j\n",
    "                min_k = k\n",
    "            \n",
    "print(min_mae, min_i, min_j, min_k)"
   ]
  },
  {
   "cell_type": "code",
   "execution_count": null,
   "metadata": {},
   "outputs": [],
   "source": []
  },
  {
   "cell_type": "markdown",
   "metadata": {},
   "source": [
    "### 4A. K Neighbors"
   ]
  },
  {
   "cell_type": "code",
   "execution_count": 18,
   "metadata": {},
   "outputs": [
    {
     "name": "stderr",
     "output_type": "stream",
     "text": [
      "100%|██████████| 39/39 [00:19<00:00,  2.01it/s]"
     ]
    },
    {
     "name": "stdout",
     "output_type": "stream",
     "text": [
      "28.048387096774185 3 1\n"
     ]
    },
    {
     "name": "stderr",
     "output_type": "stream",
     "text": [
      "\n"
     ]
    }
   ],
   "source": [
    "min_mae = 99999\n",
    "min_i, min_j = 0, 0\n",
    "\n",
    "for i in tqdm(range(1, 40)):\n",
    "    for j in range(1, 40):\n",
    "\n",
    "        KNN_reg_a = KNeighborsRegressor(n_neighbors=i, \n",
    "                                      p=j).fit(X_train_a, np.ravel(Y_train_a))\n",
    "\n",
    "        KNN_Y_pred_a = KNN_reg_a.predict(X_test_a)\n",
    "\n",
    "        mae = mean_absolute_error(Y_test_a, KNN_Y_pred_a)\n",
    "\n",
    "        if (min_mae > mae):\n",
    "            min_mae = mae\n",
    "            min_i = i\n",
    "            min_j = j\n",
    "\n",
    "print(min_mae, min_i, min_j)"
   ]
  },
  {
   "cell_type": "markdown",
   "metadata": {},
   "source": [
    "### Saving model"
   ]
  },
  {
   "cell_type": "code",
   "execution_count": 21,
   "metadata": {},
   "outputs": [
    {
     "data": {
      "text/plain": [
       "['./model_SO_abs_ExtraTrees.joblib']"
      ]
     },
     "execution_count": 21,
     "metadata": {},
     "output_type": "execute_result"
    }
   ],
   "source": [
    "ET_regr_a = ExtraTreesRegressor(n_estimators=6, \n",
    "                                max_features=29,\n",
    "                                random_state=24\n",
    "                               )\n",
    "            \n",
    "ET_regr_a.fit(X_train_a, np.ravel(Y_train_a))\n",
    "ET_Y_pred_a = pd.DataFrame(ET_regr_a.predict(X_test_a))\n",
    "\n",
    "joblib.dump(ET_regr_a, \"./model_SO_abs_ExtraTrees.joblib\")"
   ]
  },
  {
   "cell_type": "markdown",
   "metadata": {},
   "source": [
    "## Analyzing"
   ]
  },
  {
   "cell_type": "code",
   "execution_count": 4,
   "metadata": {
    "scrolled": true
   },
   "outputs": [
    {
     "name": "stdout",
     "output_type": "stream",
     "text": [
      "Outputs           R2    Mean absolute error    Mean squared error    Root mean squared error\n",
      "----------  --------  ---------------------  --------------------  -------------------------\n",
      "Diameter    0.95207                0.254435              0.158734                   0.398414\n",
      "Absorption  0.702763              16.4624              571.828                     23.9129\n",
      "Emission    0.786619              10.6172              275.206                     16.5893\n"
     ]
    }
   ],
   "source": [
    "## Diameter\n",
    "\n",
    "DT_regr_d = DecisionTreeRegressor(max_depth=12,\n",
    "                                max_features=23,\n",
    "                                random_state=22)\n",
    "DT_regr_d.fit(X_train_d, np.ravel(Y_train_d))\n",
    "DT_Y_pred_d = DT_regr_d.predict(X_test_d)\n",
    "\n",
    "D_mae = mean_absolute_error(Y_test_d, DT_Y_pred_d)\n",
    "D_r_2 = r2_score(Y_test_d, DT_Y_pred_d)\n",
    "D_mse = mean_squared_error(Y_test_d, DT_Y_pred_d)\n",
    "D_rmse = mean_squared_error(Y_test_d, DT_Y_pred_d, squared=False)\n",
    "\n",
    "## Emission\n",
    "\n",
    "ET_regr_e = ExtraTreesRegressor(n_estimators=20,\n",
    "                            max_features=21,     \n",
    "                            random_state=23).fit(X_train_e, np.ravel(Y_train_e))\n",
    "\n",
    "                  \n",
    "ET_Y_pred_e = ET_regr_e.predict(X_test_e)\n",
    "\n",
    "E_mae = mean_absolute_error(Y_test_e, ET_Y_pred_e)\n",
    "E_r_2 = r2_score(Y_test_e, ET_Y_pred_e)\n",
    "E_mse = mean_squared_error(Y_test_e, ET_Y_pred_e)\n",
    "E_rmse = mean_squared_error(Y_test_e, ET_Y_pred_e, squared=False)\n",
    "\n",
    "\n",
    "### Absorption\n",
    "\n",
    "ET_regr_a = ExtraTreesRegressor(n_estimators=6, \n",
    "                                max_features=29,\n",
    "                                random_state=24)\n",
    "ET_regr_a.fit(X_train_a, np.ravel(Y_train_a))\n",
    "ET_Y_pred_a = ET_regr_a.predict(X_test_a)\n",
    "\n",
    "A_mae = mean_absolute_error(Y_test_a, ET_Y_pred_a)\n",
    "A_r_2 = r2_score(Y_test_a, ET_Y_pred_a)\n",
    "A_mse = mean_squared_error(Y_test_a, ET_Y_pred_a)\n",
    "A_rmse = mean_squared_error(Y_test_a, ET_Y_pred_a, squared=False)\n",
    "\n",
    "\n",
    "from tabulate import tabulate\n",
    "\n",
    "d = [ [\"Diameter\", D_r_2, D_mae, D_mse, D_rmse],\n",
    "     [\"Absorption\", A_r_2, A_mae, A_mse, A_rmse],\n",
    "     [\"Emission\", E_r_2, E_mae, E_mse, E_rmse]]\n",
    "\n",
    "print(tabulate(d, headers=[\"Outputs\", \"R2\", \"Mean absolute error\", \"Mean squared error\", \"Root mean squared error\"]))"
   ]
  },
  {
   "cell_type": "code",
   "execution_count": 5,
   "metadata": {},
   "outputs": [
    {
     "data": {
      "image/png": "[encoded data removed]",
      "text/plain": [
       "<Figure size 1440x360 with 3 Axes>"
      ]
     },
     "metadata": {
      "needs_background": "light"
     },
     "output_type": "display_data"
    }
   ],
   "source": [
    "fig, (ax1, ax2, ax3) = plt.subplots(1, 3, figsize=(20,5))\n",
    "fig.suptitle('Single Outputs', fontsize=25)\n",
    "\n",
    "ax1.plot(DT_Y_pred_d, Y_test_d, 'o')\n",
    "ax1.plot([1.5,9],[1.5,9], color = 'r')\n",
    "ax1.set_title('Diameter')\n",
    "ax1.set(xlabel='Predicted Values (nm)', ylabel='Observed Values (nm)')\n",
    "\n",
    "ax2.plot(ET_Y_pred_a, Y_test_a, 'o')\n",
    "ax2.plot([400,650],[400,650], color = 'r')\n",
    "ax2.set_title('Absorption')\n",
    "ax2.set(xlabel='Predicted Values (nm)', ylabel='Predicted Values (nm)')\n",
    "\n",
    "ax3.plot(ET_Y_pred_e, Y_test_e, 'o')\n",
    "ax3.plot([450,700],[450,700], color = 'r')\n",
    "ax3.set_title('Emission')\n",
    "ax3.set(xlabel='Predicted Values (nm)', ylabel='Observed Values (nm)')\n",
    "\n",
    "\n",
    "fig.tight_layout()"
   ]
  },
  {
   "cell_type": "markdown",
   "metadata": {},
   "source": [
    "## Feature importance"
   ]
  },
  {
   "cell_type": "markdown",
   "metadata": {},
   "source": [
    "### For diameter prediction"
   ]
  },
  {
   "cell_type": "code",
   "execution_count": 6,
   "metadata": {},
   "outputs": [
    {
     "data": {
      "text/plain": [
       "[('x5_zinc iodide', 0.3052670698153883),\n",
       " ('x0_indium trifluoroacetate', 0.1653654926657311),\n",
       " ('other_1_amount_mmol', 0.08967160290033858),\n",
       " ('temp_c', 0.08403330807813783),\n",
       " ('time_min', 0.05457237680774586),\n",
       " ('x1_tris(trimethylsilyl)phosphine', 0.05101478766804962),\n",
       " ('in_amount_mmol', 0.04415474669726785),\n",
       " ('x4_dioctylamine', 0.03887589806763587),\n",
       " ('total_volume_ml', 0.029933808614350625),\n",
       " ('ligand_amount_mmol', 0.018220031148425735),\n",
       " ('x2_myristic acid', 0.015716634375352947),\n",
       " ('x4_trioctylphosphine oxide', 0.014896892543705787),\n",
       " ('p_amount_mmol', 0.01160987034827529),\n",
       " ('x1_phosphine gas', 0.01122600064616027),\n",
       " ('x0_indium acetate', 0.009194272373244989),\n",
       " ('x2_None', 0.008861976193847073),\n",
       " ('x5_zinc chloride', 0.007945098919703191),\n",
       " ('x3_trioctylamine', 0.007941581603565118),\n",
       " ('x5_zinc octanoate', 0.005827685962851741),\n",
       " ('x2_lauric acid', 0.004965938406036889),\n",
       " ('other_2_amount_mmol', 0.004590822886056407),\n",
       " ('x1_tris(diethylamino)phosphine', 0.0036494693282470175),\n",
       " ('x6_copper bromide', 0.0034204017946390603),\n",
       " ('x0_indium palmitate', 0.002043518806832377),\n",
       " ('x1_tris(dimethylamino)phosphine', 0.0012677151959431803),\n",
       " ('x3_dodecylamine', 0.0012431097923187434),\n",
       " ('first_sol_amount_ml', 0.0011376132983430488),\n",
       " ('second_sol_amount_ml', 0.001055359883547528),\n",
       " ('x2_oleic acid', 0.0007078150794281626),\n",
       " ('x3_oleylamine', 0.0004896363439797011),\n",
       " ('x0_indium iodide', 0.00040633027657610934),\n",
       " ('x6_None', 0.0002348522112969021),\n",
       " ('x0_indium myristate', 0.00021194387883146021),\n",
       " ('x5_None', 0.00020319614890419138),\n",
       " ('x4_oleylamine', 2.6754256893889643e-05),\n",
       " ('x5_zinc undecylenate', 1.6386982347519168e-05),\n",
       " ('x2_palmitic acid', 4.277259649491785e-17),\n",
       " ('x0_chloroindium oxalate', 0.0),\n",
       " ('x0_indium bromide', 0.0),\n",
       " ('x0_indium chloride', 0.0),\n",
       " ('x0_indium oxalate', 0.0),\n",
       " ('x0_indium tris(N,N-diisopropylacetamidinato)', 0.0),\n",
       " ('x1_bis(trimethylsilyl)phosphine', 0.0),\n",
       " ('x1_phosphorus trichloride', 0.0),\n",
       " ('x1_sodium phosphide', 0.0),\n",
       " ('x1_tris(trimethylgermyl)phosphine', 0.0),\n",
       " ('x1_white phosphorus', 0.0),\n",
       " ('x2_dodecanethiol', 0.0),\n",
       " ('x2_stearic acid', 0.0),\n",
       " ('x3_4-ethylpyridine', 0.0),\n",
       " ('x3_None', 0.0),\n",
       " ('x3_dimethylformamide', 0.0),\n",
       " ('x3_mesitylene', 0.0),\n",
       " ('x3_octadecene', 0.0),\n",
       " ('x3_trioctylphosphine', 0.0),\n",
       " ('x3_trioctylphosphine oxide', 0.0),\n",
       " ('x4_None', 0.0),\n",
       " ('x4_dioctyl ether', 0.0),\n",
       " ('x4_hexadecylamine', 0.0),\n",
       " ('x4_octylamine', 0.0),\n",
       " ('x4_toluene', 0.0),\n",
       " ('x4_trioctylphosphine', 0.0),\n",
       " ('x5_acetic acid', 0.0),\n",
       " ('x5_superhydride', 0.0),\n",
       " ('x5_tetrabutylammonium myristate', 0.0),\n",
       " ('x5_zinc acetate', 0.0),\n",
       " ('x5_zinc bromide', 0.0),\n",
       " ('x5_zinc oleate', 0.0),\n",
       " ('x5_zinc stearate', 0.0),\n",
       " ('x6_oleic acid', 0.0),\n",
       " ('x6_trioctylphosphine', 0.0)]"
      ]
     },
     "execution_count": 6,
     "metadata": {},
     "output_type": "execute_result"
    }
   ],
   "source": [
    "importance_dict_d = dict()\n",
    "for i in range(0,71):\n",
    "    importance_dict_d[input_col[i]] = DT_regr_d.feature_importances_[i]\n",
    "\n",
    "sorted_importance_d = sorted(importance_dict_d.items(), key=lambda x: x[1], reverse=True)\n",
    "\n",
    "sorted_importance_d\n"
   ]
  },
  {
   "cell_type": "code",
   "execution_count": 7,
   "metadata": {},
   "outputs": [
    {
     "data": {
      "image/png": "[encoded data removed]",
      "text/plain": [
       "<Figure size 1490.4x595.44 with 1 Axes>"
      ]
     },
     "metadata": {
      "needs_background": "light"
     },
     "output_type": "display_data"
    }
   ],
   "source": [
    "top7_d = DataFrame(sorted_importance_d[0:7], columns=['features', 'importance score'])\n",
    "\n",
    "others_d = DataFrame(sorted_importance_d[7:], columns=['features', 'importance score'])\n",
    "\n",
    "\n",
    "import seaborn as sns\n",
    "\n",
    "a4_dims = (20.7, 8.27)\n",
    "fig, ax = plt.subplots(figsize=a4_dims)\n",
    "sns.set_theme(style=\"whitegrid\")\n",
    "\n",
    "ax = sns.barplot(x=\"features\", y=\"importance score\", data=top7_d)"
   ]
  },
  {
   "cell_type": "markdown",
   "metadata": {},
   "source": [
    "### Emission prediction"
   ]
  },
  {
   "cell_type": "code",
   "execution_count": 8,
   "metadata": {},
   "outputs": [
    {
     "data": {
      "text/plain": [
       "[('x4_trioctylphosphine oxide', 0.12704269997954157),\n",
       " ('temp_c', 0.12267759362136675),\n",
       " ('time_min', 0.08661944328526898),\n",
       " ('x5_zinc oleate', 0.07748706313681301),\n",
       " ('x5_zinc iodide', 0.056432231675025965),\n",
       " ('x5_None', 0.04337157481666639),\n",
       " ('x0_indium oxalate', 0.04005206203994747),\n",
       " ('x3_trioctylphosphine', 0.039514974383175965),\n",
       " ('x6_None', 0.03610703812778626),\n",
       " ('p_amount_mmol', 0.025213044029373587),\n",
       " ('x2_dodecanethiol', 0.024241935510960284),\n",
       " ('in_amount_mmol', 0.023046042764721008),\n",
       " ('other_1_amount_mmol', 0.01809213217867161),\n",
       " ('x4_dioctylamine', 0.016740277569371242),\n",
       " ('ligand_amount_mmol', 0.016273862189606022),\n",
       " ('x5_zinc bromide', 0.015636404726747724),\n",
       " ('total_volume_ml', 0.015116135027852194),\n",
       " ('second_sol_amount_ml', 0.012560204425753478),\n",
       " ('x2_stearic acid', 0.011885692326123173),\n",
       " ('x2_myristic acid', 0.01184857058122952),\n",
       " ('x0_indium iodide', 0.011372683296153398),\n",
       " ('first_sol_amount_ml', 0.010878530575961444),\n",
       " ('x5_zinc chloride', 0.01062296733753676),\n",
       " ('x5_acetic acid', 0.009199408197289488),\n",
       " ('x2_None', 0.00878879758325536),\n",
       " ('x2_lauric acid', 0.008685217319043958),\n",
       " ('x3_octadecene', 0.0077472929683135),\n",
       " ('x0_chloroindium oxalate', 0.006995946501425012),\n",
       " ('x0_indium acetate', 0.006839305387632271),\n",
       " ('x0_indium chloride', 0.006488561401225972),\n",
       " ('x2_oleic acid', 0.006332881247590047),\n",
       " ('x4_None', 0.0060329596972376115),\n",
       " ('x5_zinc stearate', 0.005942295251838456),\n",
       " ('x1_tris(diethylamino)phosphine', 0.005784335170814888),\n",
       " ('x4_trioctylphosphine', 0.00552500760656507),\n",
       " ('x4_hexadecylamine', 0.00528605046128978),\n",
       " ('x3_oleylamine', 0.005131093253850753),\n",
       " ('x5_zinc undecylenate', 0.0047111328398001685),\n",
       " ('other_2_amount_mmol', 0.00451500308771579),\n",
       " ('x1_tris(dimethylamino)phosphine', 0.004328376643410361),\n",
       " ('x5_zinc acetate', 0.004133270425255438),\n",
       " ('x1_tris(trimethylsilyl)phosphine', 0.004041912448204916),\n",
       " ('x1_white phosphorus', 0.003502006688261176),\n",
       " ('x4_oleylamine', 0.002725130029610835),\n",
       " ('x0_indium myristate', 0.0021135336943874016),\n",
       " ('x5_zinc octanoate', 0.0019805908720287014),\n",
       " ('x6_oleic acid', 0.0019472652570599687),\n",
       " ('x4_toluene', 0.0015664475536765405),\n",
       " ('x4_octylamine', 0.0015373225668208787),\n",
       " ('x3_dimethylformamide', 0.0014756833290661654),\n",
       " ('x1_phosphine gas', 0.0014115708680944665),\n",
       " ('x0_indium trifluoroacetate', 0.0010512631207976236),\n",
       " ('x5_superhydride', 0.0010473508082509003),\n",
       " ('x5_tetrabutylammonium myristate', 0.0009675930224427356),\n",
       " ('x0_indium bromide', 0.0009233604316041022),\n",
       " ('x0_indium tris(N,N-diisopropylacetamidinato)', 0.0008977561579390655),\n",
       " ('x1_sodium phosphide', 0.000885454254692876),\n",
       " ('x1_tris(trimethylgermyl)phosphine', 0.0007833235784159123),\n",
       " ('x6_copper bromide', 0.0007568138012030135),\n",
       " ('x2_palmitic acid', 0.000720433551756533),\n",
       " ('x6_trioctylphosphine', 0.0006454848721251831),\n",
       " ('x3_dodecylamine', 0.0005311409458568178),\n",
       " ('x3_4-ethylpyridine', 0.00047915701084409816),\n",
       " ('x3_trioctylphosphine oxide', 0.00025074202400118773),\n",
       " ('x1_phosphorus trichloride', 0.00020535474767343902),\n",
       " ('x3_None', 0.00020317173993345718),\n",
       " ('x1_bis(trimethylsilyl)phosphine', 0.0001732768177243926),\n",
       " ('x3_trioctylamine', 0.00013219045118021363),\n",
       " ('x3_mesitylene', 3.698663552332298e-05),\n",
       " ('x4_dioctyl ether', 3.575436084329268e-06),\n",
       " ('x0_indium palmitate', 1.939378832467053e-06)]"
      ]
     },
     "execution_count": 8,
     "metadata": {},
     "output_type": "execute_result"
    }
   ],
   "source": [
    "importance_dict_e = dict()\n",
    "for i in range(0,71):\n",
    "    importance_dict_e[input_col[i]] = ET_regr_e.feature_importances_[i]\n",
    "\n",
    "sorted_importance_e = sorted(importance_dict_e.items(), key=lambda x: x[1], reverse=True)\n",
    "\n",
    "\n",
    "sorted_importance_e\n"
   ]
  },
  {
   "cell_type": "code",
   "execution_count": 9,
   "metadata": {},
   "outputs": [
    {
     "data": {
      "image/png": "[encoded data removed]",
      "text/plain": [
       "<Figure size 1490.4x595.44 with 1 Axes>"
      ]
     },
     "metadata": {},
     "output_type": "display_data"
    }
   ],
   "source": [
    "top7_e = DataFrame(sorted_importance_e[0:7], columns=['features', 'importance score'])\n",
    "\n",
    "others_e = DataFrame(sorted_importance_e[7:], columns=['features', 'importance score'])\n",
    "\n",
    "# combined_others2 = pd.DataFrame(data = {\n",
    "#     'features' : ['others'],\n",
    "#     'importance score' : [others2['importance score'].sum()]\n",
    "# })\n",
    "\n",
    "# #combining top 10 with others\n",
    "# imp_score2 = pd.concat([top7, combined_others2])\n",
    "\n",
    "import seaborn as sns\n",
    "\n",
    "a4_dims = (20.7, 8.27)\n",
    "fig, ax = plt.subplots(figsize=a4_dims)\n",
    "sns.set_theme(style=\"whitegrid\")\n",
    "\n",
    "ax = sns.barplot(x=\"features\", y=\"importance score\", data=top7_e)"
   ]
  },
  {
   "cell_type": "markdown",
   "metadata": {},
   "source": [
    "### Absorption prediction"
   ]
  },
  {
   "cell_type": "code",
   "execution_count": 10,
   "metadata": {},
   "outputs": [
    {
     "data": {
      "text/plain": [
       "[('temp_c', 0.15533722408035391),\n",
       " ('time_min', 0.14054543088472385),\n",
       " ('x4_trioctylphosphine oxide', 0.06581724934875703),\n",
       " ('x5_zinc iodide', 0.05335473952742189),\n",
       " ('x2_dodecanethiol', 0.050875728891396986),\n",
       " ('x5_zinc oleate', 0.0466272228318089),\n",
       " ('x6_None', 0.038170951361949625),\n",
       " ('p_amount_mmol', 0.03400101681162822),\n",
       " ('x5_None', 0.03188870211182555),\n",
       " ('x5_zinc octanoate', 0.025535006379135933),\n",
       " ('in_amount_mmol', 0.023371787785380616),\n",
       " ('x5_zinc chloride', 0.01883371063523948),\n",
       " ('x0_indium oxalate', 0.01749325754745755),\n",
       " ('second_sol_amount_ml', 0.017187718408767986),\n",
       " ('x5_zinc bromide', 0.015966508958115088),\n",
       " ('x4_None', 0.014840388473106323),\n",
       " ('other_1_amount_mmol', 0.014583112876565942),\n",
       " ('total_volume_ml', 0.014161779748855257),\n",
       " ('ligand_amount_mmol', 0.013876341374132996),\n",
       " ('x2_stearic acid', 0.012775235971876249),\n",
       " ('other_2_amount_mmol', 0.012560012743884517),\n",
       " ('x5_acetic acid', 0.011945529188517151),\n",
       " ('x1_phosphorus trichloride', 0.010639694231750582),\n",
       " ('x4_octylamine', 0.010007473115738819),\n",
       " ('x1_phosphine gas', 0.009936896847049818),\n",
       " ('x4_dioctylamine', 0.00890448811155862),\n",
       " ('x5_zinc undecylenate', 0.008786995009086428),\n",
       " ('x0_indium iodide', 0.008472446672259472),\n",
       " ('x0_indium acetate', 0.00769489382940147),\n",
       " ('x5_zinc stearate', 0.0075415483479773825),\n",
       " ('x1_tris(trimethylsilyl)phosphine', 0.007186024693369766),\n",
       " ('first_sol_amount_ml', 0.0065768853104172485),\n",
       " ('x2_lauric acid', 0.005749076827062369),\n",
       " ('x0_indium chloride', 0.005285672574651412),\n",
       " ('x1_tris(dimethylamino)phosphine', 0.005150257610664819),\n",
       " ('x1_white phosphorus', 0.005084130356752171),\n",
       " ('x4_oleylamine', 0.004951244992624153),\n",
       " ('x3_dodecylamine', 0.004792032790118445),\n",
       " ('x2_palmitic acid', 0.004605819905995216),\n",
       " ('x5_tetrabutylammonium myristate', 0.0044301263649615475),\n",
       " ('x4_toluene', 0.0039219348175317725),\n",
       " ('x0_chloroindium oxalate', 0.003790680895146753),\n",
       " ('x4_trioctylphosphine', 0.003738087739758904),\n",
       " ('x6_copper bromide', 0.0030566346993833988),\n",
       " ('x3_trioctylphosphine oxide', 0.00297979716685373),\n",
       " ('x3_octadecene', 0.002909823689059685),\n",
       " ('x1_tris(diethylamino)phosphine', 0.0026456391887525778),\n",
       " ('x2_None', 0.0021560105164007484),\n",
       " ('x3_oleylamine', 0.0021085754890793123),\n",
       " ('x0_indium trifluoroacetate', 0.0019808167232147865),\n",
       " ('x2_myristic acid', 0.0018622211222239912),\n",
       " ('x1_tris(trimethylgermyl)phosphine', 0.0015142027729277176),\n",
       " ('x0_indium palmitate', 0.0014185803813684152),\n",
       " ('x2_oleic acid', 0.0013327705409680783),\n",
       " ('x3_mesitylene', 0.0012050703363587982),\n",
       " ('x3_dimethylformamide', 0.0011891865009162224),\n",
       " ('x3_None', 0.0011864462084354489),\n",
       " ('x3_trioctylphosphine', 0.0009005462982296089),\n",
       " ('x0_indium myristate', 0.0008720499944080412),\n",
       " ('x0_indium tris(N,N-diisopropylacetamidinato)', 0.0006321560791400757),\n",
       " ('x3_trioctylamine', 0.0003885041235889778),\n",
       " ('x0_indium bromide', 8.741634485416113e-05),\n",
       " ('x1_bis(trimethylsilyl)phosphine', 2.5561122193761018e-05),\n",
       " ('x5_zinc acetate', 1.407550781596755e-05),\n",
       " ('x1_sodium phosphide', 0.0),\n",
       " ('x3_4-ethylpyridine', 0.0),\n",
       " ('x4_dioctyl ether', 0.0),\n",
       " ('x4_hexadecylamine', 0.0),\n",
       " ('x5_superhydride', 0.0),\n",
       " ('x6_oleic acid', 0.0),\n",
       " ('x6_trioctylphosphine', 0.0)]"
      ]
     },
     "execution_count": 10,
     "metadata": {},
     "output_type": "execute_result"
    }
   ],
   "source": [
    "importance_dict_a = dict()\n",
    "for i in range(0,71):\n",
    "    importance_dict_a[input_col[i]] = ET_regr_a.feature_importances_[i]\n",
    "\n",
    "sorted_importance_a = sorted(importance_dict_a.items(), key=lambda x: x[1], reverse=True)\n",
    "\n",
    "sorted_importance_a"
   ]
  },
  {
   "cell_type": "code",
   "execution_count": 11,
   "metadata": {},
   "outputs": [
    {
     "data": {
      "image/png": "[encoded data removed]",
      "text/plain": [
       "<Figure size 1490.4x595.44 with 1 Axes>"
      ]
     },
     "metadata": {},
     "output_type": "display_data"
    }
   ],
   "source": [
    "top7_a = DataFrame(sorted_importance_a[0:7], columns=['features', 'importance score'])\n",
    "\n",
    "others_a = DataFrame(sorted_importance_a[7:], columns=['features', 'importance score'])\n",
    "\n",
    "import seaborn as sns\n",
    "\n",
    "a4_dims = (20.7, 8.27)\n",
    "fig, ax = plt.subplots(figsize=a4_dims)\n",
    "sns.set_theme(style=\"whitegrid\")\n",
    "\n",
    "ax = sns.barplot(x=\"features\", y=\"importance score\", data=top7_a)"
   ]
  },
  {
   "cell_type": "code",
   "execution_count": 12,
   "metadata": {},
   "outputs": [
    {
     "data": {
      "text/plain": [
       "{'in_amount_mmol': 0.023371787785380616,\n",
       " 'p_amount_mmol': 0.03400101681162822,\n",
       " 'ligand_amount_mmol': 0.013876341374132996,\n",
       " 'first_sol_amount_ml': 0.0065768853104172485,\n",
       " 'second_sol_amount_ml': 0.017187718408767986,\n",
       " 'other_1_amount_mmol': 0.014583112876565942,\n",
       " 'other_2_amount_mmol': 0.012560012743884517,\n",
       " 'total_volume_ml': 0.014161779748855257,\n",
       " 'temp_c': 0.15533722408035391,\n",
       " 'time_min': 0.14054543088472385,\n",
       " 'x0_chloroindium oxalate': 0.003790680895146753,\n",
       " 'x0_indium acetate': 0.00769489382940147,\n",
       " 'x0_indium bromide': 8.741634485416113e-05,\n",
       " 'x0_indium chloride': 0.005285672574651412,\n",
       " 'x0_indium iodide': 0.008472446672259472,\n",
       " 'x0_indium myristate': 0.0008720499944080412,\n",
       " 'x0_indium oxalate': 0.01749325754745755,\n",
       " 'x0_indium palmitate': 0.0014185803813684152,\n",
       " 'x0_indium trifluoroacetate': 0.0019808167232147865,\n",
       " 'x0_indium tris(N,N-diisopropylacetamidinato)': 0.0006321560791400757,\n",
       " 'x1_bis(trimethylsilyl)phosphine': 2.5561122193761018e-05,\n",
       " 'x1_phosphine gas': 0.009936896847049818,\n",
       " 'x1_phosphorus trichloride': 0.010639694231750582,\n",
       " 'x1_sodium phosphide': 0.0,\n",
       " 'x1_tris(diethylamino)phosphine': 0.0026456391887525778,\n",
       " 'x1_tris(dimethylamino)phosphine': 0.005150257610664819,\n",
       " 'x1_tris(trimethylgermyl)phosphine': 0.0015142027729277176,\n",
       " 'x1_tris(trimethylsilyl)phosphine': 0.007186024693369766,\n",
       " 'x1_white phosphorus': 0.005084130356752171,\n",
       " 'x2_None': 0.0021560105164007484,\n",
       " 'x2_dodecanethiol': 0.050875728891396986,\n",
       " 'x2_lauric acid': 0.005749076827062369,\n",
       " 'x2_myristic acid': 0.0018622211222239912,\n",
       " 'x2_oleic acid': 0.0013327705409680783,\n",
       " 'x2_palmitic acid': 0.004605819905995216,\n",
       " 'x2_stearic acid': 0.012775235971876249,\n",
       " 'x3_4-ethylpyridine': 0.0,\n",
       " 'x3_None': 0.0011864462084354489,\n",
       " 'x3_dimethylformamide': 0.0011891865009162224,\n",
       " 'x3_dodecylamine': 0.004792032790118445,\n",
       " 'x3_mesitylene': 0.0012050703363587982,\n",
       " 'x3_octadecene': 0.002909823689059685,\n",
       " 'x3_oleylamine': 0.0021085754890793123,\n",
       " 'x3_trioctylamine': 0.0003885041235889778,\n",
       " 'x3_trioctylphosphine': 0.0009005462982296089,\n",
       " 'x3_trioctylphosphine oxide': 0.00297979716685373,\n",
       " 'x4_None': 0.014840388473106323,\n",
       " 'x4_dioctyl ether': 0.0,\n",
       " 'x4_dioctylamine': 0.00890448811155862,\n",
       " 'x4_hexadecylamine': 0.0,\n",
       " 'x4_octylamine': 0.010007473115738819,\n",
       " 'x4_oleylamine': 0.004951244992624153,\n",
       " 'x4_toluene': 0.0039219348175317725,\n",
       " 'x4_trioctylphosphine': 0.003738087739758904,\n",
       " 'x4_trioctylphosphine oxide': 0.06581724934875703,\n",
       " 'x5_None': 0.03188870211182555,\n",
       " 'x5_acetic acid': 0.011945529188517151,\n",
       " 'x5_superhydride': 0.0,\n",
       " 'x5_tetrabutylammonium myristate': 0.0044301263649615475,\n",
       " 'x5_zinc acetate': 1.407550781596755e-05,\n",
       " 'x5_zinc bromide': 0.015966508958115088,\n",
       " 'x5_zinc chloride': 0.01883371063523948,\n",
       " 'x5_zinc iodide': 0.05335473952742189,\n",
       " 'x5_zinc octanoate': 0.025535006379135933,\n",
       " 'x5_zinc oleate': 0.0466272228318089,\n",
       " 'x5_zinc stearate': 0.0075415483479773825,\n",
       " 'x5_zinc undecylenate': 0.008786995009086428,\n",
       " 'x6_None': 0.038170951361949625,\n",
       " 'x6_copper bromide': 0.0030566346993833988,\n",
       " 'x6_oleic acid': 0.0,\n",
       " 'x6_trioctylphosphine': 0.0}"
      ]
     },
     "execution_count": 12,
     "metadata": {},
     "output_type": "execute_result"
    }
   ],
   "source": [
    "importance_dict_a"
   ]
  },
  {
   "cell_type": "markdown",
   "metadata": {},
   "source": [
    "### Combine\n"
   ]
  },
  {
   "cell_type": "code",
   "execution_count": 13,
   "metadata": {},
   "outputs": [],
   "source": [
    "sorted_a = sorted(importance_dict_a.items(), key=lambda x: x[0], reverse=False)\n",
    "sorted_d = sorted(importance_dict_d.items(), key=lambda x: x[0], reverse=False)\n",
    "sorted_e = sorted(importance_dict_e.items(), key=lambda x: x[0], reverse=False)\n"
   ]
  },
  {
   "cell_type": "code",
   "execution_count": 14,
   "metadata": {
    "scrolled": true
   },
   "outputs": [
    {
     "data": {
      "text/plain": [
       "[('first_sol_amount_ml', 0.0011376132983430488),\n",
       " ('in_amount_mmol', 0.04415474669726785),\n",
       " ('ligand_amount_mmol', 0.018220031148425735),\n",
       " ('other_1_amount_mmol', 0.08967160290033858),\n",
       " ('other_2_amount_mmol', 0.004590822886056407),\n",
       " ('p_amount_mmol', 0.01160987034827529),\n",
       " ('second_sol_amount_ml', 0.001055359883547528),\n",
       " ('temp_c', 0.08403330807813783),\n",
       " ('time_min', 0.05457237680774586),\n",
       " ('total_volume_ml', 0.029933808614350625),\n",
       " ('x0_chloroindium oxalate', 0.0),\n",
       " ('x0_indium acetate', 0.009194272373244989),\n",
       " ('x0_indium bromide', 0.0),\n",
       " ('x0_indium chloride', 0.0),\n",
       " ('x0_indium iodide', 0.00040633027657610934),\n",
       " ('x0_indium myristate', 0.00021194387883146021),\n",
       " ('x0_indium oxalate', 0.0),\n",
       " ('x0_indium palmitate', 0.002043518806832377),\n",
       " ('x0_indium trifluoroacetate', 0.1653654926657311),\n",
       " ('x0_indium tris(N,N-diisopropylacetamidinato)', 0.0),\n",
       " ('x1_bis(trimethylsilyl)phosphine', 0.0),\n",
       " ('x1_phosphine gas', 0.01122600064616027),\n",
       " ('x1_phosphorus trichloride', 0.0),\n",
       " ('x1_sodium phosphide', 0.0),\n",
       " ('x1_tris(diethylamino)phosphine', 0.0036494693282470175),\n",
       " ('x1_tris(dimethylamino)phosphine', 0.0012677151959431803),\n",
       " ('x1_tris(trimethylgermyl)phosphine', 0.0),\n",
       " ('x1_tris(trimethylsilyl)phosphine', 0.05101478766804962),\n",
       " ('x1_white phosphorus', 0.0),\n",
       " ('x2_None', 0.008861976193847073),\n",
       " ('x2_dodecanethiol', 0.0),\n",
       " ('x2_lauric acid', 0.004965938406036889),\n",
       " ('x2_myristic acid', 0.015716634375352947),\n",
       " ('x2_oleic acid', 0.0007078150794281626),\n",
       " ('x2_palmitic acid', 4.277259649491785e-17),\n",
       " ('x2_stearic acid', 0.0),\n",
       " ('x3_4-ethylpyridine', 0.0),\n",
       " ('x3_None', 0.0),\n",
       " ('x3_dimethylformamide', 0.0),\n",
       " ('x3_dodecylamine', 0.0012431097923187434),\n",
       " ('x3_mesitylene', 0.0),\n",
       " ('x3_octadecene', 0.0),\n",
       " ('x3_oleylamine', 0.0004896363439797011),\n",
       " ('x3_trioctylamine', 0.007941581603565118),\n",
       " ('x3_trioctylphosphine', 0.0),\n",
       " ('x3_trioctylphosphine oxide', 0.0),\n",
       " ('x4_None', 0.0),\n",
       " ('x4_dioctyl ether', 0.0),\n",
       " ('x4_dioctylamine', 0.03887589806763587),\n",
       " ('x4_hexadecylamine', 0.0),\n",
       " ('x4_octylamine', 0.0),\n",
       " ('x4_oleylamine', 2.6754256893889643e-05),\n",
       " ('x4_toluene', 0.0),\n",
       " ('x4_trioctylphosphine', 0.0),\n",
       " ('x4_trioctylphosphine oxide', 0.014896892543705787),\n",
       " ('x5_None', 0.00020319614890419138),\n",
       " ('x5_acetic acid', 0.0),\n",
       " ('x5_superhydride', 0.0),\n",
       " ('x5_tetrabutylammonium myristate', 0.0),\n",
       " ('x5_zinc acetate', 0.0),\n",
       " ('x5_zinc bromide', 0.0),\n",
       " ('x5_zinc chloride', 0.007945098919703191),\n",
       " ('x5_zinc iodide', 0.3052670698153883),\n",
       " ('x5_zinc octanoate', 0.005827685962851741),\n",
       " ('x5_zinc oleate', 0.0),\n",
       " ('x5_zinc stearate', 0.0),\n",
       " ('x5_zinc undecylenate', 1.6386982347519168e-05),\n",
       " ('x6_None', 0.0002348522112969021),\n",
       " ('x6_copper bromide', 0.0034204017946390603),\n",
       " ('x6_oleic acid', 0.0),\n",
       " ('x6_trioctylphosphine', 0.0)]"
      ]
     },
     "execution_count": 14,
     "metadata": {},
     "output_type": "execute_result"
    }
   ],
   "source": [
    "sorted_d "
   ]
  },
  {
   "cell_type": "code",
   "execution_count": 15,
   "metadata": {},
   "outputs": [],
   "source": [
    "combined_importance = dict()"
   ]
  },
  {
   "cell_type": "code",
   "execution_count": 16,
   "metadata": {},
   "outputs": [
    {
     "data": {
      "text/plain": [
       "{'first_sol_amount_ml': 0.018593029184721742,\n",
       " 'in_amount_mmol': 0.09057257724736947,\n",
       " 'ligand_amount_mmol': 0.048370234712164756,\n",
       " 'other_1_amount_mmol': 0.12234684795557613,\n",
       " 'other_2_amount_mmol': 0.021665838717656715,\n",
       " 'p_amount_mmol': 0.0708239311892771,\n",
       " 'second_sol_amount_ml': 0.03080328271806899,\n",
       " 'temp_c': 0.36204812577985845,\n",
       " 'time_min': 0.28173725097773866,\n",
       " 'total_volume_ml': 0.059211723391058076,\n",
       " 'x0_chloroindium oxalate': 0.010786627396571765,\n",
       " 'x0_indium acetate': 0.02372847159027873,\n",
       " 'x0_indium bromide': 0.0010107767764582633,\n",
       " 'x0_indium chloride': 0.011774233975877384,\n",
       " 'x0_indium iodide': 0.02025146024498898,\n",
       " 'x0_indium myristate': 0.0031975275676269033,\n",
       " 'x0_indium oxalate': 0.05754531958740502,\n",
       " 'x0_indium palmitate': 0.0034640385670332593,\n",
       " 'x0_indium trifluoroacetate': 0.16839757250974352,\n",
       " 'x0_indium tris(N,N-diisopropylacetamidinato)': 0.001529912237079141,\n",
       " 'x1_bis(trimethylsilyl)phosphine': 0.0001988379399181536,\n",
       " 'x1_phosphine gas': 0.022574468361304556,\n",
       " 'x1_phosphorus trichloride': 0.01084504897942402,\n",
       " 'x1_sodium phosphide': 0.000885454254692876,\n",
       " 'x1_tris(diethylamino)phosphine': 0.012079443687814483,\n",
       " 'x1_tris(dimethylamino)phosphine': 0.010746349450018362,\n",
       " 'x1_tris(trimethylgermyl)phosphine': 0.00229752635134363,\n",
       " 'x1_tris(trimethylsilyl)phosphine': 0.062242724809624304,\n",
       " 'x1_white phosphorus': 0.008586137045013348,\n",
       " 'x2_None': 0.01980678429350318,\n",
       " 'x2_dodecanethiol': 0.07511766440235727,\n",
       " 'x2_lauric acid': 0.019400232552143216,\n",
       " 'x2_myristic acid': 0.029427426078806457,\n",
       " 'x2_oleic acid': 0.008373466867986288,\n",
       " 'x2_palmitic acid': 0.005326253457751792,\n",
       " 'x2_stearic acid': 0.024660928297999422,\n",
       " 'x3_4-ethylpyridine': 0.00047915701084409816,\n",
       " 'x3_None': 0.001389617948368906,\n",
       " 'x3_dimethylformamide': 0.0026648698299823878,\n",
       " 'x3_dodecylamine': 0.006566283528294007,\n",
       " 'x3_mesitylene': 0.001242056971882121,\n",
       " 'x3_octadecene': 0.010657116657373185,\n",
       " 'x3_oleylamine': 0.007729305086909766,\n",
       " 'x3_trioctylamine': 0.008462276178334309,\n",
       " 'x3_trioctylphosphine': 0.040415520681405574,\n",
       " 'x3_trioctylphosphine oxide': 0.0032305391908549175,\n",
       " 'x4_None': 0.020873348170343933,\n",
       " 'x4_dioctyl ether': 3.575436084329268e-06,\n",
       " 'x4_dioctylamine': 0.06452066374856573,\n",
       " 'x4_hexadecylamine': 0.00528605046128978,\n",
       " 'x4_octylamine': 0.011544795682559698,\n",
       " 'x4_oleylamine': 0.007703129279128877,\n",
       " 'x4_toluene': 0.005488382371208313,\n",
       " 'x4_trioctylphosphine': 0.009263095346323974,\n",
       " 'x4_trioctylphosphine oxide': 0.20775684187200438,\n",
       " 'x5_None': 0.07546347307739613,\n",
       " 'x5_acetic acid': 0.02114493738580664,\n",
       " 'x5_superhydride': 0.0010473508082509003,\n",
       " 'x5_tetrabutylammonium myristate': 0.005397719387404283,\n",
       " 'x5_zinc acetate': 0.004147345933071406,\n",
       " 'x5_zinc bromide': 0.031602913684862816,\n",
       " 'x5_zinc chloride': 0.03740177689247943,\n",
       " 'x5_zinc iodide': 0.41505404101783616,\n",
       " 'x5_zinc octanoate': 0.033343283214016375,\n",
       " 'x5_zinc oleate': 0.12411428596862192,\n",
       " 'x5_zinc stearate': 0.013483843599815838,\n",
       " 'x5_zinc undecylenate': 0.013514514831234116,\n",
       " 'x6_None': 0.07451284170103278,\n",
       " 'x6_copper bromide': 0.0072338502952254725,\n",
       " 'x6_oleic acid': 0.0019472652570599687,\n",
       " 'x6_trioctylphosphine': 0.0006454848721251831}"
      ]
     },
     "execution_count": 16,
     "metadata": {},
     "output_type": "execute_result"
    }
   ],
   "source": [
    "for i in range(0,71):\n",
    "    combined_importance[sorted_e[i][0]] = sorted_e[i][1] + sorted_a[i][1] + sorted_d[i][1]\n",
    "combined_importance\n"
   ]
  },
  {
   "cell_type": "code",
   "execution_count": 17,
   "metadata": {},
   "outputs": [
    {
     "data": {
      "text/plain": [
       "[('x5_zinc iodide', 0.41505404101783616),\n",
       " ('temp_c', 0.36204812577985845),\n",
       " ('time_min', 0.28173725097773866),\n",
       " ('x4_trioctylphosphine oxide', 0.20775684187200438),\n",
       " ('x0_indium trifluoroacetate', 0.16839757250974352),\n",
       " ('x5_zinc oleate', 0.12411428596862192),\n",
       " ('other_1_amount_mmol', 0.12234684795557613),\n",
       " ('in_amount_mmol', 0.09057257724736947),\n",
       " ('x5_None', 0.07546347307739613),\n",
       " ('x2_dodecanethiol', 0.07511766440235727),\n",
       " ('x6_None', 0.07451284170103278),\n",
       " ('p_amount_mmol', 0.0708239311892771),\n",
       " ('x4_dioctylamine', 0.06452066374856573),\n",
       " ('x1_tris(trimethylsilyl)phosphine', 0.062242724809624304),\n",
       " ('total_volume_ml', 0.059211723391058076),\n",
       " ('x0_indium oxalate', 0.05754531958740502),\n",
       " ('ligand_amount_mmol', 0.048370234712164756),\n",
       " ('x3_trioctylphosphine', 0.040415520681405574),\n",
       " ('x5_zinc chloride', 0.03740177689247943),\n",
       " ('x5_zinc octanoate', 0.033343283214016375),\n",
       " ('x5_zinc bromide', 0.031602913684862816),\n",
       " ('second_sol_amount_ml', 0.03080328271806899),\n",
       " ('x2_myristic acid', 0.029427426078806457),\n",
       " ('x2_stearic acid', 0.024660928297999422),\n",
       " ('x0_indium acetate', 0.02372847159027873),\n",
       " ('x1_phosphine gas', 0.022574468361304556),\n",
       " ('other_2_amount_mmol', 0.021665838717656715),\n",
       " ('x5_acetic acid', 0.02114493738580664),\n",
       " ('x4_None', 0.020873348170343933),\n",
       " ('x0_indium iodide', 0.02025146024498898),\n",
       " ('x2_None', 0.01980678429350318),\n",
       " ('x2_lauric acid', 0.019400232552143216),\n",
       " ('first_sol_amount_ml', 0.018593029184721742),\n",
       " ('x5_zinc undecylenate', 0.013514514831234116),\n",
       " ('x5_zinc stearate', 0.013483843599815838),\n",
       " ('x1_tris(diethylamino)phosphine', 0.012079443687814483),\n",
       " ('x0_indium chloride', 0.011774233975877384),\n",
       " ('x4_octylamine', 0.011544795682559698),\n",
       " ('x1_phosphorus trichloride', 0.01084504897942402),\n",
       " ('x0_chloroindium oxalate', 0.010786627396571765),\n",
       " ('x1_tris(dimethylamino)phosphine', 0.010746349450018362),\n",
       " ('x3_octadecene', 0.010657116657373185),\n",
       " ('x4_trioctylphosphine', 0.009263095346323974),\n",
       " ('x1_white phosphorus', 0.008586137045013348),\n",
       " ('x3_trioctylamine', 0.008462276178334309),\n",
       " ('x2_oleic acid', 0.008373466867986288),\n",
       " ('x3_oleylamine', 0.007729305086909766),\n",
       " ('x4_oleylamine', 0.007703129279128877),\n",
       " ('x6_copper bromide', 0.0072338502952254725),\n",
       " ('x3_dodecylamine', 0.006566283528294007),\n",
       " ('x4_toluene', 0.005488382371208313),\n",
       " ('x5_tetrabutylammonium myristate', 0.005397719387404283),\n",
       " ('x2_palmitic acid', 0.005326253457751792),\n",
       " ('x4_hexadecylamine', 0.00528605046128978),\n",
       " ('x5_zinc acetate', 0.004147345933071406),\n",
       " ('x0_indium palmitate', 0.0034640385670332593),\n",
       " ('x3_trioctylphosphine oxide', 0.0032305391908549175),\n",
       " ('x0_indium myristate', 0.0031975275676269033),\n",
       " ('x3_dimethylformamide', 0.0026648698299823878),\n",
       " ('x1_tris(trimethylgermyl)phosphine', 0.00229752635134363),\n",
       " ('x6_oleic acid', 0.0019472652570599687),\n",
       " ('x0_indium tris(N,N-diisopropylacetamidinato)', 0.001529912237079141),\n",
       " ('x3_None', 0.001389617948368906),\n",
       " ('x3_mesitylene', 0.001242056971882121),\n",
       " ('x5_superhydride', 0.0010473508082509003),\n",
       " ('x0_indium bromide', 0.0010107767764582633),\n",
       " ('x1_sodium phosphide', 0.000885454254692876),\n",
       " ('x6_trioctylphosphine', 0.0006454848721251831),\n",
       " ('x3_4-ethylpyridine', 0.00047915701084409816),\n",
       " ('x1_bis(trimethylsilyl)phosphine', 0.0001988379399181536),\n",
       " ('x4_dioctyl ether', 3.575436084329268e-06)]"
      ]
     },
     "execution_count": 17,
     "metadata": {},
     "output_type": "execute_result"
    }
   ],
   "source": [
    "sorted_combined_importance = sorted(combined_importance.items(), key=lambda x: x[1], reverse=True)\n",
    "\n",
    "sorted_combined_importance "
   ]
  },
  {
   "cell_type": "code",
   "execution_count": 18,
   "metadata": {},
   "outputs": [
    {
     "data": {
      "image/png": "[encoded data removed]",
      "text/plain": [
       "<Figure size 1490.4x595.44 with 1 Axes>"
      ]
     },
     "metadata": {},
     "output_type": "display_data"
    }
   ],
   "source": [
    "top7_combined = DataFrame(sorted_combined_importance[0:7], columns=['features', 'importance score'])\n",
    "\n",
    "others_combined = DataFrame(sorted_combined_importance [7:], columns=['features', 'importance score'])\n",
    "\n",
    "import seaborn as sns\n",
    "\n",
    "a4_dims = (20.7, 8.27)\n",
    "fig, ax = plt.subplots(figsize=a4_dims)\n",
    "sns.set_theme(style=\"whitegrid\")\n",
    "\n",
    "ax = sns.barplot(x=\"features\", y=\"importance score\", data=top7_combined)"
   ]
  },
  {
   "cell_type": "code",
   "execution_count": 20,
   "metadata": {},
   "outputs": [],
   "source": [
    "from sklearn.datasets import load_boston\n",
    "import pandas as pd\n",
    "import numpy as np\n",
    "import matplotlib\n",
    "import matplotlib.pyplot as plt\n",
    "import seaborn as sns\n",
    "import statsmodels.api as sm\n",
    "%matplotlib inline\n",
    "from sklearn.model_selection import train_test_split\n",
    "from sklearn.linear_model import LinearRegression\n",
    "from sklearn.feature_selection import RFE\n",
    "from sklearn.linear_model import RidgeCV, LassoCV, Ridge, Lasso"
   ]
  },
  {
   "cell_type": "code",
   "execution_count": null,
   "metadata": {},
   "outputs": [],
   "source": []
  }
 ],
 "metadata": {
  "kernelspec": {
   "display_name": "Python 3",
   "language": "python",
   "name": "python3"
  },
  "language_info": {
   "codemirror_mode": {
    "name": "ipython",
    "version": 3
   },
   "file_extension": ".py",
   "mimetype": "text/x-python",
   "name": "python",
   "nbconvert_exporter": "python",
   "pygments_lexer": "ipython3",
   "version": "3.8.5"
  }
 },
 "nbformat": 4,
 "nbformat_minor": 4
}
