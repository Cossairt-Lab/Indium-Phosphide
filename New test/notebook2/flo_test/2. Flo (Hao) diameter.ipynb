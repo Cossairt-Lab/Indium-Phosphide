{
 "cells": [
  {
   "cell_type": "code",
   "execution_count": 9,
   "metadata": {},
   "outputs": [],
   "source": [
    "# Pandas dataframe\n",
    "import pandas as pd\n",
    "from pandas import DataFrame\n",
    "\n",
    "# Scikit-Learn\n",
    "import sklearn \n",
    "from sklearn import datasets, linear_model, metrics, tree\n",
    "from sklearn.model_selection import train_test_split, LeaveOneOut, KFold, cross_validate, RandomizedSearchCV\n",
    "from sklearn.metrics import r2_score, mean_squared_error, mean_absolute_error, accuracy_score\n",
    "\n",
    "# Models\n",
    "from sklearn.linear_model import LinearRegression, ElasticNet, Lasso, Ridge\n",
    "from sklearn.ensemble import (BaggingRegressor, ExtraTreesRegressor, GradientBoostingRegressor, \n",
    "RandomForestRegressor, AdaBoostRegressor)\n",
    "from sklearn.svm import SVR\n",
    "from sklearn.tree import DecisionTreeRegressor\n",
    "        \n",
    "import joblib\n",
    "from matplotlib import pyplot as plt\n",
    "import numpy as np\n",
    "import os\n",
    "from tqdm import tqdm"
   ]
  },
  {
   "cell_type": "code",
   "execution_count": 10,
   "metadata": {
    "scrolled": true
   },
   "outputs": [],
   "source": [
    "df_diam = pd.read_csv(\"../hao/dataset_scaled_diameter.csv\")"
   ]
  },
  {
   "cell_type": "code",
   "execution_count": 11,
   "metadata": {},
   "outputs": [],
   "source": [
    "#Checks the column names, and ensures that they do not have any leading or trailing spaces\n",
    "df_diam.columns = df_diam.columns.str.strip()"
   ]
  },
  {
   "cell_type": "code",
   "execution_count": 12,
   "metadata": {},
   "outputs": [],
   "source": [
    "# Input for ML models\n",
    "\n",
    "input_col = ['in_amount_mmol',\n",
    "             'p_amount_mmol',\n",
    "             'sol_amount_ml',\n",
    "             'TOP_amount_mmol',\n",
    "             'acid_amount_mmol',\n",
    "             'amine_amount_mmol',\n",
    "             'thiol_amount_mmol',\n",
    "             'zinc_amount_mmol',\n",
    "             'other_amount_mmol',\n",
    "             'total_volume_ml',\n",
    "             'temp_c',\n",
    "             'time_min',\n",
    "             'x0_chloroindium oxalate',\n",
    "             'x0_indium acetate',\n",
    "             'x0_indium bromide',\n",
    "             'x0_indium chloride',\n",
    "             'x0_indium iodide',\n",
    "             'x0_indium myristate',\n",
    "             'x0_indium oxalate',\n",
    "             'x0_indium palmitate',\n",
    "             'x0_indium trifluoroacetate',\n",
    "             'x0_indium tris(N,N-diisopropylacetamidinato)',\n",
    "             'x1_bis(trimethylsilyl)phosphine',\n",
    "             'x1_phosphine gas',\n",
    "             'x1_phosphorus trichloride',\n",
    "             'x1_sodium phosphide',\n",
    "             'x1_tris(diethylamino)phosphine',\n",
    "             'x1_tris(dimethylamino)phosphine',\n",
    "             'x1_tris(trimethylgermyl)phosphine',\n",
    "             'x1_tris(trimethylsilyl)phosphine',\n",
    "             'x1_white phosphorus',\n",
    "             'x2_4-ethylpyridine',\n",
    "             'x2_None',\n",
    "             'x2_dimethylformamide',\n",
    "             'x2_mesitylene',\n",
    "             'x2_octadecene',\n",
    "             'x2_toluene',\n",
    "             'x3_None',\n",
    "             'x3_trioctylphosphine',\n",
    "             'x4_None',\n",
    "             'x4_lauric acid',\n",
    "             'x4_myristic acid',\n",
    "             'x4_oleic acid',\n",
    "             'x4_palmitic acid',\n",
    "             'x4_stearic acid',\n",
    "             'x5_None',\n",
    "             'x5_dioctylamine',\n",
    "             'x5_dodecylamine',\n",
    "             'x5_hexadecylamine',\n",
    "             'x5_octylamine',\n",
    "             'x5_oleylamine',\n",
    "             'x6_None',\n",
    "             'x6_dodecanethiol',\n",
    "             'x7_None',\n",
    "             'x7_zinc acetate',\n",
    "             'x7_zinc bromide',\n",
    "             'x7_zinc chloride',\n",
    "             'x7_zinc iodide',\n",
    "             'x7_zinc octanoate',\n",
    "             'x7_zinc oleate',\n",
    "             'x7_zinc stearate',\n",
    "             'x7_zinc undecylenate',\n",
    "             'x8_None',\n",
    "             'x8_acetic acid',\n",
    "             'x8_copper bromide',\n",
    "             'x8_superhydride',\n",
    "             'x8_oleic acid',\n",
    "             'x8_tetrabutylammonium myristate',\n",
    "             'x8_trioctylamine',\n",
    "             'x8_trioctylphosphine oxide',\n",
    "             'x8_water',\n",
    "             'x8_zinc iodide'\n",
    "            ]\n",
    "\n",
    "output_col = ['diameter_nm']\n",
    "\n",
    "X = df_diam[input_col]\n",
    "\n",
    "Y = df_diam[output_col]"
   ]
  },
  {
   "cell_type": "code",
   "execution_count": 13,
   "metadata": {},
   "outputs": [],
   "source": [
    "# Splitting dataset for training\n",
    "X_train, X_test, Y_train, Y_test = train_test_split(X, Y, test_size=0.2, random_state=45, shuffle=True)"
   ]
  },
  {
   "cell_type": "markdown",
   "metadata": {},
   "source": [
    "# Hyper parameter tuning\n",
    "## Ensemble regressors"
   ]
  },
  {
   "cell_type": "markdown",
   "metadata": {},
   "source": [
    "### Bagging"
   ]
  },
  {
   "cell_type": "code",
   "execution_count": 14,
   "metadata": {},
   "outputs": [
    {
     "name": "stdout",
     "output_type": "stream",
     "text": [
      "Fitting 5 folds for each of 200 candidates, totalling 1000 fits\n",
      "Best MAE Score Through Random Search : -0.911\n",
      "Best Parameters :  {'n_estimators': 39}\n",
      "CPU times: user 3.01 s, sys: 124 ms, total: 3.14 s\n",
      "Wall time: 4min 8s\n"
     ]
    }
   ],
   "source": [
    "%%time\n",
    "\n",
    "#sklearn random search over n iterations\n",
    "#define ranges of paramaters to tune\n",
    "#the internet tunes these parameters for bagging\n",
    "\n",
    "params = {'n_estimators': range(10,1001)}\n",
    "\n",
    "#n_jobs runs jobs in parallel, verbose prints updates in command line\n",
    "rs_bag = RandomizedSearchCV(BaggingRegressor(), param_distributions=params, n_iter=200, n_jobs=-1, verbose=10,\n",
    "                           scoring='neg_mean_absolute_error')\n",
    "rs_bag.fit(X, np.ravel(Y))\n",
    "\n",
    "print('Best MAE Score Through Random Search : %.3f'%rs_bag.best_score_)\n",
    "print('Best Parameters : ',rs_bag.best_params_)"
   ]
  },
  {
   "cell_type": "code",
   "execution_count": 22,
   "metadata": {},
   "outputs": [
    {
     "name": "stdout",
     "output_type": "stream",
     "text": [
      "Mean absolute error = 0.922 nm\n"
     ]
    },
    {
     "data": {
      "image/png": "[encoded data removed]",
      "text/plain": [
       "<Figure size 432x288 with 1 Axes>"
      ]
     },
     "metadata": {
      "needs_background": "light"
     },
     "output_type": "display_data"
    }
   ],
   "source": [
    "#using random search parameters\n",
    "B_regr = BaggingRegressor(n_estimators=39)\n",
    "B_regr.fit(X_train, np.ravel(Y_train))\n",
    "            \n",
    "B_Y_pred = B_regr.predict(X_test)\n",
    "            \n",
    "B_mae = mean_absolute_error(Y_test, B_Y_pred)\n",
    "print(\"Mean absolute error =\", round(B_mae,3), 'nm')\n",
    "\n",
    "plt.figure()\n",
    "plt.title(\"Bagging\")\n",
    "plt.plot(Y_test, B_Y_pred, 'o')\n",
    "plt.xlabel('Observed Values (nm)')\n",
    "plt.ylabel('Predicted Values (nm)')\n",
    "plt.plot([1,6],[1,6], color = 'r')\n",
    "plt.text(1, 5, 'MAE=' , fontdict=None)\n",
    "plt.text(1.49, 5, round(B_mae,3) , fontdict=None)\n",
    "plt.text(1.94, 5, 'nm', fontdict=None)\n",
    "plt.show()"
   ]
  },
  {
   "cell_type": "markdown",
   "metadata": {},
   "source": [
    "### Random Forest"
   ]
  },
  {
   "cell_type": "code",
   "execution_count": 23,
   "metadata": {},
   "outputs": [
    {
     "name": "stdout",
     "output_type": "stream",
     "text": [
      "Fitting 5 folds for each of 200 candidates, totalling 1000 fits\n",
      "Best MAE Score Through Random Search : -0.906\n",
      "Best Parameters :  {'n_estimators': 147}\n",
      "CPU times: user 3.4 s, sys: 86.2 ms, total: 3.48 s\n",
      "Wall time: 3min 48s\n"
     ]
    }
   ],
   "source": [
    "%%time\n",
    "\n",
    "#sklearn random search\n",
    "\n",
    "params = {'n_estimators': range(100,1001)}\n",
    "\n",
    "#n_jobs runs jobs in parallel, verbose prints updates\n",
    "rs_rf = RandomizedSearchCV(RandomForestRegressor(), param_distributions=params, n_iter=200, n_jobs=-1, verbose=10,\n",
    "                           scoring='neg_mean_absolute_error')\n",
    "rs_rf.fit(X, np.ravel(Y))\n",
    "\n",
    "print('Best MAE Score Through Random Search : %.3f'%rs_rf.best_score_)\n",
    "print('Best Parameters : ',rs_rf.best_params_)"
   ]
  },
  {
   "cell_type": "code",
   "execution_count": 32,
   "metadata": {},
   "outputs": [
    {
     "name": "stdout",
     "output_type": "stream",
     "text": [
      "Mean absolute error = 0.876 nm\n"
     ]
    },
    {
     "data": {
      "image/png": "[encoded data removed]",
      "text/plain": [
       "<Figure size 432x288 with 1 Axes>"
      ]
     },
     "metadata": {
      "needs_background": "light"
     },
     "output_type": "display_data"
    }
   ],
   "source": [
    "#using grid search parameters\n",
    "RF_regr = RandomForestRegressor(n_estimators=147)\n",
    "RF_regr.fit(X_train, np.ravel(Y_train))\n",
    "            \n",
    "RF_Y_pred = RF_regr.predict(X_test)\n",
    "            \n",
    "RF_mae = mean_absolute_error(Y_test, RF_Y_pred)\n",
    "print(\"Mean absolute error =\", round(RF_mae,3), 'nm')\n",
    "\n",
    "plt.figure()\n",
    "plt.title(\"Random Forest\")\n",
    "plt.plot(Y_test, RF_Y_pred, 'o')\n",
    "plt.xlabel('Observed Values (nm)')\n",
    "plt.ylabel('Predicted Values (nm)')\n",
    "plt.plot([1,6],[1,6], color = 'r')\n",
    "plt.text(1, 5, 'MAE=' , fontdict=None)\n",
    "plt.text(1.49, 5, round(RF_mae,3) , fontdict=None)\n",
    "plt.text(1.94, 5, 'nm', fontdict=None)\n",
    "plt.show()"
   ]
  },
  {
   "cell_type": "markdown",
   "metadata": {},
   "source": [
    "### Decision Tree"
   ]
  },
  {
   "cell_type": "code",
   "execution_count": 40,
   "metadata": {},
   "outputs": [
    {
     "name": "stdout",
     "output_type": "stream",
     "text": [
      "Mean absolute error = 1.133 nm\n"
     ]
    },
    {
     "data": {
      "image/png": "[encoded data removed]",
      "text/plain": [
       "<Figure size 432x288 with 1 Axes>"
      ]
     },
     "metadata": {
      "needs_background": "light"
     },
     "output_type": "display_data"
    }
   ],
   "source": [
    "#using grid search parameters\n",
    "DT_regr = DecisionTreeRegressor()\n",
    "DT_regr.fit(X_train, np.ravel(Y_train))\n",
    "            \n",
    "DT_Y_pred = DT_regr.predict(X_test)\n",
    "            \n",
    "DT_mae = mean_absolute_error(Y_test, DT_Y_pred)\n",
    "print(\"Mean absolute error =\", round(DT_mae,3), 'nm')\n",
    "\n",
    "plt.figure()\n",
    "plt.title(\"Decision Tree\")\n",
    "plt.plot(Y_test, DT_Y_pred, 'o')\n",
    "plt.xlabel('Observed Values (nm)')\n",
    "plt.ylabel('Predicted Values (nm)')\n",
    "plt.plot([1,6],[1,6], color = 'r')\n",
    "plt.text(1, 5, 'MAE=' , fontdict=None)\n",
    "plt.text(1.49, 5, round(DT_mae,3) , fontdict=None)\n",
    "plt.text(1.94, 5, 'nm', fontdict=None)\n",
    "plt.show()"
   ]
  },
  {
   "cell_type": "markdown",
   "metadata": {},
   "source": [
    "### Extra Trees"
   ]
  },
  {
   "cell_type": "code",
   "execution_count": 41,
   "metadata": {},
   "outputs": [
    {
     "name": "stdout",
     "output_type": "stream",
     "text": [
      "Fitting 5 folds for each of 200 candidates, totalling 1000 fits\n",
      "Best MAE Score Through Random Search : -0.923\n",
      "Best Parameters :  {'n_estimators': 615, 'min_samples_split': 2, 'min_samples_leaf': 6}\n",
      "CPU times: user 4.26 s, sys: 142 ms, total: 4.4 s\n",
      "Wall time: 3min 5s\n"
     ]
    }
   ],
   "source": [
    "%%time\n",
    "\n",
    "#sklearn random search\n",
    "\n",
    "params = {'n_estimators': range(100,1001),\n",
    "          'min_samples_split':range(2,10),\n",
    "         'min_samples_leaf': range(1,10)}\n",
    "\n",
    "#n_jobs runs jobs in parallel, verbose prints updates\n",
    "rs_et = RandomizedSearchCV(ExtraTreesRegressor(), param_distributions=params, n_iter=200, n_jobs=-1, verbose=10,\n",
    "                          scoring='neg_mean_absolute_error')\n",
    "rs_et.fit(X, np.ravel(Y))\n",
    "\n",
    "print('Best MAE Score Through Random Search : %.3f'%rs_et.best_score_)\n",
    "print('Best Parameters : ',rs_et.best_params_)"
   ]
  },
  {
   "cell_type": "code",
   "execution_count": 89,
   "metadata": {},
   "outputs": [
    {
     "name": "stdout",
     "output_type": "stream",
     "text": [
      "Fitting 5 folds for each of 200 candidates, totalling 1000 fits\n",
      "Best MAE Score Through Random Search : -0.922\n",
      "Best Parameters :  {'random_state': 237}\n",
      "CPU times: user 3.94 s, sys: 410 ms, total: 4.35 s\n",
      "Wall time: 2min 56s\n"
     ]
    }
   ],
   "source": [
    "%%time\n",
    "\n",
    "#sklearn random search\n",
    "\n",
    "params = {'random_state': range(1,1001)}\n",
    "\n",
    "#n_jobs runs jobs in parallel, verbose prints updates\n",
    "rs_et = RandomizedSearchCV(ExtraTreesRegressor(n_estimators=615, min_samples_split=2, min_samples_leaf=6), param_distributions=params, n_iter=200, n_jobs=-1, verbose=10,\n",
    "                          scoring='neg_mean_absolute_error')\n",
    "rs_et.fit(X, np.ravel(Y))\n",
    "\n",
    "print('Best MAE Score Through Random Search : %.3f'%rs_et.best_score_)\n",
    "print('Best Parameters : ',rs_et.best_params_)"
   ]
  },
  {
   "cell_type": "code",
   "execution_count": 90,
   "metadata": {},
   "outputs": [
    {
     "name": "stdout",
     "output_type": "stream",
     "text": [
      "Mean absolute error = 0.851 nm\n"
     ]
    },
    {
     "data": {
      "image/png": "[encoded data removed]",
      "text/plain": [
       "<Figure size 432x288 with 1 Axes>"
      ]
     },
     "metadata": {
      "needs_background": "light"
     },
     "output_type": "display_data"
    }
   ],
   "source": [
    "ET_regr = ExtraTreesRegressor(n_estimators=615, min_samples_split=2, min_samples_leaf=6, random_state=237)\n",
    "            \n",
    "ET_regr.fit(X_train, np.ravel(Y_train))\n",
    "            \n",
    "ET_Y_pred = ET_regr.predict(X_test)\n",
    "            \n",
    "ET_mae = mean_absolute_error(Y_test, ET_Y_pred)\n",
    "print(\"Mean absolute error =\", round(ET_mae,3), 'nm')\n",
    "\n",
    "plt.figure()\n",
    "plt.title(\"Extra Trees\")\n",
    "plt.plot(Y_test, ET_Y_pred, 'o')\n",
    "plt.xlabel('Observed Values (nm)')\n",
    "plt.ylabel('Predicted Values (nm)')\n",
    "plt.plot([1,6],[1,6], color = 'r')\n",
    "plt.text(1, 5, 'MAE=' , fontdict=None)\n",
    "plt.text(1.49, 5, round(ET_mae,3) , fontdict=None)\n",
    "plt.text(1.94, 5, 'nm', fontdict=None)\n",
    "plt.show()"
   ]
  },
  {
   "cell_type": "markdown",
   "metadata": {},
   "source": [
    "### Ada Boost"
   ]
  },
  {
   "cell_type": "code",
   "execution_count": 48,
   "metadata": {
    "scrolled": true
   },
   "outputs": [
    {
     "name": "stdout",
     "output_type": "stream",
     "text": [
      "Fitting 5 folds for each of 200 candidates, totalling 1000 fits\n",
      "Best MAE Score Through Random Search : -0.887\n",
      "Best Parameters :  {'n_estimators': 72, 'loss': 'square', 'learning_rate': 1}\n",
      "CPU times: user 3.63 s, sys: 113 ms, total: 3.74 s\n",
      "Wall time: 1min 43s\n"
     ]
    }
   ],
   "source": [
    "%%time\n",
    "\n",
    "#sklearn random search\n",
    "\n",
    "params = {'n_estimators': range(50,501),\n",
    "          'learning_rate':range(1,11),\n",
    "         'loss':['linear', 'square', 'exponential']}\n",
    "\n",
    "#n_jobs runs jobs in parallel, verbose prints updates\n",
    "rs_ab = RandomizedSearchCV(AdaBoostRegressor(), param_distributions=params, n_iter=200, n_jobs=-1, verbose=10,\n",
    "                          scoring='neg_mean_absolute_error')\n",
    "rs_ab.fit(X, np.ravel(Y))\n",
    "\n",
    "print('Best MAE Score Through Random Search : %.3f'%rs_ab.best_score_)\n",
    "print('Best Parameters : ',rs_ab.best_params_)"
   ]
  },
  {
   "cell_type": "code",
   "execution_count": 53,
   "metadata": {
    "scrolled": true
   },
   "outputs": [
    {
     "name": "stdout",
     "output_type": "stream",
     "text": [
      "Mean absolute error = 0.864 nm\n"
     ]
    },
    {
     "data": {
      "image/png": "[encoded data removed]",
      "text/plain": [
       "<Figure size 432x288 with 1 Axes>"
      ]
     },
     "metadata": {
      "needs_background": "light"
     },
     "output_type": "display_data"
    }
   ],
   "source": [
    "AB_regr = AdaBoostRegressor(n_estimators=72, loss='square', learning_rate=1)\n",
    "            \n",
    "AB_regr.fit(X_train, np.ravel(Y_train))\n",
    "AB_Y_pred = AB_regr.predict(X_test)\n",
    "            \n",
    "AB_mae = mean_absolute_error(Y_test, AB_Y_pred)\n",
    "print(\"Mean absolute error =\", round(AB_mae,3), 'nm')\n",
    "\n",
    "plt.figure()\n",
    "plt.title(\"Ada Boost\")\n",
    "plt.plot(Y_test, AB_Y_pred, 'o')\n",
    "plt.xlabel('Observed Values (nm)')\n",
    "plt.ylabel('Predicted Values (nm)')\n",
    "plt.plot([1,6],[1,6], color = 'r')\n",
    "plt.text(1, 5, 'MAE=' , fontdict=None)\n",
    "plt.text(1.49, 5, round(AB_mae,3) , fontdict=None)\n",
    "plt.text(1.94, 5, 'nm', fontdict=None)\n",
    "plt.show()"
   ]
  },
  {
   "cell_type": "markdown",
   "metadata": {},
   "source": [
    "### Gradient Boosting"
   ]
  },
  {
   "cell_type": "code",
   "execution_count": 54,
   "metadata": {
    "scrolled": true
   },
   "outputs": [
    {
     "name": "stderr",
     "output_type": "stream",
     "text": [
      "/home/fdou/miniconda3/lib/python3.8/site-packages/sklearn/model_selection/_search.py:285: UserWarning: The total space of parameters 12 is smaller than n_iter=200. Running 12 iterations. For exhaustive searches, use GridSearchCV.\n",
      "  warnings.warn(\n"
     ]
    },
    {
     "name": "stdout",
     "output_type": "stream",
     "text": [
      "Fitting 5 folds for each of 12 candidates, totalling 60 fits\n",
      "Best MAE Score Through Random Search : -0.907\n",
      "Best Parameters :  {'max_features': 'log2', 'loss': 'lad'}\n",
      "CPU times: user 349 ms, sys: 1.37 ms, total: 350 ms\n",
      "Wall time: 2.8 s\n"
     ]
    }
   ],
   "source": [
    "%%time\n",
    "\n",
    "#sklearn random search\n",
    "\n",
    "params = {'loss':['ls', 'lad', 'huber', 'quantile'],\n",
    "          'max_features':['auto', 'sqrt', 'log2']}\n",
    "\n",
    "#n_jobs runs jobs in parallel, verbose prints updates\n",
    "rs_gb = RandomizedSearchCV(GradientBoostingRegressor(), param_distributions=params, n_iter=200, n_jobs=-1, verbose=10,\n",
    "                          scoring='neg_mean_absolute_error')\n",
    "rs_gb.fit(X, np.ravel(Y))\n",
    "\n",
    "print('Best MAE Score Through Random Search : %.3f'%rs_gb.best_score_)\n",
    "print('Best Parameters : ',rs_gb.best_params_)"
   ]
  },
  {
   "cell_type": "code",
   "execution_count": 55,
   "metadata": {
    "scrolled": true
   },
   "outputs": [
    {
     "name": "stdout",
     "output_type": "stream",
     "text": [
      "Fitting 5 folds for each of 200 candidates, totalling 1000 fits\n",
      "Best MAE Score Through Random Search : -0.887\n",
      "Best Parameters :  {'n_estimators': 495, 'min_samples_split': 6, 'min_samples_leaf': 4, 'max_depth': 26}\n",
      "CPU times: user 5.12 s, sys: 110 ms, total: 5.23 s\n",
      "Wall time: 6min\n"
     ]
    }
   ],
   "source": [
    "%%time\n",
    "\n",
    "#sklearn random search\n",
    "\n",
    "params = {'n_estimators': range(100,1001),\n",
    "          'min_samples_split':range(2,21),\n",
    "         'min_samples_leaf': range(1,11),\n",
    "         'max_depth':range(3,31)}\n",
    "\n",
    "#n_jobs runs jobs in parallel, verbose prints updates\n",
    "rs_gb = RandomizedSearchCV(GradientBoostingRegressor(max_features='log2', loss='lad'), param_distributions=params, n_iter=200, n_jobs=-1, verbose=10,\n",
    "                          scoring='neg_mean_absolute_error')\n",
    "rs_gb.fit(X, np.ravel(Y))\n",
    "\n",
    "print('Best MAE Score Through Random Search : %.3f'%rs_gb.best_score_)\n",
    "print('Best Parameters : ',rs_gb.best_params_)"
   ]
  },
  {
   "cell_type": "code",
   "execution_count": null,
   "metadata": {
    "scrolled": true
   },
   "outputs": [],
   "source": [
    "%%time\n",
    "\n",
    "#sklearn random search\n",
    "\n",
    "params = {'random_state':range(1,1001)}\n",
    "\n",
    "#n_jobs runs jobs in parallel, verbose prints updates\n",
    "rs_gb = RandomizedSearchCV(GradientBoostingRegressor(max_features='log2', loss='lad',\n",
    "                                                    n_estimators=801, min_samples_split=18, \n",
    "                                                     min_samples_leaf=1, max_depth=17), \n",
    "                           param_distributions=params, n_iter=100, n_jobs=-1, verbose=10, scoring='neg_mean_absolute_error')\n",
    "rs_gb.fit(X, np.ravel(Y))\n",
    "\n",
    "print('Best MAE Score Through Random Search : %.3f'%rs_gb.best_score_)\n",
    "print('Best Parameters : ',rs_gb.best_params_)"
   ]
  },
  {
   "cell_type": "code",
   "execution_count": 62,
   "metadata": {},
   "outputs": [
    {
     "name": "stdout",
     "output_type": "stream",
     "text": [
      "Mean absolute error = 0.888 nm\n"
     ]
    },
    {
     "data": {
      "image/png": "[encoded data removed]",
      "text/plain": [
       "<Figure size 432x288 with 1 Axes>"
      ]
     },
     "metadata": {
      "needs_background": "light"
     },
     "output_type": "display_data"
    }
   ],
   "source": [
    "GB_regr = GradientBoostingRegressor(n_estimators=495, min_samples_split=6, min_samples_leaf=4, max_depth=26)\n",
    "            \n",
    "GB_regr.fit(X_train, np.ravel(Y_train))\n",
    "GB_Y_pred = GB_regr.predict(X_test)\n",
    "            \n",
    "GB_mae = mean_absolute_error(Y_test, GB_Y_pred)\n",
    "print(\"Mean absolute error =\", round(GB_mae,3), 'nm')\n",
    "\n",
    "plt.figure()\n",
    "plt.title(\"Gradient Boosting\")\n",
    "plt.plot(Y_test, GB_Y_pred, 'o')\n",
    "plt.xlabel('Observed Values (nm)')\n",
    "plt.ylabel('Predicted Values (nm)')\n",
    "plt.plot([1,6],[1,6], color = 'r')\n",
    "plt.text(1, 5, 'MAE=' , fontdict=None)\n",
    "plt.text(1.49, 5, round(GB_mae,3) , fontdict=None)\n",
    "plt.text(1.94, 5, 'nm', fontdict=None)\n",
    "plt.show()"
   ]
  },
  {
   "cell_type": "markdown",
   "metadata": {},
   "source": [
    "## Others"
   ]
  },
  {
   "cell_type": "markdown",
   "metadata": {},
   "source": [
    "### Linear Regression"
   ]
  },
  {
   "cell_type": "code",
   "execution_count": 63,
   "metadata": {
    "scrolled": false
   },
   "outputs": [
    {
     "name": "stdout",
     "output_type": "stream",
     "text": [
      "Mean absolute error = 1.66 nm\n"
     ]
    },
    {
     "data": {
      "image/png": "[encoded data removed]",
      "text/plain": [
       "<Figure size 432x288 with 1 Axes>"
      ]
     },
     "metadata": {
      "needs_background": "light"
     },
     "output_type": "display_data"
    }
   ],
   "source": [
    "#using random search parameters\n",
    "Linear_regr = LinearRegression()\n",
    "Linear_regr.fit(X_train, np.ravel(Y_train))\n",
    "            \n",
    "Linear_Y_pred = Linear_regr.predict(X_test)\n",
    "            \n",
    "Linear_mae = mean_absolute_error(Y_test, Linear_Y_pred)\n",
    "print(\"Mean absolute error =\", round(Linear_mae,3), 'nm')\n",
    "\n",
    "plt.figure()\n",
    "plt.title(\"Linear\")\n",
    "plt.plot(Y_test, Linear_Y_pred, 'o')\n",
    "plt.xlabel('Observed Values (nm)')\n",
    "plt.ylabel('Predicted Values (nm)')\n",
    "plt.plot([1,6],[1,6], color = 'r')\n",
    "plt.text(1, 5, 'MAE=' , fontdict=None)\n",
    "plt.text(1.49, 5, round(Linear_mae,3) , fontdict=None)\n",
    "plt.text(1.94, 5, 'nm', fontdict=None)\n",
    "plt.show()"
   ]
  },
  {
   "cell_type": "markdown",
   "metadata": {},
   "source": [
    "### Lasso"
   ]
  },
  {
   "cell_type": "code",
   "execution_count": 64,
   "metadata": {},
   "outputs": [
    {
     "name": "stdout",
     "output_type": "stream",
     "text": [
      "Fitting 5 folds for each of 1000 candidates, totalling 5000 fits\n",
      "Best MAE Score Through Random Search : -0.899\n",
      "Best Parameters :  {'selection': 'random', 'max_iter': 7818}\n",
      "CPU times: user 3.69 s, sys: 285 ms, total: 3.98 s\n",
      "Wall time: 13.2 s\n"
     ]
    }
   ],
   "source": [
    "%%time\n",
    "\n",
    "#sklearn random search over n iterations\n",
    "\n",
    "params = {'max_iter': range(1000,10001),\n",
    "         'selection': ['cyclic', 'random']}\n",
    "\n",
    "#n_jobs runs jobs in parallel, verbose prints updates\n",
    "rs_lasso = RandomizedSearchCV(Lasso(), param_distributions=params, n_iter=1000, n_jobs=-1, verbose=10,\n",
    "                           scoring='neg_mean_absolute_error')\n",
    "rs_lasso.fit(X, np.ravel(Y))\n",
    "\n",
    "print('Best MAE Score Through Random Search : %.3f'%rs_lasso.best_score_)\n",
    "print('Best Parameters : ',rs_lasso.best_params_)"
   ]
  },
  {
   "cell_type": "code",
   "execution_count": 66,
   "metadata": {
    "scrolled": false
   },
   "outputs": [
    {
     "name": "stdout",
     "output_type": "stream",
     "text": [
      "Mean absolute error = 0.743 nm\n"
     ]
    },
    {
     "data": {
      "image/png": "[encoded data removed]",
      "text/plain": [
       "<Figure size 432x288 with 1 Axes>"
      ]
     },
     "metadata": {
      "needs_background": "light"
     },
     "output_type": "display_data"
    }
   ],
   "source": [
    "#using random search parameters\n",
    "Lasso_regr = Lasso()\n",
    "Lasso_regr.fit(X_train, np.ravel(Y_train))\n",
    "            \n",
    "Lasso_Y_pred = Lasso_regr.predict(X_test)\n",
    "            \n",
    "Lasso_mae = mean_absolute_error(Y_test, Lasso_Y_pred)\n",
    "print(\"Mean absolute error =\", round(Lasso_mae,3), 'nm')\n",
    "\n",
    "plt.figure()\n",
    "plt.title(\"Lasso\")\n",
    "plt.plot(Y_test, Lasso_Y_pred, 'o')\n",
    "plt.xlabel('Observed Values (nm)')\n",
    "plt.ylabel('Predicted Values (nm)')\n",
    "plt.plot([1,6],[1,6], color = 'r')\n",
    "plt.text(1, 5, 'MAE=' , fontdict=None)\n",
    "plt.text(1.49, 5, round(Lasso_mae,3) , fontdict=None)\n",
    "plt.text(1.94, 5, 'nm', fontdict=None)\n",
    "plt.show()"
   ]
  },
  {
   "cell_type": "markdown",
   "metadata": {},
   "source": [
    "### ElasticNet"
   ]
  },
  {
   "cell_type": "code",
   "execution_count": 67,
   "metadata": {},
   "outputs": [
    {
     "name": "stdout",
     "output_type": "stream",
     "text": [
      "Fitting 5 folds for each of 1000 candidates, totalling 5000 fits\n",
      "Best MAE Score Through Random Search : -0.900\n",
      "Best Parameters :  {'selection': 'cyclic', 'max_iter': 4668}\n",
      "CPU times: user 4.77 s, sys: 373 ms, total: 5.15 s\n",
      "Wall time: 13.9 s\n"
     ]
    }
   ],
   "source": [
    "%%time\n",
    "\n",
    "#sklearn random search over n iterations\n",
    "\n",
    "params = {'max_iter': range(1000,10001),\n",
    "         'selection': ['cyclic', 'random']}\n",
    "\n",
    "#n_jobs runs jobs in parallel, verbose prints updates\n",
    "rs_en = RandomizedSearchCV(ElasticNet(), param_distributions=params, n_iter=1000, n_jobs=-1, verbose=10,\n",
    "                           scoring='neg_mean_absolute_error')\n",
    "rs_en.fit(X, np.ravel(Y))\n",
    "\n",
    "print('Best MAE Score Through Random Search : %.3f'%rs_en.best_score_)\n",
    "print('Best Parameters : ',rs_en.best_params_)"
   ]
  },
  {
   "cell_type": "code",
   "execution_count": 71,
   "metadata": {
    "scrolled": true
   },
   "outputs": [
    {
     "name": "stdout",
     "output_type": "stream",
     "text": [
      "Mean absolute error = 0.743 nm\n"
     ]
    },
    {
     "data": {
      "image/png": "[encoded data removed]",
      "text/plain": [
       "<Figure size 432x288 with 1 Axes>"
      ]
     },
     "metadata": {
      "needs_background": "light"
     },
     "output_type": "display_data"
    }
   ],
   "source": [
    "#using random search parameters\n",
    "EN_regr = ElasticNet()\n",
    "EN_regr.fit(X_train, np.ravel(Y_train))\n",
    "            \n",
    "EN_Y_pred = EN_regr.predict(X_test)\n",
    "            \n",
    "EN_mae = mean_absolute_error(Y_test, EN_Y_pred)\n",
    "print(\"Mean absolute error =\", round(EN_mae,3), 'nm')\n",
    "\n",
    "plt.figure()\n",
    "plt.title(\"ElasticNet\")\n",
    "plt.plot(Y_test, EN_Y_pred, 'o')\n",
    "plt.xlabel('Observed Values (nm)')\n",
    "plt.ylabel('Predicted Values (nm)')\n",
    "plt.plot([1,6],[1,6], color = 'r')\n",
    "plt.text(1, 5, 'MAE=' , fontdict=None)\n",
    "plt.text(1.49, 5, round(EN_mae,3) , fontdict=None)\n",
    "plt.text(1.94, 5, 'nm', fontdict=None)\n",
    "plt.show()"
   ]
  },
  {
   "cell_type": "markdown",
   "metadata": {},
   "source": [
    "### Ridge"
   ]
  },
  {
   "cell_type": "code",
   "execution_count": 72,
   "metadata": {},
   "outputs": [
    {
     "name": "stdout",
     "output_type": "stream",
     "text": [
      "Fitting 5 folds for each of 1000 candidates, totalling 5000 fits\n",
      "Best MAE Score Through Random Search : -1.199\n",
      "Best Parameters :  {'random_state': 749, 'max_iter': 1802}\n",
      "CPU times: user 6.26 s, sys: 450 ms, total: 6.71 s\n",
      "Wall time: 36.5 s\n"
     ]
    }
   ],
   "source": [
    "%%time\n",
    "\n",
    "#sklearn random search over n iterations\n",
    "\n",
    "params = {'max_iter':range(1000,10001),\n",
    "         'random_state':range(1,1001)}\n",
    "\n",
    "#n_jobs runs jobs in parallel, verbose prints updates\n",
    "rs_ridge = RandomizedSearchCV(Ridge(solver='saga'), param_distributions=params, n_iter=1000, n_jobs=-1, verbose=10,\n",
    "                           scoring='neg_mean_absolute_error')\n",
    "rs_ridge.fit(X, np.ravel(Y))\n",
    "\n",
    "print('Best MAE Score Through Random Search : %.3f'%rs_ridge.best_score_)\n",
    "print('Best Parameters : ',rs_ridge.best_params_)"
   ]
  },
  {
   "cell_type": "code",
   "execution_count": 76,
   "metadata": {
    "scrolled": true
   },
   "outputs": [
    {
     "name": "stdout",
     "output_type": "stream",
     "text": [
      "Mean absolute error = 0.901 nm\n"
     ]
    },
    {
     "data": {
      "image/png": "[encoded data removed]",
      "text/plain": [
       "<Figure size 432x288 with 1 Axes>"
      ]
     },
     "metadata": {
      "needs_background": "light"
     },
     "output_type": "display_data"
    }
   ],
   "source": [
    "#using random search parameters\n",
    "Ridge_regr = Ridge()\n",
    "Ridge_regr.fit(X_train, np.ravel(Y_train))\n",
    "            \n",
    "Ridge_Y_pred = Ridge_regr.predict(X_test)\n",
    "            \n",
    "Ridge_mae = mean_absolute_error(Y_test, Ridge_Y_pred)\n",
    "print(\"Mean absolute error =\", round(Ridge_mae,3), 'nm')\n",
    "\n",
    "plt.figure()\n",
    "plt.title(\"Ridge\")\n",
    "plt.plot(Y_test, Ridge_Y_pred, 'o')\n",
    "plt.xlabel('Observed Values (nm)')\n",
    "plt.ylabel('Predicted Values (nm)')\n",
    "plt.plot([1,6],[1,6], color = 'r')\n",
    "plt.text(1, 5, 'MAE=' , fontdict=None)\n",
    "plt.text(1.49, 5, round(Ridge_mae,3) , fontdict=None)\n",
    "plt.text(1.94, 5, 'nm', fontdict=None)\n",
    "plt.show()"
   ]
  },
  {
   "cell_type": "markdown",
   "metadata": {},
   "source": [
    "### SVR kernel='linear'"
   ]
  },
  {
   "cell_type": "code",
   "execution_count": 77,
   "metadata": {},
   "outputs": [
    {
     "name": "stdout",
     "output_type": "stream",
     "text": [
      "Fitting 5 folds for each of 1000 candidates, totalling 5000 fits\n",
      "Best MAE Score Through Random Search : -1.125\n",
      "Best Parameters :  {'degree': 7, 'cache_size': 1103}\n",
      "CPU times: user 3.7 s, sys: 259 ms, total: 3.96 s\n",
      "Wall time: 13.6 s\n"
     ]
    }
   ],
   "source": [
    "%%time\n",
    "\n",
    "#sklearn random search over n iterations\n",
    "\n",
    "params = {'degree':range(1,10),\n",
    "         'cache_size':range(200,2001)}\n",
    "\n",
    "#n_jobs runs jobs in parallel, verbose prints updates\n",
    "rs_svrlin = RandomizedSearchCV(SVR(kernel='linear'), param_distributions=params, n_iter=1000, n_jobs=-1, verbose=10,\n",
    "                           scoring='neg_mean_absolute_error')\n",
    "rs_svrlin.fit(X, np.ravel(Y))\n",
    "\n",
    "print('Best MAE Score Through Random Search : %.3f'%rs_svrlin.best_score_)\n",
    "print('Best Parameters : ',rs_svrlin.best_params_)"
   ]
  },
  {
   "cell_type": "code",
   "execution_count": 82,
   "metadata": {
    "scrolled": false
   },
   "outputs": [
    {
     "name": "stdout",
     "output_type": "stream",
     "text": [
      "Mean absolute error = 0.798 nm\n"
     ]
    },
    {
     "data": {
      "image/png": "[encoded data removed]",
      "text/plain": [
       "<Figure size 432x288 with 1 Axes>"
      ]
     },
     "metadata": {
      "needs_background": "light"
     },
     "output_type": "display_data"
    }
   ],
   "source": [
    "#using random search parameters\n",
    "SVRlin_regr = SVR(kernel='linear', degree=7, cache_size=1103)\n",
    "SVRlin_regr.fit(X_train, np.ravel(Y_train))\n",
    "            \n",
    "SVRlin_Y_pred = SVRlin_regr.predict(X_test)\n",
    "            \n",
    "SVRlin_mae = mean_absolute_error(Y_test, SVRlin_Y_pred)\n",
    "print(\"Mean absolute error =\", round(SVRlin_mae,3), 'nm')\n",
    "\n",
    "plt.figure()\n",
    "plt.title(\"SVR (kernel='linear')\")\n",
    "plt.plot(Y_test, SVRlin_Y_pred, 'o')\n",
    "plt.xlabel('Observed Values (nm)')\n",
    "plt.ylabel('Predicted Values (nm)')\n",
    "plt.plot([1,6],[1,6], color = 'r')\n",
    "plt.text(1, 5, 'MAE=' , fontdict=None)\n",
    "plt.text(1.49, 5, round(SVRlin_mae,3) , fontdict=None)\n",
    "plt.text(1.94, 5, 'nm', fontdict=None)\n",
    "plt.show()"
   ]
  },
  {
   "cell_type": "markdown",
   "metadata": {},
   "source": [
    "### SVR kernel='rbf'"
   ]
  },
  {
   "cell_type": "code",
   "execution_count": 83,
   "metadata": {},
   "outputs": [
    {
     "name": "stdout",
     "output_type": "stream",
     "text": [
      "Fitting 5 folds for each of 1000 candidates, totalling 5000 fits\n",
      "Best MAE Score Through Random Search : -0.870\n",
      "Best Parameters :  {'degree': 8, 'cache_size': 396}\n",
      "CPU times: user 3.68 s, sys: 79.6 ms, total: 3.76 s\n",
      "Wall time: 12 s\n"
     ]
    }
   ],
   "source": [
    "%%time\n",
    "\n",
    "#sklearn random search over n iterations\n",
    "\n",
    "params = {'degree':range(1,10),\n",
    "         'cache_size':range(200,2001)}\n",
    "\n",
    "#n_jobs runs jobs in parallel, verbose prints updates\n",
    "rs_svrrbf = RandomizedSearchCV(SVR(kernel='rbf'), param_distributions=params, n_iter=1000, n_jobs=-1, verbose=10,\n",
    "                           scoring='neg_mean_absolute_error')\n",
    "rs_svrrbf.fit(X, np.ravel(Y))\n",
    "\n",
    "print('Best MAE Score Through Random Search : %.3f'%rs_svrrbf.best_score_)\n",
    "print('Best Parameters : ',rs_svrrbf.best_params_)"
   ]
  },
  {
   "cell_type": "code",
   "execution_count": 88,
   "metadata": {
    "scrolled": false
   },
   "outputs": [
    {
     "name": "stdout",
     "output_type": "stream",
     "text": [
      "Mean absolute error = 0.765 nm\n"
     ]
    },
    {
     "data": {
      "image/png": "[encoded data removed]",
      "text/plain": [
       "<Figure size 432x288 with 1 Axes>"
      ]
     },
     "metadata": {
      "needs_background": "light"
     },
     "output_type": "display_data"
    }
   ],
   "source": [
    "#using random search parameters\n",
    "SVRrbf_regr = SVR(kernel='rbf', degree=8, cache_size=396)\n",
    "SVRrbf_regr.fit(X_train, np.ravel(Y_train))\n",
    "            \n",
    "SVRrbf_Y_pred = SVRrbf_regr.predict(X_test)\n",
    "            \n",
    "SVRrbf_mae = mean_absolute_error(Y_test, SVRrbf_Y_pred)\n",
    "print(\"Mean absolute error =\", round(SVRrbf_mae,3), 'nm')\n",
    "\n",
    "plt.figure()\n",
    "plt.title(\"SVR (kernel='rbf')\")\n",
    "plt.plot(Y_test, SVRrbf_Y_pred, 'o')\n",
    "plt.xlabel('Observed Values (nm)')\n",
    "plt.ylabel('Predicted Values (nm)')\n",
    "plt.plot([1,6],[1,6], color = 'r')\n",
    "plt.text(1, 5, 'MAE=' , fontdict=None)\n",
    "plt.text(1.49, 5, round(SVRrbf_mae,3) , fontdict=None)\n",
    "plt.text(1.94, 5, 'nm', fontdict=None)\n",
    "plt.show()"
   ]
  },
  {
   "cell_type": "markdown",
   "metadata": {},
   "source": [
    "## Conclusion"
   ]
  },
  {
   "cell_type": "markdown",
   "metadata": {},
   "source": [
    "Gradient Boosting gave the best performance, **n_estimators=801, min_samples_split=18, min_samples_leaf=1, max_depth=17, random_state=174**"
   ]
  },
  {
   "cell_type": "markdown",
   "metadata": {},
   "source": [
    "## Saving model"
   ]
  },
  {
   "cell_type": "code",
   "execution_count": null,
   "metadata": {},
   "outputs": [],
   "source": [
    "GB_regr = GradientBoostingRegressor(n_estimators=801, min_samples_split=18, min_samples_leaf=1, max_depth=17, random_state=174)\n",
    "            \n",
    "GB_regr.fit(X_train, np.ravel(Y_train))\n",
    "GB_Y_pred = GB_regr.predict(X_test)\n",
    "\n",
    "joblib.dump(GB_regr, \"./model_aug_diam_GradientBoosting.joblib\")"
   ]
  },
  {
   "cell_type": "code",
   "execution_count": null,
   "metadata": {},
   "outputs": [],
   "source": []
  }
 ],
 "metadata": {
  "kernelspec": {
   "display_name": "Python 3",
   "language": "python",
   "name": "python3"
  },
  "language_info": {
   "codemirror_mode": {
    "name": "ipython",
    "version": 3
   },
   "file_extension": ".py",
   "mimetype": "text/x-python",
   "name": "python",
   "nbconvert_exporter": "python",
   "pygments_lexer": "ipython3",
   "version": "3.8.5"
  }
 },
 "nbformat": 4,
 "nbformat_minor": 4
}
