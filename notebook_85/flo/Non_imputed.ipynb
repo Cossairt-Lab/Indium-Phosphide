{
 "cells": [
  {
   "cell_type": "code",
   "execution_count": 1,
   "metadata": {},
   "outputs": [],
   "source": [
    "import numpy as np \n",
    "import pandas as pd\n",
    "import os\n",
    "import joblib\n",
    "import sklearn \n",
    "import matplotlib\n",
    "from matplotlib import pyplot as plt\n",
    "\n",
    "from sklearn.model_selection import train_test_split\n",
    "\n",
    "#Regressions:\n",
    "\n",
    "from sklearn.multioutput import MultiOutputRegressor\n",
    "\n",
    "from sklearn.neighbors import KNeighborsRegressor\n",
    "from sklearn.linear_model import Ridge\n",
    "from sklearn.linear_model import Lasso\n",
    "from sklearn.linear_model import ElasticNet\n",
    "from sklearn.linear_model import LinearRegression\n",
    "from sklearn.linear_model import RidgeCV\n",
    "from sklearn.ensemble import ExtraTreesRegressor\n",
    "from sklearn.ensemble import GradientBoostingRegressor\n",
    "from sklearn.ensemble import RandomForestRegressor\n",
    "from sklearn.ensemble import BaggingRegressor\n",
    "from sklearn.tree import DecisionTreeRegressor\n",
    "\n",
    "#Metric\n",
    "from sklearn.metrics import mean_squared_error\n",
    "from sklearn.metrics import mean_absolute_error\n",
    "from sklearn.metrics import r2_score\n",
    "\n",
    "\n",
    "from pandas import DataFrame\n",
    "\n",
    "\n",
    "# Show progress bar\n",
    "from tqdm import tqdm"
   ]
  },
  {
   "cell_type": "code",
   "execution_count": 2,
   "metadata": {},
   "outputs": [],
   "source": [
    "df_dia = pd.read_csv('flo_dataset_non_imputed_scaled_diameter.csv')\n",
    "df_abs = pd.read_csv('flo_dataset_non_imputed_scaled_abs.csv')\n",
    "df_emi = pd.read_csv('flo_dataset_non_imputed_scaled_emission.csv')"
   ]
  },
  {
   "cell_type": "code",
   "execution_count": 3,
   "metadata": {},
   "outputs": [],
   "source": [
    "input_col = ['in_amount_mmol', 'p_amount_mmol', 'ligand_amount_mmol',\n",
    "       'first_sol_amount_ml', 'second_sol_amount_ml', 'third_sol_amount_ml',\n",
    "       'other_1_amount_mmol', 'other_2_amount_mmol', 'total_volume_ml',\n",
    "       'temp_c', 'time_min', 'x0_chloroindium oxalate', 'x0_indium acetate',\n",
    "       'x0_indium bromide', 'x0_indium chloride', 'x0_indium iodide',\n",
    "       'x0_indium myristate', 'x0_indium oxalate', 'x0_indium palmitate',\n",
    "       'x0_indium trifluoroacetate',\n",
    "       'x0_indium tris(N,N-diisopropylacetamidinato)',\n",
    "       'x1_bis(trimethylsilyl)phosphine', 'x1_phosphine gas',\n",
    "       'x1_phosphorus trichloride', 'x1_sodium phosphide',\n",
    "       'x1_tris(diethylamino)phosphine', 'x1_tris(dimethylamino)phosphine',\n",
    "       'x1_tris(trimethylgermyl)phosphine', 'x1_tris(trimethylsilyl)phosphine',\n",
    "       'x1_white phosphorus', 'x2_None', 'x2_dodecanethiol', 'x2_lauric acid',\n",
    "       'x2_myristic acid', 'x2_oleic acid', 'x2_palmitic acid',\n",
    "       'x2_stearic acid', 'x3_4-ethylpyridine', 'x3_None',\n",
    "       'x3_dimethylformamide', 'x3_dodecylamine', 'x3_mesitylene',\n",
    "       'x3_octadecene', 'x3_oleylamine', 'x3_trioctylamine',\n",
    "       'x3_trioctylphosphine', 'x3_trioctylphosphine oxide', 'x4_None',\n",
    "       'x4_dioctyl ether', 'x4_dioctylamine', 'x4_hexadecylamine',\n",
    "       'x4_octylamine', 'x4_oleylamine', 'x4_toluene', 'x4_trioctylphosphine',\n",
    "       'x4_trioctylphosphine oxide', 'x5_None', 'x5_trioctylphosphine',\n",
    "       'x6_None', 'x6_acetic acid', 'x6_superhydride',\n",
    "       'x6_tetrabutylammonium myristate', 'x6_zinc acetate', 'x6_zinc bromide',\n",
    "       'x6_zinc chloride', 'x6_zinc iodide', 'x6_zinc octanoate',\n",
    "       'x6_zinc oleate', 'x6_zinc stearate', 'x6_zinc undecylenate', 'x7_None',\n",
    "       'x7_copper bromide', 'x7_oleic acid', 'x7_water', 'x7_zinc iodide']\n",
    "\n",
    "#Three individual outputs:\n",
    "diameter = ['diameter_nm']\n",
    "emission = ['emission_nm']\n",
    "absorbance = ['abs_nm']\n"
   ]
  },
  {
   "cell_type": "markdown",
   "metadata": {},
   "source": [
    "## 85/15"
   ]
  },
  {
   "cell_type": "code",
   "execution_count": 14,
   "metadata": {},
   "outputs": [],
   "source": [
    "#Splitting dataset\n",
    "\n",
    "X_d = df_dia[input_col]\n",
    "X_e = df_emi[input_col]\n",
    "X_a = df_abs[input_col]\n",
    "\n",
    "Y_d = df_dia[diameter]\n",
    "Y_e = df_emi[emission]\n",
    "Y_a = df_abs[absorbance]\n",
    "\n",
    "\n",
    "X_train_d, X_test_d, Y_train_d, Y_test_d = train_test_split(X_d, Y_d, test_size=0.15, random_state=45, shuffle=True)\n",
    "X_train_e, X_test_e, Y_train_e, Y_test_e = train_test_split(X_e, Y_e, test_size=0.15, random_state=45, shuffle=True)\n",
    "X_train_a, X_test_a, Y_train_a, Y_test_a = train_test_split(X_a, Y_a, test_size=0.15, random_state=45, shuffle=True)"
   ]
  },
  {
   "cell_type": "markdown",
   "metadata": {},
   "source": [
    "## Diameter _ Using Extra Trees"
   ]
  },
  {
   "cell_type": "code",
   "execution_count": 7,
   "metadata": {},
   "outputs": [
    {
     "name": "stderr",
     "output_type": "stream",
     "text": [
      "100%|██████████| 24/24 [07:14<00:00, 18.12s/it]"
     ]
    },
    {
     "name": "stdout",
     "output_type": "stream",
     "text": [
      "0.9136363636363637 2 17 15\n"
     ]
    },
    {
     "name": "stderr",
     "output_type": "stream",
     "text": [
      "\n"
     ]
    }
   ],
   "source": [
    "min_mae = 99999\n",
    "min_i, min_j, min_k = 0, 0, 0\n",
    "for i in tqdm(range(1, 25)):\n",
    "    for j in range(1, 25):\n",
    "        for k in range(2, 50, 1):\n",
    "            ET_regr = ExtraTreesRegressor(n_estimators=i, \n",
    "                                            max_features=j,\n",
    "                                            random_state=k)\n",
    "            \n",
    "            ET_regr.fit(X_train_d, np.ravel(Y_train_d))\n",
    "            ET_Y_pred_d = pd.DataFrame(ET_regr.predict(X_test_d))\n",
    "\n",
    "            mae = mean_absolute_error(Y_test_d, ET_Y_pred_d)\n",
    "            if (min_mae > mae):\n",
    "                min_mae = mae\n",
    "                min_i = i\n",
    "                min_j = j\n",
    "                min_k = k\n",
    "            \n",
    "print(min_mae, min_i, min_j, min_k)"
   ]
  },
  {
   "cell_type": "code",
   "execution_count": null,
   "metadata": {},
   "outputs": [],
   "source": []
  },
  {
   "cell_type": "markdown",
   "metadata": {},
   "source": [
    "## Absorption _ Using Extra Trees"
   ]
  },
  {
   "cell_type": "code",
   "execution_count": 8,
   "metadata": {},
   "outputs": [
    {
     "name": "stderr",
     "output_type": "stream",
     "text": [
      "100%|██████████| 24/24 [09:17<00:00, 23.21s/it]"
     ]
    },
    {
     "name": "stdout",
     "output_type": "stream",
     "text": [
      "17.516129032258064 4 18 7\n"
     ]
    },
    {
     "name": "stderr",
     "output_type": "stream",
     "text": [
      "\n"
     ]
    }
   ],
   "source": [
    "min_mae = 99999\n",
    "min_i, min_j, min_k = 0, 0, 0\n",
    "for i in tqdm(range(1, 25)):\n",
    "    for j in range(1, 25):\n",
    "        for k in range(2, 50, 1):\n",
    "            ET_regr = ExtraTreesRegressor(n_estimators=i, \n",
    "                                            max_features=j,\n",
    "                                            random_state=k)\n",
    "            \n",
    "            ET_regr.fit(X_train_a, np.ravel(Y_train_a))\n",
    "            ET_Y_pred_a = pd.DataFrame(ET_regr.predict(X_test_a))\n",
    "\n",
    "            mae = mean_absolute_error(Y_test_a, ET_Y_pred_a)\n",
    "            if (min_mae > mae):\n",
    "                min_mae = mae\n",
    "                min_i = i\n",
    "                min_j = j\n",
    "                min_k = k\n",
    "            \n",
    "print(min_mae, min_i, min_j, min_k)"
   ]
  },
  {
   "cell_type": "code",
   "execution_count": null,
   "metadata": {},
   "outputs": [],
   "source": []
  },
  {
   "cell_type": "code",
   "execution_count": null,
   "metadata": {},
   "outputs": [],
   "source": []
  },
  {
   "cell_type": "markdown",
   "metadata": {},
   "source": [
    "## Emission _ Using Extra Trees"
   ]
  },
  {
   "cell_type": "code",
   "execution_count": 9,
   "metadata": {
    "scrolled": true
   },
   "outputs": [
    {
     "name": "stderr",
     "output_type": "stream",
     "text": [
      "100%|██████████| 24/24 [08:51<00:00, 22.14s/it]"
     ]
    },
    {
     "name": "stdout",
     "output_type": "stream",
     "text": [
      "16.846153846153847 1 3 38\n"
     ]
    },
    {
     "name": "stderr",
     "output_type": "stream",
     "text": [
      "\n"
     ]
    }
   ],
   "source": [
    "min_mae = 99999\n",
    "min_i, min_j, min_k = 0, 0, 0\n",
    "for i in tqdm(range(1, 25)):\n",
    "    for j in range(1, 25):\n",
    "        for k in range(2, 50, 1):\n",
    "            ET_regr = ExtraTreesRegressor(n_estimators=i, \n",
    "                                            max_features=j,\n",
    "                                            random_state=k)\n",
    "            \n",
    "            ET_regr.fit(X_train_e, np.ravel(Y_train_e))\n",
    "            ET_Y_pred_e = pd.DataFrame(ET_regr.predict(X_test_e))\n",
    "\n",
    "            mae = mean_absolute_error(Y_test_e, ET_Y_pred_e)\n",
    "            if (min_mae > mae):\n",
    "                min_mae = mae\n",
    "                min_i = i\n",
    "                min_j = j\n",
    "                min_k = k\n",
    "            \n",
    "print(min_mae, min_i, min_j, min_k)"
   ]
  },
  {
   "cell_type": "code",
   "execution_count": 15,
   "metadata": {},
   "outputs": [
    {
     "name": "stdout",
     "output_type": "stream",
     "text": [
      "Outputs           R2    Mean absolute error    Mean squared error    Root mean squared error\n",
      "----------  --------  ---------------------  --------------------  -------------------------\n",
      "Diameter    0.267279               0.913636               1.56248                    1.24999\n",
      "Absorption  0.723446              17.5161               776.766                     27.8705\n",
      "Emission    0.808044              16.8462               535.769                     23.1467\n"
     ]
    }
   ],
   "source": [
    "## Diameter\n",
    "\n",
    "ET_regr_d = ExtraTreesRegressor(n_estimators=2, \n",
    "                                            max_features=17,\n",
    "                                            random_state=15)\n",
    "ET_regr_d.fit(X_train_d, np.ravel(Y_train_d))\n",
    "ET_Y_pred_d = ET_regr_d.predict(X_test_d)\n",
    "\n",
    "D_mae = mean_absolute_error(Y_test_d, ET_Y_pred_d)\n",
    "D_r_2 = r2_score(Y_test_d, ET_Y_pred_d)\n",
    "D_mse = mean_squared_error(Y_test_d, ET_Y_pred_d)\n",
    "D_rmse = mean_squared_error(Y_test_d, ET_Y_pred_d, squared=False)\n",
    "\n",
    "## Emission\n",
    "\n",
    "ET_regr_e = ExtraTreesRegressor(n_estimators=1,\n",
    "                            max_features=3,     \n",
    "                            random_state=38).fit(X_train_e, np.ravel(Y_train_e))\n",
    "                  \n",
    "ET_Y_pred_e = ET_regr_e.predict(X_test_e)\n",
    "\n",
    "E_mae = mean_absolute_error(Y_test_e, ET_Y_pred_e)\n",
    "E_r_2 = r2_score(Y_test_e, ET_Y_pred_e)\n",
    "E_mse = mean_squared_error(Y_test_e, ET_Y_pred_e)\n",
    "E_rmse = mean_squared_error(Y_test_e, ET_Y_pred_e, squared=False)\n",
    "\n",
    "\n",
    "### Absorption\n",
    "\n",
    "ET_regr_a = ExtraTreesRegressor(n_estimators=4, \n",
    "                                            max_features=18,\n",
    "                                            random_state=7).fit(X_train_a, np.ravel(Y_train_a))\n",
    "ET_Y_pred_a = ET_regr_a.predict(X_test_a)\n",
    "\n",
    "A_mae = mean_absolute_error(Y_test_a, ET_Y_pred_a)\n",
    "A_r_2 = r2_score(Y_test_a, ET_Y_pred_a)\n",
    "A_mse = mean_squared_error(Y_test_a, ET_Y_pred_a)\n",
    "A_rmse = mean_squared_error(Y_test_a, ET_Y_pred_a, squared=False)\n",
    "\n",
    "\n",
    "from tabulate import tabulate\n",
    "\n",
    "d = [ [\"Diameter\", D_r_2, D_mae, D_mse, D_rmse],\n",
    "     [\"Absorption\", A_r_2, A_mae, A_mse, A_rmse],\n",
    "     [\"Emission\", E_r_2, E_mae, E_mse, E_rmse]]\n",
    "\n",
    "print(tabulate(d, headers=[\"Outputs\", \"R2\", \"Mean absolute error\", \"Mean squared error\", \"Root mean squared error\"]))"
   ]
  },
  {
   "cell_type": "code",
   "execution_count": 16,
   "metadata": {},
   "outputs": [
    {
     "data": {
      "image/png": "[encoded data removed]",
      "text/plain": [
       "<Figure size 1440x360 with 3 Axes>"
      ]
     },
     "metadata": {
      "needs_background": "light"
     },
     "output_type": "display_data"
    }
   ],
   "source": [
    "fig, (ax1, ax2, ax3) = plt.subplots(1, 3, figsize=(20,5))\n",
    "fig.suptitle('Single Outputs', fontsize=25)\n",
    "\n",
    "ax1.plot(Y_test_d, ET_Y_pred_d,'o')\n",
    "ax1.plot([1,6.5],[1,6.5], color = 'r')\n",
    "ax1.set_title('Diameter')\n",
    "ax1.set(xlabel='Observed Values (nm)', ylabel='Predicted Values (nm)')\n",
    "\n",
    "ax2.plot(Y_test_a, ET_Y_pred_a,'o')\n",
    "ax2.plot([400,750],[400,750], color = 'r')\n",
    "ax2.set_title('Absorption')\n",
    "ax2.set(xlabel='Observed Values (nm)', ylabel='Predicted Values (nm)')\n",
    "\n",
    "ax3.plot(Y_test_e, ET_Y_pred_e,'o')\n",
    "ax3.plot([450,800],[450,800], color = 'r')\n",
    "ax3.set_title('Emission')\n",
    "ax3.set(xlabel='Observed Values (nm)', ylabel='Predicted Values (nm)')\n",
    "\n",
    "\n",
    "fig.tight_layout()"
   ]
  },
  {
   "cell_type": "code",
   "execution_count": null,
   "metadata": {},
   "outputs": [],
   "source": []
  },
  {
   "cell_type": "markdown",
   "metadata": {},
   "source": [
    "## 35/65"
   ]
  },
  {
   "cell_type": "code",
   "execution_count": 17,
   "metadata": {},
   "outputs": [],
   "source": [
    "#Splitting dataset\n",
    "\n",
    "X_d = df_dia[input_col]\n",
    "X_e = df_emi[input_col]\n",
    "X_a = df_abs[input_col]\n",
    "\n",
    "Y_d = df_dia[diameter]\n",
    "Y_e = df_emi[emission]\n",
    "Y_a = df_abs[absorbance]\n",
    "\n",
    "\n",
    "X_train_d, X_test_d, Y_train_d, Y_test_d = train_test_split(X_d, Y_d, test_size=0.35, random_state=45, shuffle=True)\n",
    "X_train_e, X_test_e, Y_train_e, Y_test_e = train_test_split(X_e, Y_e, test_size=0.35, random_state=45, shuffle=True)\n",
    "X_train_a, X_test_a, Y_train_a, Y_test_a = train_test_split(X_a, Y_a, test_size=0.35, random_state=45, shuffle=True)"
   ]
  },
  {
   "cell_type": "markdown",
   "metadata": {},
   "source": [
    "## Diameter Extra Trees"
   ]
  },
  {
   "cell_type": "code",
   "execution_count": 11,
   "metadata": {},
   "outputs": [
    {
     "name": "stderr",
     "output_type": "stream",
     "text": [
      "100%|██████████| 24/24 [07:25<00:00, 18.58s/it]"
     ]
    },
    {
     "name": "stdout",
     "output_type": "stream",
     "text": [
      "0.8175 2 10 31\n"
     ]
    },
    {
     "name": "stderr",
     "output_type": "stream",
     "text": [
      "\n"
     ]
    }
   ],
   "source": [
    "min_mae = 99999\n",
    "min_i, min_j, min_k = 0, 0, 0\n",
    "for i in tqdm(range(1, 25)):\n",
    "    for j in range(1, 25):\n",
    "        for k in range(2, 50, 1):\n",
    "            ET_regr = ExtraTreesRegressor(n_estimators=i, \n",
    "                                            max_features=j,\n",
    "                                            random_state=k)\n",
    "            \n",
    "            ET_regr.fit(X_train_d, np.ravel(Y_train_d))\n",
    "            ET_Y_pred_d = pd.DataFrame(ET_regr.predict(X_test_d))\n",
    "\n",
    "            mae = mean_absolute_error(Y_test_d, ET_Y_pred_d)\n",
    "            if (min_mae > mae):\n",
    "                min_mae = mae\n",
    "                min_i = i\n",
    "                min_j = j\n",
    "                min_k = k\n",
    "            \n",
    "print(min_mae, min_i, min_j, min_k)"
   ]
  },
  {
   "cell_type": "markdown",
   "metadata": {},
   "source": [
    "## Abs Extra Trees"
   ]
  },
  {
   "cell_type": "code",
   "execution_count": 12,
   "metadata": {},
   "outputs": [
    {
     "name": "stderr",
     "output_type": "stream",
     "text": [
      "100%|██████████| 24/24 [08:08<00:00, 20.34s/it]"
     ]
    },
    {
     "name": "stdout",
     "output_type": "stream",
     "text": [
      "24.26388888888889 2 23 47\n"
     ]
    },
    {
     "name": "stderr",
     "output_type": "stream",
     "text": [
      "\n"
     ]
    }
   ],
   "source": [
    "min_mae = 99999\n",
    "min_i, min_j, min_k = 0, 0, 0\n",
    "for i in tqdm(range(1, 25)):\n",
    "    for j in range(1, 25):\n",
    "        for k in range(2, 50, 1):\n",
    "            ET_regr = ExtraTreesRegressor(n_estimators=i, \n",
    "                                            max_features=j,\n",
    "                                            random_state=k)\n",
    "            \n",
    "            ET_regr.fit(X_train_a, np.ravel(Y_train_a))\n",
    "            ET_Y_pred_a = pd.DataFrame(ET_regr.predict(X_test_a))\n",
    "\n",
    "            mae = mean_absolute_error(Y_test_a, ET_Y_pred_a)\n",
    "            if (min_mae > mae):\n",
    "                min_mae = mae\n",
    "                min_i = i\n",
    "                min_j = j\n",
    "                min_k = k\n",
    "            \n",
    "print(min_mae, min_i, min_j, min_k)"
   ]
  },
  {
   "cell_type": "markdown",
   "metadata": {},
   "source": [
    "## Emission Extra Trees"
   ]
  },
  {
   "cell_type": "code",
   "execution_count": 13,
   "metadata": {},
   "outputs": [
    {
     "name": "stderr",
     "output_type": "stream",
     "text": [
      "100%|██████████| 24/24 [07:26<00:00, 18.59s/it]"
     ]
    },
    {
     "name": "stdout",
     "output_type": "stream",
     "text": [
      "22.983333333333334 2 3 46\n"
     ]
    },
    {
     "name": "stderr",
     "output_type": "stream",
     "text": [
      "\n"
     ]
    }
   ],
   "source": [
    "min_mae = 99999\n",
    "min_i, min_j, min_k = 0, 0, 0\n",
    "for i in tqdm(range(1, 25)):\n",
    "    for j in range(1, 25):\n",
    "        for k in range(2, 50, 1):\n",
    "            ET_regr = ExtraTreesRegressor(n_estimators=i, \n",
    "                                            max_features=j,\n",
    "                                            random_state=k)\n",
    "            \n",
    "            ET_regr.fit(X_train_e, np.ravel(Y_train_e))\n",
    "            ET_Y_pred_e = pd.DataFrame(ET_regr.predict(X_test_e))\n",
    "\n",
    "            mae = mean_absolute_error(Y_test_e, ET_Y_pred_e)\n",
    "            if (min_mae > mae):\n",
    "                min_mae = mae\n",
    "                min_i = i\n",
    "                min_j = j\n",
    "                min_k = k\n",
    "            \n",
    "print(min_mae, min_i, min_j, min_k)"
   ]
  },
  {
   "cell_type": "code",
   "execution_count": 18,
   "metadata": {},
   "outputs": [
    {
     "name": "stdout",
     "output_type": "stream",
     "text": [
      "Outputs           R2    Mean absolute error    Mean squared error    Root mean squared error\n",
      "----------  --------  ---------------------  --------------------  -------------------------\n",
      "Diameter    0.14649                  0.8175               1.65401                    1.28608\n",
      "Absorption  0.693506                24.2639            1013.31                      31.8325\n",
      "Emission    0.784875                22.9833             786.192                     28.0391\n"
     ]
    }
   ],
   "source": [
    "## Diameter\n",
    "\n",
    "ET_regr_d = ExtraTreesRegressor(n_estimators=2, \n",
    "                                            max_features=10,\n",
    "                                            random_state=31)\n",
    "ET_regr_d.fit(X_train_d, np.ravel(Y_train_d))\n",
    "ET_Y_pred_d = ET_regr_d.predict(X_test_d)\n",
    "\n",
    "D_mae = mean_absolute_error(Y_test_d, ET_Y_pred_d)\n",
    "D_r_2 = r2_score(Y_test_d, ET_Y_pred_d)\n",
    "D_mse = mean_squared_error(Y_test_d, ET_Y_pred_d)\n",
    "D_rmse = mean_squared_error(Y_test_d, ET_Y_pred_d, squared=False)\n",
    "\n",
    "## Emission\n",
    "\n",
    "ET_regr_e = ExtraTreesRegressor(n_estimators=2,\n",
    "                            max_features=3,     \n",
    "                            random_state=46).fit(X_train_e, np.ravel(Y_train_e))\n",
    "                  \n",
    "ET_Y_pred_e = ET_regr_e.predict(X_test_e)\n",
    "\n",
    "E_mae = mean_absolute_error(Y_test_e, ET_Y_pred_e)\n",
    "E_r_2 = r2_score(Y_test_e, ET_Y_pred_e)\n",
    "E_mse = mean_squared_error(Y_test_e, ET_Y_pred_e)\n",
    "E_rmse = mean_squared_error(Y_test_e, ET_Y_pred_e, squared=False)\n",
    "\n",
    "\n",
    "### Absorption\n",
    "\n",
    "ET_regr_a = ExtraTreesRegressor(n_estimators=2, \n",
    "                                            max_features=23,\n",
    "                                            random_state=47).fit(X_train_a, np.ravel(Y_train_a))\n",
    "ET_Y_pred_a = ET_regr_a.predict(X_test_a)\n",
    "\n",
    "A_mae = mean_absolute_error(Y_test_a, ET_Y_pred_a)\n",
    "A_r_2 = r2_score(Y_test_a, ET_Y_pred_a)\n",
    "A_mse = mean_squared_error(Y_test_a, ET_Y_pred_a)\n",
    "A_rmse = mean_squared_error(Y_test_a, ET_Y_pred_a, squared=False)\n",
    "\n",
    "\n",
    "from tabulate import tabulate\n",
    "\n",
    "d = [ [\"Diameter\", D_r_2, D_mae, D_mse, D_rmse],\n",
    "     [\"Absorption\", A_r_2, A_mae, A_mse, A_rmse],\n",
    "     [\"Emission\", E_r_2, E_mae, E_mse, E_rmse]]\n",
    "\n",
    "print(tabulate(d, headers=[\"Outputs\", \"R2\", \"Mean absolute error\", \"Mean squared error\", \"Root mean squared error\"]))"
   ]
  },
  {
   "cell_type": "code",
   "execution_count": 19,
   "metadata": {},
   "outputs": [
    {
     "data": {
      "image/png": "[encoded data removed]",
      "text/plain": [
       "<Figure size 1440x360 with 3 Axes>"
      ]
     },
     "metadata": {
      "needs_background": "light"
     },
     "output_type": "display_data"
    }
   ],
   "source": [
    "fig, (ax1, ax2, ax3) = plt.subplots(1, 3, figsize=(20,5))\n",
    "fig.suptitle('Single Outputs', fontsize=25)\n",
    "\n",
    "ax1.plot(Y_test_d, ET_Y_pred_d,'o')\n",
    "ax1.plot([1,6.5],[1,6.5], color = 'r')\n",
    "ax1.set_title('Diameter')\n",
    "ax1.set(xlabel='Observed Values (nm)', ylabel='Predicted Values (nm)')\n",
    "\n",
    "ax2.plot(Y_test_a, ET_Y_pred_a,'o')\n",
    "ax2.plot([400,750],[400,750], color = 'r')\n",
    "ax2.set_title('Absorption')\n",
    "ax2.set(xlabel='Observed Values (nm)', ylabel='Predicted Values (nm)')\n",
    "\n",
    "ax3.plot(Y_test_e, ET_Y_pred_e,'o')\n",
    "ax3.plot([450,800],[450,800], color = 'r')\n",
    "ax3.set_title('Emission')\n",
    "ax3.set(xlabel='Observed Values (nm)', ylabel='Predicted Values (nm)')\n",
    "\n",
    "\n",
    "fig.tight_layout()"
   ]
  }
 ],
 "metadata": {
  "kernelspec": {
   "display_name": "Python 3",
   "language": "python",
   "name": "python3"
  },
  "language_info": {
   "codemirror_mode": {
    "name": "ipython",
    "version": 3
   },
   "file_extension": ".py",
   "mimetype": "text/x-python",
   "name": "python",
   "nbconvert_exporter": "python",
   "pygments_lexer": "ipython3",
   "version": "3.8.5"
  }
 },
 "nbformat": 4,
 "nbformat_minor": 4
}
