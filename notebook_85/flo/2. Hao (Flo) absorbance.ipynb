{
 "cells": [
  {
   "cell_type": "code",
   "execution_count": 3,
   "metadata": {},
   "outputs": [],
   "source": [
    "# Pandas library for the pandas dataframes\n",
    "import pandas as pd\n",
    "from pandas import DataFrame\n",
    "import numpy as np\n",
    "import scipy.stats as stats\n",
    "import scipy\n",
    "\n",
    "\n",
    "\n",
    "# Import Scikit-Learn library for decision tree models\n",
    "import sklearn \n",
    "\n",
    "from sklearn import datasets, linear_model, metrics, tree\n",
    "from sklearn.utils import resample\n",
    "\n",
    "from sklearn.tree import DecisionTreeRegressor\n",
    "\n",
    "from sklearn.ensemble import BaggingRegressor, ExtraTreesRegressor, GradientBoostingRegressor, RandomForestRegressor\n",
    "\n",
    "from sklearn.linear_model import ElasticNet, Lasso,  RidgeCV\n",
    "\n",
    "from sklearn.neighbors import KNeighborsRegressor\n",
    "\n",
    "        \n",
    "# Dataset splitting        \n",
    "from sklearn.model_selection import train_test_split, LeaveOneOut, KFold, cross_validate, RandomizedSearchCV\n",
    "\n",
    "# Errors\n",
    "from sklearn.metrics import r2_score, mean_squared_error, mean_absolute_error, accuracy_score\n",
    "\n",
    "from matplotlib import pyplot as plt\n",
    "\n",
    "from tqdm import tqdm\n",
    "\n",
    "import os\n",
    "import joblib\n",
    "\n"
   ]
  },
  {
   "cell_type": "code",
   "execution_count": 4,
   "metadata": {
    "scrolled": true
   },
   "outputs": [
    {
     "name": "stdout",
     "output_type": "stream",
     "text": [
      "<class 'pandas.core.frame.DataFrame'>\n",
      "RangeIndex: 205 entries, 0 to 204\n",
      "Data columns (total 80 columns):\n",
      " #   Column                                         Non-Null Count  Dtype  \n",
      "---  ------                                         --------------  -----  \n",
      " 0   Unnamed: 0                                     205 non-null    int64  \n",
      " 1   in_amount_mmol                                 205 non-null    float64\n",
      " 2   p_amount_mmol                                  205 non-null    float64\n",
      " 3   ligand_amount_mmol                             205 non-null    float64\n",
      " 4   first_sol_amount_ml                            205 non-null    float64\n",
      " 5   second_sol_amount_ml                           205 non-null    float64\n",
      " 6   third_sol_amount_ml                            205 non-null    float64\n",
      " 7   other_1_amount_mmol                            205 non-null    float64\n",
      " 8   other_2_amount_mmol                            205 non-null    float64\n",
      " 9   total_volume_ml                                205 non-null    float64\n",
      " 10  temp_c                                         205 non-null    float64\n",
      " 11  time_min                                       205 non-null    float64\n",
      " 12  x0_chloroindium oxalate                        205 non-null    float64\n",
      " 13  x0_indium acetate                              205 non-null    float64\n",
      " 14  x0_indium bromide                              205 non-null    float64\n",
      " 15  x0_indium chloride                             205 non-null    float64\n",
      " 16  x0_indium iodide                               205 non-null    float64\n",
      " 17  x0_indium myristate                            205 non-null    float64\n",
      " 18  x0_indium oxalate                              205 non-null    float64\n",
      " 19  x0_indium palmitate                            205 non-null    float64\n",
      " 20  x0_indium trifluoroacetate                     205 non-null    float64\n",
      " 21  x0_indium tris(N,N-diisopropylacetamidinato)   205 non-null    float64\n",
      " 22  x1_bis(trimethylsilyl)phosphine                205 non-null    float64\n",
      " 23  x1_phosphine gas                               205 non-null    float64\n",
      " 24  x1_phosphorus trichloride                      205 non-null    float64\n",
      " 25  x1_sodium phosphide                            205 non-null    float64\n",
      " 26  x1_tris(diethylamino)phosphine                 205 non-null    float64\n",
      " 27  x1_tris(dimethylamino)phosphine                205 non-null    float64\n",
      " 28  x1_tris(trimethylgermyl)phosphine              205 non-null    float64\n",
      " 29  x1_tris(trimethylsilyl)phosphine               205 non-null    float64\n",
      " 30  x1_white phosphorus                            205 non-null    float64\n",
      " 31  x2_None                                        205 non-null    float64\n",
      " 32  x2_dodecanethiol                               205 non-null    float64\n",
      " 33  x2_lauric acid                                 205 non-null    float64\n",
      " 34  x2_myristic acid                               205 non-null    float64\n",
      " 35  x2_oleic acid                                  205 non-null    float64\n",
      " 36  x2_palmitic acid                               205 non-null    float64\n",
      " 37  x2_stearic acid                                205 non-null    float64\n",
      " 38  x3_4-ethylpyridine                             205 non-null    float64\n",
      " 39  x3_None                                        205 non-null    float64\n",
      " 40  x3_dimethylformamide                           205 non-null    float64\n",
      " 41  x3_dodecylamine                                205 non-null    float64\n",
      " 42  x3_mesitylene                                  205 non-null    float64\n",
      " 43  x3_octadecene                                  205 non-null    float64\n",
      " 44  x3_oleylamine                                  205 non-null    float64\n",
      " 45  x3_trioctylamine                               205 non-null    float64\n",
      " 46  x3_trioctylphosphine                           205 non-null    float64\n",
      " 47  x3_trioctylphosphine oxide                     205 non-null    float64\n",
      " 48  x4_None                                        205 non-null    float64\n",
      " 49  x4_dioctyl ether                               205 non-null    float64\n",
      " 50  x4_dioctylamine                                205 non-null    float64\n",
      " 51  x4_hexadecylamine                              205 non-null    float64\n",
      " 52  x4_hexadecylamine                              205 non-null    float64\n",
      " 53  x4_octylamine                                  205 non-null    float64\n",
      " 54  x4_oleylamine                                  205 non-null    float64\n",
      " 55  x4_toluene                                     205 non-null    float64\n",
      " 56  x4_trioctylphosphine                           205 non-null    float64\n",
      " 57  x4_trioctylphosphine oxide                     205 non-null    float64\n",
      " 58  x5_None                                        205 non-null    float64\n",
      " 59  x5_trioctylphosphine                           205 non-null    float64\n",
      " 60  x6_None                                        205 non-null    float64\n",
      " 61  x6_acetic acid                                 205 non-null    float64\n",
      " 62  x6_superhydride                                205 non-null    float64\n",
      " 63  x6_tetrabutylammonium myristate                205 non-null    float64\n",
      " 64  x6_zinc acetate                                205 non-null    float64\n",
      " 65  x6_zinc bromide                                205 non-null    float64\n",
      " 66  x6_zinc chloride                               205 non-null    float64\n",
      " 67  x6_zinc iodide                                 205 non-null    float64\n",
      " 68  x6_zinc octanoate                              205 non-null    float64\n",
      " 69  x6_zinc oleate                                 205 non-null    float64\n",
      " 70  x6_zinc stearate                               205 non-null    float64\n",
      " 71  x6_zinc undecylenate                           205 non-null    float64\n",
      " 72  x7_None                                        205 non-null    float64\n",
      " 73  x7_copper bromide                              205 non-null    float64\n",
      " 74  x7_oleic acid                                  205 non-null    float64\n",
      " 75  x7_water                                       205 non-null    float64\n",
      " 76  x7_zinc iodide                                 205 non-null    float64\n",
      " 77  diameter_nm                                    205 non-null    object \n",
      " 78  abs_nm                                         205 non-null    int64  \n",
      " 79  emission_nm                                    205 non-null    object \n",
      "dtypes: float64(76), int64(2), object(2)\n",
      "memory usage: 128.2+ KB\n"
     ]
    }
   ],
   "source": [
    "df_abs = pd.read_csv(\"dataset_scaled_abs.csv\")\n",
    "df_abs.info()"
   ]
  },
  {
   "cell_type": "code",
   "execution_count": 5,
   "metadata": {},
   "outputs": [],
   "source": [
    "#Checks the column names, and ensures that they do not have any leading or trailing spaces\n",
    "df_abs.columns = df_abs.columns.str.strip()"
   ]
  },
  {
   "cell_type": "code",
   "execution_count": 6,
   "metadata": {},
   "outputs": [],
   "source": [
    "# Input for ML models\n",
    "\n",
    "input_col = ['in_amount_mmol', 'p_amount_mmol', 'ligand_amount_mmol', 'first_sol_amount_ml', 'second_sol_amount_ml', \n",
    "             'third_sol_amount_ml', 'other_1_amount_mmol', 'other_2_amount_mmol', 'total_volume_ml', \n",
    "             'temp_c', 'time_min', 'x0_chloroindium oxalate', 'x0_indium acetate', 'x0_indium bromide', \n",
    "             'x0_indium chloride', 'x0_indium iodide', 'x0_indium myristate', 'x0_indium oxalate', \n",
    "             'x0_indium palmitate', 'x0_indium trifluoroacetate', 'x0_indium tris(N,N-diisopropylacetamidinato)', \n",
    "             'x1_bis(trimethylsilyl)phosphine', 'x1_phosphine gas', 'x1_phosphorus trichloride', 'x1_sodium phosphide', \n",
    "             'x1_tris(diethylamino)phosphine', 'x1_tris(dimethylamino)phosphine', 'x1_tris(trimethylgermyl)phosphine', \n",
    "             'x1_tris(trimethylsilyl)phosphine', 'x1_white phosphorus', 'x2_None', 'x2_dodecanethiol', \n",
    "             'x2_lauric acid', 'x2_myristic acid', 'x2_oleic acid', 'x2_palmitic acid', 'x2_stearic acid', \n",
    "             'x3_4-ethylpyridine', 'x3_None', 'x3_dimethylformamide', 'x3_dodecylamine', 'x3_mesitylene', \n",
    "             'x3_octadecene', 'x3_oleylamine', 'x3_trioctylamine', 'x3_trioctylphosphine', 'x3_trioctylphosphine oxide', \n",
    "             'x4_None', 'x4_dioctyl ether', 'x4_dioctylamine', 'x4_hexadecylamine', 'x4_hexadecylamine', \n",
    "             'x4_octylamine', 'x4_oleylamine', 'x4_toluene', 'x4_trioctylphosphine', 'x4_trioctylphosphine oxide', \n",
    "             'x5_None', 'x5_trioctylphosphine', 'x6_None', 'x6_acetic acid', 'x6_superhydride', \n",
    "             'x6_tetrabutylammonium myristate', 'x6_zinc acetate', 'x6_zinc bromide', 'x6_zinc chloride', \n",
    "             'x6_zinc iodide', 'x6_zinc octanoate', 'x6_zinc oleate', 'x6_zinc stearate', 'x6_zinc undecylenate', \n",
    "             'x7_None', 'x7_copper bromide', 'x7_oleic acid', 'x7_water', 'x7_zinc iodide']\n",
    "\n",
    "output_col = ['abs_nm']\n",
    "\n",
    "X = df_abs[input_col]\n",
    "\n",
    "Y = df_abs[output_col]"
   ]
  },
  {
   "cell_type": "code",
   "execution_count": 7,
   "metadata": {},
   "outputs": [],
   "source": [
    "# Splitting dataset for training\n",
    "X_train, X_test, Y_train, Y_test = train_test_split(X, Y, test_size=0.15, random_state=45, shuffle=True)"
   ]
  },
  {
   "cell_type": "markdown",
   "metadata": {},
   "source": [
    "### 1. Bagging"
   ]
  },
  {
   "cell_type": "code",
   "execution_count": 8,
   "metadata": {},
   "outputs": [
    {
     "name": "stderr",
     "output_type": "stream",
     "text": [
      "100%|██████████| 19/19 [04:17<00:00, 13.57s/it]"
     ]
    },
    {
     "name": "stdout",
     "output_type": "stream",
     "text": [
      "21.698511166253102 17 1 54\n"
     ]
    },
    {
     "name": "stderr",
     "output_type": "stream",
     "text": [
      "\n"
     ]
    }
   ],
   "source": [
    "# This is a grid search for three parameters in the Bagging algorithm. \n",
    "# Parameters are: max_depth, n_estimators, random_state.\n",
    "# This gives the best combination of the three parameters for the smallest mean squared error.\n",
    "\n",
    "min_mae = 99999\n",
    "\n",
    "min_i, min_j, min_k  = 0, 0, 0\n",
    "\n",
    "for i in tqdm(range(1, 20)):\n",
    "    for j in range(1, 20):\n",
    "        for k in range(2, 60, 2):\n",
    "            \n",
    "            B_regr = BaggingRegressor(base_estimator=DecisionTreeRegressor(max_depth=i),\n",
    "                                      n_estimators=j,\n",
    "                                      random_state=k)\n",
    "            \n",
    "            B_regr.fit(X_train, np.ravel(Y_train))\n",
    "            \n",
    "            B_Y_pred = B_regr.predict(X_test)\n",
    "            \n",
    "            mae = mean_absolute_error(Y_test, B_Y_pred)\n",
    "            \n",
    "            if (min_mae > mae):\n",
    "                min_mae = mae\n",
    "                min_i = i\n",
    "                min_j = j\n",
    "                min_k = k\n",
    "            \n",
    "print(min_mae, min_i, min_j, min_k)"
   ]
  },
  {
   "cell_type": "code",
   "execution_count": 9,
   "metadata": {},
   "outputs": [
    {
     "name": "stdout",
     "output_type": "stream",
     "text": [
      "Mean absolute error = 21.699\n"
     ]
    },
    {
     "data": {
      "image/png": "[encoded data removed]",
      "text/plain": [
       "<Figure size 432x288 with 1 Axes>"
      ]
     },
     "metadata": {
      "needs_background": "light"
     },
     "output_type": "display_data"
    }
   ],
   "source": [
    "B_regr = BaggingRegressor(base_estimator=DecisionTreeRegressor(max_depth=17),\n",
    "                                      n_estimators=1,\n",
    "                                      random_state=54)\n",
    "B_regr.fit(X_train, np.ravel(Y_train))\n",
    "            \n",
    "B_Y_pred = B_regr.predict(X_test)\n",
    "            \n",
    "B_mae = mean_absolute_error(Y_test, B_Y_pred)\n",
    "print(\"Mean absolute error =\", round(B_mae,3))\n",
    "\n",
    "plt.figure()\n",
    "plt.title(\"Bagging\")\n",
    "plt.plot(Y_test, B_Y_pred, 'o')\n",
    "plt.xlabel('Observed Values (nm)')\n",
    "plt.ylabel('Predicted Values (nm)')\n",
    "plt.plot([400,800],[400,800], color = 'r')\n",
    "plt.text(400, 750, 'MAE=' , fontdict=None)\n",
    "plt.text(440, 750, round(B_mae,3) , fontdict=None)\n",
    "plt.show()"
   ]
  },
  {
   "cell_type": "markdown",
   "metadata": {},
   "source": [
    "### 2. Decision Trees"
   ]
  },
  {
   "cell_type": "code",
   "execution_count": 10,
   "metadata": {},
   "outputs": [
    {
     "name": "stderr",
     "output_type": "stream",
     "text": [
      "100%|██████████| 29/29 [03:10<00:00,  6.58s/it]"
     ]
    },
    {
     "name": "stdout",
     "output_type": "stream",
     "text": [
      "19.79032258064516 25 14 10\n"
     ]
    },
    {
     "name": "stderr",
     "output_type": "stream",
     "text": [
      "\n"
     ]
    }
   ],
   "source": [
    "# This is a grid search for three parameters in the Decision Trees algorithm. \n",
    "# Parameters are: max_depth, max_features, random_state.\n",
    "# This gives the best combination of the three parameters for the smallest mean squared error.\n",
    "\n",
    "min_mae = 99999\n",
    "\n",
    "min_i, min_j, min_k  = 0, 0, 0\n",
    "\n",
    "for i in tqdm(range(1, 30)):\n",
    "    for j in range(1, 30):\n",
    "        for k in range(2, 80, 2):\n",
    "            \n",
    "            DT_regr = DecisionTreeRegressor(max_depth=i,\n",
    "                                max_features=j,\n",
    "                                random_state=k)\n",
    "            \n",
    "            DT_regr.fit(X_train, Y_train)\n",
    "\n",
    "            DT_Y_pred = DT_regr.predict(X_test)\n",
    "\n",
    "            mae = mean_absolute_error(Y_test, DT_Y_pred)\n",
    "            \n",
    "            if (min_mae > mae):\n",
    "                min_mae = mae\n",
    "                min_i = i\n",
    "                min_j = j\n",
    "                min_k = k\n",
    "            \n",
    "print(min_mae, min_i, min_j, min_k)"
   ]
  },
  {
   "cell_type": "markdown",
   "metadata": {},
   "source": [
    "### 3. Random Forrest"
   ]
  },
  {
   "cell_type": "code",
   "execution_count": 11,
   "metadata": {},
   "outputs": [
    {
     "name": "stderr",
     "output_type": "stream",
     "text": [
      "100%|██████████| 29/29 [07:46<00:00, 16.09s/it]"
     ]
    },
    {
     "name": "stdout",
     "output_type": "stream",
     "text": [
      "26.327117824429646 29 27 48\n"
     ]
    },
    {
     "name": "stderr",
     "output_type": "stream",
     "text": [
      "\n"
     ]
    }
   ],
   "source": [
    "# This is a grid search for three parameters in the Random Forest algorithm. \n",
    "# Parameters are: max_depth, n_estimators, max_features.\n",
    "# Random_state is set to 45.\n",
    "# This gives the best combination of the three parameters for the smallest mean squared error.\n",
    "\n",
    "min_mae = 99999\n",
    "min_i, min_j, min_k = 0, 0, 0\n",
    "for i in tqdm(range(1, 30)):\n",
    "    for j in range(1, 30):\n",
    "        for k in range(2, 50, 2):\n",
    "            RF_regr = RandomForestRegressor(max_depth=i, \n",
    "                                            n_estimators=j, \n",
    "                                            max_features=k,\n",
    "                                            random_state=45\n",
    "                                                )\n",
    "            RF_regr.fit(X_train, np.ravel(Y_train))\n",
    "            RF_Y_pred = RF_regr.predict(X_test)\n",
    "\n",
    "            mae = mean_absolute_error(Y_test, RF_Y_pred)\n",
    "            if (min_mae > mae):\n",
    "                min_mae = mae\n",
    "                min_i = i\n",
    "                min_j = j\n",
    "                min_k = k\n",
    "            \n",
    "print(min_mae, min_i, min_j, min_k)"
   ]
  },
  {
   "cell_type": "markdown",
   "metadata": {},
   "source": [
    "### 4. Extra Trees"
   ]
  },
  {
   "cell_type": "code",
   "execution_count": 12,
   "metadata": {},
   "outputs": [
    {
     "name": "stderr",
     "output_type": "stream",
     "text": [
      "100%|██████████| 29/29 [06:37<00:00, 13.71s/it]"
     ]
    },
    {
     "name": "stdout",
     "output_type": "stream",
     "text": [
      "21.387096774193548 1 23 2\n"
     ]
    },
    {
     "name": "stderr",
     "output_type": "stream",
     "text": [
      "\n"
     ]
    }
   ],
   "source": [
    "# This is a grid search for three parameters in the Extra Trees algorithm. \n",
    "# Parameters are: random_state, n_estimators, max_features.\n",
    "\n",
    "# This gives the best combination of the three parameters for the smallest mean squared error.\n",
    "\n",
    "min_mae = 99999\n",
    "min_i, min_j, min_k = 0, 0, 0\n",
    "for i in tqdm(range(1, 30)):\n",
    "    for j in range(1, 30):\n",
    "        for k in range(2, 50, 2):\n",
    "            ET_regr = ExtraTreesRegressor(n_estimators=i, \n",
    "                                            max_features=j,\n",
    "                                            random_state=k\n",
    "                                                )\n",
    "            ET_regr.fit(X_train, np.ravel(Y_train))\n",
    "            ET_Y_pred = ET_regr.predict(X_test)\n",
    "\n",
    "            mae = mean_absolute_error(Y_test, ET_Y_pred)\n",
    "            if (min_mae > mae):\n",
    "                min_mae = mae\n",
    "                min_i = i\n",
    "                min_j = j\n",
    "                min_k = k\n",
    "            \n",
    "print(min_mae, min_i, min_j, min_k)"
   ]
  },
  {
   "cell_type": "code",
   "execution_count": null,
   "metadata": {},
   "outputs": [],
   "source": [
    "ET_regr = ExtraTreesRegressor(n_estimators=3, max_features=21, random_state=4)\n",
    "            \n",
    "ET_regr.fit(X_train, np.ravel(Y_train))\n",
    "            \n",
    "ET_Y_pred = ET_regr.predict(X_test)\n",
    "            \n",
    "ET_mae = mean_absolute_error(Y_test, ET_Y_pred)\n",
    "ET_mse = mean_squared_error(Y_test, ET_Y_pred)\n",
    "print(\"Mean absolute error =\", round(ET_mae,3),'\\n',\"Mean squared error =\", round(ET_mse,3))\n",
    "\n",
    "plt.figure()\n",
    "plt.title(\"Extra TRees\")\n",
    "plt.plot(Y_test, ET_Y_pred, 'o')\n",
    "plt.xlabel('Observed Values (nm)')\n",
    "plt.ylabel('Predicted Values (nm)')\n",
    "plt.plot([400,800],[400,800], color = 'r')\n",
    "plt.text(400, 750, 'MAE=' , fontdict=None)\n",
    "plt.text(440, 750, round(ET_mae,3) , fontdict=None)\n",
    "plt.show()"
   ]
  },
  {
   "cell_type": "markdown",
   "metadata": {},
   "source": [
    "### 5. Gradient Boosting"
   ]
  },
  {
   "cell_type": "code",
   "execution_count": 17,
   "metadata": {},
   "outputs": [
    {
     "name": "stderr",
     "output_type": "stream",
     "text": [
      "100%|██████████| 15/15 [2:07:12<00:00, 508.82s/it]"
     ]
    },
    {
     "name": "stdout",
     "output_type": "stream",
     "text": [
      "24.18118806265753 440 4 0.2 10\n"
     ]
    },
    {
     "name": "stderr",
     "output_type": "stream",
     "text": [
      "\n"
     ]
    }
   ],
   "source": [
    "min_mae = 999\n",
    "min_i, min_j, min_k, min_l = 0, 0, 0.0, 0\n",
    "for i in tqdm(range(300, 450, 10)):\n",
    "    for j in range(2, 30, 2):\n",
    "        for k in np.arange(0.06, 0.22, 0.02):\n",
    "            for l in range(2, 22, 2):\n",
    "                GB_regr = GradientBoostingRegressor(n_estimators=i, max_depth=j, learning_rate=k, random_state=l)\n",
    "                GB_regr.fit(X_train, np.ravel(Y_train))\n",
    "                GB_Y_pred = GB_regr.predict(X_test)\n",
    "\n",
    "                mae = mean_absolute_error(Y_test, GB_Y_pred)\n",
    "                if (min_mae > mae):\n",
    "                    min_mae = mae\n",
    "                    min_i = i\n",
    "                    min_j = j\n",
    "                    min_k = k\n",
    "                    min_l = l\n",
    "\n",
    "print(min_mae, min_i, min_j, min_k, min_l)"
   ]
  },
  {
   "cell_type": "code",
   "execution_count": null,
   "metadata": {},
   "outputs": [],
   "source": [
    "GB_regr = GradientBoostingRegressor(n_estimators=380, max_depth=4, learning_rate=0.18, random_state=6)\n",
    "\n",
    "            \n",
    "GB_regr.fit(X_train, np.ravel(Y_train))\n",
    "            \n",
    "GB_Y_pred = GB_regr.predict(X_test)\n",
    "            \n",
    "GB_mae = mean_absolute_error(Y_test, GB_Y_pred)\n",
    "print(\"Mean absolute error =\", round(GB_mae,3))\n",
    "\n",
    "plt.figure()\n",
    "plt.title(\"Gradient Boosting\")\n",
    "plt.plot(Y_test, GB_Y_pred, 'o')\n",
    "plt.xlabel('Observed Values (nm)')\n",
    "plt.ylabel('Predicted Values (nm)')\n",
    "plt.plot([400,800],[400,800], color = 'r')\n",
    "plt.text(400, 750, 'MAE=' , fontdict=None)\n",
    "plt.text(440, 750, round(GB_mae,3) , fontdict=None)\n",
    "plt.show()"
   ]
  },
  {
   "cell_type": "markdown",
   "metadata": {},
   "source": [
    "### 6. Others"
   ]
  },
  {
   "cell_type": "code",
   "execution_count": 18,
   "metadata": {},
   "outputs": [
    {
     "name": "stdout",
     "output_type": "stream",
     "text": [
      "K-nn\n",
      " MAE for diameter is  41.90967741935484 \n",
      "\n",
      "Ridge\n",
      " MAE for diameter is  39.59902816626651 \n",
      "\n",
      "Lasso\n",
      " MAE for diameter is  40.51976338117107 \n",
      "\n",
      "ElasticNet\n",
      " MAE for diameter is  49.07305348463773 \n",
      "\n"
     ]
    }
   ],
   "source": [
    "REGRESSIONS = {\n",
    "    \"K-nn\": KNeighborsRegressor(),                          \n",
    "    \"Ridge\": RidgeCV(),\n",
    "    \"Lasso\": Lasso(),\n",
    "    \"ElasticNet\": ElasticNet(random_state=0),\n",
    "                }\n",
    "# mean absolute error is used to evaluate the performance of all regressions.\n",
    "\n",
    "\n",
    "for name, reg in REGRESSIONS.items():     \n",
    "    reg.fit(X_train, Y_train)                 \n",
    "    Y_pred = pd.DataFrame(reg.predict(X_test))\n",
    "    \n",
    "    print(name)\n",
    "    \n",
    "    mae = mean_absolute_error(Y_test, Y_pred)\n",
    "    \n",
    "    print(' MAE for diameter is ', mae, '\\n')"
   ]
  },
  {
   "cell_type": "markdown",
   "metadata": {},
   "source": [
    "## Conclusion"
   ]
  },
  {
   "cell_type": "markdown",
   "metadata": {},
   "source": [
    "Extra Trees gave the best performance, **n_estimators=5, max_features=2, random_state=7**"
   ]
  },
  {
   "cell_type": "markdown",
   "metadata": {},
   "source": [
    "### Saving model"
   ]
  },
  {
   "cell_type": "code",
   "execution_count": null,
   "metadata": {},
   "outputs": [],
   "source": [
    "ET_regr = ExtraTreesRegressor(n_estimators=3, max_features=21, random_state=4)\n",
    "\n",
    "ET_regr.fit(X_train, np.ravel(Y_train))\n",
    "ET_Y_pred = ET_regr.predict(X_test)\n",
    "\n",
    "joblib.dump(ET_regr, \"./model_aug_abs_ExtraTrees.joblib\")"
   ]
  },
  {
   "cell_type": "code",
   "execution_count": null,
   "metadata": {},
   "outputs": [],
   "source": []
  },
  {
   "cell_type": "code",
   "execution_count": null,
   "metadata": {},
   "outputs": [],
   "source": []
  },
  {
   "cell_type": "code",
   "execution_count": null,
   "metadata": {},
   "outputs": [],
   "source": []
  }
 ],
 "metadata": {
  "kernelspec": {
   "display_name": "Python 3",
   "language": "python",
   "name": "python3"
  },
  "language_info": {
   "codemirror_mode": {
    "name": "ipython",
    "version": 3
   },
   "file_extension": ".py",
   "mimetype": "text/x-python",
   "name": "python",
   "nbconvert_exporter": "python",
   "pygments_lexer": "ipython3",
   "version": "3.8.5"
  }
 },
 "nbformat": 4,
 "nbformat_minor": 4
}
