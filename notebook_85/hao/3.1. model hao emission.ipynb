{
 "cells": [
  {
   "cell_type": "code",
   "execution_count": 14,
   "metadata": {},
   "outputs": [],
   "source": [
    "# Pandas library for the pandas dataframes\n",
    "import pandas as pd\n",
    "from pandas import DataFrame\n",
    "import numpy as np\n",
    "import scipy.stats as stats\n",
    "import scipy\n",
    "\n",
    "\n",
    "\n",
    "# Import Scikit-Learn library for decision tree models\n",
    "import sklearn \n",
    "\n",
    "from sklearn import datasets, linear_model, metrics, tree\n",
    "from sklearn.utils import resample\n",
    "\n",
    "from sklearn.tree import DecisionTreeRegressor\n",
    "\n",
    "from sklearn.ensemble import BaggingRegressor, ExtraTreesRegressor, GradientBoostingRegressor, RandomForestRegressor\n",
    "\n",
    "from sklearn.linear_model import ElasticNet, Lasso,  RidgeCV\n",
    "\n",
    "from sklearn.neighbors import KNeighborsRegressor\n",
    "\n",
    "        \n",
    "# Dataset splitting        \n",
    "from sklearn.model_selection import train_test_split, LeaveOneOut, KFold, cross_validate, RandomizedSearchCV\n",
    "\n",
    "# Errors\n",
    "from sklearn.metrics import r2_score, mean_squared_error, mean_absolute_error, accuracy_score\n",
    "\n",
    "from matplotlib import pyplot as plt\n",
    "\n",
    "from tqdm import tqdm\n",
    "\n",
    "import os\n",
    "import joblib\n",
    "\n"
   ]
  },
  {
   "cell_type": "code",
   "execution_count": 15,
   "metadata": {
    "scrolled": true
   },
   "outputs": [
    {
     "data": {
      "text/html": [
       "<div>\n",
       "<style scoped>\n",
       "    .dataframe tbody tr th:only-of-type {\n",
       "        vertical-align: middle;\n",
       "    }\n",
       "\n",
       "    .dataframe tbody tr th {\n",
       "        vertical-align: top;\n",
       "    }\n",
       "\n",
       "    .dataframe thead th {\n",
       "        text-align: right;\n",
       "    }\n",
       "</style>\n",
       "<table border=\"1\" class=\"dataframe\">\n",
       "  <thead>\n",
       "    <tr style=\"text-align: right;\">\n",
       "      <th></th>\n",
       "      <th>Unnamed: 0</th>\n",
       "      <th>Unnamed: 0.1</th>\n",
       "      <th>Unnamed: 0.1.1</th>\n",
       "      <th>in_amount_mmol</th>\n",
       "      <th>p_amount_mmol</th>\n",
       "      <th>sol_amount_ml</th>\n",
       "      <th>TOP_amount_mmol</th>\n",
       "      <th>acid_amount_mmol</th>\n",
       "      <th>amine_amount_mmol</th>\n",
       "      <th>thiol_amount_mmol</th>\n",
       "      <th>...</th>\n",
       "      <th>x8_oleic acid</th>\n",
       "      <th>x8_superhydride</th>\n",
       "      <th>x8_tetrabutylammonium myristate</th>\n",
       "      <th>x8_trioctylamine</th>\n",
       "      <th>x8_trioctylphosphine oxide</th>\n",
       "      <th>x8_water</th>\n",
       "      <th>x8_zinc iodide</th>\n",
       "      <th>diameter_nm</th>\n",
       "      <th>abs_nm</th>\n",
       "      <th>emission_nm</th>\n",
       "    </tr>\n",
       "  </thead>\n",
       "  <tbody>\n",
       "    <tr>\n",
       "      <th>0</th>\n",
       "      <td>0</td>\n",
       "      <td>0</td>\n",
       "      <td>0</td>\n",
       "      <td>2.798293</td>\n",
       "      <td>0.769563</td>\n",
       "      <td>-0.528015</td>\n",
       "      <td>1.951881</td>\n",
       "      <td>-0.431077</td>\n",
       "      <td>-0.641827</td>\n",
       "      <td>-0.197117</td>\n",
       "      <td>...</td>\n",
       "      <td>0.0</td>\n",
       "      <td>0.0</td>\n",
       "      <td>0.0</td>\n",
       "      <td>0.0</td>\n",
       "      <td>1.0</td>\n",
       "      <td>0.0</td>\n",
       "      <td>0.0</td>\n",
       "      <td>None</td>\n",
       "      <td>599.000000</td>\n",
       "      <td>612</td>\n",
       "    </tr>\n",
       "    <tr>\n",
       "      <th>1</th>\n",
       "      <td>7</td>\n",
       "      <td>7</td>\n",
       "      <td>7</td>\n",
       "      <td>-0.258506</td>\n",
       "      <td>-0.376025</td>\n",
       "      <td>1.691836</td>\n",
       "      <td>-0.304661</td>\n",
       "      <td>0.144143</td>\n",
       "      <td>-0.641827</td>\n",
       "      <td>-0.197117</td>\n",
       "      <td>...</td>\n",
       "      <td>0.0</td>\n",
       "      <td>1.0</td>\n",
       "      <td>0.0</td>\n",
       "      <td>0.0</td>\n",
       "      <td>0.0</td>\n",
       "      <td>0.0</td>\n",
       "      <td>0.0</td>\n",
       "      <td>3.5</td>\n",
       "      <td>562.000000</td>\n",
       "      <td>618</td>\n",
       "    </tr>\n",
       "    <tr>\n",
       "      <th>2</th>\n",
       "      <td>13</td>\n",
       "      <td>13</td>\n",
       "      <td>13</td>\n",
       "      <td>-0.341122</td>\n",
       "      <td>-0.594927</td>\n",
       "      <td>-0.103632</td>\n",
       "      <td>-0.304661</td>\n",
       "      <td>0.220839</td>\n",
       "      <td>-0.429943</td>\n",
       "      <td>-0.197117</td>\n",
       "      <td>...</td>\n",
       "      <td>0.0</td>\n",
       "      <td>0.0</td>\n",
       "      <td>0.0</td>\n",
       "      <td>0.0</td>\n",
       "      <td>0.0</td>\n",
       "      <td>0.0</td>\n",
       "      <td>0.0</td>\n",
       "      <td>3.7</td>\n",
       "      <td>580.000000</td>\n",
       "      <td>588</td>\n",
       "    </tr>\n",
       "    <tr>\n",
       "      <th>3</th>\n",
       "      <td>20</td>\n",
       "      <td>20</td>\n",
       "      <td>20</td>\n",
       "      <td>0.154575</td>\n",
       "      <td>-0.011188</td>\n",
       "      <td>-0.462725</td>\n",
       "      <td>-0.304661</td>\n",
       "      <td>-0.431077</td>\n",
       "      <td>-0.641827</td>\n",
       "      <td>5.132344</td>\n",
       "      <td>...</td>\n",
       "      <td>0.0</td>\n",
       "      <td>0.0</td>\n",
       "      <td>0.0</td>\n",
       "      <td>0.0</td>\n",
       "      <td>0.0</td>\n",
       "      <td>0.0</td>\n",
       "      <td>0.0</td>\n",
       "      <td>None</td>\n",
       "      <td>466.333333</td>\n",
       "      <td>500</td>\n",
       "    </tr>\n",
       "    <tr>\n",
       "      <th>4</th>\n",
       "      <td>21</td>\n",
       "      <td>21</td>\n",
       "      <td>21</td>\n",
       "      <td>0.154575</td>\n",
       "      <td>-0.011188</td>\n",
       "      <td>-0.462725</td>\n",
       "      <td>-0.304661</td>\n",
       "      <td>-0.431077</td>\n",
       "      <td>-0.641827</td>\n",
       "      <td>5.132344</td>\n",
       "      <td>...</td>\n",
       "      <td>0.0</td>\n",
       "      <td>0.0</td>\n",
       "      <td>0.0</td>\n",
       "      <td>0.0</td>\n",
       "      <td>0.0</td>\n",
       "      <td>0.0</td>\n",
       "      <td>0.0</td>\n",
       "      <td>None</td>\n",
       "      <td>466.333333</td>\n",
       "      <td>520</td>\n",
       "    </tr>\n",
       "    <tr>\n",
       "      <th>...</th>\n",
       "      <td>...</td>\n",
       "      <td>...</td>\n",
       "      <td>...</td>\n",
       "      <td>...</td>\n",
       "      <td>...</td>\n",
       "      <td>...</td>\n",
       "      <td>...</td>\n",
       "      <td>...</td>\n",
       "      <td>...</td>\n",
       "      <td>...</td>\n",
       "      <td>...</td>\n",
       "      <td>...</td>\n",
       "      <td>...</td>\n",
       "      <td>...</td>\n",
       "      <td>...</td>\n",
       "      <td>...</td>\n",
       "      <td>...</td>\n",
       "      <td>...</td>\n",
       "      <td>...</td>\n",
       "      <td>...</td>\n",
       "      <td>...</td>\n",
       "    </tr>\n",
       "    <tr>\n",
       "      <th>80</th>\n",
       "      <td>208</td>\n",
       "      <td>208</td>\n",
       "      <td>208</td>\n",
       "      <td>1.253370</td>\n",
       "      <td>1.448160</td>\n",
       "      <td>-0.528015</td>\n",
       "      <td>3.813777</td>\n",
       "      <td>-0.431077</td>\n",
       "      <td>-0.641827</td>\n",
       "      <td>-0.197117</td>\n",
       "      <td>...</td>\n",
       "      <td>0.0</td>\n",
       "      <td>0.0</td>\n",
       "      <td>0.0</td>\n",
       "      <td>0.0</td>\n",
       "      <td>1.0</td>\n",
       "      <td>0.0</td>\n",
       "      <td>0.0</td>\n",
       "      <td>3.5</td>\n",
       "      <td>590.000000</td>\n",
       "      <td>677</td>\n",
       "    </tr>\n",
       "    <tr>\n",
       "      <th>81</th>\n",
       "      <td>209</td>\n",
       "      <td>209</td>\n",
       "      <td>209</td>\n",
       "      <td>1.253370</td>\n",
       "      <td>1.448160</td>\n",
       "      <td>-0.528015</td>\n",
       "      <td>3.813777</td>\n",
       "      <td>-0.431077</td>\n",
       "      <td>-0.641827</td>\n",
       "      <td>-0.197117</td>\n",
       "      <td>...</td>\n",
       "      <td>0.0</td>\n",
       "      <td>0.0</td>\n",
       "      <td>0.0</td>\n",
       "      <td>0.0</td>\n",
       "      <td>1.0</td>\n",
       "      <td>0.0</td>\n",
       "      <td>0.0</td>\n",
       "      <td>4.2</td>\n",
       "      <td>626.000000</td>\n",
       "      <td>729</td>\n",
       "    </tr>\n",
       "    <tr>\n",
       "      <th>82</th>\n",
       "      <td>210</td>\n",
       "      <td>210</td>\n",
       "      <td>210</td>\n",
       "      <td>1.253370</td>\n",
       "      <td>1.448160</td>\n",
       "      <td>-0.528015</td>\n",
       "      <td>3.813777</td>\n",
       "      <td>-0.431077</td>\n",
       "      <td>-0.641827</td>\n",
       "      <td>-0.197117</td>\n",
       "      <td>...</td>\n",
       "      <td>0.0</td>\n",
       "      <td>0.0</td>\n",
       "      <td>0.0</td>\n",
       "      <td>0.0</td>\n",
       "      <td>1.0</td>\n",
       "      <td>0.0</td>\n",
       "      <td>0.0</td>\n",
       "      <td>4.8</td>\n",
       "      <td>689.000000</td>\n",
       "      <td>765</td>\n",
       "    </tr>\n",
       "    <tr>\n",
       "      <th>83</th>\n",
       "      <td>211</td>\n",
       "      <td>211</td>\n",
       "      <td>211</td>\n",
       "      <td>1.253370</td>\n",
       "      <td>1.448160</td>\n",
       "      <td>-0.528015</td>\n",
       "      <td>3.813777</td>\n",
       "      <td>-0.431077</td>\n",
       "      <td>-0.641827</td>\n",
       "      <td>-0.197117</td>\n",
       "      <td>...</td>\n",
       "      <td>0.0</td>\n",
       "      <td>0.0</td>\n",
       "      <td>0.0</td>\n",
       "      <td>0.0</td>\n",
       "      <td>1.0</td>\n",
       "      <td>0.0</td>\n",
       "      <td>0.0</td>\n",
       "      <td>6</td>\n",
       "      <td>729.000000</td>\n",
       "      <td>775</td>\n",
       "    </tr>\n",
       "    <tr>\n",
       "      <th>84</th>\n",
       "      <td>213</td>\n",
       "      <td>213</td>\n",
       "      <td>213</td>\n",
       "      <td>-0.580709</td>\n",
       "      <td>-0.667895</td>\n",
       "      <td>-0.070987</td>\n",
       "      <td>-0.304661</td>\n",
       "      <td>-0.316033</td>\n",
       "      <td>-0.641827</td>\n",
       "      <td>-0.197117</td>\n",
       "      <td>...</td>\n",
       "      <td>0.0</td>\n",
       "      <td>0.0</td>\n",
       "      <td>0.0</td>\n",
       "      <td>0.0</td>\n",
       "      <td>0.0</td>\n",
       "      <td>0.0</td>\n",
       "      <td>0.0</td>\n",
       "      <td>8.3</td>\n",
       "      <td>532.000000</td>\n",
       "      <td>590</td>\n",
       "    </tr>\n",
       "  </tbody>\n",
       "</table>\n",
       "<p>85 rows × 78 columns</p>\n",
       "</div>"
      ],
      "text/plain": [
       "    Unnamed: 0  Unnamed: 0.1  Unnamed: 0.1.1  in_amount_mmol  p_amount_mmol  \\\n",
       "0            0             0               0        2.798293       0.769563   \n",
       "1            7             7               7       -0.258506      -0.376025   \n",
       "2           13            13              13       -0.341122      -0.594927   \n",
       "3           20            20              20        0.154575      -0.011188   \n",
       "4           21            21              21        0.154575      -0.011188   \n",
       "..         ...           ...             ...             ...            ...   \n",
       "80         208           208             208        1.253370       1.448160   \n",
       "81         209           209             209        1.253370       1.448160   \n",
       "82         210           210             210        1.253370       1.448160   \n",
       "83         211           211             211        1.253370       1.448160   \n",
       "84         213           213             213       -0.580709      -0.667895   \n",
       "\n",
       "    sol_amount_ml  TOP_amount_mmol  acid_amount_mmol  amine_amount_mmol  \\\n",
       "0       -0.528015         1.951881         -0.431077          -0.641827   \n",
       "1        1.691836        -0.304661          0.144143          -0.641827   \n",
       "2       -0.103632        -0.304661          0.220839          -0.429943   \n",
       "3       -0.462725        -0.304661         -0.431077          -0.641827   \n",
       "4       -0.462725        -0.304661         -0.431077          -0.641827   \n",
       "..            ...              ...               ...                ...   \n",
       "80      -0.528015         3.813777         -0.431077          -0.641827   \n",
       "81      -0.528015         3.813777         -0.431077          -0.641827   \n",
       "82      -0.528015         3.813777         -0.431077          -0.641827   \n",
       "83      -0.528015         3.813777         -0.431077          -0.641827   \n",
       "84      -0.070987        -0.304661         -0.316033          -0.641827   \n",
       "\n",
       "    thiol_amount_mmol  ...  x8_oleic acid  x8_superhydride  \\\n",
       "0           -0.197117  ...            0.0              0.0   \n",
       "1           -0.197117  ...            0.0              1.0   \n",
       "2           -0.197117  ...            0.0              0.0   \n",
       "3            5.132344  ...            0.0              0.0   \n",
       "4            5.132344  ...            0.0              0.0   \n",
       "..                ...  ...            ...              ...   \n",
       "80          -0.197117  ...            0.0              0.0   \n",
       "81          -0.197117  ...            0.0              0.0   \n",
       "82          -0.197117  ...            0.0              0.0   \n",
       "83          -0.197117  ...            0.0              0.0   \n",
       "84          -0.197117  ...            0.0              0.0   \n",
       "\n",
       "    x8_tetrabutylammonium myristate  x8_trioctylamine  \\\n",
       "0                               0.0               0.0   \n",
       "1                               0.0               0.0   \n",
       "2                               0.0               0.0   \n",
       "3                               0.0               0.0   \n",
       "4                               0.0               0.0   \n",
       "..                              ...               ...   \n",
       "80                              0.0               0.0   \n",
       "81                              0.0               0.0   \n",
       "82                              0.0               0.0   \n",
       "83                              0.0               0.0   \n",
       "84                              0.0               0.0   \n",
       "\n",
       "    x8_trioctylphosphine oxide  x8_water  x8_zinc iodide  diameter_nm  \\\n",
       "0                          1.0       0.0             0.0         None   \n",
       "1                          0.0       0.0             0.0          3.5   \n",
       "2                          0.0       0.0             0.0          3.7   \n",
       "3                          0.0       0.0             0.0         None   \n",
       "4                          0.0       0.0             0.0         None   \n",
       "..                         ...       ...             ...          ...   \n",
       "80                         1.0       0.0             0.0          3.5   \n",
       "81                         1.0       0.0             0.0          4.2   \n",
       "82                         1.0       0.0             0.0          4.8   \n",
       "83                         1.0       0.0             0.0            6   \n",
       "84                         0.0       0.0             0.0          8.3   \n",
       "\n",
       "        abs_nm  emission_nm  \n",
       "0   599.000000          612  \n",
       "1   562.000000          618  \n",
       "2   580.000000          588  \n",
       "3   466.333333          500  \n",
       "4   466.333333          520  \n",
       "..         ...          ...  \n",
       "80  590.000000          677  \n",
       "81  626.000000          729  \n",
       "82  689.000000          765  \n",
       "83  729.000000          775  \n",
       "84  532.000000          590  \n",
       "\n",
       "[85 rows x 78 columns]"
      ]
     },
     "execution_count": 15,
     "metadata": {},
     "output_type": "execute_result"
    }
   ],
   "source": [
    "df_emi = pd.read_csv(\"dataset_scaled_emission.csv\")\n",
    "df_emi"
   ]
  },
  {
   "cell_type": "code",
   "execution_count": 16,
   "metadata": {},
   "outputs": [],
   "source": [
    "# Input for ML models\n",
    "\n",
    "input_col = ['in_amount_mmol',\n",
    "             'p_amount_mmol',\n",
    "             'sol_amount_ml',\n",
    "             'TOP_amount_mmol',\n",
    "             'acid_amount_mmol',\n",
    "             'amine_amount_mmol',\n",
    "             'thiol_amount_mmol',\n",
    "             'zinc_amount_mmol',\n",
    "             'other_amount_mmol',\n",
    "             'total_volume_ml',\n",
    "             'temp_c',\n",
    "             'time_min',\n",
    "             'x0_chloroindium oxalate',\n",
    "             'x0_indium acetate',\n",
    "             'x0_indium bromide',\n",
    "             'x0_indium chloride',\n",
    "             'x0_indium iodide',\n",
    "             'x0_indium myristate',\n",
    "             'x0_indium oxalate',\n",
    "             'x0_indium palmitate',\n",
    "             'x0_indium trifluoroacetate',\n",
    "             'x0_indium tris(N,N-diisopropylacetamidinato)',\n",
    "             'x1_bis(trimethylsilyl)phosphine',\n",
    "             'x1_phosphine gas',\n",
    "             'x1_phosphorus trichloride',\n",
    "             'x1_sodium phosphide',\n",
    "             'x1_tris(diethylamino)phosphine',\n",
    "             'x1_tris(dimethylamino)phosphine',\n",
    "             'x1_tris(trimethylgermyl)phosphine',\n",
    "             'x1_tris(trimethylsilyl)phosphine',\n",
    "             'x1_white phosphorus',\n",
    "             'x2_4-ethylpyridine',\n",
    "             'x2_None',\n",
    "             'x2_dimethylformamide',\n",
    "             'x2_mesitylene',\n",
    "             'x2_octadecene',\n",
    "             'x2_toluene',\n",
    "             'x3_None',\n",
    "             'x3_trioctylphosphine',\n",
    "             'x4_None',\n",
    "             'x4_lauric acid',\n",
    "             'x4_myristic acid',\n",
    "             'x4_oleic acid',\n",
    "             'x4_palmitic acid',\n",
    "             'x4_stearic acid',\n",
    "             'x5_None',\n",
    "             'x5_dioctylamine',\n",
    "             'x5_dodecylamine',\n",
    "             'x5_hexadecylamine',\n",
    "             'x5_octylamine',\n",
    "             'x5_oleylamine',\n",
    "             'x6_None',\n",
    "             'x6_dodecanethiol',\n",
    "             'x7_None',\n",
    "             'x7_zinc acetate',\n",
    "             'x7_zinc bromide',\n",
    "             'x7_zinc chloride',\n",
    "             'x7_zinc iodide',\n",
    "             'x7_zinc octanoate',\n",
    "             'x7_zinc oleate',\n",
    "             'x7_zinc stearate',\n",
    "             'x7_zinc undecylenate',\n",
    "             'x8_None',\n",
    "             'x8_acetic acid',\n",
    "             'x8_copper bromide',\n",
    "             'x8_superhydride',\n",
    "             'x8_oleic acid',\n",
    "             'x8_tetrabutylammonium myristate',\n",
    "             'x8_trioctylamine',\n",
    "             'x8_trioctylphosphine oxide',\n",
    "             'x8_water',\n",
    "             'x8_zinc iodide',\n",
    "             'abs_nm'\n",
    "            ]\n",
    "\n",
    "output_col = ['emission_nm']\n",
    "\n",
    "X = df_emi[input_col]\n",
    "\n",
    "Y = df_emi[output_col]"
   ]
  },
  {
   "cell_type": "code",
   "execution_count": 17,
   "metadata": {},
   "outputs": [],
   "source": [
    "# Splitting dataset for training\n",
    "X_train, X_test, Y_train, Y_test = train_test_split(X, Y, test_size=0.15, random_state=45, shuffle=True)"
   ]
  },
  {
   "cell_type": "markdown",
   "metadata": {},
   "source": [
    "### 1. Bagging"
   ]
  },
  {
   "cell_type": "code",
   "execution_count": 5,
   "metadata": {
    "scrolled": true
   },
   "outputs": [
    {
     "name": "stderr",
     "output_type": "stream",
     "text": [
      "100%|██████████| 29/29 [15:21<00:00, 31.78s/it]"
     ]
    },
    {
     "name": "stdout",
     "output_type": "stream",
     "text": [
      "13.645299145299143 7 5 32\n"
     ]
    },
    {
     "name": "stderr",
     "output_type": "stream",
     "text": [
      "\n"
     ]
    }
   ],
   "source": [
    "# This is a grid search for three parameters in the Bagging algorithm. \n",
    "# Parameters are: max_depth, n_estimators, random_state.\n",
    "# This gives the best combination of the three parameters for the smallest mean squared error.\n",
    "\n",
    "min_mae = 99999\n",
    "\n",
    "min_i, min_j, min_k  = 0, 0, 0\n",
    "\n",
    "for i in tqdm(range(1, 30)):\n",
    "    for j in range(1, 30):\n",
    "        for k in range(2, 80, 2):\n",
    "            \n",
    "            B_regr = BaggingRegressor(base_estimator=DecisionTreeRegressor(max_depth=i),\n",
    "                                      n_estimators=j,\n",
    "                                      random_state=k)\n",
    "            \n",
    "            B_regr.fit(X_train, np.ravel(Y_train))\n",
    "            \n",
    "            B_Y_pred = B_regr.predict(X_test)\n",
    "            \n",
    "            mae = mean_absolute_error(Y_test, B_Y_pred)\n",
    "            \n",
    "            if (min_mae > mae):\n",
    "                min_mae = mae\n",
    "                min_i = i\n",
    "                min_j = j\n",
    "                min_k = k\n",
    "            \n",
    "print(min_mae, min_i, min_j, min_k)"
   ]
  },
  {
   "cell_type": "markdown",
   "metadata": {},
   "source": [
    "### 2. Decision Trees"
   ]
  },
  {
   "cell_type": "code",
   "execution_count": 6,
   "metadata": {
    "scrolled": false
   },
   "outputs": [
    {
     "name": "stderr",
     "output_type": "stream",
     "text": [
      "100%|██████████| 29/29 [02:48<00:00,  5.82s/it]"
     ]
    },
    {
     "name": "stdout",
     "output_type": "stream",
     "text": [
      "13.87510734879156 4 24 52\n"
     ]
    },
    {
     "name": "stderr",
     "output_type": "stream",
     "text": [
      "\n"
     ]
    }
   ],
   "source": [
    "# This is a grid search for three parameters in the Decision Trees algorithm. \n",
    "# Parameters are: max_depth, max_features, random_state.\n",
    "# This gives the best combination of the three parameters for the smallest mean squared error.\n",
    "\n",
    "min_mae = 99999\n",
    "\n",
    "min_i, min_j, min_k  = 0, 0, 0\n",
    "\n",
    "for i in tqdm(range(1, 30)):\n",
    "    for j in range(1, 30):\n",
    "        for k in range(4, 70, 2):\n",
    "            \n",
    "            DT_regr = DecisionTreeRegressor(max_depth=i,\n",
    "                                max_features=j,\n",
    "                                random_state=k)\n",
    "            \n",
    "            DT_regr.fit(X_train, Y_train)\n",
    "\n",
    "            DT_Y_pred = DT_regr.predict(X_test)\n",
    "\n",
    "            mae = mean_absolute_error(Y_test, DT_Y_pred)\n",
    "            \n",
    "            if (min_mae > mae):\n",
    "                min_mae = mae\n",
    "                min_i = i\n",
    "                min_j = j\n",
    "                min_k = k\n",
    "            \n",
    "print(min_mae, min_i, min_j, min_k)"
   ]
  },
  {
   "cell_type": "code",
   "execution_count": null,
   "metadata": {},
   "outputs": [],
   "source": [
    "DT_regr = DecisionTreeRegressor(max_depth=5,\n",
    "                                max_features=9,\n",
    "                                random_state=60)\n",
    "            \n",
    "DT_regr.fit(X_train, np.ravel(Y_train))\n",
    "            \n",
    "DT_Y_pred = B_regr.predict(X_test)\n",
    "            \n",
    "DT_mae = mean_absolute_error(Y_test, DT_Y_pred)\n",
    "DT_mse = mean_squared_error(Y_test, DT_Y_pred)\n",
    "print(\"Mean absolute error =\", round(DT_mae,3), '\\n' \"Mean squared error =\", round(DT_mse,3))\n",
    "\n",
    "plt.figure()\n",
    "plt.title(\"Decision Tree\")\n",
    "plt.plot(Y_test, DT_Y_pred, 'o')\n",
    "plt.xlabel('Observed Values (nm)')\n",
    "plt.ylabel('Predicted Values (nm)')\n",
    "plt.plot([400,800],[400,800], color = 'r')\n",
    "plt.text(400, 750, 'MAE=' , fontdict=None)\n",
    "plt.text(440, 750, round(DT_mae,3) , fontdict=None)\n",
    "plt.show()"
   ]
  },
  {
   "cell_type": "markdown",
   "metadata": {},
   "source": [
    "### 3. Random Forrest"
   ]
  },
  {
   "cell_type": "code",
   "execution_count": 7,
   "metadata": {
    "scrolled": true
   },
   "outputs": [
    {
     "name": "stderr",
     "output_type": "stream",
     "text": [
      "100%|██████████| 29/29 [08:22<00:00, 17.32s/it]"
     ]
    },
    {
     "name": "stdout",
     "output_type": "stream",
     "text": [
      "13.26153846153846 10 2 32\n"
     ]
    },
    {
     "name": "stderr",
     "output_type": "stream",
     "text": [
      "\n"
     ]
    }
   ],
   "source": [
    "# This is a grid search for three parameters in the Random Forest algorithm. \n",
    "# Parameters are: max_depth, n_estimators, max_features.\n",
    "# Random_state is set to 45.\n",
    "# This gives the best combination of the three parameters for the smallest mean squared error.\n",
    "\n",
    "min_mae = 99999\n",
    "min_i, min_j, min_k = 0, 0, 0\n",
    "for i in tqdm(range(1, 30)):\n",
    "    for j in range(1, 30):\n",
    "        for k in range(2, 60, 2):\n",
    "            RF_regr = RandomForestRegressor(max_depth=i, \n",
    "                                            n_estimators=j, \n",
    "                                            max_features=k,\n",
    "                                            random_state=45\n",
    "                                                )\n",
    "            RF_regr.fit(X_train, np.ravel(Y_train))\n",
    "            RF_Y_pred = RF_regr.predict(X_test)\n",
    "\n",
    "            mae = mean_absolute_error(Y_test, RF_Y_pred)\n",
    "            if (min_mae > mae):\n",
    "                min_mae = mae\n",
    "                min_i = i\n",
    "                min_j = j\n",
    "                min_k = k\n",
    "            \n",
    "print(min_mae, min_i, min_j, min_k)"
   ]
  },
  {
   "cell_type": "code",
   "execution_count": 15,
   "metadata": {},
   "outputs": [
    {
     "name": "stdout",
     "output_type": "stream",
     "text": [
      "14.02307692307692\n"
     ]
    }
   ],
   "source": [
    "RF_regr = RandomForestRegressor(max_depth=6, n_estimators=1, max_features=20, random_state=45)\n",
    "RF_regr.fit(X_train, np.ravel(Y_train))\n",
    "RF_Y_pred = RF_regr.predict(X_test)\n",
    "mae = mean_absolute_error(Y_test, RF_Y_pred)\n",
    "print(mae)"
   ]
  },
  {
   "cell_type": "code",
   "execution_count": 16,
   "metadata": {},
   "outputs": [
    {
     "name": "stderr",
     "output_type": "stream",
     "text": [
      "100%|██████████| 99/99 [00:00<00:00, 175.46it/s]"
     ]
    },
    {
     "name": "stdout",
     "output_type": "stream",
     "text": [
      "14.02307692307692 45\n"
     ]
    },
    {
     "name": "stderr",
     "output_type": "stream",
     "text": [
      "\n"
     ]
    }
   ],
   "source": [
    "min_mae = 9999\n",
    "min_a = 0\n",
    "for a in tqdm(range(1,100)):\n",
    "    RF_regr = RandomForestRegressor(max_depth=6, n_estimators=1, max_features=20, random_state=a)\n",
    "    RF_regr.fit(X_train, np.ravel(Y_train))\n",
    "    RF_Y_pred = RF_regr.predict(X_test)\n",
    "    mae = mean_absolute_error(Y_test, RF_Y_pred)\n",
    "    if (min_mae > mae):\n",
    "        min_mae = mae\n",
    "        min_a = a\n",
    "print(min_mae, min_a)    "
   ]
  },
  {
   "cell_type": "code",
   "execution_count": null,
   "metadata": {},
   "outputs": [],
   "source": []
  },
  {
   "cell_type": "markdown",
   "metadata": {},
   "source": [
    "### 4. Extra Trees"
   ]
  },
  {
   "cell_type": "code",
   "execution_count": 8,
   "metadata": {
    "scrolled": true
   },
   "outputs": [
    {
     "name": "stderr",
     "output_type": "stream",
     "text": [
      "100%|██████████| 33/33 [17:28<00:00, 31.77s/it]"
     ]
    },
    {
     "name": "stdout",
     "output_type": "stream",
     "text": [
      "11.794871794871812 3 13 51\n"
     ]
    },
    {
     "name": "stderr",
     "output_type": "stream",
     "text": [
      "\n"
     ]
    }
   ],
   "source": [
    "# This is a grid search for three parameters in the Extra Trees algorithm. \n",
    "# Parameters are: random_state, n_estimators, max_features.\n",
    "\n",
    "# This gives the best combination of the three parameters for the smallest mean squared error.\n",
    "\n",
    "min_mae = 99999\n",
    "min_i, min_j, min_k = 0, 0, 0\n",
    "for i in tqdm(range(1, 34)):\n",
    "    for j in range(1, 34):\n",
    "        for k in range(2, 60, 1):\n",
    "            ET_regr = ExtraTreesRegressor(n_estimators=i, \n",
    "                                            max_features=j,\n",
    "                                            random_state=k\n",
    "                                                )\n",
    "            ET_regr.fit(X_train, np.ravel(Y_train))\n",
    "            ET_Y_pred = ET_regr.predict(X_test)\n",
    "\n",
    "            mae = mean_absolute_error(Y_test, ET_Y_pred)\n",
    "            if (min_mae > mae):\n",
    "                min_mae = mae\n",
    "                min_i = i\n",
    "                min_j = j\n",
    "                min_k = k\n",
    "            \n",
    "print(min_mae, min_i, min_j, min_k)"
   ]
  },
  {
   "cell_type": "code",
   "execution_count": 11,
   "metadata": {},
   "outputs": [
    {
     "name": "stdout",
     "output_type": "stream",
     "text": [
      "Mean absolute error = 11.795 \n",
      "Mean squared error = 231.846\n"
     ]
    },
    {
     "data": {
      "image/png": "[encoded data removed]",
      "text/plain": [
       "<Figure size 432x288 with 1 Axes>"
      ]
     },
     "metadata": {
      "needs_background": "light"
     },
     "output_type": "display_data"
    }
   ],
   "source": [
    "ET_regr = ExtraTreesRegressor(n_estimators=3, \n",
    "                                            max_features=13,\n",
    "                                            random_state=51)\n",
    "            \n",
    "ET_regr.fit(X_train, np.ravel(Y_train))\n",
    "            \n",
    "ET_Y_pred = ET_regr.predict(X_test)\n",
    "            \n",
    "ET_mae = mean_absolute_error(Y_test, ET_Y_pred)\n",
    "ET_mse = mean_squared_error(Y_test, ET_Y_pred)\n",
    "print(\"Mean absolute error =\", round(ET_mae,3), '\\n' \"Mean squared error =\", round(ET_mse,3))\n",
    "\n",
    "plt.figure()\n",
    "plt.title(\"Decision Tree\")\n",
    "plt.plot(Y_test, ET_Y_pred, 'o')\n",
    "plt.xlabel('Observed Values (nm)')\n",
    "plt.ylabel('Predicted Values (nm)')\n",
    "plt.plot([400,800],[400,800], color = 'r')\n",
    "plt.text(400, 750, 'MAE=' , fontdict=None)\n",
    "plt.text(440, 750, round(ET_mae,3) , fontdict=None)\n",
    "plt.show()"
   ]
  },
  {
   "cell_type": "markdown",
   "metadata": {},
   "source": [
    "### 5. Gradient Boosting"
   ]
  },
  {
   "cell_type": "code",
   "execution_count": 9,
   "metadata": {
    "scrolled": true
   },
   "outputs": [
    {
     "name": "stderr",
     "output_type": "stream",
     "text": [
      "100%|██████████| 8/8 [08:23<00:00, 62.96s/it]"
     ]
    },
    {
     "name": "stdout",
     "output_type": "stream",
     "text": [
      "18.514535245824483 320 8 0.22000000000000003 10\n"
     ]
    },
    {
     "name": "stderr",
     "output_type": "stream",
     "text": [
      "\n"
     ]
    }
   ],
   "source": [
    "min_mae = 999\n",
    "min_i, min_j, min_k, min_l = 0, 0, 0.0, 0\n",
    "for i in tqdm(range(320, 400, 10)):\n",
    "    for j in range(2, 24, 2):\n",
    "        for k in np.arange(0.08, 0.22, 0.02):\n",
    "            for l in range(2, 18, 4):\n",
    "                GB_regr = GradientBoostingRegressor(n_estimators=i, max_depth=j, learning_rate=k, random_state=l)\n",
    "                GB_regr.fit(X_train, np.ravel(Y_train))\n",
    "                GB_Y_pred = GB_regr.predict(X_test)\n",
    "\n",
    "                mae = mean_absolute_error(Y_test, GB_Y_pred)\n",
    "                if (min_mae > mae):\n",
    "                    min_mae = mae\n",
    "                    min_i = i\n",
    "                    min_j = j\n",
    "                    min_k = k\n",
    "                    min_l = l\n",
    "\n",
    "print(min_mae, min_i, min_j, min_k, min_l)"
   ]
  },
  {
   "cell_type": "code",
   "execution_count": null,
   "metadata": {},
   "outputs": [],
   "source": [
    "GB_regr = GradientBoostingRegressor(n_estimators=540, max_depth=4, learning_rate=0.18, random_state=67)\n",
    "\n",
    "            \n",
    "GB_regr.fit(X_train, np.ravel(Y_train))\n",
    "            \n",
    "GB_Y_pred = GB_regr.predict(X_test)\n",
    "            \n",
    "GB_mae = mean_absolute_error(Y_test, GB_Y_pred)\n",
    "print(\"Mean absolute error =\", round(GB_mae,3))\n",
    "\n",
    "plt.figure()\n",
    "plt.title(\"Gradient Boosting\")\n",
    "plt.plot(Y_test, GB_Y_pred, 'o')\n",
    "plt.xlabel('Observed Values (nm)')\n",
    "plt.ylabel('Predicted Values (nm)')\n",
    "plt.plot([400,800],[400,800], color = 'r')\n",
    "plt.text(400, 750, 'MAE=' , fontdict=None)\n",
    "plt.text(440, 750, round(GB_mae,3) , fontdict=None)\n",
    "plt.show()"
   ]
  },
  {
   "cell_type": "markdown",
   "metadata": {},
   "source": [
    "### 6. Others"
   ]
  },
  {
   "cell_type": "code",
   "execution_count": 10,
   "metadata": {},
   "outputs": [
    {
     "name": "stdout",
     "output_type": "stream",
     "text": [
      "K-nn\n",
      " MAE for diameter is  16.184615384615373 \n",
      "\n",
      "Ridge\n",
      " MAE for diameter is  18.110791212932252 \n",
      "\n",
      "Lasso\n",
      " MAE for diameter is  19.560952909058933 \n",
      "\n",
      "ElasticNet\n",
      " MAE for diameter is  18.19936624046899 \n",
      "\n"
     ]
    }
   ],
   "source": [
    "REGRESSIONS = {\n",
    "    \"K-nn\": KNeighborsRegressor(),                          \n",
    "    \"Ridge\": RidgeCV(),\n",
    "    \"Lasso\": Lasso(),\n",
    "    \"ElasticNet\": ElasticNet(random_state=0),\n",
    "                }\n",
    "# mean absolute error is used to evaluate the performance of all regressions.\n",
    "\n",
    "\n",
    "for name, reg in REGRESSIONS.items():     \n",
    "    reg.fit(X_train, Y_train)                 \n",
    "    Y_pred = pd.DataFrame(reg.predict(X_test))\n",
    "    \n",
    "    print(name)\n",
    "    \n",
    "    mae = mean_absolute_error(Y_test, Y_pred)\n",
    "    \n",
    "    print(' MAE for diameter is ', mae, '\\n')"
   ]
  },
  {
   "cell_type": "markdown",
   "metadata": {},
   "source": [
    "## Conclusion"
   ]
  },
  {
   "cell_type": "markdown",
   "metadata": {},
   "source": [
    "Decision Tree gave the best performance."
   ]
  },
  {
   "cell_type": "markdown",
   "metadata": {},
   "source": [
    "### Saving model"
   ]
  },
  {
   "cell_type": "code",
   "execution_count": 18,
   "metadata": {},
   "outputs": [
    {
     "data": {
      "text/plain": [
       "['./model_aug_emission_ExtraTrees.joblib']"
      ]
     },
     "execution_count": 18,
     "metadata": {},
     "output_type": "execute_result"
    }
   ],
   "source": [
    "ET_regr = ExtraTreesRegressor(n_estimators=3, \n",
    "                                            max_features=13,\n",
    "                                            random_state=51)\n",
    "            \n",
    "ET_regr.fit(X_train, np.ravel(Y_train))\n",
    "            \n",
    "ET_Y_pred = ET_regr.predict(X_test)\n",
    "            \n",
    "joblib.dump(ET_regr, \"./model_aug_emission_ExtraTrees.joblib\")\n"
   ]
  },
  {
   "cell_type": "code",
   "execution_count": null,
   "metadata": {},
   "outputs": [],
   "source": []
  },
  {
   "cell_type": "code",
   "execution_count": null,
   "metadata": {},
   "outputs": [],
   "source": []
  }
 ],
 "metadata": {
  "kernelspec": {
   "display_name": "Python 3 (ipykernel)",
   "language": "python",
   "name": "python3"
  },
  "language_info": {
   "codemirror_mode": {
    "name": "ipython",
    "version": 3
   },
   "file_extension": ".py",
   "mimetype": "text/x-python",
   "name": "python",
   "nbconvert_exporter": "python",
   "pygments_lexer": "ipython3",
   "version": "3.8.10"
  }
 },
 "nbformat": 4,
 "nbformat_minor": 4
}
