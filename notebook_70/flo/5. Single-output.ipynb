{
 "cells": [
  {
   "cell_type": "code",
   "execution_count": 1,
   "metadata": {},
   "outputs": [],
   "source": [
    "import numpy as np \n",
    "import pandas as pd\n",
    "import os\n",
    "import joblib\n",
    "import sklearn \n",
    "import matplotlib\n",
    "from matplotlib import pyplot as plt\n",
    "\n",
    "from sklearn.model_selection import train_test_split\n",
    "\n",
    "#Regressions:\n",
    "\n",
    "from sklearn.multioutput import MultiOutputRegressor\n",
    "\n",
    "from sklearn.neighbors import KNeighborsRegressor\n",
    "from sklearn.linear_model import Ridge\n",
    "from sklearn.linear_model import Lasso\n",
    "from sklearn.linear_model import ElasticNet\n",
    "from sklearn.linear_model import LinearRegression\n",
    "from sklearn.linear_model import RidgeCV\n",
    "from sklearn.ensemble import ExtraTreesRegressor\n",
    "from sklearn.ensemble import GradientBoostingRegressor\n",
    "from sklearn.ensemble import RandomForestRegressor\n",
    "from sklearn.ensemble import AdaBoostRegressor\n",
    "from sklearn.tree import DecisionTreeRegressor\n",
    "\n",
    "#Metric\n",
    "from sklearn.metrics import mean_squared_error\n",
    "from sklearn.metrics import mean_absolute_error\n",
    "from sklearn.metrics import r2_score\n",
    "\n",
    "\n",
    "from pandas import DataFrame\n",
    "\n",
    "\n",
    "# Show progress bar\n",
    "from tqdm import tqdm"
   ]
  },
  {
   "cell_type": "code",
   "execution_count": 2,
   "metadata": {},
   "outputs": [
    {
     "data": {
      "text/html": [
       "<div>\n",
       "<style scoped>\n",
       "    .dataframe tbody tr th:only-of-type {\n",
       "        vertical-align: middle;\n",
       "    }\n",
       "\n",
       "    .dataframe tbody tr th {\n",
       "        vertical-align: top;\n",
       "    }\n",
       "\n",
       "    .dataframe thead th {\n",
       "        text-align: right;\n",
       "    }\n",
       "</style>\n",
       "<table border=\"1\" class=\"dataframe\">\n",
       "  <thead>\n",
       "    <tr style=\"text-align: right;\">\n",
       "      <th></th>\n",
       "      <th>Unnamed: 0</th>\n",
       "      <th>Unnamed: 0.1</th>\n",
       "      <th>Unnamed: 0.1.1</th>\n",
       "      <th>Unnamed: 0.1.1.1</th>\n",
       "      <th>in_amount_mmol</th>\n",
       "      <th>p_amount_mmol</th>\n",
       "      <th>ligand_amount_mmol</th>\n",
       "      <th>first_sol_amount_ml</th>\n",
       "      <th>second_sol_amount_ml</th>\n",
       "      <th>third_sol_amount_ml</th>\n",
       "      <th>...</th>\n",
       "      <th>x6_zinc undecylenate</th>\n",
       "      <th>x7_None</th>\n",
       "      <th>x7_copper bromide</th>\n",
       "      <th>x7_oleic acid</th>\n",
       "      <th>x7_water</th>\n",
       "      <th>x7_zinc iodide</th>\n",
       "      <th>diameter_nm</th>\n",
       "      <th>abs_nm</th>\n",
       "      <th>emission_nm</th>\n",
       "      <th>Unnamed: 81</th>\n",
       "    </tr>\n",
       "  </thead>\n",
       "  <tbody>\n",
       "    <tr>\n",
       "      <th>0</th>\n",
       "      <td>0</td>\n",
       "      <td>0</td>\n",
       "      <td>0</td>\n",
       "      <td>0</td>\n",
       "      <td>0.154575</td>\n",
       "      <td>-0.011188</td>\n",
       "      <td>-0.247025</td>\n",
       "      <td>-0.673379</td>\n",
       "      <td>-0.370637</td>\n",
       "      <td>-0.096002</td>\n",
       "      <td>...</td>\n",
       "      <td>0</td>\n",
       "      <td>1</td>\n",
       "      <td>0</td>\n",
       "      <td>0</td>\n",
       "      <td>0</td>\n",
       "      <td>0</td>\n",
       "      <td>2.4300</td>\n",
       "      <td>480.000000</td>\n",
       "      <td>539.000000</td>\n",
       "      <td>59.000000</td>\n",
       "    </tr>\n",
       "    <tr>\n",
       "      <th>1</th>\n",
       "      <td>1</td>\n",
       "      <td>1</td>\n",
       "      <td>1</td>\n",
       "      <td>1</td>\n",
       "      <td>0.195883</td>\n",
       "      <td>0.280681</td>\n",
       "      <td>-0.439228</td>\n",
       "      <td>-0.658075</td>\n",
       "      <td>-0.370637</td>\n",
       "      <td>-0.096002</td>\n",
       "      <td>...</td>\n",
       "      <td>0</td>\n",
       "      <td>1</td>\n",
       "      <td>0</td>\n",
       "      <td>0</td>\n",
       "      <td>0</td>\n",
       "      <td>0</td>\n",
       "      <td>2.6100</td>\n",
       "      <td>610.000000</td>\n",
       "      <td>653.000000</td>\n",
       "      <td>43.000000</td>\n",
       "    </tr>\n",
       "    <tr>\n",
       "      <th>2</th>\n",
       "      <td>2</td>\n",
       "      <td>2</td>\n",
       "      <td>2</td>\n",
       "      <td>2</td>\n",
       "      <td>-0.423738</td>\n",
       "      <td>-0.412509</td>\n",
       "      <td>-0.439228</td>\n",
       "      <td>-0.655198</td>\n",
       "      <td>-0.370637</td>\n",
       "      <td>-0.096002</td>\n",
       "      <td>...</td>\n",
       "      <td>0</td>\n",
       "      <td>1</td>\n",
       "      <td>0</td>\n",
       "      <td>0</td>\n",
       "      <td>0</td>\n",
       "      <td>0</td>\n",
       "      <td>2.8435</td>\n",
       "      <td>560.000000</td>\n",
       "      <td>595.000000</td>\n",
       "      <td>35.000000</td>\n",
       "    </tr>\n",
       "    <tr>\n",
       "      <th>3</th>\n",
       "      <td>3</td>\n",
       "      <td>3</td>\n",
       "      <td>3</td>\n",
       "      <td>3</td>\n",
       "      <td>-0.423738</td>\n",
       "      <td>-0.412509</td>\n",
       "      <td>-0.439228</td>\n",
       "      <td>-0.655198</td>\n",
       "      <td>-0.370637</td>\n",
       "      <td>-0.096002</td>\n",
       "      <td>...</td>\n",
       "      <td>0</td>\n",
       "      <td>1</td>\n",
       "      <td>0</td>\n",
       "      <td>0</td>\n",
       "      <td>0</td>\n",
       "      <td>0</td>\n",
       "      <td>3.0560</td>\n",
       "      <td>590.000000</td>\n",
       "      <td>635.000000</td>\n",
       "      <td>45.000000</td>\n",
       "    </tr>\n",
       "    <tr>\n",
       "      <th>4</th>\n",
       "      <td>4</td>\n",
       "      <td>5</td>\n",
       "      <td>5</td>\n",
       "      <td>5</td>\n",
       "      <td>0.154575</td>\n",
       "      <td>-0.011188</td>\n",
       "      <td>-0.247025</td>\n",
       "      <td>-0.604513</td>\n",
       "      <td>-0.370637</td>\n",
       "      <td>-0.096002</td>\n",
       "      <td>...</td>\n",
       "      <td>0</td>\n",
       "      <td>1</td>\n",
       "      <td>0</td>\n",
       "      <td>0</td>\n",
       "      <td>0</td>\n",
       "      <td>0</td>\n",
       "      <td>2.7800</td>\n",
       "      <td>500.827586</td>\n",
       "      <td>520.000000</td>\n",
       "      <td>19.172414</td>\n",
       "    </tr>\n",
       "    <tr>\n",
       "      <th>...</th>\n",
       "      <td>...</td>\n",
       "      <td>...</td>\n",
       "      <td>...</td>\n",
       "      <td>...</td>\n",
       "      <td>...</td>\n",
       "      <td>...</td>\n",
       "      <td>...</td>\n",
       "      <td>...</td>\n",
       "      <td>...</td>\n",
       "      <td>...</td>\n",
       "      <td>...</td>\n",
       "      <td>...</td>\n",
       "      <td>...</td>\n",
       "      <td>...</td>\n",
       "      <td>...</td>\n",
       "      <td>...</td>\n",
       "      <td>...</td>\n",
       "      <td>...</td>\n",
       "      <td>...</td>\n",
       "      <td>...</td>\n",
       "      <td>...</td>\n",
       "    </tr>\n",
       "    <tr>\n",
       "      <th>211</th>\n",
       "      <td>211</td>\n",
       "      <td>214</td>\n",
       "      <td>214</td>\n",
       "      <td>214</td>\n",
       "      <td>0.154575</td>\n",
       "      <td>-0.376755</td>\n",
       "      <td>0.713993</td>\n",
       "      <td>4.491519</td>\n",
       "      <td>-0.370637</td>\n",
       "      <td>-0.096002</td>\n",
       "      <td>...</td>\n",
       "      <td>0</td>\n",
       "      <td>1</td>\n",
       "      <td>0</td>\n",
       "      <td>0</td>\n",
       "      <td>0</td>\n",
       "      <td>0</td>\n",
       "      <td>4.0000</td>\n",
       "      <td>585.000000</td>\n",
       "      <td>630.000000</td>\n",
       "      <td>45.000000</td>\n",
       "    </tr>\n",
       "    <tr>\n",
       "      <th>212</th>\n",
       "      <td>212</td>\n",
       "      <td>215</td>\n",
       "      <td>215</td>\n",
       "      <td>215</td>\n",
       "      <td>7.590031</td>\n",
       "      <td>7.504453</td>\n",
       "      <td>-0.439228</td>\n",
       "      <td>5.524499</td>\n",
       "      <td>-0.370637</td>\n",
       "      <td>-0.096002</td>\n",
       "      <td>...</td>\n",
       "      <td>0</td>\n",
       "      <td>1</td>\n",
       "      <td>0</td>\n",
       "      <td>0</td>\n",
       "      <td>0</td>\n",
       "      <td>0</td>\n",
       "      <td>3.0550</td>\n",
       "      <td>465.000000</td>\n",
       "      <td>550.000000</td>\n",
       "      <td>85.000000</td>\n",
       "    </tr>\n",
       "    <tr>\n",
       "      <th>213</th>\n",
       "      <td>213</td>\n",
       "      <td>216</td>\n",
       "      <td>216</td>\n",
       "      <td>216</td>\n",
       "      <td>2.633061</td>\n",
       "      <td>0.718486</td>\n",
       "      <td>4.173657</td>\n",
       "      <td>6.213152</td>\n",
       "      <td>4.521657</td>\n",
       "      <td>-0.096002</td>\n",
       "      <td>...</td>\n",
       "      <td>0</td>\n",
       "      <td>1</td>\n",
       "      <td>0</td>\n",
       "      <td>0</td>\n",
       "      <td>0</td>\n",
       "      <td>0</td>\n",
       "      <td>2.0800</td>\n",
       "      <td>465.000000</td>\n",
       "      <td>584.833333</td>\n",
       "      <td>119.833333</td>\n",
       "    </tr>\n",
       "    <tr>\n",
       "      <th>214</th>\n",
       "      <td>214</td>\n",
       "      <td>217</td>\n",
       "      <td>217</td>\n",
       "      <td>217</td>\n",
       "      <td>2.633061</td>\n",
       "      <td>0.718486</td>\n",
       "      <td>4.173657</td>\n",
       "      <td>6.213152</td>\n",
       "      <td>4.521657</td>\n",
       "      <td>-0.096002</td>\n",
       "      <td>...</td>\n",
       "      <td>0</td>\n",
       "      <td>1</td>\n",
       "      <td>0</td>\n",
       "      <td>0</td>\n",
       "      <td>0</td>\n",
       "      <td>0</td>\n",
       "      <td>2.7900</td>\n",
       "      <td>495.000000</td>\n",
       "      <td>594.833333</td>\n",
       "      <td>99.833333</td>\n",
       "    </tr>\n",
       "    <tr>\n",
       "      <th>215</th>\n",
       "      <td>215</td>\n",
       "      <td>218</td>\n",
       "      <td>218</td>\n",
       "      <td>218</td>\n",
       "      <td>2.633061</td>\n",
       "      <td>0.718486</td>\n",
       "      <td>4.173657</td>\n",
       "      <td>6.213152</td>\n",
       "      <td>4.521657</td>\n",
       "      <td>-0.096002</td>\n",
       "      <td>...</td>\n",
       "      <td>0</td>\n",
       "      <td>1</td>\n",
       "      <td>0</td>\n",
       "      <td>0</td>\n",
       "      <td>0</td>\n",
       "      <td>0</td>\n",
       "      <td>2.7000</td>\n",
       "      <td>500.000000</td>\n",
       "      <td>594.833333</td>\n",
       "      <td>94.833333</td>\n",
       "    </tr>\n",
       "  </tbody>\n",
       "</table>\n",
       "<p>216 rows × 83 columns</p>\n",
       "</div>"
      ],
      "text/plain": [
       "     Unnamed: 0  Unnamed: 0.1  Unnamed: 0.1.1  Unnamed: 0.1.1.1  \\\n",
       "0             0             0               0                 0   \n",
       "1             1             1               1                 1   \n",
       "2             2             2               2                 2   \n",
       "3             3             3               3                 3   \n",
       "4             4             5               5                 5   \n",
       "..          ...           ...             ...               ...   \n",
       "211         211           214             214               214   \n",
       "212         212           215             215               215   \n",
       "213         213           216             216               216   \n",
       "214         214           217             217               217   \n",
       "215         215           218             218               218   \n",
       "\n",
       "     in_amount_mmol  p_amount_mmol  ligand_amount_mmol  first_sol_amount_ml  \\\n",
       "0          0.154575      -0.011188           -0.247025            -0.673379   \n",
       "1          0.195883       0.280681           -0.439228            -0.658075   \n",
       "2         -0.423738      -0.412509           -0.439228            -0.655198   \n",
       "3         -0.423738      -0.412509           -0.439228            -0.655198   \n",
       "4          0.154575      -0.011188           -0.247025            -0.604513   \n",
       "..              ...            ...                 ...                  ...   \n",
       "211        0.154575      -0.376755            0.713993             4.491519   \n",
       "212        7.590031       7.504453           -0.439228             5.524499   \n",
       "213        2.633061       0.718486            4.173657             6.213152   \n",
       "214        2.633061       0.718486            4.173657             6.213152   \n",
       "215        2.633061       0.718486            4.173657             6.213152   \n",
       "\n",
       "     second_sol_amount_ml  third_sol_amount_ml  ...  x6_zinc undecylenate  \\\n",
       "0               -0.370637            -0.096002  ...                     0   \n",
       "1               -0.370637            -0.096002  ...                     0   \n",
       "2               -0.370637            -0.096002  ...                     0   \n",
       "3               -0.370637            -0.096002  ...                     0   \n",
       "4               -0.370637            -0.096002  ...                     0   \n",
       "..                    ...                  ...  ...                   ...   \n",
       "211             -0.370637            -0.096002  ...                     0   \n",
       "212             -0.370637            -0.096002  ...                     0   \n",
       "213              4.521657            -0.096002  ...                     0   \n",
       "214              4.521657            -0.096002  ...                     0   \n",
       "215              4.521657            -0.096002  ...                     0   \n",
       "\n",
       "     x7_None  x7_copper bromide  x7_oleic acid  x7_water  x7_zinc iodide  \\\n",
       "0          1                  0              0         0               0   \n",
       "1          1                  0              0         0               0   \n",
       "2          1                  0              0         0               0   \n",
       "3          1                  0              0         0               0   \n",
       "4          1                  0              0         0               0   \n",
       "..       ...                ...            ...       ...             ...   \n",
       "211        1                  0              0         0               0   \n",
       "212        1                  0              0         0               0   \n",
       "213        1                  0              0         0               0   \n",
       "214        1                  0              0         0               0   \n",
       "215        1                  0              0         0               0   \n",
       "\n",
       "     diameter_nm      abs_nm  emission_nm  Unnamed: 81  \n",
       "0         2.4300  480.000000   539.000000    59.000000  \n",
       "1         2.6100  610.000000   653.000000    43.000000  \n",
       "2         2.8435  560.000000   595.000000    35.000000  \n",
       "3         3.0560  590.000000   635.000000    45.000000  \n",
       "4         2.7800  500.827586   520.000000    19.172414  \n",
       "..           ...         ...          ...          ...  \n",
       "211       4.0000  585.000000   630.000000    45.000000  \n",
       "212       3.0550  465.000000   550.000000    85.000000  \n",
       "213       2.0800  465.000000   584.833333   119.833333  \n",
       "214       2.7900  495.000000   594.833333    99.833333  \n",
       "215       2.7000  500.000000   594.833333    94.833333  \n",
       "\n",
       "[216 rows x 83 columns]"
      ]
     },
     "execution_count": 2,
     "metadata": {},
     "output_type": "execute_result"
    }
   ],
   "source": [
    "df = pd.read_csv('flo_dataset_augmented.csv')\n",
    "df"
   ]
  },
  {
   "cell_type": "code",
   "execution_count": 3,
   "metadata": {},
   "outputs": [],
   "source": [
    "# Input for ML models\n",
    "\n",
    "input_col = ['in_amount_mmol', 'p_amount_mmol', 'ligand_amount_mmol',\n",
    "       'first_sol_amount_ml', 'second_sol_amount_ml', 'third_sol_amount_ml',\n",
    "       'other_1_amount_mmol', 'other_2_amount_mmol', 'total_volume_ml',\n",
    "       'temp_c', 'time_min', 'x0_chloroindium oxalate', 'x0_indium acetate',\n",
    "       'x0_indium bromide', 'x0_indium chloride', 'x0_indium iodide',\n",
    "       'x0_indium myristate', 'x0_indium oxalate', 'x0_indium palmitate',\n",
    "       'x0_indium trifluoroacetate',\n",
    "       'x0_indium tris(N,N-diisopropylacetamidinato)',\n",
    "       'x1_bis(trimethylsilyl)phosphine', 'x1_phosphine gas',\n",
    "       'x1_phosphorus trichloride', 'x1_sodium phosphide',\n",
    "       'x1_tris(diethylamino)phosphine', 'x1_tris(dimethylamino)phosphine',\n",
    "       'x1_tris(trimethylgermyl)phosphine', 'x1_tris(trimethylsilyl)phosphine',\n",
    "       'x1_white phosphorus', 'x2_None', 'x2_dodecanethiol', 'x2_lauric acid',\n",
    "       'x2_myristic acid', 'x2_oleic acid', 'x2_palmitic acid',\n",
    "       'x2_stearic acid', 'x3_4-ethylpyridine', 'x3_None',\n",
    "       'x3_dimethylformamide', 'x3_dodecylamine', 'x3_mesitylene',\n",
    "       'x3_octadecene', 'x3_oleylamine', 'x3_trioctylamine',\n",
    "       'x3_trioctylphosphine', 'x3_trioctylphosphine oxide', 'x4_None',\n",
    "       'x4_dioctyl ether', 'x4_dioctylamine', 'x4_hexadecylamine',\n",
    "       'x4_octylamine', 'x4_oleylamine', 'x4_toluene', 'x4_trioctylphosphine',\n",
    "       'x4_trioctylphosphine oxide', 'x5_None', 'x5_trioctylphosphine',\n",
    "       'x6_None', 'x6_acetic acid', 'x6_superhydride',\n",
    "       'x6_tetrabutylammonium myristate', 'x6_zinc acetate', 'x6_zinc bromide',\n",
    "       'x6_zinc chloride', 'x6_zinc iodide', 'x6_zinc octanoate',\n",
    "       'x6_zinc oleate', 'x6_zinc stearate', 'x6_zinc undecylenate', 'x7_None',\n",
    "       'x7_copper bromide', 'x7_oleic acid', 'x7_water', 'x7_zinc iodide']\n",
    "\n",
    "#Three individual outputs:\n",
    "diameter = ['diameter_nm']\n",
    "emission = ['emission_nm']\n",
    "absorbance = ['abs_nm']\n",
    "\n",
    "#Splitting dataset\n",
    "\n",
    "X = df[input_col]\n",
    "\n",
    "Y_d = df[diameter]\n",
    "Y_e = df[emission]\n",
    "Y_a = df[absorbance]\n",
    "\n",
    "\n",
    "X_train_d, X_test_d, Y_train_d, Y_test_d = train_test_split(X, Y_d, test_size=0.15, random_state=45, shuffle=True)\n",
    "X_train_e, X_test_e, Y_train_e, Y_test_e = train_test_split(X, Y_e, test_size=0.15, random_state=45, shuffle=True)\n",
    "X_train_a, X_test_a, Y_train_a, Y_test_a = train_test_split(X, Y_a, test_size=0.15, random_state=45, shuffle=True)"
   ]
  },
  {
   "cell_type": "markdown",
   "metadata": {},
   "source": [
    "## D - Optimizing diameter model\n"
   ]
  },
  {
   "cell_type": "markdown",
   "metadata": {},
   "source": [
    "### 1D. Extra Trees"
   ]
  },
  {
   "cell_type": "code",
   "execution_count": 4,
   "metadata": {},
   "outputs": [
    {
     "name": "stderr",
     "output_type": "stream",
     "text": [
      "100%|██████████| 24/24 [10:56<00:00, 27.33s/it]"
     ]
    },
    {
     "name": "stdout",
     "output_type": "stream",
     "text": [
      "0.25352813852813844 7 23 25\n"
     ]
    },
    {
     "name": "stderr",
     "output_type": "stream",
     "text": [
      "\n"
     ]
    }
   ],
   "source": [
    "# This is a grid search for three parameters in the Extra Trees algorithm. \n",
    "# Parameters are: random_state, n_estimators, max_features.\n",
    "\n",
    "# This gives the best combination of the three parameters for the smallest mean squared error.\n",
    "\n",
    "min_mae = 99999\n",
    "min_i, min_j, min_k = 0, 0, 0\n",
    "for i in tqdm(range(1, 25)):\n",
    "    for j in range(1, 25):\n",
    "        for k in range(2, 50, 1):\n",
    "            ET_regr = ExtraTreesRegressor(n_estimators=i, \n",
    "                                            max_features=j,\n",
    "                                            random_state=k)\n",
    "            \n",
    "            ET_regr.fit(X_train_d, np.ravel(Y_train_d))\n",
    "            ET_Y_pred_d = pd.DataFrame(ET_regr.predict(X_test_d))\n",
    "\n",
    "            mae = mean_absolute_error(Y_test_d, ET_Y_pred_d)\n",
    "            if (min_mae > mae):\n",
    "                min_mae = mae\n",
    "                min_i = i\n",
    "                min_j = j\n",
    "                min_k = k\n",
    "            \n",
    "print(min_mae, min_i, min_j, min_k)"
   ]
  },
  {
   "cell_type": "markdown",
   "metadata": {},
   "source": [
    "### 2D. Decision Tree "
   ]
  },
  {
   "cell_type": "code",
   "execution_count": 5,
   "metadata": {},
   "outputs": [
    {
     "name": "stderr",
     "output_type": "stream",
     "text": [
      "100%|██████████| 29/29 [04:04<00:00,  8.43s/it]"
     ]
    },
    {
     "name": "stdout",
     "output_type": "stream",
     "text": [
      "0.2647947330447331 13 22 26\n"
     ]
    },
    {
     "name": "stderr",
     "output_type": "stream",
     "text": [
      "\n"
     ]
    }
   ],
   "source": [
    "# This is a grid search for three parameters in the Decision Trees algorithm. \n",
    "# Parameters are: max_depth, max_features, random_state.\n",
    "# This gives the best combination of the three parameters for the smallest mean squared error.\n",
    "\n",
    "min_mae = 99999\n",
    "\n",
    "min_i, min_j, min_k  = 0, 0, 0\n",
    "\n",
    "for i in tqdm(range(1, 30)):\n",
    "    for j in range(1, 30):\n",
    "        for k in range(4, 70, 2):\n",
    "            \n",
    "            DT_regr = DecisionTreeRegressor(max_depth=i,\n",
    "                                max_features=j,\n",
    "                                random_state=k)\n",
    "            \n",
    "            DT_regr.fit(X_train_d, np.ravel(Y_train_d))\n",
    "            DT_Y_pred_d = pd.DataFrame(DT_regr.predict(X_test_d))\n",
    "\n",
    "            mae = mean_absolute_error(Y_test_d, DT_Y_pred_d)\n",
    "            \n",
    "            if (min_mae > mae):\n",
    "                min_mae = mae\n",
    "                min_i = i\n",
    "                min_j = j\n",
    "                min_k = k\n",
    "            \n",
    "print(min_mae, min_i, min_j, min_k)"
   ]
  },
  {
   "cell_type": "markdown",
   "metadata": {},
   "source": [
    "### 3D. Random Forest"
   ]
  },
  {
   "cell_type": "code",
   "execution_count": 7,
   "metadata": {},
   "outputs": [
    {
     "name": "stderr",
     "output_type": "stream",
     "text": [
      "100%|██████████| 26/26 [15:29<00:00, 35.74s/it]"
     ]
    },
    {
     "name": "stdout",
     "output_type": "stream",
     "text": [
      "0.2726379009458553 12 8 27\n"
     ]
    },
    {
     "name": "stderr",
     "output_type": "stream",
     "text": [
      "\n"
     ]
    }
   ],
   "source": [
    "# This is a grid search for three parameters in the Random Forest algorithm. \n",
    "# Parameters are: max_depth, n_estimators, max_features.\n",
    "# Random_state is set to 45.\n",
    "# This gives the best combination of the three parameters for the smallest mean squared error.\n",
    "\n",
    "min_mae = 99999\n",
    "min_i, min_j, min_k = 0, 0, 0\n",
    "for i in tqdm(range(1, 27)):\n",
    "    for j in range(1, 27):\n",
    "        for k in range(2, 46, 1):\n",
    "            RF_regr = RandomForestRegressor(max_depth=i, \n",
    "                                            n_estimators=j, \n",
    "                                            max_features=k,\n",
    "                                            random_state=45)\n",
    "            RF_regr.fit(X_train_d, np.ravel(Y_train_d))\n",
    "            RF_Y_pred_d = pd.DataFrame(RF_regr.predict(X_test_d))\n",
    "\n",
    "            mae = mean_absolute_error(Y_test_d, RF_Y_pred_d)\n",
    "            if (min_mae > mae):\n",
    "                min_mae = mae\n",
    "                min_i = i\n",
    "                min_j = j\n",
    "                min_k = k\n",
    "            \n",
    "print(min_mae, min_i, min_j, min_k)"
   ]
  },
  {
   "cell_type": "markdown",
   "metadata": {},
   "source": [
    "### 4D. K Neighbors"
   ]
  },
  {
   "cell_type": "code",
   "execution_count": 8,
   "metadata": {},
   "outputs": [
    {
     "name": "stderr",
     "output_type": "stream",
     "text": [
      "100%|██████████| 39/39 [00:27<00:00,  1.41it/s]"
     ]
    },
    {
     "name": "stdout",
     "output_type": "stream",
     "text": [
      "0.3717424242424242 2 1\n"
     ]
    },
    {
     "name": "stderr",
     "output_type": "stream",
     "text": [
      "\n"
     ]
    }
   ],
   "source": [
    "min_mae = 99999\n",
    "min_i, min_j = 0, 0\n",
    "\n",
    "for i in tqdm(range(1, 40)):\n",
    "    for j in range(1, 40):\n",
    "\n",
    "        KNN_reg_d = KNeighborsRegressor(n_neighbors=i, \n",
    "                                      p=j).fit(X_train_d, np.ravel(Y_train_d))\n",
    "\n",
    "        KNN_Y_pred_d = KNN_reg_d.predict(X_test_d)\n",
    "\n",
    "        mae = mean_absolute_error(Y_test_d, KNN_Y_pred_d)\n",
    "\n",
    "        if (min_mae > mae):\n",
    "            min_mae = mae\n",
    "            min_i = i\n",
    "            min_j = j\n",
    "\n",
    "print(min_mae, min_i, min_j)"
   ]
  },
  {
   "cell_type": "markdown",
   "metadata": {},
   "source": [
    "### Saving Decision Tree model"
   ]
  },
  {
   "cell_type": "code",
   "execution_count": 18,
   "metadata": {},
   "outputs": [
    {
     "data": {
      "text/plain": [
       "['./model_SO_diameter_ExtraTrees.joblib']"
      ]
     },
     "execution_count": 18,
     "metadata": {},
     "output_type": "execute_result"
    }
   ],
   "source": [
    "ET_regr_d = ExtraTreesRegressor(n_estimators=7, \n",
    "                                            max_features=23,\n",
    "                                            random_state=25)\n",
    "            \n",
    "ET_regr_d.fit(X_train_d, np.ravel(Y_train_d))\n",
    "ET_Y_pred_d = pd.DataFrame(ET_regr_d.predict(X_test_d))\n",
    "joblib.dump(ET_regr_d, \"./model_SO_diameter_ExtraTrees.joblib\")"
   ]
  },
  {
   "cell_type": "markdown",
   "metadata": {},
   "source": [
    "## E - Optimizing emission model\n"
   ]
  },
  {
   "cell_type": "markdown",
   "metadata": {},
   "source": [
    "### 1E. Extra Trees"
   ]
  },
  {
   "cell_type": "code",
   "execution_count": 9,
   "metadata": {},
   "outputs": [
    {
     "name": "stderr",
     "output_type": "stream",
     "text": [
      "100%|██████████| 24/24 [11:05<00:00, 27.72s/it]"
     ]
    },
    {
     "name": "stdout",
     "output_type": "stream",
     "text": [
      "13.816498316161624 3 11 32\n"
     ]
    },
    {
     "name": "stderr",
     "output_type": "stream",
     "text": [
      "\n"
     ]
    }
   ],
   "source": [
    "# This is a grid search for three parameters in the Extra Trees algorithm. \n",
    "# Parameters are: random_state, n_estimators, max_features.\n",
    "\n",
    "# This gives the best combination of the three parameters for the smallest mean squared error.\n",
    "\n",
    "min_mae = 99999\n",
    "min_i, min_j, min_k = 0, 0, 0\n",
    "for i in tqdm(range(1, 25)):\n",
    "    for j in range(1, 25):\n",
    "        for k in range(2, 50, 1):\n",
    "            ET_regr_e = ExtraTreesRegressor(n_estimators=i, \n",
    "                                            max_features=j,\n",
    "                                            random_state=k)\n",
    "            \n",
    "            ET_regr_e.fit(X_train_e, np.ravel(Y_train_e))\n",
    "            ET_Y_pred_e = pd.DataFrame(ET_regr_e.predict(X_test_e))\n",
    "\n",
    "            mae = mean_absolute_error(Y_test_e, ET_Y_pred_e)\n",
    "            if (min_mae > mae):\n",
    "                min_mae = mae\n",
    "                min_i = i\n",
    "                min_j = j\n",
    "                min_k = k\n",
    "            \n",
    "print(min_mae, min_i, min_j, min_k)"
   ]
  },
  {
   "cell_type": "markdown",
   "metadata": {},
   "source": [
    "### 2E. Decision Trees"
   ]
  },
  {
   "cell_type": "code",
   "execution_count": 10,
   "metadata": {},
   "outputs": [
    {
     "name": "stderr",
     "output_type": "stream",
     "text": [
      "100%|██████████| 29/29 [03:02<00:00,  6.30s/it]"
     ]
    },
    {
     "name": "stdout",
     "output_type": "stream",
     "text": [
      "15.067224885039863 12 20 32\n"
     ]
    },
    {
     "name": "stderr",
     "output_type": "stream",
     "text": [
      "\n"
     ]
    }
   ],
   "source": [
    "# This is a grid search for three parameters in the Decision Trees algorithm. \n",
    "\n",
    "# This gives the best combination of the three parameters for the smallest mean squared error.\n",
    "\n",
    "min_mae = 99999\n",
    "\n",
    "min_i, min_j, min_k  = 0, 0, 0\n",
    "\n",
    "for i in tqdm(range(1, 30)):\n",
    "    for j in range(1, 30):\n",
    "        for k in range(4, 60, 2):\n",
    "            \n",
    "            DT_regr_e = DecisionTreeRegressor(max_depth=i,\n",
    "                                max_features=j,\n",
    "                                random_state=k)\n",
    "            \n",
    "            DT_regr_e.fit(X_train_e, np.ravel(Y_train_e))\n",
    "            DT_Y_pred_e = pd.DataFrame(DT_regr_e.predict(X_test_e))\n",
    "\n",
    "            mae = mean_absolute_error(Y_test_e, DT_Y_pred_e)\n",
    "            \n",
    "            if (min_mae > mae):\n",
    "                min_mae = mae\n",
    "                min_i = i\n",
    "                min_j = j\n",
    "                min_k = k\n",
    "            \n",
    "print(min_mae, min_i, min_j, min_k)"
   ]
  },
  {
   "cell_type": "markdown",
   "metadata": {},
   "source": [
    "### 3E. Random Forest"
   ]
  },
  {
   "cell_type": "code",
   "execution_count": 11,
   "metadata": {},
   "outputs": [
    {
     "name": "stderr",
     "output_type": "stream",
     "text": [
      "100%|██████████| 27/27 [15:59<00:00, 35.55s/it]"
     ]
    },
    {
     "name": "stdout",
     "output_type": "stream",
     "text": [
      "16.189015159242413 23 4 37\n"
     ]
    },
    {
     "name": "stderr",
     "output_type": "stream",
     "text": [
      "\n"
     ]
    }
   ],
   "source": [
    "min_mae = 99999\n",
    "min_i, min_j, min_k = 0, 0, 0\n",
    "for i in tqdm(range(1, 28)):\n",
    "    for j in range(1, 28):\n",
    "        for k in range(2, 46, 1):\n",
    "            RF_regr_e = RandomForestRegressor(max_depth=i, \n",
    "                                            n_estimators=j, \n",
    "                                            max_features=k,\n",
    "                                            random_state=45)\n",
    "            RF_regr_e.fit(X_train_e, np.ravel(Y_train_e))\n",
    "            RF_Y_pred_e = pd.DataFrame(RF_regr_e.predict(X_test_e))\n",
    "\n",
    "            mae = mean_absolute_error(Y_test_e, RF_Y_pred_e)\n",
    "            if (min_mae > mae):\n",
    "                min_mae = mae\n",
    "                min_i = i\n",
    "                min_j = j\n",
    "                min_k = k\n",
    "            \n",
    "print(min_mae, min_i, min_j, min_k)"
   ]
  },
  {
   "cell_type": "markdown",
   "metadata": {},
   "source": [
    "### 4E. K Neighbors"
   ]
  },
  {
   "cell_type": "code",
   "execution_count": 12,
   "metadata": {
    "scrolled": false
   },
   "outputs": [
    {
     "name": "stderr",
     "output_type": "stream",
     "text": [
      "100%|██████████| 39/39 [00:27<00:00,  1.41it/s]"
     ]
    },
    {
     "name": "stdout",
     "output_type": "stream",
     "text": [
      "20.035353539393935 1 1\n"
     ]
    },
    {
     "name": "stderr",
     "output_type": "stream",
     "text": [
      "\n"
     ]
    }
   ],
   "source": [
    "min_mae = 99999\n",
    "min_i, min_j = 0, 0\n",
    "\n",
    "for i in tqdm(range(1, 40)):\n",
    "    for j in range(1, 40):\n",
    "\n",
    "        KNN_reg_e = KNeighborsRegressor(n_neighbors=i, \n",
    "                                      p=j).fit(X_train_e, np.ravel(Y_train_e))\n",
    "\n",
    "        KNN_Y_pred_e = KNN_reg_e.predict(X_test_e)\n",
    "\n",
    "        mae = mean_absolute_error(Y_test_e, KNN_Y_pred_e)\n",
    "\n",
    "        if (min_mae > mae):\n",
    "            min_mae = mae\n",
    "            min_i = i\n",
    "            min_j = j\n",
    "\n",
    "print(min_mae, min_i, min_j)"
   ]
  },
  {
   "cell_type": "markdown",
   "metadata": {},
   "source": [
    "### Saving Extra Trees model"
   ]
  },
  {
   "cell_type": "code",
   "execution_count": 19,
   "metadata": {},
   "outputs": [
    {
     "data": {
      "text/plain": [
       "['./model_SO_emission_ExtraTrees.joblib']"
      ]
     },
     "execution_count": 19,
     "metadata": {},
     "output_type": "execute_result"
    }
   ],
   "source": [
    "ET_regr_e = ExtraTreesRegressor(n_estimators=3,\n",
    "                            max_features=11,     \n",
    "                            random_state=32).fit(X_train_e, np.ravel(Y_train_e))\n",
    "                  \n",
    "ET_Y_pred_e = ET_regr_e.predict(X_test_e)\n",
    "\n",
    "joblib.dump(ET_regr_e, \"./model_SO_emission_ExtraTrees.joblib\")"
   ]
  },
  {
   "cell_type": "markdown",
   "metadata": {},
   "source": [
    "## A - Optimizing absorption model\n"
   ]
  },
  {
   "cell_type": "markdown",
   "metadata": {},
   "source": [
    "### 1A: Extra Trees"
   ]
  },
  {
   "cell_type": "code",
   "execution_count": 13,
   "metadata": {},
   "outputs": [
    {
     "name": "stderr",
     "output_type": "stream",
     "text": [
      "100%|██████████| 29/29 [22:20<00:00, 46.22s/it]"
     ]
    },
    {
     "name": "stdout",
     "output_type": "stream",
     "text": [
      "17.33490073030303 2 25 38\n"
     ]
    },
    {
     "name": "stderr",
     "output_type": "stream",
     "text": [
      "\n"
     ]
    }
   ],
   "source": [
    "# This is a grid search for three parameters in the Extra Trees algorithm. \n",
    "# Parameters are: random_state, n_estimators, max_features.\n",
    "\n",
    "# This gives the best combination of the three parameters for the smallest mean squared error.\n",
    "\n",
    "min_mae = 99999\n",
    "min_i, min_j, min_k = 0, 0, 0\n",
    "for i in tqdm(range(1, 30)):\n",
    "    for j in range(1, 30):\n",
    "        for k in range(2, 50, 1):\n",
    "            ET_regr_a = ExtraTreesRegressor(n_estimators=i, \n",
    "                                            max_features=j,\n",
    "                                            random_state=k)\n",
    "            \n",
    "            ET_regr_a.fit(X_train_a, np.ravel(Y_train_a))\n",
    "            ET_Y_pred_a = pd.DataFrame(ET_regr_a.predict(X_test_a))\n",
    "\n",
    "            mae = mean_absolute_error(Y_test_a, ET_Y_pred_a)\n",
    "            if (min_mae > mae):\n",
    "                min_mae = mae\n",
    "                min_i = i\n",
    "                min_j = j\n",
    "                min_k = k\n",
    "            \n",
    "print(min_mae, min_i, min_j, min_k)"
   ]
  },
  {
   "cell_type": "markdown",
   "metadata": {},
   "source": [
    "### 2A. Decision Trees\n"
   ]
  },
  {
   "cell_type": "code",
   "execution_count": 14,
   "metadata": {},
   "outputs": [
    {
     "name": "stderr",
     "output_type": "stream",
     "text": [
      "100%|██████████| 29/29 [04:30<00:00,  9.32s/it]"
     ]
    },
    {
     "name": "stdout",
     "output_type": "stream",
     "text": [
      "19.407001046081504 14 13 30\n"
     ]
    },
    {
     "name": "stderr",
     "output_type": "stream",
     "text": [
      "\n"
     ]
    }
   ],
   "source": [
    "# This is a grid search for three parameters in the Decision Trees algorithm. \n",
    "\n",
    "# This gives the best combination of the three parameters for the smallest mean squared error.\n",
    "\n",
    "min_mae = 99999\n",
    "\n",
    "min_i, min_j, min_k  = 0, 0, 0\n",
    "\n",
    "for i in tqdm(range(1, 30)):\n",
    "    for j in range(1, 30):\n",
    "        for k in range(4, 80, 2):\n",
    "            \n",
    "            DT_regr_a = DecisionTreeRegressor(max_depth=i,\n",
    "                                max_features=j,\n",
    "                                random_state=k)\n",
    "            \n",
    "            DT_regr_a.fit(X_train_a, np.ravel(Y_train_a))\n",
    "            DT_Y_pred_a = pd.DataFrame(DT_regr_a.predict(X_test_a))\n",
    "\n",
    "            mae = mean_absolute_error(Y_test_a, DT_Y_pred_a)\n",
    "            \n",
    "            if (min_mae > mae):\n",
    "                min_mae = mae\n",
    "                min_i = i\n",
    "                min_j = j\n",
    "                min_k = k\n",
    "            \n",
    "print(min_mae, min_i, min_j, min_k)"
   ]
  },
  {
   "cell_type": "code",
   "execution_count": 22,
   "metadata": {},
   "outputs": [
    {
     "name": "stdout",
     "output_type": "stream",
     "text": [
      "diameter: r2: 0.7157594152974505 ; MSE: 1033.208754199327 ; RMSE: 32.14356474007398 ; MAE: 20.595959593939398\n"
     ]
    }
   ],
   "source": [
    "DT_regr_a = DecisionTreeRegressor(max_depth=20,\n",
    "                                max_features=20,\n",
    "                                random_state=12).fit(X_train_a, np.ravel(Y_train_a))\n",
    "                  \n",
    "DT_Y_pred_a = DT_regr_a.predict(X_test_a)\n",
    "\n",
    "\n",
    "DT_r2_a = r2_score(Y_test_a, DT_Y_pred_a)\n",
    "DT_MSE_a = mean_squared_error(Y_test_a, DT_Y_pred_a)\n",
    "DT_RMSE_a = mean_squared_error(Y_test_a, DT_Y_pred_a, squared=False)\n",
    "DT_MAE_a = mean_absolute_error(Y_test_a, DT_Y_pred_a)\n",
    "print('diameter:', 'r2:', DT_r2_a, '; MSE:', DT_MSE_a, '; RMSE:', DT_RMSE_a, '; MAE:', DT_MAE_a)"
   ]
  },
  {
   "cell_type": "markdown",
   "metadata": {},
   "source": [
    "### 3A. Random Forest"
   ]
  },
  {
   "cell_type": "code",
   "execution_count": 15,
   "metadata": {},
   "outputs": [
    {
     "name": "stderr",
     "output_type": "stream",
     "text": [
      "100%|██████████| 23/23 [07:25<00:00, 19.36s/it]"
     ]
    },
    {
     "name": "stdout",
     "output_type": "stream",
     "text": [
      "23.743730406439393 21 8 9\n"
     ]
    },
    {
     "name": "stderr",
     "output_type": "stream",
     "text": [
      "\n"
     ]
    }
   ],
   "source": [
    "min_mae = 99999\n",
    "min_i, min_j, min_k = 0, 0, 0\n",
    "for i in tqdm(range(1, 24)):\n",
    "    for j in range(1, 24):\n",
    "        for k in range(2, 35, 1):\n",
    "            RF_regr_a = RandomForestRegressor(max_depth=i, \n",
    "                                            n_estimators=j, \n",
    "                                            max_features=k,\n",
    "                                            random_state=45)\n",
    "            RF_regr_a.fit(X_train_a, np.ravel(Y_train_a))\n",
    "            RF_Y_pred_a = pd.DataFrame(RF_regr_a.predict(X_test_a))\n",
    "\n",
    "            mae = mean_absolute_error(Y_test_a, RF_Y_pred_a)\n",
    "            if (min_mae > mae):\n",
    "                min_mae = mae\n",
    "                min_i = i\n",
    "                min_j = j\n",
    "                min_k = k\n",
    "            \n",
    "print(min_mae, min_i, min_j, min_k)"
   ]
  },
  {
   "cell_type": "code",
   "execution_count": null,
   "metadata": {},
   "outputs": [],
   "source": []
  },
  {
   "cell_type": "markdown",
   "metadata": {},
   "source": [
    "### 4A. K Neighbors"
   ]
  },
  {
   "cell_type": "code",
   "execution_count": 16,
   "metadata": {},
   "outputs": [
    {
     "name": "stderr",
     "output_type": "stream",
     "text": [
      "100%|██████████| 39/39 [00:26<00:00,  1.49it/s]"
     ]
    },
    {
     "name": "stdout",
     "output_type": "stream",
     "text": [
      "26.832810866666666 1 1\n"
     ]
    },
    {
     "name": "stderr",
     "output_type": "stream",
     "text": [
      "\n"
     ]
    }
   ],
   "source": [
    "min_mae = 99999\n",
    "min_i, min_j = 0, 0\n",
    "\n",
    "for i in tqdm(range(1, 40)):\n",
    "    for j in range(1, 40):\n",
    "\n",
    "        KNN_reg_a = KNeighborsRegressor(n_neighbors=i, \n",
    "                                      p=j).fit(X_train_a, np.ravel(Y_train_a))\n",
    "\n",
    "        KNN_Y_pred_a = KNN_reg_a.predict(X_test_a)\n",
    "\n",
    "        mae = mean_absolute_error(Y_test_a, KNN_Y_pred_a)\n",
    "\n",
    "        if (min_mae > mae):\n",
    "            min_mae = mae\n",
    "            min_i = i\n",
    "            min_j = j\n",
    "\n",
    "print(min_mae, min_i, min_j)"
   ]
  },
  {
   "cell_type": "markdown",
   "metadata": {},
   "source": [
    "### Saving model"
   ]
  },
  {
   "cell_type": "code",
   "execution_count": 20,
   "metadata": {},
   "outputs": [
    {
     "data": {
      "text/plain": [
       "['./model_SO_abs_ExtraTrees.joblib']"
      ]
     },
     "execution_count": 20,
     "metadata": {},
     "output_type": "execute_result"
    }
   ],
   "source": [
    "ET_regr_a = ExtraTreesRegressor(n_estimators=2, \n",
    "                                max_features=25,\n",
    "                                random_state=38)\n",
    "            \n",
    "ET_regr_a.fit(X_train_a, np.ravel(Y_train_a))\n",
    "ET_Y_pred_a = pd.DataFrame(ET_regr_a.predict(X_test_a))\n",
    "\n",
    "joblib.dump(ET_regr_a, \"./model_SO_abs_ExtraTrees.joblib\")"
   ]
  },
  {
   "cell_type": "markdown",
   "metadata": {},
   "source": [
    "## Analyzing"
   ]
  },
  {
   "cell_type": "code",
   "execution_count": 23,
   "metadata": {
    "scrolled": true
   },
   "outputs": [
    {
     "name": "stdout",
     "output_type": "stream",
     "text": [
      "Outputs           R2    Mean absolute error    Mean squared error    Root mean squared error\n",
      "----------  --------  ---------------------  --------------------  -------------------------\n",
      "Diameter    0.85106                0.253528              0.146496                   0.382748\n",
      "Absorption  0.845214              17.3349              502.259                     22.4111\n",
      "Emission    0.776271              13.8165              417.118                     20.4235\n"
     ]
    }
   ],
   "source": [
    "## Diameter\n",
    "\n",
    "ET_regr_d = ExtraTreesRegressor(n_estimators=7, \n",
    "                                            max_features=23,\n",
    "                                            random_state=25)\n",
    "            \n",
    "ET_regr_d.fit(X_train_d, np.ravel(Y_train_d))\n",
    "ET_Y_pred_d = ET_regr_d.predict(X_test_d)\n",
    "\n",
    "D_mae = mean_absolute_error(Y_test_d, ET_Y_pred_d)\n",
    "D_r_2 = r2_score(Y_test_d, ET_Y_pred_d)\n",
    "D_mse = mean_squared_error(Y_test_d, ET_Y_pred_d)\n",
    "D_rmse = mean_squared_error(Y_test_d, ET_Y_pred_d, squared=False)\n",
    "\n",
    "## Emission\n",
    "\n",
    "ET_regr_e = ExtraTreesRegressor(n_estimators=3,\n",
    "                            max_features=11,     \n",
    "                            random_state=32).fit(X_train_e, np.ravel(Y_train_e))\n",
    "                  \n",
    "ET_Y_pred_e = ET_regr_e.predict(X_test_e)\n",
    "\n",
    "E_mae = mean_absolute_error(Y_test_e, ET_Y_pred_e)\n",
    "E_r_2 = r2_score(Y_test_e, ET_Y_pred_e)\n",
    "E_mse = mean_squared_error(Y_test_e, ET_Y_pred_e)\n",
    "E_rmse = mean_squared_error(Y_test_e, ET_Y_pred_e, squared=False)\n",
    "\n",
    "\n",
    "### Absorption\n",
    "\n",
    "ET_regr_a = ExtraTreesRegressor(n_estimators=2, \n",
    "                                max_features=25,\n",
    "                                random_state=38)\n",
    "            \n",
    "ET_regr_a.fit(X_train_a, np.ravel(Y_train_a))\n",
    "ET_Y_pred_a = ET_regr_a.predict(X_test_a)\n",
    "\n",
    "A_mae = mean_absolute_error(Y_test_a, ET_Y_pred_a)\n",
    "A_r_2 = r2_score(Y_test_a, ET_Y_pred_a)\n",
    "A_mse = mean_squared_error(Y_test_a, ET_Y_pred_a)\n",
    "A_rmse = mean_squared_error(Y_test_a, ET_Y_pred_a, squared=False)\n",
    "\n",
    "\n",
    "from tabulate import tabulate\n",
    "\n",
    "d = [ [\"Diameter\", D_r_2, D_mae, D_mse, D_rmse],\n",
    "     [\"Absorption\", A_r_2, A_mae, A_mse, A_rmse],\n",
    "     [\"Emission\", E_r_2, E_mae, E_mse, E_rmse]]\n",
    "\n",
    "print(tabulate(d, headers=[\"Outputs\", \"R2\", \"Mean absolute error\", \"Mean squared error\", \"Root mean squared error\"]))"
   ]
  },
  {
   "cell_type": "code",
   "execution_count": 25,
   "metadata": {},
   "outputs": [
    {
     "data": {
      "image/png": "[encoded data removed]",
      "text/plain": [
       "<Figure size 1440x360 with 3 Axes>"
      ]
     },
     "metadata": {
      "needs_background": "light"
     },
     "output_type": "display_data"
    }
   ],
   "source": [
    "fig, (ax1, ax2, ax3) = plt.subplots(1, 3, figsize=(20,5))\n",
    "fig.suptitle('Single Outputs', fontsize=25)\n",
    "\n",
    "ax1.plot(ET_Y_pred_d, Y_test_d, 'o')\n",
    "ax1.plot([1.5,8],[1.5,8], color = 'r')\n",
    "ax1.set_title('Diameter')\n",
    "ax1.set(xlabel='Predicted Values (nm)', ylabel='Observed Values (nm)')\n",
    "\n",
    "ax2.plot(ET_Y_pred_a, Y_test_a, 'o')\n",
    "ax2.plot([400,650],[400,650], color = 'r')\n",
    "ax2.set_title('Absorption')\n",
    "ax2.set(xlabel='Predicted Values (nm)', ylabel='Predicted Values (nm)')\n",
    "\n",
    "ax3.plot(ET_Y_pred_e, Y_test_e, 'o')\n",
    "ax3.plot([450,700],[450,700], color = 'r')\n",
    "ax3.set_title('Emission')\n",
    "ax3.set(xlabel='Predicted Values (nm)', ylabel='Observed Values (nm)')\n",
    "\n",
    "\n",
    "fig.tight_layout()"
   ]
  },
  {
   "cell_type": "markdown",
   "metadata": {},
   "source": [
    "## Feature importance"
   ]
  },
  {
   "cell_type": "markdown",
   "metadata": {},
   "source": [
    "### For diameter prediction"
   ]
  },
  {
   "cell_type": "code",
   "execution_count": 26,
   "metadata": {},
   "outputs": [
    {
     "data": {
      "text/plain": [
       "[('x0_indium trifluoroacetate', 0.21528425744956453),\n",
       " ('x6_zinc iodide', 0.18493071592379612),\n",
       " ('temp_c', 0.08896870998392434),\n",
       " ('time_min', 0.07815387843532047),\n",
       " ('x0_indium acetate', 0.0565774192057567),\n",
       " ('x4_dioctylamine', 0.04869326274855771),\n",
       " ('x2_myristic acid', 0.033068043232619235),\n",
       " ('in_amount_mmol', 0.030831633158011733),\n",
       " ('ligand_amount_mmol', 0.022852864821556955),\n",
       " ('x0_indium oxalate', 0.01837307878403434),\n",
       " ('x4_trioctylphosphine oxide', 0.017027477602441807),\n",
       " ('x1_phosphine gas', 0.01465153253676499),\n",
       " ('x1_tris(trimethylsilyl)phosphine', 0.013870689304058825),\n",
       " ('second_sol_amount_ml', 0.01365382296381531),\n",
       " ('x3_4-ethylpyridine', 0.012950462616433522),\n",
       " ('total_volume_ml', 0.012708901820640705),\n",
       " ('x7_None', 0.012285050280609252),\n",
       " ('x3_trioctylamine', 0.01137865026833267),\n",
       " ('p_amount_mmol', 0.011253097970357208),\n",
       " ('x1_tris(dimethylamino)phosphine', 0.01112483213538244),\n",
       " ('first_sol_amount_ml', 0.010276973964595369),\n",
       " ('x3_octadecene', 0.009380457766012502),\n",
       " ('x6_zinc oleate', 0.00820416861301515),\n",
       " ('x0_indium chloride', 0.00641132809130618),\n",
       " ('x0_chloroindium oxalate', 0.0059908402939203905),\n",
       " ('other_1_amount_mmol', 0.005835850252464728),\n",
       " ('x2_oleic acid', 0.005833386783021074),\n",
       " ('x4_oleylamine', 0.005097222482358478),\n",
       " ('x1_tris(diethylamino)phosphine', 0.004583603888178533),\n",
       " ('x6_zinc chloride', 0.004468425125764152),\n",
       " ('x4_None', 0.004230222953931645),\n",
       " ('x4_hexadecylamine', 0.002498612669110093),\n",
       " ('x6_None', 0.002256369284873829),\n",
       " ('x6_zinc bromide', 0.0017510422446219683),\n",
       " ('x0_indium iodide', 0.0014325734424605224),\n",
       " ('x4_trioctylphosphine', 0.001427087670883451),\n",
       " ('x3_mesitylene', 0.0011524667993989476),\n",
       " ('x1_phosphorus trichloride', 0.0008585207971319882),\n",
       " ('x2_lauric acid', 0.0007755122816610903),\n",
       " ('other_2_amount_mmol', 0.0005799838623149897),\n",
       " ('x4_octylamine', 0.000571479274614356),\n",
       " ('x3_trioctylphosphine oxide', 0.0005367834667224747),\n",
       " ('x3_oleylamine', 0.0004897812460256283),\n",
       " ('x2_palmitic acid', 0.00045742538415975833),\n",
       " ('x2_dodecanethiol', 0.0002825165152693319),\n",
       " ('x2_None', 0.00021183136924919136),\n",
       " ('x1_bis(trimethylsilyl)phosphine', 0.00017632298840260984),\n",
       " ('x6_superhydride', 0.00017096490927188477),\n",
       " ('x3_trioctylphosphine', 0.00016857405607997433),\n",
       " ('x6_zinc stearate', 0.00015840642769060525),\n",
       " ('x3_dodecylamine', 0.00013612946046935668),\n",
       " ('x6_zinc octanoate', 0.00013274204408377335),\n",
       " ('x6_zinc undecylenate', 0.00011595622112396387),\n",
       " ('x2_stearic acid', 9.890787096584288e-05),\n",
       " ('x0_indium tris(N,N-diisopropylacetamidinato)', 9.125576020383972e-05),\n",
       " ('x0_indium myristate', 9.117832714593567e-05),\n",
       " ('x4_toluene', 8.571044359843375e-05),\n",
       " ('x0_indium palmitate', 5.468906076706287e-05),\n",
       " ('x6_tetrabutylammonium myristate', 4.900051769354842e-05),\n",
       " ('x1_white phosphorus', 2.539134964184142e-05),\n",
       " ('x0_indium bromide', 2.1214253913595987e-05),\n",
       " ('x3_None', 1.7372174800950938e-05),\n",
       " ('x6_acetic acid', 1.6307665954561575e-05),\n",
       " ('x1_tris(trimethylgermyl)phosphine', 3.1559833659997873e-06),\n",
       " ('x5_trioctylphosphine', 1.299192608797131e-06),\n",
       " ('x5_None', 7.158816415789298e-07),\n",
       " ('third_sol_amount_ml', 0.0),\n",
       " ('x1_sodium phosphide', 0.0),\n",
       " ('x3_dimethylformamide', 0.0),\n",
       " ('x4_dioctyl ether', 0.0),\n",
       " ('x6_zinc acetate', 0.0)]"
      ]
     },
     "execution_count": 26,
     "metadata": {},
     "output_type": "execute_result"
    }
   ],
   "source": [
    "importance_dict_d = dict()\n",
    "for i in range(0,71):\n",
    "    importance_dict_d[input_col[i]] = ET_regr_d.feature_importances_[i]\n",
    "\n",
    "sorted_importance_d = sorted(importance_dict_d.items(), key=lambda x: x[1], reverse=True)\n",
    "\n",
    "sorted_importance_d\n"
   ]
  },
  {
   "cell_type": "code",
   "execution_count": 27,
   "metadata": {},
   "outputs": [
    {
     "data": {
      "image/png": "[encoded data removed]",
      "text/plain": [
       "<Figure size 1490.4x595.44 with 1 Axes>"
      ]
     },
     "metadata": {
      "needs_background": "light"
     },
     "output_type": "display_data"
    }
   ],
   "source": [
    "top7_d = DataFrame(sorted_importance_d[0:7], columns=['features', 'importance score'])\n",
    "\n",
    "others_d = DataFrame(sorted_importance_d[7:], columns=['features', 'importance score'])\n",
    "\n",
    "\n",
    "import seaborn as sns\n",
    "\n",
    "a4_dims = (20.7, 8.27)\n",
    "fig, ax = plt.subplots(figsize=a4_dims)\n",
    "sns.set_theme(style=\"whitegrid\")\n",
    "\n",
    "ax = sns.barplot(x=\"features\", y=\"importance score\", data=top7_d)"
   ]
  },
  {
   "cell_type": "markdown",
   "metadata": {},
   "source": [
    "### Emission prediction"
   ]
  },
  {
   "cell_type": "code",
   "execution_count": 28,
   "metadata": {},
   "outputs": [
    {
     "data": {
      "text/plain": [
       "[('temp_c', 0.1381318399699285),\n",
       " ('time_min', 0.13513280627453583),\n",
       " ('x6_None', 0.11259375268043188),\n",
       " ('x0_indium oxalate', 0.06655467552207073),\n",
       " ('x3_trioctylphosphine', 0.06194539717952609),\n",
       " ('x6_zinc iodide', 0.04765552784137164),\n",
       " ('ligand_amount_mmol', 0.02698400407663447),\n",
       " ('x7_None', 0.026840142851611473),\n",
       " ('x6_zinc oleate', 0.025143812564440635),\n",
       " ('total_volume_ml', 0.02353699914005285),\n",
       " ('x1_phosphine gas', 0.021720228374606788),\n",
       " ('first_sol_amount_ml', 0.021441984839884458),\n",
       " ('in_amount_mmol', 0.019062716396633986),\n",
       " ('x4_dioctylamine', 0.01804460168636847),\n",
       " ('x2_myristic acid', 0.01766496592977477),\n",
       " ('x6_zinc undecylenate', 0.016862720165396222),\n",
       " ('x6_zinc bromide', 0.015487039208121113),\n",
       " ('other_1_amount_mmol', 0.015297615208120445),\n",
       " ('second_sol_amount_ml', 0.014127745377444963),\n",
       " ('x0_indium iodide', 0.01412334757276962),\n",
       " ('x6_zinc chloride', 0.013981043630301325),\n",
       " ('p_amount_mmol', 0.013655557851386503),\n",
       " ('x1_tris(trimethylsilyl)phosphine', 0.011057275541898368),\n",
       " ('x2_stearic acid', 0.010986361189005523),\n",
       " ('x2_dodecanethiol', 0.010323674842974091),\n",
       " ('x4_trioctylphosphine', 0.010150306610282602),\n",
       " ('x4_None', 0.009759210448435085),\n",
       " ('x0_chloroindium oxalate', 0.008163849501080928),\n",
       " ('x6_superhydride', 0.007943189848149118),\n",
       " ('x1_tris(diethylamino)phosphine', 0.007885584794750999),\n",
       " ('x0_indium acetate', 0.005518665699950736),\n",
       " ('x1_white phosphorus', 0.0054070015791587555),\n",
       " ('x0_indium chloride', 0.0037612321092748476),\n",
       " ('x2_None', 0.002965757143232945),\n",
       " ('x6_acetic acid', 0.002720717839555866),\n",
       " ('x0_indium trifluoroacetate', 0.001872920201422663),\n",
       " ('x1_sodium phosphide', 0.0018441487364729264),\n",
       " ('x1_tris(dimethylamino)phosphine', 0.0017494835081086299),\n",
       " ('x4_oleylamine', 0.001722800101968582),\n",
       " ('x2_oleic acid', 0.0016504904916762313),\n",
       " ('x3_octadecene', 0.0016426933662774094),\n",
       " ('x3_dimethylformamide', 0.0015830132872893942),\n",
       " ('x4_toluene', 0.0013597335417884113),\n",
       " ('x0_indium bromide', 0.001172619482197834),\n",
       " ('x6_zinc stearate', 0.0009975806861125026),\n",
       " ('x3_4-ethylpyridine', 0.000990738027664573),\n",
       " ('x3_None', 0.0009152810343069861),\n",
       " ('x4_trioctylphosphine oxide', 0.0008681658995559288),\n",
       " ('x3_mesitylene', 0.0007395802944314694),\n",
       " ('x2_palmitic acid', 0.0006911180970088295),\n",
       " ('x0_indium myristate', 0.0006210511716311944),\n",
       " ('x4_octylamine', 0.00045991739177555867),\n",
       " ('x2_lauric acid', 0.0002732338475889063),\n",
       " ('x3_oleylamine', 0.0001590399226408311),\n",
       " ('x1_tris(trimethylgermyl)phosphine', 0.0001560011502350097),\n",
       " ('x5_None', 0.00011271083104479449),\n",
       " ('x5_trioctylphosphine', 0.00010932391219221029),\n",
       " ('x0_indium palmitate', 8.302736867540222e-05),\n",
       " ('x3_trioctylamine', 6.000801826501493e-05),\n",
       " ('x1_bis(trimethylsilyl)phosphine', 1.7333462869067867e-07),\n",
       " ('third_sol_amount_ml', 0.0),\n",
       " ('other_2_amount_mmol', 0.0),\n",
       " ('x0_indium tris(N,N-diisopropylacetamidinato)', 0.0),\n",
       " ('x1_phosphorus trichloride', 0.0),\n",
       " ('x3_dodecylamine', 0.0),\n",
       " ('x3_trioctylphosphine oxide', 0.0),\n",
       " ('x4_dioctyl ether', 0.0),\n",
       " ('x4_hexadecylamine', 0.0),\n",
       " ('x6_tetrabutylammonium myristate', 0.0),\n",
       " ('x6_zinc acetate', 0.0),\n",
       " ('x6_zinc octanoate', 0.0)]"
      ]
     },
     "execution_count": 28,
     "metadata": {},
     "output_type": "execute_result"
    }
   ],
   "source": [
    "importance_dict_e = dict()\n",
    "for i in range(0,71):\n",
    "    importance_dict_e[input_col[i]] = ET_regr_e.feature_importances_[i]\n",
    "\n",
    "sorted_importance_e = sorted(importance_dict_e.items(), key=lambda x: x[1], reverse=True)\n",
    "\n",
    "\n",
    "sorted_importance_e\n"
   ]
  },
  {
   "cell_type": "code",
   "execution_count": 29,
   "metadata": {},
   "outputs": [
    {
     "data": {
      "image/png": "[encoded data removed]",
      "text/plain": [
       "<Figure size 1490.4x595.44 with 1 Axes>"
      ]
     },
     "metadata": {},
     "output_type": "display_data"
    }
   ],
   "source": [
    "top7_e = DataFrame(sorted_importance_e[0:7], columns=['features', 'importance score'])\n",
    "\n",
    "others_e = DataFrame(sorted_importance_e[7:], columns=['features', 'importance score'])\n",
    "\n",
    "# combined_others2 = pd.DataFrame(data = {\n",
    "#     'features' : ['others'],\n",
    "#     'importance score' : [others2['importance score'].sum()]\n",
    "# })\n",
    "\n",
    "# #combining top 10 with others\n",
    "# imp_score2 = pd.concat([top7, combined_others2])\n",
    "\n",
    "import seaborn as sns\n",
    "\n",
    "a4_dims = (20.7, 8.27)\n",
    "fig, ax = plt.subplots(figsize=a4_dims)\n",
    "sns.set_theme(style=\"whitegrid\")\n",
    "\n",
    "ax = sns.barplot(x=\"features\", y=\"importance score\", data=top7_e)"
   ]
  },
  {
   "cell_type": "markdown",
   "metadata": {},
   "source": [
    "### Absorption prediction"
   ]
  },
  {
   "cell_type": "code",
   "execution_count": 30,
   "metadata": {},
   "outputs": [
    {
     "data": {
      "text/plain": [
       "[('time_min', 0.21393209196076224),\n",
       " ('temp_c', 0.18885559926127757),\n",
       " ('x6_None', 0.054992848634844396),\n",
       " ('ligand_amount_mmol', 0.05079442540439311),\n",
       " ('in_amount_mmol', 0.044028674354178274),\n",
       " ('first_sol_amount_ml', 0.04163360172443829),\n",
       " ('x7_None', 0.04125108238656659),\n",
       " ('x6_zinc iodide', 0.037729528631834125),\n",
       " ('x6_zinc oleate', 0.029516331725826093),\n",
       " ('x1_phosphine gas', 0.028190799140595947),\n",
       " ('x6_zinc chloride', 0.028084215966872605),\n",
       " ('x4_None', 0.02315435994505959),\n",
       " ('x2_dodecanethiol', 0.02173899768503565),\n",
       " ('total_volume_ml', 0.017957944371330428),\n",
       " ('p_amount_mmol', 0.016493056756558405),\n",
       " ('other_1_amount_mmol', 0.015767751485643737),\n",
       " ('other_2_amount_mmol', 0.01261585190014275),\n",
       " ('x1_tris(trimethylsilyl)phosphine', 0.011124473282994056),\n",
       " ('x6_zinc undecylenate', 0.010877495690007039),\n",
       " ('x3_oleylamine', 0.008003795988224698),\n",
       " ('second_sol_amount_ml', 0.007891937620688056),\n",
       " ('x3_dimethylformamide', 0.007805127439927846),\n",
       " ('x0_indium iodide', 0.00753342440709903),\n",
       " ('x4_trioctylphosphine oxide', 0.007103281689883409),\n",
       " ('x4_dioctylamine', 0.006957613529020915),\n",
       " ('x2_stearic acid', 0.0063197127892683745),\n",
       " ('x2_None', 0.006094269668254996),\n",
       " ('x0_indium oxalate', 0.005436904951718763),\n",
       " ('x0_indium acetate', 0.004766515072274292),\n",
       " ('x0_indium chloride', 0.004693116140414318),\n",
       " ('x4_trioctylphosphine', 0.004541522556558577),\n",
       " ('x4_hexadecylamine', 0.004455957996639105),\n",
       " ('x1_tris(diethylamino)phosphine', 0.0036227699891117067),\n",
       " ('x2_myristic acid', 0.0033109236687588993),\n",
       " ('x1_white phosphorus', 0.003222622166914373),\n",
       " ('x2_lauric acid', 0.0025699843869894058),\n",
       " ('x3_trioctylphosphine oxide', 0.0018692541527118166),\n",
       " ('x3_trioctylphosphine', 0.0018565135444361066),\n",
       " ('x1_tris(dimethylamino)phosphine', 0.0017359466263994411),\n",
       " ('x0_indium palmitate', 0.0015843844037241109),\n",
       " ('x6_zinc bromide', 0.0015257343396088503),\n",
       " ('x6_zinc stearate', 0.0014779664540384813),\n",
       " ('x5_None', 0.0014012359899080254),\n",
       " ('x4_oleylamine', 0.0013519998399916394),\n",
       " ('x0_indium tris(N,N-diisopropylacetamidinato)', 0.0011420461611499403),\n",
       " ('x2_oleic acid', 0.0010023602833224728),\n",
       " ('x0_indium trifluoroacetate', 0.0005243508157537417),\n",
       " ('x4_octylamine', 0.0004257499515129954),\n",
       " ('third_sol_amount_ml', 0.00034217135456295544),\n",
       " ('x2_palmitic acid', 0.00020315074688095707),\n",
       " ('x1_tris(trimethylgermyl)phosphine', 0.00019163223305492484),\n",
       " ('x1_bis(trimethylsilyl)phosphine', 0.00013685991140828792),\n",
       " ('x6_superhydride', 0.00011398930777263698),\n",
       " ('x0_indium bromide', 3.471893252776809e-05),\n",
       " ('x6_zinc octanoate', 1.1324581127234716e-05),\n",
       " ('x0_chloroindium oxalate', 0.0),\n",
       " ('x0_indium myristate', 0.0),\n",
       " ('x1_phosphorus trichloride', 0.0),\n",
       " ('x1_sodium phosphide', 0.0),\n",
       " ('x3_4-ethylpyridine', 0.0),\n",
       " ('x3_None', 0.0),\n",
       " ('x3_dodecylamine', 0.0),\n",
       " ('x3_mesitylene', 0.0),\n",
       " ('x3_octadecene', 0.0),\n",
       " ('x3_trioctylamine', 0.0),\n",
       " ('x4_dioctyl ether', 0.0),\n",
       " ('x4_toluene', 0.0),\n",
       " ('x5_trioctylphosphine', 0.0),\n",
       " ('x6_acetic acid', 0.0),\n",
       " ('x6_tetrabutylammonium myristate', 0.0),\n",
       " ('x6_zinc acetate', 0.0)]"
      ]
     },
     "execution_count": 30,
     "metadata": {},
     "output_type": "execute_result"
    }
   ],
   "source": [
    "importance_dict_a = dict()\n",
    "for i in range(0,71):\n",
    "    importance_dict_a[input_col[i]] = ET_regr_a.feature_importances_[i]\n",
    "\n",
    "sorted_importance_a = sorted(importance_dict_a.items(), key=lambda x: x[1], reverse=True)\n",
    "\n",
    "sorted_importance_a"
   ]
  },
  {
   "cell_type": "code",
   "execution_count": 31,
   "metadata": {},
   "outputs": [
    {
     "data": {
      "image/png": "[encoded data removed]",
      "text/plain": [
       "<Figure size 1490.4x595.44 with 1 Axes>"
      ]
     },
     "metadata": {},
     "output_type": "display_data"
    }
   ],
   "source": [
    "top7_a = DataFrame(sorted_importance_a[0:7], columns=['features', 'importance score'])\n",
    "\n",
    "others_a = DataFrame(sorted_importance_a[7:], columns=['features', 'importance score'])\n",
    "\n",
    "import seaborn as sns\n",
    "\n",
    "a4_dims = (20.7, 8.27)\n",
    "fig, ax = plt.subplots(figsize=a4_dims)\n",
    "sns.set_theme(style=\"whitegrid\")\n",
    "\n",
    "ax = sns.barplot(x=\"features\", y=\"importance score\", data=top7_a)"
   ]
  },
  {
   "cell_type": "code",
   "execution_count": 32,
   "metadata": {},
   "outputs": [
    {
     "data": {
      "text/plain": [
       "{'in_amount_mmol': 0.044028674354178274,\n",
       " 'p_amount_mmol': 0.016493056756558405,\n",
       " 'ligand_amount_mmol': 0.05079442540439311,\n",
       " 'first_sol_amount_ml': 0.04163360172443829,\n",
       " 'second_sol_amount_ml': 0.007891937620688056,\n",
       " 'third_sol_amount_ml': 0.00034217135456295544,\n",
       " 'other_1_amount_mmol': 0.015767751485643737,\n",
       " 'other_2_amount_mmol': 0.01261585190014275,\n",
       " 'total_volume_ml': 0.017957944371330428,\n",
       " 'temp_c': 0.18885559926127757,\n",
       " 'time_min': 0.21393209196076224,\n",
       " 'x0_chloroindium oxalate': 0.0,\n",
       " 'x0_indium acetate': 0.004766515072274292,\n",
       " 'x0_indium bromide': 3.471893252776809e-05,\n",
       " 'x0_indium chloride': 0.004693116140414318,\n",
       " 'x0_indium iodide': 0.00753342440709903,\n",
       " 'x0_indium myristate': 0.0,\n",
       " 'x0_indium oxalate': 0.005436904951718763,\n",
       " 'x0_indium palmitate': 0.0015843844037241109,\n",
       " 'x0_indium trifluoroacetate': 0.0005243508157537417,\n",
       " 'x0_indium tris(N,N-diisopropylacetamidinato)': 0.0011420461611499403,\n",
       " 'x1_bis(trimethylsilyl)phosphine': 0.00013685991140828792,\n",
       " 'x1_phosphine gas': 0.028190799140595947,\n",
       " 'x1_phosphorus trichloride': 0.0,\n",
       " 'x1_sodium phosphide': 0.0,\n",
       " 'x1_tris(diethylamino)phosphine': 0.0036227699891117067,\n",
       " 'x1_tris(dimethylamino)phosphine': 0.0017359466263994411,\n",
       " 'x1_tris(trimethylgermyl)phosphine': 0.00019163223305492484,\n",
       " 'x1_tris(trimethylsilyl)phosphine': 0.011124473282994056,\n",
       " 'x1_white phosphorus': 0.003222622166914373,\n",
       " 'x2_None': 0.006094269668254996,\n",
       " 'x2_dodecanethiol': 0.02173899768503565,\n",
       " 'x2_lauric acid': 0.0025699843869894058,\n",
       " 'x2_myristic acid': 0.0033109236687588993,\n",
       " 'x2_oleic acid': 0.0010023602833224728,\n",
       " 'x2_palmitic acid': 0.00020315074688095707,\n",
       " 'x2_stearic acid': 0.0063197127892683745,\n",
       " 'x3_4-ethylpyridine': 0.0,\n",
       " 'x3_None': 0.0,\n",
       " 'x3_dimethylformamide': 0.007805127439927846,\n",
       " 'x3_dodecylamine': 0.0,\n",
       " 'x3_mesitylene': 0.0,\n",
       " 'x3_octadecene': 0.0,\n",
       " 'x3_oleylamine': 0.008003795988224698,\n",
       " 'x3_trioctylamine': 0.0,\n",
       " 'x3_trioctylphosphine': 0.0018565135444361066,\n",
       " 'x3_trioctylphosphine oxide': 0.0018692541527118166,\n",
       " 'x4_None': 0.02315435994505959,\n",
       " 'x4_dioctyl ether': 0.0,\n",
       " 'x4_dioctylamine': 0.006957613529020915,\n",
       " 'x4_hexadecylamine': 0.004455957996639105,\n",
       " 'x4_octylamine': 0.0004257499515129954,\n",
       " 'x4_oleylamine': 0.0013519998399916394,\n",
       " 'x4_toluene': 0.0,\n",
       " 'x4_trioctylphosphine': 0.004541522556558577,\n",
       " 'x4_trioctylphosphine oxide': 0.007103281689883409,\n",
       " 'x5_None': 0.0014012359899080254,\n",
       " 'x5_trioctylphosphine': 0.0,\n",
       " 'x6_None': 0.054992848634844396,\n",
       " 'x6_acetic acid': 0.0,\n",
       " 'x6_superhydride': 0.00011398930777263698,\n",
       " 'x6_tetrabutylammonium myristate': 0.0,\n",
       " 'x6_zinc acetate': 0.0,\n",
       " 'x6_zinc bromide': 0.0015257343396088503,\n",
       " 'x6_zinc chloride': 0.028084215966872605,\n",
       " 'x6_zinc iodide': 0.037729528631834125,\n",
       " 'x6_zinc octanoate': 1.1324581127234716e-05,\n",
       " 'x6_zinc oleate': 0.029516331725826093,\n",
       " 'x6_zinc stearate': 0.0014779664540384813,\n",
       " 'x6_zinc undecylenate': 0.010877495690007039,\n",
       " 'x7_None': 0.04125108238656659}"
      ]
     },
     "execution_count": 32,
     "metadata": {},
     "output_type": "execute_result"
    }
   ],
   "source": [
    "importance_dict_a"
   ]
  },
  {
   "cell_type": "markdown",
   "metadata": {},
   "source": [
    "### Combine\n"
   ]
  },
  {
   "cell_type": "code",
   "execution_count": 33,
   "metadata": {},
   "outputs": [],
   "source": [
    "sorted_a = sorted(importance_dict_a.items(), key=lambda x: x[0], reverse=False)\n",
    "sorted_d = sorted(importance_dict_d.items(), key=lambda x: x[0], reverse=False)\n",
    "sorted_e = sorted(importance_dict_e.items(), key=lambda x: x[0], reverse=False)\n"
   ]
  },
  {
   "cell_type": "code",
   "execution_count": 34,
   "metadata": {
    "scrolled": true
   },
   "outputs": [
    {
     "data": {
      "text/plain": [
       "[('first_sol_amount_ml', 0.010276973964595369),\n",
       " ('in_amount_mmol', 0.030831633158011733),\n",
       " ('ligand_amount_mmol', 0.022852864821556955),\n",
       " ('other_1_amount_mmol', 0.005835850252464728),\n",
       " ('other_2_amount_mmol', 0.0005799838623149897),\n",
       " ('p_amount_mmol', 0.011253097970357208),\n",
       " ('second_sol_amount_ml', 0.01365382296381531),\n",
       " ('temp_c', 0.08896870998392434),\n",
       " ('third_sol_amount_ml', 0.0),\n",
       " ('time_min', 0.07815387843532047),\n",
       " ('total_volume_ml', 0.012708901820640705),\n",
       " ('x0_chloroindium oxalate', 0.0059908402939203905),\n",
       " ('x0_indium acetate', 0.0565774192057567),\n",
       " ('x0_indium bromide', 2.1214253913595987e-05),\n",
       " ('x0_indium chloride', 0.00641132809130618),\n",
       " ('x0_indium iodide', 0.0014325734424605224),\n",
       " ('x0_indium myristate', 9.117832714593567e-05),\n",
       " ('x0_indium oxalate', 0.01837307878403434),\n",
       " ('x0_indium palmitate', 5.468906076706287e-05),\n",
       " ('x0_indium trifluoroacetate', 0.21528425744956453),\n",
       " ('x0_indium tris(N,N-diisopropylacetamidinato)', 9.125576020383972e-05),\n",
       " ('x1_bis(trimethylsilyl)phosphine', 0.00017632298840260984),\n",
       " ('x1_phosphine gas', 0.01465153253676499),\n",
       " ('x1_phosphorus trichloride', 0.0008585207971319882),\n",
       " ('x1_sodium phosphide', 0.0),\n",
       " ('x1_tris(diethylamino)phosphine', 0.004583603888178533),\n",
       " ('x1_tris(dimethylamino)phosphine', 0.01112483213538244),\n",
       " ('x1_tris(trimethylgermyl)phosphine', 3.1559833659997873e-06),\n",
       " ('x1_tris(trimethylsilyl)phosphine', 0.013870689304058825),\n",
       " ('x1_white phosphorus', 2.539134964184142e-05),\n",
       " ('x2_None', 0.00021183136924919136),\n",
       " ('x2_dodecanethiol', 0.0002825165152693319),\n",
       " ('x2_lauric acid', 0.0007755122816610903),\n",
       " ('x2_myristic acid', 0.033068043232619235),\n",
       " ('x2_oleic acid', 0.005833386783021074),\n",
       " ('x2_palmitic acid', 0.00045742538415975833),\n",
       " ('x2_stearic acid', 9.890787096584288e-05),\n",
       " ('x3_4-ethylpyridine', 0.012950462616433522),\n",
       " ('x3_None', 1.7372174800950938e-05),\n",
       " ('x3_dimethylformamide', 0.0),\n",
       " ('x3_dodecylamine', 0.00013612946046935668),\n",
       " ('x3_mesitylene', 0.0011524667993989476),\n",
       " ('x3_octadecene', 0.009380457766012502),\n",
       " ('x3_oleylamine', 0.0004897812460256283),\n",
       " ('x3_trioctylamine', 0.01137865026833267),\n",
       " ('x3_trioctylphosphine', 0.00016857405607997433),\n",
       " ('x3_trioctylphosphine oxide', 0.0005367834667224747),\n",
       " ('x4_None', 0.004230222953931645),\n",
       " ('x4_dioctyl ether', 0.0),\n",
       " ('x4_dioctylamine', 0.04869326274855771),\n",
       " ('x4_hexadecylamine', 0.002498612669110093),\n",
       " ('x4_octylamine', 0.000571479274614356),\n",
       " ('x4_oleylamine', 0.005097222482358478),\n",
       " ('x4_toluene', 8.571044359843375e-05),\n",
       " ('x4_trioctylphosphine', 0.001427087670883451),\n",
       " ('x4_trioctylphosphine oxide', 0.017027477602441807),\n",
       " ('x5_None', 7.158816415789298e-07),\n",
       " ('x5_trioctylphosphine', 1.299192608797131e-06),\n",
       " ('x6_None', 0.002256369284873829),\n",
       " ('x6_acetic acid', 1.6307665954561575e-05),\n",
       " ('x6_superhydride', 0.00017096490927188477),\n",
       " ('x6_tetrabutylammonium myristate', 4.900051769354842e-05),\n",
       " ('x6_zinc acetate', 0.0),\n",
       " ('x6_zinc bromide', 0.0017510422446219683),\n",
       " ('x6_zinc chloride', 0.004468425125764152),\n",
       " ('x6_zinc iodide', 0.18493071592379612),\n",
       " ('x6_zinc octanoate', 0.00013274204408377335),\n",
       " ('x6_zinc oleate', 0.00820416861301515),\n",
       " ('x6_zinc stearate', 0.00015840642769060525),\n",
       " ('x6_zinc undecylenate', 0.00011595622112396387),\n",
       " ('x7_None', 0.012285050280609252)]"
      ]
     },
     "execution_count": 34,
     "metadata": {},
     "output_type": "execute_result"
    }
   ],
   "source": [
    "sorted_d "
   ]
  },
  {
   "cell_type": "code",
   "execution_count": 35,
   "metadata": {},
   "outputs": [],
   "source": [
    "combined_importance = dict()"
   ]
  },
  {
   "cell_type": "code",
   "execution_count": 36,
   "metadata": {},
   "outputs": [
    {
     "data": {
      "text/plain": [
       "{'first_sol_amount_ml': 0.07335256052891811,\n",
       " 'in_amount_mmol': 0.09392302390882398,\n",
       " 'ligand_amount_mmol': 0.10063129430258455,\n",
       " 'other_1_amount_mmol': 0.03690121694622891,\n",
       " 'other_2_amount_mmol': 0.013195835762457739,\n",
       " 'p_amount_mmol': 0.041401712578302115,\n",
       " 'second_sol_amount_ml': 0.03567350596194833,\n",
       " 'temp_c': 0.41595614921513047,\n",
       " 'third_sol_amount_ml': 0.00034217135456295544,\n",
       " 'time_min': 0.4272187766706185,\n",
       " 'total_volume_ml': 0.05420384533202398,\n",
       " 'x0_chloroindium oxalate': 0.014154689795001318,\n",
       " 'x0_indium acetate': 0.06686259997798173,\n",
       " 'x0_indium bromide': 0.001228552668639198,\n",
       " 'x0_indium chloride': 0.014865676340995344,\n",
       " 'x0_indium iodide': 0.023089345422329172,\n",
       " 'x0_indium myristate': 0.00071222949877713,\n",
       " 'x0_indium oxalate': 0.09036465925782383,\n",
       " 'x0_indium palmitate': 0.001722100833166576,\n",
       " 'x0_indium trifluoroacetate': 0.21768152846674094,\n",
       " 'x0_indium tris(N,N-diisopropylacetamidinato)': 0.00123330192135378,\n",
       " 'x1_bis(trimethylsilyl)phosphine': 0.00031335623443958844,\n",
       " 'x1_phosphine gas': 0.06456256005196773,\n",
       " 'x1_phosphorus trichloride': 0.0008585207971319882,\n",
       " 'x1_sodium phosphide': 0.0018441487364729264,\n",
       " 'x1_tris(diethylamino)phosphine': 0.01609195867204124,\n",
       " 'x1_tris(dimethylamino)phosphine': 0.014610262269890512,\n",
       " 'x1_tris(trimethylgermyl)phosphine': 0.00035078936665593435,\n",
       " 'x1_tris(trimethylsilyl)phosphine': 0.03605243812895125,\n",
       " 'x1_white phosphorus': 0.00865501509571497,\n",
       " 'x2_None': 0.009271858180737133,\n",
       " 'x2_dodecanethiol': 0.03234518904327907,\n",
       " 'x2_lauric acid': 0.0036187305162394025,\n",
       " 'x2_myristic acid': 0.0540439328311529,\n",
       " 'x2_oleic acid': 0.008486237558019777,\n",
       " 'x2_palmitic acid': 0.0013516942280495448,\n",
       " 'x2_stearic acid': 0.01740498184923974,\n",
       " 'x3_4-ethylpyridine': 0.013941200644098095,\n",
       " 'x3_None': 0.000932653209107937,\n",
       " 'x3_dimethylformamide': 0.009388140727217241,\n",
       " 'x3_dodecylamine': 0.00013612946046935668,\n",
       " 'x3_mesitylene': 0.001892047093830417,\n",
       " 'x3_octadecene': 0.011023151132289912,\n",
       " 'x3_oleylamine': 0.008652617156891158,\n",
       " 'x3_trioctylamine': 0.011438658286597684,\n",
       " 'x3_trioctylphosphine': 0.06397048478004218,\n",
       " 'x3_trioctylphosphine oxide': 0.0024060376194342914,\n",
       " 'x4_None': 0.03714379334742632,\n",
       " 'x4_dioctyl ether': 0.0,\n",
       " 'x4_dioctylamine': 0.0736954779639471,\n",
       " 'x4_hexadecylamine': 0.006954570665749199,\n",
       " 'x4_octylamine': 0.0014571466179029101,\n",
       " 'x4_oleylamine': 0.0081720224243187,\n",
       " 'x4_toluene': 0.001445443985386845,\n",
       " 'x4_trioctylphosphine': 0.01611891683772463,\n",
       " 'x4_trioctylphosphine oxide': 0.024998925191881148,\n",
       " 'x5_None': 0.0015146627025943986,\n",
       " 'x5_trioctylphosphine': 0.00011062310480100742,\n",
       " 'x6_None': 0.1698429706001501,\n",
       " 'x6_acetic acid': 0.0027370255055104275,\n",
       " 'x6_superhydride': 0.00822814406519364,\n",
       " 'x6_tetrabutylammonium myristate': 4.900051769354842e-05,\n",
       " 'x6_zinc acetate': 0.0,\n",
       " 'x6_zinc bromide': 0.018763815792351934,\n",
       " 'x6_zinc chloride': 0.04653368472293808,\n",
       " 'x6_zinc iodide': 0.2703157723970019,\n",
       " 'x6_zinc octanoate': 0.00014406662521100806,\n",
       " 'x6_zinc oleate': 0.06286431290328187,\n",
       " 'x6_zinc stearate': 0.0026339535678415894,\n",
       " 'x6_zinc undecylenate': 0.027856172076527224,\n",
       " 'x7_None': 0.08037627551878732}"
      ]
     },
     "execution_count": 36,
     "metadata": {},
     "output_type": "execute_result"
    }
   ],
   "source": [
    "for i in range(0,71):\n",
    "    combined_importance[sorted_e[i][0]] = sorted_e[i][1] + sorted_a[i][1] + sorted_d[i][1]\n",
    "combined_importance\n"
   ]
  },
  {
   "cell_type": "code",
   "execution_count": 37,
   "metadata": {},
   "outputs": [
    {
     "data": {
      "text/plain": [
       "[('time_min', 0.4272187766706185),\n",
       " ('temp_c', 0.41595614921513047),\n",
       " ('x6_zinc iodide', 0.2703157723970019),\n",
       " ('x0_indium trifluoroacetate', 0.21768152846674094),\n",
       " ('x6_None', 0.1698429706001501),\n",
       " ('ligand_amount_mmol', 0.10063129430258455),\n",
       " ('in_amount_mmol', 0.09392302390882398),\n",
       " ('x0_indium oxalate', 0.09036465925782383),\n",
       " ('x7_None', 0.08037627551878732),\n",
       " ('x4_dioctylamine', 0.0736954779639471),\n",
       " ('first_sol_amount_ml', 0.07335256052891811),\n",
       " ('x0_indium acetate', 0.06686259997798173),\n",
       " ('x1_phosphine gas', 0.06456256005196773),\n",
       " ('x3_trioctylphosphine', 0.06397048478004218),\n",
       " ('x6_zinc oleate', 0.06286431290328187),\n",
       " ('total_volume_ml', 0.05420384533202398),\n",
       " ('x2_myristic acid', 0.0540439328311529),\n",
       " ('x6_zinc chloride', 0.04653368472293808),\n",
       " ('p_amount_mmol', 0.041401712578302115),\n",
       " ('x4_None', 0.03714379334742632),\n",
       " ('other_1_amount_mmol', 0.03690121694622891),\n",
       " ('x1_tris(trimethylsilyl)phosphine', 0.03605243812895125),\n",
       " ('second_sol_amount_ml', 0.03567350596194833),\n",
       " ('x2_dodecanethiol', 0.03234518904327907),\n",
       " ('x6_zinc undecylenate', 0.027856172076527224),\n",
       " ('x4_trioctylphosphine oxide', 0.024998925191881148),\n",
       " ('x0_indium iodide', 0.023089345422329172),\n",
       " ('x6_zinc bromide', 0.018763815792351934),\n",
       " ('x2_stearic acid', 0.01740498184923974),\n",
       " ('x4_trioctylphosphine', 0.01611891683772463),\n",
       " ('x1_tris(diethylamino)phosphine', 0.01609195867204124),\n",
       " ('x0_indium chloride', 0.014865676340995344),\n",
       " ('x1_tris(dimethylamino)phosphine', 0.014610262269890512),\n",
       " ('x0_chloroindium oxalate', 0.014154689795001318),\n",
       " ('x3_4-ethylpyridine', 0.013941200644098095),\n",
       " ('other_2_amount_mmol', 0.013195835762457739),\n",
       " ('x3_trioctylamine', 0.011438658286597684),\n",
       " ('x3_octadecene', 0.011023151132289912),\n",
       " ('x3_dimethylformamide', 0.009388140727217241),\n",
       " ('x2_None', 0.009271858180737133),\n",
       " ('x1_white phosphorus', 0.00865501509571497),\n",
       " ('x3_oleylamine', 0.008652617156891158),\n",
       " ('x2_oleic acid', 0.008486237558019777),\n",
       " ('x6_superhydride', 0.00822814406519364),\n",
       " ('x4_oleylamine', 0.0081720224243187),\n",
       " ('x4_hexadecylamine', 0.006954570665749199),\n",
       " ('x2_lauric acid', 0.0036187305162394025),\n",
       " ('x6_acetic acid', 0.0027370255055104275),\n",
       " ('x6_zinc stearate', 0.0026339535678415894),\n",
       " ('x3_trioctylphosphine oxide', 0.0024060376194342914),\n",
       " ('x3_mesitylene', 0.001892047093830417),\n",
       " ('x1_sodium phosphide', 0.0018441487364729264),\n",
       " ('x0_indium palmitate', 0.001722100833166576),\n",
       " ('x5_None', 0.0015146627025943986),\n",
       " ('x4_octylamine', 0.0014571466179029101),\n",
       " ('x4_toluene', 0.001445443985386845),\n",
       " ('x2_palmitic acid', 0.0013516942280495448),\n",
       " ('x0_indium tris(N,N-diisopropylacetamidinato)', 0.00123330192135378),\n",
       " ('x0_indium bromide', 0.001228552668639198),\n",
       " ('x3_None', 0.000932653209107937),\n",
       " ('x1_phosphorus trichloride', 0.0008585207971319882),\n",
       " ('x0_indium myristate', 0.00071222949877713),\n",
       " ('x1_tris(trimethylgermyl)phosphine', 0.00035078936665593435),\n",
       " ('third_sol_amount_ml', 0.00034217135456295544),\n",
       " ('x1_bis(trimethylsilyl)phosphine', 0.00031335623443958844),\n",
       " ('x6_zinc octanoate', 0.00014406662521100806),\n",
       " ('x3_dodecylamine', 0.00013612946046935668),\n",
       " ('x5_trioctylphosphine', 0.00011062310480100742),\n",
       " ('x6_tetrabutylammonium myristate', 4.900051769354842e-05),\n",
       " ('x4_dioctyl ether', 0.0),\n",
       " ('x6_zinc acetate', 0.0)]"
      ]
     },
     "execution_count": 37,
     "metadata": {},
     "output_type": "execute_result"
    }
   ],
   "source": [
    "sorted_combined_importance = sorted(combined_importance.items(), key=lambda x: x[1], reverse=True)\n",
    "\n",
    "sorted_combined_importance "
   ]
  },
  {
   "cell_type": "code",
   "execution_count": 38,
   "metadata": {},
   "outputs": [
    {
     "data": {
      "image/png": "[encoded data removed]",
      "text/plain": [
       "<Figure size 1490.4x595.44 with 1 Axes>"
      ]
     },
     "metadata": {},
     "output_type": "display_data"
    }
   ],
   "source": [
    "top7_combined = DataFrame(sorted_combined_importance[0:7], columns=['features', 'importance score'])\n",
    "\n",
    "others_combined = DataFrame(sorted_combined_importance [7:], columns=['features', 'importance score'])\n",
    "\n",
    "import seaborn as sns\n",
    "\n",
    "a4_dims = (20.7, 8.27)\n",
    "fig, ax = plt.subplots(figsize=a4_dims)\n",
    "sns.set_theme(style=\"whitegrid\")\n",
    "\n",
    "ax = sns.barplot(x=\"features\", y=\"importance score\", data=top7_combined)"
   ]
  },
  {
   "cell_type": "code",
   "execution_count": null,
   "metadata": {},
   "outputs": [],
   "source": []
  }
 ],
 "metadata": {
  "kernelspec": {
   "display_name": "Python 3",
   "language": "python",
   "name": "python3"
  },
  "language_info": {
   "codemirror_mode": {
    "name": "ipython",
    "version": 3
   },
   "file_extension": ".py",
   "mimetype": "text/x-python",
   "name": "python",
   "nbconvert_exporter": "python",
   "pygments_lexer": "ipython3",
   "version": "3.8.5"
  }
 },
 "nbformat": 4,
 "nbformat_minor": 4
}
