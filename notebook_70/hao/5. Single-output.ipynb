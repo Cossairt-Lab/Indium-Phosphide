{
 "cells": [
  {
   "cell_type": "code",
   "execution_count": 1,
   "metadata": {},
   "outputs": [],
   "source": [
    "import numpy as np \n",
    "import pandas as pd\n",
    "import os\n",
    "import joblib\n",
    "import sklearn \n",
    "import matplotlib\n",
    "from matplotlib import pyplot as plt\n",
    "\n",
    "from sklearn.model_selection import train_test_split\n",
    "\n",
    "#Regressions:\n",
    "\n",
    "from sklearn.multioutput import MultiOutputRegressor\n",
    "\n",
    "from sklearn.neighbors import KNeighborsRegressor\n",
    "from sklearn.linear_model import Ridge\n",
    "from sklearn.linear_model import Lasso\n",
    "from sklearn.linear_model import ElasticNet\n",
    "from sklearn.linear_model import LinearRegression\n",
    "from sklearn.linear_model import RidgeCV\n",
    "from sklearn.ensemble import ExtraTreesRegressor\n",
    "from sklearn.ensemble import GradientBoostingRegressor\n",
    "from sklearn.ensemble import RandomForestRegressor\n",
    "from sklearn.ensemble import BaggingRegressor\n",
    "from sklearn.tree import DecisionTreeRegressor\n",
    "\n",
    "#Metric\n",
    "from sklearn.metrics import mean_squared_error\n",
    "from sklearn.metrics import mean_absolute_error\n",
    "from sklearn.metrics import r2_score\n",
    "\n",
    "\n",
    "from pandas import DataFrame\n",
    "\n",
    "\n",
    "# Show progress bar\n",
    "from tqdm import tqdm"
   ]
  },
  {
   "cell_type": "code",
   "execution_count": 2,
   "metadata": {},
   "outputs": [
    {
     "data": {
      "text/html": [
       "<div>\n",
       "<style scoped>\n",
       "    .dataframe tbody tr th:only-of-type {\n",
       "        vertical-align: middle;\n",
       "    }\n",
       "\n",
       "    .dataframe tbody tr th {\n",
       "        vertical-align: top;\n",
       "    }\n",
       "\n",
       "    .dataframe thead th {\n",
       "        text-align: right;\n",
       "    }\n",
       "</style>\n",
       "<table border=\"1\" class=\"dataframe\">\n",
       "  <thead>\n",
       "    <tr style=\"text-align: right;\">\n",
       "      <th></th>\n",
       "      <th>Unnamed: 0</th>\n",
       "      <th>Unnamed: 0.1</th>\n",
       "      <th>Unnamed: 0.1.1</th>\n",
       "      <th>Unnamed: 0.1.1.1</th>\n",
       "      <th>in_amount_mmol</th>\n",
       "      <th>p_amount_mmol</th>\n",
       "      <th>sol_amount_ml</th>\n",
       "      <th>TOP_amount_mmol</th>\n",
       "      <th>acid_amount_mmol</th>\n",
       "      <th>amine_amount_mmol</th>\n",
       "      <th>...</th>\n",
       "      <th>x8_superhydride</th>\n",
       "      <th>x8_tetrabutylammonium myristate</th>\n",
       "      <th>x8_trioctylamine</th>\n",
       "      <th>x8_trioctylphosphine oxide</th>\n",
       "      <th>x8_water</th>\n",
       "      <th>x8_zinc iodide</th>\n",
       "      <th>diameter_nm</th>\n",
       "      <th>abs_nm</th>\n",
       "      <th>emission_nm</th>\n",
       "      <th>Unnamed: 78</th>\n",
       "    </tr>\n",
       "  </thead>\n",
       "  <tbody>\n",
       "    <tr>\n",
       "      <th>0</th>\n",
       "      <td>0</td>\n",
       "      <td>0</td>\n",
       "      <td>0</td>\n",
       "      <td>0</td>\n",
       "      <td>2.798293</td>\n",
       "      <td>0.769563</td>\n",
       "      <td>-0.528015</td>\n",
       "      <td>1.951881</td>\n",
       "      <td>-0.431077</td>\n",
       "      <td>-0.641827</td>\n",
       "      <td>...</td>\n",
       "      <td>0</td>\n",
       "      <td>0</td>\n",
       "      <td>0</td>\n",
       "      <td>1</td>\n",
       "      <td>0</td>\n",
       "      <td>0</td>\n",
       "      <td>3.461500</td>\n",
       "      <td>599.0</td>\n",
       "      <td>612.000000</td>\n",
       "      <td>13.000000</td>\n",
       "    </tr>\n",
       "    <tr>\n",
       "      <th>1</th>\n",
       "      <td>1</td>\n",
       "      <td>1</td>\n",
       "      <td>1</td>\n",
       "      <td>1</td>\n",
       "      <td>0.055436</td>\n",
       "      <td>-0.361432</td>\n",
       "      <td>-0.528015</td>\n",
       "      <td>1.958217</td>\n",
       "      <td>-0.431077</td>\n",
       "      <td>-0.641827</td>\n",
       "      <td>...</td>\n",
       "      <td>0</td>\n",
       "      <td>0</td>\n",
       "      <td>0</td>\n",
       "      <td>1</td>\n",
       "      <td>0</td>\n",
       "      <td>0</td>\n",
       "      <td>2.600000</td>\n",
       "      <td>530.0</td>\n",
       "      <td>600.000000</td>\n",
       "      <td>70.000000</td>\n",
       "    </tr>\n",
       "    <tr>\n",
       "      <th>2</th>\n",
       "      <td>2</td>\n",
       "      <td>2</td>\n",
       "      <td>2</td>\n",
       "      <td>2</td>\n",
       "      <td>0.782458</td>\n",
       "      <td>0.017999</td>\n",
       "      <td>-0.528015</td>\n",
       "      <td>0.600491</td>\n",
       "      <td>-0.431077</td>\n",
       "      <td>-0.641827</td>\n",
       "      <td>...</td>\n",
       "      <td>0</td>\n",
       "      <td>0</td>\n",
       "      <td>0</td>\n",
       "      <td>1</td>\n",
       "      <td>0</td>\n",
       "      <td>0</td>\n",
       "      <td>3.500000</td>\n",
       "      <td>595.0</td>\n",
       "      <td>665.000000</td>\n",
       "      <td>70.000000</td>\n",
       "    </tr>\n",
       "    <tr>\n",
       "      <th>3</th>\n",
       "      <td>3</td>\n",
       "      <td>3</td>\n",
       "      <td>3</td>\n",
       "      <td>3</td>\n",
       "      <td>0.782458</td>\n",
       "      <td>0.017999</td>\n",
       "      <td>-0.528015</td>\n",
       "      <td>0.600491</td>\n",
       "      <td>-0.431077</td>\n",
       "      <td>-0.641827</td>\n",
       "      <td>...</td>\n",
       "      <td>0</td>\n",
       "      <td>0</td>\n",
       "      <td>0</td>\n",
       "      <td>1</td>\n",
       "      <td>0</td>\n",
       "      <td>0</td>\n",
       "      <td>4.600000</td>\n",
       "      <td>650.0</td>\n",
       "      <td>699.500000</td>\n",
       "      <td>49.500000</td>\n",
       "    </tr>\n",
       "    <tr>\n",
       "      <th>4</th>\n",
       "      <td>4</td>\n",
       "      <td>4</td>\n",
       "      <td>4</td>\n",
       "      <td>4</td>\n",
       "      <td>0.055436</td>\n",
       "      <td>0.280681</td>\n",
       "      <td>-0.528015</td>\n",
       "      <td>1.958217</td>\n",
       "      <td>-0.431077</td>\n",
       "      <td>-0.641827</td>\n",
       "      <td>...</td>\n",
       "      <td>0</td>\n",
       "      <td>0</td>\n",
       "      <td>0</td>\n",
       "      <td>1</td>\n",
       "      <td>0</td>\n",
       "      <td>0</td>\n",
       "      <td>2.520000</td>\n",
       "      <td>520.0</td>\n",
       "      <td>600.000000</td>\n",
       "      <td>80.000000</td>\n",
       "    </tr>\n",
       "    <tr>\n",
       "      <th>...</th>\n",
       "      <td>...</td>\n",
       "      <td>...</td>\n",
       "      <td>...</td>\n",
       "      <td>...</td>\n",
       "      <td>...</td>\n",
       "      <td>...</td>\n",
       "      <td>...</td>\n",
       "      <td>...</td>\n",
       "      <td>...</td>\n",
       "      <td>...</td>\n",
       "      <td>...</td>\n",
       "      <td>...</td>\n",
       "      <td>...</td>\n",
       "      <td>...</td>\n",
       "      <td>...</td>\n",
       "      <td>...</td>\n",
       "      <td>...</td>\n",
       "      <td>...</td>\n",
       "      <td>...</td>\n",
       "      <td>...</td>\n",
       "      <td>...</td>\n",
       "    </tr>\n",
       "    <tr>\n",
       "      <th>205</th>\n",
       "      <td>205</td>\n",
       "      <td>214</td>\n",
       "      <td>214</td>\n",
       "      <td>214</td>\n",
       "      <td>-0.580709</td>\n",
       "      <td>-0.667895</td>\n",
       "      <td>-0.070987</td>\n",
       "      <td>-0.304661</td>\n",
       "      <td>-0.316033</td>\n",
       "      <td>-0.641827</td>\n",
       "      <td>...</td>\n",
       "      <td>0</td>\n",
       "      <td>0</td>\n",
       "      <td>0</td>\n",
       "      <td>0</td>\n",
       "      <td>0</td>\n",
       "      <td>0</td>\n",
       "      <td>2.843071</td>\n",
       "      <td>570.0</td>\n",
       "      <td>605.000000</td>\n",
       "      <td>35.000000</td>\n",
       "    </tr>\n",
       "    <tr>\n",
       "      <th>206</th>\n",
       "      <td>206</td>\n",
       "      <td>215</td>\n",
       "      <td>215</td>\n",
       "      <td>215</td>\n",
       "      <td>-0.580709</td>\n",
       "      <td>-0.667895</td>\n",
       "      <td>-0.070987</td>\n",
       "      <td>-0.304661</td>\n",
       "      <td>-0.316033</td>\n",
       "      <td>-0.641827</td>\n",
       "      <td>...</td>\n",
       "      <td>0</td>\n",
       "      <td>0</td>\n",
       "      <td>0</td>\n",
       "      <td>0</td>\n",
       "      <td>0</td>\n",
       "      <td>0</td>\n",
       "      <td>2.762000</td>\n",
       "      <td>562.0</td>\n",
       "      <td>600.166667</td>\n",
       "      <td>38.166667</td>\n",
       "    </tr>\n",
       "    <tr>\n",
       "      <th>207</th>\n",
       "      <td>207</td>\n",
       "      <td>216</td>\n",
       "      <td>216</td>\n",
       "      <td>216</td>\n",
       "      <td>-0.580709</td>\n",
       "      <td>-0.667895</td>\n",
       "      <td>-0.070987</td>\n",
       "      <td>-0.304661</td>\n",
       "      <td>-0.316033</td>\n",
       "      <td>-0.641827</td>\n",
       "      <td>...</td>\n",
       "      <td>0</td>\n",
       "      <td>0</td>\n",
       "      <td>0</td>\n",
       "      <td>0</td>\n",
       "      <td>0</td>\n",
       "      <td>0</td>\n",
       "      <td>2.712000</td>\n",
       "      <td>549.0</td>\n",
       "      <td>588.166667</td>\n",
       "      <td>39.166667</td>\n",
       "    </tr>\n",
       "    <tr>\n",
       "      <th>208</th>\n",
       "      <td>208</td>\n",
       "      <td>217</td>\n",
       "      <td>217</td>\n",
       "      <td>217</td>\n",
       "      <td>-0.423738</td>\n",
       "      <td>-0.631411</td>\n",
       "      <td>-0.201566</td>\n",
       "      <td>-0.304661</td>\n",
       "      <td>-0.085945</td>\n",
       "      <td>-0.600008</td>\n",
       "      <td>...</td>\n",
       "      <td>0</td>\n",
       "      <td>0</td>\n",
       "      <td>0</td>\n",
       "      <td>0</td>\n",
       "      <td>0</td>\n",
       "      <td>0</td>\n",
       "      <td>2.000000</td>\n",
       "      <td>523.0</td>\n",
       "      <td>583.000000</td>\n",
       "      <td>60.000000</td>\n",
       "    </tr>\n",
       "    <tr>\n",
       "      <th>209</th>\n",
       "      <td>209</td>\n",
       "      <td>218</td>\n",
       "      <td>218</td>\n",
       "      <td>218</td>\n",
       "      <td>-0.423738</td>\n",
       "      <td>-0.631411</td>\n",
       "      <td>-0.201566</td>\n",
       "      <td>-0.304661</td>\n",
       "      <td>-0.085945</td>\n",
       "      <td>-0.600008</td>\n",
       "      <td>...</td>\n",
       "      <td>0</td>\n",
       "      <td>0</td>\n",
       "      <td>0</td>\n",
       "      <td>0</td>\n",
       "      <td>0</td>\n",
       "      <td>0</td>\n",
       "      <td>4.100000</td>\n",
       "      <td>584.0</td>\n",
       "      <td>627.833333</td>\n",
       "      <td>43.833333</td>\n",
       "    </tr>\n",
       "  </tbody>\n",
       "</table>\n",
       "<p>210 rows × 80 columns</p>\n",
       "</div>"
      ],
      "text/plain": [
       "     Unnamed: 0  Unnamed: 0.1  Unnamed: 0.1.1  Unnamed: 0.1.1.1  \\\n",
       "0             0             0               0                 0   \n",
       "1             1             1               1                 1   \n",
       "2             2             2               2                 2   \n",
       "3             3             3               3                 3   \n",
       "4             4             4               4                 4   \n",
       "..          ...           ...             ...               ...   \n",
       "205         205           214             214               214   \n",
       "206         206           215             215               215   \n",
       "207         207           216             216               216   \n",
       "208         208           217             217               217   \n",
       "209         209           218             218               218   \n",
       "\n",
       "     in_amount_mmol  p_amount_mmol  sol_amount_ml  TOP_amount_mmol  \\\n",
       "0          2.798293       0.769563      -0.528015         1.951881   \n",
       "1          0.055436      -0.361432      -0.528015         1.958217   \n",
       "2          0.782458       0.017999      -0.528015         0.600491   \n",
       "3          0.782458       0.017999      -0.528015         0.600491   \n",
       "4          0.055436       0.280681      -0.528015         1.958217   \n",
       "..              ...            ...            ...              ...   \n",
       "205       -0.580709      -0.667895      -0.070987        -0.304661   \n",
       "206       -0.580709      -0.667895      -0.070987        -0.304661   \n",
       "207       -0.580709      -0.667895      -0.070987        -0.304661   \n",
       "208       -0.423738      -0.631411      -0.201566        -0.304661   \n",
       "209       -0.423738      -0.631411      -0.201566        -0.304661   \n",
       "\n",
       "     acid_amount_mmol  amine_amount_mmol  ...  x8_superhydride  \\\n",
       "0           -0.431077          -0.641827  ...                0   \n",
       "1           -0.431077          -0.641827  ...                0   \n",
       "2           -0.431077          -0.641827  ...                0   \n",
       "3           -0.431077          -0.641827  ...                0   \n",
       "4           -0.431077          -0.641827  ...                0   \n",
       "..                ...                ...  ...              ...   \n",
       "205         -0.316033          -0.641827  ...                0   \n",
       "206         -0.316033          -0.641827  ...                0   \n",
       "207         -0.316033          -0.641827  ...                0   \n",
       "208         -0.085945          -0.600008  ...                0   \n",
       "209         -0.085945          -0.600008  ...                0   \n",
       "\n",
       "     x8_tetrabutylammonium myristate  x8_trioctylamine  \\\n",
       "0                                  0                 0   \n",
       "1                                  0                 0   \n",
       "2                                  0                 0   \n",
       "3                                  0                 0   \n",
       "4                                  0                 0   \n",
       "..                               ...               ...   \n",
       "205                                0                 0   \n",
       "206                                0                 0   \n",
       "207                                0                 0   \n",
       "208                                0                 0   \n",
       "209                                0                 0   \n",
       "\n",
       "     x8_trioctylphosphine oxide  x8_water  x8_zinc iodide  diameter_nm  \\\n",
       "0                             1         0               0     3.461500   \n",
       "1                             1         0               0     2.600000   \n",
       "2                             1         0               0     3.500000   \n",
       "3                             1         0               0     4.600000   \n",
       "4                             1         0               0     2.520000   \n",
       "..                          ...       ...             ...          ...   \n",
       "205                           0         0               0     2.843071   \n",
       "206                           0         0               0     2.762000   \n",
       "207                           0         0               0     2.712000   \n",
       "208                           0         0               0     2.000000   \n",
       "209                           0         0               0     4.100000   \n",
       "\n",
       "     abs_nm  emission_nm  Unnamed: 78  \n",
       "0     599.0   612.000000    13.000000  \n",
       "1     530.0   600.000000    70.000000  \n",
       "2     595.0   665.000000    70.000000  \n",
       "3     650.0   699.500000    49.500000  \n",
       "4     520.0   600.000000    80.000000  \n",
       "..      ...          ...          ...  \n",
       "205   570.0   605.000000    35.000000  \n",
       "206   562.0   600.166667    38.166667  \n",
       "207   549.0   588.166667    39.166667  \n",
       "208   523.0   583.000000    60.000000  \n",
       "209   584.0   627.833333    43.833333  \n",
       "\n",
       "[210 rows x 80 columns]"
      ]
     },
     "execution_count": 2,
     "metadata": {},
     "output_type": "execute_result"
    }
   ],
   "source": [
    "df = pd.read_csv('dataset_augmented.csv')\n",
    "df"
   ]
  },
  {
   "cell_type": "code",
   "execution_count": 3,
   "metadata": {},
   "outputs": [],
   "source": [
    "# Input for ML models\n",
    "\n",
    "input_col = ['in_amount_mmol',\n",
    "             'p_amount_mmol',\n",
    "             'sol_amount_ml',\n",
    "             'TOP_amount_mmol',\n",
    "             'acid_amount_mmol',\n",
    "             'amine_amount_mmol',\n",
    "             'thiol_amount_mmol',\n",
    "             'zinc_amount_mmol',\n",
    "             'other_amount_mmol',\n",
    "             'total_volume_ml',\n",
    "             'temp_c',\n",
    "             'time_min',\n",
    "             'x0_chloroindium oxalate',\n",
    "             'x0_indium acetate',\n",
    "             'x0_indium bromide',\n",
    "             'x0_indium chloride',\n",
    "             'x0_indium iodide',\n",
    "             'x0_indium myristate',\n",
    "             'x0_indium oxalate',\n",
    "             'x0_indium palmitate',\n",
    "             'x0_indium trifluoroacetate',\n",
    "             'x0_indium tris(N,N-diisopropylacetamidinato)',\n",
    "             'x1_bis(trimethylsilyl)phosphine',\n",
    "             'x1_phosphine gas',\n",
    "             'x1_phosphorus trichloride',\n",
    "             'x1_sodium phosphide',\n",
    "             'x1_tris(diethylamino)phosphine',\n",
    "             'x1_tris(dimethylamino)phosphine',\n",
    "             'x1_tris(trimethylgermyl)phosphine',\n",
    "             'x1_tris(trimethylsilyl)phosphine',\n",
    "             'x1_white phosphorus',\n",
    "             'x2_4-ethylpyridine',\n",
    "             'x2_None',\n",
    "             'x2_dimethylformamide',\n",
    "             'x2_mesitylene',\n",
    "             'x2_octadecene',\n",
    "             'x2_toluene',\n",
    "             'x3_None',\n",
    "             'x3_trioctylphosphine',\n",
    "             'x4_None',\n",
    "             'x4_lauric acid',\n",
    "             'x4_myristic acid',\n",
    "             'x4_oleic acid',\n",
    "             'x4_palmitic acid',\n",
    "             'x4_stearic acid',\n",
    "             'x5_None',\n",
    "             'x5_dioctylamine',\n",
    "             'x5_dodecylamine',\n",
    "             'x5_hexadecylamine',\n",
    "             'x5_octylamine',\n",
    "             'x5_oleylamine',\n",
    "             'x6_None',\n",
    "             'x6_dodecanethiol',\n",
    "             'x7_None',\n",
    "             'x7_zinc acetate',\n",
    "             'x7_zinc bromide',\n",
    "             'x7_zinc chloride',\n",
    "             'x7_zinc iodide',\n",
    "             'x7_zinc octanoate',\n",
    "             'x7_zinc oleate',\n",
    "             'x7_zinc stearate',\n",
    "             'x7_zinc undecylenate',\n",
    "             'x8_None',\n",
    "             'x8_acetic acid',\n",
    "             'x8_copper bromide',\n",
    "             'x8_superhydride',\n",
    "             'x8_oleic acid',\n",
    "             'x8_tetrabutylammonium myristate',\n",
    "             'x8_trioctylamine',\n",
    "             'x8_trioctylphosphine oxide',\n",
    "             'x8_water',\n",
    "             'x8_zinc iodide'\n",
    "            ]\n",
    "\n",
    "#Three individual outputs:\n",
    "diameter = ['diameter_nm']\n",
    "emission = ['emission_nm']\n",
    "absorbance = ['abs_nm']\n",
    "\n",
    "#Splitting dataset\n",
    "\n",
    "X = df[input_col]\n",
    "\n",
    "Y_d = df[diameter]\n",
    "Y_e = df[emission]\n",
    "Y_a = df[absorbance]\n",
    "\n",
    "\n",
    "X_train_d, X_test_d, Y_train_d, Y_test_d = train_test_split(X, Y_d, test_size=0.15, random_state=45, shuffle=True)\n",
    "X_train_e, X_test_e, Y_train_e, Y_test_e = train_test_split(X, Y_e, test_size=0.15, random_state=45, shuffle=True)\n",
    "X_train_a, X_test_a, Y_train_a, Y_test_a = train_test_split(X, Y_a, test_size=0.15, random_state=45, shuffle=True)"
   ]
  },
  {
   "cell_type": "markdown",
   "metadata": {},
   "source": [
    "## D - Optimizing diameter model\n"
   ]
  },
  {
   "cell_type": "markdown",
   "metadata": {},
   "source": [
    "### 1D. Extra Trees"
   ]
  },
  {
   "cell_type": "code",
   "execution_count": 4,
   "metadata": {
    "scrolled": true
   },
   "outputs": [
    {
     "name": "stderr",
     "output_type": "stream",
     "text": [
      "100%|██████████| 24/24 [10:45<00:00, 26.89s/it]"
     ]
    },
    {
     "name": "stdout",
     "output_type": "stream",
     "text": [
      "0.3335200892857143 1 7 27\n"
     ]
    },
    {
     "name": "stderr",
     "output_type": "stream",
     "text": [
      "\n"
     ]
    }
   ],
   "source": [
    "# This is a grid search for three parameters in the Extra Trees algorithm. \n",
    "# Parameters are: random_state, n_estimators, max_features.\n",
    "\n",
    "# This gives the best combination of the three parameters for the smallest mean squared error.\n",
    "\n",
    "min_mae = 99999\n",
    "min_i, min_j, min_k = 0, 0, 0\n",
    "for i in tqdm(range(1, 25)):\n",
    "    for j in range(1, 25):\n",
    "        for k in range(2, 50, 1):\n",
    "            ET_regr = ExtraTreesRegressor(n_estimators=i, \n",
    "                                            max_features=j,\n",
    "                                            random_state=k)\n",
    "            \n",
    "            ET_regr.fit(X_train_d, np.ravel(Y_train_d))\n",
    "            ET_Y_pred_d = pd.DataFrame(ET_regr.predict(X_test_d))\n",
    "\n",
    "            mae = mean_absolute_error(Y_test_d, ET_Y_pred_d)\n",
    "            if (min_mae > mae):\n",
    "                min_mae = mae\n",
    "                min_i = i\n",
    "                min_j = j\n",
    "                min_k = k\n",
    "            \n",
    "print(min_mae, min_i, min_j, min_k)"
   ]
  },
  {
   "cell_type": "code",
   "execution_count": 5,
   "metadata": {},
   "outputs": [
    {
     "name": "stdout",
     "output_type": "stream",
     "text": [
      "0.4530356947047671\n"
     ]
    }
   ],
   "source": [
    "ET_regr = ExtraTreesRegressor(n_estimators=1, \n",
    "                                            max_features=7,\n",
    "                                            random_state=27)\n",
    "            \n",
    "ET_regr.fit(X_train_d, np.ravel(Y_train_d))\n",
    "ET_Y_pred_d = pd.DataFrame(ET_regr.predict(X_test_d))\n",
    "r2 = r2_score(Y_test_d, ET_Y_pred_d)\n",
    "print(r2)"
   ]
  },
  {
   "cell_type": "markdown",
   "metadata": {},
   "source": [
    "### 2D. Decision Tree "
   ]
  },
  {
   "cell_type": "code",
   "execution_count": 5,
   "metadata": {
    "scrolled": true
   },
   "outputs": [
    {
     "name": "stderr",
     "output_type": "stream",
     "text": [
      "100%|██████████| 29/29 [04:49<00:00,  9.97s/it]"
     ]
    },
    {
     "name": "stdout",
     "output_type": "stream",
     "text": [
      "0.3442366071428571 17 3 27\n"
     ]
    },
    {
     "name": "stderr",
     "output_type": "stream",
     "text": [
      "\n"
     ]
    }
   ],
   "source": [
    "# This is a grid search for three parameters in the Decision Trees algorithm. \n",
    "# Parameters are: max_depth, max_features, random_state.\n",
    "# This gives the best combination of the three parameters for the smallest mean squared error.\n",
    "\n",
    "min_mae = 99999\n",
    "\n",
    "min_i, min_j, min_k  = 0, 0, 0\n",
    "\n",
    "for i in tqdm(range(1, 30)):\n",
    "    for j in range(1, 30):\n",
    "        for k in range(4, 44, 1):\n",
    "            \n",
    "            DT_regr = DecisionTreeRegressor(max_depth=i,\n",
    "                                max_features=j,\n",
    "                                random_state=k)\n",
    "            \n",
    "            DT_regr.fit(X_train_d, np.ravel(Y_train_d))\n",
    "            DT_Y_pred_d = pd.DataFrame(DT_regr.predict(X_test_d))\n",
    "\n",
    "            mae = mean_absolute_error(Y_test_d, DT_Y_pred_d)\n",
    "            \n",
    "            if (min_mae > mae):\n",
    "                min_mae = mae\n",
    "                min_i = i\n",
    "                min_j = j\n",
    "                min_k = k\n",
    "            \n",
    "print(min_mae, min_i, min_j, min_k)"
   ]
  },
  {
   "cell_type": "code",
   "execution_count": 7,
   "metadata": {},
   "outputs": [
    {
     "name": "stdout",
     "output_type": "stream",
     "text": [
      "0.4105864730383968\n"
     ]
    }
   ],
   "source": [
    "DT_regr = DecisionTreeRegressor(max_depth=17,\n",
    "                                max_features=3,\n",
    "                                random_state=27)\n",
    "            \n",
    "DT_regr.fit(X_train_d, np.ravel(Y_train_d))\n",
    "DT_Y_pred_d = pd.DataFrame(DT_regr.predict(X_test_d))\n",
    "r2 = r2_score(Y_test_d, DT_Y_pred_d)\n",
    "print(r2)"
   ]
  },
  {
   "cell_type": "markdown",
   "metadata": {},
   "source": [
    "### 3D. Random Forest"
   ]
  },
  {
   "cell_type": "code",
   "execution_count": 7,
   "metadata": {},
   "outputs": [
    {
     "name": "stderr",
     "output_type": "stream",
     "text": [
      "100%|██████████| 26/26 [15:17<00:00, 35.29s/it]"
     ]
    },
    {
     "name": "stdout",
     "output_type": "stream",
     "text": [
      "0.35396037946428577 17 2 12\n"
     ]
    },
    {
     "name": "stderr",
     "output_type": "stream",
     "text": [
      "\n"
     ]
    }
   ],
   "source": [
    "# This is a grid search for three parameters in the Random Forest algorithm. \n",
    "# Parameters are: max_depth, n_estimators, max_features.\n",
    "# Random_state is set to 45.\n",
    "# This gives the best combination of the three parameters for the smallest mean squared error.\n",
    "\n",
    "min_mae = 99999\n",
    "min_i, min_j, min_k = 0, 0, 0\n",
    "for i in tqdm(range(1, 27)):\n",
    "    for j in range(1, 27):\n",
    "        for k in range(2, 46, 1):\n",
    "            RF_regr = RandomForestRegressor(max_depth=i, \n",
    "                                            n_estimators=j, \n",
    "                                            max_features=k,\n",
    "                                            random_state=45)\n",
    "            RF_regr.fit(X_train_d, np.ravel(Y_train_d))\n",
    "            RF_Y_pred_d = pd.DataFrame(RF_regr.predict(X_test_d))\n",
    "\n",
    "            mae = mean_absolute_error(Y_test_d, RF_Y_pred_d)\n",
    "            if (min_mae > mae):\n",
    "                min_mae = mae\n",
    "                min_i = i\n",
    "                min_j = j\n",
    "                min_k = k\n",
    "            \n",
    "print(min_mae, min_i, min_j, min_k)"
   ]
  },
  {
   "cell_type": "code",
   "execution_count": 8,
   "metadata": {},
   "outputs": [
    {
     "name": "stdout",
     "output_type": "stream",
     "text": [
      "0.4115163926131241\n"
     ]
    }
   ],
   "source": [
    "RF_regr = RandomForestRegressor(max_depth=17, \n",
    "                                            n_estimators=2, \n",
    "                                            max_features=12,\n",
    "                                            random_state=45)\n",
    "RF_regr.fit(X_train_d, np.ravel(Y_train_d))\n",
    "RF_Y_pred_d = pd.DataFrame(RF_regr.predict(X_test_d))\n",
    "r2 = r2_score(Y_test_d, RF_Y_pred_d)\n",
    "print(r2)"
   ]
  },
  {
   "cell_type": "markdown",
   "metadata": {},
   "source": [
    "### 4D. K Neighbors"
   ]
  },
  {
   "cell_type": "code",
   "execution_count": 8,
   "metadata": {},
   "outputs": [
    {
     "name": "stderr",
     "output_type": "stream",
     "text": [
      "100%|██████████| 39/39 [00:26<00:00,  1.47it/s]"
     ]
    },
    {
     "name": "stdout",
     "output_type": "stream",
     "text": [
      "0.4790870535714285 1 3\n"
     ]
    },
    {
     "name": "stderr",
     "output_type": "stream",
     "text": [
      "\n"
     ]
    }
   ],
   "source": [
    "min_mae = 99999\n",
    "min_i, min_j = 0, 0\n",
    "\n",
    "for i in tqdm(range(1, 40)):\n",
    "    for j in range(1, 40):\n",
    "\n",
    "        KNN_reg_d = KNeighborsRegressor(n_neighbors=i, \n",
    "                                      p=j).fit(X_train_d, np.ravel(Y_train_d))\n",
    "\n",
    "        KNN_Y_pred_d = KNN_reg_d.predict(X_test_d)\n",
    "\n",
    "        mae = mean_absolute_error(Y_test_d, KNN_Y_pred_d)\n",
    "\n",
    "        if (min_mae > mae):\n",
    "            min_mae = mae\n",
    "            min_i = i\n",
    "            min_j = j\n",
    "\n",
    "print(min_mae, min_i, min_j)"
   ]
  },
  {
   "cell_type": "code",
   "execution_count": 11,
   "metadata": {
    "scrolled": true
   },
   "outputs": [
    {
     "name": "stdout",
     "output_type": "stream",
     "text": [
      "-0.1052870523241809\n"
     ]
    }
   ],
   "source": [
    "KNN_reg_d = KNeighborsRegressor(n_neighbors=1, \n",
    "                                      p=3).fit(X_train_d, np.ravel(Y_train_d))\n",
    "\n",
    "KNN_Y_pred_d = KNN_reg_d.predict(X_test_d)\n",
    "\n",
    "r2 = r2_score(Y_test_d, KNN_Y_pred_d)\n",
    "print(r2)"
   ]
  },
  {
   "cell_type": "code",
   "execution_count": 12,
   "metadata": {},
   "outputs": [
    {
     "name": "stdout",
     "output_type": "stream",
     "text": [
      "Mean absolute error = 0.463 R2=  0.07110852268950285\n"
     ]
    }
   ],
   "source": [
    "GB_regr = GradientBoostingRegressor(n_estimators=380, max_depth=4, learning_rate=0.18, random_state=6)\n",
    "\n",
    "            \n",
    "GB_regr.fit(X_train_d, np.ravel(Y_train_d))\n",
    "            \n",
    "GB_Y_pred_d = GB_regr.predict(X_test_d)\n",
    "            \n",
    "GB_mae = mean_absolute_error(Y_test_d, GB_Y_pred_d)\n",
    "\n",
    "r2=r2_score(Y_test_d, GB_Y_pred_d)\n",
    "print(\"Mean absolute error =\", round(GB_mae,3), \"R2= \" , r2)"
   ]
  },
  {
   "cell_type": "code",
   "execution_count": 13,
   "metadata": {},
   "outputs": [
    {
     "name": "stdout",
     "output_type": "stream",
     "text": [
      "Mean absolute error = 0.493 r2 =  0.08584723692002938\n"
     ]
    }
   ],
   "source": [
    "B_regr = BaggingRegressor(base_estimator=DecisionTreeRegressor(max_depth=16),\n",
    "                                      n_estimators=6,\n",
    "                                      random_state=50)\n",
    "B_regr.fit(X_train_d, np.ravel(Y_train_d))\n",
    "\n",
    "B_Y_pred = B_regr.predict(X_test_d)\n",
    "           \n",
    "B_mae = mean_absolute_error(Y_test_d, B_Y_pred)\n",
    "r2 = r2_score(Y_test_d, B_Y_pred)\n",
    "           \n",
    "print(\"Mean absolute error =\", round(B_mae,3), \"r2 = \", r2)"
   ]
  },
  {
   "cell_type": "markdown",
   "metadata": {},
   "source": [
    "### Saving Decision Tree model"
   ]
  },
  {
   "cell_type": "code",
   "execution_count": 18,
   "metadata": {},
   "outputs": [
    {
     "data": {
      "text/plain": [
       "['./model_SO_diameter_ExtraTrees.joblib']"
      ]
     },
     "execution_count": 18,
     "metadata": {},
     "output_type": "execute_result"
    }
   ],
   "source": [
    "ET_regr_d = ExtraTreesRegressor(n_estimators=1, \n",
    "                                            max_features=7,\n",
    "                                            random_state=27)\n",
    "ET_regr_d.fit(X_train_d, np.ravel(Y_train_d))\n",
    "ET_Y_pred_d = pd.DataFrame(ET_regr.predict(X_test_d))\n",
    "joblib.dump(ET_regr_d, \"./model_SO_diameter_ExtraTrees.joblib\")"
   ]
  },
  {
   "cell_type": "markdown",
   "metadata": {},
   "source": [
    "## E - Optimizing emission model\n"
   ]
  },
  {
   "cell_type": "markdown",
   "metadata": {},
   "source": [
    "### 1E. Extra Trees"
   ]
  },
  {
   "cell_type": "code",
   "execution_count": 9,
   "metadata": {},
   "outputs": [
    {
     "name": "stderr",
     "output_type": "stream",
     "text": [
      "100%|██████████| 24/24 [10:56<00:00, 27.34s/it]"
     ]
    },
    {
     "name": "stdout",
     "output_type": "stream",
     "text": [
      "12.973958334374998 2 10 26\n"
     ]
    },
    {
     "name": "stderr",
     "output_type": "stream",
     "text": [
      "\n"
     ]
    }
   ],
   "source": [
    "# This is a grid search for three parameters in the Extra Trees algorithm. \n",
    "# Parameters are: random_state, n_estimators, max_features.\n",
    "\n",
    "# This gives the best combination of the three parameters for the smallest mean squared error.\n",
    "\n",
    "min_mae = 99999\n",
    "min_i, min_j, min_k = 0, 0, 0\n",
    "for i in tqdm(range(1, 25)):\n",
    "    for j in range(1, 25):\n",
    "        for k in range(2, 50, 1):\n",
    "            ET_regr_e = ExtraTreesRegressor(n_estimators=i, \n",
    "                                            max_features=j,\n",
    "                                            random_state=k)\n",
    "            \n",
    "            ET_regr_e.fit(X_train_e, np.ravel(Y_train_e))\n",
    "            ET_Y_pred_e = pd.DataFrame(ET_regr_e.predict(X_test_e))\n",
    "\n",
    "            mae = mean_absolute_error(Y_test_e, ET_Y_pred_e)\n",
    "            if (min_mae > mae):\n",
    "                min_mae = mae\n",
    "                min_i = i\n",
    "                min_j = j\n",
    "                min_k = k\n",
    "            \n",
    "print(min_mae, min_i, min_j, min_k)"
   ]
  },
  {
   "cell_type": "code",
   "execution_count": 14,
   "metadata": {},
   "outputs": [
    {
     "name": "stdout",
     "output_type": "stream",
     "text": [
      "0.7314669645317229\n"
     ]
    }
   ],
   "source": [
    "ET_regr_e = ExtraTreesRegressor(n_estimators=2, \n",
    "                                            max_features=10,\n",
    "                                            random_state=26)\n",
    "            \n",
    "ET_regr_e.fit(X_train_e, np.ravel(Y_train_e))\n",
    "ET_Y_pred_e = pd.DataFrame(ET_regr_e.predict(X_test_e))\n",
    "\n",
    "r2 = r2_score(Y_test_e, ET_Y_pred_e)\n",
    "print(r2)"
   ]
  },
  {
   "cell_type": "markdown",
   "metadata": {},
   "source": [
    "### 2E. Decision Trees"
   ]
  },
  {
   "cell_type": "code",
   "execution_count": 10,
   "metadata": {},
   "outputs": [
    {
     "name": "stderr",
     "output_type": "stream",
     "text": [
      "100%|██████████| 29/29 [04:01<00:00,  8.34s/it]"
     ]
    },
    {
     "name": "stdout",
     "output_type": "stream",
     "text": [
      "12.83767361666666 21 22 54\n"
     ]
    },
    {
     "name": "stderr",
     "output_type": "stream",
     "text": [
      "\n"
     ]
    }
   ],
   "source": [
    "# This is a grid search for three parameters in the Decision Trees algorithm. \n",
    "\n",
    "# This gives the best combination of the three parameters for the smallest mean squared error.\n",
    "\n",
    "min_mae = 99999\n",
    "\n",
    "min_i, min_j, min_k  = 0, 0, 0\n",
    "\n",
    "for i in tqdm(range(1, 30)):\n",
    "    for j in range(1, 30):\n",
    "        for k in range(4, 80, 2):\n",
    "            \n",
    "            DT_regr_e = DecisionTreeRegressor(max_depth=i,\n",
    "                                max_features=j,\n",
    "                                random_state=k)\n",
    "            \n",
    "            DT_regr_e.fit(X_train_e, np.ravel(Y_train_e))\n",
    "            DT_Y_pred_e = pd.DataFrame(DT_regr_e.predict(X_test_e))\n",
    "\n",
    "            mae = mean_absolute_error(Y_test_e, DT_Y_pred_e)\n",
    "            \n",
    "            if (min_mae > mae):\n",
    "                min_mae = mae\n",
    "                min_i = i\n",
    "                min_j = j\n",
    "                min_k = k\n",
    "            \n",
    "print(min_mae, min_i, min_j, min_k)"
   ]
  },
  {
   "cell_type": "code",
   "execution_count": 16,
   "metadata": {},
   "outputs": [
    {
     "name": "stdout",
     "output_type": "stream",
     "text": [
      "0.7606000290207602\n"
     ]
    }
   ],
   "source": [
    "DT_regr_e = DecisionTreeRegressor(max_depth=21,\n",
    "                                max_features=22,\n",
    "                                random_state=54)\n",
    "            \n",
    "DT_regr_e.fit(X_train_e, np.ravel(Y_train_e))\n",
    "DT_Y_pred_e = pd.DataFrame(DT_regr_e.predict(X_test_e))\n",
    "\n",
    "r2 = r2_score(Y_test_e, DT_Y_pred_e)\n",
    "print(r2)"
   ]
  },
  {
   "cell_type": "markdown",
   "metadata": {},
   "source": [
    "### 3E. Random Forest"
   ]
  },
  {
   "cell_type": "code",
   "execution_count": 11,
   "metadata": {},
   "outputs": [
    {
     "name": "stderr",
     "output_type": "stream",
     "text": [
      "100%|██████████| 25/25 [12:47<00:00, 30.70s/it]"
     ]
    },
    {
     "name": "stdout",
     "output_type": "stream",
     "text": [
      "14.276475698177087 16 2 44\n"
     ]
    },
    {
     "name": "stderr",
     "output_type": "stream",
     "text": [
      "\n"
     ]
    }
   ],
   "source": [
    "min_mae = 99999\n",
    "min_i, min_j, min_k = 0, 0, 0\n",
    "for i in tqdm(range(1, 26)):\n",
    "    for j in range(1, 26):\n",
    "        for k in range(2, 46, 1):\n",
    "            RF_regr_e = RandomForestRegressor(max_depth=i, \n",
    "                                            n_estimators=j, \n",
    "                                            max_features=k,\n",
    "                                            random_state=45)\n",
    "            RF_regr_e.fit(X_train_e, np.ravel(Y_train_e))\n",
    "            RF_Y_pred_e = pd.DataFrame(RF_regr_e.predict(X_test_e))\n",
    "\n",
    "            mae = mean_absolute_error(Y_test_e, RF_Y_pred_e)\n",
    "            if (min_mae > mae):\n",
    "                min_mae = mae\n",
    "                min_i = i\n",
    "                min_j = j\n",
    "                min_k = k\n",
    "            \n",
    "print(min_mae, min_i, min_j, min_k)"
   ]
  },
  {
   "cell_type": "code",
   "execution_count": 17,
   "metadata": {},
   "outputs": [
    {
     "name": "stdout",
     "output_type": "stream",
     "text": [
      "0.7403715946157541\n"
     ]
    }
   ],
   "source": [
    "RF_regr_e = RandomForestRegressor(max_depth=16, \n",
    "                                            n_estimators=2, \n",
    "                                            max_features=44,\n",
    "                                            random_state=45)\n",
    "RF_regr_e.fit(X_train_e, np.ravel(Y_train_e))\n",
    "RF_Y_pred_e = pd.DataFrame(RF_regr_e.predict(X_test_e))\n",
    "\n",
    "r2 = r2_score(Y_test_e, RF_Y_pred_e)\n",
    "\n",
    "print(r2)"
   ]
  },
  {
   "cell_type": "markdown",
   "metadata": {},
   "source": [
    "### 4E. K Neighbors"
   ]
  },
  {
   "cell_type": "code",
   "execution_count": 12,
   "metadata": {
    "scrolled": true
   },
   "outputs": [
    {
     "name": "stderr",
     "output_type": "stream",
     "text": [
      "100%|██████████| 39/39 [00:26<00:00,  1.46it/s]"
     ]
    },
    {
     "name": "stdout",
     "output_type": "stream",
     "text": [
      "14.78125 1 1\n"
     ]
    },
    {
     "name": "stderr",
     "output_type": "stream",
     "text": [
      "\n"
     ]
    }
   ],
   "source": [
    "min_mae = 99999\n",
    "min_i, min_j = 0, 0\n",
    "\n",
    "for i in tqdm(range(1, 40)):\n",
    "    for j in range(1, 40):\n",
    "\n",
    "        KNN_reg_e = KNeighborsRegressor(n_neighbors=i, \n",
    "                                      p=j).fit(X_train_e, np.ravel(Y_train_e))\n",
    "\n",
    "        KNN_Y_pred_e = KNN_reg_e.predict(X_test_e)\n",
    "\n",
    "        mae = mean_absolute_error(Y_test_e, KNN_Y_pred_e)\n",
    "\n",
    "        if (min_mae > mae):\n",
    "            min_mae = mae\n",
    "            min_i = i\n",
    "            min_j = j\n",
    "\n",
    "print(min_mae, min_i, min_j)"
   ]
  },
  {
   "cell_type": "code",
   "execution_count": 18,
   "metadata": {},
   "outputs": [
    {
     "name": "stdout",
     "output_type": "stream",
     "text": [
      "0.7141332238613352\n"
     ]
    }
   ],
   "source": [
    "KNN_reg_e = KNeighborsRegressor(n_neighbors=1, \n",
    "                                      p=1).fit(X_train_e, np.ravel(Y_train_e))\n",
    "\n",
    "KNN_Y_pred_e = KNN_reg_e.predict(X_test_e)\n",
    "\n",
    "r2 = r2_score(Y_test_e, KNN_Y_pred_e)\n",
    "print(r2)"
   ]
  },
  {
   "cell_type": "code",
   "execution_count": 19,
   "metadata": {},
   "outputs": [
    {
     "name": "stdout",
     "output_type": "stream",
     "text": [
      "Mean absolute error = 21.612 r2 =  0.5110048286197383\n"
     ]
    }
   ],
   "source": [
    "B_regr = BaggingRegressor(base_estimator=DecisionTreeRegressor(max_depth=16),\n",
    "                                      n_estimators=6,\n",
    "                                      random_state=50)\n",
    "B_regr.fit(X_train_e, np.ravel(Y_train_e))\n",
    "\n",
    "B_Y_pred_e = B_regr.predict(X_test_e)\n",
    "           \n",
    "B_mae = mean_absolute_error(Y_test_e, B_Y_pred_e)\n",
    "r2 = r2_score(Y_test_e, B_Y_pred_e)\n",
    "           \n",
    "print(\"Mean absolute error =\", round(B_mae,3), \"r2 = \", r2)"
   ]
  },
  {
   "cell_type": "code",
   "execution_count": 20,
   "metadata": {},
   "outputs": [
    {
     "name": "stdout",
     "output_type": "stream",
     "text": [
      "Mean absolute error = 18.683 R2=  0.5917802437451412\n"
     ]
    }
   ],
   "source": [
    "GB_regr = GradientBoostingRegressor(n_estimators=380, max_depth=4, learning_rate=0.18, random_state=6)\n",
    "\n",
    "            \n",
    "GB_regr.fit(X_train_e, np.ravel(Y_train_e))\n",
    "            \n",
    "GB_Y_pred_e = GB_regr.predict(X_test_e)\n",
    "            \n",
    "GB_mae = mean_absolute_error(Y_test_e, GB_Y_pred_e)\n",
    "\n",
    "r2=r2_score(Y_test_e, GB_Y_pred_e)\n",
    "print(\"Mean absolute error =\", round(GB_mae,3), \"R2= \" , r2)"
   ]
  },
  {
   "cell_type": "markdown",
   "metadata": {},
   "source": [
    "### Saving Extra Trees model"
   ]
  },
  {
   "cell_type": "code",
   "execution_count": 39,
   "metadata": {},
   "outputs": [
    {
     "data": {
      "text/plain": [
       "['./model_SO_emission_DecisionTree.joblib']"
      ]
     },
     "execution_count": 39,
     "metadata": {},
     "output_type": "execute_result"
    }
   ],
   "source": [
    "DT_regr_e = DecisionTreeRegressor(max_depth=21,\n",
    "                                max_features=22,\n",
    "                                random_state=54)\n",
    "DT_regr_e.fit(X_train_e, np.ravel(Y_train_e))\n",
    "DT_Y_pred_e = pd.DataFrame(DT_regr_e.predict(X_test_e))\n",
    "\n",
    "joblib.dump(DT_regr_e, \"./model_SO_emission_DecisionTree.joblib\")"
   ]
  },
  {
   "cell_type": "markdown",
   "metadata": {},
   "source": [
    "## A - Optimizing absorption model\n"
   ]
  },
  {
   "cell_type": "markdown",
   "metadata": {},
   "source": [
    "### 1A: Extra Trees"
   ]
  },
  {
   "cell_type": "code",
   "execution_count": 13,
   "metadata": {},
   "outputs": [
    {
     "name": "stderr",
     "output_type": "stream",
     "text": [
      "100%|██████████| 29/29 [14:39<00:00, 30.34s/it]"
     ]
    },
    {
     "name": "stdout",
     "output_type": "stream",
     "text": [
      "17.24776785714286 7 19 38\n"
     ]
    },
    {
     "name": "stderr",
     "output_type": "stream",
     "text": [
      "\n"
     ]
    }
   ],
   "source": [
    "# This is a grid search for three parameters in the Extra Trees algorithm. \n",
    "# Parameters are: random_state, n_estimators, max_features.\n",
    "\n",
    "# This gives the best combination of the three parameters for the smallest mean squared error.\n",
    "\n",
    "min_mae = 99999\n",
    "min_i, min_j, min_k = 0, 0, 0\n",
    "for i in tqdm(range(1, 30)):\n",
    "    for j in range(1, 30):\n",
    "        for k in range(2, 50, 1):\n",
    "            ET_regr_a = ExtraTreesRegressor(n_estimators=i, \n",
    "                                            max_features=j,\n",
    "                                            random_state=k)\n",
    "            \n",
    "            ET_regr_a.fit(X_train_a, np.ravel(Y_train_a))\n",
    "            ET_Y_pred_a = pd.DataFrame(ET_regr_a.predict(X_test_a))\n",
    "\n",
    "            mae = mean_absolute_error(Y_test_a, ET_Y_pred_a)\n",
    "            if (min_mae > mae):\n",
    "                min_mae = mae\n",
    "                min_i = i\n",
    "                min_j = j\n",
    "                min_k = k\n",
    "            \n",
    "print(min_mae, min_i, min_j, min_k)"
   ]
  },
  {
   "cell_type": "code",
   "execution_count": 21,
   "metadata": {},
   "outputs": [
    {
     "data": {
      "text/plain": [
       "0.4581834364236903"
      ]
     },
     "execution_count": 21,
     "metadata": {},
     "output_type": "execute_result"
    }
   ],
   "source": [
    "ET_regr_a = ExtraTreesRegressor(n_estimators=2, \n",
    "                                            max_features=25,\n",
    "                                            random_state=11)\n",
    "            \n",
    "ET_regr_a.fit(X_train_a, np.ravel(Y_train_a))\n",
    "ET_Y_pred_a = pd.DataFrame(ET_regr_a.predict(X_test_a))\n",
    "\n",
    "r2 = r2_score(Y_test_a, ET_Y_pred_a)\n",
    "r2"
   ]
  },
  {
   "cell_type": "markdown",
   "metadata": {},
   "source": [
    "### 2A. Decision Trees\n"
   ]
  },
  {
   "cell_type": "code",
   "execution_count": 14,
   "metadata": {},
   "outputs": [
    {
     "name": "stderr",
     "output_type": "stream",
     "text": [
      "100%|██████████| 29/29 [03:09<00:00,  6.52s/it]"
     ]
    },
    {
     "name": "stdout",
     "output_type": "stream",
     "text": [
      "20.064930555555556 15 18 32\n"
     ]
    },
    {
     "name": "stderr",
     "output_type": "stream",
     "text": [
      "\n"
     ]
    }
   ],
   "source": [
    "# This is a grid search for three parameters in the Decision Trees algorithm. \n",
    "\n",
    "# This gives the best combination of the three parameters for the smallest mean squared error.\n",
    "\n",
    "min_mae = 99999\n",
    "\n",
    "min_i, min_j, min_k  = 0, 0, 0\n",
    "\n",
    "for i in tqdm(range(1, 30)):\n",
    "    for j in range(1, 30):\n",
    "        for k in range(4, 58, 2):\n",
    "            \n",
    "            DT_regr_a = DecisionTreeRegressor(max_depth=i,\n",
    "                                max_features=j,\n",
    "                                random_state=k)\n",
    "            \n",
    "            DT_regr_a.fit(X_train_a, np.ravel(Y_train_a))\n",
    "            DT_Y_pred_a = pd.DataFrame(DT_regr_a.predict(X_test_a))\n",
    "\n",
    "            mae = mean_absolute_error(Y_test_a, DT_Y_pred_a)\n",
    "            \n",
    "            if (min_mae > mae):\n",
    "                min_mae = mae\n",
    "                min_i = i\n",
    "                min_j = j\n",
    "                min_k = k\n",
    "            \n",
    "print(min_mae, min_i, min_j, min_k)"
   ]
  },
  {
   "cell_type": "code",
   "execution_count": 22,
   "metadata": {},
   "outputs": [
    {
     "name": "stdout",
     "output_type": "stream",
     "text": [
      "diameter: r2: 0.5802365745049984 ; MSE: 1114.3458198645524 ; RMSE: 33.38181870217009 ; MAE: 20.064930555555556\n"
     ]
    }
   ],
   "source": [
    "DT_regr_a = DecisionTreeRegressor(max_depth=15,\n",
    "                                max_features=18,\n",
    "                                random_state=32).fit(X_train_a, np.ravel(Y_train_a))\n",
    "                  \n",
    "DT_Y_pred_a = DT_regr_a.predict(X_test_a)\n",
    "\n",
    "\n",
    "DT_r2_a = r2_score(Y_test_a, DT_Y_pred_a)\n",
    "DT_MSE_a = mean_squared_error(Y_test_a, DT_Y_pred_a)\n",
    "DT_RMSE_a = mean_squared_error(Y_test_a, DT_Y_pred_a, squared=False)\n",
    "DT_MAE_a = mean_absolute_error(Y_test_a, DT_Y_pred_a)\n",
    "print('diameter:', 'r2:', DT_r2_a, '; MSE:', DT_MSE_a, '; RMSE:', DT_RMSE_a, '; MAE:', DT_MAE_a)"
   ]
  },
  {
   "cell_type": "markdown",
   "metadata": {},
   "source": [
    "### 3A. Random Forest"
   ]
  },
  {
   "cell_type": "code",
   "execution_count": 15,
   "metadata": {},
   "outputs": [
    {
     "name": "stderr",
     "output_type": "stream",
     "text": [
      "100%|██████████| 25/25 [17:08<00:00, 41.15s/it]"
     ]
    },
    {
     "name": "stdout",
     "output_type": "stream",
     "text": [
      "20.58333333333333 18 3 40\n"
     ]
    },
    {
     "name": "stderr",
     "output_type": "stream",
     "text": [
      "\n"
     ]
    }
   ],
   "source": [
    "min_mae = 99999\n",
    "min_i, min_j, min_k = 0, 0, 0\n",
    "for i in tqdm(range(1, 26)):\n",
    "    for j in range(1, 26):\n",
    "        for k in range(2, 46, 1):\n",
    "            RF_regr_a = RandomForestRegressor(max_depth=i, \n",
    "                                            n_estimators=j, \n",
    "                                            max_features=k,\n",
    "                                            random_state=45)\n",
    "            RF_regr_a.fit(X_train_a, np.ravel(Y_train_a))\n",
    "            RF_Y_pred_a = pd.DataFrame(RF_regr_a.predict(X_test_a))\n",
    "\n",
    "            mae = mean_absolute_error(Y_test_a, RF_Y_pred_a)\n",
    "            if (min_mae > mae):\n",
    "                min_mae = mae\n",
    "                min_i = i\n",
    "                min_j = j\n",
    "                min_k = k\n",
    "            \n",
    "print(min_mae, min_i, min_j, min_k)"
   ]
  },
  {
   "cell_type": "code",
   "execution_count": 24,
   "metadata": {},
   "outputs": [
    {
     "data": {
      "text/plain": [
       "0.6062845830883223"
      ]
     },
     "execution_count": 24,
     "metadata": {},
     "output_type": "execute_result"
    }
   ],
   "source": [
    "RF_regr_a = RandomForestRegressor(max_depth=18, \n",
    "                                            n_estimators=3, \n",
    "                                            max_features=40,\n",
    "                                            random_state=45)\n",
    "RF_regr_a.fit(X_train_a, np.ravel(Y_train_a))\n",
    "RF_Y_pred_a = pd.DataFrame(RF_regr_a.predict(X_test_a))\n",
    "\n",
    "r2 = r2_score(Y_test_a, RF_Y_pred_a)\n",
    "r2"
   ]
  },
  {
   "cell_type": "code",
   "execution_count": null,
   "metadata": {},
   "outputs": [],
   "source": []
  },
  {
   "cell_type": "markdown",
   "metadata": {},
   "source": [
    "### 4A. K Neighbors"
   ]
  },
  {
   "cell_type": "code",
   "execution_count": 16,
   "metadata": {
    "scrolled": true
   },
   "outputs": [
    {
     "name": "stderr",
     "output_type": "stream",
     "text": [
      "100%|██████████| 39/39 [00:29<00:00,  1.33it/s]"
     ]
    },
    {
     "name": "stdout",
     "output_type": "stream",
     "text": [
      "23.84375 1 1\n"
     ]
    },
    {
     "name": "stderr",
     "output_type": "stream",
     "text": [
      "\n"
     ]
    }
   ],
   "source": [
    "min_mae = 99999\n",
    "min_i, min_j = 0, 0\n",
    "\n",
    "for i in tqdm(range(1, 40)):\n",
    "    for j in range(1, 40):\n",
    "\n",
    "        KNN_reg_a = KNeighborsRegressor(n_neighbors=i, \n",
    "                                      p=j).fit(X_train_a, np.ravel(Y_train_a))\n",
    "\n",
    "        KNN_Y_pred_a = KNN_reg_a.predict(X_test_a)\n",
    "\n",
    "        mae = mean_absolute_error(Y_test_a, KNN_Y_pred_a)\n",
    "\n",
    "        if (min_mae > mae):\n",
    "            min_mae = mae\n",
    "            min_i = i\n",
    "            min_j = j\n",
    "\n",
    "print(min_mae, min_i, min_j)"
   ]
  },
  {
   "cell_type": "code",
   "execution_count": 25,
   "metadata": {},
   "outputs": [
    {
     "data": {
      "text/plain": [
       "0.5470990584532756"
      ]
     },
     "execution_count": 25,
     "metadata": {},
     "output_type": "execute_result"
    }
   ],
   "source": [
    "KNN_reg_a = KNeighborsRegressor(n_neighbors=1, \n",
    "                                      p=1).fit(X_train_a, np.ravel(Y_train_a))\n",
    "\n",
    "KNN_Y_pred_a = KNN_reg_a.predict(X_test_a)\n",
    "\n",
    "r2 = r2_score(Y_test_a, KNN_Y_pred_a)\n",
    "r2"
   ]
  },
  {
   "cell_type": "code",
   "execution_count": 26,
   "metadata": {},
   "outputs": [
    {
     "name": "stdout",
     "output_type": "stream",
     "text": [
      "Mean absolute error = 20.657 R2=  0.6091372948529918\n"
     ]
    }
   ],
   "source": [
    "GB_regr = GradientBoostingRegressor(n_estimators=380, max_depth=4, learning_rate=0.18, random_state=6)\n",
    "\n",
    "            \n",
    "GB_regr.fit(X_train_e, np.ravel(Y_train_a))\n",
    "            \n",
    "GB_Y_pred_a = GB_regr.predict(X_test_a)\n",
    "            \n",
    "GB_mae = mean_absolute_error(Y_test_a, GB_Y_pred_a)\n",
    "\n",
    "r2=r2_score(Y_test_a, GB_Y_pred_a)\n",
    "print(\"Mean absolute error =\", round(GB_mae,3), \"R2= \" , r2)"
   ]
  },
  {
   "cell_type": "code",
   "execution_count": 27,
   "metadata": {},
   "outputs": [
    {
     "name": "stdout",
     "output_type": "stream",
     "text": [
      "Mean absolute error = 25.308 r2 =  0.49340443472914286\n"
     ]
    }
   ],
   "source": [
    "B_regr = BaggingRegressor(base_estimator=DecisionTreeRegressor(max_depth=22),\n",
    "                                      n_estimators=10,\n",
    "                                      random_state=20)\n",
    "B_regr.fit(X_train_a, np.ravel(Y_train_a))\n",
    "\n",
    "B_Y_pred_a = B_regr.predict(X_test_a)\n",
    "           \n",
    "B_mae = mean_absolute_error(Y_test_a, B_Y_pred_a)\n",
    "r2 = r2_score(Y_test_a, B_Y_pred_a)\n",
    "           \n",
    "print(\"Mean absolute error =\", round(B_mae,3), \"r2 = \", r2)"
   ]
  },
  {
   "cell_type": "markdown",
   "metadata": {},
   "source": [
    "### Saving model"
   ]
  },
  {
   "cell_type": "code",
   "execution_count": 40,
   "metadata": {},
   "outputs": [
    {
     "data": {
      "text/plain": [
       "['./model_SO_abs_DecisionTree.joblib']"
      ]
     },
     "execution_count": 40,
     "metadata": {},
     "output_type": "execute_result"
    }
   ],
   "source": [
    "ET_regr_a = ExtraTreesRegressor(n_estimators=7, \n",
    "                                max_features=19,\n",
    "                                random_state=38)\n",
    "ET_regr_a.fit(X_train_a, np.ravel(Y_train_a))\n",
    "ET_Y_pred_a = pd.DataFrame(ET_regr_a.predict(X_test_a))\n",
    "\n",
    "joblib.dump(ET_regr_a, \"./model_SO_abs_DecisionTree.joblib\")"
   ]
  },
  {
   "cell_type": "markdown",
   "metadata": {},
   "source": [
    "## Analyzing"
   ]
  },
  {
   "cell_type": "code",
   "execution_count": 41,
   "metadata": {
    "scrolled": true
   },
   "outputs": [
    {
     "name": "stdout",
     "output_type": "stream",
     "text": [
      "Outputs           R2    Mean absolute error    Mean squared error    Root mean squared error\n",
      "----------  --------  ---------------------  --------------------  -------------------------\n",
      "Diameter    0.453036                0.33352              0.246604                   0.496593\n",
      "Absorption  0.65499                17.2478             915.897                     30.2638\n",
      "Emission    0.7606                 12.8377             472.219                     21.7306\n"
     ]
    }
   ],
   "source": [
    "## Diameter\n",
    "\n",
    "ET_regr_d = ExtraTreesRegressor(n_estimators=1, \n",
    "                                            max_features=7,\n",
    "                                            random_state=27)\n",
    "ET_regr_d.fit(X_train_d, np.ravel(Y_train_d))\n",
    "ET_Y_pred_d = ET_regr.predict(X_test_d)\n",
    "\n",
    "D_mae = mean_absolute_error(Y_test_d, ET_Y_pred_d)\n",
    "D_r_2 = r2_score(Y_test_d, ET_Y_pred_d)\n",
    "D_mse = mean_squared_error(Y_test_d, ET_Y_pred_d)\n",
    "D_rmse = mean_squared_error(Y_test_d, ET_Y_pred_d, squared=False)\n",
    "\n",
    "## Emission\n",
    "DT_regr_e = DecisionTreeRegressor(max_depth=21,\n",
    "                                max_features=22,\n",
    "                                random_state=54)\n",
    "DT_regr_e.fit(X_train_e, np.ravel(Y_train_e))\n",
    "DT_Y_pred_e = DT_regr_e.predict(X_test_e)\n",
    "\n",
    "E_mae = mean_absolute_error(Y_test_e, DT_Y_pred_e)\n",
    "E_r_2 = r2_score(Y_test_e, DT_Y_pred_e)\n",
    "E_mse = mean_squared_error(Y_test_e, DT_Y_pred_e)\n",
    "E_rmse = mean_squared_error(Y_test_e, DT_Y_pred_e, squared=False)\n",
    "\n",
    "\n",
    "### Absorption\n",
    "\n",
    "ET_regr_a = ExtraTreesRegressor(n_estimators=7, \n",
    "                                max_features=19,\n",
    "                                random_state=38)\n",
    "ET_regr_a.fit(X_train_a, np.ravel(Y_train_a))\n",
    "ET_Y_pred_a = ET_regr_a.predict(X_test_a)\n",
    "\n",
    "A_mae = mean_absolute_error(Y_test_a, ET_Y_pred_a)\n",
    "A_r_2 = r2_score(Y_test_a, ET_Y_pred_a)\n",
    "A_mse = mean_squared_error(Y_test_a, ET_Y_pred_a)\n",
    "A_rmse = mean_squared_error(Y_test_a, ET_Y_pred_a, squared=False)\n",
    "\n",
    "\n",
    "from tabulate import tabulate\n",
    "\n",
    "d = [ [\"Diameter\", D_r_2, D_mae, D_mse, D_rmse],\n",
    "     [\"Absorption\", A_r_2, A_mae, A_mse, A_rmse],\n",
    "     [\"Emission\", E_r_2, E_mae, E_mse, E_rmse]]\n",
    "\n",
    "print(tabulate(d, headers=[\"Outputs\", \"R2\", \"Mean absolute error\", \"Mean squared error\", \"Root mean squared error\"]))"
   ]
  },
  {
   "cell_type": "code",
   "execution_count": 42,
   "metadata": {},
   "outputs": [
    {
     "data": {
      "image/png": "[encoded data removed]",
      "text/plain": [
       "<Figure size 1440x360 with 3 Axes>"
      ]
     },
     "metadata": {},
     "output_type": "display_data"
    }
   ],
   "source": [
    "fig, (ax1, ax2, ax3) = plt.subplots(1, 3, figsize=(20,5))\n",
    "fig.suptitle('Single Outputs', fontsize=25)\n",
    "\n",
    "ax1.plot(Y_test_d, ET_Y_pred_d,'o')\n",
    "ax1.plot([1,6.5],[1,6.5], color = 'r')\n",
    "ax1.set_title('Diameter')\n",
    "ax1.set(xlabel='Observed Values (nm)', ylabel='Predicted Values (nm)')\n",
    "\n",
    "ax2.plot(Y_test_a, ET_Y_pred_a,'o')\n",
    "ax2.plot([400,750],[400,750], color = 'r')\n",
    "ax2.set_title('Absorption')\n",
    "ax2.set(xlabel='Observed Values (nm)', ylabel='Predicted Values (nm)')\n",
    "\n",
    "ax3.plot(Y_test_e, DT_Y_pred_e,'o')\n",
    "ax3.plot([450,800],[450,800], color = 'r')\n",
    "ax3.set_title('Emission')\n",
    "ax3.set(xlabel='Observed Values (nm)', ylabel='Predicted Values (nm)')\n",
    "\n",
    "\n",
    "fig.tight_layout()"
   ]
  },
  {
   "cell_type": "markdown",
   "metadata": {},
   "source": [
    "## Feature importance"
   ]
  },
  {
   "cell_type": "markdown",
   "metadata": {},
   "source": [
    "### For diameter prediction"
   ]
  },
  {
   "cell_type": "code",
   "execution_count": 27,
   "metadata": {},
   "outputs": [
    {
     "data": {
      "text/plain": [
       "[('time_min', 0.31500062277847524),\n",
       " ('x7_zinc chloride', 0.11950649567451058),\n",
       " ('temp_c', 0.1118500324443521),\n",
       " ('x0_indium trifluoroacetate', 0.04679463909177305),\n",
       " ('in_amount_mmol', 0.035929734893865146),\n",
       " ('x3_trioctylphosphine', 0.035808521931827424),\n",
       " ('x7_zinc oleate', 0.03163483150667729),\n",
       " ('p_amount_mmol', 0.027968062953970235),\n",
       " ('x8_water', 0.026447841828442363),\n",
       " ('x7_zinc octanoate', 0.025237709277970873),\n",
       " ('TOP_amount_mmol', 0.024226802836829812),\n",
       " ('total_volume_ml', 0.023663021227667887),\n",
       " ('x0_chloroindium oxalate', 0.022219984064215104),\n",
       " ('x1_tris(dimethylamino)phosphine', 0.017150196446226805),\n",
       " ('x8_copper bromide', 0.016500239203986793),\n",
       " ('x2_octadecene', 0.0160388400689317),\n",
       " ('x7_None', 0.011570808781401818),\n",
       " ('x5_None', 0.011009064169240265),\n",
       " ('x0_indium chloride', 0.009353737601545675),\n",
       " ('sol_amount_ml', 0.008196906774017335),\n",
       " ('x8_None', 0.008056027653600655),\n",
       " ('x5_octylamine', 0.00793820074139937),\n",
       " ('amine_amount_mmol', 0.006491157604181191),\n",
       " ('x0_indium palmitate', 0.006244430529475978),\n",
       " ('x7_zinc bromide', 0.006057754052878534),\n",
       " ('x1_tris(diethylamino)phosphine', 0.006029183682873199),\n",
       " ('other_amount_mmol', 0.005966047399521015),\n",
       " ('x5_hexadecylamine', 0.004496576263359623),\n",
       " ('acid_amount_mmol', 0.003563917412767123),\n",
       " ('x8_superhydride', 0.0035329481462103933),\n",
       " ('zinc_amount_mmol', 0.0011123527416179863),\n",
       " ('x1_tris(trimethylgermyl)phosphine', 0.0009517082648565622),\n",
       " ('x7_zinc iodide', 0.0008513314848463267),\n",
       " ('x4_myristic acid', 0.0007646242162870958),\n",
       " ('x0_indium acetate', 0.00045569855814017745),\n",
       " ('x3_None', 0.00038355056510055877),\n",
       " ('x4_stearic acid', 0.00026060177687428485),\n",
       " ('x4_palmitic acid', 0.00017756571035521402),\n",
       " ('x0_indium bromide', 0.000126685604463257),\n",
       " ('x4_None', 7.000039467451748e-05),\n",
       " ('x5_dodecylamine', 5.726101659808674e-05),\n",
       " ('x4_oleic acid', 3.2331221972353515e-05),\n",
       " ('x4_lauric acid', 2.945291911405518e-05),\n",
       " ('x1_bis(trimethylsilyl)phosphine', 1.1024814728379828e-05),\n",
       " ('thiol_amount_mmol', 0.0),\n",
       " ('x0_indium iodide', 0.0),\n",
       " ('x0_indium myristate', 0.0),\n",
       " ('x0_indium oxalate', 0.0),\n",
       " ('x0_indium tris(N,N-diisopropylacetamidinato)', 0.0),\n",
       " ('x1_phosphine gas', 0.0),\n",
       " ('x1_phosphorus trichloride', 0.0),\n",
       " ('x1_sodium phosphide', 0.0),\n",
       " ('x1_tris(trimethylsilyl)phosphine', 0.0),\n",
       " ('x1_white phosphorus', 0.0),\n",
       " ('x2_4-ethylpyridine', 0.0),\n",
       " ('x2_None', 0.0),\n",
       " ('x2_dimethylformamide', 0.0),\n",
       " ('x2_mesitylene', 0.0),\n",
       " ('x2_toluene', 0.0),\n",
       " ('x5_dioctylamine', 0.0),\n",
       " ('x5_oleylamine', 0.0),\n",
       " ('x6_None', 0.0),\n",
       " ('x6_dodecanethiol', 0.0),\n",
       " ('x7_zinc acetate', 0.0),\n",
       " ('x7_zinc stearate', 0.0),\n",
       " ('x7_zinc undecylenate', 0.0),\n",
       " ('x8_acetic acid', 0.0),\n",
       " ('x8_oleic acid', 0.0),\n",
       " ('x8_tetrabutylammonium myristate', 0.0),\n",
       " ('x8_trioctylamine', 0.0),\n",
       " ('x8_trioctylphosphine oxide', 0.0)]"
      ]
     },
     "execution_count": 27,
     "metadata": {},
     "output_type": "execute_result"
    }
   ],
   "source": [
    "importance_dict_d = dict()\n",
    "for i in range(0,71):\n",
    "    importance_dict_d[input_col[i]] = ET_regr_d.feature_importances_[i]\n",
    "\n",
    "sorted_importance_d = sorted(importance_dict_d.items(), key=lambda x: x[1], reverse=True)\n",
    "\n",
    "sorted_importance_d\n"
   ]
  },
  {
   "cell_type": "code",
   "execution_count": 28,
   "metadata": {},
   "outputs": [
    {
     "data": {
      "image/png": "[encoded data removed]",
      "text/plain": [
       "<Figure size 1490.4x595.44 with 1 Axes>"
      ]
     },
     "metadata": {
      "needs_background": "light"
     },
     "output_type": "display_data"
    }
   ],
   "source": [
    "top7_d = DataFrame(sorted_importance_d[0:7], columns=['features', 'importance score'])\n",
    "\n",
    "others_d = DataFrame(sorted_importance_d[7:], columns=['features', 'importance score'])\n",
    "\n",
    "\n",
    "import seaborn as sns\n",
    "\n",
    "a4_dims = (20.7, 8.27)\n",
    "fig, ax = plt.subplots(figsize=a4_dims)\n",
    "sns.set_theme(style=\"whitegrid\")\n",
    "\n",
    "ax = sns.barplot(x=\"features\", y=\"importance score\", data=top7_d)"
   ]
  },
  {
   "cell_type": "markdown",
   "metadata": {},
   "source": [
    "### Emission prediction"
   ]
  },
  {
   "cell_type": "code",
   "execution_count": 29,
   "metadata": {},
   "outputs": [
    {
     "data": {
      "text/plain": [
       "[('TOP_amount_mmol', 0.2520238767239726),\n",
       " ('temp_c', 0.18629026176012012),\n",
       " ('time_min', 0.12027970355695149),\n",
       " ('zinc_amount_mmol', 0.09527353730033014),\n",
       " ('x4_None', 0.05462677652971297),\n",
       " ('x7_zinc chloride', 0.045160765660723995),\n",
       " ('other_amount_mmol', 0.033434097928717765),\n",
       " ('in_amount_mmol', 0.03302125746265394),\n",
       " ('amine_amount_mmol', 0.03253214160552061),\n",
       " ('total_volume_ml', 0.024935064058292447),\n",
       " ('sol_amount_ml', 0.01992867785750177),\n",
       " ('acid_amount_mmol', 0.01360344215146883),\n",
       " ('x5_hexadecylamine', 0.012264411836113653),\n",
       " ('x8_copper bromide', 0.011164389459216034),\n",
       " ('x7_zinc iodide', 0.010351517774204762),\n",
       " ('x0_indium acetate', 0.010347591893227927),\n",
       " ('x7_zinc bromide', 0.0067373258491038365),\n",
       " ('p_amount_mmol', 0.006326971480755663),\n",
       " ('x0_indium chloride', 0.005500057278760352),\n",
       " ('x0_indium myristate', 0.005366236537367086),\n",
       " ('x1_tris(trimethylgermyl)phosphine', 0.003609885553699363),\n",
       " ('x4_myristic acid', 0.0033588500560619936),\n",
       " ('x3_trioctylphosphine', 0.003353684637954731),\n",
       " ('x6_None', 0.0022561478901484576),\n",
       " ('x4_lauric acid', 0.0022105252090064195),\n",
       " ('x1_tris(diethylamino)phosphine', 0.0014758536535641356),\n",
       " ('x1_phosphine gas', 0.0013312583967814249),\n",
       " ('x2_octadecene', 0.0009619475840065453),\n",
       " ('x0_indium bromide', 0.0005013661964371574),\n",
       " ('x8_acetic acid', 0.00047474081918358796),\n",
       " ('x7_zinc undecylenate', 0.00046295697464385867),\n",
       " ('x5_octylamine', 0.00022674005691529812),\n",
       " ('x1_bis(trimethylsilyl)phosphine', 0.00015553030399564888),\n",
       " ('x4_palmitic acid', 0.0001040141975473748),\n",
       " ('x1_tris(trimethylsilyl)phosphine', 0.00010287932769863525),\n",
       " ('x4_stearic acid', 8.326898628271684e-05),\n",
       " ('x4_oleic acid', 8.298085690908871e-05),\n",
       " ('x1_tris(dimethylamino)phosphine', 7.907642922066651e-05),\n",
       " ('x0_indium palmitate', 1.88165226816795e-07),\n",
       " ('thiol_amount_mmol', 0.0),\n",
       " ('x0_chloroindium oxalate', 0.0),\n",
       " ('x0_indium iodide', 0.0),\n",
       " ('x0_indium oxalate', 0.0),\n",
       " ('x0_indium trifluoroacetate', 0.0),\n",
       " ('x0_indium tris(N,N-diisopropylacetamidinato)', 0.0),\n",
       " ('x1_phosphorus trichloride', 0.0),\n",
       " ('x1_sodium phosphide', 0.0),\n",
       " ('x1_white phosphorus', 0.0),\n",
       " ('x2_4-ethylpyridine', 0.0),\n",
       " ('x2_None', 0.0),\n",
       " ('x2_dimethylformamide', 0.0),\n",
       " ('x2_mesitylene', 0.0),\n",
       " ('x2_toluene', 0.0),\n",
       " ('x3_None', 0.0),\n",
       " ('x5_None', 0.0),\n",
       " ('x5_dioctylamine', 0.0),\n",
       " ('x5_dodecylamine', 0.0),\n",
       " ('x5_oleylamine', 0.0),\n",
       " ('x6_dodecanethiol', 0.0),\n",
       " ('x7_None', 0.0),\n",
       " ('x7_zinc acetate', 0.0),\n",
       " ('x7_zinc octanoate', 0.0),\n",
       " ('x7_zinc oleate', 0.0),\n",
       " ('x7_zinc stearate', 0.0),\n",
       " ('x8_None', 0.0),\n",
       " ('x8_superhydride', 0.0),\n",
       " ('x8_oleic acid', 0.0),\n",
       " ('x8_tetrabutylammonium myristate', 0.0),\n",
       " ('x8_trioctylamine', 0.0),\n",
       " ('x8_trioctylphosphine oxide', 0.0),\n",
       " ('x8_water', 0.0)]"
      ]
     },
     "execution_count": 29,
     "metadata": {},
     "output_type": "execute_result"
    }
   ],
   "source": [
    "importance_dict_e = dict()\n",
    "for i in range(0,71):\n",
    "    importance_dict_e[input_col[i]] = DT_regr_e.feature_importances_[i]\n",
    "\n",
    "sorted_importance_e = sorted(importance_dict_e.items(), key=lambda x: x[1], reverse=True)\n",
    "\n",
    "\n",
    "sorted_importance_e\n"
   ]
  },
  {
   "cell_type": "code",
   "execution_count": 30,
   "metadata": {},
   "outputs": [
    {
     "data": {
      "image/png": "[encoded data removed]",
      "text/plain": [
       "<Figure size 1490.4x595.44 with 1 Axes>"
      ]
     },
     "metadata": {},
     "output_type": "display_data"
    }
   ],
   "source": [
    "top7_e = DataFrame(sorted_importance_e[0:7], columns=['features', 'importance score'])\n",
    "\n",
    "others_e = DataFrame(sorted_importance_e[7:], columns=['features', 'importance score'])\n",
    "\n",
    "# combined_others2 = pd.DataFrame(data = {\n",
    "#     'features' : ['others'],\n",
    "#     'importance score' : [others2['importance score'].sum()]\n",
    "# })\n",
    "\n",
    "# #combining top 10 with others\n",
    "# imp_score2 = pd.concat([top7, combined_others2])\n",
    "\n",
    "import seaborn as sns\n",
    "\n",
    "a4_dims = (20.7, 8.27)\n",
    "fig, ax = plt.subplots(figsize=a4_dims)\n",
    "sns.set_theme(style=\"whitegrid\")\n",
    "\n",
    "ax = sns.barplot(x=\"features\", y=\"importance score\", data=top7_e)"
   ]
  },
  {
   "cell_type": "markdown",
   "metadata": {},
   "source": [
    "### Absorption prediction"
   ]
  },
  {
   "cell_type": "code",
   "execution_count": 31,
   "metadata": {},
   "outputs": [
    {
     "data": {
      "text/plain": [
       "[('temp_c', 0.16034179765316162),\n",
       " ('x8_trioctylphosphine oxide', 0.087370043946599),\n",
       " ('time_min', 0.07744180817991043),\n",
       " ('x5_octylamine', 0.04998053542309751),\n",
       " ('in_amount_mmol', 0.03502085759244984),\n",
       " ('x7_zinc iodide', 0.034939401657685006),\n",
       " ('x7_None', 0.031141347733727905),\n",
       " ('zinc_amount_mmol', 0.03090953434781201),\n",
       " ('total_volume_ml', 0.029255245418628888),\n",
       " ('p_amount_mmol', 0.027977636523852),\n",
       " ('thiol_amount_mmol', 0.02512067955477562),\n",
       " ('x5_None', 0.025056195680092885),\n",
       " ('acid_amount_mmol', 0.02289281511251226),\n",
       " ('x2_octadecene', 0.02148828064970624),\n",
       " ('x7_zinc oleate', 0.021244826111476982),\n",
       " ('x6_dodecanethiol', 0.01840212654428455),\n",
       " ('x8_None', 0.01788247337907056),\n",
       " ('x7_zinc chloride', 0.01748588444453735),\n",
       " ('x2_None', 0.017437639882222588),\n",
       " ('sol_amount_ml', 0.01733197955085182),\n",
       " ('x0_indium oxalate', 0.017076227161031042),\n",
       " ('x4_myristic acid', 0.016785071732588287),\n",
       " ('amine_amount_mmol', 0.01397816639616479),\n",
       " ('x8_copper bromide', 0.013143958704362664),\n",
       " ('x1_phosphine gas', 0.011839901934424689),\n",
       " ('x5_dioctylamine', 0.011077058868507326),\n",
       " ('TOP_amount_mmol', 0.01099672573144324),\n",
       " ('x4_None', 0.010787450388143922),\n",
       " ('other_amount_mmol', 0.009578661856812363),\n",
       " ('x4_oleic acid', 0.00907763088701086),\n",
       " ('x7_zinc bromide', 0.008581775750268852),\n",
       " ('x3_trioctylphosphine', 0.008274773092938564),\n",
       " ('x8_water', 0.006940618210039699),\n",
       " ('x0_indium acetate', 0.006117911099630524),\n",
       " ('x4_lauric acid', 0.006064305739909487),\n",
       " ('x0_indium iodide', 0.006037567183179072),\n",
       " ('x3_None', 0.005395387239870943),\n",
       " ('x1_tris(diethylamino)phosphine', 0.005261307340396719),\n",
       " ('x1_tris(trimethylsilyl)phosphine', 0.005249714319353377),\n",
       " ('x6_None', 0.005008712139454183),\n",
       " ('x5_oleylamine', 0.004868411397869004),\n",
       " ('x1_tris(dimethylamino)phosphine', 0.004598390745700414),\n",
       " ('x0_chloroindium oxalate', 0.004095133590926392),\n",
       " ('x0_indium chloride', 0.003869975101685737),\n",
       " ('x8_trioctylamine', 0.0036962042378318968),\n",
       " ('x0_indium palmitate', 0.0036044374553934277),\n",
       " ('x4_palmitic acid', 0.002505913177774259),\n",
       " ('x5_hexadecylamine', 0.002396886149469822),\n",
       " ('x8_acetic acid', 0.0023801008144029253),\n",
       " ('x4_stearic acid', 0.0018884413642868095),\n",
       " ('x2_toluene', 0.0015430822099670935),\n",
       " ('x1_white phosphorus', 0.0011075476498205413),\n",
       " ('x1_tris(trimethylgermyl)phosphine', 0.001078006568862916),\n",
       " ('x5_dodecylamine', 0.0009394119180070525),\n",
       " ('x7_zinc undecylenate', 0.0009188024909387028),\n",
       " ('x2_dimethylformamide', 0.0009000154303536482),\n",
       " ('x0_indium myristate', 0.0004879838590545184),\n",
       " ('x7_zinc stearate', 0.0004362350089056114),\n",
       " ('x2_4-ethylpyridine', 0.0002454610173480633),\n",
       " ('x8_superhydride', 0.000215218038553805),\n",
       " ('x0_indium trifluoroacetate', 0.00019466972803127732),\n",
       " ('x8_tetrabutylammonium myristate', 0.00017157675300991432),\n",
       " ('x0_indium bromide', 7.432195235784418e-05),\n",
       " ('x1_sodium phosphide', 6.66785882778857e-05),\n",
       " ('x2_mesitylene', 6.520823356049576e-06),\n",
       " ('x1_bis(trimethylsilyl)phosphine', 8.038490324341296e-08),\n",
       " ('x0_indium tris(N,N-diisopropylacetamidinato)', 0.0),\n",
       " ('x1_phosphorus trichloride', 0.0),\n",
       " ('x7_zinc acetate', 0.0),\n",
       " ('x7_zinc octanoate', 0.0),\n",
       " ('x8_oleic acid', 0.0)]"
      ]
     },
     "execution_count": 31,
     "metadata": {},
     "output_type": "execute_result"
    }
   ],
   "source": [
    "importance_dict_a = dict()\n",
    "for i in range(0,71):\n",
    "    importance_dict_a[input_col[i]] = ET_regr_a.feature_importances_[i]\n",
    "\n",
    "sorted_importance_a = sorted(importance_dict_a.items(), key=lambda x: x[1], reverse=True)\n",
    "\n",
    "sorted_importance_a"
   ]
  },
  {
   "cell_type": "code",
   "execution_count": 32,
   "metadata": {},
   "outputs": [
    {
     "data": {
      "image/png": "[encoded data removed]",
      "text/plain": [
       "<Figure size 1490.4x595.44 with 1 Axes>"
      ]
     },
     "metadata": {},
     "output_type": "display_data"
    }
   ],
   "source": [
    "top7_a = DataFrame(sorted_importance_a[0:7], columns=['features', 'importance score'])\n",
    "\n",
    "others_a = DataFrame(sorted_importance_a[7:], columns=['features', 'importance score'])\n",
    "\n",
    "import seaborn as sns\n",
    "\n",
    "a4_dims = (20.7, 8.27)\n",
    "fig, ax = plt.subplots(figsize=a4_dims)\n",
    "sns.set_theme(style=\"whitegrid\")\n",
    "\n",
    "ax = sns.barplot(x=\"features\", y=\"importance score\", data=top7_a)"
   ]
  },
  {
   "cell_type": "code",
   "execution_count": 33,
   "metadata": {},
   "outputs": [
    {
     "data": {
      "text/plain": [
       "{'in_amount_mmol': 0.03502085759244984,\n",
       " 'p_amount_mmol': 0.027977636523852,\n",
       " 'sol_amount_ml': 0.01733197955085182,\n",
       " 'TOP_amount_mmol': 0.01099672573144324,\n",
       " 'acid_amount_mmol': 0.02289281511251226,\n",
       " 'amine_amount_mmol': 0.01397816639616479,\n",
       " 'thiol_amount_mmol': 0.02512067955477562,\n",
       " 'zinc_amount_mmol': 0.03090953434781201,\n",
       " 'other_amount_mmol': 0.009578661856812363,\n",
       " 'total_volume_ml': 0.029255245418628888,\n",
       " 'temp_c': 0.16034179765316162,\n",
       " 'time_min': 0.07744180817991043,\n",
       " 'x0_chloroindium oxalate': 0.004095133590926392,\n",
       " 'x0_indium acetate': 0.006117911099630524,\n",
       " 'x0_indium bromide': 7.432195235784418e-05,\n",
       " 'x0_indium chloride': 0.003869975101685737,\n",
       " 'x0_indium iodide': 0.006037567183179072,\n",
       " 'x0_indium myristate': 0.0004879838590545184,\n",
       " 'x0_indium oxalate': 0.017076227161031042,\n",
       " 'x0_indium palmitate': 0.0036044374553934277,\n",
       " 'x0_indium trifluoroacetate': 0.00019466972803127732,\n",
       " 'x0_indium tris(N,N-diisopropylacetamidinato)': 0.0,\n",
       " 'x1_bis(trimethylsilyl)phosphine': 8.038490324341296e-08,\n",
       " 'x1_phosphine gas': 0.011839901934424689,\n",
       " 'x1_phosphorus trichloride': 0.0,\n",
       " 'x1_sodium phosphide': 6.66785882778857e-05,\n",
       " 'x1_tris(diethylamino)phosphine': 0.005261307340396719,\n",
       " 'x1_tris(dimethylamino)phosphine': 0.004598390745700414,\n",
       " 'x1_tris(trimethylgermyl)phosphine': 0.001078006568862916,\n",
       " 'x1_tris(trimethylsilyl)phosphine': 0.005249714319353377,\n",
       " 'x1_white phosphorus': 0.0011075476498205413,\n",
       " 'x2_4-ethylpyridine': 0.0002454610173480633,\n",
       " 'x2_None': 0.017437639882222588,\n",
       " 'x2_dimethylformamide': 0.0009000154303536482,\n",
       " 'x2_mesitylene': 6.520823356049576e-06,\n",
       " 'x2_octadecene': 0.02148828064970624,\n",
       " 'x2_toluene': 0.0015430822099670935,\n",
       " 'x3_None': 0.005395387239870943,\n",
       " 'x3_trioctylphosphine': 0.008274773092938564,\n",
       " 'x4_None': 0.010787450388143922,\n",
       " 'x4_lauric acid': 0.006064305739909487,\n",
       " 'x4_myristic acid': 0.016785071732588287,\n",
       " 'x4_oleic acid': 0.00907763088701086,\n",
       " 'x4_palmitic acid': 0.002505913177774259,\n",
       " 'x4_stearic acid': 0.0018884413642868095,\n",
       " 'x5_None': 0.025056195680092885,\n",
       " 'x5_dioctylamine': 0.011077058868507326,\n",
       " 'x5_dodecylamine': 0.0009394119180070525,\n",
       " 'x5_hexadecylamine': 0.002396886149469822,\n",
       " 'x5_octylamine': 0.04998053542309751,\n",
       " 'x5_oleylamine': 0.004868411397869004,\n",
       " 'x6_None': 0.005008712139454183,\n",
       " 'x6_dodecanethiol': 0.01840212654428455,\n",
       " 'x7_None': 0.031141347733727905,\n",
       " 'x7_zinc acetate': 0.0,\n",
       " 'x7_zinc bromide': 0.008581775750268852,\n",
       " 'x7_zinc chloride': 0.01748588444453735,\n",
       " 'x7_zinc iodide': 0.034939401657685006,\n",
       " 'x7_zinc octanoate': 0.0,\n",
       " 'x7_zinc oleate': 0.021244826111476982,\n",
       " 'x7_zinc stearate': 0.0004362350089056114,\n",
       " 'x7_zinc undecylenate': 0.0009188024909387028,\n",
       " 'x8_None': 0.01788247337907056,\n",
       " 'x8_acetic acid': 0.0023801008144029253,\n",
       " 'x8_copper bromide': 0.013143958704362664,\n",
       " 'x8_superhydride': 0.000215218038553805,\n",
       " 'x8_oleic acid': 0.0,\n",
       " 'x8_tetrabutylammonium myristate': 0.00017157675300991432,\n",
       " 'x8_trioctylamine': 0.0036962042378318968,\n",
       " 'x8_trioctylphosphine oxide': 0.087370043946599,\n",
       " 'x8_water': 0.006940618210039699}"
      ]
     },
     "execution_count": 33,
     "metadata": {},
     "output_type": "execute_result"
    }
   ],
   "source": [
    "importance_dict_a"
   ]
  },
  {
   "cell_type": "markdown",
   "metadata": {},
   "source": [
    "### Combine\n"
   ]
  },
  {
   "cell_type": "code",
   "execution_count": 34,
   "metadata": {},
   "outputs": [],
   "source": [
    "sorted_a = sorted(importance_dict_a.items(), key=lambda x: x[0], reverse=False)\n",
    "sorted_d = sorted(importance_dict_d.items(), key=lambda x: x[0], reverse=False)\n",
    "sorted_e = sorted(importance_dict_e.items(), key=lambda x: x[0], reverse=False)\n"
   ]
  },
  {
   "cell_type": "code",
   "execution_count": 35,
   "metadata": {
    "scrolled": true
   },
   "outputs": [
    {
     "data": {
      "text/plain": [
       "[('TOP_amount_mmol', 0.024226802836829812),\n",
       " ('acid_amount_mmol', 0.003563917412767123),\n",
       " ('amine_amount_mmol', 0.006491157604181191),\n",
       " ('in_amount_mmol', 0.035929734893865146),\n",
       " ('other_amount_mmol', 0.005966047399521015),\n",
       " ('p_amount_mmol', 0.027968062953970235),\n",
       " ('sol_amount_ml', 0.008196906774017335),\n",
       " ('temp_c', 0.1118500324443521),\n",
       " ('thiol_amount_mmol', 0.0),\n",
       " ('time_min', 0.31500062277847524),\n",
       " ('total_volume_ml', 0.023663021227667887),\n",
       " ('x0_chloroindium oxalate', 0.022219984064215104),\n",
       " ('x0_indium acetate', 0.00045569855814017745),\n",
       " ('x0_indium bromide', 0.000126685604463257),\n",
       " ('x0_indium chloride', 0.009353737601545675),\n",
       " ('x0_indium iodide', 0.0),\n",
       " ('x0_indium myristate', 0.0),\n",
       " ('x0_indium oxalate', 0.0),\n",
       " ('x0_indium palmitate', 0.006244430529475978),\n",
       " ('x0_indium trifluoroacetate', 0.04679463909177305),\n",
       " ('x0_indium tris(N,N-diisopropylacetamidinato)', 0.0),\n",
       " ('x1_bis(trimethylsilyl)phosphine', 1.1024814728379828e-05),\n",
       " ('x1_phosphine gas', 0.0),\n",
       " ('x1_phosphorus trichloride', 0.0),\n",
       " ('x1_sodium phosphide', 0.0),\n",
       " ('x1_tris(diethylamino)phosphine', 0.006029183682873199),\n",
       " ('x1_tris(dimethylamino)phosphine', 0.017150196446226805),\n",
       " ('x1_tris(trimethylgermyl)phosphine', 0.0009517082648565622),\n",
       " ('x1_tris(trimethylsilyl)phosphine', 0.0),\n",
       " ('x1_white phosphorus', 0.0),\n",
       " ('x2_4-ethylpyridine', 0.0),\n",
       " ('x2_None', 0.0),\n",
       " ('x2_dimethylformamide', 0.0),\n",
       " ('x2_mesitylene', 0.0),\n",
       " ('x2_octadecene', 0.0160388400689317),\n",
       " ('x2_toluene', 0.0),\n",
       " ('x3_None', 0.00038355056510055877),\n",
       " ('x3_trioctylphosphine', 0.035808521931827424),\n",
       " ('x4_None', 7.000039467451748e-05),\n",
       " ('x4_lauric acid', 2.945291911405518e-05),\n",
       " ('x4_myristic acid', 0.0007646242162870958),\n",
       " ('x4_oleic acid', 3.2331221972353515e-05),\n",
       " ('x4_palmitic acid', 0.00017756571035521402),\n",
       " ('x4_stearic acid', 0.00026060177687428485),\n",
       " ('x5_None', 0.011009064169240265),\n",
       " ('x5_dioctylamine', 0.0),\n",
       " ('x5_dodecylamine', 5.726101659808674e-05),\n",
       " ('x5_hexadecylamine', 0.004496576263359623),\n",
       " ('x5_octylamine', 0.00793820074139937),\n",
       " ('x5_oleylamine', 0.0),\n",
       " ('x6_None', 0.0),\n",
       " ('x6_dodecanethiol', 0.0),\n",
       " ('x7_None', 0.011570808781401818),\n",
       " ('x7_zinc acetate', 0.0),\n",
       " ('x7_zinc bromide', 0.006057754052878534),\n",
       " ('x7_zinc chloride', 0.11950649567451058),\n",
       " ('x7_zinc iodide', 0.0008513314848463267),\n",
       " ('x7_zinc octanoate', 0.025237709277970873),\n",
       " ('x7_zinc oleate', 0.03163483150667729),\n",
       " ('x7_zinc stearate', 0.0),\n",
       " ('x7_zinc undecylenate', 0.0),\n",
       " ('x8_None', 0.008056027653600655),\n",
       " ('x8_acetic acid', 0.0),\n",
       " ('x8_copper bromide', 0.016500239203986793),\n",
       " ('x8_oleic acid', 0.0),\n",
       " ('x8_superhydride', 0.0035329481462103933),\n",
       " ('x8_tetrabutylammonium myristate', 0.0),\n",
       " ('x8_trioctylamine', 0.0),\n",
       " ('x8_trioctylphosphine oxide', 0.0),\n",
       " ('x8_water', 0.026447841828442363),\n",
       " ('zinc_amount_mmol', 0.0011123527416179863)]"
      ]
     },
     "execution_count": 35,
     "metadata": {},
     "output_type": "execute_result"
    }
   ],
   "source": [
    "sorted_d "
   ]
  },
  {
   "cell_type": "code",
   "execution_count": 36,
   "metadata": {},
   "outputs": [],
   "source": [
    "combined_importance = dict()"
   ]
  },
  {
   "cell_type": "code",
   "execution_count": 37,
   "metadata": {},
   "outputs": [
    {
     "data": {
      "text/plain": [
       "{'TOP_amount_mmol': 0.28724740529224563,\n",
       " 'acid_amount_mmol': 0.04006017467674822,\n",
       " 'amine_amount_mmol': 0.05300146560586659,\n",
       " 'in_amount_mmol': 0.10397184994896894,\n",
       " 'other_amount_mmol': 0.04897880718505114,\n",
       " 'p_amount_mmol': 0.0622726709585779,\n",
       " 'sol_amount_ml': 0.04545756418237092,\n",
       " 'temp_c': 0.45848209185763383,\n",
       " 'thiol_amount_mmol': 0.02512067955477562,\n",
       " 'time_min': 0.5127221345153372,\n",
       " 'total_volume_ml': 0.07785333070458922,\n",
       " 'x0_chloroindium oxalate': 0.026315117655141496,\n",
       " 'x0_indium acetate': 0.01692120155099863,\n",
       " 'x0_indium bromide': 0.0007023737532582586,\n",
       " 'x0_indium chloride': 0.018723769981991763,\n",
       " 'x0_indium iodide': 0.006037567183179072,\n",
       " 'x0_indium myristate': 0.005854220396421604,\n",
       " 'x0_indium oxalate': 0.017076227161031042,\n",
       " 'x0_indium palmitate': 0.009849056150096222,\n",
       " 'x0_indium trifluoroacetate': 0.04698930881980433,\n",
       " 'x0_indium tris(N,N-diisopropylacetamidinato)': 0.0,\n",
       " 'x1_bis(trimethylsilyl)phosphine': 0.00016663550362727212,\n",
       " 'x1_phosphine gas': 0.013171160331206114,\n",
       " 'x1_phosphorus trichloride': 0.0,\n",
       " 'x1_sodium phosphide': 6.66785882778857e-05,\n",
       " 'x1_tris(diethylamino)phosphine': 0.012766344676834055,\n",
       " 'x1_tris(dimethylamino)phosphine': 0.021827663621147887,\n",
       " 'x1_tris(trimethylgermyl)phosphine': 0.005639600387418841,\n",
       " 'x1_tris(trimethylsilyl)phosphine': 0.005352593647052012,\n",
       " 'x1_white phosphorus': 0.0011075476498205413,\n",
       " 'x2_4-ethylpyridine': 0.0002454610173480633,\n",
       " 'x2_None': 0.017437639882222588,\n",
       " 'x2_dimethylformamide': 0.0009000154303536482,\n",
       " 'x2_mesitylene': 6.520823356049576e-06,\n",
       " 'x2_octadecene': 0.03848906830264448,\n",
       " 'x2_toluene': 0.0015430822099670935,\n",
       " 'x3_None': 0.005778937804971502,\n",
       " 'x3_trioctylphosphine': 0.047436979662720716,\n",
       " 'x4_None': 0.06548422731253141,\n",
       " 'x4_lauric acid': 0.008304283868029961,\n",
       " 'x4_myristic acid': 0.020908546004937374,\n",
       " 'x4_oleic acid': 0.009192942965892303,\n",
       " 'x4_palmitic acid': 0.002787493085676848,\n",
       " 'x4_stearic acid': 0.0022323121274438113,\n",
       " 'x5_None': 0.03606525984933315,\n",
       " 'x5_dioctylamine': 0.011077058868507326,\n",
       " 'x5_dodecylamine': 0.0009966729346051393,\n",
       " 'x5_hexadecylamine': 0.0191578742489431,\n",
       " 'x5_octylamine': 0.058145476221412175,\n",
       " 'x5_oleylamine': 0.004868411397869004,\n",
       " 'x6_None': 0.00726486002960264,\n",
       " 'x6_dodecanethiol': 0.01840212654428455,\n",
       " 'x7_None': 0.042712156515129725,\n",
       " 'x7_zinc acetate': 0.0,\n",
       " 'x7_zinc bromide': 0.021376855652251222,\n",
       " 'x7_zinc chloride': 0.18215314577977193,\n",
       " 'x7_zinc iodide': 0.04614225091673609,\n",
       " 'x7_zinc octanoate': 0.025237709277970873,\n",
       " 'x7_zinc oleate': 0.052879657618154274,\n",
       " 'x7_zinc stearate': 0.0004362350089056114,\n",
       " 'x7_zinc undecylenate': 0.0013817594655825614,\n",
       " 'x8_None': 0.025938501032671216,\n",
       " 'x8_acetic acid': 0.0028548416335865134,\n",
       " 'x8_copper bromide': 0.04080858736756549,\n",
       " 'x8_oleic acid': 0.0,\n",
       " 'x8_superhydride': 0.0037481661847641986,\n",
       " 'x8_tetrabutylammonium myristate': 0.00017157675300991432,\n",
       " 'x8_trioctylamine': 0.0036962042378318968,\n",
       " 'x8_trioctylphosphine oxide': 0.087370043946599,\n",
       " 'x8_water': 0.03338846003848206,\n",
       " 'zinc_amount_mmol': 0.12729542438976016}"
      ]
     },
     "execution_count": 37,
     "metadata": {},
     "output_type": "execute_result"
    }
   ],
   "source": [
    "for i in range(0,71):\n",
    "    combined_importance[sorted_e[i][0]] = sorted_e[i][1] + sorted_a[i][1] + sorted_d[i][1]\n",
    "combined_importance\n"
   ]
  },
  {
   "cell_type": "code",
   "execution_count": 38,
   "metadata": {},
   "outputs": [
    {
     "data": {
      "text/plain": [
       "[('time_min', 0.5127221345153372),\n",
       " ('temp_c', 0.45848209185763383),\n",
       " ('TOP_amount_mmol', 0.28724740529224563),\n",
       " ('x7_zinc chloride', 0.18215314577977193),\n",
       " ('zinc_amount_mmol', 0.12729542438976016),\n",
       " ('in_amount_mmol', 0.10397184994896894),\n",
       " ('x8_trioctylphosphine oxide', 0.087370043946599),\n",
       " ('total_volume_ml', 0.07785333070458922),\n",
       " ('x4_None', 0.06548422731253141),\n",
       " ('p_amount_mmol', 0.0622726709585779),\n",
       " ('x5_octylamine', 0.058145476221412175),\n",
       " ('amine_amount_mmol', 0.05300146560586659),\n",
       " ('x7_zinc oleate', 0.052879657618154274),\n",
       " ('other_amount_mmol', 0.04897880718505114),\n",
       " ('x3_trioctylphosphine', 0.047436979662720716),\n",
       " ('x0_indium trifluoroacetate', 0.04698930881980433),\n",
       " ('x7_zinc iodide', 0.04614225091673609),\n",
       " ('sol_amount_ml', 0.04545756418237092),\n",
       " ('x7_None', 0.042712156515129725),\n",
       " ('x8_copper bromide', 0.04080858736756549),\n",
       " ('acid_amount_mmol', 0.04006017467674822),\n",
       " ('x2_octadecene', 0.03848906830264448),\n",
       " ('x5_None', 0.03606525984933315),\n",
       " ('x8_water', 0.03338846003848206),\n",
       " ('x0_chloroindium oxalate', 0.026315117655141496),\n",
       " ('x8_None', 0.025938501032671216),\n",
       " ('x7_zinc octanoate', 0.025237709277970873),\n",
       " ('thiol_amount_mmol', 0.02512067955477562),\n",
       " ('x1_tris(dimethylamino)phosphine', 0.021827663621147887),\n",
       " ('x7_zinc bromide', 0.021376855652251222),\n",
       " ('x4_myristic acid', 0.020908546004937374),\n",
       " ('x5_hexadecylamine', 0.0191578742489431),\n",
       " ('x0_indium chloride', 0.018723769981991763),\n",
       " ('x6_dodecanethiol', 0.01840212654428455),\n",
       " ('x2_None', 0.017437639882222588),\n",
       " ('x0_indium oxalate', 0.017076227161031042),\n",
       " ('x0_indium acetate', 0.01692120155099863),\n",
       " ('x1_phosphine gas', 0.013171160331206114),\n",
       " ('x1_tris(diethylamino)phosphine', 0.012766344676834055),\n",
       " ('x5_dioctylamine', 0.011077058868507326),\n",
       " ('x0_indium palmitate', 0.009849056150096222),\n",
       " ('x4_oleic acid', 0.009192942965892303),\n",
       " ('x4_lauric acid', 0.008304283868029961),\n",
       " ('x6_None', 0.00726486002960264),\n",
       " ('x0_indium iodide', 0.006037567183179072),\n",
       " ('x0_indium myristate', 0.005854220396421604),\n",
       " ('x3_None', 0.005778937804971502),\n",
       " ('x1_tris(trimethylgermyl)phosphine', 0.005639600387418841),\n",
       " ('x1_tris(trimethylsilyl)phosphine', 0.005352593647052012),\n",
       " ('x5_oleylamine', 0.004868411397869004),\n",
       " ('x8_superhydride', 0.0037481661847641986),\n",
       " ('x8_trioctylamine', 0.0036962042378318968),\n",
       " ('x8_acetic acid', 0.0028548416335865134),\n",
       " ('x4_palmitic acid', 0.002787493085676848),\n",
       " ('x4_stearic acid', 0.0022323121274438113),\n",
       " ('x2_toluene', 0.0015430822099670935),\n",
       " ('x7_zinc undecylenate', 0.0013817594655825614),\n",
       " ('x1_white phosphorus', 0.0011075476498205413),\n",
       " ('x5_dodecylamine', 0.0009966729346051393),\n",
       " ('x2_dimethylformamide', 0.0009000154303536482),\n",
       " ('x0_indium bromide', 0.0007023737532582586),\n",
       " ('x7_zinc stearate', 0.0004362350089056114),\n",
       " ('x2_4-ethylpyridine', 0.0002454610173480633),\n",
       " ('x8_tetrabutylammonium myristate', 0.00017157675300991432),\n",
       " ('x1_bis(trimethylsilyl)phosphine', 0.00016663550362727212),\n",
       " ('x1_sodium phosphide', 6.66785882778857e-05),\n",
       " ('x2_mesitylene', 6.520823356049576e-06),\n",
       " ('x0_indium tris(N,N-diisopropylacetamidinato)', 0.0),\n",
       " ('x1_phosphorus trichloride', 0.0),\n",
       " ('x7_zinc acetate', 0.0),\n",
       " ('x8_oleic acid', 0.0)]"
      ]
     },
     "execution_count": 38,
     "metadata": {},
     "output_type": "execute_result"
    }
   ],
   "source": [
    "sorted_combined_importance = sorted(combined_importance.items(), key=lambda x: x[1], reverse=True)\n",
    "\n",
    "sorted_combined_importance "
   ]
  },
  {
   "cell_type": "code",
   "execution_count": 56,
   "metadata": {
    "scrolled": true
   },
   "outputs": [
    {
     "data": {
      "image/png": "[encoded data removed]",
      "text/plain": [
       "<Figure size 1490.4x595.44 with 1 Axes>"
      ]
     },
     "metadata": {},
     "output_type": "display_data"
    }
   ],
   "source": [
    "top7_combined = DataFrame(sorted_combined_importance[0:7], columns=['features', 'importance score'])\n",
    "\n",
    "others_combined = DataFrame(sorted_combined_importance [7:], columns=['features', 'importance score'])\n",
    "\n",
    "import seaborn as sns\n",
    "\n",
    "a4_dims = (20.7, 8.27)\n",
    "fig, ax = plt.subplots(figsize=a4_dims)\n",
    "sns.set_theme(style=\"whitegrid\")\n",
    "\n",
    "ax = sns.barplot(x=\"features\", y=\"importance score\", data=top7_combined)"
   ]
  },
  {
   "cell_type": "markdown",
   "metadata": {},
   "source": [
    "## Correlation"
   ]
  },
  {
   "cell_type": "code",
   "execution_count": 1,
   "metadata": {},
   "outputs": [],
   "source": [
    "from sklearn.datasets import load_boston\n",
    "import pandas as pd\n",
    "import numpy as np\n",
    "import matplotlib\n",
    "import matplotlib.pyplot as plt\n",
    "import seaborn as sns\n",
    "import statsmodels.api as sm\n",
    "%matplotlib inline\n",
    "from sklearn.model_selection import train_test_split\n",
    "from sklearn.linear_model import LinearRegression\n",
    "from sklearn.feature_selection import RFE\n",
    "from sklearn.linear_model import RidgeCV, LassoCV, Ridge, Lasso"
   ]
  },
  {
   "cell_type": "code",
   "execution_count": null,
   "metadata": {},
   "outputs": [],
   "source": []
  },
  {
   "cell_type": "code",
   "execution_count": null,
   "metadata": {},
   "outputs": [],
   "source": []
  },
  {
   "cell_type": "code",
   "execution_count": null,
   "metadata": {},
   "outputs": [],
   "source": [
    "df[\"MEDV\"] = x.target\n",
    "X_cor = df.drop(\"MEDV\",1)   #Feature Matrix\n",
    "y_cor = df[\"MEDV\"]          #Target Variable\n",
    "df.head()"
   ]
  }
 ],
 "metadata": {
  "kernelspec": {
   "display_name": "Python 3",
   "language": "python",
   "name": "python3"
  },
  "language_info": {
   "codemirror_mode": {
    "name": "ipython",
    "version": 3
   },
   "file_extension": ".py",
   "mimetype": "text/x-python",
   "name": "python",
   "nbconvert_exporter": "python",
   "pygments_lexer": "ipython3",
   "version": "3.8.5"
  }
 },
 "nbformat": 4,
 "nbformat_minor": 4
}
