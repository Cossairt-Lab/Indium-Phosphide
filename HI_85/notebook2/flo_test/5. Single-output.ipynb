{
 "cells": [
  {
   "cell_type": "code",
   "execution_count": 8,
   "metadata": {},
   "outputs": [],
   "source": [
    "import numpy as np \n",
    "import pandas as pd\n",
    "import os\n",
    "import joblib\n",
    "import sklearn \n",
    "import matplotlib\n",
    "from matplotlib import pyplot as plt\n",
    "\n",
    "from sklearn.model_selection import train_test_split\n",
    "\n",
    "#Regressions:\n",
    "\n",
    "from sklearn.multioutput import MultiOutputRegressor\n",
    "\n",
    "from sklearn.neighbors import KNeighborsRegressor\n",
    "from sklearn.linear_model import Ridge\n",
    "from sklearn.linear_model import Lasso\n",
    "from sklearn.linear_model import ElasticNet\n",
    "from sklearn.linear_model import LinearRegression\n",
    "from sklearn.linear_model import RidgeCV\n",
    "from sklearn.ensemble import ExtraTreesRegressor\n",
    "from sklearn.ensemble import GradientBoostingRegressor\n",
    "from sklearn.ensemble import RandomForestRegressor\n",
    "from sklearn.ensemble import AdaBoostRegressor\n",
    "from sklearn.tree import DecisionTreeRegressor\n",
    "\n",
    "#Metric\n",
    "from sklearn.metrics import mean_squared_error\n",
    "from sklearn.metrics import mean_absolute_error\n",
    "from sklearn.metrics import r2_score\n",
    "\n",
    "\n",
    "from pandas import DataFrame\n",
    "\n",
    "\n",
    "# Show progress bar\n",
    "from tqdm import tqdm"
   ]
  },
  {
   "cell_type": "code",
   "execution_count": 9,
   "metadata": {},
   "outputs": [
    {
     "data": {
      "text/html": [
       "<div>\n",
       "<style scoped>\n",
       "    .dataframe tbody tr th:only-of-type {\n",
       "        vertical-align: middle;\n",
       "    }\n",
       "\n",
       "    .dataframe tbody tr th {\n",
       "        vertical-align: top;\n",
       "    }\n",
       "\n",
       "    .dataframe thead th {\n",
       "        text-align: right;\n",
       "    }\n",
       "</style>\n",
       "<table border=\"1\" class=\"dataframe\">\n",
       "  <thead>\n",
       "    <tr style=\"text-align: right;\">\n",
       "      <th></th>\n",
       "      <th>Unnamed: 0</th>\n",
       "      <th>Unnamed: 0.1</th>\n",
       "      <th>Unnamed: 0.1.1</th>\n",
       "      <th>Unnamed: 0.1.1.1</th>\n",
       "      <th>in_amount_mmol</th>\n",
       "      <th>p_amount_mmol</th>\n",
       "      <th>ligand_amount_mmol</th>\n",
       "      <th>first_sol_amount_ml</th>\n",
       "      <th>second_sol_amount_ml</th>\n",
       "      <th>other_1_amount_mmol</th>\n",
       "      <th>...</th>\n",
       "      <th>x5_zinc undecylenate</th>\n",
       "      <th>x6_None</th>\n",
       "      <th>x6_copper bromide</th>\n",
       "      <th>x6_trioctylphosphine</th>\n",
       "      <th>x6_water</th>\n",
       "      <th>x6_zinc iodide</th>\n",
       "      <th>diameter_nm</th>\n",
       "      <th>abs_nm</th>\n",
       "      <th>emission_nm</th>\n",
       "      <th>Unnamed: 63</th>\n",
       "    </tr>\n",
       "  </thead>\n",
       "  <tbody>\n",
       "    <tr>\n",
       "      <th>0</th>\n",
       "      <td>0</td>\n",
       "      <td>0</td>\n",
       "      <td>0</td>\n",
       "      <td>0</td>\n",
       "      <td>0.713177</td>\n",
       "      <td>0.328895</td>\n",
       "      <td>-0.453863</td>\n",
       "      <td>-0.453709</td>\n",
       "      <td>-0.297521</td>\n",
       "      <td>-0.749374</td>\n",
       "      <td>...</td>\n",
       "      <td>0</td>\n",
       "      <td>1</td>\n",
       "      <td>0</td>\n",
       "      <td>0</td>\n",
       "      <td>0</td>\n",
       "      <td>0</td>\n",
       "      <td>6.7000</td>\n",
       "      <td>622</td>\n",
       "      <td>680.000000</td>\n",
       "      <td>58.000000</td>\n",
       "    </tr>\n",
       "    <tr>\n",
       "      <th>1</th>\n",
       "      <td>1</td>\n",
       "      <td>1</td>\n",
       "      <td>1</td>\n",
       "      <td>1</td>\n",
       "      <td>-0.336633</td>\n",
       "      <td>-0.477469</td>\n",
       "      <td>-0.453863</td>\n",
       "      <td>-0.453709</td>\n",
       "      <td>-0.076698</td>\n",
       "      <td>-0.749374</td>\n",
       "      <td>...</td>\n",
       "      <td>0</td>\n",
       "      <td>1</td>\n",
       "      <td>0</td>\n",
       "      <td>0</td>\n",
       "      <td>0</td>\n",
       "      <td>0</td>\n",
       "      <td>1.5000</td>\n",
       "      <td>445</td>\n",
       "      <td>568.000000</td>\n",
       "      <td>123.000000</td>\n",
       "    </tr>\n",
       "    <tr>\n",
       "      <th>2</th>\n",
       "      <td>2</td>\n",
       "      <td>2</td>\n",
       "      <td>2</td>\n",
       "      <td>2</td>\n",
       "      <td>0.713177</td>\n",
       "      <td>0.328895</td>\n",
       "      <td>-0.453863</td>\n",
       "      <td>-0.453709</td>\n",
       "      <td>-0.076698</td>\n",
       "      <td>-0.749374</td>\n",
       "      <td>...</td>\n",
       "      <td>0</td>\n",
       "      <td>1</td>\n",
       "      <td>0</td>\n",
       "      <td>0</td>\n",
       "      <td>0</td>\n",
       "      <td>0</td>\n",
       "      <td>2.5000</td>\n",
       "      <td>543</td>\n",
       "      <td>589.000000</td>\n",
       "      <td>46.000000</td>\n",
       "    </tr>\n",
       "    <tr>\n",
       "      <th>3</th>\n",
       "      <td>3</td>\n",
       "      <td>5</td>\n",
       "      <td>5</td>\n",
       "      <td>5</td>\n",
       "      <td>-0.599085</td>\n",
       "      <td>-0.679060</td>\n",
       "      <td>-0.197558</td>\n",
       "      <td>-0.219170</td>\n",
       "      <td>-0.266618</td>\n",
       "      <td>-0.749374</td>\n",
       "      <td>...</td>\n",
       "      <td>0</td>\n",
       "      <td>1</td>\n",
       "      <td>0</td>\n",
       "      <td>0</td>\n",
       "      <td>0</td>\n",
       "      <td>0</td>\n",
       "      <td>3.6750</td>\n",
       "      <td>431</td>\n",
       "      <td>590.944444</td>\n",
       "      <td>159.944444</td>\n",
       "    </tr>\n",
       "    <tr>\n",
       "      <th>4</th>\n",
       "      <td>4</td>\n",
       "      <td>6</td>\n",
       "      <td>6</td>\n",
       "      <td>6</td>\n",
       "      <td>-0.599085</td>\n",
       "      <td>-0.679060</td>\n",
       "      <td>-0.197558</td>\n",
       "      <td>-0.219170</td>\n",
       "      <td>-0.266618</td>\n",
       "      <td>-0.749374</td>\n",
       "      <td>...</td>\n",
       "      <td>0</td>\n",
       "      <td>1</td>\n",
       "      <td>0</td>\n",
       "      <td>0</td>\n",
       "      <td>0</td>\n",
       "      <td>0</td>\n",
       "      <td>3.7500</td>\n",
       "      <td>432</td>\n",
       "      <td>590.944444</td>\n",
       "      <td>158.944444</td>\n",
       "    </tr>\n",
       "    <tr>\n",
       "      <th>...</th>\n",
       "      <td>...</td>\n",
       "      <td>...</td>\n",
       "      <td>...</td>\n",
       "      <td>...</td>\n",
       "      <td>...</td>\n",
       "      <td>...</td>\n",
       "      <td>...</td>\n",
       "      <td>...</td>\n",
       "      <td>...</td>\n",
       "      <td>...</td>\n",
       "      <td>...</td>\n",
       "      <td>...</td>\n",
       "      <td>...</td>\n",
       "      <td>...</td>\n",
       "      <td>...</td>\n",
       "      <td>...</td>\n",
       "      <td>...</td>\n",
       "      <td>...</td>\n",
       "      <td>...</td>\n",
       "      <td>...</td>\n",
       "      <td>...</td>\n",
       "    </tr>\n",
       "    <tr>\n",
       "      <th>142</th>\n",
       "      <td>142</td>\n",
       "      <td>152</td>\n",
       "      <td>152</td>\n",
       "      <td>152</td>\n",
       "      <td>-0.730311</td>\n",
       "      <td>-0.779855</td>\n",
       "      <td>-0.453863</td>\n",
       "      <td>-0.085147</td>\n",
       "      <td>-0.394734</td>\n",
       "      <td>-0.678852</td>\n",
       "      <td>...</td>\n",
       "      <td>0</td>\n",
       "      <td>1</td>\n",
       "      <td>0</td>\n",
       "      <td>0</td>\n",
       "      <td>0</td>\n",
       "      <td>0</td>\n",
       "      <td>2.8015</td>\n",
       "      <td>500</td>\n",
       "      <td>550.000000</td>\n",
       "      <td>50.000000</td>\n",
       "    </tr>\n",
       "    <tr>\n",
       "      <th>143</th>\n",
       "      <td>143</td>\n",
       "      <td>153</td>\n",
       "      <td>153</td>\n",
       "      <td>153</td>\n",
       "      <td>-0.717189</td>\n",
       "      <td>-0.779855</td>\n",
       "      <td>-0.344018</td>\n",
       "      <td>-0.185664</td>\n",
       "      <td>-0.394734</td>\n",
       "      <td>-0.749374</td>\n",
       "      <td>...</td>\n",
       "      <td>0</td>\n",
       "      <td>1</td>\n",
       "      <td>0</td>\n",
       "      <td>0</td>\n",
       "      <td>0</td>\n",
       "      <td>0</td>\n",
       "      <td>8.3000</td>\n",
       "      <td>532</td>\n",
       "      <td>590.000000</td>\n",
       "      <td>58.000000</td>\n",
       "    </tr>\n",
       "    <tr>\n",
       "      <th>144</th>\n",
       "      <td>144</td>\n",
       "      <td>154</td>\n",
       "      <td>154</td>\n",
       "      <td>154</td>\n",
       "      <td>-0.717189</td>\n",
       "      <td>-0.779855</td>\n",
       "      <td>-0.344018</td>\n",
       "      <td>-0.185664</td>\n",
       "      <td>-0.394734</td>\n",
       "      <td>-0.749374</td>\n",
       "      <td>...</td>\n",
       "      <td>0</td>\n",
       "      <td>1</td>\n",
       "      <td>0</td>\n",
       "      <td>0</td>\n",
       "      <td>0</td>\n",
       "      <td>0</td>\n",
       "      <td>3.0745</td>\n",
       "      <td>549</td>\n",
       "      <td>590.944444</td>\n",
       "      <td>41.944444</td>\n",
       "    </tr>\n",
       "    <tr>\n",
       "      <th>145</th>\n",
       "      <td>145</td>\n",
       "      <td>155</td>\n",
       "      <td>155</td>\n",
       "      <td>155</td>\n",
       "      <td>-0.717189</td>\n",
       "      <td>-0.779855</td>\n",
       "      <td>-0.344018</td>\n",
       "      <td>-0.185664</td>\n",
       "      <td>-0.394734</td>\n",
       "      <td>-0.749374</td>\n",
       "      <td>...</td>\n",
       "      <td>0</td>\n",
       "      <td>1</td>\n",
       "      <td>0</td>\n",
       "      <td>0</td>\n",
       "      <td>0</td>\n",
       "      <td>0</td>\n",
       "      <td>3.1795</td>\n",
       "      <td>562</td>\n",
       "      <td>590.944444</td>\n",
       "      <td>28.944444</td>\n",
       "    </tr>\n",
       "    <tr>\n",
       "      <th>146</th>\n",
       "      <td>146</td>\n",
       "      <td>156</td>\n",
       "      <td>156</td>\n",
       "      <td>156</td>\n",
       "      <td>-0.717189</td>\n",
       "      <td>-0.779855</td>\n",
       "      <td>-0.344018</td>\n",
       "      <td>-0.185664</td>\n",
       "      <td>-0.394734</td>\n",
       "      <td>-0.749374</td>\n",
       "      <td>...</td>\n",
       "      <td>0</td>\n",
       "      <td>1</td>\n",
       "      <td>0</td>\n",
       "      <td>0</td>\n",
       "      <td>0</td>\n",
       "      <td>0</td>\n",
       "      <td>3.2500</td>\n",
       "      <td>570</td>\n",
       "      <td>590.944444</td>\n",
       "      <td>20.944444</td>\n",
       "    </tr>\n",
       "  </tbody>\n",
       "</table>\n",
       "<p>147 rows × 65 columns</p>\n",
       "</div>"
      ],
      "text/plain": [
       "     Unnamed: 0  Unnamed: 0.1  Unnamed: 0.1.1  Unnamed: 0.1.1.1  \\\n",
       "0             0             0               0                 0   \n",
       "1             1             1               1                 1   \n",
       "2             2             2               2                 2   \n",
       "3             3             5               5                 5   \n",
       "4             4             6               6                 6   \n",
       "..          ...           ...             ...               ...   \n",
       "142         142           152             152               152   \n",
       "143         143           153             153               153   \n",
       "144         144           154             154               154   \n",
       "145         145           155             155               155   \n",
       "146         146           156             156               156   \n",
       "\n",
       "     in_amount_mmol  p_amount_mmol  ligand_amount_mmol  first_sol_amount_ml  \\\n",
       "0          0.713177       0.328895           -0.453863            -0.453709   \n",
       "1         -0.336633      -0.477469           -0.453863            -0.453709   \n",
       "2          0.713177       0.328895           -0.453863            -0.453709   \n",
       "3         -0.599085      -0.679060           -0.197558            -0.219170   \n",
       "4         -0.599085      -0.679060           -0.197558            -0.219170   \n",
       "..              ...            ...                 ...                  ...   \n",
       "142       -0.730311      -0.779855           -0.453863            -0.085147   \n",
       "143       -0.717189      -0.779855           -0.344018            -0.185664   \n",
       "144       -0.717189      -0.779855           -0.344018            -0.185664   \n",
       "145       -0.717189      -0.779855           -0.344018            -0.185664   \n",
       "146       -0.717189      -0.779855           -0.344018            -0.185664   \n",
       "\n",
       "     second_sol_amount_ml  other_1_amount_mmol  ...  x5_zinc undecylenate  \\\n",
       "0               -0.297521            -0.749374  ...                     0   \n",
       "1               -0.076698            -0.749374  ...                     0   \n",
       "2               -0.076698            -0.749374  ...                     0   \n",
       "3               -0.266618            -0.749374  ...                     0   \n",
       "4               -0.266618            -0.749374  ...                     0   \n",
       "..                    ...                  ...  ...                   ...   \n",
       "142             -0.394734            -0.678852  ...                     0   \n",
       "143             -0.394734            -0.749374  ...                     0   \n",
       "144             -0.394734            -0.749374  ...                     0   \n",
       "145             -0.394734            -0.749374  ...                     0   \n",
       "146             -0.394734            -0.749374  ...                     0   \n",
       "\n",
       "     x6_None  x6_copper bromide  x6_trioctylphosphine  x6_water  \\\n",
       "0          1                  0                     0         0   \n",
       "1          1                  0                     0         0   \n",
       "2          1                  0                     0         0   \n",
       "3          1                  0                     0         0   \n",
       "4          1                  0                     0         0   \n",
       "..       ...                ...                   ...       ...   \n",
       "142        1                  0                     0         0   \n",
       "143        1                  0                     0         0   \n",
       "144        1                  0                     0         0   \n",
       "145        1                  0                     0         0   \n",
       "146        1                  0                     0         0   \n",
       "\n",
       "     x6_zinc iodide  diameter_nm  abs_nm  emission_nm  Unnamed: 63  \n",
       "0                 0       6.7000     622   680.000000    58.000000  \n",
       "1                 0       1.5000     445   568.000000   123.000000  \n",
       "2                 0       2.5000     543   589.000000    46.000000  \n",
       "3                 0       3.6750     431   590.944444   159.944444  \n",
       "4                 0       3.7500     432   590.944444   158.944444  \n",
       "..              ...          ...     ...          ...          ...  \n",
       "142               0       2.8015     500   550.000000    50.000000  \n",
       "143               0       8.3000     532   590.000000    58.000000  \n",
       "144               0       3.0745     549   590.944444    41.944444  \n",
       "145               0       3.1795     562   590.944444    28.944444  \n",
       "146               0       3.2500     570   590.944444    20.944444  \n",
       "\n",
       "[147 rows x 65 columns]"
      ]
     },
     "execution_count": 9,
     "metadata": {},
     "output_type": "execute_result"
    }
   ],
   "source": [
    "df = pd.read_csv('flo_dataset_augmented.csv')\n",
    "df"
   ]
  },
  {
   "cell_type": "code",
   "execution_count": 10,
   "metadata": {},
   "outputs": [],
   "source": [
    "# Input for ML models\n",
    "\n",
    "\n",
    "input_col = ['in_amount_mmol',\n",
    "             'p_amount_mmol',\n",
    "             'ligand_amount_mmol',\n",
    "             'first_sol_amount_ml',\n",
    "             'second_sol_amount_ml',\n",
    "             'other_1_amount_mmol',\n",
    "             'other_2_amount_mmol',\n",
    "             'total_volume_ml',\n",
    "             'temp_c',\n",
    "             'time_min',\n",
    "             'x0_indium acetate',\n",
    "             'x0_indium bromide',\n",
    "             'x0_indium chloride',\n",
    "             'x0_indium iodide',\n",
    "             'x0_indium myristate',\n",
    "             'x0_indium trifluoroacetate',\n",
    "             'x1_bis(trimethylsilyl)phosphine',\n",
    "             'x1_phosphorus trichloride',\n",
    "             'x1_tris(diethylamino)phosphine',\n",
    "             'x1_tris(dimethylamino)phosphine',\n",
    "             'x1_tris(trimethylgermyl)phosphine',\n",
    "             'x1_tris(trimethylsilyl)phosphine',\n",
    "             'x2_None',\n",
    "             'x2_lauric acid',\n",
    "             'x2_myristic acid',\n",
    "             'x2_oleic acid',\n",
    "             'x2_palmitic acid',\n",
    "             'x2_stearic acid',\n",
    "             'x3_dodecylamine',\n",
    "             'x3_octadecene',\n",
    "             'x3_oleylamine',\n",
    "             'x3_trioctylamine',\n",
    "             'x3_trioctylphosphine',\n",
    "             'x4_None',\n",
    "             'x4_dioctyl ether',\n",
    "             'x4_dioctylamine',\n",
    "             'x4_hexadecylamine',\n",
    "             'x4_octylamine',\n",
    "             'x4_oleylamine',\n",
    "             'x4_toluene',\n",
    "             'x4_trioctylphosphine',\n",
    "             'x4_trioctylphosphine oxide',\n",
    "             'x5_None',\n",
    "             'x5_acetic acid',\n",
    "             'x5_superhydride',\n",
    "             'x5_tetrabutylammonium myristate',\n",
    "             'x5_zinc bromide'\n",
    "             ,'x5_zinc chloride'\n",
    "             ,'x5_zinc iodide'\n",
    "             ,'x5_zinc oleate',\n",
    "             'x5_zinc stearate',\n",
    "             'x5_zinc undecylenate',\n",
    "             'x6_None',\n",
    "             'x6_copper bromide',\n",
    "             'x6_trioctylphosphine',\n",
    "             'x6_water',\n",
    "             'x6_zinc iodide'\n",
    "            ]\n",
    "#Three individual outputs:\n",
    "diameter = ['diameter_nm']\n",
    "emission = ['emission_nm']\n",
    "absorbance = ['abs_nm']\n",
    "\n",
    "#Splitting dataset\n",
    "\n",
    "X = df[input_col]\n",
    "\n",
    "Y_d = df[diameter]\n",
    "Y_e = df[emission]\n",
    "Y_a = df[absorbance]\n",
    "\n",
    "\n",
    "X_train_d, X_test_d, Y_train_d, Y_test_d = train_test_split(X, Y_d, test_size=0.15, random_state=45, shuffle=True)\n",
    "X_train_e, X_test_e, Y_train_e, Y_test_e = train_test_split(X, Y_e, test_size=0.15, random_state=45, shuffle=True)\n",
    "X_train_a, X_test_a, Y_train_a, Y_test_a = train_test_split(X, Y_a, test_size=0.15, random_state=45, shuffle=True)"
   ]
  },
  {
   "cell_type": "markdown",
   "metadata": {},
   "source": [
    "## D - Optimizing diameter model\n"
   ]
  },
  {
   "cell_type": "markdown",
   "metadata": {},
   "source": [
    "### 1D. Extra Trees"
   ]
  },
  {
   "cell_type": "code",
   "execution_count": 4,
   "metadata": {},
   "outputs": [
    {
     "name": "stderr",
     "output_type": "stream",
     "text": [
      "100%|██████████| 24/24 [07:18<00:00, 18.27s/it]"
     ]
    },
    {
     "name": "stdout",
     "output_type": "stream",
     "text": [
      "0.24854545454545443 2 12 25\n"
     ]
    },
    {
     "name": "stderr",
     "output_type": "stream",
     "text": [
      "\n"
     ]
    }
   ],
   "source": [
    "# This is a grid search for three parameters in the Extra Trees algorithm. \n",
    "# Parameters are: random_state, n_estimators, max_features.\n",
    "\n",
    "# This gives the best combination of the three parameters for the smallest mean squared error.\n",
    "\n",
    "min_mae = 99999\n",
    "min_i, min_j, min_k = 0, 0, 0\n",
    "for i in tqdm(range(1, 25)):\n",
    "    for j in range(1, 25):\n",
    "        for k in range(2, 50, 1):\n",
    "            ET_regr = ExtraTreesRegressor(n_estimators=i, \n",
    "                                            max_features=j,\n",
    "                                            random_state=k)\n",
    "            \n",
    "            ET_regr.fit(X_train_d, np.ravel(Y_train_d))\n",
    "            ET_Y_pred_d = pd.DataFrame(ET_regr.predict(X_test_d))\n",
    "\n",
    "            mae = mean_absolute_error(Y_test_d, ET_Y_pred_d)\n",
    "            if (min_mae > mae):\n",
    "                min_mae = mae\n",
    "                min_i = i\n",
    "                min_j = j\n",
    "                min_k = k\n",
    "            \n",
    "print(min_mae, min_i, min_j, min_k)"
   ]
  },
  {
   "cell_type": "markdown",
   "metadata": {},
   "source": [
    "### 2D. Decision Tree "
   ]
  },
  {
   "cell_type": "code",
   "execution_count": 5,
   "metadata": {},
   "outputs": [
    {
     "name": "stderr",
     "output_type": "stream",
     "text": [
      "100%|██████████| 29/29 [02:05<00:00,  4.31s/it]"
     ]
    },
    {
     "name": "stdout",
     "output_type": "stream",
     "text": [
      "0.2259389082166081 13 12 12\n"
     ]
    },
    {
     "name": "stderr",
     "output_type": "stream",
     "text": [
      "\n"
     ]
    }
   ],
   "source": [
    "# This is a grid search for three parameters in the Decision Trees algorithm. \n",
    "# Parameters are: max_depth, max_features, random_state.\n",
    "# This gives the best combination of the three parameters for the smallest mean squared error.\n",
    "\n",
    "min_mae = 99999\n",
    "\n",
    "min_i, min_j, min_k  = 0, 0, 0\n",
    "\n",
    "for i in tqdm(range(1, 30)):\n",
    "    for j in range(1, 30):\n",
    "        for k in range(4, 60, 2):\n",
    "            \n",
    "            DT_regr = DecisionTreeRegressor(max_depth=i,\n",
    "                                max_features=j,\n",
    "                                random_state=k)\n",
    "            \n",
    "            DT_regr.fit(X_train_d, np.ravel(Y_train_d))\n",
    "            DT_Y_pred_d = pd.DataFrame(DT_regr.predict(X_test_d))\n",
    "\n",
    "            mae = mean_absolute_error(Y_test_d, DT_Y_pred_d)\n",
    "            \n",
    "            if (min_mae > mae):\n",
    "                min_mae = mae\n",
    "                min_i = i\n",
    "                min_j = j\n",
    "                min_k = k\n",
    "            \n",
    "print(min_mae, min_i, min_j, min_k)"
   ]
  },
  {
   "cell_type": "markdown",
   "metadata": {},
   "source": [
    "### 3D. Random Forest"
   ]
  },
  {
   "cell_type": "code",
   "execution_count": 6,
   "metadata": {},
   "outputs": [
    {
     "name": "stderr",
     "output_type": "stream",
     "text": [
      "100%|██████████| 30/30 [19:56<00:00, 39.88s/it]"
     ]
    },
    {
     "name": "stdout",
     "output_type": "stream",
     "text": [
      "0.2417207994937688 10 8 36\n"
     ]
    },
    {
     "name": "stderr",
     "output_type": "stream",
     "text": [
      "\n"
     ]
    }
   ],
   "source": [
    "# This is a grid search for three parameters in the Random Forest algorithm. \n",
    "# Parameters are: max_depth, n_estimators, max_features.\n",
    "# Random_state is set to 45.\n",
    "# This gives the best combination of the three parameters for the smallest mean squared error.\n",
    "\n",
    "min_mae = 99999\n",
    "min_i, min_j, min_k = 0, 0, 0\n",
    "for i in tqdm(range(1, 31)):\n",
    "    for j in range(1, 31):\n",
    "        for k in range(2, 50, 1):\n",
    "            RF_regr = RandomForestRegressor(max_depth=i, \n",
    "                                            n_estimators=j, \n",
    "                                            max_features=k,\n",
    "                                            random_state=45)\n",
    "            RF_regr.fit(X_train_d, np.ravel(Y_train_d))\n",
    "            RF_Y_pred_d = pd.DataFrame(RF_regr.predict(X_test_d))\n",
    "\n",
    "            mae = mean_absolute_error(Y_test_d, RF_Y_pred_d)\n",
    "            if (min_mae > mae):\n",
    "                min_mae = mae\n",
    "                min_i = i\n",
    "                min_j = j\n",
    "                min_k = k\n",
    "            \n",
    "print(min_mae, min_i, min_j, min_k)"
   ]
  },
  {
   "cell_type": "markdown",
   "metadata": {},
   "source": [
    "### 4D. K Neighbors"
   ]
  },
  {
   "cell_type": "code",
   "execution_count": 7,
   "metadata": {},
   "outputs": [
    {
     "name": "stderr",
     "output_type": "stream",
     "text": [
      "100%|██████████| 39/39 [00:16<00:00,  2.39it/s]"
     ]
    },
    {
     "name": "stdout",
     "output_type": "stream",
     "text": [
      "0.34791567852437416 3 2\n"
     ]
    },
    {
     "name": "stderr",
     "output_type": "stream",
     "text": [
      "\n"
     ]
    }
   ],
   "source": [
    "min_mae = 99999\n",
    "min_i, min_j = 0, 0\n",
    "\n",
    "for i in tqdm(range(1, 40)):\n",
    "    for j in range(1, 40):\n",
    "\n",
    "        KNN_reg_d = KNeighborsRegressor(n_neighbors=i, \n",
    "                                      p=j).fit(X_train_d, np.ravel(Y_train_d))\n",
    "\n",
    "        KNN_Y_pred_d = KNN_reg_d.predict(X_test_d)\n",
    "\n",
    "        mae = mean_absolute_error(Y_test_d, KNN_Y_pred_d)\n",
    "\n",
    "        if (min_mae > mae):\n",
    "            min_mae = mae\n",
    "            min_i = i\n",
    "            min_j = j\n",
    "\n",
    "print(min_mae, min_i, min_j)"
   ]
  },
  {
   "cell_type": "markdown",
   "metadata": {},
   "source": [
    "### Saving Decision Tree model"
   ]
  },
  {
   "cell_type": "code",
   "execution_count": 4,
   "metadata": {},
   "outputs": [
    {
     "data": {
      "text/plain": [
       "['./model_SO_diameter_DecisionTree.joblib']"
      ]
     },
     "execution_count": 4,
     "metadata": {},
     "output_type": "execute_result"
    }
   ],
   "source": [
    "DT_regr_d = DecisionTreeRegressor(max_depth=13,\n",
    "                                max_features=12,\n",
    "                                random_state=12)\n",
    "DT_regr_d.fit(X_train_d, np.ravel(Y_train_d))\n",
    "DT_Y_pred_d = pd.DataFrame(DT_regr_d.predict(X_test_d))\n",
    "joblib.dump(DT_regr_d, \"./model_SO_diameter_DecisionTree.joblib\")"
   ]
  },
  {
   "cell_type": "markdown",
   "metadata": {},
   "source": [
    "## E - Optimizing emission model\n"
   ]
  },
  {
   "cell_type": "markdown",
   "metadata": {},
   "source": [
    "### 1E. Extra Trees"
   ]
  },
  {
   "cell_type": "code",
   "execution_count": 8,
   "metadata": {},
   "outputs": [
    {
     "name": "stderr",
     "output_type": "stream",
     "text": [
      "100%|██████████| 24/24 [08:28<00:00, 21.18s/it]"
     ]
    },
    {
     "name": "stdout",
     "output_type": "stream",
     "text": [
      "6.391304347826087 1 20 11\n"
     ]
    },
    {
     "name": "stderr",
     "output_type": "stream",
     "text": [
      "\n"
     ]
    }
   ],
   "source": [
    "# This is a grid search for three parameters in the Extra Trees algorithm. \n",
    "# Parameters are: random_state, n_estimators, max_features.\n",
    "\n",
    "# This gives the best combination of the three parameters for the smallest mean squared error.\n",
    "\n",
    "min_mae = 99999\n",
    "min_i, min_j, min_k = 0, 0, 0\n",
    "for i in tqdm(range(1, 25)):\n",
    "    for j in range(1, 25):\n",
    "        for k in range(2, 50, 1):\n",
    "            ET_regr_e = ExtraTreesRegressor(n_estimators=i, \n",
    "                                            max_features=j,\n",
    "                                            random_state=k)\n",
    "            \n",
    "            ET_regr_e.fit(X_train_e, np.ravel(Y_train_e))\n",
    "            ET_Y_pred_e = pd.DataFrame(ET_regr_e.predict(X_test_e))\n",
    "\n",
    "            mae = mean_absolute_error(Y_test_e, ET_Y_pred_e)\n",
    "            if (min_mae > mae):\n",
    "                min_mae = mae\n",
    "                min_i = i\n",
    "                min_j = j\n",
    "                min_k = k\n",
    "            \n",
    "print(min_mae, min_i, min_j, min_k)"
   ]
  },
  {
   "cell_type": "markdown",
   "metadata": {},
   "source": [
    "### 2E. Decision Trees"
   ]
  },
  {
   "cell_type": "code",
   "execution_count": 9,
   "metadata": {},
   "outputs": [
    {
     "name": "stderr",
     "output_type": "stream",
     "text": [
      "100%|██████████| 29/29 [02:25<00:00,  5.03s/it]"
     ]
    },
    {
     "name": "stdout",
     "output_type": "stream",
     "text": [
      "8.393719808695653 18 10 58\n"
     ]
    },
    {
     "name": "stderr",
     "output_type": "stream",
     "text": [
      "\n"
     ]
    }
   ],
   "source": [
    "# This is a grid search for three parameters in the Decision Trees algorithm. \n",
    "\n",
    "# This gives the best combination of the three parameters for the smallest mean squared error.\n",
    "\n",
    "min_mae = 99999\n",
    "\n",
    "min_i, min_j, min_k  = 0, 0, 0\n",
    "\n",
    "for i in tqdm(range(1, 30)):\n",
    "    for j in range(1, 30):\n",
    "        for k in range(4, 60, 2):\n",
    "            \n",
    "            DT_regr_e = DecisionTreeRegressor(max_depth=i,\n",
    "                                max_features=j,\n",
    "                                random_state=k)\n",
    "            \n",
    "            DT_regr_e.fit(X_train_e, np.ravel(Y_train_e))\n",
    "            DT_Y_pred_e = pd.DataFrame(DT_regr_e.predict(X_test_e))\n",
    "\n",
    "            mae = mean_absolute_error(Y_test_e, DT_Y_pred_e)\n",
    "            \n",
    "            if (min_mae > mae):\n",
    "                min_mae = mae\n",
    "                min_i = i\n",
    "                min_j = j\n",
    "                min_k = k\n",
    "            \n",
    "print(min_mae, min_i, min_j, min_k)"
   ]
  },
  {
   "cell_type": "markdown",
   "metadata": {},
   "source": [
    "### 3E. Random Forest"
   ]
  },
  {
   "cell_type": "code",
   "execution_count": 10,
   "metadata": {},
   "outputs": [
    {
     "name": "stderr",
     "output_type": "stream",
     "text": [
      "100%|██████████| 30/30 [17:40<00:00, 35.34s/it]"
     ]
    },
    {
     "name": "stdout",
     "output_type": "stream",
     "text": [
      "11.891304353623196 14 1 5\n"
     ]
    },
    {
     "name": "stderr",
     "output_type": "stream",
     "text": [
      "\n"
     ]
    }
   ],
   "source": [
    "min_mae = 99999\n",
    "min_i, min_j, min_k = 0, 0, 0\n",
    "for i in tqdm(range(1, 31)):\n",
    "    for j in range(1, 31):\n",
    "        for k in range(2, 50, 1):\n",
    "            RF_regr_e = RandomForestRegressor(max_depth=i, \n",
    "                                            n_estimators=j, \n",
    "                                            max_features=k,\n",
    "                                            random_state=45)\n",
    "            RF_regr_e.fit(X_train_e, np.ravel(Y_train_e))\n",
    "            RF_Y_pred_e = pd.DataFrame(RF_regr_e.predict(X_test_e))\n",
    "\n",
    "            mae = mean_absolute_error(Y_test_e, RF_Y_pred_e)\n",
    "            if (min_mae > mae):\n",
    "                min_mae = mae\n",
    "                min_i = i\n",
    "                min_j = j\n",
    "                min_k = k\n",
    "            \n",
    "print(min_mae, min_i, min_j, min_k)"
   ]
  },
  {
   "cell_type": "markdown",
   "metadata": {},
   "source": [
    "### 4E. K Neighbors"
   ]
  },
  {
   "cell_type": "code",
   "execution_count": 11,
   "metadata": {
    "scrolled": false
   },
   "outputs": [
    {
     "name": "stderr",
     "output_type": "stream",
     "text": [
      "100%|██████████| 39/39 [00:16<00:00,  2.39it/s]"
     ]
    },
    {
     "name": "stdout",
     "output_type": "stream",
     "text": [
      "9.741545895652177 1 6\n"
     ]
    },
    {
     "name": "stderr",
     "output_type": "stream",
     "text": [
      "\n"
     ]
    }
   ],
   "source": [
    "min_mae = 99999\n",
    "min_i, min_j = 0, 0\n",
    "\n",
    "for i in tqdm(range(1, 40)):\n",
    "    for j in range(1, 40):\n",
    "\n",
    "        KNN_reg_e = KNeighborsRegressor(n_neighbors=i, \n",
    "                                      p=j).fit(X_train_e, np.ravel(Y_train_e))\n",
    "\n",
    "        KNN_Y_pred_e = KNN_reg_e.predict(X_test_e)\n",
    "\n",
    "        mae = mean_absolute_error(Y_test_e, KNN_Y_pred_e)\n",
    "\n",
    "        if (min_mae > mae):\n",
    "            min_mae = mae\n",
    "            min_i = i\n",
    "            min_j = j\n",
    "\n",
    "print(min_mae, min_i, min_j)"
   ]
  },
  {
   "cell_type": "markdown",
   "metadata": {},
   "source": [
    "### Saving Extra Trees model"
   ]
  },
  {
   "cell_type": "code",
   "execution_count": 5,
   "metadata": {},
   "outputs": [
    {
     "data": {
      "text/plain": [
       "['./model_SO_emission_ExtraTrees.joblib']"
      ]
     },
     "execution_count": 5,
     "metadata": {},
     "output_type": "execute_result"
    }
   ],
   "source": [
    "ET_regr_e = ExtraTreesRegressor(n_estimators=1,\n",
    "                            max_features=20,     \n",
    "                            random_state=11).fit(X_train_e, np.ravel(Y_train_e))\n",
    "                  \n",
    "ET_Y_pred_e = ET_regr_e.predict(X_test_e)\n",
    "\n",
    "joblib.dump(ET_regr_e, \"./model_SO_emission_ExtraTrees.joblib\")"
   ]
  },
  {
   "cell_type": "markdown",
   "metadata": {},
   "source": [
    "## A - Optimizing absorption model\n"
   ]
  },
  {
   "cell_type": "markdown",
   "metadata": {},
   "source": [
    "### 1A: Extra Trees"
   ]
  },
  {
   "cell_type": "code",
   "execution_count": 12,
   "metadata": {},
   "outputs": [
    {
     "name": "stderr",
     "output_type": "stream",
     "text": [
      "100%|██████████| 29/29 [14:37<00:00, 30.27s/it]"
     ]
    },
    {
     "name": "stdout",
     "output_type": "stream",
     "text": [
      "17.608695652173914 1 21 46\n"
     ]
    },
    {
     "name": "stderr",
     "output_type": "stream",
     "text": [
      "\n"
     ]
    }
   ],
   "source": [
    "# This is a grid search for three parameters in the Extra Trees algorithm. \n",
    "# Parameters are: random_state, n_estimators, max_features.\n",
    "\n",
    "# This gives the best combination of the three parameters for the smallest mean squared error.\n",
    "\n",
    "min_mae = 99999\n",
    "min_i, min_j, min_k = 0, 0, 0\n",
    "for i in tqdm(range(1, 30)):\n",
    "    for j in range(1, 30):\n",
    "        for k in range(2, 50, 1):\n",
    "            ET_regr_a = ExtraTreesRegressor(n_estimators=i, \n",
    "                                            max_features=j,\n",
    "                                            random_state=k)\n",
    "            \n",
    "            ET_regr_a.fit(X_train_a, np.ravel(Y_train_a))\n",
    "            ET_Y_pred_a = pd.DataFrame(ET_regr_a.predict(X_test_a))\n",
    "\n",
    "            mae = mean_absolute_error(Y_test_a, ET_Y_pred_a)\n",
    "            if (min_mae > mae):\n",
    "                min_mae = mae\n",
    "                min_i = i\n",
    "                min_j = j\n",
    "                min_k = k\n",
    "            \n",
    "print(min_mae, min_i, min_j, min_k)"
   ]
  },
  {
   "cell_type": "markdown",
   "metadata": {},
   "source": [
    "### 2A. Decision Trees\n"
   ]
  },
  {
   "cell_type": "code",
   "execution_count": 13,
   "metadata": {},
   "outputs": [
    {
     "name": "stderr",
     "output_type": "stream",
     "text": [
      "100%|██████████| 29/29 [02:22<00:00,  4.90s/it]"
     ]
    },
    {
     "name": "stdout",
     "output_type": "stream",
     "text": [
      "20.956521739130434 19 5 42\n"
     ]
    },
    {
     "name": "stderr",
     "output_type": "stream",
     "text": [
      "\n"
     ]
    }
   ],
   "source": [
    "# This is a grid search for three parameters in the Decision Trees algorithm. \n",
    "\n",
    "# This gives the best combination of the three parameters for the smallest mean squared error.\n",
    "\n",
    "min_mae = 99999\n",
    "\n",
    "min_i, min_j, min_k  = 0, 0, 0\n",
    "\n",
    "for i in tqdm(range(1, 30)):\n",
    "    for j in range(1, 30):\n",
    "        for k in range(4, 60, 2):\n",
    "            \n",
    "            DT_regr_a = DecisionTreeRegressor(max_depth=i,\n",
    "                                max_features=j,\n",
    "                                random_state=k)\n",
    "            \n",
    "            DT_regr_a.fit(X_train_a, np.ravel(Y_train_a))\n",
    "            DT_Y_pred_a = pd.DataFrame(DT_regr_a.predict(X_test_a))\n",
    "\n",
    "            mae = mean_absolute_error(Y_test_a, DT_Y_pred_a)\n",
    "            \n",
    "            if (min_mae > mae):\n",
    "                min_mae = mae\n",
    "                min_i = i\n",
    "                min_j = j\n",
    "                min_k = k\n",
    "            \n",
    "print(min_mae, min_i, min_j, min_k)"
   ]
  },
  {
   "cell_type": "code",
   "execution_count": 22,
   "metadata": {},
   "outputs": [
    {
     "name": "stdout",
     "output_type": "stream",
     "text": [
      "diameter: r2: 0.7157594152974505 ; MSE: 1033.208754199327 ; RMSE: 32.14356474007398 ; MAE: 20.595959593939398\n"
     ]
    }
   ],
   "source": [
    "DT_regr_a = DecisionTreeRegressor(max_depth=20,\n",
    "                                max_features=20,\n",
    "                                random_state=12).fit(X_train_a, np.ravel(Y_train_a))\n",
    "                  \n",
    "DT_Y_pred_a = DT_regr_a.predict(X_test_a)\n",
    "\n",
    "\n",
    "DT_r2_a = r2_score(Y_test_a, DT_Y_pred_a)\n",
    "DT_MSE_a = mean_squared_error(Y_test_a, DT_Y_pred_a)\n",
    "DT_RMSE_a = mean_squared_error(Y_test_a, DT_Y_pred_a, squared=False)\n",
    "DT_MAE_a = mean_absolute_error(Y_test_a, DT_Y_pred_a)\n",
    "print('diameter:', 'r2:', DT_r2_a, '; MSE:', DT_MSE_a, '; RMSE:', DT_RMSE_a, '; MAE:', DT_MAE_a)"
   ]
  },
  {
   "cell_type": "markdown",
   "metadata": {},
   "source": [
    "### 3A. Random Forest"
   ]
  },
  {
   "cell_type": "code",
   "execution_count": 14,
   "metadata": {},
   "outputs": [
    {
     "name": "stderr",
     "output_type": "stream",
     "text": [
      "100%|██████████| 25/25 [08:59<00:00, 21.59s/it]"
     ]
    },
    {
     "name": "stdout",
     "output_type": "stream",
     "text": [
      "25.304347826086957 18 1 22\n"
     ]
    },
    {
     "name": "stderr",
     "output_type": "stream",
     "text": [
      "\n"
     ]
    }
   ],
   "source": [
    "min_mae = 99999\n",
    "min_i, min_j, min_k = 0, 0, 0\n",
    "for i in tqdm(range(1, 26)):\n",
    "    for j in range(1, 26):\n",
    "        for k in range(2, 40, 1):\n",
    "            RF_regr_a = RandomForestRegressor(max_depth=i, \n",
    "                                            n_estimators=j, \n",
    "                                            max_features=k,\n",
    "                                            random_state=45)\n",
    "            RF_regr_a.fit(X_train_a, np.ravel(Y_train_a))\n",
    "            RF_Y_pred_a = pd.DataFrame(RF_regr_a.predict(X_test_a))\n",
    "\n",
    "            mae = mean_absolute_error(Y_test_a, RF_Y_pred_a)\n",
    "            if (min_mae > mae):\n",
    "                min_mae = mae\n",
    "                min_i = i\n",
    "                min_j = j\n",
    "                min_k = k\n",
    "            \n",
    "print(min_mae, min_i, min_j, min_k)"
   ]
  },
  {
   "cell_type": "code",
   "execution_count": null,
   "metadata": {},
   "outputs": [],
   "source": []
  },
  {
   "cell_type": "markdown",
   "metadata": {},
   "source": [
    "### 4A. K Neighbors"
   ]
  },
  {
   "cell_type": "code",
   "execution_count": 15,
   "metadata": {},
   "outputs": [
    {
     "name": "stderr",
     "output_type": "stream",
     "text": [
      "100%|██████████| 39/39 [00:16<00:00,  2.43it/s]"
     ]
    },
    {
     "name": "stdout",
     "output_type": "stream",
     "text": [
      "21.695652173913043 1 2\n"
     ]
    },
    {
     "name": "stderr",
     "output_type": "stream",
     "text": [
      "\n"
     ]
    }
   ],
   "source": [
    "min_mae = 99999\n",
    "min_i, min_j = 0, 0\n",
    "\n",
    "for i in tqdm(range(1, 40)):\n",
    "    for j in range(1, 40):\n",
    "\n",
    "        KNN_reg_a = KNeighborsRegressor(n_neighbors=i, \n",
    "                                      p=j).fit(X_train_a, np.ravel(Y_train_a))\n",
    "\n",
    "        KNN_Y_pred_a = KNN_reg_a.predict(X_test_a)\n",
    "\n",
    "        mae = mean_absolute_error(Y_test_a, KNN_Y_pred_a)\n",
    "\n",
    "        if (min_mae > mae):\n",
    "            min_mae = mae\n",
    "            min_i = i\n",
    "            min_j = j\n",
    "\n",
    "print(min_mae, min_i, min_j)"
   ]
  },
  {
   "cell_type": "markdown",
   "metadata": {},
   "source": [
    "### Saving model"
   ]
  },
  {
   "cell_type": "code",
   "execution_count": 6,
   "metadata": {},
   "outputs": [
    {
     "data": {
      "text/plain": [
       "['./model_SO_abs_ExtraTrees.joblib']"
      ]
     },
     "execution_count": 6,
     "metadata": {},
     "output_type": "execute_result"
    }
   ],
   "source": [
    "ET_regr_a = ExtraTreesRegressor(n_estimators=1, \n",
    "                                max_features=21,\n",
    "                                random_state=46)\n",
    "            \n",
    "ET_regr_a.fit(X_train_a, np.ravel(Y_train_a))\n",
    "ET_Y_pred_a = pd.DataFrame(ET_regr_a.predict(X_test_a))\n",
    "\n",
    "joblib.dump(ET_regr_a, \"./model_SO_abs_ExtraTrees.joblib\")"
   ]
  },
  {
   "cell_type": "markdown",
   "metadata": {},
   "source": [
    "## Analyzing"
   ]
  },
  {
   "cell_type": "code",
   "execution_count": 7,
   "metadata": {
    "scrolled": true
   },
   "outputs": [
    {
     "name": "stdout",
     "output_type": "stream",
     "text": [
      "Outputs           R2    Mean absolute error    Mean squared error    Root mean squared error\n",
      "----------  --------  ---------------------  --------------------  -------------------------\n",
      "Diameter    0.792062               0.225939              0.203452                   0.451057\n",
      "Absorption  0.827261              17.6087              584.217                     24.1706\n",
      "Emission    0.859786               6.3913              201.435                     14.1928\n"
     ]
    }
   ],
   "source": [
    "## Diameter\n",
    "\n",
    "DT_regr_d = DecisionTreeRegressor(max_depth=13,\n",
    "                                max_features=12,\n",
    "                                random_state=12)\n",
    "DT_regr_d.fit(X_train_d, np.ravel(Y_train_d))\n",
    "DT_Y_pred_d = DT_regr_d.predict(X_test_d)\n",
    "\n",
    "D_mae = mean_absolute_error(Y_test_d, DT_Y_pred_d)\n",
    "D_r_2 = r2_score(Y_test_d, DT_Y_pred_d)\n",
    "D_mse = mean_squared_error(Y_test_d, DT_Y_pred_d)\n",
    "D_rmse = mean_squared_error(Y_test_d, DT_Y_pred_d, squared=False)\n",
    "\n",
    "## Emission\n",
    "\n",
    "ET_regr_e = ExtraTreesRegressor(n_estimators=1,\n",
    "                            max_features=20,     \n",
    "                            random_state=11).fit(X_train_e, np.ravel(Y_train_e))\n",
    "\n",
    "                  \n",
    "ET_Y_pred_e = ET_regr_e.predict(X_test_e)\n",
    "\n",
    "E_mae = mean_absolute_error(Y_test_e, ET_Y_pred_e)\n",
    "E_r_2 = r2_score(Y_test_e, ET_Y_pred_e)\n",
    "E_mse = mean_squared_error(Y_test_e, ET_Y_pred_e)\n",
    "E_rmse = mean_squared_error(Y_test_e, ET_Y_pred_e, squared=False)\n",
    "\n",
    "\n",
    "### Absorption\n",
    "\n",
    "ET_regr_a = ExtraTreesRegressor(n_estimators=1, \n",
    "                                max_features=21,\n",
    "                                random_state=46)\n",
    "ET_regr_a.fit(X_train_a, np.ravel(Y_train_a))\n",
    "ET_Y_pred_a = ET_regr_a.predict(X_test_a)\n",
    "\n",
    "A_mae = mean_absolute_error(Y_test_a, ET_Y_pred_a)\n",
    "A_r_2 = r2_score(Y_test_a, ET_Y_pred_a)\n",
    "A_mse = mean_squared_error(Y_test_a, ET_Y_pred_a)\n",
    "A_rmse = mean_squared_error(Y_test_a, ET_Y_pred_a, squared=False)\n",
    "\n",
    "\n",
    "from tabulate import tabulate\n",
    "\n",
    "d = [ [\"Diameter\", D_r_2, D_mae, D_mse, D_rmse],\n",
    "     [\"Absorption\", A_r_2, A_mae, A_mse, A_rmse],\n",
    "     [\"Emission\", E_r_2, E_mae, E_mse, E_rmse]]\n",
    "\n",
    "print(tabulate(d, headers=[\"Outputs\", \"R2\", \"Mean absolute error\", \"Mean squared error\", \"Root mean squared error\"]))"
   ]
  },
  {
   "cell_type": "code",
   "execution_count": 9,
   "metadata": {},
   "outputs": [
    {
     "data": {
      "image/png": "[encoded data removed]",
      "text/plain": [
       "<Figure size 1440x360 with 3 Axes>"
      ]
     },
     "metadata": {
      "needs_background": "light"
     },
     "output_type": "display_data"
    }
   ],
   "source": [
    "fig, (ax1, ax2, ax3) = plt.subplots(1, 3, figsize=(20,5))\n",
    "fig.suptitle('Single Outputs', fontsize=25)\n",
    "\n",
    "ax1.plot(DT_Y_pred_d, Y_test_d, 'o')\n",
    "ax1.plot([1.5,6],[1.5,6], color = 'r')\n",
    "ax1.set_title('Diameter')\n",
    "ax1.set(xlabel='Predicted Values (nm)', ylabel='Observed Values (nm)')\n",
    "\n",
    "ax2.plot(ET_Y_pred_a, Y_test_a, 'o')\n",
    "ax2.plot([400,650],[400,650], color = 'r')\n",
    "ax2.set_title('Absorption')\n",
    "ax2.set(xlabel='Predicted Values (nm)', ylabel='Predicted Values (nm)')\n",
    "\n",
    "ax3.plot(ET_Y_pred_e, Y_test_e, 'o')\n",
    "ax3.plot([450,700],[450,700], color = 'r')\n",
    "ax3.set_title('Emission')\n",
    "ax3.set(xlabel='Predicted Values (nm)', ylabel='Observed Values (nm)')\n",
    "\n",
    "\n",
    "fig.tight_layout()"
   ]
  },
  {
   "cell_type": "markdown",
   "metadata": {},
   "source": [
    "## Feature importance"
   ]
  },
  {
   "cell_type": "markdown",
   "metadata": {},
   "source": [
    "### For diameter prediction"
   ]
  },
  {
   "cell_type": "code",
   "execution_count": 11,
   "metadata": {},
   "outputs": [
    {
     "data": {
      "text/plain": [
       "[('time_min', 0.296901575271133),\n",
       " ('temp_c', 0.20054020061439295),\n",
       " ('x2_myristic acid', 0.12563236053458512),\n",
       " ('total_volume_ml', 0.07531671387859877),\n",
       " ('x2_stearic acid', 0.04803669012541793),\n",
       " ('x5_zinc iodide', 0.04107413086775085),\n",
       " ('x0_indium chloride', 0.03841583749769048),\n",
       " ('x1_tris(dimethylamino)phosphine', 0.03215342936204424),\n",
       " ('x3_trioctylamine', 0.020790342666004297),\n",
       " ('ligand_amount_mmol', 0.01900901554662102),\n",
       " ('x5_zinc bromide', 0.01855934280316017),\n",
       " ('p_amount_mmol', 0.017595269696790525),\n",
       " ('in_amount_mmol', 0.016128762789457036),\n",
       " ('x5_zinc oleate', 0.014738798922348775),\n",
       " ('other_2_amount_mmol', 0.014291705740191866),\n",
       " ('x4_oleylamine', 0.012433375763710891),\n",
       " ('x6_None', 0.002600181872361178),\n",
       " ('x4_None', 0.0013278752309520052),\n",
       " ('x1_tris(trimethylgermyl)phosphine', 0.0012306176251147063),\n",
       " ('x0_indium acetate', 0.0010543857828360806),\n",
       " ('other_1_amount_mmol', 0.0008935051702307117),\n",
       " ('second_sol_amount_ml', 0.0005880769882614974),\n",
       " ('x5_None', 0.0004405477634304989),\n",
       " ('x6_trioctylphosphine', 0.00023340543222352678),\n",
       " ('x1_tris(trimethylsilyl)phosphine', 1.3852054691834527e-05),\n",
       " ('first_sol_amount_ml', 0.0),\n",
       " ('x0_indium bromide', 0.0),\n",
       " ('x0_indium iodide', 0.0),\n",
       " ('x0_indium myristate', 0.0),\n",
       " ('x0_indium trifluoroacetate', 0.0),\n",
       " ('x1_bis(trimethylsilyl)phosphine', 0.0),\n",
       " ('x1_phosphorus trichloride', 0.0),\n",
       " ('x1_tris(diethylamino)phosphine', 0.0),\n",
       " ('x2_None', 0.0),\n",
       " ('x2_lauric acid', 0.0),\n",
       " ('x2_oleic acid', 0.0),\n",
       " ('x2_palmitic acid', 0.0),\n",
       " ('x3_dodecylamine', 0.0),\n",
       " ('x3_octadecene', 0.0),\n",
       " ('x3_oleylamine', 0.0),\n",
       " ('x3_trioctylphosphine', 0.0),\n",
       " ('x4_dioctyl ether', 0.0),\n",
       " ('x4_dioctylamine', 0.0),\n",
       " ('x4_hexadecylamine', 0.0),\n",
       " ('x4_octylamine', 0.0),\n",
       " ('x4_toluene', 0.0),\n",
       " ('x4_trioctylphosphine', 0.0),\n",
       " ('x4_trioctylphosphine oxide', 0.0),\n",
       " ('x5_acetic acid', 0.0),\n",
       " ('x5_superhydride', 0.0),\n",
       " ('x5_tetrabutylammonium myristate', 0.0),\n",
       " ('x5_zinc chloride', 0.0),\n",
       " ('x5_zinc stearate', 0.0),\n",
       " ('x5_zinc undecylenate', 0.0),\n",
       " ('x6_copper bromide', 0.0),\n",
       " ('x6_water', 0.0),\n",
       " ('x6_zinc iodide', 0.0)]"
      ]
     },
     "execution_count": 11,
     "metadata": {},
     "output_type": "execute_result"
    }
   ],
   "source": [
    "importance_dict_d = dict()\n",
    "for i in range(0,57):\n",
    "    importance_dict_d[input_col[i]] = DT_regr_d.feature_importances_[i]\n",
    "\n",
    "sorted_importance_d = sorted(importance_dict_d.items(), key=lambda x: x[1], reverse=True)\n",
    "\n",
    "sorted_importance_d\n"
   ]
  },
  {
   "cell_type": "code",
   "execution_count": 12,
   "metadata": {},
   "outputs": [
    {
     "data": {
      "image/png": "[encoded data removed]",
      "text/plain": [
       "<Figure size 1490.4x595.44 with 1 Axes>"
      ]
     },
     "metadata": {
      "needs_background": "light"
     },
     "output_type": "display_data"
    }
   ],
   "source": [
    "top7_d = DataFrame(sorted_importance_d[0:7], columns=['features', 'importance score'])\n",
    "\n",
    "others_d = DataFrame(sorted_importance_d[7:], columns=['features', 'importance score'])\n",
    "\n",
    "\n",
    "import seaborn as sns\n",
    "\n",
    "a4_dims = (20.7, 8.27)\n",
    "fig, ax = plt.subplots(figsize=a4_dims)\n",
    "sns.set_theme(style=\"whitegrid\")\n",
    "\n",
    "ax = sns.barplot(x=\"features\", y=\"importance score\", data=top7_d)"
   ]
  },
  {
   "cell_type": "markdown",
   "metadata": {},
   "source": [
    "### Emission prediction"
   ]
  },
  {
   "cell_type": "code",
   "execution_count": 14,
   "metadata": {},
   "outputs": [
    {
     "data": {
      "text/plain": [
       "[('x5_zinc oleate', 0.19095778989389103),\n",
       " ('x4_oleylamine', 0.10433220864207085),\n",
       " ('temp_c', 0.09746311713045118),\n",
       " ('x2_myristic acid', 0.08650807762879952),\n",
       " ('x5_zinc iodide', 0.07711005668396828),\n",
       " ('x2_None', 0.05888186148209227),\n",
       " ('time_min', 0.05135714542747361),\n",
       " ('x5_zinc chloride', 0.040900063262798374),\n",
       " ('x2_stearic acid', 0.039700738598688966),\n",
       " ('x5_zinc bromide', 0.03925076733134555),\n",
       " ('first_sol_amount_ml', 0.03485665018782931),\n",
       " ('x5_superhydride', 0.02910665141622256),\n",
       " ('in_amount_mmol', 0.027279418665212926),\n",
       " ('x6_trioctylphosphine', 0.020665136063960265),\n",
       " ('x0_indium chloride', 0.013709310336861607),\n",
       " ('x0_indium iodide', 0.013531200187969801),\n",
       " ('x6_None', 0.01316205021703738),\n",
       " ('other_1_amount_mmol', 0.013124219680691907),\n",
       " ('x1_tris(dimethylamino)phosphine', 0.012160707713205644),\n",
       " ('other_2_amount_mmol', 0.009175755812837676),\n",
       " ('ligand_amount_mmol', 0.008718459920865331),\n",
       " ('p_amount_mmol', 0.0052871850323452626),\n",
       " ('x4_octylamine', 0.0034508517030872603),\n",
       " ('x3_oleylamine', 0.0031623407226981596),\n",
       " ('x5_None', 0.0018177805894607738),\n",
       " ('total_volume_ml', 0.0016369142234797895),\n",
       " ('x1_tris(trimethylgermyl)phosphine', 0.0013824221382829024),\n",
       " ('x1_tris(diethylamino)phosphine', 0.0009371781077302261),\n",
       " ('x4_None', 0.00036587252675146194),\n",
       " ('second_sol_amount_ml', 6.930535717984961e-06),\n",
       " ('x0_indium trifluoroacetate', 8.686153263872757e-07),\n",
       " ('x0_indium acetate', 2.6952084583918263e-07),\n",
       " ('x0_indium bromide', 0.0),\n",
       " ('x0_indium myristate', 0.0),\n",
       " ('x1_bis(trimethylsilyl)phosphine', 0.0),\n",
       " ('x1_phosphorus trichloride', 0.0),\n",
       " ('x1_tris(trimethylsilyl)phosphine', 0.0),\n",
       " ('x2_lauric acid', 0.0),\n",
       " ('x2_oleic acid', 0.0),\n",
       " ('x2_palmitic acid', 0.0),\n",
       " ('x3_dodecylamine', 0.0),\n",
       " ('x3_octadecene', 0.0),\n",
       " ('x3_trioctylamine', 0.0),\n",
       " ('x3_trioctylphosphine', 0.0),\n",
       " ('x4_dioctyl ether', 0.0),\n",
       " ('x4_dioctylamine', 0.0),\n",
       " ('x4_hexadecylamine', 0.0),\n",
       " ('x4_toluene', 0.0),\n",
       " ('x4_trioctylphosphine', 0.0),\n",
       " ('x4_trioctylphosphine oxide', 0.0),\n",
       " ('x5_acetic acid', 0.0),\n",
       " ('x5_tetrabutylammonium myristate', 0.0),\n",
       " ('x5_zinc stearate', 0.0),\n",
       " ('x5_zinc undecylenate', 0.0),\n",
       " ('x6_copper bromide', 0.0),\n",
       " ('x6_water', 0.0),\n",
       " ('x6_zinc iodide', 0.0)]"
      ]
     },
     "execution_count": 14,
     "metadata": {},
     "output_type": "execute_result"
    }
   ],
   "source": [
    "importance_dict_e = dict()\n",
    "for i in range(0,57):\n",
    "    importance_dict_e[input_col[i]] = ET_regr_e.feature_importances_[i]\n",
    "\n",
    "sorted_importance_e = sorted(importance_dict_e.items(), key=lambda x: x[1], reverse=True)\n",
    "\n",
    "\n",
    "sorted_importance_e\n"
   ]
  },
  {
   "cell_type": "code",
   "execution_count": 15,
   "metadata": {},
   "outputs": [
    {
     "data": {
      "image/png": "[encoded data removed]",
      "text/plain": [
       "<Figure size 1490.4x595.44 with 1 Axes>"
      ]
     },
     "metadata": {},
     "output_type": "display_data"
    }
   ],
   "source": [
    "top7_e = DataFrame(sorted_importance_e[0:7], columns=['features', 'importance score'])\n",
    "\n",
    "others_e = DataFrame(sorted_importance_e[7:], columns=['features', 'importance score'])\n",
    "\n",
    "# combined_others2 = pd.DataFrame(data = {\n",
    "#     'features' : ['others'],\n",
    "#     'importance score' : [others2['importance score'].sum()]\n",
    "# })\n",
    "\n",
    "# #combining top 10 with others\n",
    "# imp_score2 = pd.concat([top7, combined_others2])\n",
    "\n",
    "import seaborn as sns\n",
    "\n",
    "a4_dims = (20.7, 8.27)\n",
    "fig, ax = plt.subplots(figsize=a4_dims)\n",
    "sns.set_theme(style=\"whitegrid\")\n",
    "\n",
    "ax = sns.barplot(x=\"features\", y=\"importance score\", data=top7_e)"
   ]
  },
  {
   "cell_type": "markdown",
   "metadata": {},
   "source": [
    "### Absorption prediction"
   ]
  },
  {
   "cell_type": "code",
   "execution_count": 17,
   "metadata": {},
   "outputs": [
    {
     "data": {
      "text/plain": [
       "[('temp_c', 0.15930045007504934),\n",
       " ('time_min', 0.14077959100040388),\n",
       " ('x5_zinc iodide', 0.11334348271275517),\n",
       " ('x6_None', 0.0639511876815259),\n",
       " ('x5_zinc bromide', 0.058813037491885434),\n",
       " ('x3_trioctylphosphine', 0.04884411605908868),\n",
       " ('p_amount_mmol', 0.045569451098463075),\n",
       " ('x4_None', 0.04405653028219348),\n",
       " ('x2_stearic acid', 0.03777156284488139),\n",
       " ('ligand_amount_mmol', 0.035889309885710374),\n",
       " ('x5_None', 0.030949129002546618),\n",
       " ('x2_oleic acid', 0.029679652401006132),\n",
       " ('x5_zinc oleate', 0.02855758296451797),\n",
       " ('x0_indium iodide', 0.025832725534215093),\n",
       " ('in_amount_mmol', 0.018172031881505776),\n",
       " ('x4_oleylamine', 0.01594613972005549),\n",
       " ('x4_trioctylphosphine', 0.015678009927441686),\n",
       " ('x4_toluene', 0.013565585362537592),\n",
       " ('x2_lauric acid', 0.01343610967501738),\n",
       " ('total_volume_ml', 0.013313948938806337),\n",
       " ('other_1_amount_mmol', 0.011026488736176922),\n",
       " ('x1_tris(trimethylsilyl)phosphine', 0.010473698981506064),\n",
       " ('x3_oleylamine', 0.007514506231196505),\n",
       " ('first_sol_amount_ml', 0.005240834788083598),\n",
       " ('x1_tris(dimethylamino)phosphine', 0.004112195089162054),\n",
       " ('second_sol_amount_ml', 0.002688794418082299),\n",
       " ('x0_indium acetate', 0.0024205882090588358),\n",
       " ('x5_zinc chloride', 0.0019690842346168466),\n",
       " ('x0_indium chloride', 0.0004605885614542637),\n",
       " ('x4_octylamine', 0.0002271146752734554),\n",
       " ('x2_palmitic acid', 0.00021377168810129927),\n",
       " ('x2_myristic acid', 0.00019815755417595054),\n",
       " ('x0_indium myristate', 4.542293505294607e-06),\n",
       " ('other_2_amount_mmol', 0.0),\n",
       " ('x0_indium bromide', 0.0),\n",
       " ('x0_indium trifluoroacetate', 0.0),\n",
       " ('x1_bis(trimethylsilyl)phosphine', 0.0),\n",
       " ('x1_phosphorus trichloride', 0.0),\n",
       " ('x1_tris(diethylamino)phosphine', 0.0),\n",
       " ('x1_tris(trimethylgermyl)phosphine', 0.0),\n",
       " ('x2_None', 0.0),\n",
       " ('x3_dodecylamine', 0.0),\n",
       " ('x3_octadecene', 0.0),\n",
       " ('x3_trioctylamine', 0.0),\n",
       " ('x4_dioctyl ether', 0.0),\n",
       " ('x4_dioctylamine', 0.0),\n",
       " ('x4_hexadecylamine', 0.0),\n",
       " ('x4_trioctylphosphine oxide', 0.0),\n",
       " ('x5_acetic acid', 0.0),\n",
       " ('x5_superhydride', 0.0),\n",
       " ('x5_tetrabutylammonium myristate', 0.0),\n",
       " ('x5_zinc stearate', 0.0),\n",
       " ('x5_zinc undecylenate', 0.0),\n",
       " ('x6_copper bromide', 0.0),\n",
       " ('x6_trioctylphosphine', 0.0),\n",
       " ('x6_water', 0.0),\n",
       " ('x6_zinc iodide', 0.0)]"
      ]
     },
     "execution_count": 17,
     "metadata": {},
     "output_type": "execute_result"
    }
   ],
   "source": [
    "importance_dict_a = dict()\n",
    "for i in range(0,57):\n",
    "    importance_dict_a[input_col[i]] = ET_regr_a.feature_importances_[i]\n",
    "\n",
    "sorted_importance_a = sorted(importance_dict_a.items(), key=lambda x: x[1], reverse=True)\n",
    "\n",
    "sorted_importance_a"
   ]
  },
  {
   "cell_type": "code",
   "execution_count": 18,
   "metadata": {},
   "outputs": [
    {
     "data": {
      "image/png": "[encoded data removed]",
      "text/plain": [
       "<Figure size 1490.4x595.44 with 1 Axes>"
      ]
     },
     "metadata": {},
     "output_type": "display_data"
    }
   ],
   "source": [
    "top7_a = DataFrame(sorted_importance_a[0:7], columns=['features', 'importance score'])\n",
    "\n",
    "others_a = DataFrame(sorted_importance_a[7:], columns=['features', 'importance score'])\n",
    "\n",
    "import seaborn as sns\n",
    "\n",
    "a4_dims = (20.7, 8.27)\n",
    "fig, ax = plt.subplots(figsize=a4_dims)\n",
    "sns.set_theme(style=\"whitegrid\")\n",
    "\n",
    "ax = sns.barplot(x=\"features\", y=\"importance score\", data=top7_a)"
   ]
  },
  {
   "cell_type": "code",
   "execution_count": 19,
   "metadata": {},
   "outputs": [
    {
     "data": {
      "text/plain": [
       "{'in_amount_mmol': 0.018172031881505776,\n",
       " 'p_amount_mmol': 0.045569451098463075,\n",
       " 'ligand_amount_mmol': 0.035889309885710374,\n",
       " 'first_sol_amount_ml': 0.005240834788083598,\n",
       " 'second_sol_amount_ml': 0.002688794418082299,\n",
       " 'other_1_amount_mmol': 0.011026488736176922,\n",
       " 'other_2_amount_mmol': 0.0,\n",
       " 'total_volume_ml': 0.013313948938806337,\n",
       " 'temp_c': 0.15930045007504934,\n",
       " 'time_min': 0.14077959100040388,\n",
       " 'x0_indium acetate': 0.0024205882090588358,\n",
       " 'x0_indium bromide': 0.0,\n",
       " 'x0_indium chloride': 0.0004605885614542637,\n",
       " 'x0_indium iodide': 0.025832725534215093,\n",
       " 'x0_indium myristate': 4.542293505294607e-06,\n",
       " 'x0_indium trifluoroacetate': 0.0,\n",
       " 'x1_bis(trimethylsilyl)phosphine': 0.0,\n",
       " 'x1_phosphorus trichloride': 0.0,\n",
       " 'x1_tris(diethylamino)phosphine': 0.0,\n",
       " 'x1_tris(dimethylamino)phosphine': 0.004112195089162054,\n",
       " 'x1_tris(trimethylgermyl)phosphine': 0.0,\n",
       " 'x1_tris(trimethylsilyl)phosphine': 0.010473698981506064,\n",
       " 'x2_None': 0.0,\n",
       " 'x2_lauric acid': 0.01343610967501738,\n",
       " 'x2_myristic acid': 0.00019815755417595054,\n",
       " 'x2_oleic acid': 0.029679652401006132,\n",
       " 'x2_palmitic acid': 0.00021377168810129927,\n",
       " 'x2_stearic acid': 0.03777156284488139,\n",
       " 'x3_dodecylamine': 0.0,\n",
       " 'x3_octadecene': 0.0,\n",
       " 'x3_oleylamine': 0.007514506231196505,\n",
       " 'x3_trioctylamine': 0.0,\n",
       " 'x3_trioctylphosphine': 0.04884411605908868,\n",
       " 'x4_None': 0.04405653028219348,\n",
       " 'x4_dioctyl ether': 0.0,\n",
       " 'x4_dioctylamine': 0.0,\n",
       " 'x4_hexadecylamine': 0.0,\n",
       " 'x4_octylamine': 0.0002271146752734554,\n",
       " 'x4_oleylamine': 0.01594613972005549,\n",
       " 'x4_toluene': 0.013565585362537592,\n",
       " 'x4_trioctylphosphine': 0.015678009927441686,\n",
       " 'x4_trioctylphosphine oxide': 0.0,\n",
       " 'x5_None': 0.030949129002546618,\n",
       " 'x5_acetic acid': 0.0,\n",
       " 'x5_superhydride': 0.0,\n",
       " 'x5_tetrabutylammonium myristate': 0.0,\n",
       " 'x5_zinc bromide': 0.058813037491885434,\n",
       " 'x5_zinc chloride': 0.0019690842346168466,\n",
       " 'x5_zinc iodide': 0.11334348271275517,\n",
       " 'x5_zinc oleate': 0.02855758296451797,\n",
       " 'x5_zinc stearate': 0.0,\n",
       " 'x5_zinc undecylenate': 0.0,\n",
       " 'x6_None': 0.0639511876815259,\n",
       " 'x6_copper bromide': 0.0,\n",
       " 'x6_trioctylphosphine': 0.0,\n",
       " 'x6_water': 0.0,\n",
       " 'x6_zinc iodide': 0.0}"
      ]
     },
     "execution_count": 19,
     "metadata": {},
     "output_type": "execute_result"
    }
   ],
   "source": [
    "importance_dict_a"
   ]
  },
  {
   "cell_type": "markdown",
   "metadata": {},
   "source": [
    "### Combine\n"
   ]
  },
  {
   "cell_type": "code",
   "execution_count": 20,
   "metadata": {},
   "outputs": [],
   "source": [
    "sorted_a = sorted(importance_dict_a.items(), key=lambda x: x[0], reverse=False)\n",
    "sorted_d = sorted(importance_dict_d.items(), key=lambda x: x[0], reverse=False)\n",
    "sorted_e = sorted(importance_dict_e.items(), key=lambda x: x[0], reverse=False)\n"
   ]
  },
  {
   "cell_type": "code",
   "execution_count": 21,
   "metadata": {
    "scrolled": true
   },
   "outputs": [
    {
     "data": {
      "text/plain": [
       "[('first_sol_amount_ml', 0.0),\n",
       " ('in_amount_mmol', 0.016128762789457036),\n",
       " ('ligand_amount_mmol', 0.01900901554662102),\n",
       " ('other_1_amount_mmol', 0.0008935051702307117),\n",
       " ('other_2_amount_mmol', 0.014291705740191866),\n",
       " ('p_amount_mmol', 0.017595269696790525),\n",
       " ('second_sol_amount_ml', 0.0005880769882614974),\n",
       " ('temp_c', 0.20054020061439295),\n",
       " ('time_min', 0.296901575271133),\n",
       " ('total_volume_ml', 0.07531671387859877),\n",
       " ('x0_indium acetate', 0.0010543857828360806),\n",
       " ('x0_indium bromide', 0.0),\n",
       " ('x0_indium chloride', 0.03841583749769048),\n",
       " ('x0_indium iodide', 0.0),\n",
       " ('x0_indium myristate', 0.0),\n",
       " ('x0_indium trifluoroacetate', 0.0),\n",
       " ('x1_bis(trimethylsilyl)phosphine', 0.0),\n",
       " ('x1_phosphorus trichloride', 0.0),\n",
       " ('x1_tris(diethylamino)phosphine', 0.0),\n",
       " ('x1_tris(dimethylamino)phosphine', 0.03215342936204424),\n",
       " ('x1_tris(trimethylgermyl)phosphine', 0.0012306176251147063),\n",
       " ('x1_tris(trimethylsilyl)phosphine', 1.3852054691834527e-05),\n",
       " ('x2_None', 0.0),\n",
       " ('x2_lauric acid', 0.0),\n",
       " ('x2_myristic acid', 0.12563236053458512),\n",
       " ('x2_oleic acid', 0.0),\n",
       " ('x2_palmitic acid', 0.0),\n",
       " ('x2_stearic acid', 0.04803669012541793),\n",
       " ('x3_dodecylamine', 0.0),\n",
       " ('x3_octadecene', 0.0),\n",
       " ('x3_oleylamine', 0.0),\n",
       " ('x3_trioctylamine', 0.020790342666004297),\n",
       " ('x3_trioctylphosphine', 0.0),\n",
       " ('x4_None', 0.0013278752309520052),\n",
       " ('x4_dioctyl ether', 0.0),\n",
       " ('x4_dioctylamine', 0.0),\n",
       " ('x4_hexadecylamine', 0.0),\n",
       " ('x4_octylamine', 0.0),\n",
       " ('x4_oleylamine', 0.012433375763710891),\n",
       " ('x4_toluene', 0.0),\n",
       " ('x4_trioctylphosphine', 0.0),\n",
       " ('x4_trioctylphosphine oxide', 0.0),\n",
       " ('x5_None', 0.0004405477634304989),\n",
       " ('x5_acetic acid', 0.0),\n",
       " ('x5_superhydride', 0.0),\n",
       " ('x5_tetrabutylammonium myristate', 0.0),\n",
       " ('x5_zinc bromide', 0.01855934280316017),\n",
       " ('x5_zinc chloride', 0.0),\n",
       " ('x5_zinc iodide', 0.04107413086775085),\n",
       " ('x5_zinc oleate', 0.014738798922348775),\n",
       " ('x5_zinc stearate', 0.0),\n",
       " ('x5_zinc undecylenate', 0.0),\n",
       " ('x6_None', 0.002600181872361178),\n",
       " ('x6_copper bromide', 0.0),\n",
       " ('x6_trioctylphosphine', 0.00023340543222352678),\n",
       " ('x6_water', 0.0),\n",
       " ('x6_zinc iodide', 0.0)]"
      ]
     },
     "execution_count": 21,
     "metadata": {},
     "output_type": "execute_result"
    }
   ],
   "source": [
    "sorted_d "
   ]
  },
  {
   "cell_type": "code",
   "execution_count": 22,
   "metadata": {},
   "outputs": [],
   "source": [
    "combined_importance = dict()"
   ]
  },
  {
   "cell_type": "code",
   "execution_count": 25,
   "metadata": {},
   "outputs": [
    {
     "data": {
      "text/plain": [
       "{'first_sol_amount_ml': 0.04009748497591291,\n",
       " 'in_amount_mmol': 0.061580213336175735,\n",
       " 'ligand_amount_mmol': 0.06361678535319673,\n",
       " 'other_1_amount_mmol': 0.025044213587099542,\n",
       " 'other_2_amount_mmol': 0.02346746155302954,\n",
       " 'p_amount_mmol': 0.06845190582759886,\n",
       " 'second_sol_amount_ml': 0.003283801942061781,\n",
       " 'temp_c': 0.45730376781989346,\n",
       " 'time_min': 0.48903831169901046,\n",
       " 'total_volume_ml': 0.0902675770408849,\n",
       " 'x0_indium acetate': 0.0034752435127407555,\n",
       " 'x0_indium bromide': 0.0,\n",
       " 'x0_indium chloride': 0.05258573639600635,\n",
       " 'x0_indium iodide': 0.039363925722184896,\n",
       " 'x0_indium myristate': 4.542293505294607e-06,\n",
       " 'x0_indium trifluoroacetate': 8.686153263872757e-07,\n",
       " 'x1_bis(trimethylsilyl)phosphine': 0.0,\n",
       " 'x1_phosphorus trichloride': 0.0,\n",
       " 'x1_tris(diethylamino)phosphine': 0.0009371781077302261,\n",
       " 'x1_tris(dimethylamino)phosphine': 0.04842633216441194,\n",
       " 'x1_tris(trimethylgermyl)phosphine': 0.0026130397633976087,\n",
       " 'x1_tris(trimethylsilyl)phosphine': 0.010487551036197898,\n",
       " 'x2_None': 0.05888186148209227,\n",
       " 'x2_lauric acid': 0.01343610967501738,\n",
       " 'x2_myristic acid': 0.21233859571756059,\n",
       " 'x2_oleic acid': 0.029679652401006132,\n",
       " 'x2_palmitic acid': 0.00021377168810129927,\n",
       " 'x2_stearic acid': 0.1255089915689883,\n",
       " 'x3_dodecylamine': 0.0,\n",
       " 'x3_octadecene': 0.0,\n",
       " 'x3_oleylamine': 0.010676846953894665,\n",
       " 'x3_trioctylamine': 0.020790342666004297,\n",
       " 'x3_trioctylphosphine': 0.04884411605908868,\n",
       " 'x4_None': 0.04575027803989695,\n",
       " 'x4_dioctyl ether': 0.0,\n",
       " 'x4_dioctylamine': 0.0,\n",
       " 'x4_hexadecylamine': 0.0,\n",
       " 'x4_octylamine': 0.0036779663783607155,\n",
       " 'x4_oleylamine': 0.13271172412583723,\n",
       " 'x4_toluene': 0.013565585362537592,\n",
       " 'x4_trioctylphosphine': 0.015678009927441686,\n",
       " 'x4_trioctylphosphine oxide': 0.0,\n",
       " 'x5_None': 0.03320745735543789,\n",
       " 'x5_acetic acid': 0.0,\n",
       " 'x5_superhydride': 0.02910665141622256,\n",
       " 'x5_tetrabutylammonium myristate': 0.0,\n",
       " 'x5_zinc bromide': 0.11662314762639116,\n",
       " 'x5_zinc chloride': 0.04286914749741522,\n",
       " 'x5_zinc iodide': 0.2315276702644743,\n",
       " 'x5_zinc oleate': 0.23425417178075778,\n",
       " 'x5_zinc stearate': 0.0,\n",
       " 'x5_zinc undecylenate': 0.0,\n",
       " 'x6_None': 0.07971341977092446,\n",
       " 'x6_copper bromide': 0.0,\n",
       " 'x6_trioctylphosphine': 0.02089854149618379,\n",
       " 'x6_water': 0.0,\n",
       " 'x6_zinc iodide': 0.0}"
      ]
     },
     "execution_count": 25,
     "metadata": {},
     "output_type": "execute_result"
    }
   ],
   "source": [
    "for i in range(0,57):\n",
    "    combined_importance[sorted_e[i][0]] = sorted_e[i][1] + sorted_a[i][1] + sorted_d[i][1]\n",
    "combined_importance\n"
   ]
  },
  {
   "cell_type": "code",
   "execution_count": 26,
   "metadata": {},
   "outputs": [
    {
     "data": {
      "text/plain": [
       "[('time_min', 0.48903831169901046),\n",
       " ('temp_c', 0.45730376781989346),\n",
       " ('x5_zinc oleate', 0.23425417178075778),\n",
       " ('x5_zinc iodide', 0.2315276702644743),\n",
       " ('x2_myristic acid', 0.21233859571756059),\n",
       " ('x4_oleylamine', 0.13271172412583723),\n",
       " ('x2_stearic acid', 0.1255089915689883),\n",
       " ('x5_zinc bromide', 0.11662314762639116),\n",
       " ('total_volume_ml', 0.0902675770408849),\n",
       " ('x6_None', 0.07971341977092446),\n",
       " ('p_amount_mmol', 0.06845190582759886),\n",
       " ('ligand_amount_mmol', 0.06361678535319673),\n",
       " ('in_amount_mmol', 0.061580213336175735),\n",
       " ('x2_None', 0.05888186148209227),\n",
       " ('x0_indium chloride', 0.05258573639600635),\n",
       " ('x3_trioctylphosphine', 0.04884411605908868),\n",
       " ('x1_tris(dimethylamino)phosphine', 0.04842633216441194),\n",
       " ('x4_None', 0.04575027803989695),\n",
       " ('x5_zinc chloride', 0.04286914749741522),\n",
       " ('first_sol_amount_ml', 0.04009748497591291),\n",
       " ('x0_indium iodide', 0.039363925722184896),\n",
       " ('x5_None', 0.03320745735543789),\n",
       " ('x2_oleic acid', 0.029679652401006132),\n",
       " ('x5_superhydride', 0.02910665141622256),\n",
       " ('other_1_amount_mmol', 0.025044213587099542),\n",
       " ('other_2_amount_mmol', 0.02346746155302954),\n",
       " ('x6_trioctylphosphine', 0.02089854149618379),\n",
       " ('x3_trioctylamine', 0.020790342666004297),\n",
       " ('x4_trioctylphosphine', 0.015678009927441686),\n",
       " ('x4_toluene', 0.013565585362537592),\n",
       " ('x2_lauric acid', 0.01343610967501738),\n",
       " ('x3_oleylamine', 0.010676846953894665),\n",
       " ('x1_tris(trimethylsilyl)phosphine', 0.010487551036197898),\n",
       " ('x4_octylamine', 0.0036779663783607155),\n",
       " ('x0_indium acetate', 0.0034752435127407555),\n",
       " ('second_sol_amount_ml', 0.003283801942061781),\n",
       " ('x1_tris(trimethylgermyl)phosphine', 0.0026130397633976087),\n",
       " ('x1_tris(diethylamino)phosphine', 0.0009371781077302261),\n",
       " ('x2_palmitic acid', 0.00021377168810129927),\n",
       " ('x0_indium myristate', 4.542293505294607e-06),\n",
       " ('x0_indium trifluoroacetate', 8.686153263872757e-07),\n",
       " ('x0_indium bromide', 0.0),\n",
       " ('x1_bis(trimethylsilyl)phosphine', 0.0),\n",
       " ('x1_phosphorus trichloride', 0.0),\n",
       " ('x3_dodecylamine', 0.0),\n",
       " ('x3_octadecene', 0.0),\n",
       " ('x4_dioctyl ether', 0.0),\n",
       " ('x4_dioctylamine', 0.0),\n",
       " ('x4_hexadecylamine', 0.0),\n",
       " ('x4_trioctylphosphine oxide', 0.0),\n",
       " ('x5_acetic acid', 0.0),\n",
       " ('x5_tetrabutylammonium myristate', 0.0),\n",
       " ('x5_zinc stearate', 0.0),\n",
       " ('x5_zinc undecylenate', 0.0),\n",
       " ('x6_copper bromide', 0.0),\n",
       " ('x6_water', 0.0),\n",
       " ('x6_zinc iodide', 0.0)]"
      ]
     },
     "execution_count": 26,
     "metadata": {},
     "output_type": "execute_result"
    }
   ],
   "source": [
    "sorted_combined_importance = sorted(combined_importance.items(), key=lambda x: x[1], reverse=True)\n",
    "\n",
    "sorted_combined_importance "
   ]
  },
  {
   "cell_type": "code",
   "execution_count": 27,
   "metadata": {},
   "outputs": [
    {
     "data": {
      "image/png": "[encoded data removed]",
      "text/plain": [
       "<Figure size 1490.4x595.44 with 1 Axes>"
      ]
     },
     "metadata": {},
     "output_type": "display_data"
    }
   ],
   "source": [
    "top7_combined = DataFrame(sorted_combined_importance[0:7], columns=['features', 'importance score'])\n",
    "\n",
    "others_combined = DataFrame(sorted_combined_importance [7:], columns=['features', 'importance score'])\n",
    "\n",
    "import seaborn as sns\n",
    "\n",
    "a4_dims = (20.7, 8.27)\n",
    "fig, ax = plt.subplots(figsize=a4_dims)\n",
    "sns.set_theme(style=\"whitegrid\")\n",
    "\n",
    "ax = sns.barplot(x=\"features\", y=\"importance score\", data=top7_combined)"
   ]
  },
  {
   "cell_type": "code",
   "execution_count": 11,
   "metadata": {},
   "outputs": [],
   "source": [
    "from sklearn.datasets import load_boston\n",
    "import pandas as pd\n",
    "import numpy as np\n",
    "import matplotlib\n",
    "import matplotlib.pyplot as plt\n",
    "import seaborn as sns\n",
    "import statsmodels.api as sm\n",
    "%matplotlib inline\n",
    "from sklearn.model_selection import train_test_split\n",
    "from sklearn.linear_model import LinearRegression\n",
    "from sklearn.feature_selection import RFE\n",
    "from sklearn.linear_model import RidgeCV, LassoCV, Ridge, Lasso"
   ]
  },
  {
   "cell_type": "code",
   "execution_count": 12,
   "metadata": {
    "scrolled": true
   },
   "outputs": [
    {
     "data": {
      "text/html": [
       "<div>\n",
       "<style scoped>\n",
       "    .dataframe tbody tr th:only-of-type {\n",
       "        vertical-align: middle;\n",
       "    }\n",
       "\n",
       "    .dataframe tbody tr th {\n",
       "        vertical-align: top;\n",
       "    }\n",
       "\n",
       "    .dataframe thead th {\n",
       "        text-align: right;\n",
       "    }\n",
       "</style>\n",
       "<table border=\"1\" class=\"dataframe\">\n",
       "  <thead>\n",
       "    <tr style=\"text-align: right;\">\n",
       "      <th></th>\n",
       "      <th>in_amount_mmol</th>\n",
       "      <th>p_amount_mmol</th>\n",
       "      <th>ligand_amount_mmol</th>\n",
       "      <th>first_sol_amount_ml</th>\n",
       "      <th>second_sol_amount_ml</th>\n",
       "      <th>other_1_amount_mmol</th>\n",
       "      <th>other_2_amount_mmol</th>\n",
       "      <th>total_volume_ml</th>\n",
       "      <th>temp_c</th>\n",
       "      <th>time_min</th>\n",
       "      <th>diameter_nm</th>\n",
       "      <th>emission_nm</th>\n",
       "      <th>abs_nm</th>\n",
       "    </tr>\n",
       "  </thead>\n",
       "  <tbody>\n",
       "    <tr>\n",
       "      <th>0</th>\n",
       "      <td>0.713177</td>\n",
       "      <td>0.328895</td>\n",
       "      <td>-0.453863</td>\n",
       "      <td>-0.453709</td>\n",
       "      <td>-0.297521</td>\n",
       "      <td>-0.749374</td>\n",
       "      <td>-0.18627</td>\n",
       "      <td>-0.447720</td>\n",
       "      <td>-0.694687</td>\n",
       "      <td>6.731028</td>\n",
       "      <td>6.7000</td>\n",
       "      <td>680.000000</td>\n",
       "      <td>622</td>\n",
       "    </tr>\n",
       "    <tr>\n",
       "      <th>1</th>\n",
       "      <td>-0.336633</td>\n",
       "      <td>-0.477469</td>\n",
       "      <td>-0.453863</td>\n",
       "      <td>-0.453709</td>\n",
       "      <td>-0.076698</td>\n",
       "      <td>-0.749374</td>\n",
       "      <td>-0.18627</td>\n",
       "      <td>-0.426587</td>\n",
       "      <td>-0.694687</td>\n",
       "      <td>-0.357533</td>\n",
       "      <td>1.5000</td>\n",
       "      <td>568.000000</td>\n",
       "      <td>445</td>\n",
       "    </tr>\n",
       "    <tr>\n",
       "      <th>2</th>\n",
       "      <td>0.713177</td>\n",
       "      <td>0.328895</td>\n",
       "      <td>-0.453863</td>\n",
       "      <td>-0.453709</td>\n",
       "      <td>-0.076698</td>\n",
       "      <td>-0.749374</td>\n",
       "      <td>-0.18627</td>\n",
       "      <td>-0.426587</td>\n",
       "      <td>-0.694687</td>\n",
       "      <td>-0.120118</td>\n",
       "      <td>2.5000</td>\n",
       "      <td>589.000000</td>\n",
       "      <td>543</td>\n",
       "    </tr>\n",
       "    <tr>\n",
       "      <th>3</th>\n",
       "      <td>-0.599085</td>\n",
       "      <td>-0.679060</td>\n",
       "      <td>-0.197558</td>\n",
       "      <td>-0.219170</td>\n",
       "      <td>-0.266618</td>\n",
       "      <td>-0.749374</td>\n",
       "      <td>-0.18627</td>\n",
       "      <td>-0.229122</td>\n",
       "      <td>-1.289515</td>\n",
       "      <td>-0.382971</td>\n",
       "      <td>3.6750</td>\n",
       "      <td>590.944444</td>\n",
       "      <td>431</td>\n",
       "    </tr>\n",
       "    <tr>\n",
       "      <th>4</th>\n",
       "      <td>-0.599085</td>\n",
       "      <td>-0.679060</td>\n",
       "      <td>-0.197558</td>\n",
       "      <td>-0.219170</td>\n",
       "      <td>-0.266618</td>\n",
       "      <td>-0.749374</td>\n",
       "      <td>-0.18627</td>\n",
       "      <td>-0.229122</td>\n",
       "      <td>-1.289515</td>\n",
       "      <td>-0.137076</td>\n",
       "      <td>3.7500</td>\n",
       "      <td>590.944444</td>\n",
       "      <td>432</td>\n",
       "    </tr>\n",
       "    <tr>\n",
       "      <th>...</th>\n",
       "      <td>...</td>\n",
       "      <td>...</td>\n",
       "      <td>...</td>\n",
       "      <td>...</td>\n",
       "      <td>...</td>\n",
       "      <td>...</td>\n",
       "      <td>...</td>\n",
       "      <td>...</td>\n",
       "      <td>...</td>\n",
       "      <td>...</td>\n",
       "      <td>...</td>\n",
       "      <td>...</td>\n",
       "      <td>...</td>\n",
       "    </tr>\n",
       "    <tr>\n",
       "      <th>142</th>\n",
       "      <td>-0.730311</td>\n",
       "      <td>-0.779855</td>\n",
       "      <td>-0.453863</td>\n",
       "      <td>-0.085147</td>\n",
       "      <td>-0.394734</td>\n",
       "      <td>-0.678852</td>\n",
       "      <td>-0.18627</td>\n",
       "      <td>-0.118160</td>\n",
       "      <td>1.897062</td>\n",
       "      <td>-0.221867</td>\n",
       "      <td>2.8015</td>\n",
       "      <td>550.000000</td>\n",
       "      <td>500</td>\n",
       "    </tr>\n",
       "    <tr>\n",
       "      <th>143</th>\n",
       "      <td>-0.717189</td>\n",
       "      <td>-0.779855</td>\n",
       "      <td>-0.344018</td>\n",
       "      <td>-0.185664</td>\n",
       "      <td>-0.394734</td>\n",
       "      <td>-0.749374</td>\n",
       "      <td>-0.18627</td>\n",
       "      <td>-0.210577</td>\n",
       "      <td>1.259747</td>\n",
       "      <td>1.643544</td>\n",
       "      <td>8.3000</td>\n",
       "      <td>590.000000</td>\n",
       "      <td>532</td>\n",
       "    </tr>\n",
       "    <tr>\n",
       "      <th>144</th>\n",
       "      <td>-0.717189</td>\n",
       "      <td>-0.779855</td>\n",
       "      <td>-0.344018</td>\n",
       "      <td>-0.185664</td>\n",
       "      <td>-0.394734</td>\n",
       "      <td>-0.749374</td>\n",
       "      <td>-0.18627</td>\n",
       "      <td>-0.210577</td>\n",
       "      <td>1.259747</td>\n",
       "      <td>0.626047</td>\n",
       "      <td>3.0745</td>\n",
       "      <td>590.944444</td>\n",
       "      <td>549</td>\n",
       "    </tr>\n",
       "    <tr>\n",
       "      <th>145</th>\n",
       "      <td>-0.717189</td>\n",
       "      <td>-0.779855</td>\n",
       "      <td>-0.344018</td>\n",
       "      <td>-0.185664</td>\n",
       "      <td>-0.394734</td>\n",
       "      <td>-0.749374</td>\n",
       "      <td>-0.18627</td>\n",
       "      <td>-0.210577</td>\n",
       "      <td>1.259747</td>\n",
       "      <td>0.117298</td>\n",
       "      <td>3.1795</td>\n",
       "      <td>590.944444</td>\n",
       "      <td>562</td>\n",
       "    </tr>\n",
       "    <tr>\n",
       "      <th>146</th>\n",
       "      <td>-0.717189</td>\n",
       "      <td>-0.779855</td>\n",
       "      <td>-0.344018</td>\n",
       "      <td>-0.185664</td>\n",
       "      <td>-0.394734</td>\n",
       "      <td>-0.749374</td>\n",
       "      <td>-0.18627</td>\n",
       "      <td>-0.210577</td>\n",
       "      <td>1.259747</td>\n",
       "      <td>-0.340575</td>\n",
       "      <td>3.2500</td>\n",
       "      <td>590.944444</td>\n",
       "      <td>570</td>\n",
       "    </tr>\n",
       "  </tbody>\n",
       "</table>\n",
       "<p>147 rows × 13 columns</p>\n",
       "</div>"
      ],
      "text/plain": [
       "     in_amount_mmol  p_amount_mmol  ligand_amount_mmol  first_sol_amount_ml  \\\n",
       "0          0.713177       0.328895           -0.453863            -0.453709   \n",
       "1         -0.336633      -0.477469           -0.453863            -0.453709   \n",
       "2          0.713177       0.328895           -0.453863            -0.453709   \n",
       "3         -0.599085      -0.679060           -0.197558            -0.219170   \n",
       "4         -0.599085      -0.679060           -0.197558            -0.219170   \n",
       "..              ...            ...                 ...                  ...   \n",
       "142       -0.730311      -0.779855           -0.453863            -0.085147   \n",
       "143       -0.717189      -0.779855           -0.344018            -0.185664   \n",
       "144       -0.717189      -0.779855           -0.344018            -0.185664   \n",
       "145       -0.717189      -0.779855           -0.344018            -0.185664   \n",
       "146       -0.717189      -0.779855           -0.344018            -0.185664   \n",
       "\n",
       "     second_sol_amount_ml  other_1_amount_mmol  other_2_amount_mmol  \\\n",
       "0               -0.297521            -0.749374             -0.18627   \n",
       "1               -0.076698            -0.749374             -0.18627   \n",
       "2               -0.076698            -0.749374             -0.18627   \n",
       "3               -0.266618            -0.749374             -0.18627   \n",
       "4               -0.266618            -0.749374             -0.18627   \n",
       "..                    ...                  ...                  ...   \n",
       "142             -0.394734            -0.678852             -0.18627   \n",
       "143             -0.394734            -0.749374             -0.18627   \n",
       "144             -0.394734            -0.749374             -0.18627   \n",
       "145             -0.394734            -0.749374             -0.18627   \n",
       "146             -0.394734            -0.749374             -0.18627   \n",
       "\n",
       "     total_volume_ml    temp_c  time_min  diameter_nm  emission_nm  abs_nm  \n",
       "0          -0.447720 -0.694687  6.731028       6.7000   680.000000     622  \n",
       "1          -0.426587 -0.694687 -0.357533       1.5000   568.000000     445  \n",
       "2          -0.426587 -0.694687 -0.120118       2.5000   589.000000     543  \n",
       "3          -0.229122 -1.289515 -0.382971       3.6750   590.944444     431  \n",
       "4          -0.229122 -1.289515 -0.137076       3.7500   590.944444     432  \n",
       "..               ...       ...       ...          ...          ...     ...  \n",
       "142        -0.118160  1.897062 -0.221867       2.8015   550.000000     500  \n",
       "143        -0.210577  1.259747  1.643544       8.3000   590.000000     532  \n",
       "144        -0.210577  1.259747  0.626047       3.0745   590.944444     549  \n",
       "145        -0.210577  1.259747  0.117298       3.1795   590.944444     562  \n",
       "146        -0.210577  1.259747 -0.340575       3.2500   590.944444     570  \n",
       "\n",
       "[147 rows x 13 columns]"
      ]
     },
     "execution_count": 12,
     "metadata": {},
     "output_type": "execute_result"
    }
   ],
   "source": [
    "FeatureMatrix = ['in_amount_mmol', 'p_amount_mmol', 'ligand_amount_mmol',\n",
    "       'first_sol_amount_ml', 'second_sol_amount_ml', \n",
    "       'other_1_amount_mmol', 'other_2_amount_mmol', 'total_volume_ml',\n",
    "       'temp_c', 'time_min']\n",
    "\n",
    "Output = ['diameter_nm', 'emission_nm', 'abs_nm']\n",
    "\n",
    "FeatureMatrix_and_outputs = ['in_amount_mmol', 'p_amount_mmol', 'ligand_amount_mmol',\n",
    "       'first_sol_amount_ml', 'second_sol_amount_ml', \n",
    "       'other_1_amount_mmol', 'other_2_amount_mmol', 'total_volume_ml',\n",
    "       'temp_c', 'time_min','diameter_nm', 'emission_nm', 'abs_nm']\n",
    "df_corr = df[FeatureMatrix_and_outputs]\n",
    "df_corr"
   ]
  },
  {
   "cell_type": "code",
   "execution_count": 15,
   "metadata": {
    "scrolled": true
   },
   "outputs": [
    {
     "name": "stdout",
     "output_type": "stream",
     "text": [
      "['Arial', 'Arial', 'Times New Roman', 'Verdana', 'Georgia', 'Georgia', 'Courier New', 'Liberation Sans Narrow', 'Arial', 'Trebuchet MS', 'Courier New', 'Liberation Mono', 'Verdana', 'Courier New', 'Liberation Sans', 'Times New Roman', 'Liberation Sans', 'Verdana', 'Impact', 'Arial', 'Courier New', 'Courier New', 'Liberation Sans Narrow', 'Verdana', 'Times New Roman', 'Trebuchet MS', 'Verdana', 'Andale Mono', 'Comic Sans MS', 'DejaVu Sans', 'Comic Sans MS', 'Trebuchet MS', 'Trebuchet MS', 'Georgia', 'Georgia', 'Liberation Sans', 'Trebuchet MS', 'Arial', 'Times New Roman', 'Webdings', 'Arial Black', 'Trebuchet MS', 'Georgia', 'Times New Roman', 'Arial', 'Georgia', 'Andale Mono', 'Liberation Serif', 'Liberation Mono', 'Courier New', 'Liberation Sans Narrow', 'Georgia', 'DejaVu Serif', 'Courier New', 'Arial Black', 'Liberation Mono', 'DejaVu Sans', 'Verdana', 'Verdana', 'Liberation Sans Narrow', 'Courier New', 'Impact', 'Verdana', 'Comic Sans MS', 'Liberation Serif', 'DejaVu Sans Mono', 'DejaVu Serif', 'Webdings', 'Arial', 'Liberation Serif', 'Times New Roman', 'Trebuchet MS', 'Trebuchet MS', 'DejaVu Sans Mono', 'Georgia', 'Liberation Sans', 'Liberation Mono', 'Liberation Serif', 'Comic Sans MS', 'Arial', 'Times New Roman', 'Times New Roman']\n"
     ]
    },
    {
     "name": "stderr",
     "output_type": "stream",
     "text": [
      "<ipython-input-15-246be3048ac0>:3: MatplotlibDeprecationWarning: \n",
      "The createFontList function was deprecated in Matplotlib 3.2 and will be removed two minor releases later. Use FontManager.addfont instead.\n",
      "  font_objects = mpl.font_manager.createFontList(font_paths)\n"
     ]
    }
   ],
   "source": [
    "import matplotlib as mpl\n",
    "font_paths = mpl.font_manager.findSystemFonts()\n",
    "font_objects = mpl.font_manager.createFontList(font_paths)\n",
    "font_names = [f.name for f in font_objects]\n",
    "print(font_names)\n"
   ]
  },
  {
   "cell_type": "code",
   "execution_count": 24,
   "metadata": {},
   "outputs": [],
   "source": [
    "import matplotlib as mpl\n",
    "mpl.rcParams['font.family'] = 'Arial'"
   ]
  },
  {
   "cell_type": "code",
   "execution_count": 25,
   "metadata": {},
   "outputs": [
    {
     "data": {
      "image/png": "[encoded data removed]",
      "text/plain": [
       "<Figure size 864x720 with 2 Axes>"
      ]
     },
     "metadata": {},
     "output_type": "display_data"
    }
   ],
   "source": [
    "\n",
    "X_cor = df[FeatureMatrix]  #Feature Matrix\n",
    "y_cor = df[Output]          #Target Variable\n",
    "\n",
    "#Using Pearson Correlation\n",
    "plt.figure(figsize=(12,10))\n",
    "cor = df_corr.corr()\n",
    "sns.set(font=\"Arial\")\n",
    "sns.heatmap(cor, annot=True, cmap=plt.cm.Reds)\n",
    "\n",
    "plt.show()"
   ]
  },
  {
   "cell_type": "code",
   "execution_count": null,
   "metadata": {},
   "outputs": [],
   "source": []
  },
  {
   "cell_type": "code",
   "execution_count": null,
   "metadata": {},
   "outputs": [],
   "source": []
  }
 ],
 "metadata": {
  "kernelspec": {
   "display_name": "Python 3",
   "language": "python",
   "name": "python3"
  },
  "language_info": {
   "codemirror_mode": {
    "name": "ipython",
    "version": 3
   },
   "file_extension": ".py",
   "mimetype": "text/x-python",
   "name": "python",
   "nbconvert_exporter": "python",
   "pygments_lexer": "ipython3",
   "version": "3.8.5"
  }
 },
 "nbformat": 4,
 "nbformat_minor": 4
}
